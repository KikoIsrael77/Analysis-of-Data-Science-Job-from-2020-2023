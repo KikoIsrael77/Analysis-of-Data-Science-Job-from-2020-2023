{
  "nbformat": 4,
  "nbformat_minor": 0,
  "metadata": {
    "colab": {
      "provenance": []
    },
    "kernelspec": {
      "name": "python3",
      "display_name": "Python 3"
    },
    "language_info": {
      "name": "python"
    }
  },
  "cells": [
    {
      "cell_type": "markdown",
      "source": [
        "Introduction:\n",
        "In the rapidly evolving field of data science, understanding the factors that influence job salaries is crucial for professionals and employers alike. With Python being a popular programming language in the data science community, it offers a powerful toolset for conducting comprehensive analyses. This study focuses on analyzing data science job salaries in 2023 using Python. By examining various factors such as job titles, experience levels, educational qualifications, and geographical locations, we aim to uncover insights into the salary landscape of the data science industry. The findings of this analysis will provide valuable information for both aspiring data scientists and organizations seeking to attract and retain top talent.\n",
        "\n"
      ],
      "metadata": {
        "id": "eWwdwD5FtOau"
      }
    },
    {
      "cell_type": "markdown",
      "source": [
        "Data analysis has emerged as a prominent occupation in the technology industry, contributing significantly to the global economy. The exponential growth of data generation in recent years has led to a demand for professionals skilled in data science. Data science utilizes statistics, mathematics, scientific methods, computer programming, machine learning, deep learning, and other techniques to extract knowledge, uncover insights, and identify patterns from large, unstructured datasets. The expansion of this field has created numerous job opportunities worldwide, making data science one of the most sought-after career paths today. The growth trajectory of this field is expected to continue due to the increasing need for analyzing vast amounts of data. Within data science, there are diverse job titles that exist. To gain insights into these job titles and their corresponding salaries, a dataset comprising 3755 job titles from companies across the globe will be analyzed through a series of question-based analyses. This analysis aims to identify the key factors influencing the relationship between job titles and their associated salaries."
      ],
      "metadata": {
        "id": "NTL0N6xbswED"
      }
    },
    {
      "cell_type": "markdown",
      "source": [
        "Importing Required Libraries"
      ],
      "metadata": {
        "id": "NQHsjUI7uceo"
      }
    },
    {
      "cell_type": "code",
      "source": [
        "import pandas as pd\n",
        "import numpy as np\n",
        "import matplotlib.pyplot as plt\n",
        "import seaborn as sns\n",
        "sns.set_style('whitegrid')\n",
        "import plotly.express as px\n",
        "import plotly.graph_objects as go"
      ],
      "metadata": {
        "id": "qEsjvEyltUxZ"
      },
      "execution_count": null,
      "outputs": []
    },
    {
      "cell_type": "markdown",
      "source": [
        "Loading the Data"
      ],
      "metadata": {
        "id": "E2LhU9rbu_nI"
      }
    },
    {
      "cell_type": "code",
      "source": [
        "df=pd.read_csv('datafield_salaries.csv')\n",
        "df.head()"
      ],
      "metadata": {
        "colab": {
          "base_uri": "https://localhost:8080/",
          "height": 374
        },
        "id": "46_A1uBOvCtN",
        "outputId": "4a1355f5-bb88-4a66-dc27-ce4bbe4b29c1"
      },
      "execution_count": null,
      "outputs": [
        {
          "output_type": "execute_result",
          "data": {
            "text/plain": [
              "   work_year experience_level employment_type                 job_title  \\\n",
              "0       2023               SE              FT  Principal Data Scientist   \n",
              "1       2023               MI              CT               ML Engineer   \n",
              "2       2023               MI              CT               ML Engineer   \n",
              "3       2023               SE              FT            Data Scientist   \n",
              "4       2023               SE              FT            Data Scientist   \n",
              "\n",
              "   salary salary_currency  salary_in_usd employee_residence  remote_ratio  \\\n",
              "0   80000             EUR          85847                 ES           100   \n",
              "1   30000             USD          30000                 US           100   \n",
              "2   25500             USD          25500                 US           100   \n",
              "3  175000             USD         175000                 CA           100   \n",
              "4  120000             USD         120000                 CA           100   \n",
              "\n",
              "  company_location company_size  \n",
              "0               ES            L  \n",
              "1               US            S  \n",
              "2               US            S  \n",
              "3               CA            M  \n",
              "4               CA            M  "
            ],
            "text/html": [
              "\n",
              "  <div id=\"df-e4384d7c-99d2-49ce-a770-a97bf058864b\">\n",
              "    <div class=\"colab-df-container\">\n",
              "      <div>\n",
              "<style scoped>\n",
              "    .dataframe tbody tr th:only-of-type {\n",
              "        vertical-align: middle;\n",
              "    }\n",
              "\n",
              "    .dataframe tbody tr th {\n",
              "        vertical-align: top;\n",
              "    }\n",
              "\n",
              "    .dataframe thead th {\n",
              "        text-align: right;\n",
              "    }\n",
              "</style>\n",
              "<table border=\"1\" class=\"dataframe\">\n",
              "  <thead>\n",
              "    <tr style=\"text-align: right;\">\n",
              "      <th></th>\n",
              "      <th>work_year</th>\n",
              "      <th>experience_level</th>\n",
              "      <th>employment_type</th>\n",
              "      <th>job_title</th>\n",
              "      <th>salary</th>\n",
              "      <th>salary_currency</th>\n",
              "      <th>salary_in_usd</th>\n",
              "      <th>employee_residence</th>\n",
              "      <th>remote_ratio</th>\n",
              "      <th>company_location</th>\n",
              "      <th>company_size</th>\n",
              "    </tr>\n",
              "  </thead>\n",
              "  <tbody>\n",
              "    <tr>\n",
              "      <th>0</th>\n",
              "      <td>2023</td>\n",
              "      <td>SE</td>\n",
              "      <td>FT</td>\n",
              "      <td>Principal Data Scientist</td>\n",
              "      <td>80000</td>\n",
              "      <td>EUR</td>\n",
              "      <td>85847</td>\n",
              "      <td>ES</td>\n",
              "      <td>100</td>\n",
              "      <td>ES</td>\n",
              "      <td>L</td>\n",
              "    </tr>\n",
              "    <tr>\n",
              "      <th>1</th>\n",
              "      <td>2023</td>\n",
              "      <td>MI</td>\n",
              "      <td>CT</td>\n",
              "      <td>ML Engineer</td>\n",
              "      <td>30000</td>\n",
              "      <td>USD</td>\n",
              "      <td>30000</td>\n",
              "      <td>US</td>\n",
              "      <td>100</td>\n",
              "      <td>US</td>\n",
              "      <td>S</td>\n",
              "    </tr>\n",
              "    <tr>\n",
              "      <th>2</th>\n",
              "      <td>2023</td>\n",
              "      <td>MI</td>\n",
              "      <td>CT</td>\n",
              "      <td>ML Engineer</td>\n",
              "      <td>25500</td>\n",
              "      <td>USD</td>\n",
              "      <td>25500</td>\n",
              "      <td>US</td>\n",
              "      <td>100</td>\n",
              "      <td>US</td>\n",
              "      <td>S</td>\n",
              "    </tr>\n",
              "    <tr>\n",
              "      <th>3</th>\n",
              "      <td>2023</td>\n",
              "      <td>SE</td>\n",
              "      <td>FT</td>\n",
              "      <td>Data Scientist</td>\n",
              "      <td>175000</td>\n",
              "      <td>USD</td>\n",
              "      <td>175000</td>\n",
              "      <td>CA</td>\n",
              "      <td>100</td>\n",
              "      <td>CA</td>\n",
              "      <td>M</td>\n",
              "    </tr>\n",
              "    <tr>\n",
              "      <th>4</th>\n",
              "      <td>2023</td>\n",
              "      <td>SE</td>\n",
              "      <td>FT</td>\n",
              "      <td>Data Scientist</td>\n",
              "      <td>120000</td>\n",
              "      <td>USD</td>\n",
              "      <td>120000</td>\n",
              "      <td>CA</td>\n",
              "      <td>100</td>\n",
              "      <td>CA</td>\n",
              "      <td>M</td>\n",
              "    </tr>\n",
              "  </tbody>\n",
              "</table>\n",
              "</div>\n",
              "      <button class=\"colab-df-convert\" onclick=\"convertToInteractive('df-e4384d7c-99d2-49ce-a770-a97bf058864b')\"\n",
              "              title=\"Convert this dataframe to an interactive table.\"\n",
              "              style=\"display:none;\">\n",
              "        \n",
              "  <svg xmlns=\"http://www.w3.org/2000/svg\" height=\"24px\"viewBox=\"0 0 24 24\"\n",
              "       width=\"24px\">\n",
              "    <path d=\"M0 0h24v24H0V0z\" fill=\"none\"/>\n",
              "    <path d=\"M18.56 5.44l.94 2.06.94-2.06 2.06-.94-2.06-.94-.94-2.06-.94 2.06-2.06.94zm-11 1L8.5 8.5l.94-2.06 2.06-.94-2.06-.94L8.5 2.5l-.94 2.06-2.06.94zm10 10l.94 2.06.94-2.06 2.06-.94-2.06-.94-.94-2.06-.94 2.06-2.06.94z\"/><path d=\"M17.41 7.96l-1.37-1.37c-.4-.4-.92-.59-1.43-.59-.52 0-1.04.2-1.43.59L10.3 9.45l-7.72 7.72c-.78.78-.78 2.05 0 2.83L4 21.41c.39.39.9.59 1.41.59.51 0 1.02-.2 1.41-.59l7.78-7.78 2.81-2.81c.8-.78.8-2.07 0-2.86zM5.41 20L4 18.59l7.72-7.72 1.47 1.35L5.41 20z\"/>\n",
              "  </svg>\n",
              "      </button>\n",
              "      \n",
              "  <style>\n",
              "    .colab-df-container {\n",
              "      display:flex;\n",
              "      flex-wrap:wrap;\n",
              "      gap: 12px;\n",
              "    }\n",
              "\n",
              "    .colab-df-convert {\n",
              "      background-color: #E8F0FE;\n",
              "      border: none;\n",
              "      border-radius: 50%;\n",
              "      cursor: pointer;\n",
              "      display: none;\n",
              "      fill: #1967D2;\n",
              "      height: 32px;\n",
              "      padding: 0 0 0 0;\n",
              "      width: 32px;\n",
              "    }\n",
              "\n",
              "    .colab-df-convert:hover {\n",
              "      background-color: #E2EBFA;\n",
              "      box-shadow: 0px 1px 2px rgba(60, 64, 67, 0.3), 0px 1px 3px 1px rgba(60, 64, 67, 0.15);\n",
              "      fill: #174EA6;\n",
              "    }\n",
              "\n",
              "    [theme=dark] .colab-df-convert {\n",
              "      background-color: #3B4455;\n",
              "      fill: #D2E3FC;\n",
              "    }\n",
              "\n",
              "    [theme=dark] .colab-df-convert:hover {\n",
              "      background-color: #434B5C;\n",
              "      box-shadow: 0px 1px 3px 1px rgba(0, 0, 0, 0.15);\n",
              "      filter: drop-shadow(0px 1px 2px rgba(0, 0, 0, 0.3));\n",
              "      fill: #FFFFFF;\n",
              "    }\n",
              "  </style>\n",
              "\n",
              "      <script>\n",
              "        const buttonEl =\n",
              "          document.querySelector('#df-e4384d7c-99d2-49ce-a770-a97bf058864b button.colab-df-convert');\n",
              "        buttonEl.style.display =\n",
              "          google.colab.kernel.accessAllowed ? 'block' : 'none';\n",
              "\n",
              "        async function convertToInteractive(key) {\n",
              "          const element = document.querySelector('#df-e4384d7c-99d2-49ce-a770-a97bf058864b');\n",
              "          const dataTable =\n",
              "            await google.colab.kernel.invokeFunction('convertToInteractive',\n",
              "                                                     [key], {});\n",
              "          if (!dataTable) return;\n",
              "\n",
              "          const docLinkHtml = 'Like what you see? Visit the ' +\n",
              "            '<a target=\"_blank\" href=https://colab.research.google.com/notebooks/data_table.ipynb>data table notebook</a>'\n",
              "            + ' to learn more about interactive tables.';\n",
              "          element.innerHTML = '';\n",
              "          dataTable['output_type'] = 'display_data';\n",
              "          await google.colab.output.renderOutput(dataTable, element);\n",
              "          const docLink = document.createElement('div');\n",
              "          docLink.innerHTML = docLinkHtml;\n",
              "          element.appendChild(docLink);\n",
              "        }\n",
              "      </script>\n",
              "    </div>\n",
              "  </div>\n",
              "  "
            ]
          },
          "metadata": {},
          "execution_count": 191
        }
      ]
    },
    {
      "cell_type": "code",
      "source": [
        "# Shape of the dataset i.e. No of rows and columns\n",
        "df.shape\n"
      ],
      "metadata": {
        "colab": {
          "base_uri": "https://localhost:8080/"
        },
        "id": "VCncBr2AvarC",
        "outputId": "6230b1b7-4229-4fd7-807c-bd4bdd6f7238"
      },
      "execution_count": null,
      "outputs": [
        {
          "output_type": "execute_result",
          "data": {
            "text/plain": [
              "(3755, 11)"
            ]
          },
          "metadata": {},
          "execution_count": 192
        }
      ]
    },
    {
      "cell_type": "code",
      "source": [
        "# General detailed information of the dataset\n",
        "df.info()"
      ],
      "metadata": {
        "colab": {
          "base_uri": "https://localhost:8080/"
        },
        "id": "vHuE_AgTvfkp",
        "outputId": "ef225cae-c478-485f-f1ab-1473b32de9d5"
      },
      "execution_count": null,
      "outputs": [
        {
          "output_type": "stream",
          "name": "stdout",
          "text": [
            "<class 'pandas.core.frame.DataFrame'>\n",
            "RangeIndex: 3755 entries, 0 to 3754\n",
            "Data columns (total 11 columns):\n",
            " #   Column              Non-Null Count  Dtype \n",
            "---  ------              --------------  ----- \n",
            " 0   work_year           3755 non-null   int64 \n",
            " 1   experience_level    3755 non-null   object\n",
            " 2   employment_type     3755 non-null   object\n",
            " 3   job_title           3755 non-null   object\n",
            " 4   salary              3755 non-null   int64 \n",
            " 5   salary_currency     3755 non-null   object\n",
            " 6   salary_in_usd       3755 non-null   int64 \n",
            " 7   employee_residence  3755 non-null   object\n",
            " 8   remote_ratio        3755 non-null   int64 \n",
            " 9   company_location    3755 non-null   object\n",
            " 10  company_size        3755 non-null   object\n",
            "dtypes: int64(4), object(7)\n",
            "memory usage: 322.8+ KB\n"
          ]
        }
      ]
    },
    {
      "cell_type": "code",
      "source": [
        "# Statistical Information,description of the Numeric Attributes\n",
        "df.describe()"
      ],
      "metadata": {
        "colab": {
          "base_uri": "https://localhost:8080/",
          "height": 300
        },
        "id": "GdkrvOkqvnT2",
        "outputId": "3cb4f684-00ac-4de2-bc32-6868de547b63"
      },
      "execution_count": null,
      "outputs": [
        {
          "output_type": "execute_result",
          "data": {
            "text/plain": [
              "         work_year        salary  salary_in_usd  remote_ratio\n",
              "count  3755.000000  3.755000e+03    3755.000000   3755.000000\n",
              "mean   2022.373635  1.906956e+05  137570.389880     46.271638\n",
              "std       0.691448  6.716765e+05   63055.625278     48.589050\n",
              "min    2020.000000  6.000000e+03    5132.000000      0.000000\n",
              "25%    2022.000000  1.000000e+05   95000.000000      0.000000\n",
              "50%    2022.000000  1.380000e+05  135000.000000      0.000000\n",
              "75%    2023.000000  1.800000e+05  175000.000000    100.000000\n",
              "max    2023.000000  3.040000e+07  450000.000000    100.000000"
            ],
            "text/html": [
              "\n",
              "  <div id=\"df-1e3ecb15-f7c5-4a3c-bca4-2f1d8fad2879\">\n",
              "    <div class=\"colab-df-container\">\n",
              "      <div>\n",
              "<style scoped>\n",
              "    .dataframe tbody tr th:only-of-type {\n",
              "        vertical-align: middle;\n",
              "    }\n",
              "\n",
              "    .dataframe tbody tr th {\n",
              "        vertical-align: top;\n",
              "    }\n",
              "\n",
              "    .dataframe thead th {\n",
              "        text-align: right;\n",
              "    }\n",
              "</style>\n",
              "<table border=\"1\" class=\"dataframe\">\n",
              "  <thead>\n",
              "    <tr style=\"text-align: right;\">\n",
              "      <th></th>\n",
              "      <th>work_year</th>\n",
              "      <th>salary</th>\n",
              "      <th>salary_in_usd</th>\n",
              "      <th>remote_ratio</th>\n",
              "    </tr>\n",
              "  </thead>\n",
              "  <tbody>\n",
              "    <tr>\n",
              "      <th>count</th>\n",
              "      <td>3755.000000</td>\n",
              "      <td>3.755000e+03</td>\n",
              "      <td>3755.000000</td>\n",
              "      <td>3755.000000</td>\n",
              "    </tr>\n",
              "    <tr>\n",
              "      <th>mean</th>\n",
              "      <td>2022.373635</td>\n",
              "      <td>1.906956e+05</td>\n",
              "      <td>137570.389880</td>\n",
              "      <td>46.271638</td>\n",
              "    </tr>\n",
              "    <tr>\n",
              "      <th>std</th>\n",
              "      <td>0.691448</td>\n",
              "      <td>6.716765e+05</td>\n",
              "      <td>63055.625278</td>\n",
              "      <td>48.589050</td>\n",
              "    </tr>\n",
              "    <tr>\n",
              "      <th>min</th>\n",
              "      <td>2020.000000</td>\n",
              "      <td>6.000000e+03</td>\n",
              "      <td>5132.000000</td>\n",
              "      <td>0.000000</td>\n",
              "    </tr>\n",
              "    <tr>\n",
              "      <th>25%</th>\n",
              "      <td>2022.000000</td>\n",
              "      <td>1.000000e+05</td>\n",
              "      <td>95000.000000</td>\n",
              "      <td>0.000000</td>\n",
              "    </tr>\n",
              "    <tr>\n",
              "      <th>50%</th>\n",
              "      <td>2022.000000</td>\n",
              "      <td>1.380000e+05</td>\n",
              "      <td>135000.000000</td>\n",
              "      <td>0.000000</td>\n",
              "    </tr>\n",
              "    <tr>\n",
              "      <th>75%</th>\n",
              "      <td>2023.000000</td>\n",
              "      <td>1.800000e+05</td>\n",
              "      <td>175000.000000</td>\n",
              "      <td>100.000000</td>\n",
              "    </tr>\n",
              "    <tr>\n",
              "      <th>max</th>\n",
              "      <td>2023.000000</td>\n",
              "      <td>3.040000e+07</td>\n",
              "      <td>450000.000000</td>\n",
              "      <td>100.000000</td>\n",
              "    </tr>\n",
              "  </tbody>\n",
              "</table>\n",
              "</div>\n",
              "      <button class=\"colab-df-convert\" onclick=\"convertToInteractive('df-1e3ecb15-f7c5-4a3c-bca4-2f1d8fad2879')\"\n",
              "              title=\"Convert this dataframe to an interactive table.\"\n",
              "              style=\"display:none;\">\n",
              "        \n",
              "  <svg xmlns=\"http://www.w3.org/2000/svg\" height=\"24px\"viewBox=\"0 0 24 24\"\n",
              "       width=\"24px\">\n",
              "    <path d=\"M0 0h24v24H0V0z\" fill=\"none\"/>\n",
              "    <path d=\"M18.56 5.44l.94 2.06.94-2.06 2.06-.94-2.06-.94-.94-2.06-.94 2.06-2.06.94zm-11 1L8.5 8.5l.94-2.06 2.06-.94-2.06-.94L8.5 2.5l-.94 2.06-2.06.94zm10 10l.94 2.06.94-2.06 2.06-.94-2.06-.94-.94-2.06-.94 2.06-2.06.94z\"/><path d=\"M17.41 7.96l-1.37-1.37c-.4-.4-.92-.59-1.43-.59-.52 0-1.04.2-1.43.59L10.3 9.45l-7.72 7.72c-.78.78-.78 2.05 0 2.83L4 21.41c.39.39.9.59 1.41.59.51 0 1.02-.2 1.41-.59l7.78-7.78 2.81-2.81c.8-.78.8-2.07 0-2.86zM5.41 20L4 18.59l7.72-7.72 1.47 1.35L5.41 20z\"/>\n",
              "  </svg>\n",
              "      </button>\n",
              "      \n",
              "  <style>\n",
              "    .colab-df-container {\n",
              "      display:flex;\n",
              "      flex-wrap:wrap;\n",
              "      gap: 12px;\n",
              "    }\n",
              "\n",
              "    .colab-df-convert {\n",
              "      background-color: #E8F0FE;\n",
              "      border: none;\n",
              "      border-radius: 50%;\n",
              "      cursor: pointer;\n",
              "      display: none;\n",
              "      fill: #1967D2;\n",
              "      height: 32px;\n",
              "      padding: 0 0 0 0;\n",
              "      width: 32px;\n",
              "    }\n",
              "\n",
              "    .colab-df-convert:hover {\n",
              "      background-color: #E2EBFA;\n",
              "      box-shadow: 0px 1px 2px rgba(60, 64, 67, 0.3), 0px 1px 3px 1px rgba(60, 64, 67, 0.15);\n",
              "      fill: #174EA6;\n",
              "    }\n",
              "\n",
              "    [theme=dark] .colab-df-convert {\n",
              "      background-color: #3B4455;\n",
              "      fill: #D2E3FC;\n",
              "    }\n",
              "\n",
              "    [theme=dark] .colab-df-convert:hover {\n",
              "      background-color: #434B5C;\n",
              "      box-shadow: 0px 1px 3px 1px rgba(0, 0, 0, 0.15);\n",
              "      filter: drop-shadow(0px 1px 2px rgba(0, 0, 0, 0.3));\n",
              "      fill: #FFFFFF;\n",
              "    }\n",
              "  </style>\n",
              "\n",
              "      <script>\n",
              "        const buttonEl =\n",
              "          document.querySelector('#df-1e3ecb15-f7c5-4a3c-bca4-2f1d8fad2879 button.colab-df-convert');\n",
              "        buttonEl.style.display =\n",
              "          google.colab.kernel.accessAllowed ? 'block' : 'none';\n",
              "\n",
              "        async function convertToInteractive(key) {\n",
              "          const element = document.querySelector('#df-1e3ecb15-f7c5-4a3c-bca4-2f1d8fad2879');\n",
              "          const dataTable =\n",
              "            await google.colab.kernel.invokeFunction('convertToInteractive',\n",
              "                                                     [key], {});\n",
              "          if (!dataTable) return;\n",
              "\n",
              "          const docLinkHtml = 'Like what you see? Visit the ' +\n",
              "            '<a target=\"_blank\" href=https://colab.research.google.com/notebooks/data_table.ipynb>data table notebook</a>'\n",
              "            + ' to learn more about interactive tables.';\n",
              "          element.innerHTML = '';\n",
              "          dataTable['output_type'] = 'display_data';\n",
              "          await google.colab.output.renderOutput(dataTable, element);\n",
              "          const docLink = document.createElement('div');\n",
              "          docLink.innerHTML = docLinkHtml;\n",
              "          element.appendChild(docLink);\n",
              "        }\n",
              "      </script>\n",
              "    </div>\n",
              "  </div>\n",
              "  "
            ]
          },
          "metadata": {},
          "execution_count": 194
        }
      ]
    },
    {
      "cell_type": "code",
      "source": [
        "# Statistical Information of the Categorical Attributes\n",
        "df.describe(include=['O'])"
      ],
      "metadata": {
        "id": "Ryv9_mHov4II",
        "colab": {
          "base_uri": "https://localhost:8080/",
          "height": 175
        },
        "outputId": "25e1a87b-0c07-4112-978c-baf4a166d240"
      },
      "execution_count": null,
      "outputs": [
        {
          "output_type": "execute_result",
          "data": {
            "text/plain": [
              "       experience_level employment_type      job_title salary_currency  \\\n",
              "count              3755            3755           3755            3755   \n",
              "unique                4               4             93              20   \n",
              "top                  SE              FT  Data Engineer             USD   \n",
              "freq               2516            3718           1040            3224   \n",
              "\n",
              "       employee_residence company_location company_size  \n",
              "count                3755             3755         3755  \n",
              "unique                 78               72            3  \n",
              "top                    US               US            M  \n",
              "freq                 3004             3040         3153  "
            ],
            "text/html": [
              "\n",
              "  <div id=\"df-3947c4ab-cb96-45eb-9792-423302a4c5ac\">\n",
              "    <div class=\"colab-df-container\">\n",
              "      <div>\n",
              "<style scoped>\n",
              "    .dataframe tbody tr th:only-of-type {\n",
              "        vertical-align: middle;\n",
              "    }\n",
              "\n",
              "    .dataframe tbody tr th {\n",
              "        vertical-align: top;\n",
              "    }\n",
              "\n",
              "    .dataframe thead th {\n",
              "        text-align: right;\n",
              "    }\n",
              "</style>\n",
              "<table border=\"1\" class=\"dataframe\">\n",
              "  <thead>\n",
              "    <tr style=\"text-align: right;\">\n",
              "      <th></th>\n",
              "      <th>experience_level</th>\n",
              "      <th>employment_type</th>\n",
              "      <th>job_title</th>\n",
              "      <th>salary_currency</th>\n",
              "      <th>employee_residence</th>\n",
              "      <th>company_location</th>\n",
              "      <th>company_size</th>\n",
              "    </tr>\n",
              "  </thead>\n",
              "  <tbody>\n",
              "    <tr>\n",
              "      <th>count</th>\n",
              "      <td>3755</td>\n",
              "      <td>3755</td>\n",
              "      <td>3755</td>\n",
              "      <td>3755</td>\n",
              "      <td>3755</td>\n",
              "      <td>3755</td>\n",
              "      <td>3755</td>\n",
              "    </tr>\n",
              "    <tr>\n",
              "      <th>unique</th>\n",
              "      <td>4</td>\n",
              "      <td>4</td>\n",
              "      <td>93</td>\n",
              "      <td>20</td>\n",
              "      <td>78</td>\n",
              "      <td>72</td>\n",
              "      <td>3</td>\n",
              "    </tr>\n",
              "    <tr>\n",
              "      <th>top</th>\n",
              "      <td>SE</td>\n",
              "      <td>FT</td>\n",
              "      <td>Data Engineer</td>\n",
              "      <td>USD</td>\n",
              "      <td>US</td>\n",
              "      <td>US</td>\n",
              "      <td>M</td>\n",
              "    </tr>\n",
              "    <tr>\n",
              "      <th>freq</th>\n",
              "      <td>2516</td>\n",
              "      <td>3718</td>\n",
              "      <td>1040</td>\n",
              "      <td>3224</td>\n",
              "      <td>3004</td>\n",
              "      <td>3040</td>\n",
              "      <td>3153</td>\n",
              "    </tr>\n",
              "  </tbody>\n",
              "</table>\n",
              "</div>\n",
              "      <button class=\"colab-df-convert\" onclick=\"convertToInteractive('df-3947c4ab-cb96-45eb-9792-423302a4c5ac')\"\n",
              "              title=\"Convert this dataframe to an interactive table.\"\n",
              "              style=\"display:none;\">\n",
              "        \n",
              "  <svg xmlns=\"http://www.w3.org/2000/svg\" height=\"24px\"viewBox=\"0 0 24 24\"\n",
              "       width=\"24px\">\n",
              "    <path d=\"M0 0h24v24H0V0z\" fill=\"none\"/>\n",
              "    <path d=\"M18.56 5.44l.94 2.06.94-2.06 2.06-.94-2.06-.94-.94-2.06-.94 2.06-2.06.94zm-11 1L8.5 8.5l.94-2.06 2.06-.94-2.06-.94L8.5 2.5l-.94 2.06-2.06.94zm10 10l.94 2.06.94-2.06 2.06-.94-2.06-.94-.94-2.06-.94 2.06-2.06.94z\"/><path d=\"M17.41 7.96l-1.37-1.37c-.4-.4-.92-.59-1.43-.59-.52 0-1.04.2-1.43.59L10.3 9.45l-7.72 7.72c-.78.78-.78 2.05 0 2.83L4 21.41c.39.39.9.59 1.41.59.51 0 1.02-.2 1.41-.59l7.78-7.78 2.81-2.81c.8-.78.8-2.07 0-2.86zM5.41 20L4 18.59l7.72-7.72 1.47 1.35L5.41 20z\"/>\n",
              "  </svg>\n",
              "      </button>\n",
              "      \n",
              "  <style>\n",
              "    .colab-df-container {\n",
              "      display:flex;\n",
              "      flex-wrap:wrap;\n",
              "      gap: 12px;\n",
              "    }\n",
              "\n",
              "    .colab-df-convert {\n",
              "      background-color: #E8F0FE;\n",
              "      border: none;\n",
              "      border-radius: 50%;\n",
              "      cursor: pointer;\n",
              "      display: none;\n",
              "      fill: #1967D2;\n",
              "      height: 32px;\n",
              "      padding: 0 0 0 0;\n",
              "      width: 32px;\n",
              "    }\n",
              "\n",
              "    .colab-df-convert:hover {\n",
              "      background-color: #E2EBFA;\n",
              "      box-shadow: 0px 1px 2px rgba(60, 64, 67, 0.3), 0px 1px 3px 1px rgba(60, 64, 67, 0.15);\n",
              "      fill: #174EA6;\n",
              "    }\n",
              "\n",
              "    [theme=dark] .colab-df-convert {\n",
              "      background-color: #3B4455;\n",
              "      fill: #D2E3FC;\n",
              "    }\n",
              "\n",
              "    [theme=dark] .colab-df-convert:hover {\n",
              "      background-color: #434B5C;\n",
              "      box-shadow: 0px 1px 3px 1px rgba(0, 0, 0, 0.15);\n",
              "      filter: drop-shadow(0px 1px 2px rgba(0, 0, 0, 0.3));\n",
              "      fill: #FFFFFF;\n",
              "    }\n",
              "  </style>\n",
              "\n",
              "      <script>\n",
              "        const buttonEl =\n",
              "          document.querySelector('#df-3947c4ab-cb96-45eb-9792-423302a4c5ac button.colab-df-convert');\n",
              "        buttonEl.style.display =\n",
              "          google.colab.kernel.accessAllowed ? 'block' : 'none';\n",
              "\n",
              "        async function convertToInteractive(key) {\n",
              "          const element = document.querySelector('#df-3947c4ab-cb96-45eb-9792-423302a4c5ac');\n",
              "          const dataTable =\n",
              "            await google.colab.kernel.invokeFunction('convertToInteractive',\n",
              "                                                     [key], {});\n",
              "          if (!dataTable) return;\n",
              "\n",
              "          const docLinkHtml = 'Like what you see? Visit the ' +\n",
              "            '<a target=\"_blank\" href=https://colab.research.google.com/notebooks/data_table.ipynb>data table notebook</a>'\n",
              "            + ' to learn more about interactive tables.';\n",
              "          element.innerHTML = '';\n",
              "          dataTable['output_type'] = 'display_data';\n",
              "          await google.colab.output.renderOutput(dataTable, element);\n",
              "          const docLink = document.createElement('div');\n",
              "          docLink.innerHTML = docLinkHtml;\n",
              "          element.appendChild(docLink);\n",
              "        }\n",
              "      </script>\n",
              "    </div>\n",
              "  </div>\n",
              "  "
            ]
          },
          "metadata": {},
          "execution_count": 195
        }
      ]
    },
    {
      "cell_type": "code",
      "source": [
        "# Checking for the missing values\n",
        "df.isna().sum()"
      ],
      "metadata": {
        "id": "UFDoqhMR1FPV",
        "colab": {
          "base_uri": "https://localhost:8080/"
        },
        "outputId": "8578ca47-6a80-4664-cd90-92df95e6f6ce"
      },
      "execution_count": null,
      "outputs": [
        {
          "output_type": "execute_result",
          "data": {
            "text/plain": [
              "work_year             0\n",
              "experience_level      0\n",
              "employment_type       0\n",
              "job_title             0\n",
              "salary                0\n",
              "salary_currency       0\n",
              "salary_in_usd         0\n",
              "employee_residence    0\n",
              "remote_ratio          0\n",
              "company_location      0\n",
              "company_size          0\n",
              "dtype: int64"
            ]
          },
          "metadata": {},
          "execution_count": 196
        }
      ]
    },
    {
      "cell_type": "markdown",
      "source": [
        "**Data Manipulation and Feature Engineering**\n"
      ],
      "metadata": {
        "id": "Rleuus7q1cV1"
      }
    },
    {
      "cell_type": "markdown",
      "source": [
        "Converting Country Codes (ISO3)\n",
        "As part of our analysis of data science job salaries in 2023, we may need to convert country codes to the ISO3 format. The ISO3 format is a standardized three-letter country code system used to represent countries globally. This conversion allows for consistency and ease of analysis when dealing with country-related data.\n",
        "\n",
        "To convert country codes to ISO3 format, we can utilize various methods. One common approach is to use a library or dataset that maps country codes to their corresponding ISO3 codes. This mapping can be done by matching the country codes from our dataset with the ISO3 codes provided in the library or dataset.\n",
        "\n",
        "By performing this conversion, we can ensure uniformity in the representation of country"
      ],
      "metadata": {
        "id": "Knjo5mBV1fVj"
      }
    },
    {
      "cell_type": "code",
      "source": [
        "! pip install country_converter"
      ],
      "metadata": {
        "colab": {
          "base_uri": "https://localhost:8080/"
        },
        "id": "UhWWk7hP112O",
        "outputId": "bc5f16bd-4dd9-4ce4-8a6e-4e6835c9f331"
      },
      "execution_count": null,
      "outputs": [
        {
          "output_type": "stream",
          "name": "stdout",
          "text": [
            "Looking in indexes: https://pypi.org/simple, https://us-python.pkg.dev/colab-wheels/public/simple/\n",
            "Requirement already satisfied: country_converter in /usr/local/lib/python3.10/dist-packages (1.0.0)\n",
            "Requirement already satisfied: pandas>=1.0 in /usr/local/lib/python3.10/dist-packages (from country_converter) (1.5.3)\n",
            "Requirement already satisfied: python-dateutil>=2.8.1 in /usr/local/lib/python3.10/dist-packages (from pandas>=1.0->country_converter) (2.8.2)\n",
            "Requirement already satisfied: pytz>=2020.1 in /usr/local/lib/python3.10/dist-packages (from pandas>=1.0->country_converter) (2022.7.1)\n",
            "Requirement already satisfied: numpy>=1.21.0 in /usr/local/lib/python3.10/dist-packages (from pandas>=1.0->country_converter) (1.22.4)\n",
            "Requirement already satisfied: six>=1.5 in /usr/local/lib/python3.10/dist-packages (from python-dateutil>=2.8.1->pandas>=1.0->country_converter) (1.16.0)\n"
          ]
        }
      ]
    },
    {
      "cell_type": "code",
      "source": [
        "# Converting country codes of employee_residence column\n",
        "import country_converter as coco\n",
        "df['employee_residence'] = coco.convert(names=df['employee_residence'])\n",
        "df.head()"
      ],
      "metadata": {
        "colab": {
          "base_uri": "https://localhost:8080/",
          "height": 374
        },
        "id": "MCiw9ZWv2GQM",
        "outputId": "6c2a8123-cedf-41dc-ad22-1b19639e11de"
      },
      "execution_count": null,
      "outputs": [
        {
          "output_type": "execute_result",
          "data": {
            "text/plain": [
              "   work_year experience_level employment_type                 job_title  \\\n",
              "0       2023               SE              FT  Principal Data Scientist   \n",
              "1       2023               MI              CT               ML Engineer   \n",
              "2       2023               MI              CT               ML Engineer   \n",
              "3       2023               SE              FT            Data Scientist   \n",
              "4       2023               SE              FT            Data Scientist   \n",
              "\n",
              "   salary salary_currency  salary_in_usd employee_residence  remote_ratio  \\\n",
              "0   80000             EUR          85847                ESP           100   \n",
              "1   30000             USD          30000                USA           100   \n",
              "2   25500             USD          25500                USA           100   \n",
              "3  175000             USD         175000                CAN           100   \n",
              "4  120000             USD         120000                CAN           100   \n",
              "\n",
              "  company_location company_size  \n",
              "0               ES            L  \n",
              "1               US            S  \n",
              "2               US            S  \n",
              "3               CA            M  \n",
              "4               CA            M  "
            ],
            "text/html": [
              "\n",
              "  <div id=\"df-b169083d-688b-4cdb-8fcb-652e49b11e78\">\n",
              "    <div class=\"colab-df-container\">\n",
              "      <div>\n",
              "<style scoped>\n",
              "    .dataframe tbody tr th:only-of-type {\n",
              "        vertical-align: middle;\n",
              "    }\n",
              "\n",
              "    .dataframe tbody tr th {\n",
              "        vertical-align: top;\n",
              "    }\n",
              "\n",
              "    .dataframe thead th {\n",
              "        text-align: right;\n",
              "    }\n",
              "</style>\n",
              "<table border=\"1\" class=\"dataframe\">\n",
              "  <thead>\n",
              "    <tr style=\"text-align: right;\">\n",
              "      <th></th>\n",
              "      <th>work_year</th>\n",
              "      <th>experience_level</th>\n",
              "      <th>employment_type</th>\n",
              "      <th>job_title</th>\n",
              "      <th>salary</th>\n",
              "      <th>salary_currency</th>\n",
              "      <th>salary_in_usd</th>\n",
              "      <th>employee_residence</th>\n",
              "      <th>remote_ratio</th>\n",
              "      <th>company_location</th>\n",
              "      <th>company_size</th>\n",
              "    </tr>\n",
              "  </thead>\n",
              "  <tbody>\n",
              "    <tr>\n",
              "      <th>0</th>\n",
              "      <td>2023</td>\n",
              "      <td>SE</td>\n",
              "      <td>FT</td>\n",
              "      <td>Principal Data Scientist</td>\n",
              "      <td>80000</td>\n",
              "      <td>EUR</td>\n",
              "      <td>85847</td>\n",
              "      <td>ESP</td>\n",
              "      <td>100</td>\n",
              "      <td>ES</td>\n",
              "      <td>L</td>\n",
              "    </tr>\n",
              "    <tr>\n",
              "      <th>1</th>\n",
              "      <td>2023</td>\n",
              "      <td>MI</td>\n",
              "      <td>CT</td>\n",
              "      <td>ML Engineer</td>\n",
              "      <td>30000</td>\n",
              "      <td>USD</td>\n",
              "      <td>30000</td>\n",
              "      <td>USA</td>\n",
              "      <td>100</td>\n",
              "      <td>US</td>\n",
              "      <td>S</td>\n",
              "    </tr>\n",
              "    <tr>\n",
              "      <th>2</th>\n",
              "      <td>2023</td>\n",
              "      <td>MI</td>\n",
              "      <td>CT</td>\n",
              "      <td>ML Engineer</td>\n",
              "      <td>25500</td>\n",
              "      <td>USD</td>\n",
              "      <td>25500</td>\n",
              "      <td>USA</td>\n",
              "      <td>100</td>\n",
              "      <td>US</td>\n",
              "      <td>S</td>\n",
              "    </tr>\n",
              "    <tr>\n",
              "      <th>3</th>\n",
              "      <td>2023</td>\n",
              "      <td>SE</td>\n",
              "      <td>FT</td>\n",
              "      <td>Data Scientist</td>\n",
              "      <td>175000</td>\n",
              "      <td>USD</td>\n",
              "      <td>175000</td>\n",
              "      <td>CAN</td>\n",
              "      <td>100</td>\n",
              "      <td>CA</td>\n",
              "      <td>M</td>\n",
              "    </tr>\n",
              "    <tr>\n",
              "      <th>4</th>\n",
              "      <td>2023</td>\n",
              "      <td>SE</td>\n",
              "      <td>FT</td>\n",
              "      <td>Data Scientist</td>\n",
              "      <td>120000</td>\n",
              "      <td>USD</td>\n",
              "      <td>120000</td>\n",
              "      <td>CAN</td>\n",
              "      <td>100</td>\n",
              "      <td>CA</td>\n",
              "      <td>M</td>\n",
              "    </tr>\n",
              "  </tbody>\n",
              "</table>\n",
              "</div>\n",
              "      <button class=\"colab-df-convert\" onclick=\"convertToInteractive('df-b169083d-688b-4cdb-8fcb-652e49b11e78')\"\n",
              "              title=\"Convert this dataframe to an interactive table.\"\n",
              "              style=\"display:none;\">\n",
              "        \n",
              "  <svg xmlns=\"http://www.w3.org/2000/svg\" height=\"24px\"viewBox=\"0 0 24 24\"\n",
              "       width=\"24px\">\n",
              "    <path d=\"M0 0h24v24H0V0z\" fill=\"none\"/>\n",
              "    <path d=\"M18.56 5.44l.94 2.06.94-2.06 2.06-.94-2.06-.94-.94-2.06-.94 2.06-2.06.94zm-11 1L8.5 8.5l.94-2.06 2.06-.94-2.06-.94L8.5 2.5l-.94 2.06-2.06.94zm10 10l.94 2.06.94-2.06 2.06-.94-2.06-.94-.94-2.06-.94 2.06-2.06.94z\"/><path d=\"M17.41 7.96l-1.37-1.37c-.4-.4-.92-.59-1.43-.59-.52 0-1.04.2-1.43.59L10.3 9.45l-7.72 7.72c-.78.78-.78 2.05 0 2.83L4 21.41c.39.39.9.59 1.41.59.51 0 1.02-.2 1.41-.59l7.78-7.78 2.81-2.81c.8-.78.8-2.07 0-2.86zM5.41 20L4 18.59l7.72-7.72 1.47 1.35L5.41 20z\"/>\n",
              "  </svg>\n",
              "      </button>\n",
              "      \n",
              "  <style>\n",
              "    .colab-df-container {\n",
              "      display:flex;\n",
              "      flex-wrap:wrap;\n",
              "      gap: 12px;\n",
              "    }\n",
              "\n",
              "    .colab-df-convert {\n",
              "      background-color: #E8F0FE;\n",
              "      border: none;\n",
              "      border-radius: 50%;\n",
              "      cursor: pointer;\n",
              "      display: none;\n",
              "      fill: #1967D2;\n",
              "      height: 32px;\n",
              "      padding: 0 0 0 0;\n",
              "      width: 32px;\n",
              "    }\n",
              "\n",
              "    .colab-df-convert:hover {\n",
              "      background-color: #E2EBFA;\n",
              "      box-shadow: 0px 1px 2px rgba(60, 64, 67, 0.3), 0px 1px 3px 1px rgba(60, 64, 67, 0.15);\n",
              "      fill: #174EA6;\n",
              "    }\n",
              "\n",
              "    [theme=dark] .colab-df-convert {\n",
              "      background-color: #3B4455;\n",
              "      fill: #D2E3FC;\n",
              "    }\n",
              "\n",
              "    [theme=dark] .colab-df-convert:hover {\n",
              "      background-color: #434B5C;\n",
              "      box-shadow: 0px 1px 3px 1px rgba(0, 0, 0, 0.15);\n",
              "      filter: drop-shadow(0px 1px 2px rgba(0, 0, 0, 0.3));\n",
              "      fill: #FFFFFF;\n",
              "    }\n",
              "  </style>\n",
              "\n",
              "      <script>\n",
              "        const buttonEl =\n",
              "          document.querySelector('#df-b169083d-688b-4cdb-8fcb-652e49b11e78 button.colab-df-convert');\n",
              "        buttonEl.style.display =\n",
              "          google.colab.kernel.accessAllowed ? 'block' : 'none';\n",
              "\n",
              "        async function convertToInteractive(key) {\n",
              "          const element = document.querySelector('#df-b169083d-688b-4cdb-8fcb-652e49b11e78');\n",
              "          const dataTable =\n",
              "            await google.colab.kernel.invokeFunction('convertToInteractive',\n",
              "                                                     [key], {});\n",
              "          if (!dataTable) return;\n",
              "\n",
              "          const docLinkHtml = 'Like what you see? Visit the ' +\n",
              "            '<a target=\"_blank\" href=https://colab.research.google.com/notebooks/data_table.ipynb>data table notebook</a>'\n",
              "            + ' to learn more about interactive tables.';\n",
              "          element.innerHTML = '';\n",
              "          dataTable['output_type'] = 'display_data';\n",
              "          await google.colab.output.renderOutput(dataTable, element);\n",
              "          const docLink = document.createElement('div');\n",
              "          docLink.innerHTML = docLinkHtml;\n",
              "          element.appendChild(docLink);\n",
              "        }\n",
              "      </script>\n",
              "    </div>\n",
              "  </div>\n",
              "  "
            ]
          },
          "metadata": {},
          "execution_count": 198
        }
      ]
    },
    {
      "cell_type": "code",
      "source": [
        "# Converting country codes of company_location column\n",
        "import country_converter as coco\n",
        "df['company_location'] = coco.convert(names=df['company_location'])\n",
        "df.head()"
      ],
      "metadata": {
        "colab": {
          "base_uri": "https://localhost:8080/",
          "height": 374
        },
        "id": "sScyhWzO2udW",
        "outputId": "babdcbe0-17d4-4f7e-9931-fede9fa4663e"
      },
      "execution_count": null,
      "outputs": [
        {
          "output_type": "execute_result",
          "data": {
            "text/plain": [
              "   work_year experience_level employment_type                 job_title  \\\n",
              "0       2023               SE              FT  Principal Data Scientist   \n",
              "1       2023               MI              CT               ML Engineer   \n",
              "2       2023               MI              CT               ML Engineer   \n",
              "3       2023               SE              FT            Data Scientist   \n",
              "4       2023               SE              FT            Data Scientist   \n",
              "\n",
              "   salary salary_currency  salary_in_usd employee_residence  remote_ratio  \\\n",
              "0   80000             EUR          85847                ESP           100   \n",
              "1   30000             USD          30000                USA           100   \n",
              "2   25500             USD          25500                USA           100   \n",
              "3  175000             USD         175000                CAN           100   \n",
              "4  120000             USD         120000                CAN           100   \n",
              "\n",
              "  company_location company_size  \n",
              "0              ESP            L  \n",
              "1              USA            S  \n",
              "2              USA            S  \n",
              "3              CAN            M  \n",
              "4              CAN            M  "
            ],
            "text/html": [
              "\n",
              "  <div id=\"df-cd45fabe-cdfc-4235-ac97-ca1100cb3da7\">\n",
              "    <div class=\"colab-df-container\">\n",
              "      <div>\n",
              "<style scoped>\n",
              "    .dataframe tbody tr th:only-of-type {\n",
              "        vertical-align: middle;\n",
              "    }\n",
              "\n",
              "    .dataframe tbody tr th {\n",
              "        vertical-align: top;\n",
              "    }\n",
              "\n",
              "    .dataframe thead th {\n",
              "        text-align: right;\n",
              "    }\n",
              "</style>\n",
              "<table border=\"1\" class=\"dataframe\">\n",
              "  <thead>\n",
              "    <tr style=\"text-align: right;\">\n",
              "      <th></th>\n",
              "      <th>work_year</th>\n",
              "      <th>experience_level</th>\n",
              "      <th>employment_type</th>\n",
              "      <th>job_title</th>\n",
              "      <th>salary</th>\n",
              "      <th>salary_currency</th>\n",
              "      <th>salary_in_usd</th>\n",
              "      <th>employee_residence</th>\n",
              "      <th>remote_ratio</th>\n",
              "      <th>company_location</th>\n",
              "      <th>company_size</th>\n",
              "    </tr>\n",
              "  </thead>\n",
              "  <tbody>\n",
              "    <tr>\n",
              "      <th>0</th>\n",
              "      <td>2023</td>\n",
              "      <td>SE</td>\n",
              "      <td>FT</td>\n",
              "      <td>Principal Data Scientist</td>\n",
              "      <td>80000</td>\n",
              "      <td>EUR</td>\n",
              "      <td>85847</td>\n",
              "      <td>ESP</td>\n",
              "      <td>100</td>\n",
              "      <td>ESP</td>\n",
              "      <td>L</td>\n",
              "    </tr>\n",
              "    <tr>\n",
              "      <th>1</th>\n",
              "      <td>2023</td>\n",
              "      <td>MI</td>\n",
              "      <td>CT</td>\n",
              "      <td>ML Engineer</td>\n",
              "      <td>30000</td>\n",
              "      <td>USD</td>\n",
              "      <td>30000</td>\n",
              "      <td>USA</td>\n",
              "      <td>100</td>\n",
              "      <td>USA</td>\n",
              "      <td>S</td>\n",
              "    </tr>\n",
              "    <tr>\n",
              "      <th>2</th>\n",
              "      <td>2023</td>\n",
              "      <td>MI</td>\n",
              "      <td>CT</td>\n",
              "      <td>ML Engineer</td>\n",
              "      <td>25500</td>\n",
              "      <td>USD</td>\n",
              "      <td>25500</td>\n",
              "      <td>USA</td>\n",
              "      <td>100</td>\n",
              "      <td>USA</td>\n",
              "      <td>S</td>\n",
              "    </tr>\n",
              "    <tr>\n",
              "      <th>3</th>\n",
              "      <td>2023</td>\n",
              "      <td>SE</td>\n",
              "      <td>FT</td>\n",
              "      <td>Data Scientist</td>\n",
              "      <td>175000</td>\n",
              "      <td>USD</td>\n",
              "      <td>175000</td>\n",
              "      <td>CAN</td>\n",
              "      <td>100</td>\n",
              "      <td>CAN</td>\n",
              "      <td>M</td>\n",
              "    </tr>\n",
              "    <tr>\n",
              "      <th>4</th>\n",
              "      <td>2023</td>\n",
              "      <td>SE</td>\n",
              "      <td>FT</td>\n",
              "      <td>Data Scientist</td>\n",
              "      <td>120000</td>\n",
              "      <td>USD</td>\n",
              "      <td>120000</td>\n",
              "      <td>CAN</td>\n",
              "      <td>100</td>\n",
              "      <td>CAN</td>\n",
              "      <td>M</td>\n",
              "    </tr>\n",
              "  </tbody>\n",
              "</table>\n",
              "</div>\n",
              "      <button class=\"colab-df-convert\" onclick=\"convertToInteractive('df-cd45fabe-cdfc-4235-ac97-ca1100cb3da7')\"\n",
              "              title=\"Convert this dataframe to an interactive table.\"\n",
              "              style=\"display:none;\">\n",
              "        \n",
              "  <svg xmlns=\"http://www.w3.org/2000/svg\" height=\"24px\"viewBox=\"0 0 24 24\"\n",
              "       width=\"24px\">\n",
              "    <path d=\"M0 0h24v24H0V0z\" fill=\"none\"/>\n",
              "    <path d=\"M18.56 5.44l.94 2.06.94-2.06 2.06-.94-2.06-.94-.94-2.06-.94 2.06-2.06.94zm-11 1L8.5 8.5l.94-2.06 2.06-.94-2.06-.94L8.5 2.5l-.94 2.06-2.06.94zm10 10l.94 2.06.94-2.06 2.06-.94-2.06-.94-.94-2.06-.94 2.06-2.06.94z\"/><path d=\"M17.41 7.96l-1.37-1.37c-.4-.4-.92-.59-1.43-.59-.52 0-1.04.2-1.43.59L10.3 9.45l-7.72 7.72c-.78.78-.78 2.05 0 2.83L4 21.41c.39.39.9.59 1.41.59.51 0 1.02-.2 1.41-.59l7.78-7.78 2.81-2.81c.8-.78.8-2.07 0-2.86zM5.41 20L4 18.59l7.72-7.72 1.47 1.35L5.41 20z\"/>\n",
              "  </svg>\n",
              "      </button>\n",
              "      \n",
              "  <style>\n",
              "    .colab-df-container {\n",
              "      display:flex;\n",
              "      flex-wrap:wrap;\n",
              "      gap: 12px;\n",
              "    }\n",
              "\n",
              "    .colab-df-convert {\n",
              "      background-color: #E8F0FE;\n",
              "      border: none;\n",
              "      border-radius: 50%;\n",
              "      cursor: pointer;\n",
              "      display: none;\n",
              "      fill: #1967D2;\n",
              "      height: 32px;\n",
              "      padding: 0 0 0 0;\n",
              "      width: 32px;\n",
              "    }\n",
              "\n",
              "    .colab-df-convert:hover {\n",
              "      background-color: #E2EBFA;\n",
              "      box-shadow: 0px 1px 2px rgba(60, 64, 67, 0.3), 0px 1px 3px 1px rgba(60, 64, 67, 0.15);\n",
              "      fill: #174EA6;\n",
              "    }\n",
              "\n",
              "    [theme=dark] .colab-df-convert {\n",
              "      background-color: #3B4455;\n",
              "      fill: #D2E3FC;\n",
              "    }\n",
              "\n",
              "    [theme=dark] .colab-df-convert:hover {\n",
              "      background-color: #434B5C;\n",
              "      box-shadow: 0px 1px 3px 1px rgba(0, 0, 0, 0.15);\n",
              "      filter: drop-shadow(0px 1px 2px rgba(0, 0, 0, 0.3));\n",
              "      fill: #FFFFFF;\n",
              "    }\n",
              "  </style>\n",
              "\n",
              "      <script>\n",
              "        const buttonEl =\n",
              "          document.querySelector('#df-cd45fabe-cdfc-4235-ac97-ca1100cb3da7 button.colab-df-convert');\n",
              "        buttonEl.style.display =\n",
              "          google.colab.kernel.accessAllowed ? 'block' : 'none';\n",
              "\n",
              "        async function convertToInteractive(key) {\n",
              "          const element = document.querySelector('#df-cd45fabe-cdfc-4235-ac97-ca1100cb3da7');\n",
              "          const dataTable =\n",
              "            await google.colab.kernel.invokeFunction('convertToInteractive',\n",
              "                                                     [key], {});\n",
              "          if (!dataTable) return;\n",
              "\n",
              "          const docLinkHtml = 'Like what you see? Visit the ' +\n",
              "            '<a target=\"_blank\" href=https://colab.research.google.com/notebooks/data_table.ipynb>data table notebook</a>'\n",
              "            + ' to learn more about interactive tables.';\n",
              "          element.innerHTML = '';\n",
              "          dataTable['output_type'] = 'display_data';\n",
              "          await google.colab.output.renderOutput(dataTable, element);\n",
              "          const docLink = document.createElement('div');\n",
              "          docLink.innerHTML = docLinkHtml;\n",
              "          element.appendChild(docLink);\n",
              "        }\n",
              "      </script>\n",
              "    </div>\n",
              "  </div>\n",
              "  "
            ]
          },
          "metadata": {},
          "execution_count": 199
        }
      ]
    },
    {
      "cell_type": "markdown",
      "source": [
        "Summary:\n",
        "\n",
        "In the analysis of data science job data, a new column is added to distinguish **FOREIGN employees from NON-FOREIGN** employees based on the comparison between the employee's home country and the country where the company is based.\n",
        "\n",
        " If the two countries are the same, the employee is classified as a non-foreign employee, while if the countries differ, the employee is categorized as a foreign employee.\n",
        "\n",
        "This categorization allows for a deeper understanding of the composition of foreign employees within the dataset. It provides insights into the distribution and representation of foreign workers in the data science job market/industry, which will further explored in relation to job titles, salaries, or other variables of interest.\n",
        "\n",
        "By differentiating between foreign and non-foreign employees, this analysis enables the identification of patterns and trends associated with the employment of foreign workers in the data science industry. Such insights can be valuable for companies seeking to understand the diversity of their workforce and for professionals interested in exploring career opportunities in different countries."
      ],
      "metadata": {
        "id": "MDXqpelZ3ElS"
      }
    },
    {
      "cell_type": "code",
      "source": [
        "df['foreign_employee']=np.where(df['employee_residence']==df['company_location'],\"No\",\"Yes\")\n",
        "df.head()"
      ],
      "metadata": {
        "id": "EETc0ql03V2N",
        "colab": {
          "base_uri": "https://localhost:8080/",
          "height": 374
        },
        "outputId": "6b0647fa-7868-444e-882c-e00c8603b8ec"
      },
      "execution_count": null,
      "outputs": [
        {
          "output_type": "execute_result",
          "data": {
            "text/plain": [
              "   work_year experience_level employment_type                 job_title  \\\n",
              "0       2023               SE              FT  Principal Data Scientist   \n",
              "1       2023               MI              CT               ML Engineer   \n",
              "2       2023               MI              CT               ML Engineer   \n",
              "3       2023               SE              FT            Data Scientist   \n",
              "4       2023               SE              FT            Data Scientist   \n",
              "\n",
              "   salary salary_currency  salary_in_usd employee_residence  remote_ratio  \\\n",
              "0   80000             EUR          85847                ESP           100   \n",
              "1   30000             USD          30000                USA           100   \n",
              "2   25500             USD          25500                USA           100   \n",
              "3  175000             USD         175000                CAN           100   \n",
              "4  120000             USD         120000                CAN           100   \n",
              "\n",
              "  company_location company_size foreign_employee  \n",
              "0              ESP            L               No  \n",
              "1              USA            S               No  \n",
              "2              USA            S               No  \n",
              "3              CAN            M               No  \n",
              "4              CAN            M               No  "
            ],
            "text/html": [
              "\n",
              "  <div id=\"df-9813e147-365e-4690-b0d3-c416d051a90a\">\n",
              "    <div class=\"colab-df-container\">\n",
              "      <div>\n",
              "<style scoped>\n",
              "    .dataframe tbody tr th:only-of-type {\n",
              "        vertical-align: middle;\n",
              "    }\n",
              "\n",
              "    .dataframe tbody tr th {\n",
              "        vertical-align: top;\n",
              "    }\n",
              "\n",
              "    .dataframe thead th {\n",
              "        text-align: right;\n",
              "    }\n",
              "</style>\n",
              "<table border=\"1\" class=\"dataframe\">\n",
              "  <thead>\n",
              "    <tr style=\"text-align: right;\">\n",
              "      <th></th>\n",
              "      <th>work_year</th>\n",
              "      <th>experience_level</th>\n",
              "      <th>employment_type</th>\n",
              "      <th>job_title</th>\n",
              "      <th>salary</th>\n",
              "      <th>salary_currency</th>\n",
              "      <th>salary_in_usd</th>\n",
              "      <th>employee_residence</th>\n",
              "      <th>remote_ratio</th>\n",
              "      <th>company_location</th>\n",
              "      <th>company_size</th>\n",
              "      <th>foreign_employee</th>\n",
              "    </tr>\n",
              "  </thead>\n",
              "  <tbody>\n",
              "    <tr>\n",
              "      <th>0</th>\n",
              "      <td>2023</td>\n",
              "      <td>SE</td>\n",
              "      <td>FT</td>\n",
              "      <td>Principal Data Scientist</td>\n",
              "      <td>80000</td>\n",
              "      <td>EUR</td>\n",
              "      <td>85847</td>\n",
              "      <td>ESP</td>\n",
              "      <td>100</td>\n",
              "      <td>ESP</td>\n",
              "      <td>L</td>\n",
              "      <td>No</td>\n",
              "    </tr>\n",
              "    <tr>\n",
              "      <th>1</th>\n",
              "      <td>2023</td>\n",
              "      <td>MI</td>\n",
              "      <td>CT</td>\n",
              "      <td>ML Engineer</td>\n",
              "      <td>30000</td>\n",
              "      <td>USD</td>\n",
              "      <td>30000</td>\n",
              "      <td>USA</td>\n",
              "      <td>100</td>\n",
              "      <td>USA</td>\n",
              "      <td>S</td>\n",
              "      <td>No</td>\n",
              "    </tr>\n",
              "    <tr>\n",
              "      <th>2</th>\n",
              "      <td>2023</td>\n",
              "      <td>MI</td>\n",
              "      <td>CT</td>\n",
              "      <td>ML Engineer</td>\n",
              "      <td>25500</td>\n",
              "      <td>USD</td>\n",
              "      <td>25500</td>\n",
              "      <td>USA</td>\n",
              "      <td>100</td>\n",
              "      <td>USA</td>\n",
              "      <td>S</td>\n",
              "      <td>No</td>\n",
              "    </tr>\n",
              "    <tr>\n",
              "      <th>3</th>\n",
              "      <td>2023</td>\n",
              "      <td>SE</td>\n",
              "      <td>FT</td>\n",
              "      <td>Data Scientist</td>\n",
              "      <td>175000</td>\n",
              "      <td>USD</td>\n",
              "      <td>175000</td>\n",
              "      <td>CAN</td>\n",
              "      <td>100</td>\n",
              "      <td>CAN</td>\n",
              "      <td>M</td>\n",
              "      <td>No</td>\n",
              "    </tr>\n",
              "    <tr>\n",
              "      <th>4</th>\n",
              "      <td>2023</td>\n",
              "      <td>SE</td>\n",
              "      <td>FT</td>\n",
              "      <td>Data Scientist</td>\n",
              "      <td>120000</td>\n",
              "      <td>USD</td>\n",
              "      <td>120000</td>\n",
              "      <td>CAN</td>\n",
              "      <td>100</td>\n",
              "      <td>CAN</td>\n",
              "      <td>M</td>\n",
              "      <td>No</td>\n",
              "    </tr>\n",
              "  </tbody>\n",
              "</table>\n",
              "</div>\n",
              "      <button class=\"colab-df-convert\" onclick=\"convertToInteractive('df-9813e147-365e-4690-b0d3-c416d051a90a')\"\n",
              "              title=\"Convert this dataframe to an interactive table.\"\n",
              "              style=\"display:none;\">\n",
              "        \n",
              "  <svg xmlns=\"http://www.w3.org/2000/svg\" height=\"24px\"viewBox=\"0 0 24 24\"\n",
              "       width=\"24px\">\n",
              "    <path d=\"M0 0h24v24H0V0z\" fill=\"none\"/>\n",
              "    <path d=\"M18.56 5.44l.94 2.06.94-2.06 2.06-.94-2.06-.94-.94-2.06-.94 2.06-2.06.94zm-11 1L8.5 8.5l.94-2.06 2.06-.94-2.06-.94L8.5 2.5l-.94 2.06-2.06.94zm10 10l.94 2.06.94-2.06 2.06-.94-2.06-.94-.94-2.06-.94 2.06-2.06.94z\"/><path d=\"M17.41 7.96l-1.37-1.37c-.4-.4-.92-.59-1.43-.59-.52 0-1.04.2-1.43.59L10.3 9.45l-7.72 7.72c-.78.78-.78 2.05 0 2.83L4 21.41c.39.39.9.59 1.41.59.51 0 1.02-.2 1.41-.59l7.78-7.78 2.81-2.81c.8-.78.8-2.07 0-2.86zM5.41 20L4 18.59l7.72-7.72 1.47 1.35L5.41 20z\"/>\n",
              "  </svg>\n",
              "      </button>\n",
              "      \n",
              "  <style>\n",
              "    .colab-df-container {\n",
              "      display:flex;\n",
              "      flex-wrap:wrap;\n",
              "      gap: 12px;\n",
              "    }\n",
              "\n",
              "    .colab-df-convert {\n",
              "      background-color: #E8F0FE;\n",
              "      border: none;\n",
              "      border-radius: 50%;\n",
              "      cursor: pointer;\n",
              "      display: none;\n",
              "      fill: #1967D2;\n",
              "      height: 32px;\n",
              "      padding: 0 0 0 0;\n",
              "      width: 32px;\n",
              "    }\n",
              "\n",
              "    .colab-df-convert:hover {\n",
              "      background-color: #E2EBFA;\n",
              "      box-shadow: 0px 1px 2px rgba(60, 64, 67, 0.3), 0px 1px 3px 1px rgba(60, 64, 67, 0.15);\n",
              "      fill: #174EA6;\n",
              "    }\n",
              "\n",
              "    [theme=dark] .colab-df-convert {\n",
              "      background-color: #3B4455;\n",
              "      fill: #D2E3FC;\n",
              "    }\n",
              "\n",
              "    [theme=dark] .colab-df-convert:hover {\n",
              "      background-color: #434B5C;\n",
              "      box-shadow: 0px 1px 3px 1px rgba(0, 0, 0, 0.15);\n",
              "      filter: drop-shadow(0px 1px 2px rgba(0, 0, 0, 0.3));\n",
              "      fill: #FFFFFF;\n",
              "    }\n",
              "  </style>\n",
              "\n",
              "      <script>\n",
              "        const buttonEl =\n",
              "          document.querySelector('#df-9813e147-365e-4690-b0d3-c416d051a90a button.colab-df-convert');\n",
              "        buttonEl.style.display =\n",
              "          google.colab.kernel.accessAllowed ? 'block' : 'none';\n",
              "\n",
              "        async function convertToInteractive(key) {\n",
              "          const element = document.querySelector('#df-9813e147-365e-4690-b0d3-c416d051a90a');\n",
              "          const dataTable =\n",
              "            await google.colab.kernel.invokeFunction('convertToInteractive',\n",
              "                                                     [key], {});\n",
              "          if (!dataTable) return;\n",
              "\n",
              "          const docLinkHtml = 'Like what you see? Visit the ' +\n",
              "            '<a target=\"_blank\" href=https://colab.research.google.com/notebooks/data_table.ipynb>data table notebook</a>'\n",
              "            + ' to learn more about interactive tables.';\n",
              "          element.innerHTML = '';\n",
              "          dataTable['output_type'] = 'display_data';\n",
              "          await google.colab.output.renderOutput(dataTable, element);\n",
              "          const docLink = document.createElement('div');\n",
              "          docLink.innerHTML = docLinkHtml;\n",
              "          element.appendChild(docLink);\n",
              "        }\n",
              "      </script>\n",
              "    </div>\n",
              "  </div>\n",
              "  "
            ]
          },
          "metadata": {},
          "execution_count": 200
        }
      ]
    },
    {
      "cell_type": "markdown",
      "source": [
        "**Determining Currency Conversion Rates**\n",
        "\n",
        "In the provided dataset, salaries are listed in various currencies, alongside a column indicating the corresponding salaries in USD. By leveraging this information, we can calculate the conversion rates between different currencies, using USD(stable currency) as the standard currency."
      ],
      "metadata": {
        "id": "6EquKSLK5GUm"
      }
    },
    {
      "cell_type": "code",
      "source": [
        "df['conversion_rates'] = df['salary']/df['salary_in_usd']\n",
        "df.head()"
      ],
      "metadata": {
        "id": "73NWx1bB44ND",
        "colab": {
          "base_uri": "https://localhost:8080/",
          "height": 374
        },
        "outputId": "f7fe3e41-b0c3-4d93-dd22-4dd6a7ecde87"
      },
      "execution_count": null,
      "outputs": [
        {
          "output_type": "execute_result",
          "data": {
            "text/plain": [
              "   work_year experience_level employment_type                 job_title  \\\n",
              "0       2023               SE              FT  Principal Data Scientist   \n",
              "1       2023               MI              CT               ML Engineer   \n",
              "2       2023               MI              CT               ML Engineer   \n",
              "3       2023               SE              FT            Data Scientist   \n",
              "4       2023               SE              FT            Data Scientist   \n",
              "\n",
              "   salary salary_currency  salary_in_usd employee_residence  remote_ratio  \\\n",
              "0   80000             EUR          85847                ESP           100   \n",
              "1   30000             USD          30000                USA           100   \n",
              "2   25500             USD          25500                USA           100   \n",
              "3  175000             USD         175000                CAN           100   \n",
              "4  120000             USD         120000                CAN           100   \n",
              "\n",
              "  company_location company_size foreign_employee  conversion_rates  \n",
              "0              ESP            L               No           0.93189  \n",
              "1              USA            S               No           1.00000  \n",
              "2              USA            S               No           1.00000  \n",
              "3              CAN            M               No           1.00000  \n",
              "4              CAN            M               No           1.00000  "
            ],
            "text/html": [
              "\n",
              "  <div id=\"df-99203eaf-42b6-4ca2-b942-209d07d02ccb\">\n",
              "    <div class=\"colab-df-container\">\n",
              "      <div>\n",
              "<style scoped>\n",
              "    .dataframe tbody tr th:only-of-type {\n",
              "        vertical-align: middle;\n",
              "    }\n",
              "\n",
              "    .dataframe tbody tr th {\n",
              "        vertical-align: top;\n",
              "    }\n",
              "\n",
              "    .dataframe thead th {\n",
              "        text-align: right;\n",
              "    }\n",
              "</style>\n",
              "<table border=\"1\" class=\"dataframe\">\n",
              "  <thead>\n",
              "    <tr style=\"text-align: right;\">\n",
              "      <th></th>\n",
              "      <th>work_year</th>\n",
              "      <th>experience_level</th>\n",
              "      <th>employment_type</th>\n",
              "      <th>job_title</th>\n",
              "      <th>salary</th>\n",
              "      <th>salary_currency</th>\n",
              "      <th>salary_in_usd</th>\n",
              "      <th>employee_residence</th>\n",
              "      <th>remote_ratio</th>\n",
              "      <th>company_location</th>\n",
              "      <th>company_size</th>\n",
              "      <th>foreign_employee</th>\n",
              "      <th>conversion_rates</th>\n",
              "    </tr>\n",
              "  </thead>\n",
              "  <tbody>\n",
              "    <tr>\n",
              "      <th>0</th>\n",
              "      <td>2023</td>\n",
              "      <td>SE</td>\n",
              "      <td>FT</td>\n",
              "      <td>Principal Data Scientist</td>\n",
              "      <td>80000</td>\n",
              "      <td>EUR</td>\n",
              "      <td>85847</td>\n",
              "      <td>ESP</td>\n",
              "      <td>100</td>\n",
              "      <td>ESP</td>\n",
              "      <td>L</td>\n",
              "      <td>No</td>\n",
              "      <td>0.93189</td>\n",
              "    </tr>\n",
              "    <tr>\n",
              "      <th>1</th>\n",
              "      <td>2023</td>\n",
              "      <td>MI</td>\n",
              "      <td>CT</td>\n",
              "      <td>ML Engineer</td>\n",
              "      <td>30000</td>\n",
              "      <td>USD</td>\n",
              "      <td>30000</td>\n",
              "      <td>USA</td>\n",
              "      <td>100</td>\n",
              "      <td>USA</td>\n",
              "      <td>S</td>\n",
              "      <td>No</td>\n",
              "      <td>1.00000</td>\n",
              "    </tr>\n",
              "    <tr>\n",
              "      <th>2</th>\n",
              "      <td>2023</td>\n",
              "      <td>MI</td>\n",
              "      <td>CT</td>\n",
              "      <td>ML Engineer</td>\n",
              "      <td>25500</td>\n",
              "      <td>USD</td>\n",
              "      <td>25500</td>\n",
              "      <td>USA</td>\n",
              "      <td>100</td>\n",
              "      <td>USA</td>\n",
              "      <td>S</td>\n",
              "      <td>No</td>\n",
              "      <td>1.00000</td>\n",
              "    </tr>\n",
              "    <tr>\n",
              "      <th>3</th>\n",
              "      <td>2023</td>\n",
              "      <td>SE</td>\n",
              "      <td>FT</td>\n",
              "      <td>Data Scientist</td>\n",
              "      <td>175000</td>\n",
              "      <td>USD</td>\n",
              "      <td>175000</td>\n",
              "      <td>CAN</td>\n",
              "      <td>100</td>\n",
              "      <td>CAN</td>\n",
              "      <td>M</td>\n",
              "      <td>No</td>\n",
              "      <td>1.00000</td>\n",
              "    </tr>\n",
              "    <tr>\n",
              "      <th>4</th>\n",
              "      <td>2023</td>\n",
              "      <td>SE</td>\n",
              "      <td>FT</td>\n",
              "      <td>Data Scientist</td>\n",
              "      <td>120000</td>\n",
              "      <td>USD</td>\n",
              "      <td>120000</td>\n",
              "      <td>CAN</td>\n",
              "      <td>100</td>\n",
              "      <td>CAN</td>\n",
              "      <td>M</td>\n",
              "      <td>No</td>\n",
              "      <td>1.00000</td>\n",
              "    </tr>\n",
              "  </tbody>\n",
              "</table>\n",
              "</div>\n",
              "      <button class=\"colab-df-convert\" onclick=\"convertToInteractive('df-99203eaf-42b6-4ca2-b942-209d07d02ccb')\"\n",
              "              title=\"Convert this dataframe to an interactive table.\"\n",
              "              style=\"display:none;\">\n",
              "        \n",
              "  <svg xmlns=\"http://www.w3.org/2000/svg\" height=\"24px\"viewBox=\"0 0 24 24\"\n",
              "       width=\"24px\">\n",
              "    <path d=\"M0 0h24v24H0V0z\" fill=\"none\"/>\n",
              "    <path d=\"M18.56 5.44l.94 2.06.94-2.06 2.06-.94-2.06-.94-.94-2.06-.94 2.06-2.06.94zm-11 1L8.5 8.5l.94-2.06 2.06-.94-2.06-.94L8.5 2.5l-.94 2.06-2.06.94zm10 10l.94 2.06.94-2.06 2.06-.94-2.06-.94-.94-2.06-.94 2.06-2.06.94z\"/><path d=\"M17.41 7.96l-1.37-1.37c-.4-.4-.92-.59-1.43-.59-.52 0-1.04.2-1.43.59L10.3 9.45l-7.72 7.72c-.78.78-.78 2.05 0 2.83L4 21.41c.39.39.9.59 1.41.59.51 0 1.02-.2 1.41-.59l7.78-7.78 2.81-2.81c.8-.78.8-2.07 0-2.86zM5.41 20L4 18.59l7.72-7.72 1.47 1.35L5.41 20z\"/>\n",
              "  </svg>\n",
              "      </button>\n",
              "      \n",
              "  <style>\n",
              "    .colab-df-container {\n",
              "      display:flex;\n",
              "      flex-wrap:wrap;\n",
              "      gap: 12px;\n",
              "    }\n",
              "\n",
              "    .colab-df-convert {\n",
              "      background-color: #E8F0FE;\n",
              "      border: none;\n",
              "      border-radius: 50%;\n",
              "      cursor: pointer;\n",
              "      display: none;\n",
              "      fill: #1967D2;\n",
              "      height: 32px;\n",
              "      padding: 0 0 0 0;\n",
              "      width: 32px;\n",
              "    }\n",
              "\n",
              "    .colab-df-convert:hover {\n",
              "      background-color: #E2EBFA;\n",
              "      box-shadow: 0px 1px 2px rgba(60, 64, 67, 0.3), 0px 1px 3px 1px rgba(60, 64, 67, 0.15);\n",
              "      fill: #174EA6;\n",
              "    }\n",
              "\n",
              "    [theme=dark] .colab-df-convert {\n",
              "      background-color: #3B4455;\n",
              "      fill: #D2E3FC;\n",
              "    }\n",
              "\n",
              "    [theme=dark] .colab-df-convert:hover {\n",
              "      background-color: #434B5C;\n",
              "      box-shadow: 0px 1px 3px 1px rgba(0, 0, 0, 0.15);\n",
              "      filter: drop-shadow(0px 1px 2px rgba(0, 0, 0, 0.3));\n",
              "      fill: #FFFFFF;\n",
              "    }\n",
              "  </style>\n",
              "\n",
              "      <script>\n",
              "        const buttonEl =\n",
              "          document.querySelector('#df-99203eaf-42b6-4ca2-b942-209d07d02ccb button.colab-df-convert');\n",
              "        buttonEl.style.display =\n",
              "          google.colab.kernel.accessAllowed ? 'block' : 'none';\n",
              "\n",
              "        async function convertToInteractive(key) {\n",
              "          const element = document.querySelector('#df-99203eaf-42b6-4ca2-b942-209d07d02ccb');\n",
              "          const dataTable =\n",
              "            await google.colab.kernel.invokeFunction('convertToInteractive',\n",
              "                                                     [key], {});\n",
              "          if (!dataTable) return;\n",
              "\n",
              "          const docLinkHtml = 'Like what you see? Visit the ' +\n",
              "            '<a target=\"_blank\" href=https://colab.research.google.com/notebooks/data_table.ipynb>data table notebook</a>'\n",
              "            + ' to learn more about interactive tables.';\n",
              "          element.innerHTML = '';\n",
              "          dataTable['output_type'] = 'display_data';\n",
              "          await google.colab.output.renderOutput(dataTable, element);\n",
              "          const docLink = document.createElement('div');\n",
              "          docLink.innerHTML = docLinkHtml;\n",
              "          element.appendChild(docLink);\n",
              "        }\n",
              "      </script>\n",
              "    </div>\n",
              "  </div>\n",
              "  "
            ]
          },
          "metadata": {},
          "execution_count": 201
        }
      ]
    },
    {
      "cell_type": "markdown",
      "source": [
        "**Elaborating Experience Level Using the Replace Method**\n",
        "\n",
        "The dataset includes experience levels represented in a short format. To provide a more detailed representation of experience levels, will utilize the replace method to expand the abbreviated format into descriptive terms. This will enhance the clarity and comprehensibility of the experience level information within the dataset."
      ],
      "metadata": {
        "id": "1YydY5n25ehf"
      }
    },
    {
      "cell_type": "code",
      "source": [
        "df['experience_level'].replace(['SE', 'MI', 'EN', 'EX'],\n",
        "                               ['Senior-level','Mid-level','Entry-level','Executive-level'],\n",
        "                               inplace=True)\n",
        "df.head()"
      ],
      "metadata": {
        "id": "Ypp9Tv2D5e5a",
        "colab": {
          "base_uri": "https://localhost:8080/",
          "height": 374
        },
        "outputId": "3aef87d4-3e42-417e-c1ee-15c57a157c2b"
      },
      "execution_count": null,
      "outputs": [
        {
          "output_type": "execute_result",
          "data": {
            "text/plain": [
              "   work_year experience_level employment_type                 job_title  \\\n",
              "0       2023     Senior-level              FT  Principal Data Scientist   \n",
              "1       2023        Mid-level              CT               ML Engineer   \n",
              "2       2023        Mid-level              CT               ML Engineer   \n",
              "3       2023     Senior-level              FT            Data Scientist   \n",
              "4       2023     Senior-level              FT            Data Scientist   \n",
              "\n",
              "   salary salary_currency  salary_in_usd employee_residence  remote_ratio  \\\n",
              "0   80000             EUR          85847                ESP           100   \n",
              "1   30000             USD          30000                USA           100   \n",
              "2   25500             USD          25500                USA           100   \n",
              "3  175000             USD         175000                CAN           100   \n",
              "4  120000             USD         120000                CAN           100   \n",
              "\n",
              "  company_location company_size foreign_employee  conversion_rates  \n",
              "0              ESP            L               No           0.93189  \n",
              "1              USA            S               No           1.00000  \n",
              "2              USA            S               No           1.00000  \n",
              "3              CAN            M               No           1.00000  \n",
              "4              CAN            M               No           1.00000  "
            ],
            "text/html": [
              "\n",
              "  <div id=\"df-8e411762-afba-4817-bbd5-0f28367f961b\">\n",
              "    <div class=\"colab-df-container\">\n",
              "      <div>\n",
              "<style scoped>\n",
              "    .dataframe tbody tr th:only-of-type {\n",
              "        vertical-align: middle;\n",
              "    }\n",
              "\n",
              "    .dataframe tbody tr th {\n",
              "        vertical-align: top;\n",
              "    }\n",
              "\n",
              "    .dataframe thead th {\n",
              "        text-align: right;\n",
              "    }\n",
              "</style>\n",
              "<table border=\"1\" class=\"dataframe\">\n",
              "  <thead>\n",
              "    <tr style=\"text-align: right;\">\n",
              "      <th></th>\n",
              "      <th>work_year</th>\n",
              "      <th>experience_level</th>\n",
              "      <th>employment_type</th>\n",
              "      <th>job_title</th>\n",
              "      <th>salary</th>\n",
              "      <th>salary_currency</th>\n",
              "      <th>salary_in_usd</th>\n",
              "      <th>employee_residence</th>\n",
              "      <th>remote_ratio</th>\n",
              "      <th>company_location</th>\n",
              "      <th>company_size</th>\n",
              "      <th>foreign_employee</th>\n",
              "      <th>conversion_rates</th>\n",
              "    </tr>\n",
              "  </thead>\n",
              "  <tbody>\n",
              "    <tr>\n",
              "      <th>0</th>\n",
              "      <td>2023</td>\n",
              "      <td>Senior-level</td>\n",
              "      <td>FT</td>\n",
              "      <td>Principal Data Scientist</td>\n",
              "      <td>80000</td>\n",
              "      <td>EUR</td>\n",
              "      <td>85847</td>\n",
              "      <td>ESP</td>\n",
              "      <td>100</td>\n",
              "      <td>ESP</td>\n",
              "      <td>L</td>\n",
              "      <td>No</td>\n",
              "      <td>0.93189</td>\n",
              "    </tr>\n",
              "    <tr>\n",
              "      <th>1</th>\n",
              "      <td>2023</td>\n",
              "      <td>Mid-level</td>\n",
              "      <td>CT</td>\n",
              "      <td>ML Engineer</td>\n",
              "      <td>30000</td>\n",
              "      <td>USD</td>\n",
              "      <td>30000</td>\n",
              "      <td>USA</td>\n",
              "      <td>100</td>\n",
              "      <td>USA</td>\n",
              "      <td>S</td>\n",
              "      <td>No</td>\n",
              "      <td>1.00000</td>\n",
              "    </tr>\n",
              "    <tr>\n",
              "      <th>2</th>\n",
              "      <td>2023</td>\n",
              "      <td>Mid-level</td>\n",
              "      <td>CT</td>\n",
              "      <td>ML Engineer</td>\n",
              "      <td>25500</td>\n",
              "      <td>USD</td>\n",
              "      <td>25500</td>\n",
              "      <td>USA</td>\n",
              "      <td>100</td>\n",
              "      <td>USA</td>\n",
              "      <td>S</td>\n",
              "      <td>No</td>\n",
              "      <td>1.00000</td>\n",
              "    </tr>\n",
              "    <tr>\n",
              "      <th>3</th>\n",
              "      <td>2023</td>\n",
              "      <td>Senior-level</td>\n",
              "      <td>FT</td>\n",
              "      <td>Data Scientist</td>\n",
              "      <td>175000</td>\n",
              "      <td>USD</td>\n",
              "      <td>175000</td>\n",
              "      <td>CAN</td>\n",
              "      <td>100</td>\n",
              "      <td>CAN</td>\n",
              "      <td>M</td>\n",
              "      <td>No</td>\n",
              "      <td>1.00000</td>\n",
              "    </tr>\n",
              "    <tr>\n",
              "      <th>4</th>\n",
              "      <td>2023</td>\n",
              "      <td>Senior-level</td>\n",
              "      <td>FT</td>\n",
              "      <td>Data Scientist</td>\n",
              "      <td>120000</td>\n",
              "      <td>USD</td>\n",
              "      <td>120000</td>\n",
              "      <td>CAN</td>\n",
              "      <td>100</td>\n",
              "      <td>CAN</td>\n",
              "      <td>M</td>\n",
              "      <td>No</td>\n",
              "      <td>1.00000</td>\n",
              "    </tr>\n",
              "  </tbody>\n",
              "</table>\n",
              "</div>\n",
              "      <button class=\"colab-df-convert\" onclick=\"convertToInteractive('df-8e411762-afba-4817-bbd5-0f28367f961b')\"\n",
              "              title=\"Convert this dataframe to an interactive table.\"\n",
              "              style=\"display:none;\">\n",
              "        \n",
              "  <svg xmlns=\"http://www.w3.org/2000/svg\" height=\"24px\"viewBox=\"0 0 24 24\"\n",
              "       width=\"24px\">\n",
              "    <path d=\"M0 0h24v24H0V0z\" fill=\"none\"/>\n",
              "    <path d=\"M18.56 5.44l.94 2.06.94-2.06 2.06-.94-2.06-.94-.94-2.06-.94 2.06-2.06.94zm-11 1L8.5 8.5l.94-2.06 2.06-.94-2.06-.94L8.5 2.5l-.94 2.06-2.06.94zm10 10l.94 2.06.94-2.06 2.06-.94-2.06-.94-.94-2.06-.94 2.06-2.06.94z\"/><path d=\"M17.41 7.96l-1.37-1.37c-.4-.4-.92-.59-1.43-.59-.52 0-1.04.2-1.43.59L10.3 9.45l-7.72 7.72c-.78.78-.78 2.05 0 2.83L4 21.41c.39.39.9.59 1.41.59.51 0 1.02-.2 1.41-.59l7.78-7.78 2.81-2.81c.8-.78.8-2.07 0-2.86zM5.41 20L4 18.59l7.72-7.72 1.47 1.35L5.41 20z\"/>\n",
              "  </svg>\n",
              "      </button>\n",
              "      \n",
              "  <style>\n",
              "    .colab-df-container {\n",
              "      display:flex;\n",
              "      flex-wrap:wrap;\n",
              "      gap: 12px;\n",
              "    }\n",
              "\n",
              "    .colab-df-convert {\n",
              "      background-color: #E8F0FE;\n",
              "      border: none;\n",
              "      border-radius: 50%;\n",
              "      cursor: pointer;\n",
              "      display: none;\n",
              "      fill: #1967D2;\n",
              "      height: 32px;\n",
              "      padding: 0 0 0 0;\n",
              "      width: 32px;\n",
              "    }\n",
              "\n",
              "    .colab-df-convert:hover {\n",
              "      background-color: #E2EBFA;\n",
              "      box-shadow: 0px 1px 2px rgba(60, 64, 67, 0.3), 0px 1px 3px 1px rgba(60, 64, 67, 0.15);\n",
              "      fill: #174EA6;\n",
              "    }\n",
              "\n",
              "    [theme=dark] .colab-df-convert {\n",
              "      background-color: #3B4455;\n",
              "      fill: #D2E3FC;\n",
              "    }\n",
              "\n",
              "    [theme=dark] .colab-df-convert:hover {\n",
              "      background-color: #434B5C;\n",
              "      box-shadow: 0px 1px 3px 1px rgba(0, 0, 0, 0.15);\n",
              "      filter: drop-shadow(0px 1px 2px rgba(0, 0, 0, 0.3));\n",
              "      fill: #FFFFFF;\n",
              "    }\n",
              "  </style>\n",
              "\n",
              "      <script>\n",
              "        const buttonEl =\n",
              "          document.querySelector('#df-8e411762-afba-4817-bbd5-0f28367f961b button.colab-df-convert');\n",
              "        buttonEl.style.display =\n",
              "          google.colab.kernel.accessAllowed ? 'block' : 'none';\n",
              "\n",
              "        async function convertToInteractive(key) {\n",
              "          const element = document.querySelector('#df-8e411762-afba-4817-bbd5-0f28367f961b');\n",
              "          const dataTable =\n",
              "            await google.colab.kernel.invokeFunction('convertToInteractive',\n",
              "                                                     [key], {});\n",
              "          if (!dataTable) return;\n",
              "\n",
              "          const docLinkHtml = 'Like what you see? Visit the ' +\n",
              "            '<a target=\"_blank\" href=https://colab.research.google.com/notebooks/data_table.ipynb>data table notebook</a>'\n",
              "            + ' to learn more about interactive tables.';\n",
              "          element.innerHTML = '';\n",
              "          dataTable['output_type'] = 'display_data';\n",
              "          await google.colab.output.renderOutput(dataTable, element);\n",
              "          const docLink = document.createElement('div');\n",
              "          docLink.innerHTML = docLinkHtml;\n",
              "          element.appendChild(docLink);\n",
              "        }\n",
              "      </script>\n",
              "    </div>\n",
              "  </div>\n",
              "  "
            ]
          },
          "metadata": {},
          "execution_count": 202
        }
      ]
    },
    {
      "cell_type": "markdown",
      "source": [
        "Elaborating Employment Type\n",
        "\n",
        "To provide a more comprehensive understanding of the employment types within the dataset, will expand the abbreviated format of the employment type. By using appropriate methods, we can replace the abbreviated format with descriptive terms, enabling clearer interpretation and analysis of the employment type information."
      ],
      "metadata": {
        "id": "_LlGaj655u_e"
      }
    },
    {
      "cell_type": "code",
      "source": [
        "df['employment_type'].replace(['FT', 'CT', 'FL', 'PT'],['Full-time','Contract','Freelancer','Part-time'], inplace=True)\n",
        "df.head()"
      ],
      "metadata": {
        "id": "ZGrM62TW5vI3",
        "colab": {
          "base_uri": "https://localhost:8080/",
          "height": 374
        },
        "outputId": "ca13235f-54b6-4c76-e562-975108a591f3"
      },
      "execution_count": null,
      "outputs": [
        {
          "output_type": "execute_result",
          "data": {
            "text/plain": [
              "   work_year experience_level employment_type                 job_title  \\\n",
              "0       2023     Senior-level       Full-time  Principal Data Scientist   \n",
              "1       2023        Mid-level        Contract               ML Engineer   \n",
              "2       2023        Mid-level        Contract               ML Engineer   \n",
              "3       2023     Senior-level       Full-time            Data Scientist   \n",
              "4       2023     Senior-level       Full-time            Data Scientist   \n",
              "\n",
              "   salary salary_currency  salary_in_usd employee_residence  remote_ratio  \\\n",
              "0   80000             EUR          85847                ESP           100   \n",
              "1   30000             USD          30000                USA           100   \n",
              "2   25500             USD          25500                USA           100   \n",
              "3  175000             USD         175000                CAN           100   \n",
              "4  120000             USD         120000                CAN           100   \n",
              "\n",
              "  company_location company_size foreign_employee  conversion_rates  \n",
              "0              ESP            L               No           0.93189  \n",
              "1              USA            S               No           1.00000  \n",
              "2              USA            S               No           1.00000  \n",
              "3              CAN            M               No           1.00000  \n",
              "4              CAN            M               No           1.00000  "
            ],
            "text/html": [
              "\n",
              "  <div id=\"df-26ca9b0f-0e87-4132-91d1-1f2aef58f8b7\">\n",
              "    <div class=\"colab-df-container\">\n",
              "      <div>\n",
              "<style scoped>\n",
              "    .dataframe tbody tr th:only-of-type {\n",
              "        vertical-align: middle;\n",
              "    }\n",
              "\n",
              "    .dataframe tbody tr th {\n",
              "        vertical-align: top;\n",
              "    }\n",
              "\n",
              "    .dataframe thead th {\n",
              "        text-align: right;\n",
              "    }\n",
              "</style>\n",
              "<table border=\"1\" class=\"dataframe\">\n",
              "  <thead>\n",
              "    <tr style=\"text-align: right;\">\n",
              "      <th></th>\n",
              "      <th>work_year</th>\n",
              "      <th>experience_level</th>\n",
              "      <th>employment_type</th>\n",
              "      <th>job_title</th>\n",
              "      <th>salary</th>\n",
              "      <th>salary_currency</th>\n",
              "      <th>salary_in_usd</th>\n",
              "      <th>employee_residence</th>\n",
              "      <th>remote_ratio</th>\n",
              "      <th>company_location</th>\n",
              "      <th>company_size</th>\n",
              "      <th>foreign_employee</th>\n",
              "      <th>conversion_rates</th>\n",
              "    </tr>\n",
              "  </thead>\n",
              "  <tbody>\n",
              "    <tr>\n",
              "      <th>0</th>\n",
              "      <td>2023</td>\n",
              "      <td>Senior-level</td>\n",
              "      <td>Full-time</td>\n",
              "      <td>Principal Data Scientist</td>\n",
              "      <td>80000</td>\n",
              "      <td>EUR</td>\n",
              "      <td>85847</td>\n",
              "      <td>ESP</td>\n",
              "      <td>100</td>\n",
              "      <td>ESP</td>\n",
              "      <td>L</td>\n",
              "      <td>No</td>\n",
              "      <td>0.93189</td>\n",
              "    </tr>\n",
              "    <tr>\n",
              "      <th>1</th>\n",
              "      <td>2023</td>\n",
              "      <td>Mid-level</td>\n",
              "      <td>Contract</td>\n",
              "      <td>ML Engineer</td>\n",
              "      <td>30000</td>\n",
              "      <td>USD</td>\n",
              "      <td>30000</td>\n",
              "      <td>USA</td>\n",
              "      <td>100</td>\n",
              "      <td>USA</td>\n",
              "      <td>S</td>\n",
              "      <td>No</td>\n",
              "      <td>1.00000</td>\n",
              "    </tr>\n",
              "    <tr>\n",
              "      <th>2</th>\n",
              "      <td>2023</td>\n",
              "      <td>Mid-level</td>\n",
              "      <td>Contract</td>\n",
              "      <td>ML Engineer</td>\n",
              "      <td>25500</td>\n",
              "      <td>USD</td>\n",
              "      <td>25500</td>\n",
              "      <td>USA</td>\n",
              "      <td>100</td>\n",
              "      <td>USA</td>\n",
              "      <td>S</td>\n",
              "      <td>No</td>\n",
              "      <td>1.00000</td>\n",
              "    </tr>\n",
              "    <tr>\n",
              "      <th>3</th>\n",
              "      <td>2023</td>\n",
              "      <td>Senior-level</td>\n",
              "      <td>Full-time</td>\n",
              "      <td>Data Scientist</td>\n",
              "      <td>175000</td>\n",
              "      <td>USD</td>\n",
              "      <td>175000</td>\n",
              "      <td>CAN</td>\n",
              "      <td>100</td>\n",
              "      <td>CAN</td>\n",
              "      <td>M</td>\n",
              "      <td>No</td>\n",
              "      <td>1.00000</td>\n",
              "    </tr>\n",
              "    <tr>\n",
              "      <th>4</th>\n",
              "      <td>2023</td>\n",
              "      <td>Senior-level</td>\n",
              "      <td>Full-time</td>\n",
              "      <td>Data Scientist</td>\n",
              "      <td>120000</td>\n",
              "      <td>USD</td>\n",
              "      <td>120000</td>\n",
              "      <td>CAN</td>\n",
              "      <td>100</td>\n",
              "      <td>CAN</td>\n",
              "      <td>M</td>\n",
              "      <td>No</td>\n",
              "      <td>1.00000</td>\n",
              "    </tr>\n",
              "  </tbody>\n",
              "</table>\n",
              "</div>\n",
              "      <button class=\"colab-df-convert\" onclick=\"convertToInteractive('df-26ca9b0f-0e87-4132-91d1-1f2aef58f8b7')\"\n",
              "              title=\"Convert this dataframe to an interactive table.\"\n",
              "              style=\"display:none;\">\n",
              "        \n",
              "  <svg xmlns=\"http://www.w3.org/2000/svg\" height=\"24px\"viewBox=\"0 0 24 24\"\n",
              "       width=\"24px\">\n",
              "    <path d=\"M0 0h24v24H0V0z\" fill=\"none\"/>\n",
              "    <path d=\"M18.56 5.44l.94 2.06.94-2.06 2.06-.94-2.06-.94-.94-2.06-.94 2.06-2.06.94zm-11 1L8.5 8.5l.94-2.06 2.06-.94-2.06-.94L8.5 2.5l-.94 2.06-2.06.94zm10 10l.94 2.06.94-2.06 2.06-.94-2.06-.94-.94-2.06-.94 2.06-2.06.94z\"/><path d=\"M17.41 7.96l-1.37-1.37c-.4-.4-.92-.59-1.43-.59-.52 0-1.04.2-1.43.59L10.3 9.45l-7.72 7.72c-.78.78-.78 2.05 0 2.83L4 21.41c.39.39.9.59 1.41.59.51 0 1.02-.2 1.41-.59l7.78-7.78 2.81-2.81c.8-.78.8-2.07 0-2.86zM5.41 20L4 18.59l7.72-7.72 1.47 1.35L5.41 20z\"/>\n",
              "  </svg>\n",
              "      </button>\n",
              "      \n",
              "  <style>\n",
              "    .colab-df-container {\n",
              "      display:flex;\n",
              "      flex-wrap:wrap;\n",
              "      gap: 12px;\n",
              "    }\n",
              "\n",
              "    .colab-df-convert {\n",
              "      background-color: #E8F0FE;\n",
              "      border: none;\n",
              "      border-radius: 50%;\n",
              "      cursor: pointer;\n",
              "      display: none;\n",
              "      fill: #1967D2;\n",
              "      height: 32px;\n",
              "      padding: 0 0 0 0;\n",
              "      width: 32px;\n",
              "    }\n",
              "\n",
              "    .colab-df-convert:hover {\n",
              "      background-color: #E2EBFA;\n",
              "      box-shadow: 0px 1px 2px rgba(60, 64, 67, 0.3), 0px 1px 3px 1px rgba(60, 64, 67, 0.15);\n",
              "      fill: #174EA6;\n",
              "    }\n",
              "\n",
              "    [theme=dark] .colab-df-convert {\n",
              "      background-color: #3B4455;\n",
              "      fill: #D2E3FC;\n",
              "    }\n",
              "\n",
              "    [theme=dark] .colab-df-convert:hover {\n",
              "      background-color: #434B5C;\n",
              "      box-shadow: 0px 1px 3px 1px rgba(0, 0, 0, 0.15);\n",
              "      filter: drop-shadow(0px 1px 2px rgba(0, 0, 0, 0.3));\n",
              "      fill: #FFFFFF;\n",
              "    }\n",
              "  </style>\n",
              "\n",
              "      <script>\n",
              "        const buttonEl =\n",
              "          document.querySelector('#df-26ca9b0f-0e87-4132-91d1-1f2aef58f8b7 button.colab-df-convert');\n",
              "        buttonEl.style.display =\n",
              "          google.colab.kernel.accessAllowed ? 'block' : 'none';\n",
              "\n",
              "        async function convertToInteractive(key) {\n",
              "          const element = document.querySelector('#df-26ca9b0f-0e87-4132-91d1-1f2aef58f8b7');\n",
              "          const dataTable =\n",
              "            await google.colab.kernel.invokeFunction('convertToInteractive',\n",
              "                                                     [key], {});\n",
              "          if (!dataTable) return;\n",
              "\n",
              "          const docLinkHtml = 'Like what you see? Visit the ' +\n",
              "            '<a target=\"_blank\" href=https://colab.research.google.com/notebooks/data_table.ipynb>data table notebook</a>'\n",
              "            + ' to learn more about interactive tables.';\n",
              "          element.innerHTML = '';\n",
              "          dataTable['output_type'] = 'display_data';\n",
              "          await google.colab.output.renderOutput(dataTable, element);\n",
              "          const docLink = document.createElement('div');\n",
              "          docLink.innerHTML = docLinkHtml;\n",
              "          element.appendChild(docLink);\n",
              "        }\n",
              "      </script>\n",
              "    </div>\n",
              "  </div>\n",
              "  "
            ]
          },
          "metadata": {},
          "execution_count": 203
        }
      ]
    },
    {
      "cell_type": "markdown",
      "source": [
        "# **Elaborating Job Type Using Remote Ratio**\n",
        "\n",
        "1.   List item\n",
        "2.   List item\n",
        "\n",
        "\n",
        "\n",
        "To enhance the clarity of job types in the dataset, we can utilize the remote_ratio column to replace the values with more descriptive terms. By mapping the remote_ratio values to specific job types, we can assign labels such as \"remote (100%)\", \"on-site (0%)\", and \"hybrid (50%)\" to provide a clearer representation of the nature of each job. This will facilitate a better understanding of the job types and their remote work arrangements within the dataset."
      ],
      "metadata": {
        "id": "euze2_Ik6BkG"
      }
    },
    {
      "cell_type": "code",
      "source": [
        "df['remote_ratio'].replace([0,50,100],['On-Site','Hybrid','Remote'], inplace=True)\n",
        "df.rename(columns={'remote_ratio':'job_type'}, inplace=True) #Renaming the column\n",
        "df.head()"
      ],
      "metadata": {
        "id": "05lYiH-P6BtM",
        "colab": {
          "base_uri": "https://localhost:8080/",
          "height": 374
        },
        "outputId": "7cf35f3e-7539-4a70-d2bb-ccbb934e66a6"
      },
      "execution_count": null,
      "outputs": [
        {
          "output_type": "execute_result",
          "data": {
            "text/plain": [
              "   work_year experience_level employment_type                 job_title  \\\n",
              "0       2023     Senior-level       Full-time  Principal Data Scientist   \n",
              "1       2023        Mid-level        Contract               ML Engineer   \n",
              "2       2023        Mid-level        Contract               ML Engineer   \n",
              "3       2023     Senior-level       Full-time            Data Scientist   \n",
              "4       2023     Senior-level       Full-time            Data Scientist   \n",
              "\n",
              "   salary salary_currency  salary_in_usd employee_residence job_type  \\\n",
              "0   80000             EUR          85847                ESP   Remote   \n",
              "1   30000             USD          30000                USA   Remote   \n",
              "2   25500             USD          25500                USA   Remote   \n",
              "3  175000             USD         175000                CAN   Remote   \n",
              "4  120000             USD         120000                CAN   Remote   \n",
              "\n",
              "  company_location company_size foreign_employee  conversion_rates  \n",
              "0              ESP            L               No           0.93189  \n",
              "1              USA            S               No           1.00000  \n",
              "2              USA            S               No           1.00000  \n",
              "3              CAN            M               No           1.00000  \n",
              "4              CAN            M               No           1.00000  "
            ],
            "text/html": [
              "\n",
              "  <div id=\"df-0b64d6ce-4991-452a-8690-7d421ecb1b05\">\n",
              "    <div class=\"colab-df-container\">\n",
              "      <div>\n",
              "<style scoped>\n",
              "    .dataframe tbody tr th:only-of-type {\n",
              "        vertical-align: middle;\n",
              "    }\n",
              "\n",
              "    .dataframe tbody tr th {\n",
              "        vertical-align: top;\n",
              "    }\n",
              "\n",
              "    .dataframe thead th {\n",
              "        text-align: right;\n",
              "    }\n",
              "</style>\n",
              "<table border=\"1\" class=\"dataframe\">\n",
              "  <thead>\n",
              "    <tr style=\"text-align: right;\">\n",
              "      <th></th>\n",
              "      <th>work_year</th>\n",
              "      <th>experience_level</th>\n",
              "      <th>employment_type</th>\n",
              "      <th>job_title</th>\n",
              "      <th>salary</th>\n",
              "      <th>salary_currency</th>\n",
              "      <th>salary_in_usd</th>\n",
              "      <th>employee_residence</th>\n",
              "      <th>job_type</th>\n",
              "      <th>company_location</th>\n",
              "      <th>company_size</th>\n",
              "      <th>foreign_employee</th>\n",
              "      <th>conversion_rates</th>\n",
              "    </tr>\n",
              "  </thead>\n",
              "  <tbody>\n",
              "    <tr>\n",
              "      <th>0</th>\n",
              "      <td>2023</td>\n",
              "      <td>Senior-level</td>\n",
              "      <td>Full-time</td>\n",
              "      <td>Principal Data Scientist</td>\n",
              "      <td>80000</td>\n",
              "      <td>EUR</td>\n",
              "      <td>85847</td>\n",
              "      <td>ESP</td>\n",
              "      <td>Remote</td>\n",
              "      <td>ESP</td>\n",
              "      <td>L</td>\n",
              "      <td>No</td>\n",
              "      <td>0.93189</td>\n",
              "    </tr>\n",
              "    <tr>\n",
              "      <th>1</th>\n",
              "      <td>2023</td>\n",
              "      <td>Mid-level</td>\n",
              "      <td>Contract</td>\n",
              "      <td>ML Engineer</td>\n",
              "      <td>30000</td>\n",
              "      <td>USD</td>\n",
              "      <td>30000</td>\n",
              "      <td>USA</td>\n",
              "      <td>Remote</td>\n",
              "      <td>USA</td>\n",
              "      <td>S</td>\n",
              "      <td>No</td>\n",
              "      <td>1.00000</td>\n",
              "    </tr>\n",
              "    <tr>\n",
              "      <th>2</th>\n",
              "      <td>2023</td>\n",
              "      <td>Mid-level</td>\n",
              "      <td>Contract</td>\n",
              "      <td>ML Engineer</td>\n",
              "      <td>25500</td>\n",
              "      <td>USD</td>\n",
              "      <td>25500</td>\n",
              "      <td>USA</td>\n",
              "      <td>Remote</td>\n",
              "      <td>USA</td>\n",
              "      <td>S</td>\n",
              "      <td>No</td>\n",
              "      <td>1.00000</td>\n",
              "    </tr>\n",
              "    <tr>\n",
              "      <th>3</th>\n",
              "      <td>2023</td>\n",
              "      <td>Senior-level</td>\n",
              "      <td>Full-time</td>\n",
              "      <td>Data Scientist</td>\n",
              "      <td>175000</td>\n",
              "      <td>USD</td>\n",
              "      <td>175000</td>\n",
              "      <td>CAN</td>\n",
              "      <td>Remote</td>\n",
              "      <td>CAN</td>\n",
              "      <td>M</td>\n",
              "      <td>No</td>\n",
              "      <td>1.00000</td>\n",
              "    </tr>\n",
              "    <tr>\n",
              "      <th>4</th>\n",
              "      <td>2023</td>\n",
              "      <td>Senior-level</td>\n",
              "      <td>Full-time</td>\n",
              "      <td>Data Scientist</td>\n",
              "      <td>120000</td>\n",
              "      <td>USD</td>\n",
              "      <td>120000</td>\n",
              "      <td>CAN</td>\n",
              "      <td>Remote</td>\n",
              "      <td>CAN</td>\n",
              "      <td>M</td>\n",
              "      <td>No</td>\n",
              "      <td>1.00000</td>\n",
              "    </tr>\n",
              "  </tbody>\n",
              "</table>\n",
              "</div>\n",
              "      <button class=\"colab-df-convert\" onclick=\"convertToInteractive('df-0b64d6ce-4991-452a-8690-7d421ecb1b05')\"\n",
              "              title=\"Convert this dataframe to an interactive table.\"\n",
              "              style=\"display:none;\">\n",
              "        \n",
              "  <svg xmlns=\"http://www.w3.org/2000/svg\" height=\"24px\"viewBox=\"0 0 24 24\"\n",
              "       width=\"24px\">\n",
              "    <path d=\"M0 0h24v24H0V0z\" fill=\"none\"/>\n",
              "    <path d=\"M18.56 5.44l.94 2.06.94-2.06 2.06-.94-2.06-.94-.94-2.06-.94 2.06-2.06.94zm-11 1L8.5 8.5l.94-2.06 2.06-.94-2.06-.94L8.5 2.5l-.94 2.06-2.06.94zm10 10l.94 2.06.94-2.06 2.06-.94-2.06-.94-.94-2.06-.94 2.06-2.06.94z\"/><path d=\"M17.41 7.96l-1.37-1.37c-.4-.4-.92-.59-1.43-.59-.52 0-1.04.2-1.43.59L10.3 9.45l-7.72 7.72c-.78.78-.78 2.05 0 2.83L4 21.41c.39.39.9.59 1.41.59.51 0 1.02-.2 1.41-.59l7.78-7.78 2.81-2.81c.8-.78.8-2.07 0-2.86zM5.41 20L4 18.59l7.72-7.72 1.47 1.35L5.41 20z\"/>\n",
              "  </svg>\n",
              "      </button>\n",
              "      \n",
              "  <style>\n",
              "    .colab-df-container {\n",
              "      display:flex;\n",
              "      flex-wrap:wrap;\n",
              "      gap: 12px;\n",
              "    }\n",
              "\n",
              "    .colab-df-convert {\n",
              "      background-color: #E8F0FE;\n",
              "      border: none;\n",
              "      border-radius: 50%;\n",
              "      cursor: pointer;\n",
              "      display: none;\n",
              "      fill: #1967D2;\n",
              "      height: 32px;\n",
              "      padding: 0 0 0 0;\n",
              "      width: 32px;\n",
              "    }\n",
              "\n",
              "    .colab-df-convert:hover {\n",
              "      background-color: #E2EBFA;\n",
              "      box-shadow: 0px 1px 2px rgba(60, 64, 67, 0.3), 0px 1px 3px 1px rgba(60, 64, 67, 0.15);\n",
              "      fill: #174EA6;\n",
              "    }\n",
              "\n",
              "    [theme=dark] .colab-df-convert {\n",
              "      background-color: #3B4455;\n",
              "      fill: #D2E3FC;\n",
              "    }\n",
              "\n",
              "    [theme=dark] .colab-df-convert:hover {\n",
              "      background-color: #434B5C;\n",
              "      box-shadow: 0px 1px 3px 1px rgba(0, 0, 0, 0.15);\n",
              "      filter: drop-shadow(0px 1px 2px rgba(0, 0, 0, 0.3));\n",
              "      fill: #FFFFFF;\n",
              "    }\n",
              "  </style>\n",
              "\n",
              "      <script>\n",
              "        const buttonEl =\n",
              "          document.querySelector('#df-0b64d6ce-4991-452a-8690-7d421ecb1b05 button.colab-df-convert');\n",
              "        buttonEl.style.display =\n",
              "          google.colab.kernel.accessAllowed ? 'block' : 'none';\n",
              "\n",
              "        async function convertToInteractive(key) {\n",
              "          const element = document.querySelector('#df-0b64d6ce-4991-452a-8690-7d421ecb1b05');\n",
              "          const dataTable =\n",
              "            await google.colab.kernel.invokeFunction('convertToInteractive',\n",
              "                                                     [key], {});\n",
              "          if (!dataTable) return;\n",
              "\n",
              "          const docLinkHtml = 'Like what you see? Visit the ' +\n",
              "            '<a target=\"_blank\" href=https://colab.research.google.com/notebooks/data_table.ipynb>data table notebook</a>'\n",
              "            + ' to learn more about interactive tables.';\n",
              "          element.innerHTML = '';\n",
              "          dataTable['output_type'] = 'display_data';\n",
              "          await google.colab.output.renderOutput(dataTable, element);\n",
              "          const docLink = document.createElement('div');\n",
              "          docLink.innerHTML = docLinkHtml;\n",
              "          element.appendChild(docLink);\n",
              "        }\n",
              "      </script>\n",
              "    </div>\n",
              "  </div>\n",
              "  "
            ]
          },
          "metadata": {},
          "execution_count": 204
        }
      ]
    },
    {
      "cell_type": "markdown",
      "source": [
        "# Question Based Analysis"
      ],
      "metadata": {
        "id": "FV3pHseQ6gEM"
      }
    },
    {
      "cell_type": "markdown",
      "source": [
        "**1) Which all countries took part in this survey?**\n",
        "\n",
        "To determine the countries that participated in this survey, will need to examine the dataset and extract the unique values from the column representing the country of residence or any other relevant column. By identifying the distinct countries mentioned in the dataset, we can ascertain the countries that took part in this survey."
      ],
      "metadata": {
        "id": "Xy-JfYeg6o33"
      }
    },
    {
      "cell_type": "code",
      "source": [
        "fig = px.choropleth(locations = df['employee_residence'],\n",
        "                    color = df['employee_residence'],\n",
        "                    title = 'Countries involved in the Survey')\n",
        "fig.show()"
      ],
      "metadata": {
        "colab": {
          "base_uri": "https://localhost:8080/",
          "height": 542
        },
        "id": "wiW318ZW68UM",
        "outputId": "8b04346e-32e7-4e5f-f712-031a0d7ae91a"
      },
      "execution_count": null,
      "outputs": [
        {
          "output_type": "display_data",
          "data": {
            "text/html": [
              "<html>\n",
              "<head><meta charset=\"utf-8\" /></head>\n",
              "<body>\n",
              "    <div>            <script src=\"https://cdnjs.cloudflare.com/ajax/libs/mathjax/2.7.5/MathJax.js?config=TeX-AMS-MML_SVG\"></script><script type=\"text/javascript\">if (window.MathJax && window.MathJax.Hub && window.MathJax.Hub.Config) {window.MathJax.Hub.Config({SVG: {font: \"STIX-Web\"}});}</script>                <script type=\"text/javascript\">window.PlotlyConfig = {MathJaxConfig: 'local'};</script>\n",
              "        <script src=\"https://cdn.plot.ly/plotly-2.18.2.min.js\"></script>                <div id=\"4835edf3-1ff3-4e5a-8962-65b0053b860b\" class=\"plotly-graph-div\" style=\"height:525px; width:100%;\"></div>            <script type=\"text/javascript\">                                    window.PLOTLYENV=window.PLOTLYENV || {};                                    if (document.getElementById(\"4835edf3-1ff3-4e5a-8962-65b0053b860b\")) {                    Plotly.newPlot(                        \"4835edf3-1ff3-4e5a-8962-65b0053b860b\",                        [{\"colorscale\":[[0.0,\"#636efa\"],[1.0,\"#636efa\"]],\"geo\":\"geo\",\"hovertemplate\":\"color=ESP<br>locations=%{location}<extra></extra>\",\"locations\":[\"ESP\",\"ESP\",\"ESP\",\"ESP\",\"ESP\",\"ESP\",\"ESP\",\"ESP\",\"ESP\",\"ESP\",\"ESP\",\"ESP\",\"ESP\",\"ESP\",\"ESP\",\"ESP\",\"ESP\",\"ESP\",\"ESP\",\"ESP\",\"ESP\",\"ESP\",\"ESP\",\"ESP\",\"ESP\",\"ESP\",\"ESP\",\"ESP\",\"ESP\",\"ESP\",\"ESP\",\"ESP\",\"ESP\",\"ESP\",\"ESP\",\"ESP\",\"ESP\",\"ESP\",\"ESP\",\"ESP\",\"ESP\",\"ESP\",\"ESP\",\"ESP\",\"ESP\",\"ESP\",\"ESP\",\"ESP\",\"ESP\",\"ESP\",\"ESP\",\"ESP\",\"ESP\",\"ESP\",\"ESP\",\"ESP\",\"ESP\",\"ESP\",\"ESP\",\"ESP\",\"ESP\",\"ESP\",\"ESP\",\"ESP\",\"ESP\",\"ESP\",\"ESP\",\"ESP\",\"ESP\",\"ESP\",\"ESP\",\"ESP\",\"ESP\",\"ESP\",\"ESP\",\"ESP\",\"ESP\",\"ESP\",\"ESP\",\"ESP\"],\"name\":\"ESP\",\"showlegend\":true,\"showscale\":false,\"z\":[1,1,1,1,1,1,1,1,1,1,1,1,1,1,1,1,1,1,1,1,1,1,1,1,1,1,1,1,1,1,1,1,1,1,1,1,1,1,1,1,1,1,1,1,1,1,1,1,1,1,1,1,1,1,1,1,1,1,1,1,1,1,1,1,1,1,1,1,1,1,1,1,1,1,1,1,1,1,1,1],\"type\":\"choropleth\"},{\"colorscale\":[[0.0,\"#EF553B\"],[1.0,\"#EF553B\"]],\"geo\":\"geo\",\"hovertemplate\":\"color=USA<br>locations=%{location}<extra></extra>\",\"locations\":[\"USA\",\"USA\",\"USA\",\"USA\",\"USA\",\"USA\",\"USA\",\"USA\",\"USA\",\"USA\",\"USA\",\"USA\",\"USA\",\"USA\",\"USA\",\"USA\",\"USA\",\"USA\",\"USA\",\"USA\",\"USA\",\"USA\",\"USA\",\"USA\",\"USA\",\"USA\",\"USA\",\"USA\",\"USA\",\"USA\",\"USA\",\"USA\",\"USA\",\"USA\",\"USA\",\"USA\",\"USA\",\"USA\",\"USA\",\"USA\",\"USA\",\"USA\",\"USA\",\"USA\",\"USA\",\"USA\",\"USA\",\"USA\",\"USA\",\"USA\",\"USA\",\"USA\",\"USA\",\"USA\",\"USA\",\"USA\",\"USA\",\"USA\",\"USA\",\"USA\",\"USA\",\"USA\",\"USA\",\"USA\",\"USA\",\"USA\",\"USA\",\"USA\",\"USA\",\"USA\",\"USA\",\"USA\",\"USA\",\"USA\",\"USA\",\"USA\",\"USA\",\"USA\",\"USA\",\"USA\",\"USA\",\"USA\",\"USA\",\"USA\",\"USA\",\"USA\",\"USA\",\"USA\",\"USA\",\"USA\",\"USA\",\"USA\",\"USA\",\"USA\",\"USA\",\"USA\",\"USA\",\"USA\",\"USA\",\"USA\",\"USA\",\"USA\",\"USA\",\"USA\",\"USA\",\"USA\",\"USA\",\"USA\",\"USA\",\"USA\",\"USA\",\"USA\",\"USA\",\"USA\",\"USA\",\"USA\",\"USA\",\"USA\",\"USA\",\"USA\",\"USA\",\"USA\",\"USA\",\"USA\",\"USA\",\"USA\",\"USA\",\"USA\",\"USA\",\"USA\",\"USA\",\"USA\",\"USA\",\"USA\",\"USA\",\"USA\",\"USA\",\"USA\",\"USA\",\"USA\",\"USA\",\"USA\",\"USA\",\"USA\",\"USA\",\"USA\",\"USA\",\"USA\",\"USA\",\"USA\",\"USA\",\"USA\",\"USA\",\"USA\",\"USA\",\"USA\",\"USA\",\"USA\",\"USA\",\"USA\",\"USA\",\"USA\",\"USA\",\"USA\",\"USA\",\"USA\",\"USA\",\"USA\",\"USA\",\"USA\",\"USA\",\"USA\",\"USA\",\"USA\",\"USA\",\"USA\",\"USA\",\"USA\",\"USA\",\"USA\",\"USA\",\"USA\",\"USA\",\"USA\",\"USA\",\"USA\",\"USA\",\"USA\",\"USA\",\"USA\",\"USA\",\"USA\",\"USA\",\"USA\",\"USA\",\"USA\",\"USA\",\"USA\",\"USA\",\"USA\",\"USA\",\"USA\",\"USA\",\"USA\",\"USA\",\"USA\",\"USA\",\"USA\",\"USA\",\"USA\",\"USA\",\"USA\",\"USA\",\"USA\",\"USA\",\"USA\",\"USA\",\"USA\",\"USA\",\"USA\",\"USA\",\"USA\",\"USA\",\"USA\",\"USA\",\"USA\",\"USA\",\"USA\",\"USA\",\"USA\",\"USA\",\"USA\",\"USA\",\"USA\",\"USA\",\"USA\",\"USA\",\"USA\",\"USA\",\"USA\",\"USA\",\"USA\",\"USA\",\"USA\",\"USA\",\"USA\",\"USA\",\"USA\",\"USA\",\"USA\",\"USA\",\"USA\",\"USA\",\"USA\",\"USA\",\"USA\",\"USA\",\"USA\",\"USA\",\"USA\",\"USA\",\"USA\",\"USA\",\"USA\",\"USA\",\"USA\",\"USA\",\"USA\",\"USA\",\"USA\",\"USA\",\"USA\",\"USA\",\"USA\",\"USA\",\"USA\",\"USA\",\"USA\",\"USA\",\"USA\",\"USA\",\"USA\",\"USA\",\"USA\",\"USA\",\"USA\",\"USA\",\"USA\",\"USA\",\"USA\",\"USA\",\"USA\",\"USA\",\"USA\",\"USA\",\"USA\",\"USA\",\"USA\",\"USA\",\"USA\",\"USA\",\"USA\",\"USA\",\"USA\",\"USA\",\"USA\",\"USA\",\"USA\",\"USA\",\"USA\",\"USA\",\"USA\",\"USA\",\"USA\",\"USA\",\"USA\",\"USA\",\"USA\",\"USA\",\"USA\",\"USA\",\"USA\",\"USA\",\"USA\",\"USA\",\"USA\",\"USA\",\"USA\",\"USA\",\"USA\",\"USA\",\"USA\",\"USA\",\"USA\",\"USA\",\"USA\",\"USA\",\"USA\",\"USA\",\"USA\",\"USA\",\"USA\",\"USA\",\"USA\",\"USA\",\"USA\",\"USA\",\"USA\",\"USA\",\"USA\",\"USA\",\"USA\",\"USA\",\"USA\",\"USA\",\"USA\",\"USA\",\"USA\",\"USA\",\"USA\",\"USA\",\"USA\",\"USA\",\"USA\",\"USA\",\"USA\",\"USA\",\"USA\",\"USA\",\"USA\",\"USA\",\"USA\",\"USA\",\"USA\",\"USA\",\"USA\",\"USA\",\"USA\",\"USA\",\"USA\",\"USA\",\"USA\",\"USA\",\"USA\",\"USA\",\"USA\",\"USA\",\"USA\",\"USA\",\"USA\",\"USA\",\"USA\",\"USA\",\"USA\",\"USA\",\"USA\",\"USA\",\"USA\",\"USA\",\"USA\",\"USA\",\"USA\",\"USA\",\"USA\",\"USA\",\"USA\",\"USA\",\"USA\",\"USA\",\"USA\",\"USA\",\"USA\",\"USA\",\"USA\",\"USA\",\"USA\",\"USA\",\"USA\",\"USA\",\"USA\",\"USA\",\"USA\",\"USA\",\"USA\",\"USA\",\"USA\",\"USA\",\"USA\",\"USA\",\"USA\",\"USA\",\"USA\",\"USA\",\"USA\",\"USA\",\"USA\",\"USA\",\"USA\",\"USA\",\"USA\",\"USA\",\"USA\",\"USA\",\"USA\",\"USA\",\"USA\",\"USA\",\"USA\",\"USA\",\"USA\",\"USA\",\"USA\",\"USA\",\"USA\",\"USA\",\"USA\",\"USA\",\"USA\",\"USA\",\"USA\",\"USA\",\"USA\",\"USA\",\"USA\",\"USA\",\"USA\",\"USA\",\"USA\",\"USA\",\"USA\",\"USA\",\"USA\",\"USA\",\"USA\",\"USA\",\"USA\",\"USA\",\"USA\",\"USA\",\"USA\",\"USA\",\"USA\",\"USA\",\"USA\",\"USA\",\"USA\",\"USA\",\"USA\",\"USA\",\"USA\",\"USA\",\"USA\",\"USA\",\"USA\",\"USA\",\"USA\",\"USA\",\"USA\",\"USA\",\"USA\",\"USA\",\"USA\",\"USA\",\"USA\",\"USA\",\"USA\",\"USA\",\"USA\",\"USA\",\"USA\",\"USA\",\"USA\",\"USA\",\"USA\",\"USA\",\"USA\",\"USA\",\"USA\",\"USA\",\"USA\",\"USA\",\"USA\",\"USA\",\"USA\",\"USA\",\"USA\",\"USA\",\"USA\",\"USA\",\"USA\",\"USA\",\"USA\",\"USA\",\"USA\",\"USA\",\"USA\",\"USA\",\"USA\",\"USA\",\"USA\",\"USA\",\"USA\",\"USA\",\"USA\",\"USA\",\"USA\",\"USA\",\"USA\",\"USA\",\"USA\",\"USA\",\"USA\",\"USA\",\"USA\",\"USA\",\"USA\",\"USA\",\"USA\",\"USA\",\"USA\",\"USA\",\"USA\",\"USA\",\"USA\",\"USA\",\"USA\",\"USA\",\"USA\",\"USA\",\"USA\",\"USA\",\"USA\",\"USA\",\"USA\",\"USA\",\"USA\",\"USA\",\"USA\",\"USA\",\"USA\",\"USA\",\"USA\",\"USA\",\"USA\",\"USA\",\"USA\",\"USA\",\"USA\",\"USA\",\"USA\",\"USA\",\"USA\",\"USA\",\"USA\",\"USA\",\"USA\",\"USA\",\"USA\",\"USA\",\"USA\",\"USA\",\"USA\",\"USA\",\"USA\",\"USA\",\"USA\",\"USA\",\"USA\",\"USA\",\"USA\",\"USA\",\"USA\",\"USA\",\"USA\",\"USA\",\"USA\",\"USA\",\"USA\",\"USA\",\"USA\",\"USA\",\"USA\",\"USA\",\"USA\",\"USA\",\"USA\",\"USA\",\"USA\",\"USA\",\"USA\",\"USA\",\"USA\",\"USA\",\"USA\",\"USA\",\"USA\",\"USA\",\"USA\",\"USA\",\"USA\",\"USA\",\"USA\",\"USA\",\"USA\",\"USA\",\"USA\",\"USA\",\"USA\",\"USA\",\"USA\",\"USA\",\"USA\",\"USA\",\"USA\",\"USA\",\"USA\",\"USA\",\"USA\",\"USA\",\"USA\",\"USA\",\"USA\",\"USA\",\"USA\",\"USA\",\"USA\",\"USA\",\"USA\",\"USA\",\"USA\",\"USA\",\"USA\",\"USA\",\"USA\",\"USA\",\"USA\",\"USA\",\"USA\",\"USA\",\"USA\",\"USA\",\"USA\",\"USA\",\"USA\",\"USA\",\"USA\",\"USA\",\"USA\",\"USA\",\"USA\",\"USA\",\"USA\",\"USA\",\"USA\",\"USA\",\"USA\",\"USA\",\"USA\",\"USA\",\"USA\",\"USA\",\"USA\",\"USA\",\"USA\",\"USA\",\"USA\",\"USA\",\"USA\",\"USA\",\"USA\",\"USA\",\"USA\",\"USA\",\"USA\",\"USA\",\"USA\",\"USA\",\"USA\",\"USA\",\"USA\",\"USA\",\"USA\",\"USA\",\"USA\",\"USA\",\"USA\",\"USA\",\"USA\",\"USA\",\"USA\",\"USA\",\"USA\",\"USA\",\"USA\",\"USA\",\"USA\",\"USA\",\"USA\",\"USA\",\"USA\",\"USA\",\"USA\",\"USA\",\"USA\",\"USA\",\"USA\",\"USA\",\"USA\",\"USA\",\"USA\",\"USA\",\"USA\",\"USA\",\"USA\",\"USA\",\"USA\",\"USA\",\"USA\",\"USA\",\"USA\",\"USA\",\"USA\",\"USA\",\"USA\",\"USA\",\"USA\",\"USA\",\"USA\",\"USA\",\"USA\",\"USA\",\"USA\",\"USA\",\"USA\",\"USA\",\"USA\",\"USA\",\"USA\",\"USA\",\"USA\",\"USA\",\"USA\",\"USA\",\"USA\",\"USA\",\"USA\",\"USA\",\"USA\",\"USA\",\"USA\",\"USA\",\"USA\",\"USA\",\"USA\",\"USA\",\"USA\",\"USA\",\"USA\",\"USA\",\"USA\",\"USA\",\"USA\",\"USA\",\"USA\",\"USA\",\"USA\",\"USA\",\"USA\",\"USA\",\"USA\",\"USA\",\"USA\",\"USA\",\"USA\",\"USA\",\"USA\",\"USA\",\"USA\",\"USA\",\"USA\",\"USA\",\"USA\",\"USA\",\"USA\",\"USA\",\"USA\",\"USA\",\"USA\",\"USA\",\"USA\",\"USA\",\"USA\",\"USA\",\"USA\",\"USA\",\"USA\",\"USA\",\"USA\",\"USA\",\"USA\",\"USA\",\"USA\",\"USA\",\"USA\",\"USA\",\"USA\",\"USA\",\"USA\",\"USA\",\"USA\",\"USA\",\"USA\",\"USA\",\"USA\",\"USA\",\"USA\",\"USA\",\"USA\",\"USA\",\"USA\",\"USA\",\"USA\",\"USA\",\"USA\",\"USA\",\"USA\",\"USA\",\"USA\",\"USA\",\"USA\",\"USA\",\"USA\",\"USA\",\"USA\",\"USA\",\"USA\",\"USA\",\"USA\",\"USA\",\"USA\",\"USA\",\"USA\",\"USA\",\"USA\",\"USA\",\"USA\",\"USA\",\"USA\",\"USA\",\"USA\",\"USA\",\"USA\",\"USA\",\"USA\",\"USA\",\"USA\",\"USA\",\"USA\",\"USA\",\"USA\",\"USA\",\"USA\",\"USA\",\"USA\",\"USA\",\"USA\",\"USA\",\"USA\",\"USA\",\"USA\",\"USA\",\"USA\",\"USA\",\"USA\",\"USA\",\"USA\",\"USA\",\"USA\",\"USA\",\"USA\",\"USA\",\"USA\",\"USA\",\"USA\",\"USA\",\"USA\",\"USA\",\"USA\",\"USA\",\"USA\",\"USA\",\"USA\",\"USA\",\"USA\",\"USA\",\"USA\",\"USA\",\"USA\",\"USA\",\"USA\",\"USA\",\"USA\",\"USA\",\"USA\",\"USA\",\"USA\",\"USA\",\"USA\",\"USA\",\"USA\",\"USA\",\"USA\",\"USA\",\"USA\",\"USA\",\"USA\",\"USA\",\"USA\",\"USA\",\"USA\",\"USA\",\"USA\",\"USA\",\"USA\",\"USA\",\"USA\",\"USA\",\"USA\",\"USA\",\"USA\",\"USA\",\"USA\",\"USA\",\"USA\",\"USA\",\"USA\",\"USA\",\"USA\",\"USA\",\"USA\",\"USA\",\"USA\",\"USA\",\"USA\",\"USA\",\"USA\",\"USA\",\"USA\",\"USA\",\"USA\",\"USA\",\"USA\",\"USA\",\"USA\",\"USA\",\"USA\",\"USA\",\"USA\",\"USA\",\"USA\",\"USA\",\"USA\",\"USA\",\"USA\",\"USA\",\"USA\",\"USA\",\"USA\",\"USA\",\"USA\",\"USA\",\"USA\",\"USA\",\"USA\",\"USA\",\"USA\",\"USA\",\"USA\",\"USA\",\"USA\",\"USA\",\"USA\",\"USA\",\"USA\",\"USA\",\"USA\",\"USA\",\"USA\",\"USA\",\"USA\",\"USA\",\"USA\",\"USA\",\"USA\",\"USA\",\"USA\",\"USA\",\"USA\",\"USA\",\"USA\",\"USA\",\"USA\",\"USA\",\"USA\",\"USA\",\"USA\",\"USA\",\"USA\",\"USA\",\"USA\",\"USA\",\"USA\",\"USA\",\"USA\",\"USA\",\"USA\",\"USA\",\"USA\",\"USA\",\"USA\",\"USA\",\"USA\",\"USA\",\"USA\",\"USA\",\"USA\",\"USA\",\"USA\",\"USA\",\"USA\",\"USA\",\"USA\",\"USA\",\"USA\",\"USA\",\"USA\",\"USA\",\"USA\",\"USA\",\"USA\",\"USA\",\"USA\",\"USA\",\"USA\",\"USA\",\"USA\",\"USA\",\"USA\",\"USA\",\"USA\",\"USA\",\"USA\",\"USA\",\"USA\",\"USA\",\"USA\",\"USA\",\"USA\",\"USA\",\"USA\",\"USA\",\"USA\",\"USA\",\"USA\",\"USA\",\"USA\",\"USA\",\"USA\",\"USA\",\"USA\",\"USA\",\"USA\",\"USA\",\"USA\",\"USA\",\"USA\",\"USA\",\"USA\",\"USA\",\"USA\",\"USA\",\"USA\",\"USA\",\"USA\",\"USA\",\"USA\",\"USA\",\"USA\",\"USA\",\"USA\",\"USA\",\"USA\",\"USA\",\"USA\",\"USA\",\"USA\",\"USA\",\"USA\",\"USA\",\"USA\",\"USA\",\"USA\",\"USA\",\"USA\",\"USA\",\"USA\",\"USA\",\"USA\",\"USA\",\"USA\",\"USA\",\"USA\",\"USA\",\"USA\",\"USA\",\"USA\",\"USA\",\"USA\",\"USA\",\"USA\",\"USA\",\"USA\",\"USA\",\"USA\",\"USA\",\"USA\",\"USA\",\"USA\",\"USA\",\"USA\",\"USA\",\"USA\",\"USA\",\"USA\",\"USA\",\"USA\",\"USA\",\"USA\",\"USA\",\"USA\",\"USA\",\"USA\",\"USA\",\"USA\",\"USA\",\"USA\",\"USA\",\"USA\",\"USA\",\"USA\",\"USA\",\"USA\",\"USA\",\"USA\",\"USA\",\"USA\",\"USA\",\"USA\",\"USA\",\"USA\",\"USA\",\"USA\",\"USA\",\"USA\",\"USA\",\"USA\",\"USA\",\"USA\",\"USA\",\"USA\",\"USA\",\"USA\",\"USA\",\"USA\",\"USA\",\"USA\",\"USA\",\"USA\",\"USA\",\"USA\",\"USA\",\"USA\",\"USA\",\"USA\",\"USA\",\"USA\",\"USA\",\"USA\",\"USA\",\"USA\",\"USA\",\"USA\",\"USA\",\"USA\",\"USA\",\"USA\",\"USA\",\"USA\",\"USA\",\"USA\",\"USA\",\"USA\",\"USA\",\"USA\",\"USA\",\"USA\",\"USA\",\"USA\",\"USA\",\"USA\",\"USA\",\"USA\",\"USA\",\"USA\",\"USA\",\"USA\",\"USA\",\"USA\",\"USA\",\"USA\",\"USA\",\"USA\",\"USA\",\"USA\",\"USA\",\"USA\",\"USA\",\"USA\",\"USA\",\"USA\",\"USA\",\"USA\",\"USA\",\"USA\",\"USA\",\"USA\",\"USA\",\"USA\",\"USA\",\"USA\",\"USA\",\"USA\",\"USA\",\"USA\",\"USA\",\"USA\",\"USA\",\"USA\",\"USA\",\"USA\",\"USA\",\"USA\",\"USA\",\"USA\",\"USA\",\"USA\",\"USA\",\"USA\",\"USA\",\"USA\",\"USA\",\"USA\",\"USA\",\"USA\",\"USA\",\"USA\",\"USA\",\"USA\",\"USA\",\"USA\",\"USA\",\"USA\",\"USA\",\"USA\",\"USA\",\"USA\",\"USA\",\"USA\",\"USA\",\"USA\",\"USA\",\"USA\",\"USA\",\"USA\",\"USA\",\"USA\",\"USA\",\"USA\",\"USA\",\"USA\",\"USA\",\"USA\",\"USA\",\"USA\",\"USA\",\"USA\",\"USA\",\"USA\",\"USA\",\"USA\",\"USA\",\"USA\",\"USA\",\"USA\",\"USA\",\"USA\",\"USA\",\"USA\",\"USA\",\"USA\",\"USA\",\"USA\",\"USA\",\"USA\",\"USA\",\"USA\",\"USA\",\"USA\",\"USA\",\"USA\",\"USA\",\"USA\",\"USA\",\"USA\",\"USA\",\"USA\",\"USA\",\"USA\",\"USA\",\"USA\",\"USA\",\"USA\",\"USA\",\"USA\",\"USA\",\"USA\",\"USA\",\"USA\",\"USA\",\"USA\",\"USA\",\"USA\",\"USA\",\"USA\",\"USA\",\"USA\",\"USA\",\"USA\",\"USA\",\"USA\",\"USA\",\"USA\",\"USA\",\"USA\",\"USA\",\"USA\",\"USA\",\"USA\",\"USA\",\"USA\",\"USA\",\"USA\",\"USA\",\"USA\",\"USA\",\"USA\",\"USA\",\"USA\",\"USA\",\"USA\",\"USA\",\"USA\",\"USA\",\"USA\",\"USA\",\"USA\",\"USA\",\"USA\",\"USA\",\"USA\",\"USA\",\"USA\",\"USA\",\"USA\",\"USA\",\"USA\",\"USA\",\"USA\",\"USA\",\"USA\",\"USA\",\"USA\",\"USA\",\"USA\",\"USA\",\"USA\",\"USA\",\"USA\",\"USA\",\"USA\",\"USA\",\"USA\",\"USA\",\"USA\",\"USA\",\"USA\",\"USA\",\"USA\",\"USA\",\"USA\",\"USA\",\"USA\",\"USA\",\"USA\",\"USA\",\"USA\",\"USA\",\"USA\",\"USA\",\"USA\",\"USA\",\"USA\",\"USA\",\"USA\",\"USA\",\"USA\",\"USA\",\"USA\",\"USA\",\"USA\",\"USA\",\"USA\",\"USA\",\"USA\",\"USA\",\"USA\",\"USA\",\"USA\",\"USA\",\"USA\",\"USA\",\"USA\",\"USA\",\"USA\",\"USA\",\"USA\",\"USA\",\"USA\",\"USA\",\"USA\",\"USA\",\"USA\",\"USA\",\"USA\",\"USA\",\"USA\",\"USA\",\"USA\",\"USA\",\"USA\",\"USA\",\"USA\",\"USA\",\"USA\",\"USA\",\"USA\",\"USA\",\"USA\",\"USA\",\"USA\",\"USA\",\"USA\",\"USA\",\"USA\",\"USA\",\"USA\",\"USA\",\"USA\",\"USA\",\"USA\",\"USA\",\"USA\",\"USA\",\"USA\",\"USA\",\"USA\",\"USA\",\"USA\",\"USA\",\"USA\",\"USA\",\"USA\",\"USA\",\"USA\",\"USA\",\"USA\",\"USA\",\"USA\",\"USA\",\"USA\",\"USA\",\"USA\",\"USA\",\"USA\",\"USA\",\"USA\",\"USA\",\"USA\",\"USA\",\"USA\",\"USA\",\"USA\",\"USA\",\"USA\",\"USA\",\"USA\",\"USA\",\"USA\",\"USA\",\"USA\",\"USA\",\"USA\",\"USA\",\"USA\",\"USA\",\"USA\",\"USA\",\"USA\",\"USA\",\"USA\",\"USA\",\"USA\",\"USA\",\"USA\",\"USA\",\"USA\",\"USA\",\"USA\",\"USA\",\"USA\",\"USA\",\"USA\",\"USA\",\"USA\",\"USA\",\"USA\",\"USA\",\"USA\",\"USA\",\"USA\",\"USA\",\"USA\",\"USA\",\"USA\",\"USA\",\"USA\",\"USA\",\"USA\",\"USA\",\"USA\",\"USA\",\"USA\",\"USA\",\"USA\",\"USA\",\"USA\",\"USA\",\"USA\",\"USA\",\"USA\",\"USA\",\"USA\",\"USA\",\"USA\",\"USA\",\"USA\",\"USA\",\"USA\",\"USA\",\"USA\",\"USA\",\"USA\",\"USA\",\"USA\",\"USA\",\"USA\",\"USA\",\"USA\",\"USA\",\"USA\",\"USA\",\"USA\",\"USA\",\"USA\",\"USA\",\"USA\",\"USA\",\"USA\",\"USA\",\"USA\",\"USA\",\"USA\",\"USA\",\"USA\",\"USA\",\"USA\",\"USA\",\"USA\",\"USA\",\"USA\",\"USA\",\"USA\",\"USA\",\"USA\",\"USA\",\"USA\",\"USA\",\"USA\",\"USA\",\"USA\",\"USA\",\"USA\",\"USA\",\"USA\",\"USA\",\"USA\",\"USA\",\"USA\",\"USA\",\"USA\",\"USA\",\"USA\",\"USA\",\"USA\",\"USA\",\"USA\",\"USA\",\"USA\",\"USA\",\"USA\",\"USA\",\"USA\",\"USA\",\"USA\",\"USA\",\"USA\",\"USA\",\"USA\",\"USA\",\"USA\",\"USA\",\"USA\",\"USA\",\"USA\",\"USA\",\"USA\",\"USA\",\"USA\",\"USA\",\"USA\",\"USA\",\"USA\",\"USA\",\"USA\",\"USA\",\"USA\",\"USA\",\"USA\",\"USA\",\"USA\",\"USA\",\"USA\",\"USA\",\"USA\",\"USA\",\"USA\",\"USA\",\"USA\",\"USA\",\"USA\",\"USA\",\"USA\",\"USA\",\"USA\",\"USA\",\"USA\",\"USA\",\"USA\",\"USA\",\"USA\",\"USA\",\"USA\",\"USA\",\"USA\",\"USA\",\"USA\",\"USA\",\"USA\",\"USA\",\"USA\",\"USA\",\"USA\",\"USA\",\"USA\",\"USA\",\"USA\",\"USA\",\"USA\",\"USA\",\"USA\",\"USA\",\"USA\",\"USA\",\"USA\",\"USA\",\"USA\",\"USA\",\"USA\",\"USA\",\"USA\",\"USA\",\"USA\",\"USA\",\"USA\",\"USA\",\"USA\",\"USA\",\"USA\",\"USA\",\"USA\",\"USA\",\"USA\",\"USA\",\"USA\",\"USA\",\"USA\",\"USA\",\"USA\",\"USA\",\"USA\",\"USA\",\"USA\",\"USA\",\"USA\",\"USA\",\"USA\",\"USA\",\"USA\",\"USA\",\"USA\",\"USA\",\"USA\",\"USA\",\"USA\",\"USA\",\"USA\",\"USA\",\"USA\",\"USA\",\"USA\",\"USA\",\"USA\",\"USA\",\"USA\",\"USA\",\"USA\",\"USA\",\"USA\",\"USA\",\"USA\",\"USA\",\"USA\",\"USA\",\"USA\",\"USA\",\"USA\",\"USA\",\"USA\",\"USA\",\"USA\",\"USA\",\"USA\",\"USA\",\"USA\",\"USA\",\"USA\",\"USA\",\"USA\",\"USA\",\"USA\",\"USA\",\"USA\",\"USA\",\"USA\",\"USA\",\"USA\",\"USA\",\"USA\",\"USA\",\"USA\",\"USA\",\"USA\",\"USA\",\"USA\",\"USA\",\"USA\",\"USA\",\"USA\",\"USA\",\"USA\",\"USA\",\"USA\",\"USA\",\"USA\",\"USA\",\"USA\",\"USA\",\"USA\",\"USA\",\"USA\",\"USA\",\"USA\",\"USA\",\"USA\",\"USA\",\"USA\",\"USA\",\"USA\",\"USA\",\"USA\",\"USA\",\"USA\",\"USA\",\"USA\",\"USA\",\"USA\",\"USA\",\"USA\",\"USA\",\"USA\",\"USA\",\"USA\",\"USA\",\"USA\",\"USA\",\"USA\",\"USA\",\"USA\",\"USA\",\"USA\",\"USA\",\"USA\",\"USA\",\"USA\",\"USA\",\"USA\",\"USA\",\"USA\",\"USA\",\"USA\",\"USA\",\"USA\",\"USA\",\"USA\",\"USA\",\"USA\",\"USA\",\"USA\",\"USA\",\"USA\",\"USA\",\"USA\",\"USA\",\"USA\",\"USA\",\"USA\",\"USA\",\"USA\",\"USA\",\"USA\",\"USA\",\"USA\",\"USA\",\"USA\",\"USA\",\"USA\",\"USA\",\"USA\",\"USA\",\"USA\",\"USA\",\"USA\",\"USA\",\"USA\",\"USA\",\"USA\",\"USA\",\"USA\",\"USA\",\"USA\",\"USA\",\"USA\",\"USA\",\"USA\",\"USA\",\"USA\",\"USA\",\"USA\",\"USA\",\"USA\",\"USA\",\"USA\",\"USA\",\"USA\",\"USA\",\"USA\",\"USA\",\"USA\",\"USA\",\"USA\",\"USA\",\"USA\",\"USA\",\"USA\",\"USA\",\"USA\",\"USA\",\"USA\",\"USA\",\"USA\",\"USA\",\"USA\",\"USA\",\"USA\",\"USA\",\"USA\",\"USA\",\"USA\",\"USA\",\"USA\",\"USA\",\"USA\",\"USA\",\"USA\",\"USA\",\"USA\",\"USA\",\"USA\",\"USA\",\"USA\",\"USA\",\"USA\",\"USA\",\"USA\",\"USA\",\"USA\",\"USA\",\"USA\",\"USA\",\"USA\",\"USA\",\"USA\",\"USA\",\"USA\",\"USA\",\"USA\",\"USA\",\"USA\",\"USA\",\"USA\",\"USA\",\"USA\",\"USA\",\"USA\",\"USA\",\"USA\",\"USA\",\"USA\",\"USA\",\"USA\",\"USA\",\"USA\",\"USA\",\"USA\",\"USA\",\"USA\",\"USA\",\"USA\",\"USA\",\"USA\",\"USA\",\"USA\",\"USA\",\"USA\",\"USA\",\"USA\",\"USA\",\"USA\",\"USA\",\"USA\",\"USA\",\"USA\",\"USA\",\"USA\",\"USA\",\"USA\",\"USA\",\"USA\",\"USA\",\"USA\",\"USA\",\"USA\",\"USA\",\"USA\",\"USA\",\"USA\",\"USA\",\"USA\",\"USA\",\"USA\",\"USA\",\"USA\",\"USA\",\"USA\",\"USA\",\"USA\",\"USA\",\"USA\",\"USA\",\"USA\",\"USA\",\"USA\",\"USA\",\"USA\",\"USA\",\"USA\",\"USA\",\"USA\",\"USA\",\"USA\",\"USA\",\"USA\",\"USA\",\"USA\",\"USA\",\"USA\",\"USA\",\"USA\",\"USA\",\"USA\",\"USA\",\"USA\",\"USA\",\"USA\",\"USA\",\"USA\",\"USA\",\"USA\",\"USA\",\"USA\",\"USA\",\"USA\",\"USA\",\"USA\",\"USA\",\"USA\",\"USA\",\"USA\",\"USA\",\"USA\",\"USA\",\"USA\",\"USA\",\"USA\",\"USA\",\"USA\",\"USA\",\"USA\",\"USA\",\"USA\",\"USA\",\"USA\",\"USA\",\"USA\",\"USA\",\"USA\",\"USA\",\"USA\",\"USA\",\"USA\",\"USA\",\"USA\",\"USA\",\"USA\",\"USA\",\"USA\",\"USA\",\"USA\",\"USA\",\"USA\",\"USA\",\"USA\",\"USA\",\"USA\",\"USA\",\"USA\",\"USA\",\"USA\",\"USA\",\"USA\",\"USA\",\"USA\",\"USA\",\"USA\",\"USA\",\"USA\",\"USA\",\"USA\",\"USA\",\"USA\",\"USA\",\"USA\",\"USA\",\"USA\",\"USA\",\"USA\",\"USA\",\"USA\",\"USA\",\"USA\",\"USA\",\"USA\",\"USA\",\"USA\",\"USA\",\"USA\",\"USA\",\"USA\",\"USA\",\"USA\",\"USA\",\"USA\",\"USA\",\"USA\",\"USA\",\"USA\",\"USA\",\"USA\",\"USA\",\"USA\",\"USA\",\"USA\",\"USA\",\"USA\",\"USA\",\"USA\",\"USA\",\"USA\",\"USA\",\"USA\",\"USA\",\"USA\",\"USA\",\"USA\",\"USA\",\"USA\",\"USA\",\"USA\",\"USA\",\"USA\",\"USA\",\"USA\",\"USA\",\"USA\",\"USA\",\"USA\",\"USA\",\"USA\",\"USA\",\"USA\",\"USA\",\"USA\",\"USA\",\"USA\",\"USA\",\"USA\",\"USA\",\"USA\",\"USA\",\"USA\",\"USA\",\"USA\",\"USA\",\"USA\",\"USA\",\"USA\",\"USA\",\"USA\",\"USA\",\"USA\",\"USA\",\"USA\",\"USA\",\"USA\",\"USA\",\"USA\",\"USA\",\"USA\",\"USA\",\"USA\",\"USA\",\"USA\",\"USA\",\"USA\",\"USA\",\"USA\",\"USA\",\"USA\",\"USA\",\"USA\",\"USA\",\"USA\",\"USA\",\"USA\",\"USA\",\"USA\",\"USA\",\"USA\",\"USA\",\"USA\",\"USA\",\"USA\",\"USA\",\"USA\",\"USA\",\"USA\",\"USA\",\"USA\",\"USA\",\"USA\",\"USA\",\"USA\",\"USA\",\"USA\",\"USA\",\"USA\",\"USA\",\"USA\",\"USA\",\"USA\",\"USA\",\"USA\",\"USA\",\"USA\",\"USA\",\"USA\",\"USA\",\"USA\",\"USA\",\"USA\",\"USA\",\"USA\",\"USA\",\"USA\",\"USA\",\"USA\",\"USA\",\"USA\",\"USA\",\"USA\",\"USA\",\"USA\",\"USA\",\"USA\",\"USA\",\"USA\",\"USA\",\"USA\",\"USA\",\"USA\",\"USA\",\"USA\",\"USA\",\"USA\",\"USA\",\"USA\",\"USA\",\"USA\",\"USA\",\"USA\",\"USA\",\"USA\",\"USA\",\"USA\",\"USA\",\"USA\",\"USA\",\"USA\",\"USA\",\"USA\",\"USA\",\"USA\",\"USA\",\"USA\",\"USA\",\"USA\",\"USA\",\"USA\",\"USA\",\"USA\",\"USA\",\"USA\",\"USA\",\"USA\",\"USA\",\"USA\",\"USA\",\"USA\",\"USA\",\"USA\",\"USA\",\"USA\",\"USA\",\"USA\",\"USA\",\"USA\",\"USA\",\"USA\",\"USA\",\"USA\",\"USA\",\"USA\",\"USA\",\"USA\",\"USA\",\"USA\",\"USA\",\"USA\",\"USA\",\"USA\",\"USA\",\"USA\",\"USA\",\"USA\",\"USA\",\"USA\",\"USA\",\"USA\",\"USA\",\"USA\",\"USA\",\"USA\",\"USA\",\"USA\",\"USA\",\"USA\",\"USA\",\"USA\",\"USA\",\"USA\",\"USA\",\"USA\",\"USA\",\"USA\",\"USA\",\"USA\",\"USA\",\"USA\",\"USA\",\"USA\",\"USA\",\"USA\",\"USA\",\"USA\",\"USA\",\"USA\",\"USA\",\"USA\",\"USA\",\"USA\",\"USA\",\"USA\",\"USA\",\"USA\",\"USA\",\"USA\",\"USA\",\"USA\",\"USA\",\"USA\",\"USA\",\"USA\",\"USA\",\"USA\",\"USA\",\"USA\",\"USA\",\"USA\",\"USA\",\"USA\",\"USA\",\"USA\",\"USA\",\"USA\",\"USA\",\"USA\",\"USA\",\"USA\",\"USA\",\"USA\",\"USA\",\"USA\",\"USA\",\"USA\",\"USA\",\"USA\",\"USA\",\"USA\",\"USA\",\"USA\",\"USA\",\"USA\",\"USA\",\"USA\",\"USA\",\"USA\",\"USA\",\"USA\",\"USA\",\"USA\",\"USA\",\"USA\",\"USA\",\"USA\",\"USA\",\"USA\",\"USA\",\"USA\",\"USA\",\"USA\",\"USA\",\"USA\",\"USA\",\"USA\",\"USA\",\"USA\",\"USA\",\"USA\",\"USA\",\"USA\",\"USA\",\"USA\",\"USA\",\"USA\",\"USA\",\"USA\",\"USA\",\"USA\",\"USA\",\"USA\",\"USA\",\"USA\",\"USA\",\"USA\",\"USA\",\"USA\",\"USA\",\"USA\",\"USA\",\"USA\",\"USA\",\"USA\",\"USA\",\"USA\",\"USA\",\"USA\",\"USA\",\"USA\",\"USA\",\"USA\",\"USA\",\"USA\",\"USA\",\"USA\",\"USA\",\"USA\",\"USA\",\"USA\",\"USA\",\"USA\",\"USA\",\"USA\",\"USA\",\"USA\",\"USA\",\"USA\",\"USA\",\"USA\",\"USA\",\"USA\",\"USA\",\"USA\",\"USA\",\"USA\",\"USA\",\"USA\",\"USA\",\"USA\",\"USA\",\"USA\",\"USA\",\"USA\",\"USA\",\"USA\",\"USA\",\"USA\",\"USA\",\"USA\",\"USA\",\"USA\",\"USA\",\"USA\",\"USA\",\"USA\",\"USA\",\"USA\",\"USA\",\"USA\",\"USA\",\"USA\",\"USA\",\"USA\",\"USA\",\"USA\",\"USA\",\"USA\",\"USA\",\"USA\",\"USA\",\"USA\",\"USA\",\"USA\",\"USA\",\"USA\",\"USA\",\"USA\",\"USA\",\"USA\",\"USA\",\"USA\",\"USA\",\"USA\",\"USA\",\"USA\",\"USA\",\"USA\",\"USA\",\"USA\",\"USA\",\"USA\",\"USA\",\"USA\",\"USA\",\"USA\",\"USA\",\"USA\",\"USA\",\"USA\",\"USA\",\"USA\",\"USA\",\"USA\",\"USA\",\"USA\",\"USA\",\"USA\",\"USA\",\"USA\",\"USA\",\"USA\",\"USA\",\"USA\",\"USA\",\"USA\",\"USA\",\"USA\",\"USA\",\"USA\",\"USA\",\"USA\",\"USA\",\"USA\",\"USA\",\"USA\",\"USA\",\"USA\",\"USA\",\"USA\",\"USA\",\"USA\",\"USA\",\"USA\",\"USA\",\"USA\",\"USA\",\"USA\",\"USA\",\"USA\",\"USA\",\"USA\",\"USA\",\"USA\",\"USA\",\"USA\",\"USA\",\"USA\",\"USA\",\"USA\",\"USA\",\"USA\",\"USA\",\"USA\",\"USA\",\"USA\",\"USA\",\"USA\",\"USA\",\"USA\",\"USA\",\"USA\",\"USA\",\"USA\",\"USA\",\"USA\",\"USA\",\"USA\",\"USA\",\"USA\",\"USA\",\"USA\",\"USA\",\"USA\",\"USA\",\"USA\",\"USA\",\"USA\",\"USA\",\"USA\",\"USA\",\"USA\",\"USA\",\"USA\",\"USA\",\"USA\",\"USA\",\"USA\",\"USA\",\"USA\",\"USA\",\"USA\",\"USA\",\"USA\",\"USA\",\"USA\",\"USA\",\"USA\",\"USA\",\"USA\",\"USA\",\"USA\",\"USA\",\"USA\",\"USA\",\"USA\",\"USA\",\"USA\",\"USA\",\"USA\",\"USA\",\"USA\",\"USA\",\"USA\",\"USA\",\"USA\",\"USA\",\"USA\",\"USA\",\"USA\",\"USA\",\"USA\",\"USA\",\"USA\",\"USA\",\"USA\",\"USA\",\"USA\",\"USA\",\"USA\",\"USA\",\"USA\",\"USA\",\"USA\",\"USA\",\"USA\",\"USA\",\"USA\",\"USA\",\"USA\",\"USA\",\"USA\",\"USA\",\"USA\",\"USA\",\"USA\",\"USA\",\"USA\",\"USA\",\"USA\",\"USA\",\"USA\",\"USA\",\"USA\",\"USA\",\"USA\",\"USA\",\"USA\",\"USA\",\"USA\",\"USA\",\"USA\",\"USA\",\"USA\",\"USA\",\"USA\",\"USA\",\"USA\",\"USA\",\"USA\",\"USA\",\"USA\",\"USA\",\"USA\",\"USA\",\"USA\",\"USA\",\"USA\",\"USA\",\"USA\",\"USA\",\"USA\",\"USA\",\"USA\",\"USA\",\"USA\",\"USA\",\"USA\",\"USA\",\"USA\",\"USA\",\"USA\",\"USA\",\"USA\",\"USA\",\"USA\",\"USA\",\"USA\",\"USA\",\"USA\",\"USA\",\"USA\",\"USA\",\"USA\",\"USA\",\"USA\",\"USA\",\"USA\",\"USA\",\"USA\",\"USA\",\"USA\",\"USA\",\"USA\",\"USA\",\"USA\",\"USA\",\"USA\",\"USA\",\"USA\",\"USA\",\"USA\",\"USA\",\"USA\",\"USA\",\"USA\",\"USA\",\"USA\",\"USA\",\"USA\",\"USA\",\"USA\",\"USA\",\"USA\",\"USA\",\"USA\",\"USA\",\"USA\",\"USA\",\"USA\",\"USA\",\"USA\",\"USA\",\"USA\",\"USA\",\"USA\",\"USA\",\"USA\",\"USA\",\"USA\",\"USA\",\"USA\",\"USA\",\"USA\",\"USA\",\"USA\",\"USA\",\"USA\",\"USA\",\"USA\",\"USA\",\"USA\",\"USA\",\"USA\",\"USA\",\"USA\",\"USA\",\"USA\",\"USA\",\"USA\",\"USA\",\"USA\",\"USA\",\"USA\",\"USA\",\"USA\",\"USA\",\"USA\",\"USA\",\"USA\",\"USA\",\"USA\",\"USA\",\"USA\",\"USA\",\"USA\",\"USA\",\"USA\",\"USA\",\"USA\",\"USA\",\"USA\",\"USA\",\"USA\",\"USA\",\"USA\",\"USA\",\"USA\",\"USA\",\"USA\",\"USA\",\"USA\",\"USA\",\"USA\",\"USA\",\"USA\",\"USA\",\"USA\",\"USA\",\"USA\",\"USA\",\"USA\",\"USA\",\"USA\",\"USA\",\"USA\",\"USA\",\"USA\",\"USA\",\"USA\",\"USA\",\"USA\",\"USA\",\"USA\",\"USA\",\"USA\",\"USA\",\"USA\",\"USA\",\"USA\",\"USA\",\"USA\",\"USA\",\"USA\",\"USA\",\"USA\",\"USA\",\"USA\",\"USA\",\"USA\",\"USA\",\"USA\",\"USA\",\"USA\",\"USA\",\"USA\",\"USA\",\"USA\",\"USA\",\"USA\",\"USA\",\"USA\",\"USA\",\"USA\",\"USA\",\"USA\",\"USA\",\"USA\",\"USA\",\"USA\",\"USA\",\"USA\",\"USA\",\"USA\",\"USA\",\"USA\",\"USA\",\"USA\",\"USA\",\"USA\",\"USA\",\"USA\",\"USA\",\"USA\",\"USA\",\"USA\",\"USA\",\"USA\",\"USA\",\"USA\",\"USA\",\"USA\",\"USA\",\"USA\",\"USA\",\"USA\",\"USA\",\"USA\",\"USA\",\"USA\",\"USA\",\"USA\",\"USA\",\"USA\",\"USA\",\"USA\"],\"name\":\"USA\",\"showlegend\":true,\"showscale\":false,\"z\":[1,1,1,1,1,1,1,1,1,1,1,1,1,1,1,1,1,1,1,1,1,1,1,1,1,1,1,1,1,1,1,1,1,1,1,1,1,1,1,1,1,1,1,1,1,1,1,1,1,1,1,1,1,1,1,1,1,1,1,1,1,1,1,1,1,1,1,1,1,1,1,1,1,1,1,1,1,1,1,1,1,1,1,1,1,1,1,1,1,1,1,1,1,1,1,1,1,1,1,1,1,1,1,1,1,1,1,1,1,1,1,1,1,1,1,1,1,1,1,1,1,1,1,1,1,1,1,1,1,1,1,1,1,1,1,1,1,1,1,1,1,1,1,1,1,1,1,1,1,1,1,1,1,1,1,1,1,1,1,1,1,1,1,1,1,1,1,1,1,1,1,1,1,1,1,1,1,1,1,1,1,1,1,1,1,1,1,1,1,1,1,1,1,1,1,1,1,1,1,1,1,1,1,1,1,1,1,1,1,1,1,1,1,1,1,1,1,1,1,1,1,1,1,1,1,1,1,1,1,1,1,1,1,1,1,1,1,1,1,1,1,1,1,1,1,1,1,1,1,1,1,1,1,1,1,1,1,1,1,1,1,1,1,1,1,1,1,1,1,1,1,1,1,1,1,1,1,1,1,1,1,1,1,1,1,1,1,1,1,1,1,1,1,1,1,1,1,1,1,1,1,1,1,1,1,1,1,1,1,1,1,1,1,1,1,1,1,1,1,1,1,1,1,1,1,1,1,1,1,1,1,1,1,1,1,1,1,1,1,1,1,1,1,1,1,1,1,1,1,1,1,1,1,1,1,1,1,1,1,1,1,1,1,1,1,1,1,1,1,1,1,1,1,1,1,1,1,1,1,1,1,1,1,1,1,1,1,1,1,1,1,1,1,1,1,1,1,1,1,1,1,1,1,1,1,1,1,1,1,1,1,1,1,1,1,1,1,1,1,1,1,1,1,1,1,1,1,1,1,1,1,1,1,1,1,1,1,1,1,1,1,1,1,1,1,1,1,1,1,1,1,1,1,1,1,1,1,1,1,1,1,1,1,1,1,1,1,1,1,1,1,1,1,1,1,1,1,1,1,1,1,1,1,1,1,1,1,1,1,1,1,1,1,1,1,1,1,1,1,1,1,1,1,1,1,1,1,1,1,1,1,1,1,1,1,1,1,1,1,1,1,1,1,1,1,1,1,1,1,1,1,1,1,1,1,1,1,1,1,1,1,1,1,1,1,1,1,1,1,1,1,1,1,1,1,1,1,1,1,1,1,1,1,1,1,1,1,1,1,1,1,1,1,1,1,1,1,1,1,1,1,1,1,1,1,1,1,1,1,1,1,1,1,1,1,1,1,1,1,1,1,1,1,1,1,1,1,1,1,1,1,1,1,1,1,1,1,1,1,1,1,1,1,1,1,1,1,1,1,1,1,1,1,1,1,1,1,1,1,1,1,1,1,1,1,1,1,1,1,1,1,1,1,1,1,1,1,1,1,1,1,1,1,1,1,1,1,1,1,1,1,1,1,1,1,1,1,1,1,1,1,1,1,1,1,1,1,1,1,1,1,1,1,1,1,1,1,1,1,1,1,1,1,1,1,1,1,1,1,1,1,1,1,1,1,1,1,1,1,1,1,1,1,1,1,1,1,1,1,1,1,1,1,1,1,1,1,1,1,1,1,1,1,1,1,1,1,1,1,1,1,1,1,1,1,1,1,1,1,1,1,1,1,1,1,1,1,1,1,1,1,1,1,1,1,1,1,1,1,1,1,1,1,1,1,1,1,1,1,1,1,1,1,1,1,1,1,1,1,1,1,1,1,1,1,1,1,1,1,1,1,1,1,1,1,1,1,1,1,1,1,1,1,1,1,1,1,1,1,1,1,1,1,1,1,1,1,1,1,1,1,1,1,1,1,1,1,1,1,1,1,1,1,1,1,1,1,1,1,1,1,1,1,1,1,1,1,1,1,1,1,1,1,1,1,1,1,1,1,1,1,1,1,1,1,1,1,1,1,1,1,1,1,1,1,1,1,1,1,1,1,1,1,1,1,1,1,1,1,1,1,1,1,1,1,1,1,1,1,1,1,1,1,1,1,1,1,1,1,1,1,1,1,1,1,1,1,1,1,1,1,1,1,1,1,1,1,1,1,1,1,1,1,1,1,1,1,1,1,1,1,1,1,1,1,1,1,1,1,1,1,1,1,1,1,1,1,1,1,1,1,1,1,1,1,1,1,1,1,1,1,1,1,1,1,1,1,1,1,1,1,1,1,1,1,1,1,1,1,1,1,1,1,1,1,1,1,1,1,1,1,1,1,1,1,1,1,1,1,1,1,1,1,1,1,1,1,1,1,1,1,1,1,1,1,1,1,1,1,1,1,1,1,1,1,1,1,1,1,1,1,1,1,1,1,1,1,1,1,1,1,1,1,1,1,1,1,1,1,1,1,1,1,1,1,1,1,1,1,1,1,1,1,1,1,1,1,1,1,1,1,1,1,1,1,1,1,1,1,1,1,1,1,1,1,1,1,1,1,1,1,1,1,1,1,1,1,1,1,1,1,1,1,1,1,1,1,1,1,1,1,1,1,1,1,1,1,1,1,1,1,1,1,1,1,1,1,1,1,1,1,1,1,1,1,1,1,1,1,1,1,1,1,1,1,1,1,1,1,1,1,1,1,1,1,1,1,1,1,1,1,1,1,1,1,1,1,1,1,1,1,1,1,1,1,1,1,1,1,1,1,1,1,1,1,1,1,1,1,1,1,1,1,1,1,1,1,1,1,1,1,1,1,1,1,1,1,1,1,1,1,1,1,1,1,1,1,1,1,1,1,1,1,1,1,1,1,1,1,1,1,1,1,1,1,1,1,1,1,1,1,1,1,1,1,1,1,1,1,1,1,1,1,1,1,1,1,1,1,1,1,1,1,1,1,1,1,1,1,1,1,1,1,1,1,1,1,1,1,1,1,1,1,1,1,1,1,1,1,1,1,1,1,1,1,1,1,1,1,1,1,1,1,1,1,1,1,1,1,1,1,1,1,1,1,1,1,1,1,1,1,1,1,1,1,1,1,1,1,1,1,1,1,1,1,1,1,1,1,1,1,1,1,1,1,1,1,1,1,1,1,1,1,1,1,1,1,1,1,1,1,1,1,1,1,1,1,1,1,1,1,1,1,1,1,1,1,1,1,1,1,1,1,1,1,1,1,1,1,1,1,1,1,1,1,1,1,1,1,1,1,1,1,1,1,1,1,1,1,1,1,1,1,1,1,1,1,1,1,1,1,1,1,1,1,1,1,1,1,1,1,1,1,1,1,1,1,1,1,1,1,1,1,1,1,1,1,1,1,1,1,1,1,1,1,1,1,1,1,1,1,1,1,1,1,1,1,1,1,1,1,1,1,1,1,1,1,1,1,1,1,1,1,1,1,1,1,1,1,1,1,1,1,1,1,1,1,1,1,1,1,1,1,1,1,1,1,1,1,1,1,1,1,1,1,1,1,1,1,1,1,1,1,1,1,1,1,1,1,1,1,1,1,1,1,1,1,1,1,1,1,1,1,1,1,1,1,1,1,1,1,1,1,1,1,1,1,1,1,1,1,1,1,1,1,1,1,1,1,1,1,1,1,1,1,1,1,1,1,1,1,1,1,1,1,1,1,1,1,1,1,1,1,1,1,1,1,1,1,1,1,1,1,1,1,1,1,1,1,1,1,1,1,1,1,1,1,1,1,1,1,1,1,1,1,1,1,1,1,1,1,1,1,1,1,1,1,1,1,1,1,1,1,1,1,1,1,1,1,1,1,1,1,1,1,1,1,1,1,1,1,1,1,1,1,1,1,1,1,1,1,1,1,1,1,1,1,1,1,1,1,1,1,1,1,1,1,1,1,1,1,1,1,1,1,1,1,1,1,1,1,1,1,1,1,1,1,1,1,1,1,1,1,1,1,1,1,1,1,1,1,1,1,1,1,1,1,1,1,1,1,1,1,1,1,1,1,1,1,1,1,1,1,1,1,1,1,1,1,1,1,1,1,1,1,1,1,1,1,1,1,1,1,1,1,1,1,1,1,1,1,1,1,1,1,1,1,1,1,1,1,1,1,1,1,1,1,1,1,1,1,1,1,1,1,1,1,1,1,1,1,1,1,1,1,1,1,1,1,1,1,1,1,1,1,1,1,1,1,1,1,1,1,1,1,1,1,1,1,1,1,1,1,1,1,1,1,1,1,1,1,1,1,1,1,1,1,1,1,1,1,1,1,1,1,1,1,1,1,1,1,1,1,1,1,1,1,1,1,1,1,1,1,1,1,1,1,1,1,1,1,1,1,1,1,1,1,1,1,1,1,1,1,1,1,1,1,1,1,1,1,1,1,1,1,1,1,1,1,1,1,1,1,1,1,1,1,1,1,1,1,1,1,1,1,1,1,1,1,1,1,1,1,1,1,1,1,1,1,1,1,1,1,1,1,1,1,1,1,1,1,1,1,1,1,1,1,1,1,1,1,1,1,1,1,1,1,1,1,1,1,1,1,1,1,1,1,1,1,1,1,1,1,1,1,1,1,1,1,1,1,1,1,1,1,1,1,1,1,1,1,1,1,1,1,1,1,1,1,1,1,1,1,1,1,1,1,1,1,1,1,1,1,1,1,1,1,1,1,1,1,1,1,1,1,1,1,1,1,1,1,1,1,1,1,1,1,1,1,1,1,1,1,1,1,1,1,1,1,1,1,1,1,1,1,1,1,1,1,1,1,1,1,1,1,1,1,1,1,1,1,1,1,1,1,1,1,1,1,1,1,1,1,1,1,1,1,1,1,1,1,1,1,1,1,1,1,1,1,1,1,1,1,1,1,1,1,1,1,1,1,1,1,1,1,1,1,1,1,1,1,1,1,1,1,1,1,1,1,1,1,1,1,1,1,1,1,1,1,1,1,1,1,1,1,1,1,1,1,1,1,1,1,1,1,1,1,1,1,1,1,1,1,1,1,1,1,1,1,1,1,1,1,1,1,1,1,1,1,1,1,1,1,1,1,1,1,1,1,1,1,1,1,1,1,1,1,1,1,1,1,1,1,1,1,1,1,1,1,1,1,1,1,1,1,1,1,1,1,1,1,1,1,1,1,1,1,1,1,1,1,1,1,1,1,1,1,1,1,1,1,1,1,1,1,1,1,1,1,1,1,1,1,1,1,1,1,1,1,1,1,1,1,1,1,1,1,1,1,1,1,1,1,1,1,1,1,1,1,1,1,1,1,1,1,1,1,1,1,1,1,1,1,1,1,1,1,1,1,1,1,1,1,1,1,1,1,1,1,1,1,1,1,1,1,1,1,1,1,1,1,1,1,1,1,1,1,1,1,1,1,1,1,1,1,1,1,1,1,1,1,1,1,1,1,1,1,1,1,1,1,1,1,1,1,1,1,1,1,1,1,1,1,1,1,1,1,1,1,1,1,1,1,1,1,1,1,1,1,1,1,1,1,1,1,1,1,1,1,1,1,1,1,1,1,1,1,1,1,1,1,1,1,1,1,1,1,1,1,1,1,1,1,1,1,1,1,1,1,1,1,1,1,1,1,1,1,1,1,1,1,1,1,1,1,1,1,1,1,1,1,1,1,1,1,1,1,1,1,1,1,1,1,1,1,1,1,1,1,1,1,1,1,1,1,1,1,1,1,1,1,1,1,1,1,1,1,1,1,1,1,1,1,1,1,1,1,1,1,1,1,1,1,1,1,1,1,1,1,1,1,1,1,1,1,1,1,1,1,1,1,1,1,1,1,1,1,1,1,1,1,1,1,1,1,1,1,1,1,1,1,1,1,1,1,1,1,1,1,1,1,1,1,1,1,1,1,1,1,1,1,1,1,1,1,1,1,1,1,1,1,1,1,1,1,1,1,1,1,1,1,1,1,1,1,1,1,1,1,1,1,1,1,1,1,1,1,1,1,1,1,1,1,1,1,1,1,1,1,1,1,1,1,1,1,1,1,1,1,1,1,1,1,1,1,1,1,1,1,1,1,1,1,1,1,1,1,1,1,1,1,1,1,1,1,1,1,1,1,1,1,1,1,1,1,1,1,1,1,1,1,1,1,1,1,1,1,1,1,1,1,1,1,1,1,1,1,1,1,1,1,1,1,1,1,1,1,1,1,1,1,1,1,1,1,1,1,1,1,1,1,1,1,1,1,1,1,1,1,1,1,1,1,1,1,1,1,1,1,1,1,1,1,1,1,1,1,1,1,1,1,1,1,1,1,1,1,1,1,1,1,1,1,1,1,1,1,1,1,1,1,1,1,1,1,1,1,1,1,1,1,1,1,1,1,1,1,1,1,1,1,1,1,1,1,1,1,1,1,1,1,1,1,1,1,1,1,1,1,1,1,1,1,1,1,1,1,1,1,1,1,1,1,1,1,1,1,1,1,1,1,1,1,1,1,1,1,1,1,1,1,1,1,1,1,1,1,1,1,1,1,1,1,1,1,1,1,1,1,1,1,1,1,1,1,1,1,1,1,1,1,1,1,1,1,1,1,1,1,1,1,1,1,1,1,1,1,1,1,1,1,1,1,1,1,1,1,1,1,1,1,1,1,1,1,1,1,1,1,1,1,1,1,1,1,1,1,1,1,1,1,1,1,1,1,1,1,1,1,1,1,1,1,1,1,1,1,1,1,1,1,1,1,1,1,1,1,1,1,1,1,1,1,1,1,1,1,1,1,1,1,1,1,1,1,1,1,1,1,1,1,1,1,1,1,1,1,1,1,1,1,1,1,1,1,1,1,1,1,1,1,1,1,1],\"type\":\"choropleth\"},{\"colorscale\":[[0.0,\"#00cc96\"],[1.0,\"#00cc96\"]],\"geo\":\"geo\",\"hovertemplate\":\"color=CAN<br>locations=%{location}<extra></extra>\",\"locations\":[\"CAN\",\"CAN\",\"CAN\",\"CAN\",\"CAN\",\"CAN\",\"CAN\",\"CAN\",\"CAN\",\"CAN\",\"CAN\",\"CAN\",\"CAN\",\"CAN\",\"CAN\",\"CAN\",\"CAN\",\"CAN\",\"CAN\",\"CAN\",\"CAN\",\"CAN\",\"CAN\",\"CAN\",\"CAN\",\"CAN\",\"CAN\",\"CAN\",\"CAN\",\"CAN\",\"CAN\",\"CAN\",\"CAN\",\"CAN\",\"CAN\",\"CAN\",\"CAN\",\"CAN\",\"CAN\",\"CAN\",\"CAN\",\"CAN\",\"CAN\",\"CAN\",\"CAN\",\"CAN\",\"CAN\",\"CAN\",\"CAN\",\"CAN\",\"CAN\",\"CAN\",\"CAN\",\"CAN\",\"CAN\",\"CAN\",\"CAN\",\"CAN\",\"CAN\",\"CAN\",\"CAN\",\"CAN\",\"CAN\",\"CAN\",\"CAN\",\"CAN\",\"CAN\",\"CAN\",\"CAN\",\"CAN\",\"CAN\",\"CAN\",\"CAN\",\"CAN\",\"CAN\",\"CAN\",\"CAN\",\"CAN\",\"CAN\",\"CAN\",\"CAN\",\"CAN\",\"CAN\",\"CAN\",\"CAN\"],\"name\":\"CAN\",\"showlegend\":true,\"showscale\":false,\"z\":[1,1,1,1,1,1,1,1,1,1,1,1,1,1,1,1,1,1,1,1,1,1,1,1,1,1,1,1,1,1,1,1,1,1,1,1,1,1,1,1,1,1,1,1,1,1,1,1,1,1,1,1,1,1,1,1,1,1,1,1,1,1,1,1,1,1,1,1,1,1,1,1,1,1,1,1,1,1,1,1,1,1,1,1,1],\"type\":\"choropleth\"},{\"colorscale\":[[0.0,\"#ab63fa\"],[1.0,\"#ab63fa\"]],\"geo\":\"geo\",\"hovertemplate\":\"color=DEU<br>locations=%{location}<extra></extra>\",\"locations\":[\"DEU\",\"DEU\",\"DEU\",\"DEU\",\"DEU\",\"DEU\",\"DEU\",\"DEU\",\"DEU\",\"DEU\",\"DEU\",\"DEU\",\"DEU\",\"DEU\",\"DEU\",\"DEU\",\"DEU\",\"DEU\",\"DEU\",\"DEU\",\"DEU\",\"DEU\",\"DEU\",\"DEU\",\"DEU\",\"DEU\",\"DEU\",\"DEU\",\"DEU\",\"DEU\",\"DEU\",\"DEU\",\"DEU\",\"DEU\",\"DEU\",\"DEU\",\"DEU\",\"DEU\",\"DEU\",\"DEU\",\"DEU\",\"DEU\",\"DEU\",\"DEU\",\"DEU\",\"DEU\",\"DEU\",\"DEU\"],\"name\":\"DEU\",\"showlegend\":true,\"showscale\":false,\"z\":[1,1,1,1,1,1,1,1,1,1,1,1,1,1,1,1,1,1,1,1,1,1,1,1,1,1,1,1,1,1,1,1,1,1,1,1,1,1,1,1,1,1,1,1,1,1,1,1],\"type\":\"choropleth\"},{\"colorscale\":[[0.0,\"#FFA15A\"],[1.0,\"#FFA15A\"]],\"geo\":\"geo\",\"hovertemplate\":\"color=GBR<br>locations=%{location}<extra></extra>\",\"locations\":[\"GBR\",\"GBR\",\"GBR\",\"GBR\",\"GBR\",\"GBR\",\"GBR\",\"GBR\",\"GBR\",\"GBR\",\"GBR\",\"GBR\",\"GBR\",\"GBR\",\"GBR\",\"GBR\",\"GBR\",\"GBR\",\"GBR\",\"GBR\",\"GBR\",\"GBR\",\"GBR\",\"GBR\",\"GBR\",\"GBR\",\"GBR\",\"GBR\",\"GBR\",\"GBR\",\"GBR\",\"GBR\",\"GBR\",\"GBR\",\"GBR\",\"GBR\",\"GBR\",\"GBR\",\"GBR\",\"GBR\",\"GBR\",\"GBR\",\"GBR\",\"GBR\",\"GBR\",\"GBR\",\"GBR\",\"GBR\",\"GBR\",\"GBR\",\"GBR\",\"GBR\",\"GBR\",\"GBR\",\"GBR\",\"GBR\",\"GBR\",\"GBR\",\"GBR\",\"GBR\",\"GBR\",\"GBR\",\"GBR\",\"GBR\",\"GBR\",\"GBR\",\"GBR\",\"GBR\",\"GBR\",\"GBR\",\"GBR\",\"GBR\",\"GBR\",\"GBR\",\"GBR\",\"GBR\",\"GBR\",\"GBR\",\"GBR\",\"GBR\",\"GBR\",\"GBR\",\"GBR\",\"GBR\",\"GBR\",\"GBR\",\"GBR\",\"GBR\",\"GBR\",\"GBR\",\"GBR\",\"GBR\",\"GBR\",\"GBR\",\"GBR\",\"GBR\",\"GBR\",\"GBR\",\"GBR\",\"GBR\",\"GBR\",\"GBR\",\"GBR\",\"GBR\",\"GBR\",\"GBR\",\"GBR\",\"GBR\",\"GBR\",\"GBR\",\"GBR\",\"GBR\",\"GBR\",\"GBR\",\"GBR\",\"GBR\",\"GBR\",\"GBR\",\"GBR\",\"GBR\",\"GBR\",\"GBR\",\"GBR\",\"GBR\",\"GBR\",\"GBR\",\"GBR\",\"GBR\",\"GBR\",\"GBR\",\"GBR\",\"GBR\",\"GBR\",\"GBR\",\"GBR\",\"GBR\",\"GBR\",\"GBR\",\"GBR\",\"GBR\",\"GBR\",\"GBR\",\"GBR\",\"GBR\",\"GBR\",\"GBR\",\"GBR\",\"GBR\",\"GBR\",\"GBR\",\"GBR\",\"GBR\",\"GBR\",\"GBR\",\"GBR\",\"GBR\",\"GBR\",\"GBR\",\"GBR\",\"GBR\",\"GBR\",\"GBR\",\"GBR\",\"GBR\",\"GBR\",\"GBR\",\"GBR\"],\"name\":\"GBR\",\"showlegend\":true,\"showscale\":false,\"z\":[1,1,1,1,1,1,1,1,1,1,1,1,1,1,1,1,1,1,1,1,1,1,1,1,1,1,1,1,1,1,1,1,1,1,1,1,1,1,1,1,1,1,1,1,1,1,1,1,1,1,1,1,1,1,1,1,1,1,1,1,1,1,1,1,1,1,1,1,1,1,1,1,1,1,1,1,1,1,1,1,1,1,1,1,1,1,1,1,1,1,1,1,1,1,1,1,1,1,1,1,1,1,1,1,1,1,1,1,1,1,1,1,1,1,1,1,1,1,1,1,1,1,1,1,1,1,1,1,1,1,1,1,1,1,1,1,1,1,1,1,1,1,1,1,1,1,1,1,1,1,1,1,1,1,1,1,1,1,1,1,1,1,1,1,1,1,1],\"type\":\"choropleth\"},{\"colorscale\":[[0.0,\"#19d3f3\"],[1.0,\"#19d3f3\"]],\"geo\":\"geo\",\"hovertemplate\":\"color=NGA<br>locations=%{location}<extra></extra>\",\"locations\":[\"NGA\",\"NGA\",\"NGA\",\"NGA\",\"NGA\",\"NGA\",\"NGA\"],\"name\":\"NGA\",\"showlegend\":true,\"showscale\":false,\"z\":[1,1,1,1,1,1,1],\"type\":\"choropleth\"},{\"colorscale\":[[0.0,\"#FF6692\"],[1.0,\"#FF6692\"]],\"geo\":\"geo\",\"hovertemplate\":\"color=IND<br>locations=%{location}<extra></extra>\",\"locations\":[\"IND\",\"IND\",\"IND\",\"IND\",\"IND\",\"IND\",\"IND\",\"IND\",\"IND\",\"IND\",\"IND\",\"IND\",\"IND\",\"IND\",\"IND\",\"IND\",\"IND\",\"IND\",\"IND\",\"IND\",\"IND\",\"IND\",\"IND\",\"IND\",\"IND\",\"IND\",\"IND\",\"IND\",\"IND\",\"IND\",\"IND\",\"IND\",\"IND\",\"IND\",\"IND\",\"IND\",\"IND\",\"IND\",\"IND\",\"IND\",\"IND\",\"IND\",\"IND\",\"IND\",\"IND\",\"IND\",\"IND\",\"IND\",\"IND\",\"IND\",\"IND\",\"IND\",\"IND\",\"IND\",\"IND\",\"IND\",\"IND\",\"IND\",\"IND\",\"IND\",\"IND\",\"IND\",\"IND\",\"IND\",\"IND\",\"IND\",\"IND\",\"IND\",\"IND\",\"IND\",\"IND\"],\"name\":\"IND\",\"showlegend\":true,\"showscale\":false,\"z\":[1,1,1,1,1,1,1,1,1,1,1,1,1,1,1,1,1,1,1,1,1,1,1,1,1,1,1,1,1,1,1,1,1,1,1,1,1,1,1,1,1,1,1,1,1,1,1,1,1,1,1,1,1,1,1,1,1,1,1,1,1,1,1,1,1,1,1,1,1,1,1],\"type\":\"choropleth\"},{\"colorscale\":[[0.0,\"#B6E880\"],[1.0,\"#B6E880\"]],\"geo\":\"geo\",\"hovertemplate\":\"color=HKG<br>locations=%{location}<extra></extra>\",\"locations\":[\"HKG\",\"HKG\"],\"name\":\"HKG\",\"showlegend\":true,\"showscale\":false,\"z\":[1,1],\"type\":\"choropleth\"},{\"colorscale\":[[0.0,\"#FF97FF\"],[1.0,\"#FF97FF\"]],\"geo\":\"geo\",\"hovertemplate\":\"color=PRT<br>locations=%{location}<extra></extra>\",\"locations\":[\"PRT\",\"PRT\",\"PRT\",\"PRT\",\"PRT\",\"PRT\",\"PRT\",\"PRT\",\"PRT\",\"PRT\",\"PRT\",\"PRT\",\"PRT\",\"PRT\",\"PRT\",\"PRT\",\"PRT\",\"PRT\"],\"name\":\"PRT\",\"showlegend\":true,\"showscale\":false,\"z\":[1,1,1,1,1,1,1,1,1,1,1,1,1,1,1,1,1,1],\"type\":\"choropleth\"},{\"colorscale\":[[0.0,\"#FECB52\"],[1.0,\"#FECB52\"]],\"geo\":\"geo\",\"hovertemplate\":\"color=NLD<br>locations=%{location}<extra></extra>\",\"locations\":[\"NLD\",\"NLD\",\"NLD\",\"NLD\",\"NLD\",\"NLD\",\"NLD\",\"NLD\",\"NLD\",\"NLD\",\"NLD\",\"NLD\",\"NLD\",\"NLD\",\"NLD\"],\"name\":\"NLD\",\"showlegend\":true,\"showscale\":false,\"z\":[1,1,1,1,1,1,1,1,1,1,1,1,1,1,1],\"type\":\"choropleth\"},{\"colorscale\":[[0.0,\"#636efa\"],[1.0,\"#636efa\"]],\"geo\":\"geo\",\"hovertemplate\":\"color=CHE<br>locations=%{location}<extra></extra>\",\"locations\":[\"CHE\",\"CHE\",\"CHE\",\"CHE\"],\"name\":\"CHE\",\"showlegend\":true,\"showscale\":false,\"z\":[1,1,1,1],\"type\":\"choropleth\"},{\"colorscale\":[[0.0,\"#EF553B\"],[1.0,\"#EF553B\"]],\"geo\":\"geo\",\"hovertemplate\":\"color=CAF<br>locations=%{location}<extra></extra>\",\"locations\":[\"CAF\",\"CAF\"],\"name\":\"CAF\",\"showlegend\":true,\"showscale\":false,\"z\":[1,1],\"type\":\"choropleth\"},{\"colorscale\":[[0.0,\"#00cc96\"],[1.0,\"#00cc96\"]],\"geo\":\"geo\",\"hovertemplate\":\"color=FRA<br>locations=%{location}<extra></extra>\",\"locations\":[\"FRA\",\"FRA\",\"FRA\",\"FRA\",\"FRA\",\"FRA\",\"FRA\",\"FRA\",\"FRA\",\"FRA\",\"FRA\",\"FRA\",\"FRA\",\"FRA\",\"FRA\",\"FRA\",\"FRA\",\"FRA\",\"FRA\",\"FRA\",\"FRA\",\"FRA\",\"FRA\",\"FRA\",\"FRA\",\"FRA\",\"FRA\",\"FRA\",\"FRA\",\"FRA\",\"FRA\",\"FRA\",\"FRA\",\"FRA\",\"FRA\",\"FRA\",\"FRA\",\"FRA\"],\"name\":\"FRA\",\"showlegend\":true,\"showscale\":false,\"z\":[1,1,1,1,1,1,1,1,1,1,1,1,1,1,1,1,1,1,1,1,1,1,1,1,1,1,1,1,1,1,1,1,1,1,1,1,1,1],\"type\":\"choropleth\"},{\"colorscale\":[[0.0,\"#ab63fa\"],[1.0,\"#ab63fa\"]],\"geo\":\"geo\",\"hovertemplate\":\"color=AUS<br>locations=%{location}<extra></extra>\",\"locations\":[\"AUS\",\"AUS\",\"AUS\",\"AUS\",\"AUS\",\"AUS\",\"AUS\",\"AUS\",\"AUS\",\"AUS\",\"AUS\"],\"name\":\"AUS\",\"showlegend\":true,\"showscale\":false,\"z\":[1,1,1,1,1,1,1,1,1,1,1],\"type\":\"choropleth\"},{\"colorscale\":[[0.0,\"#FFA15A\"],[1.0,\"#FFA15A\"]],\"geo\":\"geo\",\"hovertemplate\":\"color=FIN<br>locations=%{location}<extra></extra>\",\"locations\":[\"FIN\",\"FIN\"],\"name\":\"FIN\",\"showlegend\":true,\"showscale\":false,\"z\":[1,1],\"type\":\"choropleth\"},{\"colorscale\":[[0.0,\"#19d3f3\"],[1.0,\"#19d3f3\"]],\"geo\":\"geo\",\"hovertemplate\":\"color=UKR<br>locations=%{location}<extra></extra>\",\"locations\":[\"UKR\",\"UKR\",\"UKR\",\"UKR\"],\"name\":\"UKR\",\"showlegend\":true,\"showscale\":false,\"z\":[1,1,1,1],\"type\":\"choropleth\"},{\"colorscale\":[[0.0,\"#FF6692\"],[1.0,\"#FF6692\"]],\"geo\":\"geo\",\"hovertemplate\":\"color=IRL<br>locations=%{location}<extra></extra>\",\"locations\":[\"IRL\",\"IRL\",\"IRL\",\"IRL\",\"IRL\",\"IRL\",\"IRL\"],\"name\":\"IRL\",\"showlegend\":true,\"showscale\":false,\"z\":[1,1,1,1,1,1,1],\"type\":\"choropleth\"},{\"colorscale\":[[0.0,\"#B6E880\"],[1.0,\"#B6E880\"]],\"geo\":\"geo\",\"hovertemplate\":\"color=ISR<br>locations=%{location}<extra></extra>\",\"locations\":[\"ISR\"],\"name\":\"ISR\",\"showlegend\":true,\"showscale\":false,\"z\":[1],\"type\":\"choropleth\"},{\"colorscale\":[[0.0,\"#FF97FF\"],[1.0,\"#FF97FF\"]],\"geo\":\"geo\",\"hovertemplate\":\"color=GHA<br>locations=%{location}<extra></extra>\",\"locations\":[\"GHA\",\"GHA\"],\"name\":\"GHA\",\"showlegend\":true,\"showscale\":false,\"z\":[1,1],\"type\":\"choropleth\"},{\"colorscale\":[[0.0,\"#FECB52\"],[1.0,\"#FECB52\"]],\"geo\":\"geo\",\"hovertemplate\":\"color=AUT<br>locations=%{location}<extra></extra>\",\"locations\":[\"AUT\",\"AUT\",\"AUT\",\"AUT\",\"AUT\",\"AUT\"],\"name\":\"AUT\",\"showlegend\":true,\"showscale\":false,\"z\":[1,1,1,1,1,1],\"type\":\"choropleth\"},{\"colorscale\":[[0.0,\"#636efa\"],[1.0,\"#636efa\"]],\"geo\":\"geo\",\"hovertemplate\":\"color=COL<br>locations=%{location}<extra></extra>\",\"locations\":[\"COL\",\"COL\",\"COL\",\"COL\"],\"name\":\"COL\",\"showlegend\":true,\"showscale\":false,\"z\":[1,1,1,1],\"type\":\"choropleth\"},{\"colorscale\":[[0.0,\"#EF553B\"],[1.0,\"#EF553B\"]],\"geo\":\"geo\",\"hovertemplate\":\"color=SGP<br>locations=%{location}<extra></extra>\",\"locations\":[\"SGP\",\"SGP\",\"SGP\",\"SGP\",\"SGP\"],\"name\":\"SGP\",\"showlegend\":true,\"showscale\":false,\"z\":[1,1,1,1,1],\"type\":\"choropleth\"},{\"colorscale\":[[0.0,\"#00cc96\"],[1.0,\"#00cc96\"]],\"geo\":\"geo\",\"hovertemplate\":\"color=SWE<br>locations=%{location}<extra></extra>\",\"locations\":[\"SWE\",\"SWE\"],\"name\":\"SWE\",\"showlegend\":true,\"showscale\":false,\"z\":[1,1],\"type\":\"choropleth\"},{\"colorscale\":[[0.0,\"#ab63fa\"],[1.0,\"#ab63fa\"]],\"geo\":\"geo\",\"hovertemplate\":\"color=SVN<br>locations=%{location}<extra></extra>\",\"locations\":[\"SVN\",\"SVN\",\"SVN\",\"SVN\"],\"name\":\"SVN\",\"showlegend\":true,\"showscale\":false,\"z\":[1,1,1,1],\"type\":\"choropleth\"},{\"colorscale\":[[0.0,\"#FFA15A\"],[1.0,\"#FFA15A\"]],\"geo\":\"geo\",\"hovertemplate\":\"color=MEX<br>locations=%{location}<extra></extra>\",\"locations\":[\"MEX\",\"MEX\",\"MEX\",\"MEX\",\"MEX\",\"MEX\",\"MEX\",\"MEX\",\"MEX\",\"MEX\"],\"name\":\"MEX\",\"showlegend\":true,\"showscale\":false,\"z\":[1,1,1,1,1,1,1,1,1,1],\"type\":\"choropleth\"},{\"colorscale\":[[0.0,\"#19d3f3\"],[1.0,\"#19d3f3\"]],\"geo\":\"geo\",\"hovertemplate\":\"color=UZB<br>locations=%{location}<extra></extra>\",\"locations\":[\"UZB\",\"UZB\"],\"name\":\"UZB\",\"showlegend\":true,\"showscale\":false,\"z\":[1,1],\"type\":\"choropleth\"},{\"colorscale\":[[0.0,\"#FF6692\"],[1.0,\"#FF6692\"]],\"geo\":\"geo\",\"hovertemplate\":\"color=BRA<br>locations=%{location}<extra></extra>\",\"locations\":[\"BRA\",\"BRA\",\"BRA\",\"BRA\",\"BRA\",\"BRA\",\"BRA\",\"BRA\",\"BRA\",\"BRA\",\"BRA\",\"BRA\",\"BRA\",\"BRA\",\"BRA\",\"BRA\",\"BRA\",\"BRA\"],\"name\":\"BRA\",\"showlegend\":true,\"showscale\":false,\"z\":[1,1,1,1,1,1,1,1,1,1,1,1,1,1,1,1,1,1],\"type\":\"choropleth\"},{\"colorscale\":[[0.0,\"#B6E880\"],[1.0,\"#B6E880\"]],\"geo\":\"geo\",\"hovertemplate\":\"color=THA<br>locations=%{location}<extra></extra>\",\"locations\":[\"THA\",\"THA\",\"THA\"],\"name\":\"THA\",\"showlegend\":true,\"showscale\":false,\"z\":[1,1,1],\"type\":\"choropleth\"},{\"colorscale\":[[0.0,\"#FF97FF\"],[1.0,\"#FF97FF\"]],\"geo\":\"geo\",\"hovertemplate\":\"color=HRV<br>locations=%{location}<extra></extra>\",\"locations\":[\"HRV\",\"HRV\",\"HRV\"],\"name\":\"HRV\",\"showlegend\":true,\"showscale\":false,\"z\":[1,1,1],\"type\":\"choropleth\"},{\"colorscale\":[[0.0,\"#FECB52\"],[1.0,\"#FECB52\"]],\"geo\":\"geo\",\"hovertemplate\":\"color=POL<br>locations=%{location}<extra></extra>\",\"locations\":[\"POL\",\"POL\",\"POL\",\"POL\",\"POL\",\"POL\"],\"name\":\"POL\",\"showlegend\":true,\"showscale\":false,\"z\":[1,1,1,1,1,1],\"type\":\"choropleth\"},{\"colorscale\":[[0.0,\"#636efa\"],[1.0,\"#636efa\"]],\"geo\":\"geo\",\"hovertemplate\":\"color=KWT<br>locations=%{location}<extra></extra>\",\"locations\":[\"KWT\"],\"name\":\"KWT\",\"showlegend\":true,\"showscale\":false,\"z\":[1],\"type\":\"choropleth\"},{\"colorscale\":[[0.0,\"#EF553B\"],[1.0,\"#EF553B\"]],\"geo\":\"geo\",\"hovertemplate\":\"color=VNM<br>locations=%{location}<extra></extra>\",\"locations\":[\"VNM\",\"VNM\",\"VNM\"],\"name\":\"VNM\",\"showlegend\":true,\"showscale\":false,\"z\":[1,1,1],\"type\":\"choropleth\"},{\"colorscale\":[[0.0,\"#00cc96\"],[1.0,\"#00cc96\"]],\"geo\":\"geo\",\"hovertemplate\":\"color=CYP<br>locations=%{location}<extra></extra>\",\"locations\":[\"CYP\"],\"name\":\"CYP\",\"showlegend\":true,\"showscale\":false,\"z\":[1],\"type\":\"choropleth\"},{\"colorscale\":[[0.0,\"#ab63fa\"],[1.0,\"#ab63fa\"]],\"geo\":\"geo\",\"hovertemplate\":\"color=ARG<br>locations=%{location}<extra></extra>\",\"locations\":[\"ARG\",\"ARG\",\"ARG\",\"ARG\",\"ARG\",\"ARG\"],\"name\":\"ARG\",\"showlegend\":true,\"showscale\":false,\"z\":[1,1,1,1,1,1],\"type\":\"choropleth\"},{\"colorscale\":[[0.0,\"#FFA15A\"],[1.0,\"#FFA15A\"]],\"geo\":\"geo\",\"hovertemplate\":\"color=ARM<br>locations=%{location}<extra></extra>\",\"locations\":[\"ARM\"],\"name\":\"ARM\",\"showlegend\":true,\"showscale\":false,\"z\":[1],\"type\":\"choropleth\"},{\"colorscale\":[[0.0,\"#19d3f3\"],[1.0,\"#19d3f3\"]],\"geo\":\"geo\",\"hovertemplate\":\"color=BIH<br>locations=%{location}<extra></extra>\",\"locations\":[\"BIH\"],\"name\":\"BIH\",\"showlegend\":true,\"showscale\":false,\"z\":[1],\"type\":\"choropleth\"},{\"colorscale\":[[0.0,\"#FF6692\"],[1.0,\"#FF6692\"]],\"geo\":\"geo\",\"hovertemplate\":\"color=KEN<br>locations=%{location}<extra></extra>\",\"locations\":[\"KEN\",\"KEN\"],\"name\":\"KEN\",\"showlegend\":true,\"showscale\":false,\"z\":[1,1],\"type\":\"choropleth\"},{\"colorscale\":[[0.0,\"#B6E880\"],[1.0,\"#B6E880\"]],\"geo\":\"geo\",\"hovertemplate\":\"color=GRC<br>locations=%{location}<extra></extra>\",\"locations\":[\"GRC\",\"GRC\",\"GRC\",\"GRC\",\"GRC\",\"GRC\",\"GRC\",\"GRC\",\"GRC\",\"GRC\",\"GRC\",\"GRC\",\"GRC\",\"GRC\",\"GRC\",\"GRC\"],\"name\":\"GRC\",\"showlegend\":true,\"showscale\":false,\"z\":[1,1,1,1,1,1,1,1,1,1,1,1,1,1,1,1],\"type\":\"choropleth\"},{\"colorscale\":[[0.0,\"#FF97FF\"],[1.0,\"#FF97FF\"]],\"geo\":\"geo\",\"hovertemplate\":\"color=MKD<br>locations=%{location}<extra></extra>\",\"locations\":[\"MKD\"],\"name\":\"MKD\",\"showlegend\":true,\"showscale\":false,\"z\":[1],\"type\":\"choropleth\"},{\"colorscale\":[[0.0,\"#FECB52\"],[1.0,\"#FECB52\"]],\"geo\":\"geo\",\"hovertemplate\":\"color=LVA<br>locations=%{location}<extra></extra>\",\"locations\":[\"LVA\",\"LVA\",\"LVA\",\"LVA\"],\"name\":\"LVA\",\"showlegend\":true,\"showscale\":false,\"z\":[1,1,1,1],\"type\":\"choropleth\"},{\"colorscale\":[[0.0,\"#636efa\"],[1.0,\"#636efa\"]],\"geo\":\"geo\",\"hovertemplate\":\"color=ROU<br>locations=%{location}<extra></extra>\",\"locations\":[\"ROU\",\"ROU\",\"ROU\"],\"name\":\"ROU\",\"showlegend\":true,\"showscale\":false,\"z\":[1,1,1],\"type\":\"choropleth\"},{\"colorscale\":[[0.0,\"#EF553B\"],[1.0,\"#EF553B\"]],\"geo\":\"geo\",\"hovertemplate\":\"color=PAK<br>locations=%{location}<extra></extra>\",\"locations\":[\"PAK\",\"PAK\",\"PAK\",\"PAK\",\"PAK\",\"PAK\",\"PAK\",\"PAK\"],\"name\":\"PAK\",\"showlegend\":true,\"showscale\":false,\"z\":[1,1,1,1,1,1,1,1],\"type\":\"choropleth\"},{\"colorscale\":[[0.0,\"#00cc96\"],[1.0,\"#00cc96\"]],\"geo\":\"geo\",\"hovertemplate\":\"color=ITA<br>locations=%{location}<extra></extra>\",\"locations\":[\"ITA\",\"ITA\",\"ITA\",\"ITA\",\"ITA\",\"ITA\",\"ITA\",\"ITA\"],\"name\":\"ITA\",\"showlegend\":true,\"showscale\":false,\"z\":[1,1,1,1,1,1,1,1],\"type\":\"choropleth\"},{\"colorscale\":[[0.0,\"#ab63fa\"],[1.0,\"#ab63fa\"]],\"geo\":\"geo\",\"hovertemplate\":\"color=MAR<br>locations=%{location}<extra></extra>\",\"locations\":[\"MAR\"],\"name\":\"MAR\",\"showlegend\":true,\"showscale\":false,\"z\":[1],\"type\":\"choropleth\"},{\"colorscale\":[[0.0,\"#FFA15A\"],[1.0,\"#FFA15A\"]],\"geo\":\"geo\",\"hovertemplate\":\"color=LTU<br>locations=%{location}<extra></extra>\",\"locations\":[\"LTU\",\"LTU\"],\"name\":\"LTU\",\"showlegend\":true,\"showscale\":false,\"z\":[1,1],\"type\":\"choropleth\"},{\"colorscale\":[[0.0,\"#19d3f3\"],[1.0,\"#19d3f3\"]],\"geo\":\"geo\",\"hovertemplate\":\"color=BEL<br>locations=%{location}<extra></extra>\",\"locations\":[\"BEL\",\"BEL\",\"BEL\",\"BEL\",\"BEL\"],\"name\":\"BEL\",\"showlegend\":true,\"showscale\":false,\"z\":[1,1,1,1,1],\"type\":\"choropleth\"},{\"colorscale\":[[0.0,\"#FF6692\"],[1.0,\"#FF6692\"]],\"geo\":\"geo\",\"hovertemplate\":\"color=ASM<br>locations=%{location}<extra></extra>\",\"locations\":[\"ASM\",\"ASM\"],\"name\":\"ASM\",\"showlegend\":true,\"showscale\":false,\"z\":[1,1],\"type\":\"choropleth\"},{\"colorscale\":[[0.0,\"#B6E880\"],[1.0,\"#B6E880\"]],\"geo\":\"geo\",\"hovertemplate\":\"color=IRN<br>locations=%{location}<extra></extra>\",\"locations\":[\"IRN\"],\"name\":\"IRN\",\"showlegend\":true,\"showscale\":false,\"z\":[1],\"type\":\"choropleth\"},{\"colorscale\":[[0.0,\"#FF97FF\"],[1.0,\"#FF97FF\"]],\"geo\":\"geo\",\"hovertemplate\":\"color=HUN<br>locations=%{location}<extra></extra>\",\"locations\":[\"HUN\",\"HUN\",\"HUN\"],\"name\":\"HUN\",\"showlegend\":true,\"showscale\":false,\"z\":[1,1,1],\"type\":\"choropleth\"},{\"colorscale\":[[0.0,\"#FECB52\"],[1.0,\"#FECB52\"]],\"geo\":\"geo\",\"hovertemplate\":\"color=SVK<br>locations=%{location}<extra></extra>\",\"locations\":[\"SVK\"],\"name\":\"SVK\",\"showlegend\":true,\"showscale\":false,\"z\":[1],\"type\":\"choropleth\"},{\"colorscale\":[[0.0,\"#636efa\"],[1.0,\"#636efa\"]],\"geo\":\"geo\",\"hovertemplate\":\"color=CHN<br>locations=%{location}<extra></extra>\",\"locations\":[\"CHN\"],\"name\":\"CHN\",\"showlegend\":true,\"showscale\":false,\"z\":[1],\"type\":\"choropleth\"},{\"colorscale\":[[0.0,\"#EF553B\"],[1.0,\"#EF553B\"]],\"geo\":\"geo\",\"hovertemplate\":\"color=CZE<br>locations=%{location}<extra></extra>\",\"locations\":[\"CZE\",\"CZE\"],\"name\":\"CZE\",\"showlegend\":true,\"showscale\":false,\"z\":[1,1],\"type\":\"choropleth\"},{\"colorscale\":[[0.0,\"#00cc96\"],[1.0,\"#00cc96\"]],\"geo\":\"geo\",\"hovertemplate\":\"color=CRI<br>locations=%{location}<extra></extra>\",\"locations\":[\"CRI\"],\"name\":\"CRI\",\"showlegend\":true,\"showscale\":false,\"z\":[1],\"type\":\"choropleth\"},{\"colorscale\":[[0.0,\"#ab63fa\"],[1.0,\"#ab63fa\"]],\"geo\":\"geo\",\"hovertemplate\":\"color=TUR<br>locations=%{location}<extra></extra>\",\"locations\":[\"TUR\",\"TUR\",\"TUR\",\"TUR\",\"TUR\"],\"name\":\"TUR\",\"showlegend\":true,\"showscale\":false,\"z\":[1,1,1,1,1],\"type\":\"choropleth\"},{\"colorscale\":[[0.0,\"#FFA15A\"],[1.0,\"#FFA15A\"]],\"geo\":\"geo\",\"hovertemplate\":\"color=CHL<br>locations=%{location}<extra></extra>\",\"locations\":[\"CHL\",\"CHL\"],\"name\":\"CHL\",\"showlegend\":true,\"showscale\":false,\"z\":[1,1],\"type\":\"choropleth\"},{\"colorscale\":[[0.0,\"#19d3f3\"],[1.0,\"#19d3f3\"]],\"geo\":\"geo\",\"hovertemplate\":\"color=PRI<br>locations=%{location}<extra></extra>\",\"locations\":[\"PRI\",\"PRI\",\"PRI\",\"PRI\",\"PRI\"],\"name\":\"PRI\",\"showlegend\":true,\"showscale\":false,\"z\":[1,1,1,1,1],\"type\":\"choropleth\"},{\"colorscale\":[[0.0,\"#FF6692\"],[1.0,\"#FF6692\"]],\"geo\":\"geo\",\"hovertemplate\":\"color=DNK<br>locations=%{location}<extra></extra>\",\"locations\":[\"DNK\",\"DNK\",\"DNK\"],\"name\":\"DNK\",\"showlegend\":true,\"showscale\":false,\"z\":[1,1,1],\"type\":\"choropleth\"},{\"colorscale\":[[0.0,\"#B6E880\"],[1.0,\"#B6E880\"]],\"geo\":\"geo\",\"hovertemplate\":\"color=BOL<br>locations=%{location}<extra></extra>\",\"locations\":[\"BOL\",\"BOL\",\"BOL\"],\"name\":\"BOL\",\"showlegend\":true,\"showscale\":false,\"z\":[1,1,1],\"type\":\"choropleth\"},{\"colorscale\":[[0.0,\"#FF97FF\"],[1.0,\"#FF97FF\"]],\"geo\":\"geo\",\"hovertemplate\":\"color=PHL<br>locations=%{location}<extra></extra>\",\"locations\":[\"PHL\",\"PHL\"],\"name\":\"PHL\",\"showlegend\":true,\"showscale\":false,\"z\":[1,1],\"type\":\"choropleth\"},{\"colorscale\":[[0.0,\"#FECB52\"],[1.0,\"#FECB52\"]],\"geo\":\"geo\",\"hovertemplate\":\"color=DOM<br>locations=%{location}<extra></extra>\",\"locations\":[\"DOM\"],\"name\":\"DOM\",\"showlegend\":true,\"showscale\":false,\"z\":[1],\"type\":\"choropleth\"},{\"colorscale\":[[0.0,\"#636efa\"],[1.0,\"#636efa\"]],\"geo\":\"geo\",\"hovertemplate\":\"color=EGY<br>locations=%{location}<extra></extra>\",\"locations\":[\"EGY\"],\"name\":\"EGY\",\"showlegend\":true,\"showscale\":false,\"z\":[1],\"type\":\"choropleth\"},{\"colorscale\":[[0.0,\"#EF553B\"],[1.0,\"#EF553B\"]],\"geo\":\"geo\",\"hovertemplate\":\"color=IDN<br>locations=%{location}<extra></extra>\",\"locations\":[\"IDN\"],\"name\":\"IDN\",\"showlegend\":true,\"showscale\":false,\"z\":[1],\"type\":\"choropleth\"},{\"colorscale\":[[0.0,\"#00cc96\"],[1.0,\"#00cc96\"]],\"geo\":\"geo\",\"hovertemplate\":\"color=ARE<br>locations=%{location}<extra></extra>\",\"locations\":[\"ARE\",\"ARE\",\"ARE\"],\"name\":\"ARE\",\"showlegend\":true,\"showscale\":false,\"z\":[1,1,1],\"type\":\"choropleth\"},{\"colorscale\":[[0.0,\"#ab63fa\"],[1.0,\"#ab63fa\"]],\"geo\":\"geo\",\"hovertemplate\":\"color=MYS<br>locations=%{location}<extra></extra>\",\"locations\":[\"MYS\"],\"name\":\"MYS\",\"showlegend\":true,\"showscale\":false,\"z\":[1],\"type\":\"choropleth\"},{\"colorscale\":[[0.0,\"#FFA15A\"],[1.0,\"#FFA15A\"]],\"geo\":\"geo\",\"hovertemplate\":\"color=JPN<br>locations=%{location}<extra></extra>\",\"locations\":[\"JPN\",\"JPN\",\"JPN\",\"JPN\",\"JPN\",\"JPN\",\"JPN\"],\"name\":\"JPN\",\"showlegend\":true,\"showscale\":false,\"z\":[1,1,1,1,1,1,1],\"type\":\"choropleth\"},{\"colorscale\":[[0.0,\"#19d3f3\"],[1.0,\"#19d3f3\"]],\"geo\":\"geo\",\"hovertemplate\":\"color=EST<br>locations=%{location}<extra></extra>\",\"locations\":[\"EST\"],\"name\":\"EST\",\"showlegend\":true,\"showscale\":false,\"z\":[1],\"type\":\"choropleth\"},{\"colorscale\":[[0.0,\"#FF6692\"],[1.0,\"#FF6692\"]],\"geo\":\"geo\",\"hovertemplate\":\"color=HND<br>locations=%{location}<extra></extra>\",\"locations\":[\"HND\"],\"name\":\"HND\",\"showlegend\":true,\"showscale\":false,\"z\":[1],\"type\":\"choropleth\"},{\"colorscale\":[[0.0,\"#B6E880\"],[1.0,\"#B6E880\"]],\"geo\":\"geo\",\"hovertemplate\":\"color=TUN<br>locations=%{location}<extra></extra>\",\"locations\":[\"TUN\"],\"name\":\"TUN\",\"showlegend\":true,\"showscale\":false,\"z\":[1],\"type\":\"choropleth\"},{\"colorscale\":[[0.0,\"#FF97FF\"],[1.0,\"#FF97FF\"]],\"geo\":\"geo\",\"hovertemplate\":\"color=RUS<br>locations=%{location}<extra></extra>\",\"locations\":[\"RUS\",\"RUS\",\"RUS\",\"RUS\"],\"name\":\"RUS\",\"showlegend\":true,\"showscale\":false,\"z\":[1,1,1,1],\"type\":\"choropleth\"},{\"colorscale\":[[0.0,\"#FECB52\"],[1.0,\"#FECB52\"]],\"geo\":\"geo\",\"hovertemplate\":\"color=DZA<br>locations=%{location}<extra></extra>\",\"locations\":[\"DZA\"],\"name\":\"DZA\",\"showlegend\":true,\"showscale\":false,\"z\":[1],\"type\":\"choropleth\"},{\"colorscale\":[[0.0,\"#636efa\"],[1.0,\"#636efa\"]],\"geo\":\"geo\",\"hovertemplate\":\"color=IRQ<br>locations=%{location}<extra></extra>\",\"locations\":[\"IRQ\"],\"name\":\"IRQ\",\"showlegend\":true,\"showscale\":false,\"z\":[1],\"type\":\"choropleth\"},{\"colorscale\":[[0.0,\"#EF553B\"],[1.0,\"#EF553B\"]],\"geo\":\"geo\",\"hovertemplate\":\"color=BGR<br>locations=%{location}<extra></extra>\",\"locations\":[\"BGR\"],\"name\":\"BGR\",\"showlegend\":true,\"showscale\":false,\"z\":[1],\"type\":\"choropleth\"},{\"colorscale\":[[0.0,\"#00cc96\"],[1.0,\"#00cc96\"]],\"geo\":\"geo\",\"hovertemplate\":\"color=JEY<br>locations=%{location}<extra></extra>\",\"locations\":[\"JEY\"],\"name\":\"JEY\",\"showlegend\":true,\"showscale\":false,\"z\":[1],\"type\":\"choropleth\"},{\"colorscale\":[[0.0,\"#ab63fa\"],[1.0,\"#ab63fa\"]],\"geo\":\"geo\",\"hovertemplate\":\"color=SRB<br>locations=%{location}<extra></extra>\",\"locations\":[\"SRB\"],\"name\":\"SRB\",\"showlegend\":true,\"showscale\":false,\"z\":[1],\"type\":\"choropleth\"},{\"colorscale\":[[0.0,\"#FFA15A\"],[1.0,\"#FFA15A\"]],\"geo\":\"geo\",\"hovertemplate\":\"color=NZL<br>locations=%{location}<extra></extra>\",\"locations\":[\"NZL\"],\"name\":\"NZL\",\"showlegend\":true,\"showscale\":false,\"z\":[1],\"type\":\"choropleth\"},{\"colorscale\":[[0.0,\"#19d3f3\"],[1.0,\"#19d3f3\"]],\"geo\":\"geo\",\"hovertemplate\":\"color=MDA<br>locations=%{location}<extra></extra>\",\"locations\":[\"MDA\"],\"name\":\"MDA\",\"showlegend\":true,\"showscale\":false,\"z\":[1],\"type\":\"choropleth\"},{\"colorscale\":[[0.0,\"#FF6692\"],[1.0,\"#FF6692\"]],\"geo\":\"geo\",\"hovertemplate\":\"color=LUX<br>locations=%{location}<extra></extra>\",\"locations\":[\"LUX\"],\"name\":\"LUX\",\"showlegend\":true,\"showscale\":false,\"z\":[1],\"type\":\"choropleth\"},{\"colorscale\":[[0.0,\"#B6E880\"],[1.0,\"#B6E880\"]],\"geo\":\"geo\",\"hovertemplate\":\"color=MLT<br>locations=%{location}<extra></extra>\",\"locations\":[\"MLT\"],\"name\":\"MLT\",\"showlegend\":true,\"showscale\":false,\"z\":[1],\"type\":\"choropleth\"}],                        {\"template\":{\"data\":{\"histogram2dcontour\":[{\"type\":\"histogram2dcontour\",\"colorbar\":{\"outlinewidth\":0,\"ticks\":\"\"},\"colorscale\":[[0.0,\"#0d0887\"],[0.1111111111111111,\"#46039f\"],[0.2222222222222222,\"#7201a8\"],[0.3333333333333333,\"#9c179e\"],[0.4444444444444444,\"#bd3786\"],[0.5555555555555556,\"#d8576b\"],[0.6666666666666666,\"#ed7953\"],[0.7777777777777778,\"#fb9f3a\"],[0.8888888888888888,\"#fdca26\"],[1.0,\"#f0f921\"]]}],\"choropleth\":[{\"type\":\"choropleth\",\"colorbar\":{\"outlinewidth\":0,\"ticks\":\"\"}}],\"histogram2d\":[{\"type\":\"histogram2d\",\"colorbar\":{\"outlinewidth\":0,\"ticks\":\"\"},\"colorscale\":[[0.0,\"#0d0887\"],[0.1111111111111111,\"#46039f\"],[0.2222222222222222,\"#7201a8\"],[0.3333333333333333,\"#9c179e\"],[0.4444444444444444,\"#bd3786\"],[0.5555555555555556,\"#d8576b\"],[0.6666666666666666,\"#ed7953\"],[0.7777777777777778,\"#fb9f3a\"],[0.8888888888888888,\"#fdca26\"],[1.0,\"#f0f921\"]]}],\"heatmap\":[{\"type\":\"heatmap\",\"colorbar\":{\"outlinewidth\":0,\"ticks\":\"\"},\"colorscale\":[[0.0,\"#0d0887\"],[0.1111111111111111,\"#46039f\"],[0.2222222222222222,\"#7201a8\"],[0.3333333333333333,\"#9c179e\"],[0.4444444444444444,\"#bd3786\"],[0.5555555555555556,\"#d8576b\"],[0.6666666666666666,\"#ed7953\"],[0.7777777777777778,\"#fb9f3a\"],[0.8888888888888888,\"#fdca26\"],[1.0,\"#f0f921\"]]}],\"heatmapgl\":[{\"type\":\"heatmapgl\",\"colorbar\":{\"outlinewidth\":0,\"ticks\":\"\"},\"colorscale\":[[0.0,\"#0d0887\"],[0.1111111111111111,\"#46039f\"],[0.2222222222222222,\"#7201a8\"],[0.3333333333333333,\"#9c179e\"],[0.4444444444444444,\"#bd3786\"],[0.5555555555555556,\"#d8576b\"],[0.6666666666666666,\"#ed7953\"],[0.7777777777777778,\"#fb9f3a\"],[0.8888888888888888,\"#fdca26\"],[1.0,\"#f0f921\"]]}],\"contourcarpet\":[{\"type\":\"contourcarpet\",\"colorbar\":{\"outlinewidth\":0,\"ticks\":\"\"}}],\"contour\":[{\"type\":\"contour\",\"colorbar\":{\"outlinewidth\":0,\"ticks\":\"\"},\"colorscale\":[[0.0,\"#0d0887\"],[0.1111111111111111,\"#46039f\"],[0.2222222222222222,\"#7201a8\"],[0.3333333333333333,\"#9c179e\"],[0.4444444444444444,\"#bd3786\"],[0.5555555555555556,\"#d8576b\"],[0.6666666666666666,\"#ed7953\"],[0.7777777777777778,\"#fb9f3a\"],[0.8888888888888888,\"#fdca26\"],[1.0,\"#f0f921\"]]}],\"surface\":[{\"type\":\"surface\",\"colorbar\":{\"outlinewidth\":0,\"ticks\":\"\"},\"colorscale\":[[0.0,\"#0d0887\"],[0.1111111111111111,\"#46039f\"],[0.2222222222222222,\"#7201a8\"],[0.3333333333333333,\"#9c179e\"],[0.4444444444444444,\"#bd3786\"],[0.5555555555555556,\"#d8576b\"],[0.6666666666666666,\"#ed7953\"],[0.7777777777777778,\"#fb9f3a\"],[0.8888888888888888,\"#fdca26\"],[1.0,\"#f0f921\"]]}],\"mesh3d\":[{\"type\":\"mesh3d\",\"colorbar\":{\"outlinewidth\":0,\"ticks\":\"\"}}],\"scatter\":[{\"fillpattern\":{\"fillmode\":\"overlay\",\"size\":10,\"solidity\":0.2},\"type\":\"scatter\"}],\"parcoords\":[{\"type\":\"parcoords\",\"line\":{\"colorbar\":{\"outlinewidth\":0,\"ticks\":\"\"}}}],\"scatterpolargl\":[{\"type\":\"scatterpolargl\",\"marker\":{\"colorbar\":{\"outlinewidth\":0,\"ticks\":\"\"}}}],\"bar\":[{\"error_x\":{\"color\":\"#2a3f5f\"},\"error_y\":{\"color\":\"#2a3f5f\"},\"marker\":{\"line\":{\"color\":\"#E5ECF6\",\"width\":0.5},\"pattern\":{\"fillmode\":\"overlay\",\"size\":10,\"solidity\":0.2}},\"type\":\"bar\"}],\"scattergeo\":[{\"type\":\"scattergeo\",\"marker\":{\"colorbar\":{\"outlinewidth\":0,\"ticks\":\"\"}}}],\"scatterpolar\":[{\"type\":\"scatterpolar\",\"marker\":{\"colorbar\":{\"outlinewidth\":0,\"ticks\":\"\"}}}],\"histogram\":[{\"marker\":{\"pattern\":{\"fillmode\":\"overlay\",\"size\":10,\"solidity\":0.2}},\"type\":\"histogram\"}],\"scattergl\":[{\"type\":\"scattergl\",\"marker\":{\"colorbar\":{\"outlinewidth\":0,\"ticks\":\"\"}}}],\"scatter3d\":[{\"type\":\"scatter3d\",\"line\":{\"colorbar\":{\"outlinewidth\":0,\"ticks\":\"\"}},\"marker\":{\"colorbar\":{\"outlinewidth\":0,\"ticks\":\"\"}}}],\"scattermapbox\":[{\"type\":\"scattermapbox\",\"marker\":{\"colorbar\":{\"outlinewidth\":0,\"ticks\":\"\"}}}],\"scatterternary\":[{\"type\":\"scatterternary\",\"marker\":{\"colorbar\":{\"outlinewidth\":0,\"ticks\":\"\"}}}],\"scattercarpet\":[{\"type\":\"scattercarpet\",\"marker\":{\"colorbar\":{\"outlinewidth\":0,\"ticks\":\"\"}}}],\"carpet\":[{\"aaxis\":{\"endlinecolor\":\"#2a3f5f\",\"gridcolor\":\"white\",\"linecolor\":\"white\",\"minorgridcolor\":\"white\",\"startlinecolor\":\"#2a3f5f\"},\"baxis\":{\"endlinecolor\":\"#2a3f5f\",\"gridcolor\":\"white\",\"linecolor\":\"white\",\"minorgridcolor\":\"white\",\"startlinecolor\":\"#2a3f5f\"},\"type\":\"carpet\"}],\"table\":[{\"cells\":{\"fill\":{\"color\":\"#EBF0F8\"},\"line\":{\"color\":\"white\"}},\"header\":{\"fill\":{\"color\":\"#C8D4E3\"},\"line\":{\"color\":\"white\"}},\"type\":\"table\"}],\"barpolar\":[{\"marker\":{\"line\":{\"color\":\"#E5ECF6\",\"width\":0.5},\"pattern\":{\"fillmode\":\"overlay\",\"size\":10,\"solidity\":0.2}},\"type\":\"barpolar\"}],\"pie\":[{\"automargin\":true,\"type\":\"pie\"}]},\"layout\":{\"autotypenumbers\":\"strict\",\"colorway\":[\"#636efa\",\"#EF553B\",\"#00cc96\",\"#ab63fa\",\"#FFA15A\",\"#19d3f3\",\"#FF6692\",\"#B6E880\",\"#FF97FF\",\"#FECB52\"],\"font\":{\"color\":\"#2a3f5f\"},\"hovermode\":\"closest\",\"hoverlabel\":{\"align\":\"left\"},\"paper_bgcolor\":\"white\",\"plot_bgcolor\":\"#E5ECF6\",\"polar\":{\"bgcolor\":\"#E5ECF6\",\"angularaxis\":{\"gridcolor\":\"white\",\"linecolor\":\"white\",\"ticks\":\"\"},\"radialaxis\":{\"gridcolor\":\"white\",\"linecolor\":\"white\",\"ticks\":\"\"}},\"ternary\":{\"bgcolor\":\"#E5ECF6\",\"aaxis\":{\"gridcolor\":\"white\",\"linecolor\":\"white\",\"ticks\":\"\"},\"baxis\":{\"gridcolor\":\"white\",\"linecolor\":\"white\",\"ticks\":\"\"},\"caxis\":{\"gridcolor\":\"white\",\"linecolor\":\"white\",\"ticks\":\"\"}},\"coloraxis\":{\"colorbar\":{\"outlinewidth\":0,\"ticks\":\"\"}},\"colorscale\":{\"sequential\":[[0.0,\"#0d0887\"],[0.1111111111111111,\"#46039f\"],[0.2222222222222222,\"#7201a8\"],[0.3333333333333333,\"#9c179e\"],[0.4444444444444444,\"#bd3786\"],[0.5555555555555556,\"#d8576b\"],[0.6666666666666666,\"#ed7953\"],[0.7777777777777778,\"#fb9f3a\"],[0.8888888888888888,\"#fdca26\"],[1.0,\"#f0f921\"]],\"sequentialminus\":[[0.0,\"#0d0887\"],[0.1111111111111111,\"#46039f\"],[0.2222222222222222,\"#7201a8\"],[0.3333333333333333,\"#9c179e\"],[0.4444444444444444,\"#bd3786\"],[0.5555555555555556,\"#d8576b\"],[0.6666666666666666,\"#ed7953\"],[0.7777777777777778,\"#fb9f3a\"],[0.8888888888888888,\"#fdca26\"],[1.0,\"#f0f921\"]],\"diverging\":[[0,\"#8e0152\"],[0.1,\"#c51b7d\"],[0.2,\"#de77ae\"],[0.3,\"#f1b6da\"],[0.4,\"#fde0ef\"],[0.5,\"#f7f7f7\"],[0.6,\"#e6f5d0\"],[0.7,\"#b8e186\"],[0.8,\"#7fbc41\"],[0.9,\"#4d9221\"],[1,\"#276419\"]]},\"xaxis\":{\"gridcolor\":\"white\",\"linecolor\":\"white\",\"ticks\":\"\",\"title\":{\"standoff\":15},\"zerolinecolor\":\"white\",\"automargin\":true,\"zerolinewidth\":2},\"yaxis\":{\"gridcolor\":\"white\",\"linecolor\":\"white\",\"ticks\":\"\",\"title\":{\"standoff\":15},\"zerolinecolor\":\"white\",\"automargin\":true,\"zerolinewidth\":2},\"scene\":{\"xaxis\":{\"backgroundcolor\":\"#E5ECF6\",\"gridcolor\":\"white\",\"linecolor\":\"white\",\"showbackground\":true,\"ticks\":\"\",\"zerolinecolor\":\"white\",\"gridwidth\":2},\"yaxis\":{\"backgroundcolor\":\"#E5ECF6\",\"gridcolor\":\"white\",\"linecolor\":\"white\",\"showbackground\":true,\"ticks\":\"\",\"zerolinecolor\":\"white\",\"gridwidth\":2},\"zaxis\":{\"backgroundcolor\":\"#E5ECF6\",\"gridcolor\":\"white\",\"linecolor\":\"white\",\"showbackground\":true,\"ticks\":\"\",\"zerolinecolor\":\"white\",\"gridwidth\":2}},\"shapedefaults\":{\"line\":{\"color\":\"#2a3f5f\"}},\"annotationdefaults\":{\"arrowcolor\":\"#2a3f5f\",\"arrowhead\":0,\"arrowwidth\":1},\"geo\":{\"bgcolor\":\"white\",\"landcolor\":\"#E5ECF6\",\"subunitcolor\":\"white\",\"showland\":true,\"showlakes\":true,\"lakecolor\":\"white\"},\"title\":{\"x\":0.05},\"mapbox\":{\"style\":\"light\"}}},\"geo\":{\"domain\":{\"x\":[0.0,1.0],\"y\":[0.0,1.0]},\"center\":{}},\"legend\":{\"title\":{\"text\":\"color\"},\"tracegroupgap\":0},\"title\":{\"text\":\"Countries involved in the Survey\"}},                        {\"responsive\": true}                    ).then(function(){\n",
              "                            \n",
              "var gd = document.getElementById('4835edf3-1ff3-4e5a-8962-65b0053b860b');\n",
              "var x = new MutationObserver(function (mutations, observer) {{\n",
              "        var display = window.getComputedStyle(gd).display;\n",
              "        if (!display || display === 'none') {{\n",
              "            console.log([gd, 'removed!']);\n",
              "            Plotly.purge(gd);\n",
              "            observer.disconnect();\n",
              "        }}\n",
              "}});\n",
              "\n",
              "// Listen for the removal of the full notebook cells\n",
              "var notebookContainer = gd.closest('#notebook-container');\n",
              "if (notebookContainer) {{\n",
              "    x.observe(notebookContainer, {childList: true});\n",
              "}}\n",
              "\n",
              "// Listen for the clearing of the current output cell\n",
              "var outputEl = gd.closest('.output');\n",
              "if (outputEl) {{\n",
              "    x.observe(outputEl, {childList: true});\n",
              "}}\n",
              "\n",
              "                        })                };                            </script>        </div>\n",
              "</body>\n",
              "</html>"
            ]
          },
          "metadata": {}
        }
      ]
    },
    {
      "cell_type": "markdown",
      "source": [
        "**2) Which are the top 10 popular job designations?**\n",
        "\n",
        "To identify the top 10 popular job designations in the dataset, will analyze the column containing the job titles or any relevant column related to job designations. By performing a frequency count of the job titles and selecting the top 10 most frequently occurring designations, we can determine the popular job titles in the dataset.\n"
      ],
      "metadata": {
        "id": "xmpbjjfC7VCF"
      }
    },
    {
      "cell_type": "code",
      "source": [
        "df['job_title'].value_counts().head(10)"
      ],
      "metadata": {
        "colab": {
          "base_uri": "https://localhost:8080/"
        },
        "id": "enjcmBKF8rnv",
        "outputId": "335bf6ed-ee28-478f-a486-8419f8066f18"
      },
      "execution_count": null,
      "outputs": [
        {
          "output_type": "execute_result",
          "data": {
            "text/plain": [
              "Data Engineer                1040\n",
              "Data Scientist                840\n",
              "Data Analyst                  612\n",
              "Machine Learning Engineer     289\n",
              "Analytics Engineer            103\n",
              "Data Architect                101\n",
              "Research Scientist             82\n",
              "Data Science Manager           58\n",
              "Applied Scientist              58\n",
              "Research Engineer              37\n",
              "Name: job_title, dtype: int64"
            ]
          },
          "metadata": {},
          "execution_count": 206
        }
      ]
    },
    {
      "cell_type": "code",
      "source": [
        "top_10_jobs = df['job_title'].value_counts().head(10)  # Calculating the top 10 most frequent job titles\n",
        "\n",
        "fig = px.bar(x=top_10_jobs.index,  # Setting the x-axis values as the job designations\n",
        "             y=top_10_jobs,  # Setting the y-axis values as the number of posts for each job designation\n",
        "             title='Top 10 Most Popular Job Designations',  # Setting the title of the chart\n",
        "             labels={'y': 'No. of Posts', 'x': 'Job Designations'})  # Setting the labels for the axes\n",
        "\n",
        "fig.show()  # Displaying the bar chart\n"
      ],
      "metadata": {
        "colab": {
          "base_uri": "https://localhost:8080/",
          "height": 542
        },
        "id": "H7bR9Kdg-sBJ",
        "outputId": "78479624-7b84-402a-db75-1f2ec9f659bd"
      },
      "execution_count": null,
      "outputs": [
        {
          "output_type": "display_data",
          "data": {
            "text/html": [
              "<html>\n",
              "<head><meta charset=\"utf-8\" /></head>\n",
              "<body>\n",
              "    <div>            <script src=\"https://cdnjs.cloudflare.com/ajax/libs/mathjax/2.7.5/MathJax.js?config=TeX-AMS-MML_SVG\"></script><script type=\"text/javascript\">if (window.MathJax && window.MathJax.Hub && window.MathJax.Hub.Config) {window.MathJax.Hub.Config({SVG: {font: \"STIX-Web\"}});}</script>                <script type=\"text/javascript\">window.PlotlyConfig = {MathJaxConfig: 'local'};</script>\n",
              "        <script src=\"https://cdn.plot.ly/plotly-2.18.2.min.js\"></script>                <div id=\"a6f25cea-acc7-4550-ba37-a5dc3d67e402\" class=\"plotly-graph-div\" style=\"height:525px; width:100%;\"></div>            <script type=\"text/javascript\">                                    window.PLOTLYENV=window.PLOTLYENV || {};                                    if (document.getElementById(\"a6f25cea-acc7-4550-ba37-a5dc3d67e402\")) {                    Plotly.newPlot(                        \"a6f25cea-acc7-4550-ba37-a5dc3d67e402\",                        [{\"alignmentgroup\":\"True\",\"hovertemplate\":\"Job Designations=%{x}<br>No. of Posts=%{y}<extra></extra>\",\"legendgroup\":\"\",\"marker\":{\"color\":\"#636efa\",\"pattern\":{\"shape\":\"\"}},\"name\":\"\",\"offsetgroup\":\"\",\"orientation\":\"v\",\"showlegend\":false,\"textposition\":\"auto\",\"x\":[\"Data Engineer\",\"Data Scientist\",\"Data Analyst\",\"Machine Learning Engineer\",\"Analytics Engineer\",\"Data Architect\",\"Research Scientist\",\"Data Science Manager\",\"Applied Scientist\",\"Research Engineer\"],\"xaxis\":\"x\",\"y\":[1040,840,612,289,103,101,82,58,58,37],\"yaxis\":\"y\",\"type\":\"bar\"}],                        {\"template\":{\"data\":{\"histogram2dcontour\":[{\"type\":\"histogram2dcontour\",\"colorbar\":{\"outlinewidth\":0,\"ticks\":\"\"},\"colorscale\":[[0.0,\"#0d0887\"],[0.1111111111111111,\"#46039f\"],[0.2222222222222222,\"#7201a8\"],[0.3333333333333333,\"#9c179e\"],[0.4444444444444444,\"#bd3786\"],[0.5555555555555556,\"#d8576b\"],[0.6666666666666666,\"#ed7953\"],[0.7777777777777778,\"#fb9f3a\"],[0.8888888888888888,\"#fdca26\"],[1.0,\"#f0f921\"]]}],\"choropleth\":[{\"type\":\"choropleth\",\"colorbar\":{\"outlinewidth\":0,\"ticks\":\"\"}}],\"histogram2d\":[{\"type\":\"histogram2d\",\"colorbar\":{\"outlinewidth\":0,\"ticks\":\"\"},\"colorscale\":[[0.0,\"#0d0887\"],[0.1111111111111111,\"#46039f\"],[0.2222222222222222,\"#7201a8\"],[0.3333333333333333,\"#9c179e\"],[0.4444444444444444,\"#bd3786\"],[0.5555555555555556,\"#d8576b\"],[0.6666666666666666,\"#ed7953\"],[0.7777777777777778,\"#fb9f3a\"],[0.8888888888888888,\"#fdca26\"],[1.0,\"#f0f921\"]]}],\"heatmap\":[{\"type\":\"heatmap\",\"colorbar\":{\"outlinewidth\":0,\"ticks\":\"\"},\"colorscale\":[[0.0,\"#0d0887\"],[0.1111111111111111,\"#46039f\"],[0.2222222222222222,\"#7201a8\"],[0.3333333333333333,\"#9c179e\"],[0.4444444444444444,\"#bd3786\"],[0.5555555555555556,\"#d8576b\"],[0.6666666666666666,\"#ed7953\"],[0.7777777777777778,\"#fb9f3a\"],[0.8888888888888888,\"#fdca26\"],[1.0,\"#f0f921\"]]}],\"heatmapgl\":[{\"type\":\"heatmapgl\",\"colorbar\":{\"outlinewidth\":0,\"ticks\":\"\"},\"colorscale\":[[0.0,\"#0d0887\"],[0.1111111111111111,\"#46039f\"],[0.2222222222222222,\"#7201a8\"],[0.3333333333333333,\"#9c179e\"],[0.4444444444444444,\"#bd3786\"],[0.5555555555555556,\"#d8576b\"],[0.6666666666666666,\"#ed7953\"],[0.7777777777777778,\"#fb9f3a\"],[0.8888888888888888,\"#fdca26\"],[1.0,\"#f0f921\"]]}],\"contourcarpet\":[{\"type\":\"contourcarpet\",\"colorbar\":{\"outlinewidth\":0,\"ticks\":\"\"}}],\"contour\":[{\"type\":\"contour\",\"colorbar\":{\"outlinewidth\":0,\"ticks\":\"\"},\"colorscale\":[[0.0,\"#0d0887\"],[0.1111111111111111,\"#46039f\"],[0.2222222222222222,\"#7201a8\"],[0.3333333333333333,\"#9c179e\"],[0.4444444444444444,\"#bd3786\"],[0.5555555555555556,\"#d8576b\"],[0.6666666666666666,\"#ed7953\"],[0.7777777777777778,\"#fb9f3a\"],[0.8888888888888888,\"#fdca26\"],[1.0,\"#f0f921\"]]}],\"surface\":[{\"type\":\"surface\",\"colorbar\":{\"outlinewidth\":0,\"ticks\":\"\"},\"colorscale\":[[0.0,\"#0d0887\"],[0.1111111111111111,\"#46039f\"],[0.2222222222222222,\"#7201a8\"],[0.3333333333333333,\"#9c179e\"],[0.4444444444444444,\"#bd3786\"],[0.5555555555555556,\"#d8576b\"],[0.6666666666666666,\"#ed7953\"],[0.7777777777777778,\"#fb9f3a\"],[0.8888888888888888,\"#fdca26\"],[1.0,\"#f0f921\"]]}],\"mesh3d\":[{\"type\":\"mesh3d\",\"colorbar\":{\"outlinewidth\":0,\"ticks\":\"\"}}],\"scatter\":[{\"fillpattern\":{\"fillmode\":\"overlay\",\"size\":10,\"solidity\":0.2},\"type\":\"scatter\"}],\"parcoords\":[{\"type\":\"parcoords\",\"line\":{\"colorbar\":{\"outlinewidth\":0,\"ticks\":\"\"}}}],\"scatterpolargl\":[{\"type\":\"scatterpolargl\",\"marker\":{\"colorbar\":{\"outlinewidth\":0,\"ticks\":\"\"}}}],\"bar\":[{\"error_x\":{\"color\":\"#2a3f5f\"},\"error_y\":{\"color\":\"#2a3f5f\"},\"marker\":{\"line\":{\"color\":\"#E5ECF6\",\"width\":0.5},\"pattern\":{\"fillmode\":\"overlay\",\"size\":10,\"solidity\":0.2}},\"type\":\"bar\"}],\"scattergeo\":[{\"type\":\"scattergeo\",\"marker\":{\"colorbar\":{\"outlinewidth\":0,\"ticks\":\"\"}}}],\"scatterpolar\":[{\"type\":\"scatterpolar\",\"marker\":{\"colorbar\":{\"outlinewidth\":0,\"ticks\":\"\"}}}],\"histogram\":[{\"marker\":{\"pattern\":{\"fillmode\":\"overlay\",\"size\":10,\"solidity\":0.2}},\"type\":\"histogram\"}],\"scattergl\":[{\"type\":\"scattergl\",\"marker\":{\"colorbar\":{\"outlinewidth\":0,\"ticks\":\"\"}}}],\"scatter3d\":[{\"type\":\"scatter3d\",\"line\":{\"colorbar\":{\"outlinewidth\":0,\"ticks\":\"\"}},\"marker\":{\"colorbar\":{\"outlinewidth\":0,\"ticks\":\"\"}}}],\"scattermapbox\":[{\"type\":\"scattermapbox\",\"marker\":{\"colorbar\":{\"outlinewidth\":0,\"ticks\":\"\"}}}],\"scatterternary\":[{\"type\":\"scatterternary\",\"marker\":{\"colorbar\":{\"outlinewidth\":0,\"ticks\":\"\"}}}],\"scattercarpet\":[{\"type\":\"scattercarpet\",\"marker\":{\"colorbar\":{\"outlinewidth\":0,\"ticks\":\"\"}}}],\"carpet\":[{\"aaxis\":{\"endlinecolor\":\"#2a3f5f\",\"gridcolor\":\"white\",\"linecolor\":\"white\",\"minorgridcolor\":\"white\",\"startlinecolor\":\"#2a3f5f\"},\"baxis\":{\"endlinecolor\":\"#2a3f5f\",\"gridcolor\":\"white\",\"linecolor\":\"white\",\"minorgridcolor\":\"white\",\"startlinecolor\":\"#2a3f5f\"},\"type\":\"carpet\"}],\"table\":[{\"cells\":{\"fill\":{\"color\":\"#EBF0F8\"},\"line\":{\"color\":\"white\"}},\"header\":{\"fill\":{\"color\":\"#C8D4E3\"},\"line\":{\"color\":\"white\"}},\"type\":\"table\"}],\"barpolar\":[{\"marker\":{\"line\":{\"color\":\"#E5ECF6\",\"width\":0.5},\"pattern\":{\"fillmode\":\"overlay\",\"size\":10,\"solidity\":0.2}},\"type\":\"barpolar\"}],\"pie\":[{\"automargin\":true,\"type\":\"pie\"}]},\"layout\":{\"autotypenumbers\":\"strict\",\"colorway\":[\"#636efa\",\"#EF553B\",\"#00cc96\",\"#ab63fa\",\"#FFA15A\",\"#19d3f3\",\"#FF6692\",\"#B6E880\",\"#FF97FF\",\"#FECB52\"],\"font\":{\"color\":\"#2a3f5f\"},\"hovermode\":\"closest\",\"hoverlabel\":{\"align\":\"left\"},\"paper_bgcolor\":\"white\",\"plot_bgcolor\":\"#E5ECF6\",\"polar\":{\"bgcolor\":\"#E5ECF6\",\"angularaxis\":{\"gridcolor\":\"white\",\"linecolor\":\"white\",\"ticks\":\"\"},\"radialaxis\":{\"gridcolor\":\"white\",\"linecolor\":\"white\",\"ticks\":\"\"}},\"ternary\":{\"bgcolor\":\"#E5ECF6\",\"aaxis\":{\"gridcolor\":\"white\",\"linecolor\":\"white\",\"ticks\":\"\"},\"baxis\":{\"gridcolor\":\"white\",\"linecolor\":\"white\",\"ticks\":\"\"},\"caxis\":{\"gridcolor\":\"white\",\"linecolor\":\"white\",\"ticks\":\"\"}},\"coloraxis\":{\"colorbar\":{\"outlinewidth\":0,\"ticks\":\"\"}},\"colorscale\":{\"sequential\":[[0.0,\"#0d0887\"],[0.1111111111111111,\"#46039f\"],[0.2222222222222222,\"#7201a8\"],[0.3333333333333333,\"#9c179e\"],[0.4444444444444444,\"#bd3786\"],[0.5555555555555556,\"#d8576b\"],[0.6666666666666666,\"#ed7953\"],[0.7777777777777778,\"#fb9f3a\"],[0.8888888888888888,\"#fdca26\"],[1.0,\"#f0f921\"]],\"sequentialminus\":[[0.0,\"#0d0887\"],[0.1111111111111111,\"#46039f\"],[0.2222222222222222,\"#7201a8\"],[0.3333333333333333,\"#9c179e\"],[0.4444444444444444,\"#bd3786\"],[0.5555555555555556,\"#d8576b\"],[0.6666666666666666,\"#ed7953\"],[0.7777777777777778,\"#fb9f3a\"],[0.8888888888888888,\"#fdca26\"],[1.0,\"#f0f921\"]],\"diverging\":[[0,\"#8e0152\"],[0.1,\"#c51b7d\"],[0.2,\"#de77ae\"],[0.3,\"#f1b6da\"],[0.4,\"#fde0ef\"],[0.5,\"#f7f7f7\"],[0.6,\"#e6f5d0\"],[0.7,\"#b8e186\"],[0.8,\"#7fbc41\"],[0.9,\"#4d9221\"],[1,\"#276419\"]]},\"xaxis\":{\"gridcolor\":\"white\",\"linecolor\":\"white\",\"ticks\":\"\",\"title\":{\"standoff\":15},\"zerolinecolor\":\"white\",\"automargin\":true,\"zerolinewidth\":2},\"yaxis\":{\"gridcolor\":\"white\",\"linecolor\":\"white\",\"ticks\":\"\",\"title\":{\"standoff\":15},\"zerolinecolor\":\"white\",\"automargin\":true,\"zerolinewidth\":2},\"scene\":{\"xaxis\":{\"backgroundcolor\":\"#E5ECF6\",\"gridcolor\":\"white\",\"linecolor\":\"white\",\"showbackground\":true,\"ticks\":\"\",\"zerolinecolor\":\"white\",\"gridwidth\":2},\"yaxis\":{\"backgroundcolor\":\"#E5ECF6\",\"gridcolor\":\"white\",\"linecolor\":\"white\",\"showbackground\":true,\"ticks\":\"\",\"zerolinecolor\":\"white\",\"gridwidth\":2},\"zaxis\":{\"backgroundcolor\":\"#E5ECF6\",\"gridcolor\":\"white\",\"linecolor\":\"white\",\"showbackground\":true,\"ticks\":\"\",\"zerolinecolor\":\"white\",\"gridwidth\":2}},\"shapedefaults\":{\"line\":{\"color\":\"#2a3f5f\"}},\"annotationdefaults\":{\"arrowcolor\":\"#2a3f5f\",\"arrowhead\":0,\"arrowwidth\":1},\"geo\":{\"bgcolor\":\"white\",\"landcolor\":\"#E5ECF6\",\"subunitcolor\":\"white\",\"showland\":true,\"showlakes\":true,\"lakecolor\":\"white\"},\"title\":{\"x\":0.05},\"mapbox\":{\"style\":\"light\"}}},\"xaxis\":{\"anchor\":\"y\",\"domain\":[0.0,1.0],\"title\":{\"text\":\"Job Designations\"}},\"yaxis\":{\"anchor\":\"x\",\"domain\":[0.0,1.0],\"title\":{\"text\":\"No. of Posts\"}},\"legend\":{\"tracegroupgap\":0},\"title\":{\"text\":\"Top 10 Most Popular Job Designations\"},\"barmode\":\"relative\"},                        {\"responsive\": true}                    ).then(function(){\n",
              "                            \n",
              "var gd = document.getElementById('a6f25cea-acc7-4550-ba37-a5dc3d67e402');\n",
              "var x = new MutationObserver(function (mutations, observer) {{\n",
              "        var display = window.getComputedStyle(gd).display;\n",
              "        if (!display || display === 'none') {{\n",
              "            console.log([gd, 'removed!']);\n",
              "            Plotly.purge(gd);\n",
              "            observer.disconnect();\n",
              "        }}\n",
              "}});\n",
              "\n",
              "// Listen for the removal of the full notebook cells\n",
              "var notebookContainer = gd.closest('#notebook-container');\n",
              "if (notebookContainer) {{\n",
              "    x.observe(notebookContainer, {childList: true});\n",
              "}}\n",
              "\n",
              "// Listen for the clearing of the current output cell\n",
              "var outputEl = gd.closest('.output');\n",
              "if (outputEl) {{\n",
              "    x.observe(outputEl, {childList: true});\n",
              "}}\n",
              "\n",
              "                        })                };                            </script>        </div>\n",
              "</body>\n",
              "</html>"
            ]
          },
          "metadata": {}
        }
      ]
    },
    {
      "cell_type": "markdown",
      "source": [
        "The job designation of Data Engineer stands out as one of the most popular, closely followed by Data Scientist and Data Analyst."
      ],
      "metadata": {
        "id": "o9iTmLk7BBFc"
      }
    },
    {
      "cell_type": "markdown",
      "source": [
        "# 3) Which are the top 10 highest paid job designations over the years?\n",
        "To identify the top 10 highest paid job designations over the years, we can analyze the salary data in the dataset and consider the job titles associated with the highest salaries. By sorting the salaries in descending order and selecting the top 10 job designations, we can determine the job titles that have consistently commanded high salaries throughout the years."
      ],
      "metadata": {
        "id": "i3JRyZ3UBOJH"
      }
    },
    {
      "cell_type": "code",
      "source": [
        "xdf=df.groupby(['job_title'])['salary_in_usd'].median().sort_values(ascending=False).head(10)\n",
        "xdf\n"
      ],
      "metadata": {
        "colab": {
          "base_uri": "https://localhost:8080/"
        },
        "id": "Xoo1CMDaAi3C",
        "outputId": "430c13a3-da6a-41c7-f14f-0feae2db26d1"
      },
      "execution_count": null,
      "outputs": [
        {
          "output_type": "execute_result",
          "data": {
            "text/plain": [
              "job_title\n",
              "Data Science Tech Lead                 375000.0\n",
              "Cloud Data Architect                   250000.0\n",
              "Data Lead                              212500.0\n",
              "Data Analytics Lead                    211254.5\n",
              "Head of Data                           202500.0\n",
              "Principal Data Engineer                192500.0\n",
              "Applied Scientist                      191737.5\n",
              "Principal Machine Learning Engineer    190000.0\n",
              "Data Science Manager                   183780.0\n",
              "Data Infrastructure Engineer           183655.0\n",
              "Name: salary_in_usd, dtype: float64"
            ]
          },
          "metadata": {},
          "execution_count": 208
        }
      ]
    },
    {
      "cell_type": "code",
      "source": [
        "px.bar(x=xdf.index, y=xdf, title='Top 10 High Paying Job Designations',\n",
        "      labels={'y':'Median Salary','x':'Job Designations'})"
      ],
      "metadata": {
        "colab": {
          "base_uri": "https://localhost:8080/",
          "height": 542
        },
        "id": "YClozirCBipD",
        "outputId": "335f5d1b-b2e8-40fb-b659-b727d3acea00"
      },
      "execution_count": null,
      "outputs": [
        {
          "output_type": "display_data",
          "data": {
            "text/html": [
              "<html>\n",
              "<head><meta charset=\"utf-8\" /></head>\n",
              "<body>\n",
              "    <div>            <script src=\"https://cdnjs.cloudflare.com/ajax/libs/mathjax/2.7.5/MathJax.js?config=TeX-AMS-MML_SVG\"></script><script type=\"text/javascript\">if (window.MathJax && window.MathJax.Hub && window.MathJax.Hub.Config) {window.MathJax.Hub.Config({SVG: {font: \"STIX-Web\"}});}</script>                <script type=\"text/javascript\">window.PlotlyConfig = {MathJaxConfig: 'local'};</script>\n",
              "        <script src=\"https://cdn.plot.ly/plotly-2.18.2.min.js\"></script>                <div id=\"07d3962e-cd97-450d-a5bf-c54d667acbc4\" class=\"plotly-graph-div\" style=\"height:525px; width:100%;\"></div>            <script type=\"text/javascript\">                                    window.PLOTLYENV=window.PLOTLYENV || {};                                    if (document.getElementById(\"07d3962e-cd97-450d-a5bf-c54d667acbc4\")) {                    Plotly.newPlot(                        \"07d3962e-cd97-450d-a5bf-c54d667acbc4\",                        [{\"alignmentgroup\":\"True\",\"hovertemplate\":\"Job Designations=%{x}<br>Median Salary=%{y}<extra></extra>\",\"legendgroup\":\"\",\"marker\":{\"color\":\"#636efa\",\"pattern\":{\"shape\":\"\"}},\"name\":\"\",\"offsetgroup\":\"\",\"orientation\":\"v\",\"showlegend\":false,\"textposition\":\"auto\",\"x\":[\"Data Science Tech Lead\",\"Cloud Data Architect\",\"Data Lead\",\"Data Analytics Lead\",\"Head of Data\",\"Principal Data Engineer\",\"Applied Scientist\",\"Principal Machine Learning Engineer\",\"Data Science Manager\",\"Data Infrastructure Engineer\"],\"xaxis\":\"x\",\"y\":[375000.0,250000.0,212500.0,211254.5,202500.0,192500.0,191737.5,190000.0,183780.0,183655.0],\"yaxis\":\"y\",\"type\":\"bar\"}],                        {\"template\":{\"data\":{\"histogram2dcontour\":[{\"type\":\"histogram2dcontour\",\"colorbar\":{\"outlinewidth\":0,\"ticks\":\"\"},\"colorscale\":[[0.0,\"#0d0887\"],[0.1111111111111111,\"#46039f\"],[0.2222222222222222,\"#7201a8\"],[0.3333333333333333,\"#9c179e\"],[0.4444444444444444,\"#bd3786\"],[0.5555555555555556,\"#d8576b\"],[0.6666666666666666,\"#ed7953\"],[0.7777777777777778,\"#fb9f3a\"],[0.8888888888888888,\"#fdca26\"],[1.0,\"#f0f921\"]]}],\"choropleth\":[{\"type\":\"choropleth\",\"colorbar\":{\"outlinewidth\":0,\"ticks\":\"\"}}],\"histogram2d\":[{\"type\":\"histogram2d\",\"colorbar\":{\"outlinewidth\":0,\"ticks\":\"\"},\"colorscale\":[[0.0,\"#0d0887\"],[0.1111111111111111,\"#46039f\"],[0.2222222222222222,\"#7201a8\"],[0.3333333333333333,\"#9c179e\"],[0.4444444444444444,\"#bd3786\"],[0.5555555555555556,\"#d8576b\"],[0.6666666666666666,\"#ed7953\"],[0.7777777777777778,\"#fb9f3a\"],[0.8888888888888888,\"#fdca26\"],[1.0,\"#f0f921\"]]}],\"heatmap\":[{\"type\":\"heatmap\",\"colorbar\":{\"outlinewidth\":0,\"ticks\":\"\"},\"colorscale\":[[0.0,\"#0d0887\"],[0.1111111111111111,\"#46039f\"],[0.2222222222222222,\"#7201a8\"],[0.3333333333333333,\"#9c179e\"],[0.4444444444444444,\"#bd3786\"],[0.5555555555555556,\"#d8576b\"],[0.6666666666666666,\"#ed7953\"],[0.7777777777777778,\"#fb9f3a\"],[0.8888888888888888,\"#fdca26\"],[1.0,\"#f0f921\"]]}],\"heatmapgl\":[{\"type\":\"heatmapgl\",\"colorbar\":{\"outlinewidth\":0,\"ticks\":\"\"},\"colorscale\":[[0.0,\"#0d0887\"],[0.1111111111111111,\"#46039f\"],[0.2222222222222222,\"#7201a8\"],[0.3333333333333333,\"#9c179e\"],[0.4444444444444444,\"#bd3786\"],[0.5555555555555556,\"#d8576b\"],[0.6666666666666666,\"#ed7953\"],[0.7777777777777778,\"#fb9f3a\"],[0.8888888888888888,\"#fdca26\"],[1.0,\"#f0f921\"]]}],\"contourcarpet\":[{\"type\":\"contourcarpet\",\"colorbar\":{\"outlinewidth\":0,\"ticks\":\"\"}}],\"contour\":[{\"type\":\"contour\",\"colorbar\":{\"outlinewidth\":0,\"ticks\":\"\"},\"colorscale\":[[0.0,\"#0d0887\"],[0.1111111111111111,\"#46039f\"],[0.2222222222222222,\"#7201a8\"],[0.3333333333333333,\"#9c179e\"],[0.4444444444444444,\"#bd3786\"],[0.5555555555555556,\"#d8576b\"],[0.6666666666666666,\"#ed7953\"],[0.7777777777777778,\"#fb9f3a\"],[0.8888888888888888,\"#fdca26\"],[1.0,\"#f0f921\"]]}],\"surface\":[{\"type\":\"surface\",\"colorbar\":{\"outlinewidth\":0,\"ticks\":\"\"},\"colorscale\":[[0.0,\"#0d0887\"],[0.1111111111111111,\"#46039f\"],[0.2222222222222222,\"#7201a8\"],[0.3333333333333333,\"#9c179e\"],[0.4444444444444444,\"#bd3786\"],[0.5555555555555556,\"#d8576b\"],[0.6666666666666666,\"#ed7953\"],[0.7777777777777778,\"#fb9f3a\"],[0.8888888888888888,\"#fdca26\"],[1.0,\"#f0f921\"]]}],\"mesh3d\":[{\"type\":\"mesh3d\",\"colorbar\":{\"outlinewidth\":0,\"ticks\":\"\"}}],\"scatter\":[{\"fillpattern\":{\"fillmode\":\"overlay\",\"size\":10,\"solidity\":0.2},\"type\":\"scatter\"}],\"parcoords\":[{\"type\":\"parcoords\",\"line\":{\"colorbar\":{\"outlinewidth\":0,\"ticks\":\"\"}}}],\"scatterpolargl\":[{\"type\":\"scatterpolargl\",\"marker\":{\"colorbar\":{\"outlinewidth\":0,\"ticks\":\"\"}}}],\"bar\":[{\"error_x\":{\"color\":\"#2a3f5f\"},\"error_y\":{\"color\":\"#2a3f5f\"},\"marker\":{\"line\":{\"color\":\"#E5ECF6\",\"width\":0.5},\"pattern\":{\"fillmode\":\"overlay\",\"size\":10,\"solidity\":0.2}},\"type\":\"bar\"}],\"scattergeo\":[{\"type\":\"scattergeo\",\"marker\":{\"colorbar\":{\"outlinewidth\":0,\"ticks\":\"\"}}}],\"scatterpolar\":[{\"type\":\"scatterpolar\",\"marker\":{\"colorbar\":{\"outlinewidth\":0,\"ticks\":\"\"}}}],\"histogram\":[{\"marker\":{\"pattern\":{\"fillmode\":\"overlay\",\"size\":10,\"solidity\":0.2}},\"type\":\"histogram\"}],\"scattergl\":[{\"type\":\"scattergl\",\"marker\":{\"colorbar\":{\"outlinewidth\":0,\"ticks\":\"\"}}}],\"scatter3d\":[{\"type\":\"scatter3d\",\"line\":{\"colorbar\":{\"outlinewidth\":0,\"ticks\":\"\"}},\"marker\":{\"colorbar\":{\"outlinewidth\":0,\"ticks\":\"\"}}}],\"scattermapbox\":[{\"type\":\"scattermapbox\",\"marker\":{\"colorbar\":{\"outlinewidth\":0,\"ticks\":\"\"}}}],\"scatterternary\":[{\"type\":\"scatterternary\",\"marker\":{\"colorbar\":{\"outlinewidth\":0,\"ticks\":\"\"}}}],\"scattercarpet\":[{\"type\":\"scattercarpet\",\"marker\":{\"colorbar\":{\"outlinewidth\":0,\"ticks\":\"\"}}}],\"carpet\":[{\"aaxis\":{\"endlinecolor\":\"#2a3f5f\",\"gridcolor\":\"white\",\"linecolor\":\"white\",\"minorgridcolor\":\"white\",\"startlinecolor\":\"#2a3f5f\"},\"baxis\":{\"endlinecolor\":\"#2a3f5f\",\"gridcolor\":\"white\",\"linecolor\":\"white\",\"minorgridcolor\":\"white\",\"startlinecolor\":\"#2a3f5f\"},\"type\":\"carpet\"}],\"table\":[{\"cells\":{\"fill\":{\"color\":\"#EBF0F8\"},\"line\":{\"color\":\"white\"}},\"header\":{\"fill\":{\"color\":\"#C8D4E3\"},\"line\":{\"color\":\"white\"}},\"type\":\"table\"}],\"barpolar\":[{\"marker\":{\"line\":{\"color\":\"#E5ECF6\",\"width\":0.5},\"pattern\":{\"fillmode\":\"overlay\",\"size\":10,\"solidity\":0.2}},\"type\":\"barpolar\"}],\"pie\":[{\"automargin\":true,\"type\":\"pie\"}]},\"layout\":{\"autotypenumbers\":\"strict\",\"colorway\":[\"#636efa\",\"#EF553B\",\"#00cc96\",\"#ab63fa\",\"#FFA15A\",\"#19d3f3\",\"#FF6692\",\"#B6E880\",\"#FF97FF\",\"#FECB52\"],\"font\":{\"color\":\"#2a3f5f\"},\"hovermode\":\"closest\",\"hoverlabel\":{\"align\":\"left\"},\"paper_bgcolor\":\"white\",\"plot_bgcolor\":\"#E5ECF6\",\"polar\":{\"bgcolor\":\"#E5ECF6\",\"angularaxis\":{\"gridcolor\":\"white\",\"linecolor\":\"white\",\"ticks\":\"\"},\"radialaxis\":{\"gridcolor\":\"white\",\"linecolor\":\"white\",\"ticks\":\"\"}},\"ternary\":{\"bgcolor\":\"#E5ECF6\",\"aaxis\":{\"gridcolor\":\"white\",\"linecolor\":\"white\",\"ticks\":\"\"},\"baxis\":{\"gridcolor\":\"white\",\"linecolor\":\"white\",\"ticks\":\"\"},\"caxis\":{\"gridcolor\":\"white\",\"linecolor\":\"white\",\"ticks\":\"\"}},\"coloraxis\":{\"colorbar\":{\"outlinewidth\":0,\"ticks\":\"\"}},\"colorscale\":{\"sequential\":[[0.0,\"#0d0887\"],[0.1111111111111111,\"#46039f\"],[0.2222222222222222,\"#7201a8\"],[0.3333333333333333,\"#9c179e\"],[0.4444444444444444,\"#bd3786\"],[0.5555555555555556,\"#d8576b\"],[0.6666666666666666,\"#ed7953\"],[0.7777777777777778,\"#fb9f3a\"],[0.8888888888888888,\"#fdca26\"],[1.0,\"#f0f921\"]],\"sequentialminus\":[[0.0,\"#0d0887\"],[0.1111111111111111,\"#46039f\"],[0.2222222222222222,\"#7201a8\"],[0.3333333333333333,\"#9c179e\"],[0.4444444444444444,\"#bd3786\"],[0.5555555555555556,\"#d8576b\"],[0.6666666666666666,\"#ed7953\"],[0.7777777777777778,\"#fb9f3a\"],[0.8888888888888888,\"#fdca26\"],[1.0,\"#f0f921\"]],\"diverging\":[[0,\"#8e0152\"],[0.1,\"#c51b7d\"],[0.2,\"#de77ae\"],[0.3,\"#f1b6da\"],[0.4,\"#fde0ef\"],[0.5,\"#f7f7f7\"],[0.6,\"#e6f5d0\"],[0.7,\"#b8e186\"],[0.8,\"#7fbc41\"],[0.9,\"#4d9221\"],[1,\"#276419\"]]},\"xaxis\":{\"gridcolor\":\"white\",\"linecolor\":\"white\",\"ticks\":\"\",\"title\":{\"standoff\":15},\"zerolinecolor\":\"white\",\"automargin\":true,\"zerolinewidth\":2},\"yaxis\":{\"gridcolor\":\"white\",\"linecolor\":\"white\",\"ticks\":\"\",\"title\":{\"standoff\":15},\"zerolinecolor\":\"white\",\"automargin\":true,\"zerolinewidth\":2},\"scene\":{\"xaxis\":{\"backgroundcolor\":\"#E5ECF6\",\"gridcolor\":\"white\",\"linecolor\":\"white\",\"showbackground\":true,\"ticks\":\"\",\"zerolinecolor\":\"white\",\"gridwidth\":2},\"yaxis\":{\"backgroundcolor\":\"#E5ECF6\",\"gridcolor\":\"white\",\"linecolor\":\"white\",\"showbackground\":true,\"ticks\":\"\",\"zerolinecolor\":\"white\",\"gridwidth\":2},\"zaxis\":{\"backgroundcolor\":\"#E5ECF6\",\"gridcolor\":\"white\",\"linecolor\":\"white\",\"showbackground\":true,\"ticks\":\"\",\"zerolinecolor\":\"white\",\"gridwidth\":2}},\"shapedefaults\":{\"line\":{\"color\":\"#2a3f5f\"}},\"annotationdefaults\":{\"arrowcolor\":\"#2a3f5f\",\"arrowhead\":0,\"arrowwidth\":1},\"geo\":{\"bgcolor\":\"white\",\"landcolor\":\"#E5ECF6\",\"subunitcolor\":\"white\",\"showland\":true,\"showlakes\":true,\"lakecolor\":\"white\"},\"title\":{\"x\":0.05},\"mapbox\":{\"style\":\"light\"}}},\"xaxis\":{\"anchor\":\"y\",\"domain\":[0.0,1.0],\"title\":{\"text\":\"Job Designations\"}},\"yaxis\":{\"anchor\":\"x\",\"domain\":[0.0,1.0],\"title\":{\"text\":\"Median Salary\"}},\"legend\":{\"tracegroupgap\":0},\"title\":{\"text\":\"Top 10 High Paying Job Designations\"},\"barmode\":\"relative\"},                        {\"responsive\": true}                    ).then(function(){\n",
              "                            \n",
              "var gd = document.getElementById('07d3962e-cd97-450d-a5bf-c54d667acbc4');\n",
              "var x = new MutationObserver(function (mutations, observer) {{\n",
              "        var display = window.getComputedStyle(gd).display;\n",
              "        if (!display || display === 'none') {{\n",
              "            console.log([gd, 'removed!']);\n",
              "            Plotly.purge(gd);\n",
              "            observer.disconnect();\n",
              "        }}\n",
              "}});\n",
              "\n",
              "// Listen for the removal of the full notebook cells\n",
              "var notebookContainer = gd.closest('#notebook-container');\n",
              "if (notebookContainer) {{\n",
              "    x.observe(notebookContainer, {childList: true});\n",
              "}}\n",
              "\n",
              "// Listen for the clearing of the current output cell\n",
              "var outputEl = gd.closest('.output');\n",
              "if (outputEl) {{\n",
              "    x.observe(outputEl, {childList: true});\n",
              "}}\n",
              "\n",
              "                        })                };                            </script>        </div>\n",
              "</body>\n",
              "</html>"
            ]
          },
          "metadata": {}
        }
      ]
    },
    {
      "cell_type": "markdown",
      "source": [
        "# 4) Compare the company sizes and salaries offered by them over the years.\n",
        "\n",
        "To identify the top 10 highest paid job designations over the years, we can analyze the salary data in the dataset and consider the job titles associated with the highest salaries. By sorting the salaries in descending order and selecting the top 10 job designations, we can determine the job titles that have consistently commanded high salaries throughout the years."
      ],
      "metadata": {
        "id": "-14t9yG1Bo-m"
      }
    },
    {
      "cell_type": "code",
      "source": [
        "table = pd.pivot_table(df,values='salary_in_usd',index='work_year',columns='company_size', aggfunc='median')\n",
        "table"
      ],
      "metadata": {
        "colab": {
          "base_uri": "https://localhost:8080/",
          "height": 206
        },
        "id": "Vu6C_bniByhM",
        "outputId": "3687da4e-4746-45b3-f3ad-b347104a5810"
      },
      "execution_count": null,
      "outputs": [
        {
          "output_type": "execute_result",
          "data": {
            "text/plain": [
              "company_size         L         M        S\n",
              "work_year                                \n",
              "2020           85000.0   96500.0  51321.0\n",
              "2021           90734.0   64411.5  76833.0\n",
              "2022          120000.0  135000.0  58418.5\n",
              "2023          123700.0  145000.0  74875.5"
            ],
            "text/html": [
              "\n",
              "  <div id=\"df-479f7876-8cf9-487c-aa2b-e3a3d50fb940\">\n",
              "    <div class=\"colab-df-container\">\n",
              "      <div>\n",
              "<style scoped>\n",
              "    .dataframe tbody tr th:only-of-type {\n",
              "        vertical-align: middle;\n",
              "    }\n",
              "\n",
              "    .dataframe tbody tr th {\n",
              "        vertical-align: top;\n",
              "    }\n",
              "\n",
              "    .dataframe thead th {\n",
              "        text-align: right;\n",
              "    }\n",
              "</style>\n",
              "<table border=\"1\" class=\"dataframe\">\n",
              "  <thead>\n",
              "    <tr style=\"text-align: right;\">\n",
              "      <th>company_size</th>\n",
              "      <th>L</th>\n",
              "      <th>M</th>\n",
              "      <th>S</th>\n",
              "    </tr>\n",
              "    <tr>\n",
              "      <th>work_year</th>\n",
              "      <th></th>\n",
              "      <th></th>\n",
              "      <th></th>\n",
              "    </tr>\n",
              "  </thead>\n",
              "  <tbody>\n",
              "    <tr>\n",
              "      <th>2020</th>\n",
              "      <td>85000.0</td>\n",
              "      <td>96500.0</td>\n",
              "      <td>51321.0</td>\n",
              "    </tr>\n",
              "    <tr>\n",
              "      <th>2021</th>\n",
              "      <td>90734.0</td>\n",
              "      <td>64411.5</td>\n",
              "      <td>76833.0</td>\n",
              "    </tr>\n",
              "    <tr>\n",
              "      <th>2022</th>\n",
              "      <td>120000.0</td>\n",
              "      <td>135000.0</td>\n",
              "      <td>58418.5</td>\n",
              "    </tr>\n",
              "    <tr>\n",
              "      <th>2023</th>\n",
              "      <td>123700.0</td>\n",
              "      <td>145000.0</td>\n",
              "      <td>74875.5</td>\n",
              "    </tr>\n",
              "  </tbody>\n",
              "</table>\n",
              "</div>\n",
              "      <button class=\"colab-df-convert\" onclick=\"convertToInteractive('df-479f7876-8cf9-487c-aa2b-e3a3d50fb940')\"\n",
              "              title=\"Convert this dataframe to an interactive table.\"\n",
              "              style=\"display:none;\">\n",
              "        \n",
              "  <svg xmlns=\"http://www.w3.org/2000/svg\" height=\"24px\"viewBox=\"0 0 24 24\"\n",
              "       width=\"24px\">\n",
              "    <path d=\"M0 0h24v24H0V0z\" fill=\"none\"/>\n",
              "    <path d=\"M18.56 5.44l.94 2.06.94-2.06 2.06-.94-2.06-.94-.94-2.06-.94 2.06-2.06.94zm-11 1L8.5 8.5l.94-2.06 2.06-.94-2.06-.94L8.5 2.5l-.94 2.06-2.06.94zm10 10l.94 2.06.94-2.06 2.06-.94-2.06-.94-.94-2.06-.94 2.06-2.06.94z\"/><path d=\"M17.41 7.96l-1.37-1.37c-.4-.4-.92-.59-1.43-.59-.52 0-1.04.2-1.43.59L10.3 9.45l-7.72 7.72c-.78.78-.78 2.05 0 2.83L4 21.41c.39.39.9.59 1.41.59.51 0 1.02-.2 1.41-.59l7.78-7.78 2.81-2.81c.8-.78.8-2.07 0-2.86zM5.41 20L4 18.59l7.72-7.72 1.47 1.35L5.41 20z\"/>\n",
              "  </svg>\n",
              "      </button>\n",
              "      \n",
              "  <style>\n",
              "    .colab-df-container {\n",
              "      display:flex;\n",
              "      flex-wrap:wrap;\n",
              "      gap: 12px;\n",
              "    }\n",
              "\n",
              "    .colab-df-convert {\n",
              "      background-color: #E8F0FE;\n",
              "      border: none;\n",
              "      border-radius: 50%;\n",
              "      cursor: pointer;\n",
              "      display: none;\n",
              "      fill: #1967D2;\n",
              "      height: 32px;\n",
              "      padding: 0 0 0 0;\n",
              "      width: 32px;\n",
              "    }\n",
              "\n",
              "    .colab-df-convert:hover {\n",
              "      background-color: #E2EBFA;\n",
              "      box-shadow: 0px 1px 2px rgba(60, 64, 67, 0.3), 0px 1px 3px 1px rgba(60, 64, 67, 0.15);\n",
              "      fill: #174EA6;\n",
              "    }\n",
              "\n",
              "    [theme=dark] .colab-df-convert {\n",
              "      background-color: #3B4455;\n",
              "      fill: #D2E3FC;\n",
              "    }\n",
              "\n",
              "    [theme=dark] .colab-df-convert:hover {\n",
              "      background-color: #434B5C;\n",
              "      box-shadow: 0px 1px 3px 1px rgba(0, 0, 0, 0.15);\n",
              "      filter: drop-shadow(0px 1px 2px rgba(0, 0, 0, 0.3));\n",
              "      fill: #FFFFFF;\n",
              "    }\n",
              "  </style>\n",
              "\n",
              "      <script>\n",
              "        const buttonEl =\n",
              "          document.querySelector('#df-479f7876-8cf9-487c-aa2b-e3a3d50fb940 button.colab-df-convert');\n",
              "        buttonEl.style.display =\n",
              "          google.colab.kernel.accessAllowed ? 'block' : 'none';\n",
              "\n",
              "        async function convertToInteractive(key) {\n",
              "          const element = document.querySelector('#df-479f7876-8cf9-487c-aa2b-e3a3d50fb940');\n",
              "          const dataTable =\n",
              "            await google.colab.kernel.invokeFunction('convertToInteractive',\n",
              "                                                     [key], {});\n",
              "          if (!dataTable) return;\n",
              "\n",
              "          const docLinkHtml = 'Like what you see? Visit the ' +\n",
              "            '<a target=\"_blank\" href=https://colab.research.google.com/notebooks/data_table.ipynb>data table notebook</a>'\n",
              "            + ' to learn more about interactive tables.';\n",
              "          element.innerHTML = '';\n",
              "          dataTable['output_type'] = 'display_data';\n",
              "          await google.colab.output.renderOutput(dataTable, element);\n",
              "          const docLink = document.createElement('div');\n",
              "          docLink.innerHTML = docLinkHtml;\n",
              "          element.appendChild(docLink);\n",
              "        }\n",
              "      </script>\n",
              "    </div>\n",
              "  </div>\n",
              "  "
            ]
          },
          "metadata": {},
          "execution_count": 210
        }
      ]
    },
    {
      "cell_type": "code",
      "source": [
        "px.box(df, x='company_size', y='salary_in_usd', color='work_year',\n",
        "       category_orders={\"company_size\":[\"S\",\"M\",\"L\"],\"work_year\":[2020, 2021, 2022, 2023]},\n",
        "      title='Company Size vs Salary')\n"
      ],
      "metadata": {
        "colab": {
          "base_uri": "https://localhost:8080/",
          "height": 542
        },
        "id": "RfK10mQwB5et",
        "outputId": "1dea52b8-aa01-435d-a394-72b9425f80d1"
      },
      "execution_count": null,
      "outputs": [
        {
          "output_type": "display_data",
          "data": {
            "text/html": [
              "<html>\n",
              "<head><meta charset=\"utf-8\" /></head>\n",
              "<body>\n",
              "    <div>            <script src=\"https://cdnjs.cloudflare.com/ajax/libs/mathjax/2.7.5/MathJax.js?config=TeX-AMS-MML_SVG\"></script><script type=\"text/javascript\">if (window.MathJax && window.MathJax.Hub && window.MathJax.Hub.Config) {window.MathJax.Hub.Config({SVG: {font: \"STIX-Web\"}});}</script>                <script type=\"text/javascript\">window.PlotlyConfig = {MathJaxConfig: 'local'};</script>\n",
              "        <script src=\"https://cdn.plot.ly/plotly-2.18.2.min.js\"></script>                <div id=\"9f4cc5ed-d3a8-4c17-98c2-350cce44b3f5\" class=\"plotly-graph-div\" style=\"height:525px; width:100%;\"></div>            <script type=\"text/javascript\">                                    window.PLOTLYENV=window.PLOTLYENV || {};                                    if (document.getElementById(\"9f4cc5ed-d3a8-4c17-98c2-350cce44b3f5\")) {                    Plotly.newPlot(                        \"9f4cc5ed-d3a8-4c17-98c2-350cce44b3f5\",                        [{\"alignmentgroup\":\"True\",\"hovertemplate\":\"work_year=2020<br>company_size=%{x}<br>salary_in_usd=%{y}<extra></extra>\",\"legendgroup\":\"2020\",\"marker\":{\"color\":\"#636efa\"},\"name\":\"2020\",\"notched\":false,\"offsetgroup\":\"2020\",\"orientation\":\"v\",\"showlegend\":true,\"x\":[\"M\",\"M\",\"L\",\"L\",\"M\",\"S\",\"L\",\"L\",\"S\",\"S\",\"L\",\"L\",\"M\",\"L\",\"L\",\"L\",\"L\",\"S\",\"S\",\"S\",\"L\",\"M\",\"L\",\"L\",\"S\",\"S\",\"L\",\"L\",\"L\",\"S\",\"S\",\"L\",\"L\",\"L\",\"S\",\"M\",\"L\",\"L\",\"L\",\"S\",\"L\",\"L\",\"S\",\"S\",\"L\",\"M\",\"L\",\"L\",\"L\",\"S\",\"S\",\"M\",\"M\",\"L\",\"L\",\"M\",\"L\",\"S\",\"S\",\"S\",\"S\",\"L\",\"L\",\"S\",\"M\",\"M\",\"S\",\"S\",\"M\",\"M\",\"M\",\"M\",\"S\",\"L\",\"S\",\"L\"],\"x0\":\" \",\"xaxis\":\"x\",\"y\":[15000,95000,13493,13493,22809,49268,117104,54742,20000,59303,70000,68428,450000,46759,74130,103000,250000,10000,138000,45760,79833,50180,106000,112872,15966,76958,188000,105000,70139,6072,33511,91000,42000,115000,260000,109024,79833,150000,72000,190000,35735,135000,125000,51321,40481,39916,87000,85000,8000,41689,114047,5707,56000,6072,47899,98000,325000,45896,42197,62726,21669,110000,120000,60000,148261,38776,91237,62726,190200,118000,138350,130800,45618,412000,105000,100000],\"y0\":\" \",\"yaxis\":\"y\",\"type\":\"box\"},{\"alignmentgroup\":\"True\",\"hovertemplate\":\"work_year=2021<br>company_size=%{x}<br>salary_in_usd=%{y}<extra></extra>\",\"legendgroup\":\"2021\",\"marker\":{\"color\":\"#EF553B\"},\"name\":\"2021\",\"notched\":false,\"offsetgroup\":\"2021\",\"orientation\":\"v\",\"showlegend\":true,\"x\":[\"M\",\"S\",\"L\",\"L\",\"L\",\"S\",\"M\",\"M\",\"L\",\"L\",\"L\",\"M\",\"L\",\"L\",\"L\",\"S\",\"M\",\"L\",\"L\",\"L\",\"L\",\"L\",\"L\",\"L\",\"L\",\"M\",\"L\",\"S\",\"S\",\"M\",\"S\",\"M\",\"M\",\"S\",\"M\",\"L\",\"S\",\"S\",\"S\",\"M\",\"L\",\"M\",\"M\",\"M\",\"L\",\"S\",\"L\",\"M\",\"M\",\"L\",\"L\",\"L\",\"S\",\"L\",\"L\",\"M\",\"L\",\"M\",\"L\",\"S\",\"M\",\"L\",\"L\",\"L\",\"L\",\"M\",\"L\",\"L\",\"S\",\"S\",\"L\",\"M\",\"M\",\"L\",\"L\",\"S\",\"L\",\"L\",\"L\",\"L\",\"M\",\"S\",\"L\",\"L\",\"L\",\"M\",\"M\",\"L\",\"L\",\"L\",\"L\",\"S\",\"L\",\"S\",\"M\",\"L\",\"L\",\"M\",\"S\",\"L\",\"L\",\"L\",\"L\",\"S\",\"M\",\"L\",\"L\",\"L\",\"S\",\"L\",\"L\",\"L\",\"M\",\"L\",\"S\",\"M\",\"L\",\"M\",\"L\",\"L\",\"M\",\"L\",\"L\",\"L\",\"M\",\"M\",\"S\",\"L\",\"L\",\"L\",\"S\",\"L\",\"L\",\"L\",\"L\",\"L\",\"L\",\"L\",\"L\",\"L\",\"M\",\"M\",\"S\",\"L\",\"M\",\"M\",\"M\",\"M\",\"M\",\"S\",\"S\",\"L\",\"S\",\"L\",\"L\",\"L\",\"M\",\"L\",\"M\",\"L\",\"L\",\"S\",\"L\",\"L\",\"L\",\"M\",\"S\",\"M\",\"L\",\"L\",\"L\",\"S\",\"S\",\"L\",\"S\",\"M\",\"M\",\"L\",\"S\",\"L\",\"L\",\"M\",\"L\",\"L\",\"M\",\"S\",\"L\",\"S\",\"S\",\"L\",\"L\",\"L\",\"L\",\"L\",\"S\",\"M\",\"S\",\"M\",\"L\",\"L\",\"L\",\"L\",\"S\",\"L\",\"M\",\"S\",\"S\",\"L\",\"S\",\"L\",\"M\",\"L\",\"M\",\"M\",\"S\",\"L\",\"L\",\"L\",\"S\",\"L\",\"L\",\"L\",\"L\",\"S\",\"M\",\"L\",\"L\",\"L\",\"L\",\"L\"],\"x0\":\" \",\"xaxis\":\"x\",\"y\":[150000,30000,66970,54094,16904,115000,20000,45555,5409,75050,42028,20000,15000,45390,19073,50000,12171,250000,51064,109000,102839,69999,150000,240000,135000,80000,220000,77364,63711,90000,100000,24000,38400,82500,49646,40570,20000,9466,120000,10354,110037,50000,200000,60000,200000,100000,100000,82744,62649,82528,170000,150000,55000,250000,80000,130026,63831,85000,230000,125000,120000,127221,144000,13400,75774,150000,153000,90000,90000,60000,50000,12000,5409,270000,54238,47282,153667,28476,110000,82528,59102,80000,140000,79197,170000,80000,100000,53192,235000,150000,225000,76833,88654,103160,113476,94564,30428,150000,115000,187442,51519,36259,150000,95746,70000,89294,29751,276000,160000,200000,174000,93000,28399,60757,90000,170000,96282,12103,36643,72212,99703,165000,80000,103691,21637,63810,110000,180000,200000,200000,256000,110000,72500,185000,69741,100000,112000,20171,55000,58000,100000,77684,85000,76833,105000,65013,28016,111775,93150,160000,25532,66265,16904,63831,141846,16228,71786,135000,24823,54094,24342,9272,147000,96113,174000,21844,69741,50000,26005,90734,22611,5679,81000,40038,90000,61467,195000,37825,416000,225000,56256,33808,116914,46597,88654,28609,88654,66022,56738,24823,120000,20000,200000,160000,50000,40189,12901,165000,5882,185000,90734,140000,87738,61896,12000,76833,74000,152000,18000,130000,18907,59102,173762,46809,18053,115000,235000,19609,12000,75000,62000,73000,45391,168000,119059,423000,28369,165000,151000,94665],\"y0\":\" \",\"yaxis\":\"y\",\"type\":\"box\"},{\"alignmentgroup\":\"True\",\"hovertemplate\":\"work_year=2022<br>company_size=%{x}<br>salary_in_usd=%{y}<extra></extra>\",\"legendgroup\":\"2022\",\"marker\":{\"color\":\"#00cc96\"},\"name\":\"2022\",\"notched\":false,\"offsetgroup\":\"2022\",\"orientation\":\"v\",\"showlegend\":true,\"x\":[\"L\",\"L\",\"S\",\"L\",\"S\",\"L\",\"M\",\"L\",\"L\",\"S\",\"M\",\"L\",\"L\",\"M\",\"M\",\"M\",\"M\",\"L\",\"L\",\"L\",\"L\",\"S\",\"M\",\"L\",\"L\",\"L\",\"M\",\"L\",\"L\",\"M\",\"L\",\"L\",\"M\",\"M\",\"M\",\"M\",\"M\",\"M\",\"M\",\"M\",\"M\",\"M\",\"M\",\"M\",\"M\",\"M\",\"M\",\"M\",\"M\",\"M\",\"M\",\"M\",\"M\",\"M\",\"M\",\"M\",\"M\",\"M\",\"M\",\"M\",\"M\",\"M\",\"M\",\"M\",\"M\",\"M\",\"M\",\"M\",\"M\",\"M\",\"M\",\"M\",\"M\",\"M\",\"M\",\"M\",\"M\",\"M\",\"L\",\"M\",\"M\",\"M\",\"M\",\"M\",\"M\",\"M\",\"M\",\"M\",\"M\",\"M\",\"M\",\"M\",\"M\",\"M\",\"M\",\"M\",\"M\",\"M\",\"M\",\"M\",\"M\",\"M\",\"M\",\"M\",\"M\",\"M\",\"M\",\"M\",\"M\",\"M\",\"M\",\"M\",\"M\",\"M\",\"M\",\"M\",\"M\",\"M\",\"M\",\"M\",\"M\",\"M\",\"M\",\"M\",\"M\",\"M\",\"M\",\"S\",\"M\",\"S\",\"M\",\"M\",\"M\",\"M\",\"M\",\"M\",\"M\",\"M\",\"M\",\"M\",\"M\",\"M\",\"M\",\"M\",\"M\",\"M\",\"M\",\"M\",\"M\",\"M\",\"M\",\"M\",\"M\",\"M\",\"M\",\"M\",\"L\",\"L\",\"M\",\"M\",\"M\",\"M\",\"M\",\"M\",\"M\",\"M\",\"M\",\"M\",\"M\",\"M\",\"M\",\"M\",\"M\",\"M\",\"M\",\"M\",\"M\",\"M\",\"M\",\"M\",\"S\",\"M\",\"M\",\"M\",\"M\",\"M\",\"M\",\"M\",\"M\",\"M\",\"M\",\"M\",\"M\",\"M\",\"M\",\"M\",\"M\",\"M\",\"M\",\"M\",\"M\",\"M\",\"M\",\"M\",\"M\",\"M\",\"M\",\"M\",\"M\",\"M\",\"M\",\"M\",\"M\",\"M\",\"M\",\"M\",\"M\",\"M\",\"M\",\"M\",\"M\",\"M\",\"M\",\"M\",\"M\",\"M\",\"M\",\"L\",\"M\",\"M\",\"M\",\"M\",\"S\",\"L\",\"M\",\"M\",\"M\",\"M\",\"M\",\"M\",\"M\",\"M\",\"L\",\"L\",\"M\",\"M\",\"M\",\"M\",\"M\",\"M\",\"L\",\"M\",\"M\",\"M\",\"M\",\"M\",\"M\",\"M\",\"M\",\"M\",\"M\",\"M\",\"M\",\"M\",\"M\",\"M\",\"M\",\"M\",\"M\",\"L\",\"M\",\"M\",\"M\",\"M\",\"M\",\"M\",\"M\",\"M\",\"M\",\"M\",\"M\",\"M\",\"M\",\"M\",\"M\",\"M\",\"M\",\"M\",\"M\",\"M\",\"M\",\"M\",\"M\",\"M\",\"M\",\"M\",\"M\",\"M\",\"M\",\"M\",\"M\",\"M\",\"M\",\"M\",\"M\",\"M\",\"M\",\"M\",\"M\",\"M\",\"M\",\"M\",\"M\",\"M\",\"M\",\"M\",\"M\",\"M\",\"M\",\"M\",\"M\",\"M\",\"M\",\"M\",\"M\",\"M\",\"M\",\"L\",\"S\",\"M\",\"M\",\"M\",\"M\",\"M\",\"M\",\"S\",\"M\",\"M\",\"M\",\"M\",\"M\",\"M\",\"M\",\"M\",\"M\",\"M\",\"M\",\"M\",\"M\",\"M\",\"M\",\"M\",\"M\",\"M\",\"M\",\"M\",\"M\",\"M\",\"M\",\"M\",\"M\",\"M\",\"M\",\"M\",\"M\",\"M\",\"M\",\"M\",\"M\",\"M\",\"M\",\"M\",\"M\",\"M\",\"M\",\"M\",\"M\",\"M\",\"L\",\"M\",\"M\",\"M\",\"M\",\"M\",\"M\",\"M\",\"M\",\"M\",\"M\",\"M\",\"M\",\"M\",\"M\",\"M\",\"M\",\"M\",\"M\",\"M\",\"M\",\"M\",\"M\",\"M\",\"M\",\"M\",\"M\",\"M\",\"M\",\"M\",\"M\",\"M\",\"M\",\"L\",\"S\",\"L\",\"L\",\"M\",\"M\",\"M\",\"M\",\"M\",\"M\",\"L\",\"M\",\"M\",\"M\",\"M\",\"M\",\"M\",\"M\",\"M\",\"M\",\"M\",\"M\",\"M\",\"M\",\"M\",\"M\",\"M\",\"M\",\"M\",\"L\",\"M\",\"M\",\"M\",\"M\",\"M\",\"M\",\"M\",\"M\",\"M\",\"M\",\"M\",\"M\",\"M\",\"M\",\"M\",\"M\",\"M\",\"M\",\"M\",\"M\",\"M\",\"M\",\"M\",\"M\",\"M\",\"M\",\"M\",\"M\",\"M\",\"M\",\"M\",\"M\",\"M\",\"M\",\"M\",\"M\",\"M\",\"M\",\"M\",\"M\",\"M\",\"M\",\"M\",\"M\",\"M\",\"M\",\"M\",\"M\",\"M\",\"M\",\"M\",\"M\",\"M\",\"M\",\"M\",\"M\",\"M\",\"M\",\"M\",\"M\",\"L\",\"M\",\"M\",\"M\",\"M\",\"M\",\"M\",\"M\",\"M\",\"M\",\"M\",\"M\",\"M\",\"M\",\"M\",\"M\",\"M\",\"M\",\"M\",\"M\",\"M\",\"M\",\"M\",\"M\",\"M\",\"M\",\"M\",\"M\",\"M\",\"M\",\"M\",\"M\",\"M\",\"M\",\"M\",\"M\",\"M\",\"M\",\"M\",\"M\",\"M\",\"M\",\"M\",\"M\",\"M\",\"M\",\"M\",\"M\",\"M\",\"M\",\"M\",\"M\",\"M\",\"M\",\"M\",\"M\",\"M\",\"M\",\"M\",\"M\",\"M\",\"M\",\"M\",\"L\",\"M\",\"M\",\"M\",\"M\",\"M\",\"M\",\"M\",\"M\",\"M\",\"M\",\"M\",\"M\",\"M\",\"M\",\"M\",\"M\",\"M\",\"M\",\"L\",\"L\",\"S\",\"S\",\"M\",\"M\",\"M\",\"M\",\"M\",\"M\",\"M\",\"M\",\"M\",\"M\",\"M\",\"M\",\"M\",\"M\",\"M\",\"M\",\"M\",\"M\",\"M\",\"M\",\"M\",\"M\",\"M\",\"M\",\"M\",\"M\",\"M\",\"M\",\"M\",\"M\",\"M\",\"M\",\"M\",\"M\",\"L\",\"M\",\"M\",\"M\",\"M\",\"M\",\"M\",\"M\",\"M\",\"M\",\"M\",\"S\",\"M\",\"M\",\"M\",\"M\",\"M\",\"M\",\"M\",\"M\",\"M\",\"M\",\"M\",\"M\",\"M\",\"M\",\"M\",\"M\",\"M\",\"M\",\"M\",\"M\",\"M\",\"M\",\"M\",\"M\",\"M\",\"M\",\"M\",\"M\",\"M\",\"M\",\"M\",\"M\",\"L\",\"L\",\"M\",\"M\",\"M\",\"M\",\"M\",\"M\",\"M\",\"M\",\"M\",\"L\",\"L\",\"M\",\"M\",\"M\",\"M\",\"M\",\"M\",\"M\",\"M\",\"L\",\"M\",\"M\",\"M\",\"M\",\"M\",\"M\",\"M\",\"M\",\"M\",\"M\",\"M\",\"M\",\"M\",\"M\",\"M\",\"M\",\"M\",\"M\",\"M\",\"S\",\"M\",\"M\",\"M\",\"M\",\"M\",\"M\",\"M\",\"M\",\"M\",\"M\",\"M\",\"M\",\"M\",\"M\",\"M\",\"M\",\"M\",\"M\",\"M\",\"M\",\"M\",\"M\",\"M\",\"M\",\"M\",\"M\",\"M\",\"M\",\"M\",\"M\",\"M\",\"M\",\"M\",\"M\",\"L\",\"L\",\"M\",\"M\",\"M\",\"M\",\"M\",\"M\",\"M\",\"M\",\"L\",\"M\",\"M\",\"M\",\"M\",\"M\",\"M\",\"M\",\"M\",\"M\",\"M\",\"M\",\"M\",\"M\",\"M\",\"M\",\"M\",\"L\",\"L\",\"M\",\"M\",\"M\",\"M\",\"L\",\"S\",\"L\",\"S\",\"L\",\"M\",\"M\",\"M\",\"M\",\"M\",\"M\",\"M\",\"M\",\"M\",\"M\",\"M\",\"M\",\"S\",\"L\",\"M\",\"M\",\"M\",\"M\",\"M\",\"M\",\"M\",\"M\",\"M\",\"M\",\"M\",\"M\",\"M\",\"M\",\"M\",\"M\",\"M\",\"M\",\"M\",\"M\",\"S\",\"S\",\"M\",\"M\",\"M\",\"M\",\"M\",\"M\",\"M\",\"M\",\"M\",\"M\",\"M\",\"M\",\"M\",\"M\",\"M\",\"M\",\"M\",\"M\",\"M\",\"M\",\"M\",\"M\",\"M\",\"M\",\"L\",\"L\",\"M\",\"M\",\"M\",\"M\",\"M\",\"M\",\"M\",\"M\",\"M\",\"M\",\"M\",\"M\",\"L\",\"M\",\"M\",\"M\",\"L\",\"L\",\"M\",\"M\",\"M\",\"M\",\"M\",\"M\",\"L\",\"M\",\"M\",\"L\",\"M\",\"M\",\"M\",\"M\",\"M\",\"M\",\"M\",\"M\",\"M\",\"M\",\"M\",\"M\",\"S\",\"L\",\"S\",\"L\",\"L\",\"L\",\"M\",\"M\",\"S\",\"S\",\"M\",\"M\",\"M\",\"M\",\"M\",\"M\",\"M\",\"M\",\"M\",\"M\",\"L\",\"L\",\"L\",\"L\",\"M\",\"M\",\"M\",\"M\",\"M\",\"M\",\"M\",\"M\",\"M\",\"M\",\"M\",\"M\",\"L\",\"L\",\"L\",\"L\",\"L\",\"L\",\"M\",\"L\",\"M\",\"M\",\"L\",\"L\",\"M\",\"M\",\"M\",\"M\",\"M\",\"M\",\"M\",\"M\",\"M\",\"M\",\"M\",\"M\",\"M\",\"M\",\"M\",\"M\",\"M\",\"M\",\"L\",\"L\",\"L\",\"M\",\"M\",\"M\",\"M\",\"M\",\"M\",\"M\",\"M\",\"M\",\"M\",\"M\",\"M\",\"M\",\"M\",\"M\",\"M\",\"M\",\"M\",\"M\",\"M\",\"M\",\"M\",\"M\",\"M\",\"M\",\"M\",\"M\",\"M\",\"M\",\"M\",\"M\",\"M\",\"M\",\"M\",\"M\",\"M\",\"L\",\"M\",\"M\",\"M\",\"M\",\"M\",\"L\",\"L\",\"L\",\"L\",\"L\",\"L\",\"M\",\"M\",\"M\",\"M\",\"M\",\"M\",\"M\",\"L\",\"L\",\"S\",\"S\",\"L\",\"M\",\"M\",\"M\",\"M\",\"M\",\"M\",\"M\",\"M\",\"L\",\"L\",\"L\",\"M\",\"M\",\"M\",\"M\",\"M\",\"M\",\"M\",\"M\",\"M\",\"M\",\"M\",\"M\",\"M\",\"M\",\"M\",\"M\",\"M\",\"M\",\"M\",\"L\",\"M\",\"M\",\"M\",\"M\",\"M\",\"M\",\"M\",\"M\",\"L\",\"M\",\"M\",\"M\",\"M\",\"M\",\"M\",\"M\",\"M\",\"M\",\"M\",\"M\",\"M\",\"M\",\"M\",\"M\",\"M\",\"L\",\"M\",\"M\",\"L\",\"M\",\"L\",\"M\",\"M\",\"M\",\"M\",\"M\",\"M\",\"M\",\"M\",\"M\",\"M\",\"M\",\"M\",\"M\",\"M\",\"M\",\"M\",\"M\",\"M\",\"M\",\"M\",\"M\",\"M\",\"M\",\"M\",\"M\",\"M\",\"M\",\"M\",\"M\",\"M\",\"M\",\"M\",\"M\",\"M\",\"M\",\"L\",\"M\",\"M\",\"M\",\"L\",\"L\",\"S\",\"S\",\"S\",\"M\",\"M\",\"M\",\"M\",\"M\",\"M\",\"M\",\"M\",\"M\",\"M\",\"M\",\"M\",\"M\",\"M\",\"M\",\"M\",\"L\",\"M\",\"M\",\"L\",\"M\",\"M\",\"M\",\"M\",\"S\",\"M\",\"M\",\"L\",\"L\",\"L\",\"M\",\"M\",\"M\",\"M\",\"M\",\"M\",\"S\",\"M\",\"M\",\"M\",\"M\",\"M\",\"M\",\"M\",\"M\",\"M\",\"M\",\"L\",\"L\",\"L\",\"M\",\"M\",\"M\",\"M\",\"M\",\"M\",\"L\",\"M\",\"M\",\"M\",\"M\",\"M\",\"M\",\"M\",\"M\",\"M\",\"M\",\"M\",\"M\",\"M\",\"M\",\"M\",\"M\",\"M\",\"M\",\"M\",\"M\",\"M\",\"M\",\"M\",\"M\",\"L\",\"L\",\"M\",\"M\",\"M\",\"M\",\"M\",\"M\",\"M\",\"M\",\"M\",\"M\",\"M\",\"M\",\"S\",\"M\",\"M\",\"M\",\"M\",\"M\",\"M\",\"M\",\"M\",\"S\",\"M\",\"M\",\"S\",\"M\",\"M\",\"M\",\"M\",\"M\",\"M\",\"L\",\"L\",\"S\",\"M\",\"M\",\"L\",\"L\",\"L\",\"L\",\"M\",\"M\",\"M\",\"M\",\"L\",\"L\",\"M\",\"M\",\"L\",\"M\",\"M\",\"L\",\"L\",\"M\",\"M\",\"M\",\"M\",\"L\",\"L\",\"M\",\"L\",\"M\",\"S\",\"M\",\"M\",\"M\",\"M\",\"S\",\"M\",\"L\",\"S\",\"S\",\"M\",\"M\",\"M\",\"M\",\"M\",\"M\",\"M\",\"M\",\"M\",\"M\",\"L\",\"L\",\"L\",\"L\",\"L\",\"L\",\"L\",\"L\",\"M\",\"M\",\"M\",\"S\",\"M\",\"M\",\"M\",\"M\",\"M\",\"M\",\"M\",\"M\",\"M\",\"M\",\"M\",\"L\",\"L\",\"M\",\"M\",\"M\",\"M\",\"M\",\"M\",\"L\",\"L\",\"L\",\"L\",\"L\",\"M\",\"M\",\"M\",\"L\",\"L\",\"M\",\"M\",\"M\",\"M\",\"M\",\"L\",\"L\",\"L\",\"L\",\"L\",\"M\",\"M\",\"L\",\"L\",\"M\",\"M\",\"M\",\"M\",\"M\",\"M\",\"M\",\"M\",\"M\",\"M\",\"S\",\"L\",\"M\",\"M\",\"M\",\"M\",\"M\",\"M\",\"M\",\"M\",\"M\",\"L\",\"L\",\"L\",\"L\",\"M\",\"M\",\"M\",\"M\",\"M\",\"M\",\"M\",\"M\",\"M\",\"M\",\"M\",\"M\",\"M\",\"S\",\"M\",\"M\",\"M\",\"M\",\"M\",\"M\",\"M\",\"M\",\"L\",\"L\",\"L\",\"L\",\"M\",\"M\",\"M\",\"M\",\"M\",\"M\",\"M\",\"M\",\"M\",\"M\",\"M\",\"M\",\"M\",\"M\",\"M\",\"M\",\"L\",\"L\",\"M\",\"M\",\"M\",\"M\",\"M\",\"M\",\"M\",\"M\",\"M\",\"M\",\"L\",\"M\",\"M\",\"L\",\"L\",\"M\",\"M\",\"M\",\"M\",\"S\",\"S\",\"M\",\"M\",\"M\",\"M\",\"M\",\"M\",\"M\",\"M\",\"M\",\"M\",\"M\",\"M\",\"M\",\"M\",\"M\",\"M\",\"L\",\"L\",\"M\",\"M\",\"M\",\"M\",\"M\",\"M\",\"M\",\"M\",\"M\",\"M\",\"M\",\"M\",\"M\",\"M\",\"M\",\"M\",\"M\",\"M\",\"M\",\"M\",\"M\",\"M\",\"M\",\"M\",\"M\",\"M\",\"M\",\"M\",\"M\",\"M\",\"M\",\"M\",\"M\",\"M\",\"M\",\"M\",\"M\",\"M\",\"L\",\"L\",\"M\",\"M\",\"M\",\"M\",\"M\",\"M\",\"M\",\"M\",\"M\",\"M\",\"M\",\"M\",\"M\",\"M\",\"M\",\"M\",\"M\",\"M\",\"M\",\"M\",\"L\",\"L\",\"M\",\"M\",\"L\",\"L\",\"M\",\"M\",\"M\",\"M\",\"M\",\"M\",\"M\",\"M\",\"M\",\"M\",\"M\",\"M\",\"M\",\"M\",\"M\",\"M\",\"M\",\"M\",\"M\",\"M\",\"M\",\"M\",\"M\",\"M\",\"M\",\"M\",\"M\",\"M\",\"M\",\"M\",\"M\",\"M\",\"M\",\"M\",\"M\",\"M\",\"M\",\"M\",\"M\",\"M\",\"M\",\"M\",\"M\",\"M\",\"M\",\"M\",\"M\",\"M\",\"M\",\"M\",\"M\",\"M\",\"M\",\"M\",\"M\",\"M\",\"M\",\"M\",\"M\",\"M\",\"M\",\"M\",\"M\",\"M\",\"M\",\"M\",\"M\",\"M\",\"M\",\"M\",\"M\",\"M\",\"M\",\"M\",\"M\",\"M\",\"M\",\"M\",\"M\",\"M\",\"M\",\"M\",\"M\",\"M\",\"M\",\"M\",\"M\",\"M\",\"S\",\"S\",\"M\",\"M\",\"M\",\"M\",\"M\",\"M\",\"M\",\"M\",\"M\",\"L\",\"S\",\"M\",\"L\",\"L\",\"L\",\"M\",\"L\",\"L\",\"L\",\"S\",\"S\",\"M\",\"M\",\"S\",\"M\",\"L\",\"M\",\"M\",\"M\",\"L\",\"L\",\"S\",\"L\",\"L\",\"M\",\"M\",\"M\",\"M\",\"M\",\"L\",\"S\",\"M\",\"M\",\"L\",\"M\",\"L\",\"L\",\"L\",\"L\",\"L\",\"L\",\"M\",\"S\",\"M\",\"S\",\"M\",\"M\",\"L\",\"M\",\"L\",\"M\",\"M\",\"M\",\"L\"],\"x0\":\" \",\"xaxis\":\"x\",\"y\":[20984,300000,56536,88256,275000,59888,73546,172309,130000,34320,9289,106000,192000,168000,85000,375000,180000,23000,155000,84053,48000,6304,15897,110000,25216,18314,100000,133000,14307,130000,13989,125000,175000,155000,153600,106800,150000,140000,122000,94500,170000,130000,145000,128000,145000,100000,175000,120000,145000,115000,150000,150000,100000,150000,127500,126500,51000,260000,175000,40000,40000,250000,63000,210000,160000,272550,198200,94560,52533,220000,146000,150000,100000,248400,183600,150000,150000,40000,56723,120000,95000,160000,135000,24165,216000,144000,85000,65000,149000,119000,140000,120000,150000,110000,246000,201000,190000,155000,235000,185000,190000,160000,100000,130000,115000,92350,67723,105000,70000,204500,142200,192000,164000,185900,129300,130000,75000,175000,120000,167500,106500,75000,60000,184000,142000,145000,100000,10000,31795,44365,175000,120000,175000,120000,200000,145000,92350,73880,145000,100000,192000,164000,310000,239000,120000,95000,145000,135000,100000,78000,73546,36773,160000,120000,190000,150000,35610,125000,120000,95000,150000,100000,47280,37824,115934,81666,175000,140000,120000,95000,249500,149850,122500,100000,249500,149850,55000,48000,249500,149850,58837,190000,120000,127000,104000,210000,150000,210000,150000,210000,130000,182750,161500,102640,66100,210000,150000,198800,122600,130000,80000,136000,104000,150000,100000,160000,135000,216000,144000,159000,130000,115934,81666,215000,150000,246000,201000,187000,153000,255000,185000,430967,55410,50432,39925,169000,110600,60938,140000,120000,75000,60000,10000,50000,134000,124000,166700,119000,124234,74540,100000,65000,200000,12000,220000,146000,68293,36773,110000,70000,50000,120000,95000,150000,100000,47280,37824,190000,135000,128000,81500,173000,110000,192000,120000,115934,81666,120000,95000,190000,194000,129400,201000,89200,165000,125000,230000,196000,130000,90000,150000,100000,230000,150000,153600,106800,130000,100000,216000,144000,180000,120000,160000,135000,192500,140000,152500,130000,65000,55000,178750,160000,63040,52533,165000,135000,170000,125000,105000,70000,130000,95000,203500,152000,197430,134760,120000,197000,99000,220000,162000,110446,79178,70186,51716,149040,113900,171000,13000,100000,78000,120000,95000,110000,70000,50000,185900,129300,150000,100000,230000,154600,204500,142200,160000,75000,47280,37824,213000,152000,140000,120000,110000,70000,227200,168000,64090,60938,243000,183000,175000,150000,130000,90000,165000,124000,178000,132000,300000,130000,169000,110600,116000,96000,92350,70186,105000,70000,105236,194000,129400,190000,135000,100000,70000,189750,140250,130000,100000,160000,109000,250000,150000,206000,160000,135000,120000,115573,73546,160000,135000,150000,100000,120000,95000,68293,42026,191200,130000,191200,130000,66192,50000,230000,154600,120000,95000,140000,120000,169000,110600,80000,185900,129300,135000,110000,155000,140000,205000,150000,179500,134000,180000,120000,185900,129300,175000,145000,235000,175000,27317,160000,90000,68293,36773,145000,115000,165000,135000,168400,105200,86193,49253,200000,160000,47280,37824,198800,122600,100000,105066,130000,100000,104663,73880,125000,110000,165000,124000,148000,107000,150000,100000,160000,135000,120000,95000,153600,106800,100000,65000,120000,95000,63040,36773,310000,239000,299500,245100,168000,130000,136000,104000,161000,118000,205000,184000,185900,129300,247500,172200,68293,177000,131000,205000,184000,146000,102000,169000,110600,230000,196000,135000,100000,80000,65000,135000,100000,61566,43096,175000,135000,80000,231250,138750,193750,116250,231250,138750,231250,138750,231250,138750,193750,116250,208000,127000,300000,196000,204500,142200,185900,129300,47280,37824,204500,142200,205000,185000,185900,129300,247500,172200,160000,135000,150000,100000,110000,95000,185900,129300,205000,184000,17684,375000,191200,130000,225000,156400,169000,110600,204500,142200,104663,80036,185900,129300,140700,93800,350000,135000,115934,81666,12000,104697,33000,34672,201000,119000,175000,150000,154560,123648,130000,100000,170000,145000,135000,100000,247500,172200,177500,134000,185900,129300,192564,144854,130000,105000,179305,142127,315000,225000,243900,156600,206000,160000,109000,79000,160000,109000,89306,182500,128500,160000,90000,77300,45600,127000,110000,210000,136000,12608,170000,140000,247500,172200,225000,184100,130000,90000,120000,100000,85000,78000,161000,110000,136000,104000,47280,37824,205000,160000,169000,110600,61566,49253,160000,130000,245000,180000,135000,100000,220000,150000,198440,144000,240000,170000,198440,144000,150000,100000,120000,95000,57872,64000,39925,187200,116100,150000,127000,275000,166000,159699,138938,76000,166700,119000,130000,100000,103432,92350,80000,52500,236000,182000,180000,140000,225000,156400,135000,100000,204500,142200,240000,125404,300000,130000,195000,175000,155000,110000,123000,92250,170000,150000,180000,100000,97000,90000,200000,160000,210000,180000,260000,180000,210000,157000,180000,100000,80000,52500,128000,81500,105000,70000,175000,122500,171000,117000,202800,104300,50432,36773,197000,99000,160000,110000,185900,129300,30000,78000,48000,170000,130000,150000,95000,78000,42000,345600,230400,145000,115000,78000,48000,175950,130050,205600,105700,236600,89200,84000,54000,80000,200000,73742,165000,33246,185900,129300,169000,110600,225000,184100,185900,129300,225000,156400,185900,129300,108000,8000,155000,38000,85000,65000,155000,38000,110820,92350,153600,106800,185000,50000,185900,129300,155000,38000,168000,130000,123400,88100,120000,55000,185900,129300,191200,130000,169000,110600,150000,120000,139000,122000,185900,129300,139600,85700,185000,50000,185900,129300,225000,156400,200000,175000,185900,129300,148500,98200,115000,95000,225000,66000,185000,50000,47280,37824,134000,98000,105000,62000,57000,161311,144200,115360,83171,38154,73546,42026,170000,150000,180000,160000,108000,200000,150000,125976,188700,160395,115934,81666,300000,225000,198440,144000,191475,141525,50432,36773,75648,156868,200000,198440,144000,69344,5132,90000,126080,84053,200000,180000,108000,85000,210000,180000,165000,132000,130000,110000,45050,135000,178800,132100,20000,140000,110000,160000,85000,250000,63000,187200,116100,10000,200000,145000,229998,154545,215000,159000,229998,154545,50000,183000,99750,68400,236900,159200,243225,179775,175000,150000,210000,180000,148000,128000,190000,135000,130000,110000,191475,141525,160000,85000,218000,145300,195400,131300,105000,191475,141525,207000,153000,191475,141525,110000,99000,191475,141525,191475,141525,191475,141525,200000,135000,207000,153000,191475,141525,191475,141525,191475,141525,195700,130500,130000,84000,100000,60000,80036,67723,141300,102100,50432,36773,150000,102200,22892,144000,113000,31520,195400,131300,195400,131300,195400,131300,190000,135000,135000,80000,8050,160000,85000,178800,132100,60000,63040,50000,140000,105000,80036,67723,190000,140000,100000,60000,180000,165000,108000,190000,135000,179400,154000,193900,129300,222640,182160,150000,100000,122500,100000,297500,260000,193000,93000,73000,100000,60000,7799,136994,101570,250000,63000,134000,98000,191475,141525,57786,136000,112000,172000,140000,215000,164000,300000,130000,250000,63000,180000,150000,250000,63000,191475,141525,97500,212800,142800,73546,50000,6359,151800,130240,165000,140250,135000,115000,179400,154000,191475,141525,191475,141525,191475,141525,75000,84053,73546,98506,86193,84053,73546,191475,141525,191475,141525,102663,80041,191475,141525,104611,82280,191475,141525,191475,141525,115000,31520,81000,66000,46000,80000,200000,180000,200000,204100,136100,250000,63000,118208,110820,191475,141525,191475,141525,191475,141525,95000,70000,75000,7500,113000,170000,130000,113000,140000,53368,175000,140000,29944,250000,63000,160000,119300,145000,105000,90000,146200,124270,225000,160000,54634,185800,137400,245000,180000,203500,152000,250000,63000,186000,148800,95386,128058,82000,110000,173000,203500,152000,186000,148800,6270,158000,134000,170000,120000,200000,150000,216200,144100,115573,89306,250000,63000,135000,85000,135000,85000,206000,175100,189650,164996,149040,113900,154000,126000,200000,150000,195700,130500,170000,135000,98506,73880,117000,99450,200000,135000,193900,129300,55410,86193,61566,175000,130000,188100,139860,248700,167100,5723,123400,88100,50432,245000,205000,141300,102100,141300,102100,50000,84053,61566,250000,63000,189500,140100,177600,131300,24000,24000,250000,63000,202900,131300,145000,115000,115000,193900,129300,180000,140000,216200,144100,216000,144000,150000,53416,50000,84053,131752,48000,260500,175100,210000,100000,55000,130000,77119,52008,30523,206699,99100,200000,54000,250000,63000,250000,63000,250000,63000,130000,100000,80000,160000,100000,221300,148700,30000,28368,91118,61566,60938,249260,185400,170000,130000,80036,128875,93700,180000,100000,136260,109280,160000,92000,200000,160000,135446,104663,117000,99450,129000,86000,160000,119300,100000,25000,65257,200000,180000,153000,210000,100000,150075,110925,22800,160000,92000,202900,131300,15000,175000,135000,133766,83000,92350,67723,186000,148800,112900,90320,240000,160000,300000,200000,65666,200000,116976,92350,120000,112900,90320,145000,105400,110820,92350,215300,158200,209100,154600,115934,81666,175000,155000,84053,164000,132000,170000,123000,189650,164996,52533,52533,115222,165400,132320,208775,147800,136994,101570,128875,93700,76309,35093,183600,100800,49253,36940,42026,31520,84053,73546,98506,86193,84053,73546,189650,164996,42026,31520,92350,73880,215300,140400,63040,47280,260000,180000,67723,43096,63040,47280,73880,55410,60000,82900,63900,160000,112300,241000,159000,180000,80000,58000,58000,136000,108800,242000,200000,61566,36940,73880,49253,165220,120160,124190,90320,181940,132320,220110,160080,180000,120000,126500,106260,116000,99000,155000,120600,130000,90000,170000,150000,102100,84900,136620,99360,110820,98506,146000,123000,49253,43096,130000,110000,170000,135000,161342,137141,167000,123000,73880,61566,211500,138600,192400,90700,130000,61300,130000,61300,160000,113000,150000,95550,167000,115500,112900,90320,112900,90320,165400,132320,243900,156600,136600,109280,128875,93700,224000,167875,175000,135000,209100,154600,180000,160000,205300,140400,176000,144000,200100,160000,70500,54000,205300,140400,205300,184700,175100,140250,116150,99050,145000,130000,112900,90320,85000,75000,214000,192600,266400,213120,155000,115000,141300,102100,115934,81666,206699,99100,130000,110500,61566,43096,80000,60000,192564,144854,230000,150000,150260,109280,170000,150000,160000,130000,67000,52000,154000,126000,129000,99000,210000,140000,210000,140000,210000,140000,100000,69000,210000,140000,150075,110925,100000,25000,126500,106260,220110,160080,105000,100000,170000,135000,230000,140000,135000,50000,220000,140000,172386,86193,220000,120000,200000,120000,120000,65000,324000,216000,210000,100000,185100,104890,105000,80000,76814,192037,120000,17805,30523,55685,52533,17805,75000,157000,69133,65000,68293,67597,10000,20000,200000,51081,78000,135000,115000,83864,40000,31520,59888,89306,83171,165000,153000,100000,76814,33609,75000,30469,55475,61989,152500,120000,135000,405000,380000,120402,177000,65141,48000,20000,150000,100000,100000,144000,155499,100000,120000,84053,125000,21013],\"y0\":\" \",\"yaxis\":\"y\",\"type\":\"box\"},{\"alignmentgroup\":\"True\",\"hovertemplate\":\"work_year=2023<br>company_size=%{x}<br>salary_in_usd=%{y}<extra></extra>\",\"legendgroup\":\"2023\",\"marker\":{\"color\":\"#ab63fa\"},\"name\":\"2023\",\"notched\":false,\"offsetgroup\":\"2023\",\"orientation\":\"v\",\"showlegend\":true,\"x\":[\"L\",\"S\",\"S\",\"M\",\"M\",\"L\",\"L\",\"M\",\"M\",\"M\",\"M\",\"M\",\"M\",\"L\",\"L\",\"M\",\"M\",\"M\",\"M\",\"M\",\"M\",\"M\",\"M\",\"M\",\"M\",\"M\",\"M\",\"M\",\"M\",\"M\",\"M\",\"M\",\"M\",\"M\",\"M\",\"M\",\"M\",\"M\",\"M\",\"L\",\"L\",\"L\",\"L\",\"M\",\"M\",\"M\",\"M\",\"M\",\"M\",\"M\",\"M\",\"M\",\"M\",\"M\",\"M\",\"M\",\"M\",\"M\",\"M\",\"M\",\"M\",\"M\",\"M\",\"M\",\"M\",\"M\",\"M\",\"L\",\"L\",\"M\",\"M\",\"M\",\"M\",\"M\",\"M\",\"M\",\"M\",\"M\",\"M\",\"L\",\"M\",\"S\",\"L\",\"M\",\"M\",\"M\",\"M\",\"M\",\"M\",\"M\",\"M\",\"M\",\"M\",\"M\",\"M\",\"M\",\"M\",\"L\",\"L\",\"M\",\"M\",\"M\",\"M\",\"M\",\"M\",\"M\",\"M\",\"M\",\"M\",\"M\",\"M\",\"L\",\"M\",\"M\",\"M\",\"M\",\"M\",\"M\",\"M\",\"M\",\"M\",\"M\",\"M\",\"M\",\"M\",\"M\",\"M\",\"M\",\"M\",\"M\",\"L\",\"L\",\"M\",\"M\",\"M\",\"M\",\"M\",\"M\",\"M\",\"M\",\"M\",\"M\",\"M\",\"M\",\"M\",\"M\",\"M\",\"M\",\"M\",\"M\",\"M\",\"M\",\"L\",\"L\",\"M\",\"M\",\"M\",\"M\",\"M\",\"M\",\"L\",\"L\",\"M\",\"M\",\"M\",\"M\",\"M\",\"M\",\"M\",\"M\",\"L\",\"L\",\"M\",\"M\",\"M\",\"M\",\"M\",\"M\",\"M\",\"M\",\"M\",\"M\",\"M\",\"M\",\"M\",\"M\",\"M\",\"M\",\"M\",\"M\",\"M\",\"M\",\"M\",\"M\",\"M\",\"M\",\"M\",\"M\",\"S\",\"M\",\"M\",\"M\",\"M\",\"M\",\"M\",\"M\",\"M\",\"M\",\"M\",\"M\",\"M\",\"M\",\"M\",\"L\",\"M\",\"M\",\"M\",\"M\",\"M\",\"M\",\"M\",\"M\",\"M\",\"M\",\"M\",\"M\",\"M\",\"M\",\"M\",\"M\",\"M\",\"M\",\"M\",\"M\",\"M\",\"M\",\"M\",\"L\",\"L\",\"M\",\"M\",\"M\",\"M\",\"M\",\"M\",\"M\",\"M\",\"M\",\"M\",\"M\",\"M\",\"M\",\"M\",\"M\",\"M\",\"M\",\"M\",\"M\",\"M\",\"M\",\"M\",\"L\",\"L\",\"M\",\"M\",\"M\",\"M\",\"L\",\"L\",\"M\",\"M\",\"L\",\"L\",\"M\",\"M\",\"M\",\"M\",\"M\",\"M\",\"M\",\"M\",\"M\",\"M\",\"M\",\"M\",\"M\",\"M\",\"M\",\"M\",\"L\",\"L\",\"M\",\"M\",\"M\",\"M\",\"M\",\"M\",\"M\",\"M\",\"M\",\"M\",\"M\",\"M\",\"M\",\"M\",\"M\",\"M\",\"M\",\"M\",\"M\",\"M\",\"M\",\"M\",\"M\",\"M\",\"M\",\"M\",\"L\",\"S\",\"M\",\"M\",\"L\",\"M\",\"M\",\"M\",\"M\",\"M\",\"M\",\"M\",\"M\",\"M\",\"M\",\"M\",\"M\",\"M\",\"M\",\"M\",\"M\",\"M\",\"M\",\"M\",\"M\",\"L\",\"L\",\"M\",\"M\",\"M\",\"M\",\"M\",\"M\",\"M\",\"M\",\"M\",\"M\",\"M\",\"M\",\"M\",\"M\",\"M\",\"M\",\"M\",\"M\",\"M\",\"M\",\"M\",\"M\",\"M\",\"M\",\"M\",\"M\",\"M\",\"M\",\"M\",\"M\",\"M\",\"M\",\"M\",\"M\",\"M\",\"M\",\"M\",\"M\",\"M\",\"M\",\"M\",\"L\",\"M\",\"M\",\"M\",\"M\",\"M\",\"M\",\"M\",\"M\",\"M\",\"M\",\"M\",\"M\",\"M\",\"M\",\"M\",\"M\",\"M\",\"M\",\"M\",\"M\",\"M\",\"M\",\"M\",\"M\",\"M\",\"M\",\"M\",\"M\",\"M\",\"M\",\"M\",\"M\",\"M\",\"M\",\"M\",\"M\",\"M\",\"M\",\"M\",\"M\",\"M\",\"M\",\"M\",\"M\",\"M\",\"M\",\"M\",\"L\",\"L\",\"L\",\"L\",\"M\",\"M\",\"M\",\"M\",\"M\",\"M\",\"M\",\"M\",\"M\",\"M\",\"M\",\"M\",\"M\",\"M\",\"M\",\"M\",\"M\",\"M\",\"M\",\"M\",\"M\",\"M\",\"M\",\"M\",\"M\",\"M\",\"M\",\"M\",\"M\",\"M\",\"M\",\"M\",\"M\",\"M\",\"M\",\"M\",\"M\",\"M\",\"M\",\"M\",\"M\",\"M\",\"M\",\"M\",\"M\",\"M\",\"M\",\"M\",\"M\",\"M\",\"M\",\"M\",\"M\",\"M\",\"M\",\"M\",\"M\",\"M\",\"M\",\"M\",\"M\",\"M\",\"M\",\"M\",\"M\",\"M\",\"M\",\"M\",\"M\",\"M\",\"M\",\"M\",\"M\",\"M\",\"M\",\"M\",\"M\",\"M\",\"M\",\"M\",\"M\",\"M\",\"M\",\"L\",\"L\",\"M\",\"M\",\"M\",\"M\",\"M\",\"M\",\"M\",\"M\",\"M\",\"M\",\"M\",\"M\",\"M\",\"M\",\"M\",\"M\",\"M\",\"M\",\"M\",\"M\",\"M\",\"M\",\"M\",\"M\",\"M\",\"M\",\"M\",\"M\",\"M\",\"M\",\"M\",\"M\",\"M\",\"M\",\"M\",\"M\",\"M\",\"M\",\"M\",\"M\",\"M\",\"M\",\"M\",\"M\",\"S\",\"M\",\"M\",\"M\",\"M\",\"M\",\"M\",\"M\",\"M\",\"M\",\"M\",\"M\",\"M\",\"M\",\"M\",\"M\",\"M\",\"M\",\"L\",\"M\",\"M\",\"M\",\"M\",\"M\",\"M\",\"M\",\"M\",\"M\",\"M\",\"M\",\"M\",\"M\",\"M\",\"M\",\"M\",\"M\",\"M\",\"M\",\"M\",\"M\",\"M\",\"M\",\"M\",\"M\",\"M\",\"M\",\"M\",\"M\",\"M\",\"M\",\"M\",\"M\",\"M\",\"M\",\"L\",\"L\",\"M\",\"M\",\"M\",\"M\",\"M\",\"M\",\"M\",\"M\",\"M\",\"M\",\"M\",\"M\",\"M\",\"M\",\"M\",\"M\",\"M\",\"M\",\"M\",\"M\",\"M\",\"M\",\"M\",\"M\",\"M\",\"M\",\"M\",\"M\",\"L\",\"L\",\"M\",\"M\",\"M\",\"M\",\"M\",\"M\",\"M\",\"M\",\"M\",\"M\",\"M\",\"M\",\"M\",\"M\",\"M\",\"M\",\"M\",\"M\",\"M\",\"M\",\"M\",\"M\",\"M\",\"M\",\"M\",\"M\",\"M\",\"M\",\"M\",\"M\",\"M\",\"M\",\"M\",\"M\",\"M\",\"M\",\"M\",\"M\",\"M\",\"M\",\"L\",\"L\",\"M\",\"M\",\"M\",\"M\",\"M\",\"M\",\"M\",\"M\",\"M\",\"M\",\"L\",\"M\",\"M\",\"M\",\"M\",\"M\",\"M\",\"M\",\"M\",\"M\",\"M\",\"M\",\"M\",\"M\",\"M\",\"M\",\"M\",\"M\",\"M\",\"L\",\"M\",\"M\",\"L\",\"L\",\"M\",\"L\",\"M\",\"M\",\"M\",\"M\",\"M\",\"M\",\"M\",\"M\",\"M\",\"M\",\"M\",\"M\",\"M\",\"M\",\"M\",\"M\",\"M\",\"M\",\"M\",\"M\",\"M\",\"M\",\"M\",\"M\",\"M\",\"M\",\"M\",\"M\",\"M\",\"M\",\"M\",\"M\",\"M\",\"M\",\"M\",\"M\",\"M\",\"M\",\"M\",\"M\",\"M\",\"M\",\"M\",\"M\",\"M\",\"M\",\"M\",\"M\",\"M\",\"M\",\"M\",\"M\",\"M\",\"M\",\"M\",\"M\",\"M\",\"M\",\"M\",\"M\",\"M\",\"M\",\"M\",\"M\",\"L\",\"M\",\"M\",\"M\",\"M\",\"M\",\"M\",\"M\",\"M\",\"M\",\"M\",\"M\",\"M\",\"M\",\"M\",\"M\",\"M\",\"M\",\"M\",\"M\",\"M\",\"M\",\"M\",\"M\",\"M\",\"M\",\"M\",\"M\",\"M\",\"M\",\"M\",\"L\",\"M\",\"M\",\"M\",\"M\",\"M\",\"M\",\"M\",\"M\",\"M\",\"M\",\"M\",\"M\",\"M\",\"M\",\"M\",\"M\",\"M\",\"M\",\"M\",\"M\",\"L\",\"M\",\"M\",\"M\",\"M\",\"M\",\"M\",\"M\",\"M\",\"M\",\"M\",\"M\",\"M\",\"M\",\"M\",\"M\",\"M\",\"M\",\"M\",\"M\",\"M\",\"M\",\"M\",\"M\",\"M\",\"M\",\"M\",\"M\",\"M\",\"M\",\"M\",\"M\",\"M\",\"M\",\"M\",\"M\",\"M\",\"M\",\"M\",\"M\",\"M\",\"M\",\"M\",\"S\",\"S\",\"M\",\"M\",\"M\",\"M\",\"M\",\"M\",\"M\",\"M\",\"M\",\"M\",\"M\",\"M\",\"M\",\"M\",\"M\",\"M\",\"M\",\"M\",\"M\",\"M\",\"M\",\"M\",\"M\",\"M\",\"M\",\"M\",\"M\",\"M\",\"M\",\"M\",\"M\",\"M\",\"M\",\"M\",\"M\",\"M\",\"M\",\"M\",\"M\",\"M\",\"M\",\"M\",\"M\",\"M\",\"M\",\"M\",\"M\",\"M\",\"M\",\"M\",\"M\",\"M\",\"M\",\"M\",\"M\",\"M\",\"M\",\"M\",\"M\",\"M\",\"M\",\"M\",\"M\",\"M\",\"M\",\"M\",\"M\",\"M\",\"M\",\"L\",\"M\",\"M\",\"M\",\"M\",\"M\",\"M\",\"M\",\"M\",\"M\",\"M\",\"M\",\"M\",\"M\",\"S\",\"M\",\"M\",\"M\",\"M\",\"M\",\"M\",\"M\",\"M\",\"L\",\"M\",\"M\",\"M\",\"M\",\"M\",\"M\",\"M\",\"M\",\"M\",\"M\",\"M\",\"M\",\"M\",\"M\",\"M\",\"M\",\"M\",\"M\",\"M\",\"M\",\"M\",\"M\",\"M\",\"S\",\"S\",\"M\",\"M\",\"M\",\"M\",\"M\",\"M\",\"M\",\"M\",\"M\",\"M\",\"M\",\"M\",\"M\",\"M\",\"M\",\"M\",\"M\",\"M\",\"M\",\"M\",\"M\",\"M\",\"M\",\"M\",\"M\",\"M\",\"M\",\"M\",\"M\",\"M\",\"M\",\"M\",\"M\",\"M\",\"M\",\"M\",\"M\",\"M\",\"M\",\"M\",\"M\",\"M\",\"M\",\"M\",\"M\",\"L\",\"M\",\"M\",\"M\",\"M\",\"M\",\"M\",\"M\",\"M\",\"M\",\"M\",\"M\",\"M\",\"M\",\"M\",\"M\",\"M\",\"M\",\"M\",\"M\",\"M\",\"M\",\"M\",\"M\",\"M\",\"M\",\"M\",\"M\",\"M\",\"M\",\"M\",\"M\",\"M\",\"M\",\"M\",\"M\",\"M\",\"L\",\"S\",\"S\",\"M\",\"M\",\"M\",\"M\",\"M\",\"M\",\"M\",\"M\",\"M\",\"M\",\"M\",\"M\",\"M\",\"M\",\"M\",\"M\",\"M\",\"M\",\"M\",\"M\",\"M\",\"M\",\"M\",\"M\",\"M\",\"M\",\"M\",\"M\",\"M\",\"M\",\"M\",\"M\",\"M\",\"M\",\"M\",\"M\",\"M\",\"M\",\"M\",\"M\",\"M\",\"M\",\"M\",\"M\",\"M\",\"M\",\"M\",\"M\",\"M\",\"M\",\"M\",\"M\",\"M\",\"M\",\"L\",\"L\",\"M\",\"M\",\"M\",\"M\",\"M\",\"M\",\"M\",\"M\",\"M\",\"M\",\"M\",\"M\",\"M\",\"M\",\"M\",\"M\",\"M\",\"M\",\"M\",\"M\",\"M\",\"M\",\"M\",\"M\",\"M\",\"M\",\"M\",\"M\",\"M\",\"M\",\"M\",\"M\",\"M\",\"M\",\"M\",\"M\",\"M\",\"M\",\"M\",\"M\",\"M\",\"M\",\"M\",\"M\",\"M\",\"M\",\"M\",\"M\",\"M\",\"M\",\"M\",\"M\",\"M\",\"M\",\"M\",\"L\",\"L\",\"M\",\"M\",\"M\",\"M\",\"L\",\"L\",\"M\",\"M\",\"M\",\"M\",\"M\",\"M\",\"M\",\"M\",\"M\",\"M\",\"M\",\"M\",\"M\",\"M\",\"M\",\"M\",\"M\",\"M\",\"M\",\"M\",\"M\",\"M\",\"M\",\"M\",\"M\",\"M\",\"L\",\"M\",\"L\",\"M\",\"M\",\"M\",\"M\",\"M\",\"M\",\"M\",\"M\",\"M\",\"M\",\"M\",\"M\",\"M\",\"M\",\"M\",\"M\",\"M\",\"M\",\"M\",\"M\",\"M\",\"M\",\"M\",\"M\",\"M\",\"M\",\"M\",\"M\",\"M\",\"M\",\"M\",\"M\",\"M\",\"M\",\"M\",\"M\",\"M\",\"M\",\"M\",\"M\",\"M\",\"M\",\"M\",\"M\",\"M\",\"M\",\"M\",\"S\",\"M\",\"M\",\"M\",\"M\",\"M\",\"M\",\"M\",\"M\",\"M\",\"M\",\"M\",\"M\",\"L\",\"S\",\"M\",\"M\",\"M\",\"M\",\"M\",\"M\",\"M\",\"M\",\"M\",\"M\",\"M\",\"M\",\"M\",\"M\",\"M\",\"M\",\"M\",\"L\",\"L\",\"M\",\"M\",\"M\",\"M\",\"L\",\"M\",\"M\",\"M\",\"M\",\"M\",\"M\",\"M\",\"M\",\"M\",\"M\",\"M\",\"M\",\"M\",\"M\",\"M\",\"M\",\"M\",\"M\",\"M\",\"M\",\"M\",\"M\",\"M\",\"M\",\"M\",\"M\",\"M\",\"M\",\"M\",\"M\",\"M\",\"M\",\"M\",\"M\",\"M\",\"M\",\"M\",\"M\",\"L\",\"M\",\"M\",\"M\",\"M\",\"M\",\"M\",\"M\",\"M\",\"M\",\"M\",\"M\",\"M\",\"M\",\"M\",\"M\",\"M\",\"M\",\"M\",\"M\",\"M\",\"M\",\"M\",\"M\",\"M\",\"S\",\"M\",\"M\",\"M\",\"M\",\"M\",\"M\",\"M\",\"M\",\"L\",\"L\",\"M\",\"M\",\"M\",\"M\",\"M\",\"M\",\"M\",\"M\",\"M\",\"M\",\"M\",\"M\",\"M\",\"M\",\"M\",\"M\",\"M\",\"M\",\"M\",\"M\",\"L\",\"M\",\"M\",\"M\",\"M\",\"M\",\"M\",\"M\",\"M\",\"M\",\"M\",\"M\",\"M\",\"M\",\"M\",\"M\",\"M\",\"L\",\"S\",\"M\",\"M\",\"M\",\"M\",\"M\",\"M\",\"M\",\"M\",\"M\",\"M\",\"M\",\"M\",\"L\",\"L\",\"M\",\"M\",\"M\",\"M\",\"M\",\"M\",\"S\",\"M\",\"M\",\"M\",\"M\",\"M\",\"M\",\"M\",\"M\",\"M\",\"M\",\"M\",\"M\",\"M\",\"M\",\"M\",\"M\",\"M\",\"M\",\"M\",\"M\",\"M\",\"M\",\"M\",\"M\",\"M\",\"M\",\"S\",\"M\",\"M\",\"M\",\"M\",\"M\",\"M\",\"M\",\"M\",\"M\",\"M\",\"M\",\"M\",\"M\",\"M\",\"S\",\"M\",\"M\",\"M\",\"M\",\"M\",\"M\",\"M\",\"M\",\"M\",\"M\",\"M\",\"M\",\"M\",\"M\",\"M\",\"M\",\"S\",\"S\",\"L\",\"M\",\"M\",\"M\",\"M\",\"M\",\"L\",\"L\",\"M\",\"M\",\"M\",\"M\",\"M\",\"M\",\"L\",\"M\",\"M\",\"M\",\"M\",\"M\",\"M\",\"M\",\"M\",\"M\",\"M\",\"M\",\"M\",\"M\",\"M\",\"M\",\"M\",\"M\",\"M\",\"M\",\"M\",\"M\",\"M\",\"M\",\"M\",\"M\",\"M\",\"M\",\"M\",\"M\",\"M\",\"M\",\"M\",\"L\",\"M\",\"M\",\"M\",\"M\",\"M\",\"M\",\"M\",\"M\",\"M\",\"M\",\"M\",\"M\",\"M\",\"M\",\"M\",\"M\",\"M\",\"M\",\"M\",\"M\",\"M\",\"M\",\"M\",\"M\",\"M\",\"M\",\"M\",\"M\",\"M\",\"M\",\"M\",\"M\",\"M\",\"M\",\"M\",\"M\",\"M\",\"M\",\"M\",\"M\",\"M\",\"M\",\"M\",\"M\",\"M\",\"M\",\"M\",\"M\",\"M\",\"M\",\"M\",\"M\",\"M\",\"M\",\"M\",\"M\",\"M\",\"M\",\"M\",\"M\",\"M\",\"M\",\"M\",\"M\",\"M\",\"M\",\"M\",\"M\",\"M\",\"M\",\"M\",\"M\",\"M\",\"M\",\"M\",\"M\",\"M\",\"M\",\"M\",\"M\",\"M\",\"M\",\"M\",\"M\",\"M\",\"L\",\"M\",\"M\",\"M\",\"M\",\"M\",\"M\",\"M\",\"M\",\"M\",\"M\",\"L\",\"L\",\"M\",\"M\",\"M\",\"M\",\"M\",\"M\",\"M\",\"M\",\"L\",\"M\",\"M\",\"M\",\"M\",\"M\",\"M\",\"M\",\"M\",\"M\",\"M\",\"M\",\"M\",\"M\",\"M\",\"M\",\"M\",\"M\",\"M\",\"M\",\"M\",\"M\",\"M\",\"M\",\"M\",\"M\",\"M\",\"M\",\"M\",\"M\",\"M\",\"M\",\"M\",\"M\",\"M\",\"M\",\"M\",\"M\",\"M\",\"M\",\"M\",\"M\",\"M\",\"M\",\"M\",\"M\",\"M\",\"M\",\"M\",\"M\",\"M\",\"M\",\"M\",\"M\",\"M\",\"M\",\"M\",\"M\",\"M\",\"M\",\"M\",\"M\",\"M\",\"M\",\"M\",\"M\",\"M\",\"M\",\"M\",\"M\",\"M\",\"M\",\"M\",\"M\",\"M\",\"M\",\"M\",\"M\",\"M\",\"M\",\"M\",\"M\",\"M\",\"M\",\"M\",\"M\",\"M\",\"M\",\"M\",\"M\",\"M\",\"M\",\"M\",\"M\",\"M\",\"M\",\"M\",\"M\",\"M\",\"M\",\"M\",\"M\",\"M\",\"L\",\"L\",\"M\",\"M\",\"M\",\"M\"],\"x0\":\" \",\"xaxis\":\"x\",\"y\":[85847,30000,25500,175000,120000,222200,136000,219000,141000,147100,90700,130000,100000,213660,130760,147100,90700,170000,150000,150000,110000,275000,174000,230000,143200,225000,156400,200000,130000,90000,72000,253200,90700,342810,184590,162500,130000,105380,64500,100000,30000,204620,110680,270703,221484,212750,185000,262000,245000,275300,183500,218500,199098,203300,123600,189110,139000,258750,185000,231500,166000,172500,110500,238000,176000,237000,201450,309400,159100,115000,81500,237000,201450,280000,210000,280100,168100,193500,139000,65062,150000,69751,96578,185900,129300,225000,175000,185000,140000,48289,38631,105000,70000,163196,145885,217000,185000,202800,104300,145000,65000,165000,132300,179170,94300,152500,116450,247300,133800,203000,133000,220000,150000,120000,289800,214000,179820,143860,283200,188800,289800,214200,185900,129300,252000,129000,155000,140000,161800,141600,342300,176100,100000,70000,85000,65000,138784,83270,75000,70000,204500,138900,318300,212200,95000,75000,195000,160000,230000,143200,100000,70000,105000,20670,46178,42533,145000,115000,168400,105200,309400,159100,190000,150000,162500,130000,150000,120000,145000,120000,222200,136000,54685,42533,241000,155000,220000,190000,66837,54685,85066,57723,85000,75000,160000,140000,300000,250000,228000,186000,190000,170000,230000,200000,180000,115000,200000,115000,53654,220000,205000,180000,130000,200000,150000,215000,170000,247500,172200,224000,176000,120000,75000,17022,68318,75020,140000,120000,128000,81500,145000,115000,185000,140000,329500,269600,100000,80000,250000,162500,200000,145000,100000,145000,115000,203500,152000,239000,122900,237000,145000,191765,134236,190000,112000,85000,65000,135000,105500,293000,185000,80000,70000,220000,160000,175000,145000,200000,148500,48289,38631,240500,123700,152900,117100,173000,113000,260000,136000,175000,110000,260000,136000,130000,110000,205000,184000,149500,127075,195000,160000,219535,146115,170000,135000,175000,145000,199000,162000,222200,136000,221000,153000,187000,128000,210000,136000,175000,100000,179000,109000,245000,180000,142000,75000,198800,105200,125000,112000,210000,155000,115000,86000,165000,140000,139000,106000,40663,50000,280700,150450,51753,250500,159500,145000,115000,140000,120000,130001,71907,93918,51962,175000,135000,85000,65000,257000,147000,222000,175000,203000,133200,213660,130760,221000,147000,100000,80000,185900,129300,238000,156000,304000,199000,48289,150000,130000,140000,110000,90000,75000,195895,102772,240000,183600,130000,80000,250000,150000,160000,120000,289076,202353,145000,120000,155000,106000,200000,160000,157750,104650,180000,140000,200000,145000,68000,60000,48289,38631,85000,65000,125000,90000,105000,90000,179820,143860,135000,105500,155000,125000,241000,181000,252000,154000,180000,155000,191765,134236,175000,145000,237000,145000,155000,125000,80000,70000,146000,75000,64200,56100,170000,130000,208450,170550,125000,100000,135000,120000,200000,170000,171250,113750,222200,136000,260000,136000,153600,100500,205000,184000,115000,95000,182500,121500,203100,114500,72914,54685,252000,129000,92700,61800,160000,130000,258000,190000,170000,135000,167500,106500,195000,160000,146000,75000,286000,207000,100000,80000,223250,178600,353200,249300,230000,220000,297300,198200,210000,151800,200000,170000,317070,170730,128000,81500,21461,108000,60000,134000,124000,171250,113750,165000,132300,225000,175000,230000,124500,247500,172200,175000,145000,148700,125600,145000,115000,200000,150000,160000,120000,185000,120250,275300,183000,170000,125000,167500,106500,250000,200000,135000,423834,216000,184000,180000,165000,185900,129300,145000,120000,143865,115092,130000,90000,173000,132000,208049,128500,179820,143860,167500,106500,275300,183500,149600,102000,145000,100000,190000,95000,153600,106800,96578,80481,128000,85000,151000,140000,275300,183500,220000,170000,135000,105500,100000,80000,7000,42923,160000,145000,154000,143000,78990,51039,190000,120000,85066,51039,109371,72914,150000,111000,265000,235000,121093,160000,130000,75000,60400,85000,75000,252000,129000,92700,61800,60093,83500,52500,201036,134024,165000,140000,62000,58000,172000,115000,125000,90000,163800,126000,237000,145000,90000,90000,139500,109400,258000,190000,145000,120000,205600,105700,252000,129000,239748,159832,186300,102500,165000,132300,190000,126000,149040,113900,153600,106800,172600,107900,180180,106020,376080,213120,153600,100500,206500,121600,260000,225000,194500,115500,170000,90000,95000,70000,275000,160000,115934,81666,175000,120000,150000,120000,200000,175000,206000,130000,138000,92000,65000,48000,110000,75000,130000,87000,160000,112000,162500,130000,299500,245100,145000,100000,147100,90700,115100,73900,168400,105200,210000,160000,145000,100000,222200,136000,100000,85000,85066,57723,200000,145000,140000,95000,185000,120250,130000,205000,140000,297300,198200,141288,94192,184000,143000,70000,55000,275300,183500,75000,65000,160000,147000,149040,113900,75020,180180,106020,17022,70000,80000,18238,250000,150000,139500,109400,105000,70000,210914,116704,150000,100000,146000,75000,75000,60000,185700,165000,160000,130000,169000,110600,193000,136850,139500,109400,276000,178500,59020,48289,75116,48289,195652,101228,136956,101228,252000,129000,163800,126000,260000,110000,170000,130000,247500,172200,239748,159832,163800,126000,128750,106250,252000,129000,299500,245100,155000,140000,167500,106500,188500,117000,250000,138000,130000,100000,123405,140000,120000,160000,135000,104500,70000,90000,70000,153600,106800,125000,90000,185000,125000,127000,94000,210550,153300,200000,150000,161500,119500,175000,145000,175000,148750,105000,85000,215000,146300,214618,72000,60000,153400,122700,260000,175000,186300,123900,340000,150000,153400,122700,250000,175000,64385,185900,121700,153600,106800,50000,100000,247500,172200,310000,239000,125000,110000,150000,100000,149076,82365,146000,75000,139500,109400,139500,109400,149600,102000,97218,48609,252000,129000,95000,85500,185900,121700,150000,100000,145000,125000,150000,97750,201000,122000,252000,129000,120000,75000,116990,82920,185900,129300,200000,125000,201000,122000,204500,142200,155000,140000,205920,171600,121500,78000,154000,116000,190000,136000,78990,43809,180000,110000,275300,183000,170000,140000,154000,116000,160000,130000,200000,120000,175000,160000,127599,103294,153600,106800,85000,75000,225000,156400,150000,120000,163800,126000,145000,90000,204500,142200,95000,85500,167500,106500,163800,126000,155000,140000,250000,200000,260000,186000,160000,130000,200000,150000,48289,38631,150000,120000,30000,185000,125000,75116,175000,130000,122000,93800,150000,90000,165000,112000,220000,71897,64385,204500,142200,15806,200000,175000,185900,129300,185900,121700,204500,142200,40000,29453,180180,106020,136000,104000,125000,110000,153400,122700,310000,239000,152380,121904,185900,129300,247500,172200,168400,105200,128280,106900,140000,100000,107309,85847,275000,174000,139500,109400,139500,109400,170500,85000,72946,54365,160288,127467,80000,65000,124740,65488,72200,64980,153600,106800,179975,86466,120000,90000,51039,42533,149076,82365,169000,110600,175000,120000,230000,180000,153600,106800,140000,120000,205920,171600,165000,125000,265000,185000,130000,38631,95000,85500,147100,90700,167580,87980,202000,135000,163800,126000,163800,126000,104000,65000,230000,148000,269000,158000,197000,106000,150000,100000,290000,210000,192000,172800,300240,200160,300240,200160,175000,140000,169000,100000,370000,245000,115447,110000,80000,55000,48000,95000,85000,137500,81500,323300,184700,186000,153088,190000,160000,200000,150000,190000,183310,240000,180000,200000,150000,299500,245100,144000,66000,148500,126277,228000,120000,180000,90000,126500,78000,180000,160000,272000,170000,80000,60000,259000,146000,200000,160000,310000,239000,142000,95000,155000,139500,140000,120000,259000,146000,109371,72914,17779,19522,247500,172200,225000,156400,139500,109400,125000,90000,107309,75116,185900,129300,139500,109400,120000,75000,169000,110600,288000,140000,288000,140000,120000,90000,72914,60761,215050,156400,198000,114000,75000,60000,204500,142200,209300,182200,140000,120000,48609,120000,60000,147100,90700,230000,170000,227000,108000,180000,160000,180000,160000,180000,130000,55800,51508,60000,50000,226700,133300,252000,129000,151902,9727,80000,52500,250000,162500,85000,75000,153600,106800,165000,124000,115934,81666,167580,87980,250000,63000,253750,169200,253750,169200,170000,120000,124740,65488,213580,163625,12000,101943,16414,220000,170000,235000,210000,180000,115000,200000,115000,231250,138750,284310,153090,160000,75000,125000,105000,109371,85066,55000,48000,100000,225900,156400,250000,162500,318300,188800,385000,60000,110000,95000,145000,135000,180180,106020,93919,51962,241871,133832,170000,90000,210914,116704,192500,140000,149076,82365,36000,175000,148750,370000,200000,235000,185000,121523,97218,216100,140800,145828,121523,53654,110000,128000,81500,66837,63192,60761,54685,284000,236000,248100,145900,155850,102544,151410,115360,66531,59020,125686,100000,12767,250000,162500,185000,120250,26827,85000,70000,135000,100000,155000,140000,204500,142200,226700,133300,225000,156400,163800,126000,163800,126000,220000,150000,145000,115000,204500,138900,162500,130000,150000,107000,175000,110000,226700,133300,252000,129000,150000,125000,252000,129000,225000,156400,110000,265000,182750,130000,100000,153600,106800,137500,81500,314100,195800,205000,180000,165000,144000,160000,100000,200000,145000,150000,100000,199000,112000,105000,70000,130000,180180,106020,160000,135000,183000,134000,220000,150000,350000,262500,122000,94000,276000,184000,310000,239000,225000,156400,180000,150000,228000,152000,209450,158677,175000,145000,240000,170000,103200,61200,63312,237000,145000,240000,139000,174500,113000,130000,87000,160000,108000,165000,107250,300000,119000,285800,154600,60795,30000,220000,195000,168400,105200,206000,160000,200000,175000,231250,138750,153000,94000,240500,123700,160000,90000,124234,74540,109000,79000,50000,275300,183500,275300,183500,160000,125600,170000,120000,225000,140000,141290,74178,150000,120000,85000,75000,220000,160000,205600,107500,120000,95000,185900,129300,160000,130000,12888,250000,175000,136000,104000,80000,52500,110000,84000,125000,110000,90000,80000,200000,135000,120000,130000,75000,252000,129000,150000,100000,226700,133300,190000,165000,170000,150000,150000,130000,225000,156400,200000,80000,12877,17509,257000,134000,77262,38631,205600,105700,140000,110000,299500,245100,210000,151800,53654,51508,40777,51508,40777,160000,135000,120000,95000,250000,63000,237000,145000,130000,90000,120000,100000,174500,113000,183310,183310,145000,102500,210000,185000,174500,113000,122000,94000,220000,146000,300000,130000,24740,145000,128000,182000,140000,122000,94000,77262,38631,300000,200000,135000,105500,252000,129000,136000,104000,168000,130000,78990,43809,120000,95000,153400,122700,185000,160000,205000,185000,204500,142200,145000,87000,50000,234100,203500,223800,172100,180000,150000,232200,167200,197000,106000,180000,145000,225000,200000,170000,114000,291500,180000,196200,150900,168400,105200,95000,80000,116000,72000,207000,167000,145000,135000,105000,70000,180000,115000,133800,96100,120000,80000,140000,100000,150000,120000,140000,115000,297300,198200,297300,198200,202000,135000,110000,84000,219000,230000,196000,140000,110000,150000,100000,160000,110000,185900,129300,126100,72000,170000,150000,175000,140000,240500,137500,187500,165000,72914,210000,165750,225000,165750,109006,67141,135000,115000,275000,175000,170000,140000,175308,100706,235000,135000,310000,229000,289076,202353,69751,37558,120000,100000,226700,133300,125000,85000,130000,80000,120000,100000,231250,138750,199000,162000,160000,135000,200000,150000,160000,120000,250000,200000,150000,120000,150000,100000,272550,198200,182000,140000,200000,160000,204500,142200,120000,105000,187500,175000,204500,142200,155000,64000,235000,185000,174500,113000,143100,113000,184000,142000,140000,120000,174500,113000,180560,115440,140000,120000,248100,145900,120000,110000,291500,180000,75344,63192,161800,141600,58331,46178,166000,128000,170000,110000,160000,75000,236000,182000,150000,100000,261500,134500,130000,90000,160000,135000],\"y0\":\" \",\"yaxis\":\"y\",\"type\":\"box\"}],                        {\"template\":{\"data\":{\"histogram2dcontour\":[{\"type\":\"histogram2dcontour\",\"colorbar\":{\"outlinewidth\":0,\"ticks\":\"\"},\"colorscale\":[[0.0,\"#0d0887\"],[0.1111111111111111,\"#46039f\"],[0.2222222222222222,\"#7201a8\"],[0.3333333333333333,\"#9c179e\"],[0.4444444444444444,\"#bd3786\"],[0.5555555555555556,\"#d8576b\"],[0.6666666666666666,\"#ed7953\"],[0.7777777777777778,\"#fb9f3a\"],[0.8888888888888888,\"#fdca26\"],[1.0,\"#f0f921\"]]}],\"choropleth\":[{\"type\":\"choropleth\",\"colorbar\":{\"outlinewidth\":0,\"ticks\":\"\"}}],\"histogram2d\":[{\"type\":\"histogram2d\",\"colorbar\":{\"outlinewidth\":0,\"ticks\":\"\"},\"colorscale\":[[0.0,\"#0d0887\"],[0.1111111111111111,\"#46039f\"],[0.2222222222222222,\"#7201a8\"],[0.3333333333333333,\"#9c179e\"],[0.4444444444444444,\"#bd3786\"],[0.5555555555555556,\"#d8576b\"],[0.6666666666666666,\"#ed7953\"],[0.7777777777777778,\"#fb9f3a\"],[0.8888888888888888,\"#fdca26\"],[1.0,\"#f0f921\"]]}],\"heatmap\":[{\"type\":\"heatmap\",\"colorbar\":{\"outlinewidth\":0,\"ticks\":\"\"},\"colorscale\":[[0.0,\"#0d0887\"],[0.1111111111111111,\"#46039f\"],[0.2222222222222222,\"#7201a8\"],[0.3333333333333333,\"#9c179e\"],[0.4444444444444444,\"#bd3786\"],[0.5555555555555556,\"#d8576b\"],[0.6666666666666666,\"#ed7953\"],[0.7777777777777778,\"#fb9f3a\"],[0.8888888888888888,\"#fdca26\"],[1.0,\"#f0f921\"]]}],\"heatmapgl\":[{\"type\":\"heatmapgl\",\"colorbar\":{\"outlinewidth\":0,\"ticks\":\"\"},\"colorscale\":[[0.0,\"#0d0887\"],[0.1111111111111111,\"#46039f\"],[0.2222222222222222,\"#7201a8\"],[0.3333333333333333,\"#9c179e\"],[0.4444444444444444,\"#bd3786\"],[0.5555555555555556,\"#d8576b\"],[0.6666666666666666,\"#ed7953\"],[0.7777777777777778,\"#fb9f3a\"],[0.8888888888888888,\"#fdca26\"],[1.0,\"#f0f921\"]]}],\"contourcarpet\":[{\"type\":\"contourcarpet\",\"colorbar\":{\"outlinewidth\":0,\"ticks\":\"\"}}],\"contour\":[{\"type\":\"contour\",\"colorbar\":{\"outlinewidth\":0,\"ticks\":\"\"},\"colorscale\":[[0.0,\"#0d0887\"],[0.1111111111111111,\"#46039f\"],[0.2222222222222222,\"#7201a8\"],[0.3333333333333333,\"#9c179e\"],[0.4444444444444444,\"#bd3786\"],[0.5555555555555556,\"#d8576b\"],[0.6666666666666666,\"#ed7953\"],[0.7777777777777778,\"#fb9f3a\"],[0.8888888888888888,\"#fdca26\"],[1.0,\"#f0f921\"]]}],\"surface\":[{\"type\":\"surface\",\"colorbar\":{\"outlinewidth\":0,\"ticks\":\"\"},\"colorscale\":[[0.0,\"#0d0887\"],[0.1111111111111111,\"#46039f\"],[0.2222222222222222,\"#7201a8\"],[0.3333333333333333,\"#9c179e\"],[0.4444444444444444,\"#bd3786\"],[0.5555555555555556,\"#d8576b\"],[0.6666666666666666,\"#ed7953\"],[0.7777777777777778,\"#fb9f3a\"],[0.8888888888888888,\"#fdca26\"],[1.0,\"#f0f921\"]]}],\"mesh3d\":[{\"type\":\"mesh3d\",\"colorbar\":{\"outlinewidth\":0,\"ticks\":\"\"}}],\"scatter\":[{\"fillpattern\":{\"fillmode\":\"overlay\",\"size\":10,\"solidity\":0.2},\"type\":\"scatter\"}],\"parcoords\":[{\"type\":\"parcoords\",\"line\":{\"colorbar\":{\"outlinewidth\":0,\"ticks\":\"\"}}}],\"scatterpolargl\":[{\"type\":\"scatterpolargl\",\"marker\":{\"colorbar\":{\"outlinewidth\":0,\"ticks\":\"\"}}}],\"bar\":[{\"error_x\":{\"color\":\"#2a3f5f\"},\"error_y\":{\"color\":\"#2a3f5f\"},\"marker\":{\"line\":{\"color\":\"#E5ECF6\",\"width\":0.5},\"pattern\":{\"fillmode\":\"overlay\",\"size\":10,\"solidity\":0.2}},\"type\":\"bar\"}],\"scattergeo\":[{\"type\":\"scattergeo\",\"marker\":{\"colorbar\":{\"outlinewidth\":0,\"ticks\":\"\"}}}],\"scatterpolar\":[{\"type\":\"scatterpolar\",\"marker\":{\"colorbar\":{\"outlinewidth\":0,\"ticks\":\"\"}}}],\"histogram\":[{\"marker\":{\"pattern\":{\"fillmode\":\"overlay\",\"size\":10,\"solidity\":0.2}},\"type\":\"histogram\"}],\"scattergl\":[{\"type\":\"scattergl\",\"marker\":{\"colorbar\":{\"outlinewidth\":0,\"ticks\":\"\"}}}],\"scatter3d\":[{\"type\":\"scatter3d\",\"line\":{\"colorbar\":{\"outlinewidth\":0,\"ticks\":\"\"}},\"marker\":{\"colorbar\":{\"outlinewidth\":0,\"ticks\":\"\"}}}],\"scattermapbox\":[{\"type\":\"scattermapbox\",\"marker\":{\"colorbar\":{\"outlinewidth\":0,\"ticks\":\"\"}}}],\"scatterternary\":[{\"type\":\"scatterternary\",\"marker\":{\"colorbar\":{\"outlinewidth\":0,\"ticks\":\"\"}}}],\"scattercarpet\":[{\"type\":\"scattercarpet\",\"marker\":{\"colorbar\":{\"outlinewidth\":0,\"ticks\":\"\"}}}],\"carpet\":[{\"aaxis\":{\"endlinecolor\":\"#2a3f5f\",\"gridcolor\":\"white\",\"linecolor\":\"white\",\"minorgridcolor\":\"white\",\"startlinecolor\":\"#2a3f5f\"},\"baxis\":{\"endlinecolor\":\"#2a3f5f\",\"gridcolor\":\"white\",\"linecolor\":\"white\",\"minorgridcolor\":\"white\",\"startlinecolor\":\"#2a3f5f\"},\"type\":\"carpet\"}],\"table\":[{\"cells\":{\"fill\":{\"color\":\"#EBF0F8\"},\"line\":{\"color\":\"white\"}},\"header\":{\"fill\":{\"color\":\"#C8D4E3\"},\"line\":{\"color\":\"white\"}},\"type\":\"table\"}],\"barpolar\":[{\"marker\":{\"line\":{\"color\":\"#E5ECF6\",\"width\":0.5},\"pattern\":{\"fillmode\":\"overlay\",\"size\":10,\"solidity\":0.2}},\"type\":\"barpolar\"}],\"pie\":[{\"automargin\":true,\"type\":\"pie\"}]},\"layout\":{\"autotypenumbers\":\"strict\",\"colorway\":[\"#636efa\",\"#EF553B\",\"#00cc96\",\"#ab63fa\",\"#FFA15A\",\"#19d3f3\",\"#FF6692\",\"#B6E880\",\"#FF97FF\",\"#FECB52\"],\"font\":{\"color\":\"#2a3f5f\"},\"hovermode\":\"closest\",\"hoverlabel\":{\"align\":\"left\"},\"paper_bgcolor\":\"white\",\"plot_bgcolor\":\"#E5ECF6\",\"polar\":{\"bgcolor\":\"#E5ECF6\",\"angularaxis\":{\"gridcolor\":\"white\",\"linecolor\":\"white\",\"ticks\":\"\"},\"radialaxis\":{\"gridcolor\":\"white\",\"linecolor\":\"white\",\"ticks\":\"\"}},\"ternary\":{\"bgcolor\":\"#E5ECF6\",\"aaxis\":{\"gridcolor\":\"white\",\"linecolor\":\"white\",\"ticks\":\"\"},\"baxis\":{\"gridcolor\":\"white\",\"linecolor\":\"white\",\"ticks\":\"\"},\"caxis\":{\"gridcolor\":\"white\",\"linecolor\":\"white\",\"ticks\":\"\"}},\"coloraxis\":{\"colorbar\":{\"outlinewidth\":0,\"ticks\":\"\"}},\"colorscale\":{\"sequential\":[[0.0,\"#0d0887\"],[0.1111111111111111,\"#46039f\"],[0.2222222222222222,\"#7201a8\"],[0.3333333333333333,\"#9c179e\"],[0.4444444444444444,\"#bd3786\"],[0.5555555555555556,\"#d8576b\"],[0.6666666666666666,\"#ed7953\"],[0.7777777777777778,\"#fb9f3a\"],[0.8888888888888888,\"#fdca26\"],[1.0,\"#f0f921\"]],\"sequentialminus\":[[0.0,\"#0d0887\"],[0.1111111111111111,\"#46039f\"],[0.2222222222222222,\"#7201a8\"],[0.3333333333333333,\"#9c179e\"],[0.4444444444444444,\"#bd3786\"],[0.5555555555555556,\"#d8576b\"],[0.6666666666666666,\"#ed7953\"],[0.7777777777777778,\"#fb9f3a\"],[0.8888888888888888,\"#fdca26\"],[1.0,\"#f0f921\"]],\"diverging\":[[0,\"#8e0152\"],[0.1,\"#c51b7d\"],[0.2,\"#de77ae\"],[0.3,\"#f1b6da\"],[0.4,\"#fde0ef\"],[0.5,\"#f7f7f7\"],[0.6,\"#e6f5d0\"],[0.7,\"#b8e186\"],[0.8,\"#7fbc41\"],[0.9,\"#4d9221\"],[1,\"#276419\"]]},\"xaxis\":{\"gridcolor\":\"white\",\"linecolor\":\"white\",\"ticks\":\"\",\"title\":{\"standoff\":15},\"zerolinecolor\":\"white\",\"automargin\":true,\"zerolinewidth\":2},\"yaxis\":{\"gridcolor\":\"white\",\"linecolor\":\"white\",\"ticks\":\"\",\"title\":{\"standoff\":15},\"zerolinecolor\":\"white\",\"automargin\":true,\"zerolinewidth\":2},\"scene\":{\"xaxis\":{\"backgroundcolor\":\"#E5ECF6\",\"gridcolor\":\"white\",\"linecolor\":\"white\",\"showbackground\":true,\"ticks\":\"\",\"zerolinecolor\":\"white\",\"gridwidth\":2},\"yaxis\":{\"backgroundcolor\":\"#E5ECF6\",\"gridcolor\":\"white\",\"linecolor\":\"white\",\"showbackground\":true,\"ticks\":\"\",\"zerolinecolor\":\"white\",\"gridwidth\":2},\"zaxis\":{\"backgroundcolor\":\"#E5ECF6\",\"gridcolor\":\"white\",\"linecolor\":\"white\",\"showbackground\":true,\"ticks\":\"\",\"zerolinecolor\":\"white\",\"gridwidth\":2}},\"shapedefaults\":{\"line\":{\"color\":\"#2a3f5f\"}},\"annotationdefaults\":{\"arrowcolor\":\"#2a3f5f\",\"arrowhead\":0,\"arrowwidth\":1},\"geo\":{\"bgcolor\":\"white\",\"landcolor\":\"#E5ECF6\",\"subunitcolor\":\"white\",\"showland\":true,\"showlakes\":true,\"lakecolor\":\"white\"},\"title\":{\"x\":0.05},\"mapbox\":{\"style\":\"light\"}}},\"xaxis\":{\"anchor\":\"y\",\"domain\":[0.0,1.0],\"title\":{\"text\":\"company_size\"},\"categoryorder\":\"array\",\"categoryarray\":[\"S\",\"M\",\"L\"]},\"yaxis\":{\"anchor\":\"x\",\"domain\":[0.0,1.0],\"title\":{\"text\":\"salary_in_usd\"}},\"legend\":{\"title\":{\"text\":\"work_year\"},\"tracegroupgap\":0},\"title\":{\"text\":\"Company Size vs Salary\"},\"boxmode\":\"group\"},                        {\"responsive\": true}                    ).then(function(){\n",
              "                            \n",
              "var gd = document.getElementById('9f4cc5ed-d3a8-4c17-98c2-350cce44b3f5');\n",
              "var x = new MutationObserver(function (mutations, observer) {{\n",
              "        var display = window.getComputedStyle(gd).display;\n",
              "        if (!display || display === 'none') {{\n",
              "            console.log([gd, 'removed!']);\n",
              "            Plotly.purge(gd);\n",
              "            observer.disconnect();\n",
              "        }}\n",
              "}});\n",
              "\n",
              "// Listen for the removal of the full notebook cells\n",
              "var notebookContainer = gd.closest('#notebook-container');\n",
              "if (notebookContainer) {{\n",
              "    x.observe(notebookContainer, {childList: true});\n",
              "}}\n",
              "\n",
              "// Listen for the clearing of the current output cell\n",
              "var outputEl = gd.closest('.output');\n",
              "if (outputEl) {{\n",
              "    x.observe(outputEl, {childList: true});\n",
              "}}\n",
              "\n",
              "                        })                };                            </script>        </div>\n",
              "</body>\n",
              "</html>"
            ]
          },
          "metadata": {}
        }
      ]
    },
    {
      "cell_type": "markdown",
      "source": [
        "Medium-sized companies consistently offer the highest median salaries over the years, with noticeable wide distribution in the year 2022 and 2023. On the other hand, large-sized companies exhibit a trend of increasing median salaries over time. In contrast, small-sized companies demonstrate fluctuation in their salary levels."
      ],
      "metadata": {
        "id": "UVHpwVZzCa-D"
      }
    },
    {
      "cell_type": "markdown",
      "source": [
        "# 5) Which companies are preferred by employees if we consider their sizes?\n",
        "\n",
        "If we take into account the sizes of companies, we can determine which companies are preferred by employees. By analyzing the dataset, we can examine the company sizes and identify the companies that are most sought after by employees. This analysis will provide insights into the preferences of employees based on company size and help identify the companies that are considered desirable by job seekers."
      ],
      "metadata": {
        "id": "qXMsipzlCoHn"
      }
    },
    {
      "cell_type": "code",
      "source": [
        "company_size_counts = df['company_size'].value_counts(normalize=True) * 100\n",
        "\n",
        "fig = go.Figure(data=[go.Pie(labels=company_size_counts.index,\n",
        "                             values=company_size_counts,\n",
        "                             hole=0.6,\n",
        "                             title='Percentage Distribution of Company Sizes')])\n",
        "\n",
        "fig.show()\n"
      ],
      "metadata": {
        "colab": {
          "base_uri": "https://localhost:8080/",
          "height": 542
        },
        "id": "IB07oFHCFEbd",
        "outputId": "977e40ed-1477-4a16-b97a-89c63c6895a0"
      },
      "execution_count": null,
      "outputs": [
        {
          "output_type": "display_data",
          "data": {
            "text/html": [
              "<html>\n",
              "<head><meta charset=\"utf-8\" /></head>\n",
              "<body>\n",
              "    <div>            <script src=\"https://cdnjs.cloudflare.com/ajax/libs/mathjax/2.7.5/MathJax.js?config=TeX-AMS-MML_SVG\"></script><script type=\"text/javascript\">if (window.MathJax && window.MathJax.Hub && window.MathJax.Hub.Config) {window.MathJax.Hub.Config({SVG: {font: \"STIX-Web\"}});}</script>                <script type=\"text/javascript\">window.PlotlyConfig = {MathJaxConfig: 'local'};</script>\n",
              "        <script src=\"https://cdn.plot.ly/plotly-2.18.2.min.js\"></script>                <div id=\"7553022c-2f65-4b8e-bc76-537187542f34\" class=\"plotly-graph-div\" style=\"height:525px; width:100%;\"></div>            <script type=\"text/javascript\">                                    window.PLOTLYENV=window.PLOTLYENV || {};                                    if (document.getElementById(\"7553022c-2f65-4b8e-bc76-537187542f34\")) {                    Plotly.newPlot(                        \"7553022c-2f65-4b8e-bc76-537187542f34\",                        [{\"hole\":0.6,\"labels\":[\"M\",\"L\",\"S\"],\"title\":{\"text\":\"Percentage Distribution of Company Sizes\"},\"values\":[83.96804260985353,12.090545938748336,3.9414114513981358],\"type\":\"pie\"}],                        {\"template\":{\"data\":{\"histogram2dcontour\":[{\"type\":\"histogram2dcontour\",\"colorbar\":{\"outlinewidth\":0,\"ticks\":\"\"},\"colorscale\":[[0.0,\"#0d0887\"],[0.1111111111111111,\"#46039f\"],[0.2222222222222222,\"#7201a8\"],[0.3333333333333333,\"#9c179e\"],[0.4444444444444444,\"#bd3786\"],[0.5555555555555556,\"#d8576b\"],[0.6666666666666666,\"#ed7953\"],[0.7777777777777778,\"#fb9f3a\"],[0.8888888888888888,\"#fdca26\"],[1.0,\"#f0f921\"]]}],\"choropleth\":[{\"type\":\"choropleth\",\"colorbar\":{\"outlinewidth\":0,\"ticks\":\"\"}}],\"histogram2d\":[{\"type\":\"histogram2d\",\"colorbar\":{\"outlinewidth\":0,\"ticks\":\"\"},\"colorscale\":[[0.0,\"#0d0887\"],[0.1111111111111111,\"#46039f\"],[0.2222222222222222,\"#7201a8\"],[0.3333333333333333,\"#9c179e\"],[0.4444444444444444,\"#bd3786\"],[0.5555555555555556,\"#d8576b\"],[0.6666666666666666,\"#ed7953\"],[0.7777777777777778,\"#fb9f3a\"],[0.8888888888888888,\"#fdca26\"],[1.0,\"#f0f921\"]]}],\"heatmap\":[{\"type\":\"heatmap\",\"colorbar\":{\"outlinewidth\":0,\"ticks\":\"\"},\"colorscale\":[[0.0,\"#0d0887\"],[0.1111111111111111,\"#46039f\"],[0.2222222222222222,\"#7201a8\"],[0.3333333333333333,\"#9c179e\"],[0.4444444444444444,\"#bd3786\"],[0.5555555555555556,\"#d8576b\"],[0.6666666666666666,\"#ed7953\"],[0.7777777777777778,\"#fb9f3a\"],[0.8888888888888888,\"#fdca26\"],[1.0,\"#f0f921\"]]}],\"heatmapgl\":[{\"type\":\"heatmapgl\",\"colorbar\":{\"outlinewidth\":0,\"ticks\":\"\"},\"colorscale\":[[0.0,\"#0d0887\"],[0.1111111111111111,\"#46039f\"],[0.2222222222222222,\"#7201a8\"],[0.3333333333333333,\"#9c179e\"],[0.4444444444444444,\"#bd3786\"],[0.5555555555555556,\"#d8576b\"],[0.6666666666666666,\"#ed7953\"],[0.7777777777777778,\"#fb9f3a\"],[0.8888888888888888,\"#fdca26\"],[1.0,\"#f0f921\"]]}],\"contourcarpet\":[{\"type\":\"contourcarpet\",\"colorbar\":{\"outlinewidth\":0,\"ticks\":\"\"}}],\"contour\":[{\"type\":\"contour\",\"colorbar\":{\"outlinewidth\":0,\"ticks\":\"\"},\"colorscale\":[[0.0,\"#0d0887\"],[0.1111111111111111,\"#46039f\"],[0.2222222222222222,\"#7201a8\"],[0.3333333333333333,\"#9c179e\"],[0.4444444444444444,\"#bd3786\"],[0.5555555555555556,\"#d8576b\"],[0.6666666666666666,\"#ed7953\"],[0.7777777777777778,\"#fb9f3a\"],[0.8888888888888888,\"#fdca26\"],[1.0,\"#f0f921\"]]}],\"surface\":[{\"type\":\"surface\",\"colorbar\":{\"outlinewidth\":0,\"ticks\":\"\"},\"colorscale\":[[0.0,\"#0d0887\"],[0.1111111111111111,\"#46039f\"],[0.2222222222222222,\"#7201a8\"],[0.3333333333333333,\"#9c179e\"],[0.4444444444444444,\"#bd3786\"],[0.5555555555555556,\"#d8576b\"],[0.6666666666666666,\"#ed7953\"],[0.7777777777777778,\"#fb9f3a\"],[0.8888888888888888,\"#fdca26\"],[1.0,\"#f0f921\"]]}],\"mesh3d\":[{\"type\":\"mesh3d\",\"colorbar\":{\"outlinewidth\":0,\"ticks\":\"\"}}],\"scatter\":[{\"fillpattern\":{\"fillmode\":\"overlay\",\"size\":10,\"solidity\":0.2},\"type\":\"scatter\"}],\"parcoords\":[{\"type\":\"parcoords\",\"line\":{\"colorbar\":{\"outlinewidth\":0,\"ticks\":\"\"}}}],\"scatterpolargl\":[{\"type\":\"scatterpolargl\",\"marker\":{\"colorbar\":{\"outlinewidth\":0,\"ticks\":\"\"}}}],\"bar\":[{\"error_x\":{\"color\":\"#2a3f5f\"},\"error_y\":{\"color\":\"#2a3f5f\"},\"marker\":{\"line\":{\"color\":\"#E5ECF6\",\"width\":0.5},\"pattern\":{\"fillmode\":\"overlay\",\"size\":10,\"solidity\":0.2}},\"type\":\"bar\"}],\"scattergeo\":[{\"type\":\"scattergeo\",\"marker\":{\"colorbar\":{\"outlinewidth\":0,\"ticks\":\"\"}}}],\"scatterpolar\":[{\"type\":\"scatterpolar\",\"marker\":{\"colorbar\":{\"outlinewidth\":0,\"ticks\":\"\"}}}],\"histogram\":[{\"marker\":{\"pattern\":{\"fillmode\":\"overlay\",\"size\":10,\"solidity\":0.2}},\"type\":\"histogram\"}],\"scattergl\":[{\"type\":\"scattergl\",\"marker\":{\"colorbar\":{\"outlinewidth\":0,\"ticks\":\"\"}}}],\"scatter3d\":[{\"type\":\"scatter3d\",\"line\":{\"colorbar\":{\"outlinewidth\":0,\"ticks\":\"\"}},\"marker\":{\"colorbar\":{\"outlinewidth\":0,\"ticks\":\"\"}}}],\"scattermapbox\":[{\"type\":\"scattermapbox\",\"marker\":{\"colorbar\":{\"outlinewidth\":0,\"ticks\":\"\"}}}],\"scatterternary\":[{\"type\":\"scatterternary\",\"marker\":{\"colorbar\":{\"outlinewidth\":0,\"ticks\":\"\"}}}],\"scattercarpet\":[{\"type\":\"scattercarpet\",\"marker\":{\"colorbar\":{\"outlinewidth\":0,\"ticks\":\"\"}}}],\"carpet\":[{\"aaxis\":{\"endlinecolor\":\"#2a3f5f\",\"gridcolor\":\"white\",\"linecolor\":\"white\",\"minorgridcolor\":\"white\",\"startlinecolor\":\"#2a3f5f\"},\"baxis\":{\"endlinecolor\":\"#2a3f5f\",\"gridcolor\":\"white\",\"linecolor\":\"white\",\"minorgridcolor\":\"white\",\"startlinecolor\":\"#2a3f5f\"},\"type\":\"carpet\"}],\"table\":[{\"cells\":{\"fill\":{\"color\":\"#EBF0F8\"},\"line\":{\"color\":\"white\"}},\"header\":{\"fill\":{\"color\":\"#C8D4E3\"},\"line\":{\"color\":\"white\"}},\"type\":\"table\"}],\"barpolar\":[{\"marker\":{\"line\":{\"color\":\"#E5ECF6\",\"width\":0.5},\"pattern\":{\"fillmode\":\"overlay\",\"size\":10,\"solidity\":0.2}},\"type\":\"barpolar\"}],\"pie\":[{\"automargin\":true,\"type\":\"pie\"}]},\"layout\":{\"autotypenumbers\":\"strict\",\"colorway\":[\"#636efa\",\"#EF553B\",\"#00cc96\",\"#ab63fa\",\"#FFA15A\",\"#19d3f3\",\"#FF6692\",\"#B6E880\",\"#FF97FF\",\"#FECB52\"],\"font\":{\"color\":\"#2a3f5f\"},\"hovermode\":\"closest\",\"hoverlabel\":{\"align\":\"left\"},\"paper_bgcolor\":\"white\",\"plot_bgcolor\":\"#E5ECF6\",\"polar\":{\"bgcolor\":\"#E5ECF6\",\"angularaxis\":{\"gridcolor\":\"white\",\"linecolor\":\"white\",\"ticks\":\"\"},\"radialaxis\":{\"gridcolor\":\"white\",\"linecolor\":\"white\",\"ticks\":\"\"}},\"ternary\":{\"bgcolor\":\"#E5ECF6\",\"aaxis\":{\"gridcolor\":\"white\",\"linecolor\":\"white\",\"ticks\":\"\"},\"baxis\":{\"gridcolor\":\"white\",\"linecolor\":\"white\",\"ticks\":\"\"},\"caxis\":{\"gridcolor\":\"white\",\"linecolor\":\"white\",\"ticks\":\"\"}},\"coloraxis\":{\"colorbar\":{\"outlinewidth\":0,\"ticks\":\"\"}},\"colorscale\":{\"sequential\":[[0.0,\"#0d0887\"],[0.1111111111111111,\"#46039f\"],[0.2222222222222222,\"#7201a8\"],[0.3333333333333333,\"#9c179e\"],[0.4444444444444444,\"#bd3786\"],[0.5555555555555556,\"#d8576b\"],[0.6666666666666666,\"#ed7953\"],[0.7777777777777778,\"#fb9f3a\"],[0.8888888888888888,\"#fdca26\"],[1.0,\"#f0f921\"]],\"sequentialminus\":[[0.0,\"#0d0887\"],[0.1111111111111111,\"#46039f\"],[0.2222222222222222,\"#7201a8\"],[0.3333333333333333,\"#9c179e\"],[0.4444444444444444,\"#bd3786\"],[0.5555555555555556,\"#d8576b\"],[0.6666666666666666,\"#ed7953\"],[0.7777777777777778,\"#fb9f3a\"],[0.8888888888888888,\"#fdca26\"],[1.0,\"#f0f921\"]],\"diverging\":[[0,\"#8e0152\"],[0.1,\"#c51b7d\"],[0.2,\"#de77ae\"],[0.3,\"#f1b6da\"],[0.4,\"#fde0ef\"],[0.5,\"#f7f7f7\"],[0.6,\"#e6f5d0\"],[0.7,\"#b8e186\"],[0.8,\"#7fbc41\"],[0.9,\"#4d9221\"],[1,\"#276419\"]]},\"xaxis\":{\"gridcolor\":\"white\",\"linecolor\":\"white\",\"ticks\":\"\",\"title\":{\"standoff\":15},\"zerolinecolor\":\"white\",\"automargin\":true,\"zerolinewidth\":2},\"yaxis\":{\"gridcolor\":\"white\",\"linecolor\":\"white\",\"ticks\":\"\",\"title\":{\"standoff\":15},\"zerolinecolor\":\"white\",\"automargin\":true,\"zerolinewidth\":2},\"scene\":{\"xaxis\":{\"backgroundcolor\":\"#E5ECF6\",\"gridcolor\":\"white\",\"linecolor\":\"white\",\"showbackground\":true,\"ticks\":\"\",\"zerolinecolor\":\"white\",\"gridwidth\":2},\"yaxis\":{\"backgroundcolor\":\"#E5ECF6\",\"gridcolor\":\"white\",\"linecolor\":\"white\",\"showbackground\":true,\"ticks\":\"\",\"zerolinecolor\":\"white\",\"gridwidth\":2},\"zaxis\":{\"backgroundcolor\":\"#E5ECF6\",\"gridcolor\":\"white\",\"linecolor\":\"white\",\"showbackground\":true,\"ticks\":\"\",\"zerolinecolor\":\"white\",\"gridwidth\":2}},\"shapedefaults\":{\"line\":{\"color\":\"#2a3f5f\"}},\"annotationdefaults\":{\"arrowcolor\":\"#2a3f5f\",\"arrowhead\":0,\"arrowwidth\":1},\"geo\":{\"bgcolor\":\"white\",\"landcolor\":\"#E5ECF6\",\"subunitcolor\":\"white\",\"showland\":true,\"showlakes\":true,\"lakecolor\":\"white\"},\"title\":{\"x\":0.05},\"mapbox\":{\"style\":\"light\"}}}},                        {\"responsive\": true}                    ).then(function(){\n",
              "                            \n",
              "var gd = document.getElementById('7553022c-2f65-4b8e-bc76-537187542f34');\n",
              "var x = new MutationObserver(function (mutations, observer) {{\n",
              "        var display = window.getComputedStyle(gd).display;\n",
              "        if (!display || display === 'none') {{\n",
              "            console.log([gd, 'removed!']);\n",
              "            Plotly.purge(gd);\n",
              "            observer.disconnect();\n",
              "        }}\n",
              "}});\n",
              "\n",
              "// Listen for the removal of the full notebook cells\n",
              "var notebookContainer = gd.closest('#notebook-container');\n",
              "if (notebookContainer) {{\n",
              "    x.observe(notebookContainer, {childList: true});\n",
              "}}\n",
              "\n",
              "// Listen for the clearing of the current output cell\n",
              "var outputEl = gd.closest('.output');\n",
              "if (outputEl) {{\n",
              "    x.observe(outputEl, {childList: true});\n",
              "}}\n",
              "\n",
              "                        })                };                            </script>        </div>\n",
              "</body>\n",
              "</html>"
            ]
          },
          "metadata": {}
        }
      ]
    },
    {
      "cell_type": "markdown",
      "source": [
        "The higher median salary could be a reason behind 84% of employees' preference to work in medium-sized companies."
      ],
      "metadata": {
        "id": "MtTGkGRDGX0q"
      }
    },
    {
      "cell_type": "markdown",
      "source": [
        "# 6. What is the percentage of remote workers who are classified as foreign?"
      ],
      "metadata": {
        "id": "9BS3KY9J0Y-g"
      }
    },
    {
      "cell_type": "markdown",
      "source": [
        "To provide the data or variables necessary to determine the number of employees working remotely, on-site, and in a hybrid capacity for each year?"
      ],
      "metadata": {
        "id": "THTleLX-Gb2S"
      }
    },
    {
      "cell_type": "code",
      "source": [
        "table = df.pivot_table(index='work_year',values='salary',columns='job_type',aggfunc='count')\n",
        "table"
      ],
      "metadata": {
        "colab": {
          "base_uri": "https://localhost:8080/",
          "height": 206
        },
        "id": "RnebDm0ezrX9",
        "outputId": "ebefdf96-01e3-4833-d443-f69bf5c32ad8"
      },
      "execution_count": null,
      "outputs": [
        {
          "output_type": "execute_result",
          "data": {
            "text/plain": [
              "job_type   Hybrid  On-Site  Remote\n",
              "work_year                         \n",
              "2020           21       16      39\n",
              "2021           76       34     120\n",
              "2022           62      711     891\n",
              "2023           30     1162     593"
            ],
            "text/html": [
              "\n",
              "  <div id=\"df-09abc6b6-7c2c-4d74-bc66-967f7e326e9e\">\n",
              "    <div class=\"colab-df-container\">\n",
              "      <div>\n",
              "<style scoped>\n",
              "    .dataframe tbody tr th:only-of-type {\n",
              "        vertical-align: middle;\n",
              "    }\n",
              "\n",
              "    .dataframe tbody tr th {\n",
              "        vertical-align: top;\n",
              "    }\n",
              "\n",
              "    .dataframe thead th {\n",
              "        text-align: right;\n",
              "    }\n",
              "</style>\n",
              "<table border=\"1\" class=\"dataframe\">\n",
              "  <thead>\n",
              "    <tr style=\"text-align: right;\">\n",
              "      <th>job_type</th>\n",
              "      <th>Hybrid</th>\n",
              "      <th>On-Site</th>\n",
              "      <th>Remote</th>\n",
              "    </tr>\n",
              "    <tr>\n",
              "      <th>work_year</th>\n",
              "      <th></th>\n",
              "      <th></th>\n",
              "      <th></th>\n",
              "    </tr>\n",
              "  </thead>\n",
              "  <tbody>\n",
              "    <tr>\n",
              "      <th>2020</th>\n",
              "      <td>21</td>\n",
              "      <td>16</td>\n",
              "      <td>39</td>\n",
              "    </tr>\n",
              "    <tr>\n",
              "      <th>2021</th>\n",
              "      <td>76</td>\n",
              "      <td>34</td>\n",
              "      <td>120</td>\n",
              "    </tr>\n",
              "    <tr>\n",
              "      <th>2022</th>\n",
              "      <td>62</td>\n",
              "      <td>711</td>\n",
              "      <td>891</td>\n",
              "    </tr>\n",
              "    <tr>\n",
              "      <th>2023</th>\n",
              "      <td>30</td>\n",
              "      <td>1162</td>\n",
              "      <td>593</td>\n",
              "    </tr>\n",
              "  </tbody>\n",
              "</table>\n",
              "</div>\n",
              "      <button class=\"colab-df-convert\" onclick=\"convertToInteractive('df-09abc6b6-7c2c-4d74-bc66-967f7e326e9e')\"\n",
              "              title=\"Convert this dataframe to an interactive table.\"\n",
              "              style=\"display:none;\">\n",
              "        \n",
              "  <svg xmlns=\"http://www.w3.org/2000/svg\" height=\"24px\"viewBox=\"0 0 24 24\"\n",
              "       width=\"24px\">\n",
              "    <path d=\"M0 0h24v24H0V0z\" fill=\"none\"/>\n",
              "    <path d=\"M18.56 5.44l.94 2.06.94-2.06 2.06-.94-2.06-.94-.94-2.06-.94 2.06-2.06.94zm-11 1L8.5 8.5l.94-2.06 2.06-.94-2.06-.94L8.5 2.5l-.94 2.06-2.06.94zm10 10l.94 2.06.94-2.06 2.06-.94-2.06-.94-.94-2.06-.94 2.06-2.06.94z\"/><path d=\"M17.41 7.96l-1.37-1.37c-.4-.4-.92-.59-1.43-.59-.52 0-1.04.2-1.43.59L10.3 9.45l-7.72 7.72c-.78.78-.78 2.05 0 2.83L4 21.41c.39.39.9.59 1.41.59.51 0 1.02-.2 1.41-.59l7.78-7.78 2.81-2.81c.8-.78.8-2.07 0-2.86zM5.41 20L4 18.59l7.72-7.72 1.47 1.35L5.41 20z\"/>\n",
              "  </svg>\n",
              "      </button>\n",
              "      \n",
              "  <style>\n",
              "    .colab-df-container {\n",
              "      display:flex;\n",
              "      flex-wrap:wrap;\n",
              "      gap: 12px;\n",
              "    }\n",
              "\n",
              "    .colab-df-convert {\n",
              "      background-color: #E8F0FE;\n",
              "      border: none;\n",
              "      border-radius: 50%;\n",
              "      cursor: pointer;\n",
              "      display: none;\n",
              "      fill: #1967D2;\n",
              "      height: 32px;\n",
              "      padding: 0 0 0 0;\n",
              "      width: 32px;\n",
              "    }\n",
              "\n",
              "    .colab-df-convert:hover {\n",
              "      background-color: #E2EBFA;\n",
              "      box-shadow: 0px 1px 2px rgba(60, 64, 67, 0.3), 0px 1px 3px 1px rgba(60, 64, 67, 0.15);\n",
              "      fill: #174EA6;\n",
              "    }\n",
              "\n",
              "    [theme=dark] .colab-df-convert {\n",
              "      background-color: #3B4455;\n",
              "      fill: #D2E3FC;\n",
              "    }\n",
              "\n",
              "    [theme=dark] .colab-df-convert:hover {\n",
              "      background-color: #434B5C;\n",
              "      box-shadow: 0px 1px 3px 1px rgba(0, 0, 0, 0.15);\n",
              "      filter: drop-shadow(0px 1px 2px rgba(0, 0, 0, 0.3));\n",
              "      fill: #FFFFFF;\n",
              "    }\n",
              "  </style>\n",
              "\n",
              "      <script>\n",
              "        const buttonEl =\n",
              "          document.querySelector('#df-09abc6b6-7c2c-4d74-bc66-967f7e326e9e button.colab-df-convert');\n",
              "        buttonEl.style.display =\n",
              "          google.colab.kernel.accessAllowed ? 'block' : 'none';\n",
              "\n",
              "        async function convertToInteractive(key) {\n",
              "          const element = document.querySelector('#df-09abc6b6-7c2c-4d74-bc66-967f7e326e9e');\n",
              "          const dataTable =\n",
              "            await google.colab.kernel.invokeFunction('convertToInteractive',\n",
              "                                                     [key], {});\n",
              "          if (!dataTable) return;\n",
              "\n",
              "          const docLinkHtml = 'Like what you see? Visit the ' +\n",
              "            '<a target=\"_blank\" href=https://colab.research.google.com/notebooks/data_table.ipynb>data table notebook</a>'\n",
              "            + ' to learn more about interactive tables.';\n",
              "          element.innerHTML = '';\n",
              "          dataTable['output_type'] = 'display_data';\n",
              "          await google.colab.output.renderOutput(dataTable, element);\n",
              "          const docLink = document.createElement('div');\n",
              "          docLink.innerHTML = docLinkHtml;\n",
              "          element.appendChild(docLink);\n",
              "        }\n",
              "      </script>\n",
              "    </div>\n",
              "  </div>\n",
              "  "
            ]
          },
          "metadata": {},
          "execution_count": 213
        }
      ]
    },
    {
      "cell_type": "code",
      "source": [
        "table=df.pivot_table(values='salary_in_usd', index='work_year', columns='job_type')\n",
        "table"
      ],
      "metadata": {
        "id": "qaJWQinhJ5ho",
        "colab": {
          "base_uri": "https://localhost:8080/",
          "height": 206
        },
        "outputId": "f2581544-6279-4183-d00c-d801b1bd1212"
      },
      "execution_count": null,
      "outputs": [
        {
          "output_type": "execute_result",
          "data": {
            "text/plain": [
              "job_type         Hybrid        On-Site         Remote\n",
              "work_year                                            \n",
              "2020       77591.238095   93426.187500   99763.205128\n",
              "2021       76104.407895   92899.676471  105812.783333\n",
              "2022       84560.870968  134719.236287  135631.104377\n",
              "2023       72053.500000  152393.521515  146380.124789"
            ],
            "text/html": [
              "\n",
              "  <div id=\"df-e4759724-5f82-4d67-afbd-219ffb354c4b\">\n",
              "    <div class=\"colab-df-container\">\n",
              "      <div>\n",
              "<style scoped>\n",
              "    .dataframe tbody tr th:only-of-type {\n",
              "        vertical-align: middle;\n",
              "    }\n",
              "\n",
              "    .dataframe tbody tr th {\n",
              "        vertical-align: top;\n",
              "    }\n",
              "\n",
              "    .dataframe thead th {\n",
              "        text-align: right;\n",
              "    }\n",
              "</style>\n",
              "<table border=\"1\" class=\"dataframe\">\n",
              "  <thead>\n",
              "    <tr style=\"text-align: right;\">\n",
              "      <th>job_type</th>\n",
              "      <th>Hybrid</th>\n",
              "      <th>On-Site</th>\n",
              "      <th>Remote</th>\n",
              "    </tr>\n",
              "    <tr>\n",
              "      <th>work_year</th>\n",
              "      <th></th>\n",
              "      <th></th>\n",
              "      <th></th>\n",
              "    </tr>\n",
              "  </thead>\n",
              "  <tbody>\n",
              "    <tr>\n",
              "      <th>2020</th>\n",
              "      <td>77591.238095</td>\n",
              "      <td>93426.187500</td>\n",
              "      <td>99763.205128</td>\n",
              "    </tr>\n",
              "    <tr>\n",
              "      <th>2021</th>\n",
              "      <td>76104.407895</td>\n",
              "      <td>92899.676471</td>\n",
              "      <td>105812.783333</td>\n",
              "    </tr>\n",
              "    <tr>\n",
              "      <th>2022</th>\n",
              "      <td>84560.870968</td>\n",
              "      <td>134719.236287</td>\n",
              "      <td>135631.104377</td>\n",
              "    </tr>\n",
              "    <tr>\n",
              "      <th>2023</th>\n",
              "      <td>72053.500000</td>\n",
              "      <td>152393.521515</td>\n",
              "      <td>146380.124789</td>\n",
              "    </tr>\n",
              "  </tbody>\n",
              "</table>\n",
              "</div>\n",
              "      <button class=\"colab-df-convert\" onclick=\"convertToInteractive('df-e4759724-5f82-4d67-afbd-219ffb354c4b')\"\n",
              "              title=\"Convert this dataframe to an interactive table.\"\n",
              "              style=\"display:none;\">\n",
              "        \n",
              "  <svg xmlns=\"http://www.w3.org/2000/svg\" height=\"24px\"viewBox=\"0 0 24 24\"\n",
              "       width=\"24px\">\n",
              "    <path d=\"M0 0h24v24H0V0z\" fill=\"none\"/>\n",
              "    <path d=\"M18.56 5.44l.94 2.06.94-2.06 2.06-.94-2.06-.94-.94-2.06-.94 2.06-2.06.94zm-11 1L8.5 8.5l.94-2.06 2.06-.94-2.06-.94L8.5 2.5l-.94 2.06-2.06.94zm10 10l.94 2.06.94-2.06 2.06-.94-2.06-.94-.94-2.06-.94 2.06-2.06.94z\"/><path d=\"M17.41 7.96l-1.37-1.37c-.4-.4-.92-.59-1.43-.59-.52 0-1.04.2-1.43.59L10.3 9.45l-7.72 7.72c-.78.78-.78 2.05 0 2.83L4 21.41c.39.39.9.59 1.41.59.51 0 1.02-.2 1.41-.59l7.78-7.78 2.81-2.81c.8-.78.8-2.07 0-2.86zM5.41 20L4 18.59l7.72-7.72 1.47 1.35L5.41 20z\"/>\n",
              "  </svg>\n",
              "      </button>\n",
              "      \n",
              "  <style>\n",
              "    .colab-df-container {\n",
              "      display:flex;\n",
              "      flex-wrap:wrap;\n",
              "      gap: 12px;\n",
              "    }\n",
              "\n",
              "    .colab-df-convert {\n",
              "      background-color: #E8F0FE;\n",
              "      border: none;\n",
              "      border-radius: 50%;\n",
              "      cursor: pointer;\n",
              "      display: none;\n",
              "      fill: #1967D2;\n",
              "      height: 32px;\n",
              "      padding: 0 0 0 0;\n",
              "      width: 32px;\n",
              "    }\n",
              "\n",
              "    .colab-df-convert:hover {\n",
              "      background-color: #E2EBFA;\n",
              "      box-shadow: 0px 1px 2px rgba(60, 64, 67, 0.3), 0px 1px 3px 1px rgba(60, 64, 67, 0.15);\n",
              "      fill: #174EA6;\n",
              "    }\n",
              "\n",
              "    [theme=dark] .colab-df-convert {\n",
              "      background-color: #3B4455;\n",
              "      fill: #D2E3FC;\n",
              "    }\n",
              "\n",
              "    [theme=dark] .colab-df-convert:hover {\n",
              "      background-color: #434B5C;\n",
              "      box-shadow: 0px 1px 3px 1px rgba(0, 0, 0, 0.15);\n",
              "      filter: drop-shadow(0px 1px 2px rgba(0, 0, 0, 0.3));\n",
              "      fill: #FFFFFF;\n",
              "    }\n",
              "  </style>\n",
              "\n",
              "      <script>\n",
              "        const buttonEl =\n",
              "          document.querySelector('#df-e4759724-5f82-4d67-afbd-219ffb354c4b button.colab-df-convert');\n",
              "        buttonEl.style.display =\n",
              "          google.colab.kernel.accessAllowed ? 'block' : 'none';\n",
              "\n",
              "        async function convertToInteractive(key) {\n",
              "          const element = document.querySelector('#df-e4759724-5f82-4d67-afbd-219ffb354c4b');\n",
              "          const dataTable =\n",
              "            await google.colab.kernel.invokeFunction('convertToInteractive',\n",
              "                                                     [key], {});\n",
              "          if (!dataTable) return;\n",
              "\n",
              "          const docLinkHtml = 'Like what you see? Visit the ' +\n",
              "            '<a target=\"_blank\" href=https://colab.research.google.com/notebooks/data_table.ipynb>data table notebook</a>'\n",
              "            + ' to learn more about interactive tables.';\n",
              "          element.innerHTML = '';\n",
              "          dataTable['output_type'] = 'display_data';\n",
              "          await google.colab.output.renderOutput(dataTable, element);\n",
              "          const docLink = document.createElement('div');\n",
              "          docLink.innerHTML = docLinkHtml;\n",
              "          element.appendChild(docLink);\n",
              "        }\n",
              "      </script>\n",
              "    </div>\n",
              "  </div>\n",
              "  "
            ]
          },
          "metadata": {},
          "execution_count": 214
        }
      ]
    },
    {
      "cell_type": "code",
      "source": [
        "px.histogram(x=df['work_year'],color=df['job_type'],barmode='group',labels={'x':'Work Year'},title='Count of Job Types wih Year')"
      ],
      "metadata": {
        "colab": {
          "base_uri": "https://localhost:8080/",
          "height": 542
        },
        "id": "HQcQon7B-mLO",
        "outputId": "7195ad3b-a976-4088-bc85-47c0cf437f10"
      },
      "execution_count": null,
      "outputs": [
        {
          "output_type": "display_data",
          "data": {
            "text/html": [
              "<html>\n",
              "<head><meta charset=\"utf-8\" /></head>\n",
              "<body>\n",
              "    <div>            <script src=\"https://cdnjs.cloudflare.com/ajax/libs/mathjax/2.7.5/MathJax.js?config=TeX-AMS-MML_SVG\"></script><script type=\"text/javascript\">if (window.MathJax && window.MathJax.Hub && window.MathJax.Hub.Config) {window.MathJax.Hub.Config({SVG: {font: \"STIX-Web\"}});}</script>                <script type=\"text/javascript\">window.PlotlyConfig = {MathJaxConfig: 'local'};</script>\n",
              "        <script src=\"https://cdn.plot.ly/plotly-2.18.2.min.js\"></script>                <div id=\"e0a0dc6b-b9bf-4155-9083-f7c89bf1bfc0\" class=\"plotly-graph-div\" style=\"height:525px; width:100%;\"></div>            <script type=\"text/javascript\">                                    window.PLOTLYENV=window.PLOTLYENV || {};                                    if (document.getElementById(\"e0a0dc6b-b9bf-4155-9083-f7c89bf1bfc0\")) {                    Plotly.newPlot(                        \"e0a0dc6b-b9bf-4155-9083-f7c89bf1bfc0\",                        [{\"alignmentgroup\":\"True\",\"bingroup\":\"x\",\"hovertemplate\":\"color=Remote<br>Work Year=%{x}<br>count=%{y}<extra></extra>\",\"legendgroup\":\"Remote\",\"marker\":{\"color\":\"#636efa\",\"pattern\":{\"shape\":\"\"}},\"name\":\"Remote\",\"offsetgroup\":\"Remote\",\"orientation\":\"v\",\"showlegend\":true,\"x\":[2023,2023,2023,2023,2023,2023,2023,2023,2023,2023,2023,2023,2023,2023,2023,2023,2023,2023,2023,2023,2023,2023,2023,2023,2023,2023,2023,2023,2023,2023,2023,2023,2023,2023,2023,2023,2023,2023,2023,2023,2023,2023,2022,2023,2023,2023,2023,2023,2023,2023,2023,2023,2023,2023,2023,2023,2023,2023,2023,2023,2023,2023,2023,2023,2023,2023,2023,2023,2023,2023,2023,2023,2023,2023,2023,2023,2023,2023,2023,2023,2023,2022,2023,2023,2023,2023,2023,2023,2023,2023,2023,2023,2023,2023,2023,2023,2023,2023,2023,2023,2023,2023,2023,2023,2023,2023,2023,2023,2023,2023,2023,2023,2023,2023,2023,2023,2023,2023,2023,2023,2023,2023,2023,2023,2023,2023,2023,2023,2023,2023,2023,2023,2023,2023,2023,2023,2023,2023,2023,2023,2023,2023,2023,2023,2023,2023,2023,2023,2023,2023,2023,2023,2023,2023,2023,2023,2023,2022,2023,2023,2023,2023,2023,2023,2023,2023,2023,2023,2023,2023,2023,2023,2023,2023,2023,2023,2023,2023,2023,2023,2023,2023,2023,2023,2023,2023,2023,2023,2023,2023,2023,2023,2022,2023,2023,2023,2023,2023,2023,2023,2023,2022,2023,2023,2023,2023,2023,2023,2023,2023,2023,2023,2023,2023,2023,2023,2023,2023,2023,2023,2023,2023,2023,2023,2023,2023,2023,2023,2023,2023,2023,2023,2023,2023,2023,2023,2023,2023,2023,2023,2023,2023,2023,2023,2023,2023,2023,2023,2023,2023,2023,2023,2023,2023,2023,2023,2023,2023,2023,2023,2023,2023,2023,2023,2023,2023,2022,2021,2023,2023,2023,2023,2023,2023,2023,2023,2023,2023,2023,2023,2023,2023,2023,2023,2023,2023,2023,2023,2023,2023,2023,2023,2023,2023,2023,2023,2023,2023,2023,2023,2023,2023,2023,2023,2023,2023,2023,2023,2023,2023,2023,2023,2023,2023,2023,2023,2023,2023,2023,2023,2022,2022,2023,2023,2023,2023,2023,2023,2023,2023,2023,2023,2023,2023,2023,2023,2023,2022,2023,2023,2023,2023,2023,2023,2023,2023,2022,2023,2023,2023,2023,2023,2023,2023,2023,2023,2023,2023,2023,2023,2023,2023,2023,2023,2023,2023,2023,2023,2023,2023,2023,2023,2023,2023,2023,2023,2023,2023,2023,2023,2023,2023,2023,2023,2023,2023,2023,2023,2023,2023,2023,2023,2023,2023,2023,2023,2023,2023,2023,2023,2023,2023,2023,2023,2023,2023,2023,2023,2023,2023,2023,2023,2023,2023,2023,2023,2023,2023,2023,2023,2023,2023,2023,2022,2023,2023,2023,2023,2023,2023,2023,2023,2023,2023,2023,2023,2023,2023,2023,2023,2023,2023,2023,2023,2023,2023,2023,2023,2023,2023,2023,2023,2023,2023,2023,2023,2023,2023,2023,2023,2023,2023,2023,2022,2023,2023,2023,2023,2023,2023,2022,2023,2023,2023,2023,2023,2023,2023,2023,2023,2023,2023,2023,2023,2023,2022,2023,2023,2023,2023,2023,2023,2023,2023,2023,2023,2023,2023,2023,2023,2023,2023,2023,2023,2023,2023,2023,2023,2023,2023,2023,2023,2023,2023,2023,2023,2023,2023,2023,2023,2023,2023,2023,2023,2023,2023,2023,2023,2023,2023,2023,2023,2023,2023,2023,2023,2023,2023,2023,2023,2023,2022,2022,2023,2023,2023,2023,2023,2023,2023,2023,2023,2023,2023,2023,2023,2023,2023,2023,2023,2023,2023,2023,2023,2023,2023,2023,2023,2023,2023,2023,2023,2023,2023,2023,2023,2023,2023,2023,2023,2022,2023,2023,2023,2023,2023,2023,2023,2023,2023,2023,2021,2023,2023,2022,2023,2023,2023,2023,2023,2023,2023,2023,2023,2023,2023,2023,2023,2023,2023,2023,2023,2023,2022,2022,2022,2022,2022,2022,2022,2022,2022,2022,2022,2022,2022,2022,2022,2022,2022,2022,2022,2022,2022,2022,2022,2022,2022,2022,2022,2022,2022,2022,2022,2022,2022,2022,2022,2022,2022,2022,2022,2022,2022,2022,2022,2022,2022,2022,2022,2022,2022,2022,2022,2022,2022,2022,2022,2022,2022,2022,2022,2022,2022,2022,2022,2022,2022,2022,2022,2022,2022,2022,2022,2022,2022,2022,2022,2022,2022,2022,2022,2022,2022,2022,2022,2022,2022,2022,2022,2022,2022,2022,2022,2022,2022,2022,2022,2022,2022,2022,2022,2022,2022,2022,2022,2022,2022,2022,2022,2022,2022,2022,2022,2022,2022,2022,2022,2022,2022,2022,2022,2022,2022,2022,2022,2022,2022,2022,2022,2022,2022,2022,2022,2022,2022,2022,2022,2022,2022,2022,2022,2021,2022,2022,2022,2022,2022,2022,2022,2022,2022,2022,2022,2022,2022,2022,2022,2022,2022,2022,2022,2022,2022,2022,2022,2022,2022,2022,2022,2022,2022,2022,2022,2022,2022,2022,2022,2022,2022,2022,2022,2022,2022,2022,2022,2022,2022,2022,2022,2022,2022,2022,2022,2022,2022,2022,2022,2022,2022,2022,2022,2022,2022,2022,2022,2022,2022,2022,2022,2022,2022,2022,2022,2022,2022,2022,2022,2022,2022,2022,2022,2022,2022,2022,2022,2022,2022,2022,2022,2022,2022,2022,2022,2022,2022,2022,2022,2022,2022,2022,2022,2022,2022,2022,2022,2022,2022,2022,2022,2022,2022,2022,2022,2022,2022,2022,2022,2022,2022,2022,2022,2022,2022,2022,2022,2022,2022,2022,2022,2022,2022,2022,2022,2022,2022,2022,2022,2022,2022,2022,2022,2022,2022,2022,2022,2022,2022,2022,2022,2022,2022,2022,2022,2022,2022,2022,2022,2022,2022,2022,2022,2022,2022,2022,2022,2022,2022,2022,2022,2022,2022,2022,2022,2022,2022,2022,2022,2022,2022,2022,2022,2022,2022,2022,2022,2022,2022,2022,2022,2022,2022,2022,2022,2022,2022,2022,2022,2022,2022,2022,2022,2022,2022,2022,2022,2022,2022,2022,2022,2022,2022,2022,2022,2022,2022,2022,2022,2022,2022,2022,2022,2022,2022,2022,2022,2022,2022,2022,2022,2022,2022,2022,2022,2022,2022,2022,2022,2022,2022,2022,2022,2022,2022,2022,2022,2022,2022,2022,2022,2022,2022,2022,2022,2022,2022,2022,2022,2022,2022,2022,2022,2022,2022,2022,2022,2022,2022,2022,2022,2022,2022,2022,2022,2022,2022,2022,2022,2022,2022,2022,2022,2022,2022,2022,2022,2022,2022,2022,2022,2022,2022,2022,2022,2022,2022,2022,2022,2022,2022,2022,2022,2022,2022,2022,2022,2022,2022,2022,2022,2022,2022,2022,2022,2022,2022,2022,2022,2022,2022,2022,2022,2022,2022,2022,2022,2022,2022,2022,2022,2022,2022,2021,2022,2022,2022,2022,2022,2022,2022,2022,2022,2022,2022,2022,2022,2022,2022,2022,2022,2022,2022,2022,2022,2022,2022,2022,2022,2022,2022,2022,2022,2022,2022,2022,2022,2022,2022,2022,2022,2022,2022,2022,2022,2022,2022,2022,2022,2022,2022,2022,2022,2022,2022,2022,2022,2022,2022,2022,2022,2022,2022,2022,2022,2022,2022,2022,2022,2022,2022,2022,2022,2022,2022,2022,2022,2022,2021,2022,2022,2022,2022,2022,2022,2022,2022,2022,2022,2022,2022,2022,2022,2022,2022,2022,2022,2022,2022,2022,2022,2022,2022,2022,2022,2022,2022,2022,2022,2022,2022,2022,2022,2022,2022,2022,2022,2022,2022,2022,2022,2022,2022,2022,2022,2022,2022,2022,2022,2022,2022,2022,2022,2021,2022,2022,2022,2022,2022,2022,2022,2022,2022,2022,2022,2022,2022,2022,2022,2022,2022,2022,2022,2022,2022,2022,2022,2022,2022,2022,2022,2022,2022,2020,2020,2022,2022,2022,2022,2022,2022,2022,2022,2022,2022,2022,2022,2022,2020,2022,2022,2022,2022,2022,2022,2022,2022,2022,2022,2022,2022,2022,2022,2022,2022,2022,2022,2022,2022,2022,2022,2022,2022,2022,2022,2022,2022,2022,2022,2022,2022,2022,2022,2022,2022,2022,2022,2022,2022,2022,2022,2022,2022,2022,2022,2022,2022,2022,2022,2022,2022,2022,2022,2022,2022,2022,2022,2022,2022,2022,2022,2022,2022,2022,2022,2022,2022,2022,2022,2022,2022,2022,2022,2022,2022,2022,2022,2022,2022,2022,2022,2022,2022,2022,2022,2022,2022,2022,2022,2022,2022,2022,2022,2022,2022,2022,2022,2022,2022,2022,2022,2022,2022,2022,2022,2022,2022,2022,2022,2022,2022,2022,2022,2022,2022,2022,2022,2022,2022,2022,2022,2022,2022,2022,2022,2022,2022,2022,2022,2022,2022,2022,2022,2022,2022,2022,2022,2022,2022,2022,2022,2022,2022,2022,2022,2022,2022,2022,2022,2022,2022,2022,2022,2022,2022,2022,2022,2022,2022,2022,2022,2022,2022,2022,2022,2022,2022,2022,2022,2022,2022,2022,2022,2022,2022,2022,2022,2022,2022,2022,2022,2022,2022,2022,2022,2022,2022,2022,2022,2022,2022,2022,2022,2022,2022,2022,2022,2022,2022,2022,2022,2022,2022,2022,2022,2021,2022,2022,2022,2022,2022,2022,2022,2022,2022,2020,2022,2022,2022,2022,2022,2022,2022,2022,2022,2022,2022,2021,2021,2022,2022,2022,2022,2022,2021,2022,2022,2021,2021,2021,2022,2021,2022,2021,2021,2021,2021,2020,2021,2021,2021,2021,2020,2020,2021,2021,2021,2021,2021,2021,2020,2021,2021,2021,2021,2021,2021,2021,2021,2021,2021,2021,2021,2020,2020,2021,2021,2021,2021,2020,2021,2021,2021,2021,2021,2021,2021,2021,2021,2021,2021,2021,2020,2021,2020,2021,2021,2020,2020,2021,2020,2021,2021,2021,2021,2021,2021,2020,2021,2021,2021,2021,2021,2021,2021,2021,2021,2021,2021,2021,2021,2021,2021,2021,2020,2021,2021,2021,2020,2021,2021,2021,2021,2021,2020,2021,2021,2020,2021,2021,2021,2021,2021,2020,2021,2021,2021,2020,2020,2021,2020,2020,2020,2021,2021,2021,2021,2021,2020,2021,2021,2021,2020,2021,2021,2020,2020,2021,2021,2021,2021,2021,2021,2020,2020,2020,2020,2020,2021,2021,2020,2021,2020,2020],\"xaxis\":\"x\",\"yaxis\":\"y\",\"type\":\"histogram\"},{\"alignmentgroup\":\"True\",\"bingroup\":\"x\",\"hovertemplate\":\"color=On-Site<br>Work Year=%{x}<br>count=%{y}<extra></extra>\",\"legendgroup\":\"On-Site\",\"marker\":{\"color\":\"#EF553B\",\"pattern\":{\"shape\":\"\"}},\"name\":\"On-Site\",\"offsetgroup\":\"On-Site\",\"orientation\":\"v\",\"showlegend\":true,\"x\":[2023,2023,2023,2023,2023,2023,2023,2023,2023,2023,2023,2023,2023,2023,2023,2023,2023,2023,2023,2023,2023,2023,2023,2023,2023,2023,2023,2023,2023,2023,2023,2023,2023,2023,2023,2023,2023,2023,2023,2023,2023,2023,2023,2023,2023,2023,2023,2023,2023,2023,2023,2023,2023,2023,2023,2023,2023,2023,2023,2023,2023,2023,2023,2023,2023,2023,2023,2023,2023,2023,2023,2023,2023,2023,2023,2023,2023,2023,2023,2023,2023,2023,2023,2023,2023,2023,2023,2023,2023,2023,2023,2023,2023,2023,2023,2023,2023,2023,2023,2023,2023,2023,2023,2023,2023,2023,2023,2023,2023,2023,2023,2023,2023,2023,2023,2020,2023,2023,2023,2023,2023,2023,2023,2023,2023,2023,2023,2023,2023,2023,2023,2023,2023,2023,2023,2023,2023,2023,2023,2023,2023,2023,2023,2023,2023,2023,2023,2023,2023,2023,2023,2023,2023,2023,2023,2023,2023,2023,2023,2023,2023,2023,2023,2023,2023,2023,2023,2023,2023,2023,2023,2023,2023,2023,2023,2023,2023,2023,2023,2023,2023,2023,2023,2023,2023,2023,2023,2023,2023,2023,2023,2023,2023,2023,2023,2023,2023,2023,2023,2023,2023,2023,2023,2023,2023,2023,2023,2023,2022,2023,2023,2023,2023,2023,2023,2023,2023,2023,2023,2023,2023,2023,2023,2023,2023,2023,2023,2023,2023,2023,2023,2023,2023,2023,2023,2023,2023,2023,2023,2023,2023,2023,2023,2023,2023,2023,2023,2023,2023,2023,2023,2023,2023,2023,2023,2023,2023,2023,2023,2023,2023,2023,2023,2023,2023,2023,2023,2023,2023,2023,2023,2023,2023,2023,2023,2023,2023,2023,2023,2023,2023,2023,2023,2023,2023,2023,2023,2023,2023,2023,2023,2023,2023,2023,2023,2023,2023,2023,2023,2023,2023,2023,2023,2023,2023,2023,2023,2023,2023,2023,2023,2023,2023,2023,2023,2023,2023,2023,2023,2023,2023,2023,2023,2023,2023,2023,2023,2023,2023,2023,2023,2023,2023,2023,2023,2023,2023,2023,2023,2023,2023,2023,2023,2023,2023,2023,2023,2023,2023,2023,2023,2023,2023,2023,2023,2023,2023,2023,2023,2023,2023,2023,2023,2023,2023,2023,2023,2023,2023,2023,2023,2023,2023,2023,2023,2023,2023,2023,2023,2023,2023,2023,2023,2023,2023,2023,2023,2023,2023,2023,2023,2023,2023,2023,2023,2023,2023,2023,2023,2023,2023,2023,2023,2023,2023,2023,2023,2023,2023,2023,2023,2023,2023,2023,2023,2023,2023,2023,2023,2023,2023,2023,2023,2023,2023,2023,2023,2023,2023,2023,2023,2023,2023,2023,2023,2023,2023,2023,2023,2023,2023,2023,2023,2023,2023,2023,2023,2023,2023,2023,2023,2023,2023,2023,2023,2023,2023,2023,2023,2023,2023,2023,2023,2023,2023,2023,2023,2023,2023,2023,2023,2023,2023,2023,2023,2023,2023,2023,2023,2023,2023,2023,2023,2023,2023,2023,2023,2023,2023,2023,2023,2023,2023,2023,2023,2023,2023,2023,2023,2023,2023,2023,2023,2023,2023,2023,2023,2023,2023,2023,2023,2023,2023,2023,2023,2023,2023,2023,2023,2023,2023,2023,2023,2023,2023,2023,2023,2023,2023,2023,2023,2023,2023,2023,2023,2023,2023,2023,2023,2023,2023,2023,2023,2023,2023,2023,2023,2023,2023,2023,2023,2023,2023,2023,2023,2023,2023,2023,2023,2023,2023,2023,2023,2023,2023,2023,2023,2023,2023,2023,2023,2023,2023,2023,2023,2023,2023,2023,2023,2023,2023,2023,2023,2023,2023,2023,2023,2023,2023,2023,2023,2023,2023,2023,2023,2023,2023,2023,2023,2023,2023,2023,2023,2023,2023,2023,2023,2023,2023,2023,2023,2023,2023,2023,2023,2023,2023,2023,2023,2023,2023,2023,2023,2023,2023,2023,2023,2023,2023,2023,2023,2023,2023,2023,2023,2023,2023,2022,2023,2023,2023,2023,2023,2023,2023,2023,2023,2023,2023,2023,2023,2023,2023,2023,2023,2023,2023,2023,2023,2023,2023,2023,2023,2023,2023,2023,2023,2023,2023,2023,2023,2023,2023,2023,2023,2023,2023,2023,2023,2023,2023,2023,2023,2023,2023,2023,2023,2023,2023,2023,2023,2023,2023,2023,2023,2023,2023,2023,2023,2023,2023,2023,2023,2023,2023,2023,2023,2023,2023,2023,2023,2023,2023,2023,2023,2023,2023,2023,2023,2023,2023,2023,2023,2023,2023,2023,2023,2023,2023,2023,2023,2023,2023,2023,2023,2023,2023,2023,2023,2021,2023,2023,2023,2023,2023,2023,2023,2023,2023,2023,2023,2023,2023,2023,2023,2023,2023,2023,2023,2023,2023,2023,2023,2023,2023,2023,2023,2023,2023,2023,2023,2023,2023,2023,2023,2023,2023,2023,2023,2023,2023,2023,2023,2023,2023,2023,2022,2023,2023,2023,2023,2023,2023,2023,2023,2023,2023,2023,2023,2023,2023,2023,2023,2023,2023,2023,2023,2023,2023,2023,2023,2023,2023,2023,2023,2023,2023,2023,2023,2023,2023,2023,2023,2023,2023,2023,2023,2023,2023,2023,2023,2023,2023,2023,2023,2023,2023,2023,2023,2023,2023,2023,2023,2023,2023,2023,2023,2023,2023,2023,2023,2023,2023,2023,2023,2023,2023,2023,2023,2023,2023,2023,2023,2023,2023,2023,2023,2023,2023,2023,2023,2023,2023,2023,2023,2023,2023,2023,2023,2023,2023,2023,2023,2023,2023,2023,2023,2023,2023,2023,2023,2023,2023,2023,2023,2023,2023,2023,2023,2023,2023,2023,2023,2023,2023,2023,2023,2023,2023,2023,2023,2023,2023,2023,2023,2023,2023,2023,2023,2023,2023,2023,2023,2023,2023,2023,2023,2023,2023,2023,2023,2023,2023,2023,2023,2023,2023,2023,2023,2023,2023,2023,2023,2023,2023,2023,2023,2023,2023,2023,2023,2023,2023,2023,2023,2023,2023,2023,2023,2023,2023,2023,2023,2023,2023,2023,2023,2023,2023,2023,2023,2023,2023,2023,2023,2023,2023,2023,2023,2023,2023,2023,2023,2023,2023,2023,2023,2023,2023,2023,2022,2023,2023,2023,2023,2023,2023,2023,2023,2023,2023,2023,2023,2023,2023,2023,2023,2023,2023,2023,2023,2023,2023,2023,2023,2023,2023,2023,2023,2023,2023,2023,2023,2023,2023,2023,2023,2023,2023,2023,2023,2023,2023,2023,2023,2023,2023,2023,2023,2023,2023,2023,2023,2023,2023,2023,2023,2023,2023,2023,2023,2023,2023,2023,2023,2023,2023,2023,2023,2023,2023,2023,2023,2023,2023,2023,2023,2023,2023,2023,2023,2023,2023,2023,2023,2023,2023,2023,2023,2023,2023,2023,2023,2023,2023,2023,2023,2023,2023,2023,2023,2023,2023,2023,2023,2023,2023,2023,2023,2023,2023,2023,2023,2023,2023,2023,2023,2023,2023,2023,2023,2023,2023,2023,2023,2023,2023,2023,2023,2023,2023,2023,2023,2023,2023,2023,2022,2023,2023,2023,2023,2023,2023,2023,2023,2023,2023,2023,2023,2023,2023,2023,2023,2023,2023,2023,2023,2023,2023,2023,2023,2023,2023,2023,2023,2023,2023,2023,2023,2023,2023,2022,2023,2023,2023,2023,2023,2023,2023,2023,2022,2022,2022,2022,2022,2022,2022,2022,2022,2022,2022,2022,2022,2022,2022,2022,2022,2022,2022,2022,2022,2022,2022,2022,2022,2022,2022,2022,2022,2022,2022,2022,2022,2022,2022,2022,2022,2022,2022,2022,2022,2022,2022,2022,2022,2022,2022,2022,2022,2022,2022,2022,2022,2022,2022,2022,2022,2022,2022,2022,2022,2022,2022,2022,2022,2022,2022,2022,2022,2022,2022,2022,2022,2022,2022,2022,2022,2022,2022,2022,2022,2022,2022,2022,2022,2022,2022,2022,2022,2022,2022,2022,2022,2022,2022,2022,2022,2022,2022,2022,2022,2022,2022,2022,2022,2022,2022,2022,2022,2022,2022,2022,2022,2022,2022,2022,2022,2022,2022,2022,2022,2022,2022,2022,2022,2022,2022,2022,2022,2022,2022,2022,2022,2022,2022,2022,2022,2022,2022,2022,2022,2022,2022,2022,2022,2022,2022,2022,2022,2022,2022,2022,2020,2022,2022,2022,2022,2022,2022,2022,2022,2022,2022,2022,2022,2022,2022,2022,2022,2022,2022,2021,2022,2022,2022,2022,2022,2022,2022,2022,2022,2022,2022,2022,2022,2022,2022,2022,2022,2022,2022,2022,2022,2022,2022,2022,2022,2022,2022,2022,2022,2022,2022,2022,2022,2022,2022,2022,2022,2022,2022,2022,2022,2022,2022,2022,2022,2022,2022,2022,2022,2022,2022,2022,2022,2022,2022,2022,2022,2022,2022,2022,2022,2022,2022,2022,2022,2022,2022,2022,2022,2022,2022,2022,2022,2022,2022,2022,2022,2022,2022,2022,2022,2022,2022,2022,2022,2022,2022,2022,2022,2022,2022,2022,2022,2022,2022,2022,2022,2022,2022,2022,2022,2022,2022,2022,2022,2022,2022,2022,2022,2022,2022,2022,2022,2022,2022,2022,2022,2022,2022,2022,2022,2022,2022,2022,2022,2022,2022,2022,2022,2022,2022,2022,2022,2022,2022,2022,2022,2022,2022,2022,2022,2022,2022,2022,2022,2022,2022,2022,2022,2022,2022,2022,2022,2022,2022,2022,2022,2022,2022,2022,2022,2022,2022,2022,2022,2022,2022,2022,2022,2022,2022,2022,2022,2022,2022,2022,2022,2022,2022,2022,2022,2022,2022,2022,2022,2022,2022,2022,2022,2022,2022,2022,2022,2022,2022,2022,2022,2022,2022,2022,2022,2022,2022,2022,2022,2022,2022,2022,2022,2022,2022,2022,2022,2022,2022,2022,2022,2022,2022,2022,2022,2022,2022,2022,2022,2022,2022,2022,2022,2022,2022,2022,2022,2022,2022,2022,2022,2022,2022,2022,2022,2022,2022,2022,2022,2022,2022,2022,2022,2022,2022,2022,2022,2022,2022,2022,2022,2022,2022,2022,2022,2022,2022,2022,2022,2022,2022,2022,2022,2022,2022,2022,2022,2022,2022,2022,2022,2022,2022,2022,2022,2022,2022,2022,2022,2022,2022,2022,2022,2022,2022,2022,2022,2022,2022,2022,2022,2022,2022,2022,2022,2022,2022,2022,2022,2022,2022,2022,2022,2022,2022,2022,2022,2022,2022,2022,2022,2022,2022,2022,2022,2022,2022,2022,2022,2022,2022,2022,2022,2022,2022,2022,2022,2022,2022,2022,2022,2022,2022,2022,2022,2022,2022,2022,2022,2022,2022,2022,2022,2022,2022,2022,2022,2022,2022,2022,2022,2022,2022,2022,2022,2022,2022,2022,2022,2022,2022,2022,2022,2022,2022,2022,2022,2022,2022,2022,2022,2022,2022,2022,2022,2022,2022,2022,2022,2022,2022,2022,2022,2022,2022,2022,2022,2022,2022,2022,2022,2022,2022,2022,2022,2022,2022,2022,2022,2022,2022,2022,2022,2022,2022,2022,2022,2022,2022,2022,2022,2022,2022,2022,2022,2022,2022,2022,2022,2022,2022,2022,2022,2022,2022,2022,2022,2022,2022,2022,2022,2022,2022,2022,2022,2022,2022,2022,2022,2022,2022,2022,2022,2022,2022,2022,2022,2022,2022,2022,2022,2022,2022,2022,2020,2022,2022,2022,2022,2022,2022,2022,2022,2022,2022,2022,2022,2022,2022,2022,2022,2022,2022,2022,2022,2022,2022,2022,2022,2022,2022,2022,2022,2022,2022,2022,2022,2022,2022,2022,2022,2022,2022,2022,2022,2022,2022,2022,2022,2022,2022,2022,2022,2022,2022,2022,2022,2022,2022,2022,2022,2022,2022,2022,2022,2022,2022,2022,2022,2022,2022,2022,2022,2022,2022,2020,2022,2021,2021,2022,2022,2021,2021,2022,2022,2021,2021,2021,2021,2020,2020,2021,2020,2020,2021,2020,2020,2021,2020,2021,2021,2021,2021,2021,2021,2021,2020,2020,2020,2021,2021,2021,2020,2021,2021,2021,2021,2021,2021,2021,2020,2021,2021,2021,2021],\"xaxis\":\"x\",\"yaxis\":\"y\",\"type\":\"histogram\"},{\"alignmentgroup\":\"True\",\"bingroup\":\"x\",\"hovertemplate\":\"color=Hybrid<br>Work Year=%{x}<br>count=%{y}<extra></extra>\",\"legendgroup\":\"Hybrid\",\"marker\":{\"color\":\"#00cc96\",\"pattern\":{\"shape\":\"\"}},\"name\":\"Hybrid\",\"offsetgroup\":\"Hybrid\",\"orientation\":\"v\",\"showlegend\":true,\"x\":[2022,2022,2023,2023,2023,2023,2023,2023,2023,2023,2023,2023,2023,2023,2023,2023,2023,2023,2023,2023,2023,2023,2023,2021,2023,2023,2022,2023,2022,2023,2023,2023,2023,2023,2023,2022,2022,2022,2022,2022,2022,2021,2022,2022,2022,2022,2022,2022,2021,2022,2022,2022,2022,2022,2022,2022,2022,2021,2021,2022,2022,2022,2022,2021,2022,2022,2022,2021,2022,2021,2022,2022,2022,2021,2022,2022,2022,2022,2022,2022,2022,2022,2022,2021,2022,2022,2022,2022,2022,2022,2022,2022,2021,2020,2022,2022,2022,2022,2021,2022,2022,2022,2021,2021,2021,2022,2022,2022,2021,2021,2021,2021,2021,2021,2021,2021,2021,2021,2021,2021,2020,2020,2021,2021,2021,2021,2020,2021,2021,2020,2021,2021,2020,2021,2021,2021,2021,2020,2021,2021,2021,2021,2021,2020,2020,2021,2020,2021,2021,2021,2021,2021,2021,2020,2021,2021,2021,2021,2021,2020,2021,2021,2021,2021,2021,2020,2020,2021,2021,2020,2021,2021,2021,2020,2020,2020,2021,2020,2020,2021,2021,2021,2021,2021,2020,2021,2021,2021,2021],\"xaxis\":\"x\",\"yaxis\":\"y\",\"type\":\"histogram\"}],                        {\"template\":{\"data\":{\"histogram2dcontour\":[{\"type\":\"histogram2dcontour\",\"colorbar\":{\"outlinewidth\":0,\"ticks\":\"\"},\"colorscale\":[[0.0,\"#0d0887\"],[0.1111111111111111,\"#46039f\"],[0.2222222222222222,\"#7201a8\"],[0.3333333333333333,\"#9c179e\"],[0.4444444444444444,\"#bd3786\"],[0.5555555555555556,\"#d8576b\"],[0.6666666666666666,\"#ed7953\"],[0.7777777777777778,\"#fb9f3a\"],[0.8888888888888888,\"#fdca26\"],[1.0,\"#f0f921\"]]}],\"choropleth\":[{\"type\":\"choropleth\",\"colorbar\":{\"outlinewidth\":0,\"ticks\":\"\"}}],\"histogram2d\":[{\"type\":\"histogram2d\",\"colorbar\":{\"outlinewidth\":0,\"ticks\":\"\"},\"colorscale\":[[0.0,\"#0d0887\"],[0.1111111111111111,\"#46039f\"],[0.2222222222222222,\"#7201a8\"],[0.3333333333333333,\"#9c179e\"],[0.4444444444444444,\"#bd3786\"],[0.5555555555555556,\"#d8576b\"],[0.6666666666666666,\"#ed7953\"],[0.7777777777777778,\"#fb9f3a\"],[0.8888888888888888,\"#fdca26\"],[1.0,\"#f0f921\"]]}],\"heatmap\":[{\"type\":\"heatmap\",\"colorbar\":{\"outlinewidth\":0,\"ticks\":\"\"},\"colorscale\":[[0.0,\"#0d0887\"],[0.1111111111111111,\"#46039f\"],[0.2222222222222222,\"#7201a8\"],[0.3333333333333333,\"#9c179e\"],[0.4444444444444444,\"#bd3786\"],[0.5555555555555556,\"#d8576b\"],[0.6666666666666666,\"#ed7953\"],[0.7777777777777778,\"#fb9f3a\"],[0.8888888888888888,\"#fdca26\"],[1.0,\"#f0f921\"]]}],\"heatmapgl\":[{\"type\":\"heatmapgl\",\"colorbar\":{\"outlinewidth\":0,\"ticks\":\"\"},\"colorscale\":[[0.0,\"#0d0887\"],[0.1111111111111111,\"#46039f\"],[0.2222222222222222,\"#7201a8\"],[0.3333333333333333,\"#9c179e\"],[0.4444444444444444,\"#bd3786\"],[0.5555555555555556,\"#d8576b\"],[0.6666666666666666,\"#ed7953\"],[0.7777777777777778,\"#fb9f3a\"],[0.8888888888888888,\"#fdca26\"],[1.0,\"#f0f921\"]]}],\"contourcarpet\":[{\"type\":\"contourcarpet\",\"colorbar\":{\"outlinewidth\":0,\"ticks\":\"\"}}],\"contour\":[{\"type\":\"contour\",\"colorbar\":{\"outlinewidth\":0,\"ticks\":\"\"},\"colorscale\":[[0.0,\"#0d0887\"],[0.1111111111111111,\"#46039f\"],[0.2222222222222222,\"#7201a8\"],[0.3333333333333333,\"#9c179e\"],[0.4444444444444444,\"#bd3786\"],[0.5555555555555556,\"#d8576b\"],[0.6666666666666666,\"#ed7953\"],[0.7777777777777778,\"#fb9f3a\"],[0.8888888888888888,\"#fdca26\"],[1.0,\"#f0f921\"]]}],\"surface\":[{\"type\":\"surface\",\"colorbar\":{\"outlinewidth\":0,\"ticks\":\"\"},\"colorscale\":[[0.0,\"#0d0887\"],[0.1111111111111111,\"#46039f\"],[0.2222222222222222,\"#7201a8\"],[0.3333333333333333,\"#9c179e\"],[0.4444444444444444,\"#bd3786\"],[0.5555555555555556,\"#d8576b\"],[0.6666666666666666,\"#ed7953\"],[0.7777777777777778,\"#fb9f3a\"],[0.8888888888888888,\"#fdca26\"],[1.0,\"#f0f921\"]]}],\"mesh3d\":[{\"type\":\"mesh3d\",\"colorbar\":{\"outlinewidth\":0,\"ticks\":\"\"}}],\"scatter\":[{\"fillpattern\":{\"fillmode\":\"overlay\",\"size\":10,\"solidity\":0.2},\"type\":\"scatter\"}],\"parcoords\":[{\"type\":\"parcoords\",\"line\":{\"colorbar\":{\"outlinewidth\":0,\"ticks\":\"\"}}}],\"scatterpolargl\":[{\"type\":\"scatterpolargl\",\"marker\":{\"colorbar\":{\"outlinewidth\":0,\"ticks\":\"\"}}}],\"bar\":[{\"error_x\":{\"color\":\"#2a3f5f\"},\"error_y\":{\"color\":\"#2a3f5f\"},\"marker\":{\"line\":{\"color\":\"#E5ECF6\",\"width\":0.5},\"pattern\":{\"fillmode\":\"overlay\",\"size\":10,\"solidity\":0.2}},\"type\":\"bar\"}],\"scattergeo\":[{\"type\":\"scattergeo\",\"marker\":{\"colorbar\":{\"outlinewidth\":0,\"ticks\":\"\"}}}],\"scatterpolar\":[{\"type\":\"scatterpolar\",\"marker\":{\"colorbar\":{\"outlinewidth\":0,\"ticks\":\"\"}}}],\"histogram\":[{\"marker\":{\"pattern\":{\"fillmode\":\"overlay\",\"size\":10,\"solidity\":0.2}},\"type\":\"histogram\"}],\"scattergl\":[{\"type\":\"scattergl\",\"marker\":{\"colorbar\":{\"outlinewidth\":0,\"ticks\":\"\"}}}],\"scatter3d\":[{\"type\":\"scatter3d\",\"line\":{\"colorbar\":{\"outlinewidth\":0,\"ticks\":\"\"}},\"marker\":{\"colorbar\":{\"outlinewidth\":0,\"ticks\":\"\"}}}],\"scattermapbox\":[{\"type\":\"scattermapbox\",\"marker\":{\"colorbar\":{\"outlinewidth\":0,\"ticks\":\"\"}}}],\"scatterternary\":[{\"type\":\"scatterternary\",\"marker\":{\"colorbar\":{\"outlinewidth\":0,\"ticks\":\"\"}}}],\"scattercarpet\":[{\"type\":\"scattercarpet\",\"marker\":{\"colorbar\":{\"outlinewidth\":0,\"ticks\":\"\"}}}],\"carpet\":[{\"aaxis\":{\"endlinecolor\":\"#2a3f5f\",\"gridcolor\":\"white\",\"linecolor\":\"white\",\"minorgridcolor\":\"white\",\"startlinecolor\":\"#2a3f5f\"},\"baxis\":{\"endlinecolor\":\"#2a3f5f\",\"gridcolor\":\"white\",\"linecolor\":\"white\",\"minorgridcolor\":\"white\",\"startlinecolor\":\"#2a3f5f\"},\"type\":\"carpet\"}],\"table\":[{\"cells\":{\"fill\":{\"color\":\"#EBF0F8\"},\"line\":{\"color\":\"white\"}},\"header\":{\"fill\":{\"color\":\"#C8D4E3\"},\"line\":{\"color\":\"white\"}},\"type\":\"table\"}],\"barpolar\":[{\"marker\":{\"line\":{\"color\":\"#E5ECF6\",\"width\":0.5},\"pattern\":{\"fillmode\":\"overlay\",\"size\":10,\"solidity\":0.2}},\"type\":\"barpolar\"}],\"pie\":[{\"automargin\":true,\"type\":\"pie\"}]},\"layout\":{\"autotypenumbers\":\"strict\",\"colorway\":[\"#636efa\",\"#EF553B\",\"#00cc96\",\"#ab63fa\",\"#FFA15A\",\"#19d3f3\",\"#FF6692\",\"#B6E880\",\"#FF97FF\",\"#FECB52\"],\"font\":{\"color\":\"#2a3f5f\"},\"hovermode\":\"closest\",\"hoverlabel\":{\"align\":\"left\"},\"paper_bgcolor\":\"white\",\"plot_bgcolor\":\"#E5ECF6\",\"polar\":{\"bgcolor\":\"#E5ECF6\",\"angularaxis\":{\"gridcolor\":\"white\",\"linecolor\":\"white\",\"ticks\":\"\"},\"radialaxis\":{\"gridcolor\":\"white\",\"linecolor\":\"white\",\"ticks\":\"\"}},\"ternary\":{\"bgcolor\":\"#E5ECF6\",\"aaxis\":{\"gridcolor\":\"white\",\"linecolor\":\"white\",\"ticks\":\"\"},\"baxis\":{\"gridcolor\":\"white\",\"linecolor\":\"white\",\"ticks\":\"\"},\"caxis\":{\"gridcolor\":\"white\",\"linecolor\":\"white\",\"ticks\":\"\"}},\"coloraxis\":{\"colorbar\":{\"outlinewidth\":0,\"ticks\":\"\"}},\"colorscale\":{\"sequential\":[[0.0,\"#0d0887\"],[0.1111111111111111,\"#46039f\"],[0.2222222222222222,\"#7201a8\"],[0.3333333333333333,\"#9c179e\"],[0.4444444444444444,\"#bd3786\"],[0.5555555555555556,\"#d8576b\"],[0.6666666666666666,\"#ed7953\"],[0.7777777777777778,\"#fb9f3a\"],[0.8888888888888888,\"#fdca26\"],[1.0,\"#f0f921\"]],\"sequentialminus\":[[0.0,\"#0d0887\"],[0.1111111111111111,\"#46039f\"],[0.2222222222222222,\"#7201a8\"],[0.3333333333333333,\"#9c179e\"],[0.4444444444444444,\"#bd3786\"],[0.5555555555555556,\"#d8576b\"],[0.6666666666666666,\"#ed7953\"],[0.7777777777777778,\"#fb9f3a\"],[0.8888888888888888,\"#fdca26\"],[1.0,\"#f0f921\"]],\"diverging\":[[0,\"#8e0152\"],[0.1,\"#c51b7d\"],[0.2,\"#de77ae\"],[0.3,\"#f1b6da\"],[0.4,\"#fde0ef\"],[0.5,\"#f7f7f7\"],[0.6,\"#e6f5d0\"],[0.7,\"#b8e186\"],[0.8,\"#7fbc41\"],[0.9,\"#4d9221\"],[1,\"#276419\"]]},\"xaxis\":{\"gridcolor\":\"white\",\"linecolor\":\"white\",\"ticks\":\"\",\"title\":{\"standoff\":15},\"zerolinecolor\":\"white\",\"automargin\":true,\"zerolinewidth\":2},\"yaxis\":{\"gridcolor\":\"white\",\"linecolor\":\"white\",\"ticks\":\"\",\"title\":{\"standoff\":15},\"zerolinecolor\":\"white\",\"automargin\":true,\"zerolinewidth\":2},\"scene\":{\"xaxis\":{\"backgroundcolor\":\"#E5ECF6\",\"gridcolor\":\"white\",\"linecolor\":\"white\",\"showbackground\":true,\"ticks\":\"\",\"zerolinecolor\":\"white\",\"gridwidth\":2},\"yaxis\":{\"backgroundcolor\":\"#E5ECF6\",\"gridcolor\":\"white\",\"linecolor\":\"white\",\"showbackground\":true,\"ticks\":\"\",\"zerolinecolor\":\"white\",\"gridwidth\":2},\"zaxis\":{\"backgroundcolor\":\"#E5ECF6\",\"gridcolor\":\"white\",\"linecolor\":\"white\",\"showbackground\":true,\"ticks\":\"\",\"zerolinecolor\":\"white\",\"gridwidth\":2}},\"shapedefaults\":{\"line\":{\"color\":\"#2a3f5f\"}},\"annotationdefaults\":{\"arrowcolor\":\"#2a3f5f\",\"arrowhead\":0,\"arrowwidth\":1},\"geo\":{\"bgcolor\":\"white\",\"landcolor\":\"#E5ECF6\",\"subunitcolor\":\"white\",\"showland\":true,\"showlakes\":true,\"lakecolor\":\"white\"},\"title\":{\"x\":0.05},\"mapbox\":{\"style\":\"light\"}}},\"xaxis\":{\"anchor\":\"y\",\"domain\":[0.0,1.0],\"title\":{\"text\":\"Work Year\"}},\"yaxis\":{\"anchor\":\"x\",\"domain\":[0.0,1.0],\"title\":{\"text\":\"count\"}},\"legend\":{\"title\":{\"text\":\"color\"},\"tracegroupgap\":0},\"title\":{\"text\":\"Count of Job Types wih Year\"},\"barmode\":\"group\"},                        {\"responsive\": true}                    ).then(function(){\n",
              "                            \n",
              "var gd = document.getElementById('e0a0dc6b-b9bf-4155-9083-f7c89bf1bfc0');\n",
              "var x = new MutationObserver(function (mutations, observer) {{\n",
              "        var display = window.getComputedStyle(gd).display;\n",
              "        if (!display || display === 'none') {{\n",
              "            console.log([gd, 'removed!']);\n",
              "            Plotly.purge(gd);\n",
              "            observer.disconnect();\n",
              "        }}\n",
              "}});\n",
              "\n",
              "// Listen for the removal of the full notebook cells\n",
              "var notebookContainer = gd.closest('#notebook-container');\n",
              "if (notebookContainer) {{\n",
              "    x.observe(notebookContainer, {childList: true});\n",
              "}}\n",
              "\n",
              "// Listen for the clearing of the current output cell\n",
              "var outputEl = gd.closest('.output');\n",
              "if (outputEl) {{\n",
              "    x.observe(outputEl, {childList: true});\n",
              "}}\n",
              "\n",
              "                        })                };                            </script>        </div>\n",
              "</body>\n",
              "</html>"
            ]
          },
          "metadata": {}
        }
      ]
    },
    {
      "cell_type": "markdown",
      "source": [
        "Over the years, there has been a significant growth in the number of onsite jobs, with a notable exponential increase from 2020 to 2023. On the other hand, remote jobs experienced an upward trend from 2020 to 2022, followed by a decline in 2023. In contrast, the number of hybrid jobs remained relatively stable throughout the period, showing minimal variation."
      ],
      "metadata": {
        "id": "gRigqEdcJnD9"
      }
    },
    {
      "cell_type": "markdown",
      "source": [
        "\n",
        "# 7 Which job type demonstrates higher salary levels over the course of multiple years?"
      ],
      "metadata": {
        "id": "100vjrskJzZr"
      }
    },
    {
      "cell_type": "code",
      "source": [
        "table=df.pivot_table\n",
        "table = df.pivot_table(values='salary_in_usd', index='work_year', columns='job_type')\n",
        "table\n"
      ],
      "metadata": {
        "colab": {
          "base_uri": "https://localhost:8080/",
          "height": 206
        },
        "id": "hdtvhtMqBCFH",
        "outputId": "9e427b6d-d2ad-4c13-a8df-f493e9eaf267"
      },
      "execution_count": null,
      "outputs": [
        {
          "output_type": "execute_result",
          "data": {
            "text/plain": [
              "job_type         Hybrid        On-Site         Remote\n",
              "work_year                                            \n",
              "2020       77591.238095   93426.187500   99763.205128\n",
              "2021       76104.407895   92899.676471  105812.783333\n",
              "2022       84560.870968  134719.236287  135631.104377\n",
              "2023       72053.500000  152393.521515  146380.124789"
            ],
            "text/html": [
              "\n",
              "  <div id=\"df-4332eb9d-bb5a-413f-a7ab-ec14f6d8d994\">\n",
              "    <div class=\"colab-df-container\">\n",
              "      <div>\n",
              "<style scoped>\n",
              "    .dataframe tbody tr th:only-of-type {\n",
              "        vertical-align: middle;\n",
              "    }\n",
              "\n",
              "    .dataframe tbody tr th {\n",
              "        vertical-align: top;\n",
              "    }\n",
              "\n",
              "    .dataframe thead th {\n",
              "        text-align: right;\n",
              "    }\n",
              "</style>\n",
              "<table border=\"1\" class=\"dataframe\">\n",
              "  <thead>\n",
              "    <tr style=\"text-align: right;\">\n",
              "      <th>job_type</th>\n",
              "      <th>Hybrid</th>\n",
              "      <th>On-Site</th>\n",
              "      <th>Remote</th>\n",
              "    </tr>\n",
              "    <tr>\n",
              "      <th>work_year</th>\n",
              "      <th></th>\n",
              "      <th></th>\n",
              "      <th></th>\n",
              "    </tr>\n",
              "  </thead>\n",
              "  <tbody>\n",
              "    <tr>\n",
              "      <th>2020</th>\n",
              "      <td>77591.238095</td>\n",
              "      <td>93426.187500</td>\n",
              "      <td>99763.205128</td>\n",
              "    </tr>\n",
              "    <tr>\n",
              "      <th>2021</th>\n",
              "      <td>76104.407895</td>\n",
              "      <td>92899.676471</td>\n",
              "      <td>105812.783333</td>\n",
              "    </tr>\n",
              "    <tr>\n",
              "      <th>2022</th>\n",
              "      <td>84560.870968</td>\n",
              "      <td>134719.236287</td>\n",
              "      <td>135631.104377</td>\n",
              "    </tr>\n",
              "    <tr>\n",
              "      <th>2023</th>\n",
              "      <td>72053.500000</td>\n",
              "      <td>152393.521515</td>\n",
              "      <td>146380.124789</td>\n",
              "    </tr>\n",
              "  </tbody>\n",
              "</table>\n",
              "</div>\n",
              "      <button class=\"colab-df-convert\" onclick=\"convertToInteractive('df-4332eb9d-bb5a-413f-a7ab-ec14f6d8d994')\"\n",
              "              title=\"Convert this dataframe to an interactive table.\"\n",
              "              style=\"display:none;\">\n",
              "        \n",
              "  <svg xmlns=\"http://www.w3.org/2000/svg\" height=\"24px\"viewBox=\"0 0 24 24\"\n",
              "       width=\"24px\">\n",
              "    <path d=\"M0 0h24v24H0V0z\" fill=\"none\"/>\n",
              "    <path d=\"M18.56 5.44l.94 2.06.94-2.06 2.06-.94-2.06-.94-.94-2.06-.94 2.06-2.06.94zm-11 1L8.5 8.5l.94-2.06 2.06-.94-2.06-.94L8.5 2.5l-.94 2.06-2.06.94zm10 10l.94 2.06.94-2.06 2.06-.94-2.06-.94-.94-2.06-.94 2.06-2.06.94z\"/><path d=\"M17.41 7.96l-1.37-1.37c-.4-.4-.92-.59-1.43-.59-.52 0-1.04.2-1.43.59L10.3 9.45l-7.72 7.72c-.78.78-.78 2.05 0 2.83L4 21.41c.39.39.9.59 1.41.59.51 0 1.02-.2 1.41-.59l7.78-7.78 2.81-2.81c.8-.78.8-2.07 0-2.86zM5.41 20L4 18.59l7.72-7.72 1.47 1.35L5.41 20z\"/>\n",
              "  </svg>\n",
              "      </button>\n",
              "      \n",
              "  <style>\n",
              "    .colab-df-container {\n",
              "      display:flex;\n",
              "      flex-wrap:wrap;\n",
              "      gap: 12px;\n",
              "    }\n",
              "\n",
              "    .colab-df-convert {\n",
              "      background-color: #E8F0FE;\n",
              "      border: none;\n",
              "      border-radius: 50%;\n",
              "      cursor: pointer;\n",
              "      display: none;\n",
              "      fill: #1967D2;\n",
              "      height: 32px;\n",
              "      padding: 0 0 0 0;\n",
              "      width: 32px;\n",
              "    }\n",
              "\n",
              "    .colab-df-convert:hover {\n",
              "      background-color: #E2EBFA;\n",
              "      box-shadow: 0px 1px 2px rgba(60, 64, 67, 0.3), 0px 1px 3px 1px rgba(60, 64, 67, 0.15);\n",
              "      fill: #174EA6;\n",
              "    }\n",
              "\n",
              "    [theme=dark] .colab-df-convert {\n",
              "      background-color: #3B4455;\n",
              "      fill: #D2E3FC;\n",
              "    }\n",
              "\n",
              "    [theme=dark] .colab-df-convert:hover {\n",
              "      background-color: #434B5C;\n",
              "      box-shadow: 0px 1px 3px 1px rgba(0, 0, 0, 0.15);\n",
              "      filter: drop-shadow(0px 1px 2px rgba(0, 0, 0, 0.3));\n",
              "      fill: #FFFFFF;\n",
              "    }\n",
              "  </style>\n",
              "\n",
              "      <script>\n",
              "        const buttonEl =\n",
              "          document.querySelector('#df-4332eb9d-bb5a-413f-a7ab-ec14f6d8d994 button.colab-df-convert');\n",
              "        buttonEl.style.display =\n",
              "          google.colab.kernel.accessAllowed ? 'block' : 'none';\n",
              "\n",
              "        async function convertToInteractive(key) {\n",
              "          const element = document.querySelector('#df-4332eb9d-bb5a-413f-a7ab-ec14f6d8d994');\n",
              "          const dataTable =\n",
              "            await google.colab.kernel.invokeFunction('convertToInteractive',\n",
              "                                                     [key], {});\n",
              "          if (!dataTable) return;\n",
              "\n",
              "          const docLinkHtml = 'Like what you see? Visit the ' +\n",
              "            '<a target=\"_blank\" href=https://colab.research.google.com/notebooks/data_table.ipynb>data table notebook</a>'\n",
              "            + ' to learn more about interactive tables.';\n",
              "          element.innerHTML = '';\n",
              "          dataTable['output_type'] = 'display_data';\n",
              "          await google.colab.output.renderOutput(dataTable, element);\n",
              "          const docLink = document.createElement('div');\n",
              "          docLink.innerHTML = docLinkHtml;\n",
              "          element.appendChild(docLink);\n",
              "        }\n",
              "      </script>\n",
              "    </div>\n",
              "  </div>\n",
              "  "
            ]
          },
          "metadata": {},
          "execution_count": 216
        }
      ]
    },
    {
      "cell_type": "code",
      "source": [
        "px.box(df,x='work_year', y='salary_in_usd', color='job_type',\n",
        "      title='Distribution of Salaries over the Job Types with Year')"
      ],
      "metadata": {
        "id": "-WbaYkLeKWP3",
        "colab": {
          "base_uri": "https://localhost:8080/",
          "height": 542
        },
        "outputId": "947361d2-fa83-47d2-e68c-1766f86ba9f8"
      },
      "execution_count": null,
      "outputs": [
        {
          "output_type": "display_data",
          "data": {
            "text/html": [
              "<html>\n",
              "<head><meta charset=\"utf-8\" /></head>\n",
              "<body>\n",
              "    <div>            <script src=\"https://cdnjs.cloudflare.com/ajax/libs/mathjax/2.7.5/MathJax.js?config=TeX-AMS-MML_SVG\"></script><script type=\"text/javascript\">if (window.MathJax && window.MathJax.Hub && window.MathJax.Hub.Config) {window.MathJax.Hub.Config({SVG: {font: \"STIX-Web\"}});}</script>                <script type=\"text/javascript\">window.PlotlyConfig = {MathJaxConfig: 'local'};</script>\n",
              "        <script src=\"https://cdn.plot.ly/plotly-2.18.2.min.js\"></script>                <div id=\"7f5cab04-b60d-4cf2-94c0-b9e23afa43ca\" class=\"plotly-graph-div\" style=\"height:525px; width:100%;\"></div>            <script type=\"text/javascript\">                                    window.PLOTLYENV=window.PLOTLYENV || {};                                    if (document.getElementById(\"7f5cab04-b60d-4cf2-94c0-b9e23afa43ca\")) {                    Plotly.newPlot(                        \"7f5cab04-b60d-4cf2-94c0-b9e23afa43ca\",                        [{\"alignmentgroup\":\"True\",\"hovertemplate\":\"job_type=Remote<br>work_year=%{x}<br>salary_in_usd=%{y}<extra></extra>\",\"legendgroup\":\"Remote\",\"marker\":{\"color\":\"#636efa\"},\"name\":\"Remote\",\"notched\":false,\"offsetgroup\":\"Remote\",\"orientation\":\"v\",\"showlegend\":true,\"x\":[2023,2023,2023,2023,2023,2023,2023,2023,2023,2023,2023,2023,2023,2023,2023,2023,2023,2023,2023,2023,2023,2023,2023,2023,2023,2023,2023,2023,2023,2023,2023,2023,2023,2023,2023,2023,2023,2023,2023,2023,2023,2023,2022,2023,2023,2023,2023,2023,2023,2023,2023,2023,2023,2023,2023,2023,2023,2023,2023,2023,2023,2023,2023,2023,2023,2023,2023,2023,2023,2023,2023,2023,2023,2023,2023,2023,2023,2023,2023,2023,2023,2022,2023,2023,2023,2023,2023,2023,2023,2023,2023,2023,2023,2023,2023,2023,2023,2023,2023,2023,2023,2023,2023,2023,2023,2023,2023,2023,2023,2023,2023,2023,2023,2023,2023,2023,2023,2023,2023,2023,2023,2023,2023,2023,2023,2023,2023,2023,2023,2023,2023,2023,2023,2023,2023,2023,2023,2023,2023,2023,2023,2023,2023,2023,2023,2023,2023,2023,2023,2023,2023,2023,2023,2023,2023,2023,2023,2022,2023,2023,2023,2023,2023,2023,2023,2023,2023,2023,2023,2023,2023,2023,2023,2023,2023,2023,2023,2023,2023,2023,2023,2023,2023,2023,2023,2023,2023,2023,2023,2023,2023,2023,2022,2023,2023,2023,2023,2023,2023,2023,2023,2022,2023,2023,2023,2023,2023,2023,2023,2023,2023,2023,2023,2023,2023,2023,2023,2023,2023,2023,2023,2023,2023,2023,2023,2023,2023,2023,2023,2023,2023,2023,2023,2023,2023,2023,2023,2023,2023,2023,2023,2023,2023,2023,2023,2023,2023,2023,2023,2023,2023,2023,2023,2023,2023,2023,2023,2023,2023,2023,2023,2023,2023,2023,2023,2023,2022,2021,2023,2023,2023,2023,2023,2023,2023,2023,2023,2023,2023,2023,2023,2023,2023,2023,2023,2023,2023,2023,2023,2023,2023,2023,2023,2023,2023,2023,2023,2023,2023,2023,2023,2023,2023,2023,2023,2023,2023,2023,2023,2023,2023,2023,2023,2023,2023,2023,2023,2023,2023,2023,2022,2022,2023,2023,2023,2023,2023,2023,2023,2023,2023,2023,2023,2023,2023,2023,2023,2022,2023,2023,2023,2023,2023,2023,2023,2023,2022,2023,2023,2023,2023,2023,2023,2023,2023,2023,2023,2023,2023,2023,2023,2023,2023,2023,2023,2023,2023,2023,2023,2023,2023,2023,2023,2023,2023,2023,2023,2023,2023,2023,2023,2023,2023,2023,2023,2023,2023,2023,2023,2023,2023,2023,2023,2023,2023,2023,2023,2023,2023,2023,2023,2023,2023,2023,2023,2023,2023,2023,2023,2023,2023,2023,2023,2023,2023,2023,2023,2023,2023,2023,2023,2023,2023,2022,2023,2023,2023,2023,2023,2023,2023,2023,2023,2023,2023,2023,2023,2023,2023,2023,2023,2023,2023,2023,2023,2023,2023,2023,2023,2023,2023,2023,2023,2023,2023,2023,2023,2023,2023,2023,2023,2023,2023,2022,2023,2023,2023,2023,2023,2023,2022,2023,2023,2023,2023,2023,2023,2023,2023,2023,2023,2023,2023,2023,2023,2022,2023,2023,2023,2023,2023,2023,2023,2023,2023,2023,2023,2023,2023,2023,2023,2023,2023,2023,2023,2023,2023,2023,2023,2023,2023,2023,2023,2023,2023,2023,2023,2023,2023,2023,2023,2023,2023,2023,2023,2023,2023,2023,2023,2023,2023,2023,2023,2023,2023,2023,2023,2023,2023,2023,2023,2022,2022,2023,2023,2023,2023,2023,2023,2023,2023,2023,2023,2023,2023,2023,2023,2023,2023,2023,2023,2023,2023,2023,2023,2023,2023,2023,2023,2023,2023,2023,2023,2023,2023,2023,2023,2023,2023,2023,2022,2023,2023,2023,2023,2023,2023,2023,2023,2023,2023,2021,2023,2023,2022,2023,2023,2023,2023,2023,2023,2023,2023,2023,2023,2023,2023,2023,2023,2023,2023,2023,2023,2022,2022,2022,2022,2022,2022,2022,2022,2022,2022,2022,2022,2022,2022,2022,2022,2022,2022,2022,2022,2022,2022,2022,2022,2022,2022,2022,2022,2022,2022,2022,2022,2022,2022,2022,2022,2022,2022,2022,2022,2022,2022,2022,2022,2022,2022,2022,2022,2022,2022,2022,2022,2022,2022,2022,2022,2022,2022,2022,2022,2022,2022,2022,2022,2022,2022,2022,2022,2022,2022,2022,2022,2022,2022,2022,2022,2022,2022,2022,2022,2022,2022,2022,2022,2022,2022,2022,2022,2022,2022,2022,2022,2022,2022,2022,2022,2022,2022,2022,2022,2022,2022,2022,2022,2022,2022,2022,2022,2022,2022,2022,2022,2022,2022,2022,2022,2022,2022,2022,2022,2022,2022,2022,2022,2022,2022,2022,2022,2022,2022,2022,2022,2022,2022,2022,2022,2022,2022,2022,2021,2022,2022,2022,2022,2022,2022,2022,2022,2022,2022,2022,2022,2022,2022,2022,2022,2022,2022,2022,2022,2022,2022,2022,2022,2022,2022,2022,2022,2022,2022,2022,2022,2022,2022,2022,2022,2022,2022,2022,2022,2022,2022,2022,2022,2022,2022,2022,2022,2022,2022,2022,2022,2022,2022,2022,2022,2022,2022,2022,2022,2022,2022,2022,2022,2022,2022,2022,2022,2022,2022,2022,2022,2022,2022,2022,2022,2022,2022,2022,2022,2022,2022,2022,2022,2022,2022,2022,2022,2022,2022,2022,2022,2022,2022,2022,2022,2022,2022,2022,2022,2022,2022,2022,2022,2022,2022,2022,2022,2022,2022,2022,2022,2022,2022,2022,2022,2022,2022,2022,2022,2022,2022,2022,2022,2022,2022,2022,2022,2022,2022,2022,2022,2022,2022,2022,2022,2022,2022,2022,2022,2022,2022,2022,2022,2022,2022,2022,2022,2022,2022,2022,2022,2022,2022,2022,2022,2022,2022,2022,2022,2022,2022,2022,2022,2022,2022,2022,2022,2022,2022,2022,2022,2022,2022,2022,2022,2022,2022,2022,2022,2022,2022,2022,2022,2022,2022,2022,2022,2022,2022,2022,2022,2022,2022,2022,2022,2022,2022,2022,2022,2022,2022,2022,2022,2022,2022,2022,2022,2022,2022,2022,2022,2022,2022,2022,2022,2022,2022,2022,2022,2022,2022,2022,2022,2022,2022,2022,2022,2022,2022,2022,2022,2022,2022,2022,2022,2022,2022,2022,2022,2022,2022,2022,2022,2022,2022,2022,2022,2022,2022,2022,2022,2022,2022,2022,2022,2022,2022,2022,2022,2022,2022,2022,2022,2022,2022,2022,2022,2022,2022,2022,2022,2022,2022,2022,2022,2022,2022,2022,2022,2022,2022,2022,2022,2022,2022,2022,2022,2022,2022,2022,2022,2022,2022,2022,2022,2022,2022,2022,2022,2022,2022,2022,2022,2022,2022,2022,2022,2022,2022,2022,2022,2022,2022,2022,2022,2022,2022,2022,2022,2022,2022,2022,2022,2022,2022,2022,2022,2022,2021,2022,2022,2022,2022,2022,2022,2022,2022,2022,2022,2022,2022,2022,2022,2022,2022,2022,2022,2022,2022,2022,2022,2022,2022,2022,2022,2022,2022,2022,2022,2022,2022,2022,2022,2022,2022,2022,2022,2022,2022,2022,2022,2022,2022,2022,2022,2022,2022,2022,2022,2022,2022,2022,2022,2022,2022,2022,2022,2022,2022,2022,2022,2022,2022,2022,2022,2022,2022,2022,2022,2022,2022,2022,2022,2021,2022,2022,2022,2022,2022,2022,2022,2022,2022,2022,2022,2022,2022,2022,2022,2022,2022,2022,2022,2022,2022,2022,2022,2022,2022,2022,2022,2022,2022,2022,2022,2022,2022,2022,2022,2022,2022,2022,2022,2022,2022,2022,2022,2022,2022,2022,2022,2022,2022,2022,2022,2022,2022,2022,2021,2022,2022,2022,2022,2022,2022,2022,2022,2022,2022,2022,2022,2022,2022,2022,2022,2022,2022,2022,2022,2022,2022,2022,2022,2022,2022,2022,2022,2022,2020,2020,2022,2022,2022,2022,2022,2022,2022,2022,2022,2022,2022,2022,2022,2020,2022,2022,2022,2022,2022,2022,2022,2022,2022,2022,2022,2022,2022,2022,2022,2022,2022,2022,2022,2022,2022,2022,2022,2022,2022,2022,2022,2022,2022,2022,2022,2022,2022,2022,2022,2022,2022,2022,2022,2022,2022,2022,2022,2022,2022,2022,2022,2022,2022,2022,2022,2022,2022,2022,2022,2022,2022,2022,2022,2022,2022,2022,2022,2022,2022,2022,2022,2022,2022,2022,2022,2022,2022,2022,2022,2022,2022,2022,2022,2022,2022,2022,2022,2022,2022,2022,2022,2022,2022,2022,2022,2022,2022,2022,2022,2022,2022,2022,2022,2022,2022,2022,2022,2022,2022,2022,2022,2022,2022,2022,2022,2022,2022,2022,2022,2022,2022,2022,2022,2022,2022,2022,2022,2022,2022,2022,2022,2022,2022,2022,2022,2022,2022,2022,2022,2022,2022,2022,2022,2022,2022,2022,2022,2022,2022,2022,2022,2022,2022,2022,2022,2022,2022,2022,2022,2022,2022,2022,2022,2022,2022,2022,2022,2022,2022,2022,2022,2022,2022,2022,2022,2022,2022,2022,2022,2022,2022,2022,2022,2022,2022,2022,2022,2022,2022,2022,2022,2022,2022,2022,2022,2022,2022,2022,2022,2022,2022,2022,2022,2022,2022,2022,2022,2022,2022,2022,2021,2022,2022,2022,2022,2022,2022,2022,2022,2022,2020,2022,2022,2022,2022,2022,2022,2022,2022,2022,2022,2022,2021,2021,2022,2022,2022,2022,2022,2021,2022,2022,2021,2021,2021,2022,2021,2022,2021,2021,2021,2021,2020,2021,2021,2021,2021,2020,2020,2021,2021,2021,2021,2021,2021,2020,2021,2021,2021,2021,2021,2021,2021,2021,2021,2021,2021,2021,2020,2020,2021,2021,2021,2021,2020,2021,2021,2021,2021,2021,2021,2021,2021,2021,2021,2021,2021,2020,2021,2020,2021,2021,2020,2020,2021,2020,2021,2021,2021,2021,2021,2021,2020,2021,2021,2021,2021,2021,2021,2021,2021,2021,2021,2021,2021,2021,2021,2021,2021,2020,2021,2021,2021,2020,2021,2021,2021,2021,2021,2020,2021,2021,2020,2021,2021,2021,2021,2021,2020,2021,2021,2021,2020,2020,2021,2020,2020,2020,2021,2021,2021,2021,2021,2020,2021,2021,2021,2020,2021,2021,2020,2020,2021,2021,2021,2021,2021,2021,2020,2020,2020,2020,2020,2021,2021,2020,2021,2020,2020],\"x0\":\" \",\"xaxis\":\"x\",\"y\":[85847,30000,25500,175000,120000,130000,100000,150000,110000,230000,143200,100000,30000,212750,185000,262000,245000,275300,183500,218500,199098,203300,123600,231500,166000,172500,110500,237000,201450,237000,201450,280100,168100,193500,139000,150000,69751,96578,225000,175000,217000,185000,56536,283200,188800,161800,141600,100000,70000,138784,83270,318300,212200,95000,75000,100000,70000,20670,150000,120000,54685,42533,220000,190000,85066,57723,85000,75000,180000,115000,200000,115000,200000,150000,120000,75000,17022,68318,200000,190000,112000,88256,220000,160000,175000,145000,152900,117100,173000,113000,130000,110000,205000,184000,149500,127075,219535,146115,175000,145000,221000,153000,175000,100000,142000,75000,125000,112000,115000,86000,280700,150450,51753,130001,71907,93918,51962,175000,135000,222000,175000,203000,133200,238000,156000,304000,199000,48289,140000,110000,160000,120000,157750,104650,180000,140000,60000,105000,90000,175000,145000,237000,145000,64200,56100,208450,170550,200000,170000,205000,184000,115000,95000,92700,61800,160000,130000,59888,286000,207000,100000,80000,297300,198200,210000,151800,200000,170000,134000,124000,185000,120250,275300,183000,170000,125000,216000,184000,180000,165000,173000,132000,275300,183500,190000,95000,275300,183500,100000,80000,160000,145000,73546,160000,130000,75000,60400,85000,75000,92700,61800,172309,60093,83500,52500,165000,140000,62000,58000,237000,145000,90000,90000,186300,102500,149040,113900,153600,106800,172600,107900,376080,213120,206500,121600,170000,90000,95000,70000,115934,81666,150000,120000,138000,92000,110000,75000,85066,57723,185000,120250,130000,297300,198200,184000,143000,275300,183500,75000,65000,149040,113900,75020,17022,210914,116704,75000,60000,160000,130000,193000,136850,276000,178500,75116,48289,130000,150000,260000,110000,170000,130000,188500,117000,250000,138000,130000,100000,153600,106800,185000,125000,127000,94000,200000,150000,161500,119500,214618,72000,60000,186300,123900,340000,150000,100000,310000,239000,150000,97750,120000,75000,116990,82920,121500,78000,78990,43809,275300,183000,160000,130000,175000,160000,85000,75000,145000,90000,160000,130000,34320,9289,75116,175000,130000,122000,93800,150000,90000,165000,112000,71897,15806,136000,104000,310000,239000,192000,107309,85847,170500,85000,179975,86466,165000,125000,168000,202000,135000,104000,65000,269000,158000,150000,100000,290000,210000,115447,110000,80000,137500,81500,186000,153088,190000,160000,200000,150000,240000,180000,200000,150000,144000,66000,259000,146000,310000,239000,142000,95000,140000,120000,259000,146000,17779,19522,107309,75116,120000,75000,288000,140000,288000,140000,215050,156400,198000,114000,75000,60000,209300,182200,48609,120000,60000,180000,160000,180000,160000,55800,51508,60000,151902,250000,162500,85000,75000,115934,81666,250000,63000,213580,163625,375000,101943,16414,180000,115000,200000,115000,231250,138750,160000,75000,250000,162500,318300,188800,110000,95000,145000,135000,93919,51962,170000,90000,210914,116704,192500,140000,36000,235000,185000,53654,66837,63192,284000,236000,151410,115360,66531,59020,26827,180000,135000,100000,225000,156400,150000,107000,23000,110000,265000,182750,165000,144000,130000,310000,239000,225000,156400,180000,150000,209450,158677,155000,237000,145000,240000,139000,130000,87000,160000,108000,165000,107250,285800,154600,30000,200000,175000,231250,138750,153000,94000,160000,90000,275300,183500,275300,183500,160000,125600,85000,75000,205600,107500,160000,130000,136000,104000,110000,84000,170000,150000,200000,80000,140000,110000,120000,95000,250000,63000,237000,145000,130000,90000,120000,100000,145000,102500,15897,110000,136000,104000,168000,130000,205000,185000,50000,234100,203500,232200,167200,170000,114000,95000,80000,180000,115000,133800,96100,140000,115000,297300,198200,297300,198200,202000,135000,110000,84000,230000,196000,140000,110000,170000,150000,175000,140000,25216,225000,165750,135000,115000,170000,140000,120000,100000,130000,80000,54094,231250,138750,100000,187500,175000,155000,64000,184000,142000,75344,63192,58331,46178,166000,128000,170000,110000,160000,75000,236000,182000,14307,13989,125000,150000,150000,127500,126500,51000,40000,40000,250000,63000,210000,160000,272550,198200,94560,52533,248400,183600,150000,150000,40000,216000,144000,149000,119000,246000,201000,235000,185000,190000,160000,100000,192000,164000,75000,60000,184000,142000,31795,44365,92350,73880,192000,164000,310000,239000,160000,120000,125000,115934,81666,175000,140000,122500,100000,58837,190000,120000,127000,104000,210000,150000,210000,150000,210000,130000,182750,161500,102640,66100,210000,150000,130000,80000,136000,104000,150000,100000,216000,144000,159000,130000,115934,81666,215000,150000,246000,201000,187000,153000,255000,185000,140000,120000,75000,60000,134000,124000,100000,65000,12000,220000,146000,190000,135000,173000,110000,115934,81666,190000,194000,129400,201000,89200,230000,196000,150000,100000,130000,100000,216000,144000,192500,140000,65000,55000,63040,52533,170000,125000,197430,134760,120000,220000,162000,149040,113900,115000,171000,13000,50000,230000,154600,160000,75000,140000,120000,227200,168000,243000,183000,130000,90000,116000,96000,194000,129400,190000,135000,115573,73546,50000,80000,205000,150000,175000,145000,235000,175000,160000,90000,86193,49253,100000,125000,110000,148000,107000,310000,239000,168000,130000,136000,104000,161000,118000,205000,184000,205000,184000,230000,196000,61566,43096,175000,135000,231250,138750,193750,116250,231250,138750,231250,138750,231250,138750,193750,116250,208000,127000,300000,196000,205000,185000,205000,184000,17684,350000,135000,115934,81666,12000,104697,33000,34672,175000,150000,135000,100000,177500,134000,192564,144854,179305,142127,315000,225000,243900,156600,182500,128500,160000,90000,77300,45600,127000,110000,210000,136000,12608,170000,140000,120000,100000,85000,78000,161000,110000,136000,104000,61566,49253,150000,100000,64000,187200,116100,275000,166000,236000,182000,180000,140000,135000,100000,240000,195000,175000,180000,100000,97000,90000,210000,180000,210000,157000,180000,100000,30000,78000,48000,78000,42000,78000,48000,175950,130050,236600,89200,84000,54000,80000,200000,73742,8000,155000,38000,155000,38000,153600,106800,185000,50000,155000,38000,168000,130000,120000,55000,185000,50000,200000,175000,148500,98200,115000,95000,225000,66000,185000,50000,57000,144200,115360,38154,170000,150000,180000,160000,200000,150000,188700,160395,115934,81666,198440,144000,191475,141525,75648,156868,200000,69344,5132,90000,200000,180000,108000,85000,210000,180000,165000,132000,130000,110000,135000,178800,132100,160000,85000,250000,63000,187200,116100,200000,145000,50000,183000,99750,68400,236900,159200,243225,179775,175000,150000,210000,180000,148000,128000,190000,135000,130000,110000,191475,141525,160000,85000,195400,131300,105000,191475,141525,207000,153000,191475,141525,191475,141525,191475,141525,191475,141525,200000,135000,207000,153000,191475,141525,191475,141525,191475,141525,130000,84000,100000,60000,80036,67723,150000,102200,144000,113000,31520,195400,131300,195400,131300,195400,131300,190000,135000,135000,80000,8050,160000,85000,178800,132100,60000,50000,140000,105000,80036,67723,190000,140000,100000,60000,180000,165000,190000,135000,122500,100000,297500,260000,15000,193000,100000,60000,7799,136994,101570,250000,63000,191475,141525,136000,112000,172000,140000,250000,63000,180000,150000,250000,63000,191475,141525,97500,212800,142800,6359,165000,140250,179400,154000,191475,141525,191475,141525,191475,141525,84053,73546,98506,86193,84053,73546,191475,141525,191475,141525,102663,80041,191475,141525,104611,82280,191475,141525,81000,66000,46000,80000,200000,180000,200000,191475,141525,191475,141525,191475,141525,95000,70000,75000,170000,130000,113000,140000,50000,53368,146200,124270,54634,185800,137400,186000,148800,110000,186000,148800,6270,158000,134000,170000,120000,200000,150000,135000,85000,135000,85000,206000,175100,149040,113900,154000,126000,200000,150000,170000,135000,117000,99450,200000,135000,55410,175000,130000,5723,50432,50000,84053,189500,140100,177600,131300,202900,131300,145000,115000,180000,140000,150000,12171,53416,131752,48000,210000,100000,55000,130000,77119,30523,221300,148700,30000,60938,170000,130000,128875,93700,180000,100000,136260,109280,160000,92000,200000,160000,117000,99450,129000,86000,13493,13493,100000,200000,180000,153000,210000,100000,150075,110925,22800,160000,92000,202900,131300,22809,175000,135000,133766,92350,67723,300000,200000,200000,112900,90320,145000,105400,215300,158200,209100,154600,175000,155000,84053,170000,123000,115222,165400,132320,208775,147800,136994,101570,128875,93700,35093,183600,100800,49253,36940,42026,31520,84053,73546,98506,86193,84053,73546,42026,31520,92350,73880,63040,47280,260000,180000,63040,47280,73880,55410,60000,160000,112300,241000,159000,242000,200000,165220,120160,124190,90320,155000,120600,170000,150000,102100,84900,136620,99360,146000,123000,49253,43096,130000,110000,170000,135000,161342,137141,167000,123000,211500,138600,192400,90700,130000,61300,130000,61300,167000,115500,112900,90320,112900,90320,165400,132320,243900,156600,136600,109280,128875,93700,224000,167875,175000,135000,209100,154600,180000,160000,176000,144000,200100,160000,175100,140250,116150,99050,145000,130000,112900,90320,214000,192600,266400,213120,155000,115000,115934,81666,130000,110500,80000,60000,192564,144854,230000,150000,150260,109280,170000,150000,160000,130000,154000,126000,210000,140000,210000,140000,210000,140000,100000,69000,210000,140000,150075,110925,100000,25000,126500,106260,220110,160080,105000,100000,170000,135000,230000,140000,135000,50000,220000,140000,220000,120000,200000,120000,120000,65000,324000,216000,210000,100000,185100,104890,105000,80000,76814,120000,17805,30523,17805,75000,157000,65000,68293,67597,10000,20000,102839,200000,51081,78000,135000,115000,83864,40000,31520,59888,54742,165000,100000,76814,33609,75000,30469,55475,152500,120000,135000,405000,135000,80000,380000,177000,65141,48000,150000,90000,100000,155499,24000,38400,82500,120000,20000,21013,50000,200000,200000,100000,59303,82528,170000,150000,80000,70000,68428,125000,120000,144000,13400,75774,150000,103000,153000,90000,90000,60000,50000,12000,270000,47282,153667,28476,110000,80000,10000,138000,140000,79197,170000,80000,45760,100000,235000,150000,225000,76833,88654,103160,113476,30428,150000,115000,187442,106000,150000,15966,95746,70000,76958,188000,160000,105000,200000,174000,93000,28399,90000,170000,91000,165000,80000,103691,63810,180000,200000,200000,256000,110000,72500,69741,112000,55000,100000,85000,105000,72000,28016,25532,16904,190000,16228,71786,24342,9272,174000,135000,69741,50000,87000,5679,40038,90000,195000,37825,85000,416000,225000,46597,41689,114047,88654,56000,6072,325000,200000,160000,50000,40189,185000,110000,140000,87738,152000,60000,59102,173762,148261,38776,46809,18053,235000,19609,12000,45391,190200,118000,138350,130800,45618,119059,165000,412000,151000,105000,100000],\"y0\":\" \",\"yaxis\":\"y\",\"type\":\"box\"},{\"alignmentgroup\":\"True\",\"hovertemplate\":\"job_type=On-Site<br>work_year=%{x}<br>salary_in_usd=%{y}<extra></extra>\",\"legendgroup\":\"On-Site\",\"marker\":{\"color\":\"#EF553B\"},\"name\":\"On-Site\",\"notched\":false,\"offsetgroup\":\"On-Site\",\"orientation\":\"v\",\"showlegend\":true,\"x\":[2023,2023,2023,2023,2023,2023,2023,2023,2023,2023,2023,2023,2023,2023,2023,2023,2023,2023,2023,2023,2023,2023,2023,2023,2023,2023,2023,2023,2023,2023,2023,2023,2023,2023,2023,2023,2023,2023,2023,2023,2023,2023,2023,2023,2023,2023,2023,2023,2023,2023,2023,2023,2023,2023,2023,2023,2023,2023,2023,2023,2023,2023,2023,2023,2023,2023,2023,2023,2023,2023,2023,2023,2023,2023,2023,2023,2023,2023,2023,2023,2023,2023,2023,2023,2023,2023,2023,2023,2023,2023,2023,2023,2023,2023,2023,2023,2023,2023,2023,2023,2023,2023,2023,2023,2023,2023,2023,2023,2023,2023,2023,2023,2023,2023,2023,2020,2023,2023,2023,2023,2023,2023,2023,2023,2023,2023,2023,2023,2023,2023,2023,2023,2023,2023,2023,2023,2023,2023,2023,2023,2023,2023,2023,2023,2023,2023,2023,2023,2023,2023,2023,2023,2023,2023,2023,2023,2023,2023,2023,2023,2023,2023,2023,2023,2023,2023,2023,2023,2023,2023,2023,2023,2023,2023,2023,2023,2023,2023,2023,2023,2023,2023,2023,2023,2023,2023,2023,2023,2023,2023,2023,2023,2023,2023,2023,2023,2023,2023,2023,2023,2023,2023,2023,2023,2023,2023,2023,2023,2022,2023,2023,2023,2023,2023,2023,2023,2023,2023,2023,2023,2023,2023,2023,2023,2023,2023,2023,2023,2023,2023,2023,2023,2023,2023,2023,2023,2023,2023,2023,2023,2023,2023,2023,2023,2023,2023,2023,2023,2023,2023,2023,2023,2023,2023,2023,2023,2023,2023,2023,2023,2023,2023,2023,2023,2023,2023,2023,2023,2023,2023,2023,2023,2023,2023,2023,2023,2023,2023,2023,2023,2023,2023,2023,2023,2023,2023,2023,2023,2023,2023,2023,2023,2023,2023,2023,2023,2023,2023,2023,2023,2023,2023,2023,2023,2023,2023,2023,2023,2023,2023,2023,2023,2023,2023,2023,2023,2023,2023,2023,2023,2023,2023,2023,2023,2023,2023,2023,2023,2023,2023,2023,2023,2023,2023,2023,2023,2023,2023,2023,2023,2023,2023,2023,2023,2023,2023,2023,2023,2023,2023,2023,2023,2023,2023,2023,2023,2023,2023,2023,2023,2023,2023,2023,2023,2023,2023,2023,2023,2023,2023,2023,2023,2023,2023,2023,2023,2023,2023,2023,2023,2023,2023,2023,2023,2023,2023,2023,2023,2023,2023,2023,2023,2023,2023,2023,2023,2023,2023,2023,2023,2023,2023,2023,2023,2023,2023,2023,2023,2023,2023,2023,2023,2023,2023,2023,2023,2023,2023,2023,2023,2023,2023,2023,2023,2023,2023,2023,2023,2023,2023,2023,2023,2023,2023,2023,2023,2023,2023,2023,2023,2023,2023,2023,2023,2023,2023,2023,2023,2023,2023,2023,2023,2023,2023,2023,2023,2023,2023,2023,2023,2023,2023,2023,2023,2023,2023,2023,2023,2023,2023,2023,2023,2023,2023,2023,2023,2023,2023,2023,2023,2023,2023,2023,2023,2023,2023,2023,2023,2023,2023,2023,2023,2023,2023,2023,2023,2023,2023,2023,2023,2023,2023,2023,2023,2023,2023,2023,2023,2023,2023,2023,2023,2023,2023,2023,2023,2023,2023,2023,2023,2023,2023,2023,2023,2023,2023,2023,2023,2023,2023,2023,2023,2023,2023,2023,2023,2023,2023,2023,2023,2023,2023,2023,2023,2023,2023,2023,2023,2023,2023,2023,2023,2023,2023,2023,2023,2023,2023,2023,2023,2023,2023,2023,2023,2023,2023,2023,2023,2023,2023,2023,2023,2023,2023,2023,2023,2023,2023,2023,2023,2023,2023,2023,2023,2023,2023,2023,2023,2023,2023,2023,2023,2023,2023,2023,2023,2023,2023,2023,2023,2023,2023,2023,2023,2023,2023,2023,2023,2023,2023,2023,2023,2023,2023,2023,2023,2023,2023,2023,2023,2023,2023,2023,2023,2023,2023,2023,2023,2023,2023,2023,2023,2023,2023,2023,2023,2023,2022,2023,2023,2023,2023,2023,2023,2023,2023,2023,2023,2023,2023,2023,2023,2023,2023,2023,2023,2023,2023,2023,2023,2023,2023,2023,2023,2023,2023,2023,2023,2023,2023,2023,2023,2023,2023,2023,2023,2023,2023,2023,2023,2023,2023,2023,2023,2023,2023,2023,2023,2023,2023,2023,2023,2023,2023,2023,2023,2023,2023,2023,2023,2023,2023,2023,2023,2023,2023,2023,2023,2023,2023,2023,2023,2023,2023,2023,2023,2023,2023,2023,2023,2023,2023,2023,2023,2023,2023,2023,2023,2023,2023,2023,2023,2023,2023,2023,2023,2023,2023,2023,2021,2023,2023,2023,2023,2023,2023,2023,2023,2023,2023,2023,2023,2023,2023,2023,2023,2023,2023,2023,2023,2023,2023,2023,2023,2023,2023,2023,2023,2023,2023,2023,2023,2023,2023,2023,2023,2023,2023,2023,2023,2023,2023,2023,2023,2023,2023,2022,2023,2023,2023,2023,2023,2023,2023,2023,2023,2023,2023,2023,2023,2023,2023,2023,2023,2023,2023,2023,2023,2023,2023,2023,2023,2023,2023,2023,2023,2023,2023,2023,2023,2023,2023,2023,2023,2023,2023,2023,2023,2023,2023,2023,2023,2023,2023,2023,2023,2023,2023,2023,2023,2023,2023,2023,2023,2023,2023,2023,2023,2023,2023,2023,2023,2023,2023,2023,2023,2023,2023,2023,2023,2023,2023,2023,2023,2023,2023,2023,2023,2023,2023,2023,2023,2023,2023,2023,2023,2023,2023,2023,2023,2023,2023,2023,2023,2023,2023,2023,2023,2023,2023,2023,2023,2023,2023,2023,2023,2023,2023,2023,2023,2023,2023,2023,2023,2023,2023,2023,2023,2023,2023,2023,2023,2023,2023,2023,2023,2023,2023,2023,2023,2023,2023,2023,2023,2023,2023,2023,2023,2023,2023,2023,2023,2023,2023,2023,2023,2023,2023,2023,2023,2023,2023,2023,2023,2023,2023,2023,2023,2023,2023,2023,2023,2023,2023,2023,2023,2023,2023,2023,2023,2023,2023,2023,2023,2023,2023,2023,2023,2023,2023,2023,2023,2023,2023,2023,2023,2023,2023,2023,2023,2023,2023,2023,2023,2023,2023,2023,2023,2023,2023,2022,2023,2023,2023,2023,2023,2023,2023,2023,2023,2023,2023,2023,2023,2023,2023,2023,2023,2023,2023,2023,2023,2023,2023,2023,2023,2023,2023,2023,2023,2023,2023,2023,2023,2023,2023,2023,2023,2023,2023,2023,2023,2023,2023,2023,2023,2023,2023,2023,2023,2023,2023,2023,2023,2023,2023,2023,2023,2023,2023,2023,2023,2023,2023,2023,2023,2023,2023,2023,2023,2023,2023,2023,2023,2023,2023,2023,2023,2023,2023,2023,2023,2023,2023,2023,2023,2023,2023,2023,2023,2023,2023,2023,2023,2023,2023,2023,2023,2023,2023,2023,2023,2023,2023,2023,2023,2023,2023,2023,2023,2023,2023,2023,2023,2023,2023,2023,2023,2023,2023,2023,2023,2023,2023,2023,2023,2023,2023,2023,2023,2023,2023,2023,2023,2023,2023,2022,2023,2023,2023,2023,2023,2023,2023,2023,2023,2023,2023,2023,2023,2023,2023,2023,2023,2023,2023,2023,2023,2023,2023,2023,2023,2023,2023,2023,2023,2023,2023,2023,2023,2023,2022,2023,2023,2023,2023,2023,2023,2023,2023,2022,2022,2022,2022,2022,2022,2022,2022,2022,2022,2022,2022,2022,2022,2022,2022,2022,2022,2022,2022,2022,2022,2022,2022,2022,2022,2022,2022,2022,2022,2022,2022,2022,2022,2022,2022,2022,2022,2022,2022,2022,2022,2022,2022,2022,2022,2022,2022,2022,2022,2022,2022,2022,2022,2022,2022,2022,2022,2022,2022,2022,2022,2022,2022,2022,2022,2022,2022,2022,2022,2022,2022,2022,2022,2022,2022,2022,2022,2022,2022,2022,2022,2022,2022,2022,2022,2022,2022,2022,2022,2022,2022,2022,2022,2022,2022,2022,2022,2022,2022,2022,2022,2022,2022,2022,2022,2022,2022,2022,2022,2022,2022,2022,2022,2022,2022,2022,2022,2022,2022,2022,2022,2022,2022,2022,2022,2022,2022,2022,2022,2022,2022,2022,2022,2022,2022,2022,2022,2022,2022,2022,2022,2022,2022,2022,2022,2022,2022,2022,2022,2022,2022,2020,2022,2022,2022,2022,2022,2022,2022,2022,2022,2022,2022,2022,2022,2022,2022,2022,2022,2022,2021,2022,2022,2022,2022,2022,2022,2022,2022,2022,2022,2022,2022,2022,2022,2022,2022,2022,2022,2022,2022,2022,2022,2022,2022,2022,2022,2022,2022,2022,2022,2022,2022,2022,2022,2022,2022,2022,2022,2022,2022,2022,2022,2022,2022,2022,2022,2022,2022,2022,2022,2022,2022,2022,2022,2022,2022,2022,2022,2022,2022,2022,2022,2022,2022,2022,2022,2022,2022,2022,2022,2022,2022,2022,2022,2022,2022,2022,2022,2022,2022,2022,2022,2022,2022,2022,2022,2022,2022,2022,2022,2022,2022,2022,2022,2022,2022,2022,2022,2022,2022,2022,2022,2022,2022,2022,2022,2022,2022,2022,2022,2022,2022,2022,2022,2022,2022,2022,2022,2022,2022,2022,2022,2022,2022,2022,2022,2022,2022,2022,2022,2022,2022,2022,2022,2022,2022,2022,2022,2022,2022,2022,2022,2022,2022,2022,2022,2022,2022,2022,2022,2022,2022,2022,2022,2022,2022,2022,2022,2022,2022,2022,2022,2022,2022,2022,2022,2022,2022,2022,2022,2022,2022,2022,2022,2022,2022,2022,2022,2022,2022,2022,2022,2022,2022,2022,2022,2022,2022,2022,2022,2022,2022,2022,2022,2022,2022,2022,2022,2022,2022,2022,2022,2022,2022,2022,2022,2022,2022,2022,2022,2022,2022,2022,2022,2022,2022,2022,2022,2022,2022,2022,2022,2022,2022,2022,2022,2022,2022,2022,2022,2022,2022,2022,2022,2022,2022,2022,2022,2022,2022,2022,2022,2022,2022,2022,2022,2022,2022,2022,2022,2022,2022,2022,2022,2022,2022,2022,2022,2022,2022,2022,2022,2022,2022,2022,2022,2022,2022,2022,2022,2022,2022,2022,2022,2022,2022,2022,2022,2022,2022,2022,2022,2022,2022,2022,2022,2022,2022,2022,2022,2022,2022,2022,2022,2022,2022,2022,2022,2022,2022,2022,2022,2022,2022,2022,2022,2022,2022,2022,2022,2022,2022,2022,2022,2022,2022,2022,2022,2022,2022,2022,2022,2022,2022,2022,2022,2022,2022,2022,2022,2022,2022,2022,2022,2022,2022,2022,2022,2022,2022,2022,2022,2022,2022,2022,2022,2022,2022,2022,2022,2022,2022,2022,2022,2022,2022,2022,2022,2022,2022,2022,2022,2022,2022,2022,2022,2022,2022,2022,2022,2022,2022,2022,2022,2022,2022,2022,2022,2022,2022,2022,2022,2022,2022,2022,2022,2022,2022,2022,2022,2022,2022,2022,2022,2022,2022,2022,2022,2022,2022,2022,2022,2022,2022,2022,2022,2022,2022,2022,2022,2022,2022,2022,2022,2022,2022,2022,2022,2022,2022,2022,2022,2022,2022,2022,2022,2022,2022,2022,2022,2022,2022,2022,2022,2022,2022,2022,2022,2022,2022,2022,2022,2022,2022,2022,2022,2022,2022,2022,2022,2022,2022,2022,2022,2022,2022,2022,2022,2022,2022,2020,2022,2022,2022,2022,2022,2022,2022,2022,2022,2022,2022,2022,2022,2022,2022,2022,2022,2022,2022,2022,2022,2022,2022,2022,2022,2022,2022,2022,2022,2022,2022,2022,2022,2022,2022,2022,2022,2022,2022,2022,2022,2022,2022,2022,2022,2022,2022,2022,2022,2022,2022,2022,2022,2022,2022,2022,2022,2022,2022,2022,2022,2022,2022,2022,2022,2022,2022,2022,2022,2022,2020,2022,2021,2021,2022,2022,2021,2021,2022,2022,2021,2021,2021,2021,2020,2020,2021,2020,2020,2021,2020,2020,2021,2020,2021,2021,2021,2021,2021,2021,2021,2020,2020,2020,2021,2021,2021,2020,2021,2021,2021,2021,2021,2021,2021,2020,2021,2021,2021,2021],\"x0\":\" \",\"xaxis\":\"x\",\"y\":[222200,136000,219000,141000,147100,90700,213660,130760,147100,90700,170000,150000,275000,174000,225000,156400,200000,130000,90000,72000,253200,90700,342810,184590,162500,130000,105380,64500,204620,110680,270703,221484,189110,139000,258750,185000,238000,176000,309400,159100,115000,81500,280000,210000,65062,185900,129300,185000,140000,48289,38631,105000,70000,163196,145885,202800,104300,145000,65000,165000,132300,179170,94300,152500,116450,247300,133800,203000,133000,150000,120000,289800,214000,179820,143860,289800,214200,185900,129300,252000,129000,155000,140000,342300,176100,85000,65000,75000,70000,204500,138900,195000,160000,230000,143200,46178,42533,145000,115000,168400,105200,309400,159100,190000,150000,162500,130000,145000,120000,222200,136000,241000,155000,66837,54685,15000,160000,140000,300000,250000,228000,186000,190000,170000,230000,200000,220000,205000,180000,130000,215000,170000,247500,172200,224000,176000,75020,140000,120000,128000,81500,145000,115000,185000,140000,329500,269600,100000,80000,250000,162500,145000,100000,145000,115000,203500,152000,239000,122900,237000,145000,191765,134236,85000,65000,135000,105500,293000,185000,80000,70000,200000,148500,48289,38631,240500,123700,260000,136000,175000,110000,260000,136000,195000,160000,170000,135000,199000,162000,222200,136000,187000,128000,210000,136000,179000,109000,245000,180000,198800,105200,210000,155000,165000,140000,139000,106000,40663,275000,250500,159500,145000,115000,140000,120000,85000,65000,257000,147000,213660,130760,221000,147000,100000,80000,185900,129300,150000,130000,90000,75000,195895,102772,240000,183600,130000,80000,250000,150000,289076,202353,145000,120000,155000,106000,200000,160000,200000,145000,68000,48289,38631,85000,65000,125000,90000,179820,143860,135000,105500,155000,125000,241000,181000,252000,154000,180000,155000,191765,134236,155000,125000,80000,70000,146000,75000,170000,130000,125000,100000,135000,120000,171250,113750,222200,136000,260000,136000,153600,100500,182500,121500,203100,114500,72914,54685,252000,129000,258000,190000,170000,135000,167500,106500,195000,160000,146000,75000,223250,178600,353200,249300,230000,220000,317070,170730,128000,81500,21461,108000,60000,171250,113750,165000,132300,225000,175000,230000,124500,247500,172200,175000,145000,148700,125600,145000,115000,200000,150000,160000,120000,167500,106500,250000,200000,423834,185900,129300,145000,120000,143865,115092,130000,90000,208049,128500,179820,143860,167500,106500,149600,102000,145000,100000,153600,106800,96578,80481,128000,85000,151000,140000,220000,170000,135000,105500,7000,154000,143000,78990,51039,190000,120000,85066,51039,109371,72914,150000,111000,265000,235000,252000,129000,201036,134024,172000,115000,125000,90000,163800,126000,139500,109400,258000,190000,145000,120000,205600,105700,252000,129000,239748,159832,165000,132300,190000,126000,180180,106020,153600,100500,260000,225000,194500,115500,275000,160000,175000,120000,200000,175000,206000,130000,65000,48000,130000,87000,160000,112000,162500,130000,299500,245100,145000,100000,147100,90700,115100,73900,168400,105200,210000,160000,145000,100000,222200,136000,100000,85000,200000,145000,140000,95000,205000,140000,141288,94192,70000,55000,160000,147000,180180,106020,70000,250000,150000,139500,109400,105000,70000,150000,100000,146000,75000,185700,165000,169000,110600,139500,109400,59020,48289,195652,101228,136956,101228,252000,129000,163800,126000,247500,172200,239748,159832,163800,126000,128750,106250,252000,129000,299500,245100,155000,140000,167500,106500,123405,140000,120000,160000,135000,104500,70000,90000,70000,125000,90000,210550,153300,175000,145000,175000,148750,105000,85000,215000,146300,153400,122700,260000,175000,153400,122700,250000,175000,185900,121700,153600,106800,247500,172200,125000,110000,150000,100000,149076,82365,146000,75000,139500,109400,139500,109400,149600,102000,97218,48609,252000,129000,95000,85500,185900,121700,150000,100000,145000,125000,201000,122000,252000,129000,185900,129300,200000,125000,201000,122000,204500,142200,155000,140000,205920,171600,154000,116000,190000,136000,180000,110000,170000,140000,154000,116000,200000,120000,127599,103294,153600,106800,225000,156400,150000,120000,163800,126000,204500,142200,95000,85500,167500,106500,163800,126000,155000,140000,250000,200000,260000,186000,200000,150000,48289,38631,150000,120000,185000,125000,106000,220000,64385,204500,142200,200000,175000,185900,129300,185900,121700,204500,142200,180180,106020,125000,110000,153400,122700,152380,121904,185900,129300,247500,172200,168400,105200,128280,106900,140000,100000,275000,174000,139500,109400,139500,109400,72946,54365,160288,127467,80000,65000,124740,65488,72200,64980,153600,106800,120000,90000,51039,42533,149076,82365,169000,110600,175000,120000,230000,180000,153600,106800,140000,120000,205920,171600,265000,185000,130000,95000,85500,147100,90700,167580,87980,163800,126000,163800,126000,230000,148000,197000,106000,192000,172800,300240,200160,300240,200160,175000,140000,169000,100000,370000,245000,55000,48000,95000,85000,323300,184700,30000,190000,183310,299500,245100,148500,126277,228000,120000,180000,90000,126500,78000,180000,160000,272000,170000,80000,60000,200000,160000,155000,139500,109371,72914,247500,172200,225000,156400,139500,109400,125000,90000,185900,129300,139500,109400,169000,110600,120000,90000,72914,60761,204500,142200,140000,120000,85000,147100,90700,230000,170000,227000,108000,180000,130000,226700,133300,252000,129000,9727,80000,52500,153600,106800,165000,124000,167580,87980,253750,169200,253750,169200,170000,120000,124740,65488,12000,220000,170000,235000,210000,284310,153090,125000,105000,109371,85066,55000,48000,225900,156400,385000,60000,180180,106020,241871,133832,149076,82365,175000,148750,370000,200000,121523,97218,216100,140800,145828,121523,128000,81500,60761,54685,248100,145900,155850,102544,250000,162500,185000,120250,85000,70000,155000,140000,204500,142200,226700,133300,163800,126000,163800,126000,220000,150000,145000,115000,204500,138900,162500,130000,175000,110000,226700,133300,252000,129000,150000,125000,252000,129000,225000,156400,130000,100000,153600,106800,137500,81500,314100,195800,205000,180000,160000,100000,200000,145000,150000,100000,199000,112000,105000,70000,180180,106020,160000,135000,183000,134000,220000,150000,350000,262500,122000,94000,276000,184000,228000,152000,175000,145000,240000,170000,103200,61200,174500,113000,300000,119000,220000,195000,168400,105200,206000,160000,240500,123700,124234,74540,109000,79000,50000,170000,120000,225000,140000,141290,74178,150000,120000,220000,160000,120000,95000,185900,129300,250000,175000,80000,52500,125000,110000,90000,80000,200000,135000,130000,75000,252000,129000,150000,100000,226700,133300,190000,165000,150000,130000,225000,156400,6304,257000,134000,77262,38631,205600,105700,299500,245100,210000,151800,51508,40777,51508,40777,160000,135000,174500,113000,183310,183310,210000,185000,174500,113000,122000,94000,220000,146000,300000,130000,145000,128000,182000,140000,122000,94000,77262,38631,300000,200000,135000,105500,252000,129000,78990,43809,120000,95000,153400,122700,185000,160000,204500,142200,145000,87000,223800,172100,180000,150000,197000,106000,180000,145000,225000,200000,291500,180000,196200,150900,168400,105200,116000,72000,207000,167000,145000,135000,105000,70000,120000,80000,140000,100000,150000,120000,150000,100000,160000,110000,185900,129300,126100,72000,240500,137500,187500,165000,72914,210000,165750,109006,67141,275000,175000,175308,100706,235000,135000,310000,229000,289076,202353,69751,37558,226700,133300,125000,85000,120000,100000,199000,162000,160000,135000,200000,150000,160000,120000,250000,200000,150000,120000,150000,100000,133000,272550,198200,182000,140000,200000,160000,204500,142200,120000,105000,204500,142200,235000,185000,174500,113000,143100,113000,140000,120000,174500,113000,180560,115440,140000,120000,248100,145900,120000,110000,291500,180000,161800,141600,130000,150000,100000,261500,134500,130000,90000,160000,135000,175000,155000,153600,106800,150000,140000,122000,94500,170000,130000,145000,128000,145000,100000,175000,120000,145000,115000,150000,100000,260000,175000,220000,146000,150000,100000,56723,120000,95000,160000,135000,85000,65000,140000,120000,150000,110000,190000,155000,130000,115000,92350,67723,105000,70000,204500,142200,185900,129300,130000,75000,175000,120000,167500,106500,145000,100000,175000,120000,175000,120000,200000,145000,145000,100000,120000,95000,145000,135000,100000,78000,73546,36773,190000,150000,120000,95000,150000,100000,47280,37824,120000,95000,249500,149850,249500,149850,55000,48000,249500,149850,198800,122600,160000,135000,430967,55410,50432,39925,169000,110600,60938,166700,119000,124234,74540,68293,36773,110000,70000,120000,95000,150000,100000,47280,37824,128000,81500,192000,120000,120000,95000,165000,125000,130000,90000,230000,150000,153600,106800,180000,120000,160000,135000,152500,130000,178750,160000,165000,135000,105000,70000,130000,95000,203500,152000,197000,99000,110446,79178,70186,51716,95000,100000,78000,120000,95000,110000,70000,185900,129300,150000,100000,204500,142200,47280,37824,213000,152000,110000,70000,20000,64090,60938,175000,150000,165000,124000,178000,132000,300000,130000,169000,110600,92350,70186,105000,70000,100000,70000,189750,140250,130000,100000,160000,109000,250000,150000,206000,160000,135000,120000,160000,135000,150000,100000,120000,95000,68293,42026,191200,130000,191200,130000,230000,154600,120000,95000,140000,120000,169000,110600,185900,129300,135000,110000,155000,140000,179500,134000,180000,120000,185900,129300,68293,36773,145000,115000,165000,135000,168400,105200,200000,160000,47280,37824,198800,122600,130000,100000,104663,73880,165000,124000,150000,100000,160000,135000,120000,95000,153600,106800,100000,65000,120000,95000,63040,36773,299500,245100,185900,129300,247500,172200,68293,177000,131000,146000,102000,169000,110600,135000,100000,80000,65000,135000,100000,80000,204500,142200,185900,129300,47280,37824,204500,142200,185900,129300,247500,172200,160000,135000,150000,100000,110000,95000,185900,129300,191200,130000,225000,156400,169000,110600,204500,142200,104663,80036,185900,129300,140700,93800,201000,119000,154560,123648,130000,100000,170000,145000,247500,172200,185900,129300,130000,105000,206000,160000,109000,79000,160000,109000,247500,172200,225000,184100,130000,90000,47280,37824,205000,160000,169000,110600,160000,130000,245000,180000,135000,100000,220000,150000,198440,144000,240000,170000,198440,144000,120000,95000,150000,127000,159699,138938,166700,119000,130000,100000,103432,92350,80000,52500,225000,156400,204500,142200,300000,130000,155000,110000,123000,92250,170000,150000,200000,160000,260000,180000,80000,52500,128000,81500,105000,70000,175000,122500,171000,117000,202800,104300,50432,36773,197000,99000,160000,110000,185900,129300,170000,130000,150000,95000,345600,230400,145000,115000,205600,105700,185900,129300,169000,110600,225000,184100,185900,129300,225000,156400,185900,129300,108000,85000,65000,110820,92350,185900,129300,123400,88100,185900,129300,191200,130000,169000,110600,150000,120000,139000,122000,185900,129300,139600,85700,185900,129300,225000,156400,185900,129300,47280,37824,134000,98000,105000,62000,83171,73546,42026,300000,225000,50432,36773,198440,144000,126080,84053,140000,110000,10000,229998,154545,215000,159000,229998,154545,218000,145300,110000,99000,195700,130500,141300,102100,50432,36773,108000,179400,154000,193900,129300,222640,182160,150000,100000,93000,73000,134000,98000,215000,164000,300000,130000,151800,130240,135000,115000,75000,191475,141525,115000,204100,136100,250000,63000,118208,110820,113000,175000,140000,250000,63000,160000,119300,105000,90000,225000,160000,245000,180000,203500,152000,250000,63000,82000,203500,152000,216200,144100,115573,89306,250000,63000,189650,164996,195700,130500,98506,73880,193900,129300,86193,61566,188100,139860,248700,167100,123400,88100,245000,205000,141300,102100,141300,102100,250000,63000,24000,24000,250000,63000,193900,129300,216200,144100,216000,144000,84053,260500,175100,206699,99100,200000,54000,250000,63000,250000,63000,250000,63000,100000,80000,160000,100000,91118,61566,249260,185400,135446,104663,160000,119300,15000,83000,186000,148800,112900,90320,240000,160000,116976,92350,120000,49268,110820,92350,115934,81666,164000,132000,189650,164996,52533,52533,189650,164996,215300,140400,67723,43096,82900,63900,180000,80000,58000,58000,136000,108800,61566,36940,73880,49253,181940,132320,220110,160080,180000,120000,126500,106260,116000,99000,130000,90000,110820,98506,73880,61566,160000,113000,150000,95550,205300,140400,70500,54000,205300,140400,205300,184700,85000,75000,141300,102100,206699,99100,61566,43096,67000,52000,129000,99000,172386,86193,20000,61989,150000,240000,120402,20000,220000,100000,84053,125000,9466,110037,250000,85000,450000,50180,276000,6072,33511,12103,115000,260000,110000,79833,100000,76833,111775,93150,66265,141846,135000,51321,40481,39916,26005,22611,33808,98000,120000,20000,12901,165000,5882,18000,18907,91237,75000,62000,73000,168000],\"y0\":\" \",\"yaxis\":\"y\",\"type\":\"box\"},{\"alignmentgroup\":\"True\",\"hovertemplate\":\"job_type=Hybrid<br>work_year=%{x}<br>salary_in_usd=%{y}<extra></extra>\",\"legendgroup\":\"Hybrid\",\"marker\":{\"color\":\"#00cc96\"},\"name\":\"Hybrid\",\"notched\":false,\"offsetgroup\":\"Hybrid\",\"orientation\":\"v\",\"showlegend\":true,\"x\":[2022,2022,2023,2023,2023,2023,2023,2023,2023,2023,2023,2023,2023,2023,2023,2023,2023,2023,2023,2023,2023,2023,2023,2021,2023,2023,2022,2023,2022,2023,2023,2023,2023,2023,2023,2022,2022,2022,2022,2022,2022,2021,2022,2022,2022,2022,2022,2022,2021,2022,2022,2022,2022,2022,2022,2022,2022,2021,2021,2022,2022,2022,2022,2021,2022,2022,2022,2021,2022,2021,2022,2022,2022,2021,2022,2022,2022,2022,2022,2022,2022,2022,2022,2021,2022,2022,2022,2022,2022,2022,2022,2022,2021,2020,2022,2022,2022,2022,2021,2022,2022,2022,2021,2021,2021,2022,2022,2022,2021,2021,2021,2021,2021,2021,2021,2021,2021,2021,2021,2021,2020,2020,2021,2021,2021,2021,2020,2021,2021,2020,2021,2021,2020,2021,2021,2021,2021,2020,2021,2021,2021,2021,2021,2020,2020,2021,2020,2021,2021,2021,2021,2021,2021,2020,2021,2021,2021,2021,2021,2020,2021,2021,2021,2021,2021,2020,2020,2021,2021,2020,2021,2021,2021,2020,2020,2020,2021,2020,2020,2021,2021,2021,2021,2021,2020,2021,2021,2021,2021],\"x0\":\" \",\"xaxis\":\"x\",\"y\":[20984,300000,220000,105000,53654,50000,135000,42923,121093,80000,18238,64385,50000,30000,40000,29453,38631,50000,100000,110000,125686,100000,12767,66970,63312,60795,84053,12888,48000,120000,12877,17509,53654,24740,219000,18314,24165,10000,35610,10000,50000,16904,200000,50000,105236,66192,27317,105066,45555,375000,89306,57872,39925,76000,125404,165000,33246,5409,75050,161311,108000,125976,45050,42028,20000,22892,63040,20000,57786,45390,73546,50000,31520,19073,7500,29944,145000,95386,128058,173000,61566,115000,50000,250000,52008,130000,28368,80036,25000,65257,65666,76309,51064,117104,192037,55685,52533,69133,109000,89306,83171,153000,69999,77364,63711,100000,144000,100000,49646,40570,120000,10354,60000,100000,82744,62649,55000,130026,63831,230000,46759,74130,127221,5409,54238,82528,250000,59102,53192,79833,94564,51519,112872,36259,89294,29751,60757,70139,96282,36643,72212,99703,21637,42000,109024,185000,150000,20171,58000,77684,65013,160000,63831,35735,24823,54094,147000,96113,21844,125000,90734,81000,61467,56256,116914,8000,5707,28609,88654,47899,66022,56738,24823,45896,42197,62726,90734,21669,120000,61896,12000,76833,74000,130000,62726,115000,423000,28369,94665],\"y0\":\" \",\"yaxis\":\"y\",\"type\":\"box\"}],                        {\"template\":{\"data\":{\"histogram2dcontour\":[{\"type\":\"histogram2dcontour\",\"colorbar\":{\"outlinewidth\":0,\"ticks\":\"\"},\"colorscale\":[[0.0,\"#0d0887\"],[0.1111111111111111,\"#46039f\"],[0.2222222222222222,\"#7201a8\"],[0.3333333333333333,\"#9c179e\"],[0.4444444444444444,\"#bd3786\"],[0.5555555555555556,\"#d8576b\"],[0.6666666666666666,\"#ed7953\"],[0.7777777777777778,\"#fb9f3a\"],[0.8888888888888888,\"#fdca26\"],[1.0,\"#f0f921\"]]}],\"choropleth\":[{\"type\":\"choropleth\",\"colorbar\":{\"outlinewidth\":0,\"ticks\":\"\"}}],\"histogram2d\":[{\"type\":\"histogram2d\",\"colorbar\":{\"outlinewidth\":0,\"ticks\":\"\"},\"colorscale\":[[0.0,\"#0d0887\"],[0.1111111111111111,\"#46039f\"],[0.2222222222222222,\"#7201a8\"],[0.3333333333333333,\"#9c179e\"],[0.4444444444444444,\"#bd3786\"],[0.5555555555555556,\"#d8576b\"],[0.6666666666666666,\"#ed7953\"],[0.7777777777777778,\"#fb9f3a\"],[0.8888888888888888,\"#fdca26\"],[1.0,\"#f0f921\"]]}],\"heatmap\":[{\"type\":\"heatmap\",\"colorbar\":{\"outlinewidth\":0,\"ticks\":\"\"},\"colorscale\":[[0.0,\"#0d0887\"],[0.1111111111111111,\"#46039f\"],[0.2222222222222222,\"#7201a8\"],[0.3333333333333333,\"#9c179e\"],[0.4444444444444444,\"#bd3786\"],[0.5555555555555556,\"#d8576b\"],[0.6666666666666666,\"#ed7953\"],[0.7777777777777778,\"#fb9f3a\"],[0.8888888888888888,\"#fdca26\"],[1.0,\"#f0f921\"]]}],\"heatmapgl\":[{\"type\":\"heatmapgl\",\"colorbar\":{\"outlinewidth\":0,\"ticks\":\"\"},\"colorscale\":[[0.0,\"#0d0887\"],[0.1111111111111111,\"#46039f\"],[0.2222222222222222,\"#7201a8\"],[0.3333333333333333,\"#9c179e\"],[0.4444444444444444,\"#bd3786\"],[0.5555555555555556,\"#d8576b\"],[0.6666666666666666,\"#ed7953\"],[0.7777777777777778,\"#fb9f3a\"],[0.8888888888888888,\"#fdca26\"],[1.0,\"#f0f921\"]]}],\"contourcarpet\":[{\"type\":\"contourcarpet\",\"colorbar\":{\"outlinewidth\":0,\"ticks\":\"\"}}],\"contour\":[{\"type\":\"contour\",\"colorbar\":{\"outlinewidth\":0,\"ticks\":\"\"},\"colorscale\":[[0.0,\"#0d0887\"],[0.1111111111111111,\"#46039f\"],[0.2222222222222222,\"#7201a8\"],[0.3333333333333333,\"#9c179e\"],[0.4444444444444444,\"#bd3786\"],[0.5555555555555556,\"#d8576b\"],[0.6666666666666666,\"#ed7953\"],[0.7777777777777778,\"#fb9f3a\"],[0.8888888888888888,\"#fdca26\"],[1.0,\"#f0f921\"]]}],\"surface\":[{\"type\":\"surface\",\"colorbar\":{\"outlinewidth\":0,\"ticks\":\"\"},\"colorscale\":[[0.0,\"#0d0887\"],[0.1111111111111111,\"#46039f\"],[0.2222222222222222,\"#7201a8\"],[0.3333333333333333,\"#9c179e\"],[0.4444444444444444,\"#bd3786\"],[0.5555555555555556,\"#d8576b\"],[0.6666666666666666,\"#ed7953\"],[0.7777777777777778,\"#fb9f3a\"],[0.8888888888888888,\"#fdca26\"],[1.0,\"#f0f921\"]]}],\"mesh3d\":[{\"type\":\"mesh3d\",\"colorbar\":{\"outlinewidth\":0,\"ticks\":\"\"}}],\"scatter\":[{\"fillpattern\":{\"fillmode\":\"overlay\",\"size\":10,\"solidity\":0.2},\"type\":\"scatter\"}],\"parcoords\":[{\"type\":\"parcoords\",\"line\":{\"colorbar\":{\"outlinewidth\":0,\"ticks\":\"\"}}}],\"scatterpolargl\":[{\"type\":\"scatterpolargl\",\"marker\":{\"colorbar\":{\"outlinewidth\":0,\"ticks\":\"\"}}}],\"bar\":[{\"error_x\":{\"color\":\"#2a3f5f\"},\"error_y\":{\"color\":\"#2a3f5f\"},\"marker\":{\"line\":{\"color\":\"#E5ECF6\",\"width\":0.5},\"pattern\":{\"fillmode\":\"overlay\",\"size\":10,\"solidity\":0.2}},\"type\":\"bar\"}],\"scattergeo\":[{\"type\":\"scattergeo\",\"marker\":{\"colorbar\":{\"outlinewidth\":0,\"ticks\":\"\"}}}],\"scatterpolar\":[{\"type\":\"scatterpolar\",\"marker\":{\"colorbar\":{\"outlinewidth\":0,\"ticks\":\"\"}}}],\"histogram\":[{\"marker\":{\"pattern\":{\"fillmode\":\"overlay\",\"size\":10,\"solidity\":0.2}},\"type\":\"histogram\"}],\"scattergl\":[{\"type\":\"scattergl\",\"marker\":{\"colorbar\":{\"outlinewidth\":0,\"ticks\":\"\"}}}],\"scatter3d\":[{\"type\":\"scatter3d\",\"line\":{\"colorbar\":{\"outlinewidth\":0,\"ticks\":\"\"}},\"marker\":{\"colorbar\":{\"outlinewidth\":0,\"ticks\":\"\"}}}],\"scattermapbox\":[{\"type\":\"scattermapbox\",\"marker\":{\"colorbar\":{\"outlinewidth\":0,\"ticks\":\"\"}}}],\"scatterternary\":[{\"type\":\"scatterternary\",\"marker\":{\"colorbar\":{\"outlinewidth\":0,\"ticks\":\"\"}}}],\"scattercarpet\":[{\"type\":\"scattercarpet\",\"marker\":{\"colorbar\":{\"outlinewidth\":0,\"ticks\":\"\"}}}],\"carpet\":[{\"aaxis\":{\"endlinecolor\":\"#2a3f5f\",\"gridcolor\":\"white\",\"linecolor\":\"white\",\"minorgridcolor\":\"white\",\"startlinecolor\":\"#2a3f5f\"},\"baxis\":{\"endlinecolor\":\"#2a3f5f\",\"gridcolor\":\"white\",\"linecolor\":\"white\",\"minorgridcolor\":\"white\",\"startlinecolor\":\"#2a3f5f\"},\"type\":\"carpet\"}],\"table\":[{\"cells\":{\"fill\":{\"color\":\"#EBF0F8\"},\"line\":{\"color\":\"white\"}},\"header\":{\"fill\":{\"color\":\"#C8D4E3\"},\"line\":{\"color\":\"white\"}},\"type\":\"table\"}],\"barpolar\":[{\"marker\":{\"line\":{\"color\":\"#E5ECF6\",\"width\":0.5},\"pattern\":{\"fillmode\":\"overlay\",\"size\":10,\"solidity\":0.2}},\"type\":\"barpolar\"}],\"pie\":[{\"automargin\":true,\"type\":\"pie\"}]},\"layout\":{\"autotypenumbers\":\"strict\",\"colorway\":[\"#636efa\",\"#EF553B\",\"#00cc96\",\"#ab63fa\",\"#FFA15A\",\"#19d3f3\",\"#FF6692\",\"#B6E880\",\"#FF97FF\",\"#FECB52\"],\"font\":{\"color\":\"#2a3f5f\"},\"hovermode\":\"closest\",\"hoverlabel\":{\"align\":\"left\"},\"paper_bgcolor\":\"white\",\"plot_bgcolor\":\"#E5ECF6\",\"polar\":{\"bgcolor\":\"#E5ECF6\",\"angularaxis\":{\"gridcolor\":\"white\",\"linecolor\":\"white\",\"ticks\":\"\"},\"radialaxis\":{\"gridcolor\":\"white\",\"linecolor\":\"white\",\"ticks\":\"\"}},\"ternary\":{\"bgcolor\":\"#E5ECF6\",\"aaxis\":{\"gridcolor\":\"white\",\"linecolor\":\"white\",\"ticks\":\"\"},\"baxis\":{\"gridcolor\":\"white\",\"linecolor\":\"white\",\"ticks\":\"\"},\"caxis\":{\"gridcolor\":\"white\",\"linecolor\":\"white\",\"ticks\":\"\"}},\"coloraxis\":{\"colorbar\":{\"outlinewidth\":0,\"ticks\":\"\"}},\"colorscale\":{\"sequential\":[[0.0,\"#0d0887\"],[0.1111111111111111,\"#46039f\"],[0.2222222222222222,\"#7201a8\"],[0.3333333333333333,\"#9c179e\"],[0.4444444444444444,\"#bd3786\"],[0.5555555555555556,\"#d8576b\"],[0.6666666666666666,\"#ed7953\"],[0.7777777777777778,\"#fb9f3a\"],[0.8888888888888888,\"#fdca26\"],[1.0,\"#f0f921\"]],\"sequentialminus\":[[0.0,\"#0d0887\"],[0.1111111111111111,\"#46039f\"],[0.2222222222222222,\"#7201a8\"],[0.3333333333333333,\"#9c179e\"],[0.4444444444444444,\"#bd3786\"],[0.5555555555555556,\"#d8576b\"],[0.6666666666666666,\"#ed7953\"],[0.7777777777777778,\"#fb9f3a\"],[0.8888888888888888,\"#fdca26\"],[1.0,\"#f0f921\"]],\"diverging\":[[0,\"#8e0152\"],[0.1,\"#c51b7d\"],[0.2,\"#de77ae\"],[0.3,\"#f1b6da\"],[0.4,\"#fde0ef\"],[0.5,\"#f7f7f7\"],[0.6,\"#e6f5d0\"],[0.7,\"#b8e186\"],[0.8,\"#7fbc41\"],[0.9,\"#4d9221\"],[1,\"#276419\"]]},\"xaxis\":{\"gridcolor\":\"white\",\"linecolor\":\"white\",\"ticks\":\"\",\"title\":{\"standoff\":15},\"zerolinecolor\":\"white\",\"automargin\":true,\"zerolinewidth\":2},\"yaxis\":{\"gridcolor\":\"white\",\"linecolor\":\"white\",\"ticks\":\"\",\"title\":{\"standoff\":15},\"zerolinecolor\":\"white\",\"automargin\":true,\"zerolinewidth\":2},\"scene\":{\"xaxis\":{\"backgroundcolor\":\"#E5ECF6\",\"gridcolor\":\"white\",\"linecolor\":\"white\",\"showbackground\":true,\"ticks\":\"\",\"zerolinecolor\":\"white\",\"gridwidth\":2},\"yaxis\":{\"backgroundcolor\":\"#E5ECF6\",\"gridcolor\":\"white\",\"linecolor\":\"white\",\"showbackground\":true,\"ticks\":\"\",\"zerolinecolor\":\"white\",\"gridwidth\":2},\"zaxis\":{\"backgroundcolor\":\"#E5ECF6\",\"gridcolor\":\"white\",\"linecolor\":\"white\",\"showbackground\":true,\"ticks\":\"\",\"zerolinecolor\":\"white\",\"gridwidth\":2}},\"shapedefaults\":{\"line\":{\"color\":\"#2a3f5f\"}},\"annotationdefaults\":{\"arrowcolor\":\"#2a3f5f\",\"arrowhead\":0,\"arrowwidth\":1},\"geo\":{\"bgcolor\":\"white\",\"landcolor\":\"#E5ECF6\",\"subunitcolor\":\"white\",\"showland\":true,\"showlakes\":true,\"lakecolor\":\"white\"},\"title\":{\"x\":0.05},\"mapbox\":{\"style\":\"light\"}}},\"xaxis\":{\"anchor\":\"y\",\"domain\":[0.0,1.0],\"title\":{\"text\":\"work_year\"}},\"yaxis\":{\"anchor\":\"x\",\"domain\":[0.0,1.0],\"title\":{\"text\":\"salary_in_usd\"}},\"legend\":{\"title\":{\"text\":\"job_type\"},\"tracegroupgap\":0},\"title\":{\"text\":\"Distribution of Salaries over the Job Types with Year\"},\"boxmode\":\"group\"},                        {\"responsive\": true}                    ).then(function(){\n",
              "                            \n",
              "var gd = document.getElementById('7f5cab04-b60d-4cf2-94c0-b9e23afa43ca');\n",
              "var x = new MutationObserver(function (mutations, observer) {{\n",
              "        var display = window.getComputedStyle(gd).display;\n",
              "        if (!display || display === 'none') {{\n",
              "            console.log([gd, 'removed!']);\n",
              "            Plotly.purge(gd);\n",
              "            observer.disconnect();\n",
              "        }}\n",
              "}});\n",
              "\n",
              "// Listen for the removal of the full notebook cells\n",
              "var notebookContainer = gd.closest('#notebook-container');\n",
              "if (notebookContainer) {{\n",
              "    x.observe(notebookContainer, {childList: true});\n",
              "}}\n",
              "\n",
              "// Listen for the clearing of the current output cell\n",
              "var outputEl = gd.closest('.output');\n",
              "if (outputEl) {{\n",
              "    x.observe(outputEl, {childList: true});\n",
              "}}\n",
              "\n",
              "                        })                };                            </script>        </div>\n",
              "</body>\n",
              "</html>"
            ]
          },
          "metadata": {}
        }
      ]
    },
    {
      "cell_type": "markdown",
      "source": [
        "In the year 2020, as a result of the pandemic, a significant number of individuals were working remotely or in a hybrid mode. Consequently, the median salary for both remote and hybrid job types was higher compared to on-site positions. However, the median salary for on-site workers gradually increased over time and nearly equaled that of remote workers in 2022. By 2023, the median salary for on-site workers slightly surpassed that of remote workers.\n",
        "It is worth noting that both on-site and remote job types exhibit a wide distribution of salaries, indicating substantial variation. In contrast, individuals working in a hybrid mode experienced less variation in their salaries."
      ],
      "metadata": {
        "id": "UN4-PXO3KgC_"
      }
    },
    {
      "cell_type": "markdown",
      "source": [
        "# What is the percentage of remote workers who are classified as foreign?"
      ],
      "metadata": {
        "id": "-A1xUbWXK1jS"
      }
    },
    {
      "cell_type": "code",
      "source": [
        "df['foreign_employee'].value_counts()/len(df['foreign_employee'])\n"
      ],
      "metadata": {
        "id": "byX7wS66K7_k",
        "colab": {
          "base_uri": "https://localhost:8080/"
        },
        "outputId": "874ef35b-ac2a-4170-f9c4-f45268cf6cca"
      },
      "execution_count": null,
      "outputs": [
        {
          "output_type": "execute_result",
          "data": {
            "text/plain": [
              "No     0.974434\n",
              "Yes    0.025566\n",
              "Name: foreign_employee, dtype: float64"
            ]
          },
          "metadata": {},
          "execution_count": 218
        }
      ]
    },
    {
      "cell_type": "code",
      "source": [
        "px.pie(values=df['foreign_employee'].value_counts(),\n",
        "       names=df['foreign_employee'].value_counts().index,\n",
        "      title='Proportion of Foreign Employees')\n"
      ],
      "metadata": {
        "id": "6EzbE7fGLRvu",
        "colab": {
          "base_uri": "https://localhost:8080/",
          "height": 542
        },
        "outputId": "c3b0b559-e5be-47a5-e6a4-10a9ed480cdb"
      },
      "execution_count": null,
      "outputs": [
        {
          "output_type": "display_data",
          "data": {
            "text/html": [
              "<html>\n",
              "<head><meta charset=\"utf-8\" /></head>\n",
              "<body>\n",
              "    <div>            <script src=\"https://cdnjs.cloudflare.com/ajax/libs/mathjax/2.7.5/MathJax.js?config=TeX-AMS-MML_SVG\"></script><script type=\"text/javascript\">if (window.MathJax && window.MathJax.Hub && window.MathJax.Hub.Config) {window.MathJax.Hub.Config({SVG: {font: \"STIX-Web\"}});}</script>                <script type=\"text/javascript\">window.PlotlyConfig = {MathJaxConfig: 'local'};</script>\n",
              "        <script src=\"https://cdn.plot.ly/plotly-2.18.2.min.js\"></script>                <div id=\"966286b5-7462-44da-a26d-dce2f196aa7b\" class=\"plotly-graph-div\" style=\"height:525px; width:100%;\"></div>            <script type=\"text/javascript\">                                    window.PLOTLYENV=window.PLOTLYENV || {};                                    if (document.getElementById(\"966286b5-7462-44da-a26d-dce2f196aa7b\")) {                    Plotly.newPlot(                        \"966286b5-7462-44da-a26d-dce2f196aa7b\",                        [{\"domain\":{\"x\":[0.0,1.0],\"y\":[0.0,1.0]},\"hovertemplate\":\"label=%{label}<br>value=%{value}<extra></extra>\",\"labels\":[\"No\",\"Yes\"],\"legendgroup\":\"\",\"name\":\"\",\"showlegend\":true,\"values\":[3659,96],\"type\":\"pie\"}],                        {\"template\":{\"data\":{\"histogram2dcontour\":[{\"type\":\"histogram2dcontour\",\"colorbar\":{\"outlinewidth\":0,\"ticks\":\"\"},\"colorscale\":[[0.0,\"#0d0887\"],[0.1111111111111111,\"#46039f\"],[0.2222222222222222,\"#7201a8\"],[0.3333333333333333,\"#9c179e\"],[0.4444444444444444,\"#bd3786\"],[0.5555555555555556,\"#d8576b\"],[0.6666666666666666,\"#ed7953\"],[0.7777777777777778,\"#fb9f3a\"],[0.8888888888888888,\"#fdca26\"],[1.0,\"#f0f921\"]]}],\"choropleth\":[{\"type\":\"choropleth\",\"colorbar\":{\"outlinewidth\":0,\"ticks\":\"\"}}],\"histogram2d\":[{\"type\":\"histogram2d\",\"colorbar\":{\"outlinewidth\":0,\"ticks\":\"\"},\"colorscale\":[[0.0,\"#0d0887\"],[0.1111111111111111,\"#46039f\"],[0.2222222222222222,\"#7201a8\"],[0.3333333333333333,\"#9c179e\"],[0.4444444444444444,\"#bd3786\"],[0.5555555555555556,\"#d8576b\"],[0.6666666666666666,\"#ed7953\"],[0.7777777777777778,\"#fb9f3a\"],[0.8888888888888888,\"#fdca26\"],[1.0,\"#f0f921\"]]}],\"heatmap\":[{\"type\":\"heatmap\",\"colorbar\":{\"outlinewidth\":0,\"ticks\":\"\"},\"colorscale\":[[0.0,\"#0d0887\"],[0.1111111111111111,\"#46039f\"],[0.2222222222222222,\"#7201a8\"],[0.3333333333333333,\"#9c179e\"],[0.4444444444444444,\"#bd3786\"],[0.5555555555555556,\"#d8576b\"],[0.6666666666666666,\"#ed7953\"],[0.7777777777777778,\"#fb9f3a\"],[0.8888888888888888,\"#fdca26\"],[1.0,\"#f0f921\"]]}],\"heatmapgl\":[{\"type\":\"heatmapgl\",\"colorbar\":{\"outlinewidth\":0,\"ticks\":\"\"},\"colorscale\":[[0.0,\"#0d0887\"],[0.1111111111111111,\"#46039f\"],[0.2222222222222222,\"#7201a8\"],[0.3333333333333333,\"#9c179e\"],[0.4444444444444444,\"#bd3786\"],[0.5555555555555556,\"#d8576b\"],[0.6666666666666666,\"#ed7953\"],[0.7777777777777778,\"#fb9f3a\"],[0.8888888888888888,\"#fdca26\"],[1.0,\"#f0f921\"]]}],\"contourcarpet\":[{\"type\":\"contourcarpet\",\"colorbar\":{\"outlinewidth\":0,\"ticks\":\"\"}}],\"contour\":[{\"type\":\"contour\",\"colorbar\":{\"outlinewidth\":0,\"ticks\":\"\"},\"colorscale\":[[0.0,\"#0d0887\"],[0.1111111111111111,\"#46039f\"],[0.2222222222222222,\"#7201a8\"],[0.3333333333333333,\"#9c179e\"],[0.4444444444444444,\"#bd3786\"],[0.5555555555555556,\"#d8576b\"],[0.6666666666666666,\"#ed7953\"],[0.7777777777777778,\"#fb9f3a\"],[0.8888888888888888,\"#fdca26\"],[1.0,\"#f0f921\"]]}],\"surface\":[{\"type\":\"surface\",\"colorbar\":{\"outlinewidth\":0,\"ticks\":\"\"},\"colorscale\":[[0.0,\"#0d0887\"],[0.1111111111111111,\"#46039f\"],[0.2222222222222222,\"#7201a8\"],[0.3333333333333333,\"#9c179e\"],[0.4444444444444444,\"#bd3786\"],[0.5555555555555556,\"#d8576b\"],[0.6666666666666666,\"#ed7953\"],[0.7777777777777778,\"#fb9f3a\"],[0.8888888888888888,\"#fdca26\"],[1.0,\"#f0f921\"]]}],\"mesh3d\":[{\"type\":\"mesh3d\",\"colorbar\":{\"outlinewidth\":0,\"ticks\":\"\"}}],\"scatter\":[{\"fillpattern\":{\"fillmode\":\"overlay\",\"size\":10,\"solidity\":0.2},\"type\":\"scatter\"}],\"parcoords\":[{\"type\":\"parcoords\",\"line\":{\"colorbar\":{\"outlinewidth\":0,\"ticks\":\"\"}}}],\"scatterpolargl\":[{\"type\":\"scatterpolargl\",\"marker\":{\"colorbar\":{\"outlinewidth\":0,\"ticks\":\"\"}}}],\"bar\":[{\"error_x\":{\"color\":\"#2a3f5f\"},\"error_y\":{\"color\":\"#2a3f5f\"},\"marker\":{\"line\":{\"color\":\"#E5ECF6\",\"width\":0.5},\"pattern\":{\"fillmode\":\"overlay\",\"size\":10,\"solidity\":0.2}},\"type\":\"bar\"}],\"scattergeo\":[{\"type\":\"scattergeo\",\"marker\":{\"colorbar\":{\"outlinewidth\":0,\"ticks\":\"\"}}}],\"scatterpolar\":[{\"type\":\"scatterpolar\",\"marker\":{\"colorbar\":{\"outlinewidth\":0,\"ticks\":\"\"}}}],\"histogram\":[{\"marker\":{\"pattern\":{\"fillmode\":\"overlay\",\"size\":10,\"solidity\":0.2}},\"type\":\"histogram\"}],\"scattergl\":[{\"type\":\"scattergl\",\"marker\":{\"colorbar\":{\"outlinewidth\":0,\"ticks\":\"\"}}}],\"scatter3d\":[{\"type\":\"scatter3d\",\"line\":{\"colorbar\":{\"outlinewidth\":0,\"ticks\":\"\"}},\"marker\":{\"colorbar\":{\"outlinewidth\":0,\"ticks\":\"\"}}}],\"scattermapbox\":[{\"type\":\"scattermapbox\",\"marker\":{\"colorbar\":{\"outlinewidth\":0,\"ticks\":\"\"}}}],\"scatterternary\":[{\"type\":\"scatterternary\",\"marker\":{\"colorbar\":{\"outlinewidth\":0,\"ticks\":\"\"}}}],\"scattercarpet\":[{\"type\":\"scattercarpet\",\"marker\":{\"colorbar\":{\"outlinewidth\":0,\"ticks\":\"\"}}}],\"carpet\":[{\"aaxis\":{\"endlinecolor\":\"#2a3f5f\",\"gridcolor\":\"white\",\"linecolor\":\"white\",\"minorgridcolor\":\"white\",\"startlinecolor\":\"#2a3f5f\"},\"baxis\":{\"endlinecolor\":\"#2a3f5f\",\"gridcolor\":\"white\",\"linecolor\":\"white\",\"minorgridcolor\":\"white\",\"startlinecolor\":\"#2a3f5f\"},\"type\":\"carpet\"}],\"table\":[{\"cells\":{\"fill\":{\"color\":\"#EBF0F8\"},\"line\":{\"color\":\"white\"}},\"header\":{\"fill\":{\"color\":\"#C8D4E3\"},\"line\":{\"color\":\"white\"}},\"type\":\"table\"}],\"barpolar\":[{\"marker\":{\"line\":{\"color\":\"#E5ECF6\",\"width\":0.5},\"pattern\":{\"fillmode\":\"overlay\",\"size\":10,\"solidity\":0.2}},\"type\":\"barpolar\"}],\"pie\":[{\"automargin\":true,\"type\":\"pie\"}]},\"layout\":{\"autotypenumbers\":\"strict\",\"colorway\":[\"#636efa\",\"#EF553B\",\"#00cc96\",\"#ab63fa\",\"#FFA15A\",\"#19d3f3\",\"#FF6692\",\"#B6E880\",\"#FF97FF\",\"#FECB52\"],\"font\":{\"color\":\"#2a3f5f\"},\"hovermode\":\"closest\",\"hoverlabel\":{\"align\":\"left\"},\"paper_bgcolor\":\"white\",\"plot_bgcolor\":\"#E5ECF6\",\"polar\":{\"bgcolor\":\"#E5ECF6\",\"angularaxis\":{\"gridcolor\":\"white\",\"linecolor\":\"white\",\"ticks\":\"\"},\"radialaxis\":{\"gridcolor\":\"white\",\"linecolor\":\"white\",\"ticks\":\"\"}},\"ternary\":{\"bgcolor\":\"#E5ECF6\",\"aaxis\":{\"gridcolor\":\"white\",\"linecolor\":\"white\",\"ticks\":\"\"},\"baxis\":{\"gridcolor\":\"white\",\"linecolor\":\"white\",\"ticks\":\"\"},\"caxis\":{\"gridcolor\":\"white\",\"linecolor\":\"white\",\"ticks\":\"\"}},\"coloraxis\":{\"colorbar\":{\"outlinewidth\":0,\"ticks\":\"\"}},\"colorscale\":{\"sequential\":[[0.0,\"#0d0887\"],[0.1111111111111111,\"#46039f\"],[0.2222222222222222,\"#7201a8\"],[0.3333333333333333,\"#9c179e\"],[0.4444444444444444,\"#bd3786\"],[0.5555555555555556,\"#d8576b\"],[0.6666666666666666,\"#ed7953\"],[0.7777777777777778,\"#fb9f3a\"],[0.8888888888888888,\"#fdca26\"],[1.0,\"#f0f921\"]],\"sequentialminus\":[[0.0,\"#0d0887\"],[0.1111111111111111,\"#46039f\"],[0.2222222222222222,\"#7201a8\"],[0.3333333333333333,\"#9c179e\"],[0.4444444444444444,\"#bd3786\"],[0.5555555555555556,\"#d8576b\"],[0.6666666666666666,\"#ed7953\"],[0.7777777777777778,\"#fb9f3a\"],[0.8888888888888888,\"#fdca26\"],[1.0,\"#f0f921\"]],\"diverging\":[[0,\"#8e0152\"],[0.1,\"#c51b7d\"],[0.2,\"#de77ae\"],[0.3,\"#f1b6da\"],[0.4,\"#fde0ef\"],[0.5,\"#f7f7f7\"],[0.6,\"#e6f5d0\"],[0.7,\"#b8e186\"],[0.8,\"#7fbc41\"],[0.9,\"#4d9221\"],[1,\"#276419\"]]},\"xaxis\":{\"gridcolor\":\"white\",\"linecolor\":\"white\",\"ticks\":\"\",\"title\":{\"standoff\":15},\"zerolinecolor\":\"white\",\"automargin\":true,\"zerolinewidth\":2},\"yaxis\":{\"gridcolor\":\"white\",\"linecolor\":\"white\",\"ticks\":\"\",\"title\":{\"standoff\":15},\"zerolinecolor\":\"white\",\"automargin\":true,\"zerolinewidth\":2},\"scene\":{\"xaxis\":{\"backgroundcolor\":\"#E5ECF6\",\"gridcolor\":\"white\",\"linecolor\":\"white\",\"showbackground\":true,\"ticks\":\"\",\"zerolinecolor\":\"white\",\"gridwidth\":2},\"yaxis\":{\"backgroundcolor\":\"#E5ECF6\",\"gridcolor\":\"white\",\"linecolor\":\"white\",\"showbackground\":true,\"ticks\":\"\",\"zerolinecolor\":\"white\",\"gridwidth\":2},\"zaxis\":{\"backgroundcolor\":\"#E5ECF6\",\"gridcolor\":\"white\",\"linecolor\":\"white\",\"showbackground\":true,\"ticks\":\"\",\"zerolinecolor\":\"white\",\"gridwidth\":2}},\"shapedefaults\":{\"line\":{\"color\":\"#2a3f5f\"}},\"annotationdefaults\":{\"arrowcolor\":\"#2a3f5f\",\"arrowhead\":0,\"arrowwidth\":1},\"geo\":{\"bgcolor\":\"white\",\"landcolor\":\"#E5ECF6\",\"subunitcolor\":\"white\",\"showland\":true,\"showlakes\":true,\"lakecolor\":\"white\"},\"title\":{\"x\":0.05},\"mapbox\":{\"style\":\"light\"}}},\"legend\":{\"tracegroupgap\":0},\"title\":{\"text\":\"Proportion of Foreign Employees\"}},                        {\"responsive\": true}                    ).then(function(){\n",
              "                            \n",
              "var gd = document.getElementById('966286b5-7462-44da-a26d-dce2f196aa7b');\n",
              "var x = new MutationObserver(function (mutations, observer) {{\n",
              "        var display = window.getComputedStyle(gd).display;\n",
              "        if (!display || display === 'none') {{\n",
              "            console.log([gd, 'removed!']);\n",
              "            Plotly.purge(gd);\n",
              "            observer.disconnect();\n",
              "        }}\n",
              "}});\n",
              "\n",
              "// Listen for the removal of the full notebook cells\n",
              "var notebookContainer = gd.closest('#notebook-container');\n",
              "if (notebookContainer) {{\n",
              "    x.observe(notebookContainer, {childList: true});\n",
              "}}\n",
              "\n",
              "// Listen for the clearing of the current output cell\n",
              "var outputEl = gd.closest('.output');\n",
              "if (outputEl) {{\n",
              "    x.observe(outputEl, {childList: true});\n",
              "}}\n",
              "\n",
              "                        })                };                            </script>        </div>\n",
              "</body>\n",
              "</html>"
            ]
          },
          "metadata": {}
        }
      ]
    },
    {
      "cell_type": "markdown",
      "source": [
        "Out of the total individuals surveyed, only 2.56% are classified as foreign employees."
      ],
      "metadata": {
        "id": "Ek0tFNdpMAql"
      }
    },
    {
      "cell_type": "markdown",
      "source": [
        "# 9 In which country do the majority of foreign employees work?"
      ],
      "metadata": {
        "id": "4m_PsPZiMJNF"
      }
    },
    {
      "cell_type": "code",
      "source": [
        "xdf=df[df['foreign_employee']=='Yes']['company_location'].value_counts()\n",
        "xdf.head(10)"
      ],
      "metadata": {
        "id": "0tzLvgbqM4X0",
        "colab": {
          "base_uri": "https://localhost:8080/"
        },
        "outputId": "66745f57-5531-4e51-f886-da792bce68a5"
      },
      "execution_count": null,
      "outputs": [
        {
          "output_type": "execute_result",
          "data": {
            "text/plain": [
              "USA    41\n",
              "DEU    10\n",
              "GBR     6\n",
              "AUS     5\n",
              "CAN     4\n",
              "SGP     2\n",
              "LUX     2\n",
              "FRA     2\n",
              "ASM     2\n",
              "ESP     2\n",
              "Name: company_location, dtype: int64"
            ]
          },
          "metadata": {},
          "execution_count": 220
        }
      ]
    },
    {
      "cell_type": "code",
      "source": [
        "fig = px.choropleth(locations = xdf.index, color = xdf, title = 'Countries with Remote Foreign Employees')\n",
        "fig.show()"
      ],
      "metadata": {
        "id": "YEwZwA4AMsDr",
        "colab": {
          "base_uri": "https://localhost:8080/",
          "height": 542
        },
        "outputId": "a78cdb3f-fbe6-4a69-8700-90c0921d7b82"
      },
      "execution_count": null,
      "outputs": [
        {
          "output_type": "display_data",
          "data": {
            "text/html": [
              "<html>\n",
              "<head><meta charset=\"utf-8\" /></head>\n",
              "<body>\n",
              "    <div>            <script src=\"https://cdnjs.cloudflare.com/ajax/libs/mathjax/2.7.5/MathJax.js?config=TeX-AMS-MML_SVG\"></script><script type=\"text/javascript\">if (window.MathJax && window.MathJax.Hub && window.MathJax.Hub.Config) {window.MathJax.Hub.Config({SVG: {font: \"STIX-Web\"}});}</script>                <script type=\"text/javascript\">window.PlotlyConfig = {MathJaxConfig: 'local'};</script>\n",
              "        <script src=\"https://cdn.plot.ly/plotly-2.18.2.min.js\"></script>                <div id=\"82be637e-d9c3-47a7-92be-d859075436a1\" class=\"plotly-graph-div\" style=\"height:525px; width:100%;\"></div>            <script type=\"text/javascript\">                                    window.PLOTLYENV=window.PLOTLYENV || {};                                    if (document.getElementById(\"82be637e-d9c3-47a7-92be-d859075436a1\")) {                    Plotly.newPlot(                        \"82be637e-d9c3-47a7-92be-d859075436a1\",                        [{\"coloraxis\":\"coloraxis\",\"geo\":\"geo\",\"hovertemplate\":\"locations=%{location}<br>color=%{z}<extra></extra>\",\"locations\":[\"USA\",\"DEU\",\"GBR\",\"AUS\",\"CAN\",\"SGP\",\"LUX\",\"FRA\",\"ASM\",\"ESP\",\"IND\",\"PAK\",\"MYS\",\"CHE\",\"AUT\",\"CHN\",\"DNK\",\"POL\",\"ROU\",\"CZE\",\"FIN\",\"ALB\",\"MEX\",\"IDN\",\"RUS\",\"EST\",\"BHS\",\"CRI\",\"ISR\"],\"name\":\"\",\"z\":[41,10,6,5,4,2,2,2,2,2,2,1,1,1,1,1,1,1,1,1,1,1,1,1,1,1,1,1,1],\"type\":\"choropleth\"}],                        {\"template\":{\"data\":{\"histogram2dcontour\":[{\"type\":\"histogram2dcontour\",\"colorbar\":{\"outlinewidth\":0,\"ticks\":\"\"},\"colorscale\":[[0.0,\"#0d0887\"],[0.1111111111111111,\"#46039f\"],[0.2222222222222222,\"#7201a8\"],[0.3333333333333333,\"#9c179e\"],[0.4444444444444444,\"#bd3786\"],[0.5555555555555556,\"#d8576b\"],[0.6666666666666666,\"#ed7953\"],[0.7777777777777778,\"#fb9f3a\"],[0.8888888888888888,\"#fdca26\"],[1.0,\"#f0f921\"]]}],\"choropleth\":[{\"type\":\"choropleth\",\"colorbar\":{\"outlinewidth\":0,\"ticks\":\"\"}}],\"histogram2d\":[{\"type\":\"histogram2d\",\"colorbar\":{\"outlinewidth\":0,\"ticks\":\"\"},\"colorscale\":[[0.0,\"#0d0887\"],[0.1111111111111111,\"#46039f\"],[0.2222222222222222,\"#7201a8\"],[0.3333333333333333,\"#9c179e\"],[0.4444444444444444,\"#bd3786\"],[0.5555555555555556,\"#d8576b\"],[0.6666666666666666,\"#ed7953\"],[0.7777777777777778,\"#fb9f3a\"],[0.8888888888888888,\"#fdca26\"],[1.0,\"#f0f921\"]]}],\"heatmap\":[{\"type\":\"heatmap\",\"colorbar\":{\"outlinewidth\":0,\"ticks\":\"\"},\"colorscale\":[[0.0,\"#0d0887\"],[0.1111111111111111,\"#46039f\"],[0.2222222222222222,\"#7201a8\"],[0.3333333333333333,\"#9c179e\"],[0.4444444444444444,\"#bd3786\"],[0.5555555555555556,\"#d8576b\"],[0.6666666666666666,\"#ed7953\"],[0.7777777777777778,\"#fb9f3a\"],[0.8888888888888888,\"#fdca26\"],[1.0,\"#f0f921\"]]}],\"heatmapgl\":[{\"type\":\"heatmapgl\",\"colorbar\":{\"outlinewidth\":0,\"ticks\":\"\"},\"colorscale\":[[0.0,\"#0d0887\"],[0.1111111111111111,\"#46039f\"],[0.2222222222222222,\"#7201a8\"],[0.3333333333333333,\"#9c179e\"],[0.4444444444444444,\"#bd3786\"],[0.5555555555555556,\"#d8576b\"],[0.6666666666666666,\"#ed7953\"],[0.7777777777777778,\"#fb9f3a\"],[0.8888888888888888,\"#fdca26\"],[1.0,\"#f0f921\"]]}],\"contourcarpet\":[{\"type\":\"contourcarpet\",\"colorbar\":{\"outlinewidth\":0,\"ticks\":\"\"}}],\"contour\":[{\"type\":\"contour\",\"colorbar\":{\"outlinewidth\":0,\"ticks\":\"\"},\"colorscale\":[[0.0,\"#0d0887\"],[0.1111111111111111,\"#46039f\"],[0.2222222222222222,\"#7201a8\"],[0.3333333333333333,\"#9c179e\"],[0.4444444444444444,\"#bd3786\"],[0.5555555555555556,\"#d8576b\"],[0.6666666666666666,\"#ed7953\"],[0.7777777777777778,\"#fb9f3a\"],[0.8888888888888888,\"#fdca26\"],[1.0,\"#f0f921\"]]}],\"surface\":[{\"type\":\"surface\",\"colorbar\":{\"outlinewidth\":0,\"ticks\":\"\"},\"colorscale\":[[0.0,\"#0d0887\"],[0.1111111111111111,\"#46039f\"],[0.2222222222222222,\"#7201a8\"],[0.3333333333333333,\"#9c179e\"],[0.4444444444444444,\"#bd3786\"],[0.5555555555555556,\"#d8576b\"],[0.6666666666666666,\"#ed7953\"],[0.7777777777777778,\"#fb9f3a\"],[0.8888888888888888,\"#fdca26\"],[1.0,\"#f0f921\"]]}],\"mesh3d\":[{\"type\":\"mesh3d\",\"colorbar\":{\"outlinewidth\":0,\"ticks\":\"\"}}],\"scatter\":[{\"fillpattern\":{\"fillmode\":\"overlay\",\"size\":10,\"solidity\":0.2},\"type\":\"scatter\"}],\"parcoords\":[{\"type\":\"parcoords\",\"line\":{\"colorbar\":{\"outlinewidth\":0,\"ticks\":\"\"}}}],\"scatterpolargl\":[{\"type\":\"scatterpolargl\",\"marker\":{\"colorbar\":{\"outlinewidth\":0,\"ticks\":\"\"}}}],\"bar\":[{\"error_x\":{\"color\":\"#2a3f5f\"},\"error_y\":{\"color\":\"#2a3f5f\"},\"marker\":{\"line\":{\"color\":\"#E5ECF6\",\"width\":0.5},\"pattern\":{\"fillmode\":\"overlay\",\"size\":10,\"solidity\":0.2}},\"type\":\"bar\"}],\"scattergeo\":[{\"type\":\"scattergeo\",\"marker\":{\"colorbar\":{\"outlinewidth\":0,\"ticks\":\"\"}}}],\"scatterpolar\":[{\"type\":\"scatterpolar\",\"marker\":{\"colorbar\":{\"outlinewidth\":0,\"ticks\":\"\"}}}],\"histogram\":[{\"marker\":{\"pattern\":{\"fillmode\":\"overlay\",\"size\":10,\"solidity\":0.2}},\"type\":\"histogram\"}],\"scattergl\":[{\"type\":\"scattergl\",\"marker\":{\"colorbar\":{\"outlinewidth\":0,\"ticks\":\"\"}}}],\"scatter3d\":[{\"type\":\"scatter3d\",\"line\":{\"colorbar\":{\"outlinewidth\":0,\"ticks\":\"\"}},\"marker\":{\"colorbar\":{\"outlinewidth\":0,\"ticks\":\"\"}}}],\"scattermapbox\":[{\"type\":\"scattermapbox\",\"marker\":{\"colorbar\":{\"outlinewidth\":0,\"ticks\":\"\"}}}],\"scatterternary\":[{\"type\":\"scatterternary\",\"marker\":{\"colorbar\":{\"outlinewidth\":0,\"ticks\":\"\"}}}],\"scattercarpet\":[{\"type\":\"scattercarpet\",\"marker\":{\"colorbar\":{\"outlinewidth\":0,\"ticks\":\"\"}}}],\"carpet\":[{\"aaxis\":{\"endlinecolor\":\"#2a3f5f\",\"gridcolor\":\"white\",\"linecolor\":\"white\",\"minorgridcolor\":\"white\",\"startlinecolor\":\"#2a3f5f\"},\"baxis\":{\"endlinecolor\":\"#2a3f5f\",\"gridcolor\":\"white\",\"linecolor\":\"white\",\"minorgridcolor\":\"white\",\"startlinecolor\":\"#2a3f5f\"},\"type\":\"carpet\"}],\"table\":[{\"cells\":{\"fill\":{\"color\":\"#EBF0F8\"},\"line\":{\"color\":\"white\"}},\"header\":{\"fill\":{\"color\":\"#C8D4E3\"},\"line\":{\"color\":\"white\"}},\"type\":\"table\"}],\"barpolar\":[{\"marker\":{\"line\":{\"color\":\"#E5ECF6\",\"width\":0.5},\"pattern\":{\"fillmode\":\"overlay\",\"size\":10,\"solidity\":0.2}},\"type\":\"barpolar\"}],\"pie\":[{\"automargin\":true,\"type\":\"pie\"}]},\"layout\":{\"autotypenumbers\":\"strict\",\"colorway\":[\"#636efa\",\"#EF553B\",\"#00cc96\",\"#ab63fa\",\"#FFA15A\",\"#19d3f3\",\"#FF6692\",\"#B6E880\",\"#FF97FF\",\"#FECB52\"],\"font\":{\"color\":\"#2a3f5f\"},\"hovermode\":\"closest\",\"hoverlabel\":{\"align\":\"left\"},\"paper_bgcolor\":\"white\",\"plot_bgcolor\":\"#E5ECF6\",\"polar\":{\"bgcolor\":\"#E5ECF6\",\"angularaxis\":{\"gridcolor\":\"white\",\"linecolor\":\"white\",\"ticks\":\"\"},\"radialaxis\":{\"gridcolor\":\"white\",\"linecolor\":\"white\",\"ticks\":\"\"}},\"ternary\":{\"bgcolor\":\"#E5ECF6\",\"aaxis\":{\"gridcolor\":\"white\",\"linecolor\":\"white\",\"ticks\":\"\"},\"baxis\":{\"gridcolor\":\"white\",\"linecolor\":\"white\",\"ticks\":\"\"},\"caxis\":{\"gridcolor\":\"white\",\"linecolor\":\"white\",\"ticks\":\"\"}},\"coloraxis\":{\"colorbar\":{\"outlinewidth\":0,\"ticks\":\"\"}},\"colorscale\":{\"sequential\":[[0.0,\"#0d0887\"],[0.1111111111111111,\"#46039f\"],[0.2222222222222222,\"#7201a8\"],[0.3333333333333333,\"#9c179e\"],[0.4444444444444444,\"#bd3786\"],[0.5555555555555556,\"#d8576b\"],[0.6666666666666666,\"#ed7953\"],[0.7777777777777778,\"#fb9f3a\"],[0.8888888888888888,\"#fdca26\"],[1.0,\"#f0f921\"]],\"sequentialminus\":[[0.0,\"#0d0887\"],[0.1111111111111111,\"#46039f\"],[0.2222222222222222,\"#7201a8\"],[0.3333333333333333,\"#9c179e\"],[0.4444444444444444,\"#bd3786\"],[0.5555555555555556,\"#d8576b\"],[0.6666666666666666,\"#ed7953\"],[0.7777777777777778,\"#fb9f3a\"],[0.8888888888888888,\"#fdca26\"],[1.0,\"#f0f921\"]],\"diverging\":[[0,\"#8e0152\"],[0.1,\"#c51b7d\"],[0.2,\"#de77ae\"],[0.3,\"#f1b6da\"],[0.4,\"#fde0ef\"],[0.5,\"#f7f7f7\"],[0.6,\"#e6f5d0\"],[0.7,\"#b8e186\"],[0.8,\"#7fbc41\"],[0.9,\"#4d9221\"],[1,\"#276419\"]]},\"xaxis\":{\"gridcolor\":\"white\",\"linecolor\":\"white\",\"ticks\":\"\",\"title\":{\"standoff\":15},\"zerolinecolor\":\"white\",\"automargin\":true,\"zerolinewidth\":2},\"yaxis\":{\"gridcolor\":\"white\",\"linecolor\":\"white\",\"ticks\":\"\",\"title\":{\"standoff\":15},\"zerolinecolor\":\"white\",\"automargin\":true,\"zerolinewidth\":2},\"scene\":{\"xaxis\":{\"backgroundcolor\":\"#E5ECF6\",\"gridcolor\":\"white\",\"linecolor\":\"white\",\"showbackground\":true,\"ticks\":\"\",\"zerolinecolor\":\"white\",\"gridwidth\":2},\"yaxis\":{\"backgroundcolor\":\"#E5ECF6\",\"gridcolor\":\"white\",\"linecolor\":\"white\",\"showbackground\":true,\"ticks\":\"\",\"zerolinecolor\":\"white\",\"gridwidth\":2},\"zaxis\":{\"backgroundcolor\":\"#E5ECF6\",\"gridcolor\":\"white\",\"linecolor\":\"white\",\"showbackground\":true,\"ticks\":\"\",\"zerolinecolor\":\"white\",\"gridwidth\":2}},\"shapedefaults\":{\"line\":{\"color\":\"#2a3f5f\"}},\"annotationdefaults\":{\"arrowcolor\":\"#2a3f5f\",\"arrowhead\":0,\"arrowwidth\":1},\"geo\":{\"bgcolor\":\"white\",\"landcolor\":\"#E5ECF6\",\"subunitcolor\":\"white\",\"showland\":true,\"showlakes\":true,\"lakecolor\":\"white\"},\"title\":{\"x\":0.05},\"mapbox\":{\"style\":\"light\"}}},\"geo\":{\"domain\":{\"x\":[0.0,1.0],\"y\":[0.0,1.0]},\"center\":{}},\"coloraxis\":{\"colorbar\":{\"title\":{\"text\":\"color\"}},\"colorscale\":[[0.0,\"#0d0887\"],[0.1111111111111111,\"#46039f\"],[0.2222222222222222,\"#7201a8\"],[0.3333333333333333,\"#9c179e\"],[0.4444444444444444,\"#bd3786\"],[0.5555555555555556,\"#d8576b\"],[0.6666666666666666,\"#ed7953\"],[0.7777777777777778,\"#fb9f3a\"],[0.8888888888888888,\"#fdca26\"],[1.0,\"#f0f921\"]]},\"legend\":{\"tracegroupgap\":0},\"title\":{\"text\":\"Countries with Remote Foreign Employees\"}},                        {\"responsive\": true}                    ).then(function(){\n",
              "                            \n",
              "var gd = document.getElementById('82be637e-d9c3-47a7-92be-d859075436a1');\n",
              "var x = new MutationObserver(function (mutations, observer) {{\n",
              "        var display = window.getComputedStyle(gd).display;\n",
              "        if (!display || display === 'none') {{\n",
              "            console.log([gd, 'removed!']);\n",
              "            Plotly.purge(gd);\n",
              "            observer.disconnect();\n",
              "        }}\n",
              "}});\n",
              "\n",
              "// Listen for the removal of the full notebook cells\n",
              "var notebookContainer = gd.closest('#notebook-container');\n",
              "if (notebookContainer) {{\n",
              "    x.observe(notebookContainer, {childList: true});\n",
              "}}\n",
              "\n",
              "// Listen for the clearing of the current output cell\n",
              "var outputEl = gd.closest('.output');\n",
              "if (outputEl) {{\n",
              "    x.observe(outputEl, {childList: true});\n",
              "}}\n",
              "\n",
              "                        })                };                            </script>        </div>\n",
              "</body>\n",
              "</html>"
            ]
          },
          "metadata": {}
        }
      ]
    },
    {
      "cell_type": "markdown",
      "source": [
        "Most foreing employees work in USA followed by Germany.\n",
        "\n",
        "10) Which country has the most number of people working for foreign companies?"
      ],
      "metadata": {
        "id": "GNiFY1f5M1hu"
      }
    },
    {
      "cell_type": "code",
      "source": [
        "xdf=df[df['foreign_employee']=='Yes']['employee_residence'].value_counts()\n",
        "xdf.head(10)\n"
      ],
      "metadata": {
        "colab": {
          "base_uri": "https://localhost:8080/"
        },
        "id": "i3TxgwsQAayT",
        "outputId": "16860013-2e4d-41a2-efd1-7e0121c784d9"
      },
      "execution_count": null,
      "outputs": [
        {
          "output_type": "execute_result",
          "data": {
            "text/plain": [
              "IND    15\n",
              "FRA     6\n",
              "USA     5\n",
              "PAK     5\n",
              "ESP     5\n",
              "ITA     4\n",
              "PRT     4\n",
              "BRA     3\n",
              "ARG     3\n",
              "POL     2\n",
              "Name: employee_residence, dtype: int64"
            ]
          },
          "metadata": {},
          "execution_count": 222
        }
      ]
    },
    {
      "cell_type": "code",
      "source": [
        "import plotly.graph_objects as go\n",
        "#table = df.pivot_table(index='work_year', values='salary', columns='job_type', aggfunc='count')\n",
        "\n",
        "fig = go.Figure()\n",
        "\n",
        "for job_type in table.columns:\n",
        "    fig.add_trace(go.Bar(\n",
        "        x=table.index,\n",
        "        y=table[job_type],\n",
        "        name=job_type\n",
        "    ))\n",
        "\n",
        "fig.update_layout(\n",
        "    title='Comparison of Job Types by Work Year',\n",
        "    xaxis_title='Work Year',\n",
        "    yaxis_title='Count of Job Types'\n",
        ")\n",
        "\n",
        "fig.show()\n"
      ],
      "metadata": {
        "colab": {
          "base_uri": "https://localhost:8080/",
          "height": 542
        },
        "id": "hyYn9ABpJKcj",
        "outputId": "319b792a-3622-422f-b6fd-3d79891390ed"
      },
      "execution_count": null,
      "outputs": [
        {
          "output_type": "display_data",
          "data": {
            "text/html": [
              "<html>\n",
              "<head><meta charset=\"utf-8\" /></head>\n",
              "<body>\n",
              "    <div>            <script src=\"https://cdnjs.cloudflare.com/ajax/libs/mathjax/2.7.5/MathJax.js?config=TeX-AMS-MML_SVG\"></script><script type=\"text/javascript\">if (window.MathJax && window.MathJax.Hub && window.MathJax.Hub.Config) {window.MathJax.Hub.Config({SVG: {font: \"STIX-Web\"}});}</script>                <script type=\"text/javascript\">window.PlotlyConfig = {MathJaxConfig: 'local'};</script>\n",
              "        <script src=\"https://cdn.plot.ly/plotly-2.18.2.min.js\"></script>                <div id=\"28591079-2a2e-4d9b-a9dd-c303e67b4056\" class=\"plotly-graph-div\" style=\"height:525px; width:100%;\"></div>            <script type=\"text/javascript\">                                    window.PLOTLYENV=window.PLOTLYENV || {};                                    if (document.getElementById(\"28591079-2a2e-4d9b-a9dd-c303e67b4056\")) {                    Plotly.newPlot(                        \"28591079-2a2e-4d9b-a9dd-c303e67b4056\",                        [{\"name\":\"Hybrid\",\"x\":[2020,2021,2022,2023],\"y\":[77591.23809523809,76104.40789473684,84560.87096774194,72053.5],\"type\":\"bar\"},{\"name\":\"On-Site\",\"x\":[2020,2021,2022,2023],\"y\":[93426.1875,92899.67647058824,134719.23628691983,152393.52151462995],\"type\":\"bar\"},{\"name\":\"Remote\",\"x\":[2020,2021,2022,2023],\"y\":[99763.20512820513,105812.78333333334,135631.10437710438,146380.12478920742],\"type\":\"bar\"}],                        {\"template\":{\"data\":{\"histogram2dcontour\":[{\"type\":\"histogram2dcontour\",\"colorbar\":{\"outlinewidth\":0,\"ticks\":\"\"},\"colorscale\":[[0.0,\"#0d0887\"],[0.1111111111111111,\"#46039f\"],[0.2222222222222222,\"#7201a8\"],[0.3333333333333333,\"#9c179e\"],[0.4444444444444444,\"#bd3786\"],[0.5555555555555556,\"#d8576b\"],[0.6666666666666666,\"#ed7953\"],[0.7777777777777778,\"#fb9f3a\"],[0.8888888888888888,\"#fdca26\"],[1.0,\"#f0f921\"]]}],\"choropleth\":[{\"type\":\"choropleth\",\"colorbar\":{\"outlinewidth\":0,\"ticks\":\"\"}}],\"histogram2d\":[{\"type\":\"histogram2d\",\"colorbar\":{\"outlinewidth\":0,\"ticks\":\"\"},\"colorscale\":[[0.0,\"#0d0887\"],[0.1111111111111111,\"#46039f\"],[0.2222222222222222,\"#7201a8\"],[0.3333333333333333,\"#9c179e\"],[0.4444444444444444,\"#bd3786\"],[0.5555555555555556,\"#d8576b\"],[0.6666666666666666,\"#ed7953\"],[0.7777777777777778,\"#fb9f3a\"],[0.8888888888888888,\"#fdca26\"],[1.0,\"#f0f921\"]]}],\"heatmap\":[{\"type\":\"heatmap\",\"colorbar\":{\"outlinewidth\":0,\"ticks\":\"\"},\"colorscale\":[[0.0,\"#0d0887\"],[0.1111111111111111,\"#46039f\"],[0.2222222222222222,\"#7201a8\"],[0.3333333333333333,\"#9c179e\"],[0.4444444444444444,\"#bd3786\"],[0.5555555555555556,\"#d8576b\"],[0.6666666666666666,\"#ed7953\"],[0.7777777777777778,\"#fb9f3a\"],[0.8888888888888888,\"#fdca26\"],[1.0,\"#f0f921\"]]}],\"heatmapgl\":[{\"type\":\"heatmapgl\",\"colorbar\":{\"outlinewidth\":0,\"ticks\":\"\"},\"colorscale\":[[0.0,\"#0d0887\"],[0.1111111111111111,\"#46039f\"],[0.2222222222222222,\"#7201a8\"],[0.3333333333333333,\"#9c179e\"],[0.4444444444444444,\"#bd3786\"],[0.5555555555555556,\"#d8576b\"],[0.6666666666666666,\"#ed7953\"],[0.7777777777777778,\"#fb9f3a\"],[0.8888888888888888,\"#fdca26\"],[1.0,\"#f0f921\"]]}],\"contourcarpet\":[{\"type\":\"contourcarpet\",\"colorbar\":{\"outlinewidth\":0,\"ticks\":\"\"}}],\"contour\":[{\"type\":\"contour\",\"colorbar\":{\"outlinewidth\":0,\"ticks\":\"\"},\"colorscale\":[[0.0,\"#0d0887\"],[0.1111111111111111,\"#46039f\"],[0.2222222222222222,\"#7201a8\"],[0.3333333333333333,\"#9c179e\"],[0.4444444444444444,\"#bd3786\"],[0.5555555555555556,\"#d8576b\"],[0.6666666666666666,\"#ed7953\"],[0.7777777777777778,\"#fb9f3a\"],[0.8888888888888888,\"#fdca26\"],[1.0,\"#f0f921\"]]}],\"surface\":[{\"type\":\"surface\",\"colorbar\":{\"outlinewidth\":0,\"ticks\":\"\"},\"colorscale\":[[0.0,\"#0d0887\"],[0.1111111111111111,\"#46039f\"],[0.2222222222222222,\"#7201a8\"],[0.3333333333333333,\"#9c179e\"],[0.4444444444444444,\"#bd3786\"],[0.5555555555555556,\"#d8576b\"],[0.6666666666666666,\"#ed7953\"],[0.7777777777777778,\"#fb9f3a\"],[0.8888888888888888,\"#fdca26\"],[1.0,\"#f0f921\"]]}],\"mesh3d\":[{\"type\":\"mesh3d\",\"colorbar\":{\"outlinewidth\":0,\"ticks\":\"\"}}],\"scatter\":[{\"fillpattern\":{\"fillmode\":\"overlay\",\"size\":10,\"solidity\":0.2},\"type\":\"scatter\"}],\"parcoords\":[{\"type\":\"parcoords\",\"line\":{\"colorbar\":{\"outlinewidth\":0,\"ticks\":\"\"}}}],\"scatterpolargl\":[{\"type\":\"scatterpolargl\",\"marker\":{\"colorbar\":{\"outlinewidth\":0,\"ticks\":\"\"}}}],\"bar\":[{\"error_x\":{\"color\":\"#2a3f5f\"},\"error_y\":{\"color\":\"#2a3f5f\"},\"marker\":{\"line\":{\"color\":\"#E5ECF6\",\"width\":0.5},\"pattern\":{\"fillmode\":\"overlay\",\"size\":10,\"solidity\":0.2}},\"type\":\"bar\"}],\"scattergeo\":[{\"type\":\"scattergeo\",\"marker\":{\"colorbar\":{\"outlinewidth\":0,\"ticks\":\"\"}}}],\"scatterpolar\":[{\"type\":\"scatterpolar\",\"marker\":{\"colorbar\":{\"outlinewidth\":0,\"ticks\":\"\"}}}],\"histogram\":[{\"marker\":{\"pattern\":{\"fillmode\":\"overlay\",\"size\":10,\"solidity\":0.2}},\"type\":\"histogram\"}],\"scattergl\":[{\"type\":\"scattergl\",\"marker\":{\"colorbar\":{\"outlinewidth\":0,\"ticks\":\"\"}}}],\"scatter3d\":[{\"type\":\"scatter3d\",\"line\":{\"colorbar\":{\"outlinewidth\":0,\"ticks\":\"\"}},\"marker\":{\"colorbar\":{\"outlinewidth\":0,\"ticks\":\"\"}}}],\"scattermapbox\":[{\"type\":\"scattermapbox\",\"marker\":{\"colorbar\":{\"outlinewidth\":0,\"ticks\":\"\"}}}],\"scatterternary\":[{\"type\":\"scatterternary\",\"marker\":{\"colorbar\":{\"outlinewidth\":0,\"ticks\":\"\"}}}],\"scattercarpet\":[{\"type\":\"scattercarpet\",\"marker\":{\"colorbar\":{\"outlinewidth\":0,\"ticks\":\"\"}}}],\"carpet\":[{\"aaxis\":{\"endlinecolor\":\"#2a3f5f\",\"gridcolor\":\"white\",\"linecolor\":\"white\",\"minorgridcolor\":\"white\",\"startlinecolor\":\"#2a3f5f\"},\"baxis\":{\"endlinecolor\":\"#2a3f5f\",\"gridcolor\":\"white\",\"linecolor\":\"white\",\"minorgridcolor\":\"white\",\"startlinecolor\":\"#2a3f5f\"},\"type\":\"carpet\"}],\"table\":[{\"cells\":{\"fill\":{\"color\":\"#EBF0F8\"},\"line\":{\"color\":\"white\"}},\"header\":{\"fill\":{\"color\":\"#C8D4E3\"},\"line\":{\"color\":\"white\"}},\"type\":\"table\"}],\"barpolar\":[{\"marker\":{\"line\":{\"color\":\"#E5ECF6\",\"width\":0.5},\"pattern\":{\"fillmode\":\"overlay\",\"size\":10,\"solidity\":0.2}},\"type\":\"barpolar\"}],\"pie\":[{\"automargin\":true,\"type\":\"pie\"}]},\"layout\":{\"autotypenumbers\":\"strict\",\"colorway\":[\"#636efa\",\"#EF553B\",\"#00cc96\",\"#ab63fa\",\"#FFA15A\",\"#19d3f3\",\"#FF6692\",\"#B6E880\",\"#FF97FF\",\"#FECB52\"],\"font\":{\"color\":\"#2a3f5f\"},\"hovermode\":\"closest\",\"hoverlabel\":{\"align\":\"left\"},\"paper_bgcolor\":\"white\",\"plot_bgcolor\":\"#E5ECF6\",\"polar\":{\"bgcolor\":\"#E5ECF6\",\"angularaxis\":{\"gridcolor\":\"white\",\"linecolor\":\"white\",\"ticks\":\"\"},\"radialaxis\":{\"gridcolor\":\"white\",\"linecolor\":\"white\",\"ticks\":\"\"}},\"ternary\":{\"bgcolor\":\"#E5ECF6\",\"aaxis\":{\"gridcolor\":\"white\",\"linecolor\":\"white\",\"ticks\":\"\"},\"baxis\":{\"gridcolor\":\"white\",\"linecolor\":\"white\",\"ticks\":\"\"},\"caxis\":{\"gridcolor\":\"white\",\"linecolor\":\"white\",\"ticks\":\"\"}},\"coloraxis\":{\"colorbar\":{\"outlinewidth\":0,\"ticks\":\"\"}},\"colorscale\":{\"sequential\":[[0.0,\"#0d0887\"],[0.1111111111111111,\"#46039f\"],[0.2222222222222222,\"#7201a8\"],[0.3333333333333333,\"#9c179e\"],[0.4444444444444444,\"#bd3786\"],[0.5555555555555556,\"#d8576b\"],[0.6666666666666666,\"#ed7953\"],[0.7777777777777778,\"#fb9f3a\"],[0.8888888888888888,\"#fdca26\"],[1.0,\"#f0f921\"]],\"sequentialminus\":[[0.0,\"#0d0887\"],[0.1111111111111111,\"#46039f\"],[0.2222222222222222,\"#7201a8\"],[0.3333333333333333,\"#9c179e\"],[0.4444444444444444,\"#bd3786\"],[0.5555555555555556,\"#d8576b\"],[0.6666666666666666,\"#ed7953\"],[0.7777777777777778,\"#fb9f3a\"],[0.8888888888888888,\"#fdca26\"],[1.0,\"#f0f921\"]],\"diverging\":[[0,\"#8e0152\"],[0.1,\"#c51b7d\"],[0.2,\"#de77ae\"],[0.3,\"#f1b6da\"],[0.4,\"#fde0ef\"],[0.5,\"#f7f7f7\"],[0.6,\"#e6f5d0\"],[0.7,\"#b8e186\"],[0.8,\"#7fbc41\"],[0.9,\"#4d9221\"],[1,\"#276419\"]]},\"xaxis\":{\"gridcolor\":\"white\",\"linecolor\":\"white\",\"ticks\":\"\",\"title\":{\"standoff\":15},\"zerolinecolor\":\"white\",\"automargin\":true,\"zerolinewidth\":2},\"yaxis\":{\"gridcolor\":\"white\",\"linecolor\":\"white\",\"ticks\":\"\",\"title\":{\"standoff\":15},\"zerolinecolor\":\"white\",\"automargin\":true,\"zerolinewidth\":2},\"scene\":{\"xaxis\":{\"backgroundcolor\":\"#E5ECF6\",\"gridcolor\":\"white\",\"linecolor\":\"white\",\"showbackground\":true,\"ticks\":\"\",\"zerolinecolor\":\"white\",\"gridwidth\":2},\"yaxis\":{\"backgroundcolor\":\"#E5ECF6\",\"gridcolor\":\"white\",\"linecolor\":\"white\",\"showbackground\":true,\"ticks\":\"\",\"zerolinecolor\":\"white\",\"gridwidth\":2},\"zaxis\":{\"backgroundcolor\":\"#E5ECF6\",\"gridcolor\":\"white\",\"linecolor\":\"white\",\"showbackground\":true,\"ticks\":\"\",\"zerolinecolor\":\"white\",\"gridwidth\":2}},\"shapedefaults\":{\"line\":{\"color\":\"#2a3f5f\"}},\"annotationdefaults\":{\"arrowcolor\":\"#2a3f5f\",\"arrowhead\":0,\"arrowwidth\":1},\"geo\":{\"bgcolor\":\"white\",\"landcolor\":\"#E5ECF6\",\"subunitcolor\":\"white\",\"showland\":true,\"showlakes\":true,\"lakecolor\":\"white\"},\"title\":{\"x\":0.05},\"mapbox\":{\"style\":\"light\"}}},\"title\":{\"text\":\"Comparison of Job Types by Work Year\"},\"xaxis\":{\"title\":{\"text\":\"Work Year\"}},\"yaxis\":{\"title\":{\"text\":\"Count of Job Types\"}}},                        {\"responsive\": true}                    ).then(function(){\n",
              "                            \n",
              "var gd = document.getElementById('28591079-2a2e-4d9b-a9dd-c303e67b4056');\n",
              "var x = new MutationObserver(function (mutations, observer) {{\n",
              "        var display = window.getComputedStyle(gd).display;\n",
              "        if (!display || display === 'none') {{\n",
              "            console.log([gd, 'removed!']);\n",
              "            Plotly.purge(gd);\n",
              "            observer.disconnect();\n",
              "        }}\n",
              "}});\n",
              "\n",
              "// Listen for the removal of the full notebook cells\n",
              "var notebookContainer = gd.closest('#notebook-container');\n",
              "if (notebookContainer) {{\n",
              "    x.observe(notebookContainer, {childList: true});\n",
              "}}\n",
              "\n",
              "// Listen for the clearing of the current output cell\n",
              "var outputEl = gd.closest('.output');\n",
              "if (outputEl) {{\n",
              "    x.observe(outputEl, {childList: true});\n",
              "}}\n",
              "\n",
              "                        })                };                            </script>        </div>\n",
              "</body>\n",
              "</html>"
            ]
          },
          "metadata": {}
        }
      ]
    },
    {
      "cell_type": "code",
      "source": [
        "fig = px.pie(values=df['foreign_employee'].value_counts(),\n",
        "             names=df['foreign_employee'].value_counts().index,\n",
        "             title='Proportion of Foreign Employees',\n",
        "             hole=0.5)\n",
        "\n",
        "fig.show()\n"
      ],
      "metadata": {
        "id": "RJkem81lLSlY",
        "colab": {
          "base_uri": "https://localhost:8080/",
          "height": 542
        },
        "outputId": "cdc5d41f-69d2-4a82-b17f-7520db4b935b"
      },
      "execution_count": null,
      "outputs": [
        {
          "output_type": "display_data",
          "data": {
            "text/html": [
              "<html>\n",
              "<head><meta charset=\"utf-8\" /></head>\n",
              "<body>\n",
              "    <div>            <script src=\"https://cdnjs.cloudflare.com/ajax/libs/mathjax/2.7.5/MathJax.js?config=TeX-AMS-MML_SVG\"></script><script type=\"text/javascript\">if (window.MathJax && window.MathJax.Hub && window.MathJax.Hub.Config) {window.MathJax.Hub.Config({SVG: {font: \"STIX-Web\"}});}</script>                <script type=\"text/javascript\">window.PlotlyConfig = {MathJaxConfig: 'local'};</script>\n",
              "        <script src=\"https://cdn.plot.ly/plotly-2.18.2.min.js\"></script>                <div id=\"f93d0815-4662-4b4e-b334-df6500548100\" class=\"plotly-graph-div\" style=\"height:525px; width:100%;\"></div>            <script type=\"text/javascript\">                                    window.PLOTLYENV=window.PLOTLYENV || {};                                    if (document.getElementById(\"f93d0815-4662-4b4e-b334-df6500548100\")) {                    Plotly.newPlot(                        \"f93d0815-4662-4b4e-b334-df6500548100\",                        [{\"domain\":{\"x\":[0.0,1.0],\"y\":[0.0,1.0]},\"hole\":0.5,\"hovertemplate\":\"label=%{label}<br>value=%{value}<extra></extra>\",\"labels\":[\"No\",\"Yes\"],\"legendgroup\":\"\",\"name\":\"\",\"showlegend\":true,\"values\":[3659,96],\"type\":\"pie\"}],                        {\"template\":{\"data\":{\"histogram2dcontour\":[{\"type\":\"histogram2dcontour\",\"colorbar\":{\"outlinewidth\":0,\"ticks\":\"\"},\"colorscale\":[[0.0,\"#0d0887\"],[0.1111111111111111,\"#46039f\"],[0.2222222222222222,\"#7201a8\"],[0.3333333333333333,\"#9c179e\"],[0.4444444444444444,\"#bd3786\"],[0.5555555555555556,\"#d8576b\"],[0.6666666666666666,\"#ed7953\"],[0.7777777777777778,\"#fb9f3a\"],[0.8888888888888888,\"#fdca26\"],[1.0,\"#f0f921\"]]}],\"choropleth\":[{\"type\":\"choropleth\",\"colorbar\":{\"outlinewidth\":0,\"ticks\":\"\"}}],\"histogram2d\":[{\"type\":\"histogram2d\",\"colorbar\":{\"outlinewidth\":0,\"ticks\":\"\"},\"colorscale\":[[0.0,\"#0d0887\"],[0.1111111111111111,\"#46039f\"],[0.2222222222222222,\"#7201a8\"],[0.3333333333333333,\"#9c179e\"],[0.4444444444444444,\"#bd3786\"],[0.5555555555555556,\"#d8576b\"],[0.6666666666666666,\"#ed7953\"],[0.7777777777777778,\"#fb9f3a\"],[0.8888888888888888,\"#fdca26\"],[1.0,\"#f0f921\"]]}],\"heatmap\":[{\"type\":\"heatmap\",\"colorbar\":{\"outlinewidth\":0,\"ticks\":\"\"},\"colorscale\":[[0.0,\"#0d0887\"],[0.1111111111111111,\"#46039f\"],[0.2222222222222222,\"#7201a8\"],[0.3333333333333333,\"#9c179e\"],[0.4444444444444444,\"#bd3786\"],[0.5555555555555556,\"#d8576b\"],[0.6666666666666666,\"#ed7953\"],[0.7777777777777778,\"#fb9f3a\"],[0.8888888888888888,\"#fdca26\"],[1.0,\"#f0f921\"]]}],\"heatmapgl\":[{\"type\":\"heatmapgl\",\"colorbar\":{\"outlinewidth\":0,\"ticks\":\"\"},\"colorscale\":[[0.0,\"#0d0887\"],[0.1111111111111111,\"#46039f\"],[0.2222222222222222,\"#7201a8\"],[0.3333333333333333,\"#9c179e\"],[0.4444444444444444,\"#bd3786\"],[0.5555555555555556,\"#d8576b\"],[0.6666666666666666,\"#ed7953\"],[0.7777777777777778,\"#fb9f3a\"],[0.8888888888888888,\"#fdca26\"],[1.0,\"#f0f921\"]]}],\"contourcarpet\":[{\"type\":\"contourcarpet\",\"colorbar\":{\"outlinewidth\":0,\"ticks\":\"\"}}],\"contour\":[{\"type\":\"contour\",\"colorbar\":{\"outlinewidth\":0,\"ticks\":\"\"},\"colorscale\":[[0.0,\"#0d0887\"],[0.1111111111111111,\"#46039f\"],[0.2222222222222222,\"#7201a8\"],[0.3333333333333333,\"#9c179e\"],[0.4444444444444444,\"#bd3786\"],[0.5555555555555556,\"#d8576b\"],[0.6666666666666666,\"#ed7953\"],[0.7777777777777778,\"#fb9f3a\"],[0.8888888888888888,\"#fdca26\"],[1.0,\"#f0f921\"]]}],\"surface\":[{\"type\":\"surface\",\"colorbar\":{\"outlinewidth\":0,\"ticks\":\"\"},\"colorscale\":[[0.0,\"#0d0887\"],[0.1111111111111111,\"#46039f\"],[0.2222222222222222,\"#7201a8\"],[0.3333333333333333,\"#9c179e\"],[0.4444444444444444,\"#bd3786\"],[0.5555555555555556,\"#d8576b\"],[0.6666666666666666,\"#ed7953\"],[0.7777777777777778,\"#fb9f3a\"],[0.8888888888888888,\"#fdca26\"],[1.0,\"#f0f921\"]]}],\"mesh3d\":[{\"type\":\"mesh3d\",\"colorbar\":{\"outlinewidth\":0,\"ticks\":\"\"}}],\"scatter\":[{\"fillpattern\":{\"fillmode\":\"overlay\",\"size\":10,\"solidity\":0.2},\"type\":\"scatter\"}],\"parcoords\":[{\"type\":\"parcoords\",\"line\":{\"colorbar\":{\"outlinewidth\":0,\"ticks\":\"\"}}}],\"scatterpolargl\":[{\"type\":\"scatterpolargl\",\"marker\":{\"colorbar\":{\"outlinewidth\":0,\"ticks\":\"\"}}}],\"bar\":[{\"error_x\":{\"color\":\"#2a3f5f\"},\"error_y\":{\"color\":\"#2a3f5f\"},\"marker\":{\"line\":{\"color\":\"#E5ECF6\",\"width\":0.5},\"pattern\":{\"fillmode\":\"overlay\",\"size\":10,\"solidity\":0.2}},\"type\":\"bar\"}],\"scattergeo\":[{\"type\":\"scattergeo\",\"marker\":{\"colorbar\":{\"outlinewidth\":0,\"ticks\":\"\"}}}],\"scatterpolar\":[{\"type\":\"scatterpolar\",\"marker\":{\"colorbar\":{\"outlinewidth\":0,\"ticks\":\"\"}}}],\"histogram\":[{\"marker\":{\"pattern\":{\"fillmode\":\"overlay\",\"size\":10,\"solidity\":0.2}},\"type\":\"histogram\"}],\"scattergl\":[{\"type\":\"scattergl\",\"marker\":{\"colorbar\":{\"outlinewidth\":0,\"ticks\":\"\"}}}],\"scatter3d\":[{\"type\":\"scatter3d\",\"line\":{\"colorbar\":{\"outlinewidth\":0,\"ticks\":\"\"}},\"marker\":{\"colorbar\":{\"outlinewidth\":0,\"ticks\":\"\"}}}],\"scattermapbox\":[{\"type\":\"scattermapbox\",\"marker\":{\"colorbar\":{\"outlinewidth\":0,\"ticks\":\"\"}}}],\"scatterternary\":[{\"type\":\"scatterternary\",\"marker\":{\"colorbar\":{\"outlinewidth\":0,\"ticks\":\"\"}}}],\"scattercarpet\":[{\"type\":\"scattercarpet\",\"marker\":{\"colorbar\":{\"outlinewidth\":0,\"ticks\":\"\"}}}],\"carpet\":[{\"aaxis\":{\"endlinecolor\":\"#2a3f5f\",\"gridcolor\":\"white\",\"linecolor\":\"white\",\"minorgridcolor\":\"white\",\"startlinecolor\":\"#2a3f5f\"},\"baxis\":{\"endlinecolor\":\"#2a3f5f\",\"gridcolor\":\"white\",\"linecolor\":\"white\",\"minorgridcolor\":\"white\",\"startlinecolor\":\"#2a3f5f\"},\"type\":\"carpet\"}],\"table\":[{\"cells\":{\"fill\":{\"color\":\"#EBF0F8\"},\"line\":{\"color\":\"white\"}},\"header\":{\"fill\":{\"color\":\"#C8D4E3\"},\"line\":{\"color\":\"white\"}},\"type\":\"table\"}],\"barpolar\":[{\"marker\":{\"line\":{\"color\":\"#E5ECF6\",\"width\":0.5},\"pattern\":{\"fillmode\":\"overlay\",\"size\":10,\"solidity\":0.2}},\"type\":\"barpolar\"}],\"pie\":[{\"automargin\":true,\"type\":\"pie\"}]},\"layout\":{\"autotypenumbers\":\"strict\",\"colorway\":[\"#636efa\",\"#EF553B\",\"#00cc96\",\"#ab63fa\",\"#FFA15A\",\"#19d3f3\",\"#FF6692\",\"#B6E880\",\"#FF97FF\",\"#FECB52\"],\"font\":{\"color\":\"#2a3f5f\"},\"hovermode\":\"closest\",\"hoverlabel\":{\"align\":\"left\"},\"paper_bgcolor\":\"white\",\"plot_bgcolor\":\"#E5ECF6\",\"polar\":{\"bgcolor\":\"#E5ECF6\",\"angularaxis\":{\"gridcolor\":\"white\",\"linecolor\":\"white\",\"ticks\":\"\"},\"radialaxis\":{\"gridcolor\":\"white\",\"linecolor\":\"white\",\"ticks\":\"\"}},\"ternary\":{\"bgcolor\":\"#E5ECF6\",\"aaxis\":{\"gridcolor\":\"white\",\"linecolor\":\"white\",\"ticks\":\"\"},\"baxis\":{\"gridcolor\":\"white\",\"linecolor\":\"white\",\"ticks\":\"\"},\"caxis\":{\"gridcolor\":\"white\",\"linecolor\":\"white\",\"ticks\":\"\"}},\"coloraxis\":{\"colorbar\":{\"outlinewidth\":0,\"ticks\":\"\"}},\"colorscale\":{\"sequential\":[[0.0,\"#0d0887\"],[0.1111111111111111,\"#46039f\"],[0.2222222222222222,\"#7201a8\"],[0.3333333333333333,\"#9c179e\"],[0.4444444444444444,\"#bd3786\"],[0.5555555555555556,\"#d8576b\"],[0.6666666666666666,\"#ed7953\"],[0.7777777777777778,\"#fb9f3a\"],[0.8888888888888888,\"#fdca26\"],[1.0,\"#f0f921\"]],\"sequentialminus\":[[0.0,\"#0d0887\"],[0.1111111111111111,\"#46039f\"],[0.2222222222222222,\"#7201a8\"],[0.3333333333333333,\"#9c179e\"],[0.4444444444444444,\"#bd3786\"],[0.5555555555555556,\"#d8576b\"],[0.6666666666666666,\"#ed7953\"],[0.7777777777777778,\"#fb9f3a\"],[0.8888888888888888,\"#fdca26\"],[1.0,\"#f0f921\"]],\"diverging\":[[0,\"#8e0152\"],[0.1,\"#c51b7d\"],[0.2,\"#de77ae\"],[0.3,\"#f1b6da\"],[0.4,\"#fde0ef\"],[0.5,\"#f7f7f7\"],[0.6,\"#e6f5d0\"],[0.7,\"#b8e186\"],[0.8,\"#7fbc41\"],[0.9,\"#4d9221\"],[1,\"#276419\"]]},\"xaxis\":{\"gridcolor\":\"white\",\"linecolor\":\"white\",\"ticks\":\"\",\"title\":{\"standoff\":15},\"zerolinecolor\":\"white\",\"automargin\":true,\"zerolinewidth\":2},\"yaxis\":{\"gridcolor\":\"white\",\"linecolor\":\"white\",\"ticks\":\"\",\"title\":{\"standoff\":15},\"zerolinecolor\":\"white\",\"automargin\":true,\"zerolinewidth\":2},\"scene\":{\"xaxis\":{\"backgroundcolor\":\"#E5ECF6\",\"gridcolor\":\"white\",\"linecolor\":\"white\",\"showbackground\":true,\"ticks\":\"\",\"zerolinecolor\":\"white\",\"gridwidth\":2},\"yaxis\":{\"backgroundcolor\":\"#E5ECF6\",\"gridcolor\":\"white\",\"linecolor\":\"white\",\"showbackground\":true,\"ticks\":\"\",\"zerolinecolor\":\"white\",\"gridwidth\":2},\"zaxis\":{\"backgroundcolor\":\"#E5ECF6\",\"gridcolor\":\"white\",\"linecolor\":\"white\",\"showbackground\":true,\"ticks\":\"\",\"zerolinecolor\":\"white\",\"gridwidth\":2}},\"shapedefaults\":{\"line\":{\"color\":\"#2a3f5f\"}},\"annotationdefaults\":{\"arrowcolor\":\"#2a3f5f\",\"arrowhead\":0,\"arrowwidth\":1},\"geo\":{\"bgcolor\":\"white\",\"landcolor\":\"#E5ECF6\",\"subunitcolor\":\"white\",\"showland\":true,\"showlakes\":true,\"lakecolor\":\"white\"},\"title\":{\"x\":0.05},\"mapbox\":{\"style\":\"light\"}}},\"legend\":{\"tracegroupgap\":0},\"title\":{\"text\":\"Proportion of Foreign Employees\"}},                        {\"responsive\": true}                    ).then(function(){\n",
              "                            \n",
              "var gd = document.getElementById('f93d0815-4662-4b4e-b334-df6500548100');\n",
              "var x = new MutationObserver(function (mutations, observer) {{\n",
              "        var display = window.getComputedStyle(gd).display;\n",
              "        if (!display || display === 'none') {{\n",
              "            console.log([gd, 'removed!']);\n",
              "            Plotly.purge(gd);\n",
              "            observer.disconnect();\n",
              "        }}\n",
              "}});\n",
              "\n",
              "// Listen for the removal of the full notebook cells\n",
              "var notebookContainer = gd.closest('#notebook-container');\n",
              "if (notebookContainer) {{\n",
              "    x.observe(notebookContainer, {childList: true});\n",
              "}}\n",
              "\n",
              "// Listen for the clearing of the current output cell\n",
              "var outputEl = gd.closest('.output');\n",
              "if (outputEl) {{\n",
              "    x.observe(outputEl, {childList: true});\n",
              "}}\n",
              "\n",
              "                        })                };                            </script>        </div>\n",
              "</body>\n",
              "</html>"
            ]
          },
          "metadata": {}
        }
      ]
    },
    {
      "cell_type": "code",
      "source": [
        "xdf=df[df['foreign_employee']=='Yes']['company_location'].value_counts()\n",
        "xdf.head(10)"
      ],
      "metadata": {
        "id": "UA3s19UKMIb0",
        "colab": {
          "base_uri": "https://localhost:8080/"
        },
        "outputId": "6f85eb2a-00c4-4ba8-ce5c-b25e1fd09fed"
      },
      "execution_count": null,
      "outputs": [
        {
          "output_type": "execute_result",
          "data": {
            "text/plain": [
              "USA    41\n",
              "DEU    10\n",
              "GBR     6\n",
              "AUS     5\n",
              "CAN     4\n",
              "SGP     2\n",
              "LUX     2\n",
              "FRA     2\n",
              "ASM     2\n",
              "ESP     2\n",
              "Name: company_location, dtype: int64"
            ]
          },
          "metadata": {},
          "execution_count": 225
        }
      ]
    },
    {
      "cell_type": "code",
      "source": [
        "fig = px.choropleth(locations = xdf.index, color = xdf, title = 'Countries with People working in Foreign Country')\n",
        "fig.show()"
      ],
      "metadata": {
        "id": "BV-LvE1hM9AX",
        "colab": {
          "base_uri": "https://localhost:8080/",
          "height": 542
        },
        "outputId": "c4f8c13c-c04b-4226-924a-e2cf0bea3a2b"
      },
      "execution_count": null,
      "outputs": [
        {
          "output_type": "display_data",
          "data": {
            "text/html": [
              "<html>\n",
              "<head><meta charset=\"utf-8\" /></head>\n",
              "<body>\n",
              "    <div>            <script src=\"https://cdnjs.cloudflare.com/ajax/libs/mathjax/2.7.5/MathJax.js?config=TeX-AMS-MML_SVG\"></script><script type=\"text/javascript\">if (window.MathJax && window.MathJax.Hub && window.MathJax.Hub.Config) {window.MathJax.Hub.Config({SVG: {font: \"STIX-Web\"}});}</script>                <script type=\"text/javascript\">window.PlotlyConfig = {MathJaxConfig: 'local'};</script>\n",
              "        <script src=\"https://cdn.plot.ly/plotly-2.18.2.min.js\"></script>                <div id=\"55d21aa3-a1dc-4e5c-bc86-ab32b05c4547\" class=\"plotly-graph-div\" style=\"height:525px; width:100%;\"></div>            <script type=\"text/javascript\">                                    window.PLOTLYENV=window.PLOTLYENV || {};                                    if (document.getElementById(\"55d21aa3-a1dc-4e5c-bc86-ab32b05c4547\")) {                    Plotly.newPlot(                        \"55d21aa3-a1dc-4e5c-bc86-ab32b05c4547\",                        [{\"coloraxis\":\"coloraxis\",\"geo\":\"geo\",\"hovertemplate\":\"locations=%{location}<br>color=%{z}<extra></extra>\",\"locations\":[\"USA\",\"DEU\",\"GBR\",\"AUS\",\"CAN\",\"SGP\",\"LUX\",\"FRA\",\"ASM\",\"ESP\",\"IND\",\"PAK\",\"MYS\",\"CHE\",\"AUT\",\"CHN\",\"DNK\",\"POL\",\"ROU\",\"CZE\",\"FIN\",\"ALB\",\"MEX\",\"IDN\",\"RUS\",\"EST\",\"BHS\",\"CRI\",\"ISR\"],\"name\":\"\",\"z\":[41,10,6,5,4,2,2,2,2,2,2,1,1,1,1,1,1,1,1,1,1,1,1,1,1,1,1,1,1],\"type\":\"choropleth\"}],                        {\"template\":{\"data\":{\"histogram2dcontour\":[{\"type\":\"histogram2dcontour\",\"colorbar\":{\"outlinewidth\":0,\"ticks\":\"\"},\"colorscale\":[[0.0,\"#0d0887\"],[0.1111111111111111,\"#46039f\"],[0.2222222222222222,\"#7201a8\"],[0.3333333333333333,\"#9c179e\"],[0.4444444444444444,\"#bd3786\"],[0.5555555555555556,\"#d8576b\"],[0.6666666666666666,\"#ed7953\"],[0.7777777777777778,\"#fb9f3a\"],[0.8888888888888888,\"#fdca26\"],[1.0,\"#f0f921\"]]}],\"choropleth\":[{\"type\":\"choropleth\",\"colorbar\":{\"outlinewidth\":0,\"ticks\":\"\"}}],\"histogram2d\":[{\"type\":\"histogram2d\",\"colorbar\":{\"outlinewidth\":0,\"ticks\":\"\"},\"colorscale\":[[0.0,\"#0d0887\"],[0.1111111111111111,\"#46039f\"],[0.2222222222222222,\"#7201a8\"],[0.3333333333333333,\"#9c179e\"],[0.4444444444444444,\"#bd3786\"],[0.5555555555555556,\"#d8576b\"],[0.6666666666666666,\"#ed7953\"],[0.7777777777777778,\"#fb9f3a\"],[0.8888888888888888,\"#fdca26\"],[1.0,\"#f0f921\"]]}],\"heatmap\":[{\"type\":\"heatmap\",\"colorbar\":{\"outlinewidth\":0,\"ticks\":\"\"},\"colorscale\":[[0.0,\"#0d0887\"],[0.1111111111111111,\"#46039f\"],[0.2222222222222222,\"#7201a8\"],[0.3333333333333333,\"#9c179e\"],[0.4444444444444444,\"#bd3786\"],[0.5555555555555556,\"#d8576b\"],[0.6666666666666666,\"#ed7953\"],[0.7777777777777778,\"#fb9f3a\"],[0.8888888888888888,\"#fdca26\"],[1.0,\"#f0f921\"]]}],\"heatmapgl\":[{\"type\":\"heatmapgl\",\"colorbar\":{\"outlinewidth\":0,\"ticks\":\"\"},\"colorscale\":[[0.0,\"#0d0887\"],[0.1111111111111111,\"#46039f\"],[0.2222222222222222,\"#7201a8\"],[0.3333333333333333,\"#9c179e\"],[0.4444444444444444,\"#bd3786\"],[0.5555555555555556,\"#d8576b\"],[0.6666666666666666,\"#ed7953\"],[0.7777777777777778,\"#fb9f3a\"],[0.8888888888888888,\"#fdca26\"],[1.0,\"#f0f921\"]]}],\"contourcarpet\":[{\"type\":\"contourcarpet\",\"colorbar\":{\"outlinewidth\":0,\"ticks\":\"\"}}],\"contour\":[{\"type\":\"contour\",\"colorbar\":{\"outlinewidth\":0,\"ticks\":\"\"},\"colorscale\":[[0.0,\"#0d0887\"],[0.1111111111111111,\"#46039f\"],[0.2222222222222222,\"#7201a8\"],[0.3333333333333333,\"#9c179e\"],[0.4444444444444444,\"#bd3786\"],[0.5555555555555556,\"#d8576b\"],[0.6666666666666666,\"#ed7953\"],[0.7777777777777778,\"#fb9f3a\"],[0.8888888888888888,\"#fdca26\"],[1.0,\"#f0f921\"]]}],\"surface\":[{\"type\":\"surface\",\"colorbar\":{\"outlinewidth\":0,\"ticks\":\"\"},\"colorscale\":[[0.0,\"#0d0887\"],[0.1111111111111111,\"#46039f\"],[0.2222222222222222,\"#7201a8\"],[0.3333333333333333,\"#9c179e\"],[0.4444444444444444,\"#bd3786\"],[0.5555555555555556,\"#d8576b\"],[0.6666666666666666,\"#ed7953\"],[0.7777777777777778,\"#fb9f3a\"],[0.8888888888888888,\"#fdca26\"],[1.0,\"#f0f921\"]]}],\"mesh3d\":[{\"type\":\"mesh3d\",\"colorbar\":{\"outlinewidth\":0,\"ticks\":\"\"}}],\"scatter\":[{\"fillpattern\":{\"fillmode\":\"overlay\",\"size\":10,\"solidity\":0.2},\"type\":\"scatter\"}],\"parcoords\":[{\"type\":\"parcoords\",\"line\":{\"colorbar\":{\"outlinewidth\":0,\"ticks\":\"\"}}}],\"scatterpolargl\":[{\"type\":\"scatterpolargl\",\"marker\":{\"colorbar\":{\"outlinewidth\":0,\"ticks\":\"\"}}}],\"bar\":[{\"error_x\":{\"color\":\"#2a3f5f\"},\"error_y\":{\"color\":\"#2a3f5f\"},\"marker\":{\"line\":{\"color\":\"#E5ECF6\",\"width\":0.5},\"pattern\":{\"fillmode\":\"overlay\",\"size\":10,\"solidity\":0.2}},\"type\":\"bar\"}],\"scattergeo\":[{\"type\":\"scattergeo\",\"marker\":{\"colorbar\":{\"outlinewidth\":0,\"ticks\":\"\"}}}],\"scatterpolar\":[{\"type\":\"scatterpolar\",\"marker\":{\"colorbar\":{\"outlinewidth\":0,\"ticks\":\"\"}}}],\"histogram\":[{\"marker\":{\"pattern\":{\"fillmode\":\"overlay\",\"size\":10,\"solidity\":0.2}},\"type\":\"histogram\"}],\"scattergl\":[{\"type\":\"scattergl\",\"marker\":{\"colorbar\":{\"outlinewidth\":0,\"ticks\":\"\"}}}],\"scatter3d\":[{\"type\":\"scatter3d\",\"line\":{\"colorbar\":{\"outlinewidth\":0,\"ticks\":\"\"}},\"marker\":{\"colorbar\":{\"outlinewidth\":0,\"ticks\":\"\"}}}],\"scattermapbox\":[{\"type\":\"scattermapbox\",\"marker\":{\"colorbar\":{\"outlinewidth\":0,\"ticks\":\"\"}}}],\"scatterternary\":[{\"type\":\"scatterternary\",\"marker\":{\"colorbar\":{\"outlinewidth\":0,\"ticks\":\"\"}}}],\"scattercarpet\":[{\"type\":\"scattercarpet\",\"marker\":{\"colorbar\":{\"outlinewidth\":0,\"ticks\":\"\"}}}],\"carpet\":[{\"aaxis\":{\"endlinecolor\":\"#2a3f5f\",\"gridcolor\":\"white\",\"linecolor\":\"white\",\"minorgridcolor\":\"white\",\"startlinecolor\":\"#2a3f5f\"},\"baxis\":{\"endlinecolor\":\"#2a3f5f\",\"gridcolor\":\"white\",\"linecolor\":\"white\",\"minorgridcolor\":\"white\",\"startlinecolor\":\"#2a3f5f\"},\"type\":\"carpet\"}],\"table\":[{\"cells\":{\"fill\":{\"color\":\"#EBF0F8\"},\"line\":{\"color\":\"white\"}},\"header\":{\"fill\":{\"color\":\"#C8D4E3\"},\"line\":{\"color\":\"white\"}},\"type\":\"table\"}],\"barpolar\":[{\"marker\":{\"line\":{\"color\":\"#E5ECF6\",\"width\":0.5},\"pattern\":{\"fillmode\":\"overlay\",\"size\":10,\"solidity\":0.2}},\"type\":\"barpolar\"}],\"pie\":[{\"automargin\":true,\"type\":\"pie\"}]},\"layout\":{\"autotypenumbers\":\"strict\",\"colorway\":[\"#636efa\",\"#EF553B\",\"#00cc96\",\"#ab63fa\",\"#FFA15A\",\"#19d3f3\",\"#FF6692\",\"#B6E880\",\"#FF97FF\",\"#FECB52\"],\"font\":{\"color\":\"#2a3f5f\"},\"hovermode\":\"closest\",\"hoverlabel\":{\"align\":\"left\"},\"paper_bgcolor\":\"white\",\"plot_bgcolor\":\"#E5ECF6\",\"polar\":{\"bgcolor\":\"#E5ECF6\",\"angularaxis\":{\"gridcolor\":\"white\",\"linecolor\":\"white\",\"ticks\":\"\"},\"radialaxis\":{\"gridcolor\":\"white\",\"linecolor\":\"white\",\"ticks\":\"\"}},\"ternary\":{\"bgcolor\":\"#E5ECF6\",\"aaxis\":{\"gridcolor\":\"white\",\"linecolor\":\"white\",\"ticks\":\"\"},\"baxis\":{\"gridcolor\":\"white\",\"linecolor\":\"white\",\"ticks\":\"\"},\"caxis\":{\"gridcolor\":\"white\",\"linecolor\":\"white\",\"ticks\":\"\"}},\"coloraxis\":{\"colorbar\":{\"outlinewidth\":0,\"ticks\":\"\"}},\"colorscale\":{\"sequential\":[[0.0,\"#0d0887\"],[0.1111111111111111,\"#46039f\"],[0.2222222222222222,\"#7201a8\"],[0.3333333333333333,\"#9c179e\"],[0.4444444444444444,\"#bd3786\"],[0.5555555555555556,\"#d8576b\"],[0.6666666666666666,\"#ed7953\"],[0.7777777777777778,\"#fb9f3a\"],[0.8888888888888888,\"#fdca26\"],[1.0,\"#f0f921\"]],\"sequentialminus\":[[0.0,\"#0d0887\"],[0.1111111111111111,\"#46039f\"],[0.2222222222222222,\"#7201a8\"],[0.3333333333333333,\"#9c179e\"],[0.4444444444444444,\"#bd3786\"],[0.5555555555555556,\"#d8576b\"],[0.6666666666666666,\"#ed7953\"],[0.7777777777777778,\"#fb9f3a\"],[0.8888888888888888,\"#fdca26\"],[1.0,\"#f0f921\"]],\"diverging\":[[0,\"#8e0152\"],[0.1,\"#c51b7d\"],[0.2,\"#de77ae\"],[0.3,\"#f1b6da\"],[0.4,\"#fde0ef\"],[0.5,\"#f7f7f7\"],[0.6,\"#e6f5d0\"],[0.7,\"#b8e186\"],[0.8,\"#7fbc41\"],[0.9,\"#4d9221\"],[1,\"#276419\"]]},\"xaxis\":{\"gridcolor\":\"white\",\"linecolor\":\"white\",\"ticks\":\"\",\"title\":{\"standoff\":15},\"zerolinecolor\":\"white\",\"automargin\":true,\"zerolinewidth\":2},\"yaxis\":{\"gridcolor\":\"white\",\"linecolor\":\"white\",\"ticks\":\"\",\"title\":{\"standoff\":15},\"zerolinecolor\":\"white\",\"automargin\":true,\"zerolinewidth\":2},\"scene\":{\"xaxis\":{\"backgroundcolor\":\"#E5ECF6\",\"gridcolor\":\"white\",\"linecolor\":\"white\",\"showbackground\":true,\"ticks\":\"\",\"zerolinecolor\":\"white\",\"gridwidth\":2},\"yaxis\":{\"backgroundcolor\":\"#E5ECF6\",\"gridcolor\":\"white\",\"linecolor\":\"white\",\"showbackground\":true,\"ticks\":\"\",\"zerolinecolor\":\"white\",\"gridwidth\":2},\"zaxis\":{\"backgroundcolor\":\"#E5ECF6\",\"gridcolor\":\"white\",\"linecolor\":\"white\",\"showbackground\":true,\"ticks\":\"\",\"zerolinecolor\":\"white\",\"gridwidth\":2}},\"shapedefaults\":{\"line\":{\"color\":\"#2a3f5f\"}},\"annotationdefaults\":{\"arrowcolor\":\"#2a3f5f\",\"arrowhead\":0,\"arrowwidth\":1},\"geo\":{\"bgcolor\":\"white\",\"landcolor\":\"#E5ECF6\",\"subunitcolor\":\"white\",\"showland\":true,\"showlakes\":true,\"lakecolor\":\"white\"},\"title\":{\"x\":0.05},\"mapbox\":{\"style\":\"light\"}}},\"geo\":{\"domain\":{\"x\":[0.0,1.0],\"y\":[0.0,1.0]},\"center\":{}},\"coloraxis\":{\"colorbar\":{\"title\":{\"text\":\"color\"}},\"colorscale\":[[0.0,\"#0d0887\"],[0.1111111111111111,\"#46039f\"],[0.2222222222222222,\"#7201a8\"],[0.3333333333333333,\"#9c179e\"],[0.4444444444444444,\"#bd3786\"],[0.5555555555555556,\"#d8576b\"],[0.6666666666666666,\"#ed7953\"],[0.7777777777777778,\"#fb9f3a\"],[0.8888888888888888,\"#fdca26\"],[1.0,\"#f0f921\"]]},\"legend\":{\"tracegroupgap\":0},\"title\":{\"text\":\"Countries with People working in Foreign Country\"}},                        {\"responsive\": true}                    ).then(function(){\n",
              "                            \n",
              "var gd = document.getElementById('55d21aa3-a1dc-4e5c-bc86-ab32b05c4547');\n",
              "var x = new MutationObserver(function (mutations, observer) {{\n",
              "        var display = window.getComputedStyle(gd).display;\n",
              "        if (!display || display === 'none') {{\n",
              "            console.log([gd, 'removed!']);\n",
              "            Plotly.purge(gd);\n",
              "            observer.disconnect();\n",
              "        }}\n",
              "}});\n",
              "\n",
              "// Listen for the removal of the full notebook cells\n",
              "var notebookContainer = gd.closest('#notebook-container');\n",
              "if (notebookContainer) {{\n",
              "    x.observe(notebookContainer, {childList: true});\n",
              "}}\n",
              "\n",
              "// Listen for the clearing of the current output cell\n",
              "var outputEl = gd.closest('.output');\n",
              "if (outputEl) {{\n",
              "    x.observe(outputEl, {childList: true});\n",
              "}}\n",
              "\n",
              "                        })                };                            </script>        </div>\n",
              "</body>\n",
              "</html>"
            ]
          },
          "metadata": {}
        }
      ]
    },
    {
      "cell_type": "markdown",
      "source": [
        "India tops the list of No. of people working for a foreign country followed by France.\n"
      ],
      "metadata": {
        "id": "6NNrcn1HNBdM"
      }
    },
    {
      "cell_type": "markdown",
      "source": [
        "# 11 To determine the weakest and strongest currencies, we can compare their conversion rates to USD as the standard currency. By analyzing the variations in currency exchange rates, we can identify which currencies are relatively stronger or weaker compared to the US dollar."
      ],
      "metadata": {
        "id": "cmj6ROzONDrX"
      }
    },
    {
      "cell_type": "code",
      "source": [
        "#Top 5 Strongest Currencies\n",
        "curr_stgh=df.groupby(['salary_currency'])['conversion_rates'].median()"
      ],
      "metadata": {
        "id": "CGLs22G7NJqe"
      },
      "execution_count": null,
      "outputs": []
    },
    {
      "cell_type": "code",
      "source": [
        "curr_stgh.sort_values().head(5)"
      ],
      "metadata": {
        "colab": {
          "base_uri": "https://localhost:8080/"
        },
        "id": "sbTNGVvAa2VC",
        "outputId": "54098f80-d7df-4975-b68b-ead28b51d92b"
      },
      "execution_count": null,
      "outputs": [
        {
          "output_type": "execute_result",
          "data": {
            "text/plain": [
              "salary_currency\n",
              "GBP    0.812134\n",
              "EUR    0.931899\n",
              "CHF    0.955135\n",
              "USD    1.000000\n",
              "CAD    1.301833\n",
              "Name: conversion_rates, dtype: float64"
            ]
          },
          "metadata": {},
          "execution_count": 228
        }
      ]
    },
    {
      "cell_type": "code",
      "source": [
        "xdf=df[df.conversion_rates<1.36]\n",
        "px.box(xdf, x='salary_currency',y='conversion_rates')"
      ],
      "metadata": {
        "id": "E6HGqgujNOEz",
        "colab": {
          "base_uri": "https://localhost:8080/",
          "height": 542
        },
        "outputId": "dd4f228c-abb1-4c44-da1e-633186b1fabc"
      },
      "execution_count": null,
      "outputs": [
        {
          "output_type": "display_data",
          "data": {
            "text/html": [
              "<html>\n",
              "<head><meta charset=\"utf-8\" /></head>\n",
              "<body>\n",
              "    <div>            <script src=\"https://cdnjs.cloudflare.com/ajax/libs/mathjax/2.7.5/MathJax.js?config=TeX-AMS-MML_SVG\"></script><script type=\"text/javascript\">if (window.MathJax && window.MathJax.Hub && window.MathJax.Hub.Config) {window.MathJax.Hub.Config({SVG: {font: \"STIX-Web\"}});}</script>                <script type=\"text/javascript\">window.PlotlyConfig = {MathJaxConfig: 'local'};</script>\n",
              "        <script src=\"https://cdn.plot.ly/plotly-2.18.2.min.js\"></script>                <div id=\"cdf8f602-5d5e-46f7-8636-8df7e9a84a03\" class=\"plotly-graph-div\" style=\"height:525px; width:100%;\"></div>            <script type=\"text/javascript\">                                    window.PLOTLYENV=window.PLOTLYENV || {};                                    if (document.getElementById(\"cdf8f602-5d5e-46f7-8636-8df7e9a84a03\")) {                    Plotly.newPlot(                        \"cdf8f602-5d5e-46f7-8636-8df7e9a84a03\",                        [{\"alignmentgroup\":\"True\",\"hovertemplate\":\"salary_currency=%{x}<br>conversion_rates=%{y}<extra></extra>\",\"legendgroup\":\"\",\"marker\":{\"color\":\"#636efa\"},\"name\":\"\",\"notched\":false,\"offsetgroup\":\"\",\"orientation\":\"v\",\"showlegend\":false,\"x\":[\"EUR\",\"USD\",\"USD\",\"USD\",\"USD\",\"USD\",\"USD\",\"USD\",\"USD\",\"USD\",\"USD\",\"USD\",\"USD\",\"USD\",\"USD\",\"USD\",\"USD\",\"USD\",\"USD\",\"USD\",\"USD\",\"USD\",\"USD\",\"USD\",\"USD\",\"USD\",\"USD\",\"USD\",\"USD\",\"USD\",\"USD\",\"USD\",\"USD\",\"USD\",\"USD\",\"USD\",\"USD\",\"USD\",\"USD\",\"USD\",\"USD\",\"USD\",\"USD\",\"USD\",\"USD\",\"USD\",\"USD\",\"USD\",\"USD\",\"USD\",\"USD\",\"USD\",\"USD\",\"USD\",\"USD\",\"USD\",\"USD\",\"USD\",\"USD\",\"USD\",\"USD\",\"USD\",\"USD\",\"USD\",\"USD\",\"USD\",\"USD\",\"USD\",\"USD\",\"USD\",\"USD\",\"USD\",\"USD\",\"USD\",\"USD\",\"USD\",\"USD\",\"USD\",\"USD\",\"USD\",\"EUR\",\"USD\",\"EUR\",\"USD\",\"USD\",\"USD\",\"USD\",\"USD\",\"USD\",\"EUR\",\"EUR\",\"USD\",\"USD\",\"USD\",\"USD\",\"USD\",\"USD\",\"USD\",\"USD\",\"USD\",\"USD\",\"USD\",\"USD\",\"USD\",\"USD\",\"USD\",\"USD\",\"USD\",\"USD\",\"USD\",\"USD\",\"USD\",\"CHF\",\"USD\",\"USD\",\"USD\",\"USD\",\"USD\",\"USD\",\"USD\",\"USD\",\"USD\",\"USD\",\"USD\",\"USD\",\"USD\",\"USD\",\"USD\",\"USD\",\"USD\",\"USD\",\"USD\",\"USD\",\"USD\",\"USD\",\"USD\",\"USD\",\"USD\",\"USD\",\"USD\",\"USD\",\"USD\",\"USD\",\"USD\",\"USD\",\"USD\",\"USD\",\"USD\",\"USD\",\"USD\",\"USD\",\"USD\",\"USD\",\"USD\",\"GBP\",\"GBP\",\"USD\",\"USD\",\"USD\",\"USD\",\"USD\",\"USD\",\"USD\",\"USD\",\"USD\",\"USD\",\"USD\",\"USD\",\"USD\",\"USD\",\"USD\",\"USD\",\"GBP\",\"GBP\",\"USD\",\"USD\",\"USD\",\"USD\",\"GBP\",\"GBP\",\"USD\",\"GBP\",\"GBP\",\"USD\",\"USD\",\"USD\",\"USD\",\"USD\",\"USD\",\"USD\",\"USD\",\"USD\",\"USD\",\"USD\",\"USD\",\"USD\",\"USD\",\"USD\",\"USD\",\"EUR\",\"USD\",\"USD\",\"USD\",\"USD\",\"USD\",\"USD\",\"USD\",\"USD\",\"USD\",\"USD\",\"USD\",\"USD\",\"USD\",\"USD\",\"SGD\",\"USD\",\"USD\",\"USD\",\"USD\",\"USD\",\"USD\",\"USD\",\"USD\",\"USD\",\"USD\",\"USD\",\"USD\",\"USD\",\"USD\",\"USD\",\"USD\",\"USD\",\"USD\",\"USD\",\"USD\",\"USD\",\"USD\",\"USD\",\"USD\",\"USD\",\"USD\",\"USD\",\"USD\",\"USD\",\"EUR\",\"USD\",\"USD\",\"USD\",\"USD\",\"USD\",\"USD\",\"USD\",\"USD\",\"USD\",\"USD\",\"USD\",\"USD\",\"USD\",\"USD\",\"EUR\",\"EUR\",\"USD\",\"USD\",\"USD\",\"USD\",\"USD\",\"USD\",\"USD\",\"USD\",\"USD\",\"USD\",\"USD\",\"USD\",\"USD\",\"USD\",\"USD\",\"USD\",\"USD\",\"USD\",\"USD\",\"USD\",\"USD\",\"USD\",\"USD\",\"USD\",\"USD\",\"USD\",\"USD\",\"USD\",\"USD\",\"USD\",\"USD\",\"USD\",\"USD\",\"USD\",\"USD\",\"USD\",\"USD\",\"USD\",\"USD\",\"USD\",\"USD\",\"USD\",\"USD\",\"USD\",\"USD\",\"USD\",\"USD\",\"USD\",\"USD\",\"USD\",\"USD\",\"USD\",\"USD\",\"USD\",\"USD\",\"USD\",\"CAD\",\"USD\",\"USD\",\"USD\",\"USD\",\"CAD\",\"USD\",\"USD\",\"USD\",\"USD\",\"USD\",\"USD\",\"USD\",\"USD\",\"USD\",\"USD\",\"USD\",\"USD\",\"USD\",\"USD\",\"USD\",\"USD\",\"USD\",\"USD\",\"USD\",\"USD\",\"USD\",\"USD\",\"USD\",\"USD\",\"USD\",\"USD\",\"USD\",\"USD\",\"USD\",\"USD\",\"USD\",\"USD\",\"EUR\",\"USD\",\"USD\",\"USD\",\"USD\",\"USD\",\"USD\",\"GBP\",\"GBP\",\"USD\",\"USD\",\"USD\",\"USD\",\"USD\",\"USD\",\"USD\",\"USD\",\"USD\",\"USD\",\"USD\",\"USD\",\"USD\",\"USD\",\"USD\",\"USD\",\"USD\",\"USD\",\"USD\",\"USD\",\"USD\",\"USD\",\"USD\",\"USD\",\"EUR\",\"EUR\",\"USD\",\"USD\",\"USD\",\"USD\",\"USD\",\"USD\",\"USD\",\"USD\",\"USD\",\"USD\",\"USD\",\"USD\",\"USD\",\"USD\",\"USD\",\"USD\",\"USD\",\"USD\",\"USD\",\"USD\",\"USD\",\"USD\",\"USD\",\"USD\",\"USD\",\"USD\",\"USD\",\"USD\",\"USD\",\"USD\",\"USD\",\"USD\",\"USD\",\"USD\",\"USD\",\"USD\",\"USD\",\"USD\",\"USD\",\"USD\",\"USD\",\"USD\",\"USD\",\"USD\",\"USD\",\"USD\",\"USD\",\"USD\",\"USD\",\"USD\",\"USD\",\"USD\",\"USD\",\"USD\",\"USD\",\"USD\",\"USD\",\"USD\",\"GBP\",\"GBP\",\"USD\",\"USD\",\"USD\",\"USD\",\"USD\",\"USD\",\"USD\",\"USD\",\"USD\",\"USD\",\"USD\",\"USD\",\"USD\",\"USD\",\"USD\",\"USD\",\"EUR\",\"USD\",\"USD\",\"USD\",\"USD\",\"USD\",\"USD\",\"USD\",\"USD\",\"USD\",\"USD\",\"USD\",\"USD\",\"USD\",\"USD\",\"USD\",\"USD\",\"USD\",\"USD\",\"USD\",\"USD\",\"EUR\",\"USD\",\"USD\",\"USD\",\"USD\",\"USD\",\"USD\",\"USD\",\"USD\",\"USD\",\"USD\",\"USD\",\"USD\",\"USD\",\"USD\",\"USD\",\"USD\",\"USD\",\"USD\",\"USD\",\"USD\",\"USD\",\"USD\",\"USD\",\"USD\",\"USD\",\"USD\",\"USD\",\"USD\",\"USD\",\"USD\",\"USD\",\"USD\",\"USD\",\"USD\",\"USD\",\"USD\",\"USD\",\"USD\",\"USD\",\"USD\",\"USD\",\"USD\",\"USD\",\"USD\",\"USD\",\"USD\",\"USD\",\"USD\",\"USD\",\"USD\",\"USD\",\"USD\",\"USD\",\"USD\",\"USD\",\"USD\",\"USD\",\"USD\",\"USD\",\"USD\",\"USD\",\"USD\",\"USD\",\"USD\",\"USD\",\"EUR\",\"EUR\",\"USD\",\"USD\",\"USD\",\"USD\",\"USD\",\"USD\",\"USD\",\"USD\",\"USD\",\"USD\",\"USD\",\"USD\",\"USD\",\"EUR\",\"USD\",\"USD\",\"USD\",\"USD\",\"GBP\",\"GBP\",\"USD\",\"USD\",\"GBP\",\"GBP\",\"GBP\",\"GBP\",\"USD\",\"USD\",\"USD\",\"USD\",\"CHF\",\"EUR\",\"USD\",\"USD\",\"USD\",\"USD\",\"USD\",\"USD\",\"USD\",\"USD\",\"USD\",\"USD\",\"EUR\",\"EUR\",\"USD\",\"USD\",\"USD\",\"USD\",\"USD\",\"USD\",\"USD\",\"USD\",\"USD\",\"USD\",\"USD\",\"USD\",\"USD\",\"USD\",\"USD\",\"USD\",\"USD\",\"USD\",\"USD\",\"USD\",\"USD\",\"USD\",\"USD\",\"USD\",\"USD\",\"USD\",\"USD\",\"USD\",\"USD\",\"USD\",\"USD\",\"USD\",\"USD\",\"USD\",\"USD\",\"USD\",\"USD\",\"USD\",\"USD\",\"USD\",\"USD\",\"USD\",\"USD\",\"USD\",\"USD\",\"USD\",\"USD\",\"USD\",\"USD\",\"USD\",\"USD\",\"USD\",\"USD\",\"USD\",\"USD\",\"USD\",\"USD\",\"USD\",\"USD\",\"USD\",\"USD\",\"USD\",\"USD\",\"USD\",\"USD\",\"USD\",\"USD\",\"USD\",\"USD\",\"USD\",\"USD\",\"USD\",\"USD\",\"USD\",\"USD\",\"USD\",\"USD\",\"USD\",\"USD\",\"USD\",\"USD\",\"USD\",\"USD\",\"USD\",\"USD\",\"USD\",\"USD\",\"USD\",\"USD\",\"USD\",\"USD\",\"USD\",\"USD\",\"USD\",\"USD\",\"USD\",\"USD\",\"USD\",\"USD\",\"USD\",\"GBP\",\"GBP\",\"USD\",\"USD\",\"USD\",\"USD\",\"USD\",\"USD\",\"USD\",\"USD\",\"USD\",\"USD\",\"USD\",\"USD\",\"USD\",\"USD\",\"USD\",\"USD\",\"USD\",\"USD\",\"USD\",\"USD\",\"USD\",\"USD\",\"USD\",\"USD\",\"USD\",\"SGD\",\"USD\",\"USD\",\"USD\",\"USD\",\"USD\",\"USD\",\"USD\",\"USD\",\"USD\",\"USD\",\"USD\",\"USD\",\"USD\",\"USD\",\"USD\",\"USD\",\"USD\",\"USD\",\"USD\",\"USD\",\"USD\",\"USD\",\"USD\",\"USD\",\"USD\",\"USD\",\"USD\",\"USD\",\"USD\",\"USD\",\"EUR\",\"EUR\",\"EUR\",\"EUR\",\"GBP\",\"GBP\",\"GBP\",\"GBP\",\"USD\",\"USD\",\"USD\",\"USD\",\"USD\",\"USD\",\"USD\",\"USD\",\"USD\",\"USD\",\"USD\",\"USD\",\"USD\",\"USD\",\"USD\",\"USD\",\"USD\",\"USD\",\"USD\",\"USD\",\"USD\",\"USD\",\"USD\",\"USD\",\"USD\",\"USD\",\"USD\",\"USD\",\"USD\",\"USD\",\"USD\",\"USD\",\"EUR\",\"USD\",\"USD\",\"USD\",\"USD\",\"USD\",\"USD\",\"USD\",\"USD\",\"USD\",\"USD\",\"USD\",\"USD\",\"USD\",\"USD\",\"USD\",\"USD\",\"USD\",\"USD\",\"USD\",\"USD\",\"USD\",\"USD\",\"USD\",\"USD\",\"USD\",\"USD\",\"USD\",\"USD\",\"USD\",\"USD\",\"EUR\",\"USD\",\"USD\",\"USD\",\"USD\",\"USD\",\"USD\",\"USD\",\"USD\",\"USD\",\"USD\",\"USD\",\"USD\",\"USD\",\"USD\",\"EUR\",\"USD\",\"USD\",\"USD\",\"USD\",\"USD\",\"USD\",\"USD\",\"USD\",\"USD\",\"USD\",\"USD\",\"USD\",\"USD\",\"USD\",\"USD\",\"USD\",\"USD\",\"USD\",\"USD\",\"USD\",\"USD\",\"USD\",\"USD\",\"USD\",\"GBP\",\"GBP\",\"USD\",\"USD\",\"USD\",\"USD\",\"USD\",\"USD\",\"USD\",\"USD\",\"USD\",\"USD\",\"USD\",\"USD\",\"USD\",\"USD\",\"USD\",\"USD\",\"USD\",\"USD\",\"USD\",\"USD\",\"USD\",\"USD\",\"USD\",\"USD\",\"USD\",\"USD\",\"USD\",\"USD\",\"USD\",\"USD\",\"USD\",\"USD\",\"USD\",\"USD\",\"USD\",\"USD\",\"USD\",\"USD\",\"GBP\",\"GBP\",\"USD\",\"USD\",\"USD\",\"USD\",\"USD\",\"USD\",\"USD\",\"USD\",\"USD\",\"USD\",\"USD\",\"USD\",\"USD\",\"USD\",\"GBP\",\"GBP\",\"USD\",\"USD\",\"USD\",\"USD\",\"USD\",\"USD\",\"USD\",\"USD\",\"USD\",\"USD\",\"USD\",\"USD\",\"USD\",\"USD\",\"USD\",\"USD\",\"USD\",\"USD\",\"USD\",\"USD\",\"USD\",\"USD\",\"USD\",\"USD\",\"USD\",\"USD\",\"USD\",\"USD\",\"USD\",\"USD\",\"EUR\",\"EUR\",\"USD\",\"USD\",\"USD\",\"USD\",\"USD\",\"USD\",\"EUR\",\"USD\",\"USD\",\"USD\",\"USD\",\"USD\",\"USD\",\"USD\",\"USD\",\"USD\",\"USD\",\"EUR\",\"EUR\",\"USD\",\"USD\",\"USD\",\"USD\",\"USD\",\"USD\",\"USD\",\"USD\",\"USD\",\"USD\",\"USD\",\"USD\",\"USD\",\"USD\",\"USD\",\"USD\",\"USD\",\"USD\",\"USD\",\"USD\",\"USD\",\"USD\",\"USD\",\"USD\",\"USD\",\"USD\",\"USD\",\"USD\",\"USD\",\"USD\",\"USD\",\"USD\",\"USD\",\"USD\",\"EUR\",\"EUR\",\"USD\",\"USD\",\"USD\",\"USD\",\"USD\",\"USD\",\"USD\",\"USD\",\"GBP\",\"GBP\",\"GBP\",\"GBP\",\"USD\",\"USD\",\"USD\",\"USD\",\"USD\",\"USD\",\"USD\",\"USD\",\"USD\",\"USD\",\"USD\",\"USD\",\"GBP\",\"GBP\",\"USD\",\"USD\",\"USD\",\"USD\",\"USD\",\"USD\",\"USD\",\"USD\",\"USD\",\"USD\",\"USD\",\"USD\",\"USD\",\"USD\",\"USD\",\"USD\",\"USD\",\"USD\",\"USD\",\"USD\",\"EUR\",\"USD\",\"USD\",\"USD\",\"USD\",\"USD\",\"USD\",\"USD\",\"USD\",\"USD\",\"USD\",\"USD\",\"USD\",\"USD\",\"USD\",\"USD\",\"USD\",\"USD\",\"USD\",\"USD\",\"USD\",\"USD\",\"USD\",\"USD\",\"USD\",\"USD\",\"USD\",\"USD\",\"USD\",\"USD\",\"USD\",\"USD\",\"USD\",\"USD\",\"USD\",\"USD\",\"USD\",\"GBP\",\"USD\",\"USD\",\"USD\",\"USD\",\"USD\",\"USD\",\"USD\",\"USD\",\"USD\",\"USD\",\"USD\",\"USD\",\"USD\",\"USD\",\"USD\",\"USD\",\"USD\",\"USD\",\"USD\",\"USD\",\"USD\",\"USD\",\"USD\",\"USD\",\"USD\",\"USD\",\"USD\",\"USD\",\"USD\",\"USD\",\"USD\",\"USD\",\"USD\",\"USD\",\"USD\",\"USD\",\"USD\",\"USD\",\"USD\",\"USD\",\"USD\",\"USD\",\"USD\",\"USD\",\"USD\",\"USD\",\"USD\",\"USD\",\"USD\",\"USD\",\"USD\",\"USD\",\"USD\",\"USD\",\"USD\",\"GBP\",\"GBP\",\"USD\",\"USD\",\"USD\",\"USD\",\"USD\",\"USD\",\"USD\",\"USD\",\"EUR\",\"EUR\",\"USD\",\"USD\",\"USD\",\"USD\",\"USD\",\"USD\",\"USD\",\"USD\",\"USD\",\"USD\",\"USD\",\"USD\",\"USD\",\"USD\",\"GBP\",\"GBP\",\"USD\",\"USD\",\"USD\",\"USD\",\"USD\",\"USD\",\"USD\",\"USD\",\"USD\",\"USD\",\"USD\",\"USD\",\"USD\",\"GBP\",\"USD\",\"USD\",\"USD\",\"USD\",\"USD\",\"USD\",\"USD\",\"USD\",\"USD\",\"USD\",\"USD\",\"USD\",\"USD\",\"USD\",\"EUR\",\"EUR\",\"USD\",\"USD\",\"USD\",\"USD\",\"USD\",\"USD\",\"GBP\",\"USD\",\"USD\",\"USD\",\"USD\",\"USD\",\"USD\",\"USD\",\"USD\",\"USD\",\"USD\",\"USD\",\"USD\",\"USD\",\"USD\",\"USD\",\"USD\",\"USD\",\"USD\",\"USD\",\"USD\",\"USD\",\"USD\",\"USD\",\"USD\",\"USD\",\"USD\",\"USD\",\"USD\",\"EUR\",\"USD\",\"USD\",\"USD\",\"USD\",\"USD\",\"USD\",\"USD\",\"USD\",\"USD\",\"USD\",\"USD\",\"USD\",\"USD\",\"USD\",\"USD\",\"USD\",\"GBP\",\"GBP\",\"USD\",\"USD\",\"USD\",\"USD\",\"USD\",\"USD\",\"USD\",\"USD\",\"USD\",\"USD\",\"USD\",\"USD\",\"USD\",\"USD\",\"USD\",\"USD\",\"USD\",\"USD\",\"USD\",\"USD\",\"USD\",\"USD\",\"USD\",\"USD\",\"USD\",\"USD\",\"USD\",\"USD\",\"USD\",\"USD\",\"USD\",\"USD\",\"USD\",\"USD\",\"USD\",\"USD\",\"GBP\",\"GBP\",\"USD\",\"USD\",\"GBP\",\"GBP\",\"EUR\",\"USD\",\"USD\",\"USD\",\"GBP\",\"GBP\",\"GBP\",\"GBP\",\"USD\",\"USD\",\"USD\",\"USD\",\"USD\",\"USD\",\"USD\",\"USD\",\"EUR\",\"EUR\",\"CAD\",\"USD\",\"USD\",\"USD\",\"USD\",\"USD\",\"EUR\",\"USD\",\"USD\",\"USD\",\"USD\",\"USD\",\"USD\",\"USD\",\"USD\",\"USD\",\"USD\",\"USD\",\"USD\",\"USD\",\"USD\",\"USD\",\"USD\",\"USD\",\"USD\",\"USD\",\"USD\",\"USD\",\"USD\",\"USD\",\"USD\",\"USD\",\"USD\",\"USD\",\"USD\",\"USD\",\"USD\",\"USD\",\"USD\",\"USD\",\"USD\",\"USD\",\"USD\",\"USD\",\"USD\",\"USD\",\"USD\",\"USD\",\"USD\",\"USD\",\"USD\",\"USD\",\"USD\",\"USD\",\"USD\",\"USD\",\"USD\",\"USD\",\"USD\",\"USD\",\"USD\",\"USD\",\"USD\",\"USD\",\"USD\",\"USD\",\"USD\",\"USD\",\"USD\",\"USD\",\"USD\",\"USD\",\"USD\",\"USD\",\"USD\",\"USD\",\"USD\",\"USD\",\"USD\",\"USD\",\"USD\",\"USD\",\"USD\",\"USD\",\"USD\",\"USD\",\"USD\",\"USD\",\"USD\",\"USD\",\"USD\",\"USD\",\"USD\",\"USD\",\"USD\",\"USD\",\"USD\",\"USD\",\"USD\",\"USD\",\"USD\",\"USD\",\"USD\",\"USD\",\"SGD\",\"EUR\",\"USD\",\"USD\",\"USD\",\"USD\",\"USD\",\"USD\",\"USD\",\"USD\",\"USD\",\"USD\",\"USD\",\"USD\",\"USD\",\"USD\",\"USD\",\"USD\",\"USD\",\"USD\",\"USD\",\"USD\",\"USD\",\"USD\",\"USD\",\"USD\",\"USD\",\"USD\",\"USD\",\"USD\",\"USD\",\"USD\",\"USD\",\"USD\",\"USD\",\"USD\",\"USD\",\"USD\",\"USD\",\"EUR\",\"USD\",\"USD\",\"USD\",\"USD\",\"USD\",\"USD\",\"USD\",\"USD\",\"USD\",\"USD\",\"USD\",\"USD\",\"USD\",\"USD\",\"USD\",\"USD\",\"USD\",\"USD\",\"USD\",\"USD\",\"USD\",\"USD\",\"USD\",\"USD\",\"USD\",\"USD\",\"USD\",\"USD\",\"USD\",\"USD\",\"USD\",\"USD\",\"USD\",\"USD\",\"USD\",\"USD\",\"USD\",\"USD\",\"USD\",\"USD\",\"USD\",\"USD\",\"USD\",\"USD\",\"USD\",\"USD\",\"USD\",\"USD\",\"USD\",\"USD\",\"USD\",\"USD\",\"USD\",\"USD\",\"USD\",\"USD\",\"USD\",\"USD\",\"USD\",\"USD\",\"USD\",\"EUR\",\"EUR\",\"USD\",\"USD\",\"EUR\",\"EUR\",\"USD\",\"USD\",\"USD\",\"USD\",\"USD\",\"USD\",\"USD\",\"USD\",\"EUR\",\"EUR\",\"EUR\",\"EUR\",\"EUR\",\"USD\",\"USD\",\"USD\",\"USD\",\"USD\",\"USD\",\"USD\",\"USD\",\"USD\",\"USD\",\"USD\",\"USD\",\"USD\",\"USD\",\"USD\",\"USD\",\"USD\",\"USD\",\"USD\",\"USD\",\"USD\",\"USD\",\"USD\",\"USD\",\"USD\",\"USD\",\"USD\",\"USD\",\"USD\",\"USD\",\"USD\",\"USD\",\"USD\",\"USD\",\"EUR\",\"EUR\",\"USD\",\"USD\",\"USD\",\"USD\",\"USD\",\"USD\",\"USD\",\"USD\",\"USD\",\"USD\",\"USD\",\"GBP\",\"GBP\",\"USD\",\"USD\",\"USD\",\"USD\",\"USD\",\"USD\",\"USD\",\"USD\",\"USD\",\"USD\",\"USD\",\"USD\",\"USD\",\"USD\",\"USD\",\"USD\",\"USD\",\"USD\",\"USD\",\"USD\",\"USD\",\"USD\",\"USD\",\"USD\",\"USD\",\"USD\",\"USD\",\"USD\",\"USD\",\"USD\",\"USD\",\"USD\",\"USD\",\"USD\",\"USD\",\"USD\",\"USD\",\"USD\",\"USD\",\"USD\",\"USD\",\"USD\",\"USD\",\"USD\",\"USD\",\"USD\",\"USD\",\"USD\",\"USD\",\"USD\",\"USD\",\"USD\",\"USD\",\"USD\",\"USD\",\"USD\",\"USD\",\"USD\",\"USD\",\"USD\",\"USD\",\"USD\",\"USD\",\"USD\",\"USD\",\"USD\",\"USD\",\"USD\",\"USD\",\"USD\",\"USD\",\"USD\",\"USD\",\"USD\",\"USD\",\"USD\",\"USD\",\"USD\",\"USD\",\"USD\",\"USD\",\"USD\",\"USD\",\"USD\",\"USD\",\"USD\",\"GBP\",\"EUR\",\"USD\",\"USD\",\"USD\",\"USD\",\"GBP\",\"GBP\",\"USD\",\"USD\",\"USD\",\"USD\",\"USD\",\"USD\",\"USD\",\"USD\",\"USD\",\"USD\",\"USD\",\"USD\",\"USD\",\"USD\",\"EUR\",\"EUR\",\"USD\",\"USD\",\"USD\",\"USD\",\"USD\",\"USD\",\"USD\",\"USD\",\"USD\",\"USD\",\"USD\",\"USD\",\"USD\",\"USD\",\"USD\",\"USD\",\"USD\",\"USD\",\"USD\",\"USD\",\"USD\",\"USD\",\"USD\",\"USD\",\"USD\",\"USD\",\"USD\",\"USD\",\"USD\",\"USD\",\"USD\",\"USD\",\"USD\",\"USD\",\"USD\",\"USD\",\"USD\",\"USD\",\"USD\",\"USD\",\"USD\",\"USD\",\"USD\",\"USD\",\"USD\",\"USD\",\"USD\",\"USD\",\"USD\",\"USD\",\"USD\",\"USD\",\"USD\",\"USD\",\"USD\",\"USD\",\"USD\",\"USD\",\"USD\",\"USD\",\"USD\",\"USD\",\"USD\",\"USD\",\"USD\",\"USD\",\"GBP\",\"GBP\",\"USD\",\"USD\",\"GBP\",\"GBP\",\"USD\",\"USD\",\"USD\",\"USD\",\"USD\",\"USD\",\"USD\",\"USD\",\"USD\",\"USD\",\"USD\",\"USD\",\"USD\",\"USD\",\"USD\",\"USD\",\"USD\",\"USD\",\"USD\",\"USD\",\"USD\",\"USD\",\"USD\",\"USD\",\"USD\",\"USD\",\"USD\",\"USD\",\"USD\",\"USD\",\"USD\",\"USD\",\"USD\",\"USD\",\"USD\",\"USD\",\"USD\",\"USD\",\"USD\",\"USD\",\"USD\",\"USD\",\"USD\",\"USD\",\"USD\",\"USD\",\"USD\",\"USD\",\"USD\",\"USD\",\"USD\",\"USD\",\"USD\",\"EUR\",\"EUR\",\"USD\",\"USD\",\"USD\",\"USD\",\"USD\",\"USD\",\"USD\",\"USD\",\"USD\",\"USD\",\"USD\",\"USD\",\"USD\",\"EUR\",\"USD\",\"USD\",\"USD\",\"USD\",\"USD\",\"USD\",\"USD\",\"USD\",\"USD\",\"USD\",\"USD\",\"USD\",\"USD\",\"USD\",\"USD\",\"USD\",\"USD\",\"USD\",\"USD\",\"USD\",\"USD\",\"GBP\",\"GBP\",\"USD\",\"USD\",\"USD\",\"USD\",\"USD\",\"USD\",\"USD\",\"USD\",\"USD\",\"USD\",\"USD\",\"USD\",\"USD\",\"USD\",\"USD\",\"USD\",\"USD\",\"USD\",\"USD\",\"USD\",\"USD\",\"USD\",\"USD\",\"USD\",\"USD\",\"USD\",\"USD\",\"GBP\",\"GBP\",\"USD\",\"USD\",\"USD\",\"USD\",\"USD\",\"USD\",\"USD\",\"USD\",\"USD\",\"USD\",\"USD\",\"USD\",\"EUR\",\"EUR\",\"USD\",\"USD\",\"USD\",\"USD\",\"USD\",\"USD\",\"USD\",\"USD\",\"USD\",\"EUR\",\"EUR\",\"USD\",\"USD\",\"USD\",\"USD\",\"USD\",\"USD\",\"USD\",\"USD\",\"USD\",\"USD\",\"USD\",\"USD\",\"USD\",\"USD\",\"USD\",\"USD\",\"EUR\",\"USD\",\"USD\",\"USD\",\"USD\",\"USD\",\"USD\",\"USD\",\"USD\",\"USD\",\"USD\",\"USD\",\"USD\",\"USD\",\"USD\",\"USD\",\"USD\",\"USD\",\"USD\",\"USD\",\"USD\",\"USD\",\"USD\",\"USD\",\"USD\",\"USD\",\"USD\",\"USD\",\"USD\",\"USD\",\"USD\",\"USD\",\"USD\",\"USD\",\"USD\",\"USD\",\"USD\",\"USD\",\"USD\",\"USD\",\"USD\",\"GBP\",\"GBP\",\"EUR\",\"EUR\",\"USD\",\"USD\",\"EUR\",\"USD\",\"USD\",\"USD\",\"USD\",\"USD\",\"USD\",\"USD\",\"USD\",\"USD\",\"USD\",\"USD\",\"USD\",\"USD\",\"USD\",\"USD\",\"USD\",\"USD\",\"USD\",\"EUR\",\"EUR\",\"USD\",\"USD\",\"USD\",\"USD\",\"USD\",\"USD\",\"USD\",\"EUR\",\"EUR\",\"USD\",\"USD\",\"USD\",\"USD\",\"USD\",\"USD\",\"USD\",\"USD\",\"USD\",\"USD\",\"USD\",\"USD\",\"USD\",\"USD\",\"USD\",\"USD\",\"USD\",\"USD\",\"USD\",\"USD\",\"USD\",\"USD\",\"USD\",\"USD\",\"USD\",\"USD\",\"USD\",\"USD\",\"USD\",\"USD\",\"USD\",\"USD\",\"USD\",\"USD\",\"USD\",\"USD\",\"USD\",\"USD\",\"USD\",\"USD\",\"USD\",\"USD\",\"USD\",\"USD\",\"USD\",\"EUR\",\"EUR\",\"USD\",\"USD\",\"USD\",\"USD\",\"USD\",\"USD\",\"USD\",\"USD\",\"USD\",\"USD\",\"USD\",\"USD\",\"USD\",\"USD\",\"USD\",\"USD\",\"USD\",\"EUR\",\"EUR\",\"GBP\",\"GBP\",\"USD\",\"USD\",\"USD\",\"USD\",\"USD\",\"USD\",\"USD\",\"USD\",\"USD\",\"USD\",\"USD\",\"USD\",\"USD\",\"USD\",\"USD\",\"USD\",\"USD\",\"USD\",\"USD\",\"USD\",\"USD\",\"USD\",\"USD\",\"EUR\",\"EUR\",\"USD\",\"USD\",\"USD\",\"USD\",\"USD\",\"USD\",\"USD\",\"USD\",\"USD\",\"EUR\",\"EUR\",\"USD\",\"USD\",\"USD\",\"USD\",\"USD\",\"USD\",\"USD\",\"USD\",\"USD\",\"USD\",\"USD\",\"USD\",\"USD\",\"USD\",\"USD\",\"USD\",\"GBP\",\"GBP\",\"USD\",\"USD\",\"CAD\",\"USD\",\"USD\",\"USD\",\"USD\",\"USD\",\"USD\",\"USD\",\"USD\",\"USD\",\"USD\",\"USD\",\"USD\",\"USD\",\"USD\",\"USD\",\"USD\",\"USD\",\"USD\",\"EUR\",\"EUR\",\"USD\",\"USD\",\"USD\",\"USD\",\"USD\",\"USD\",\"EUR\",\"EUR\",\"USD\",\"USD\",\"USD\",\"USD\",\"EUR\",\"USD\",\"USD\",\"USD\",\"USD\",\"USD\",\"USD\",\"USD\",\"USD\",\"USD\",\"USD\",\"USD\",\"USD\",\"USD\",\"USD\",\"USD\",\"USD\",\"USD\",\"USD\",\"USD\",\"USD\",\"USD\",\"USD\",\"USD\",\"USD\",\"USD\",\"USD\",\"USD\",\"USD\",\"EUR\",\"USD\",\"USD\",\"EUR\",\"EUR\",\"USD\",\"USD\",\"USD\",\"USD\",\"USD\",\"USD\",\"GBP\",\"GBP\",\"USD\",\"USD\",\"EUR\",\"EUR\",\"USD\",\"USD\",\"USD\",\"EUR\",\"USD\",\"USD\",\"GBP\",\"GBP\",\"USD\",\"USD\",\"USD\",\"USD\",\"USD\",\"USD\",\"USD\",\"USD\",\"USD\",\"USD\",\"USD\",\"USD\",\"USD\",\"USD\",\"USD\",\"USD\",\"USD\",\"USD\",\"EUR\",\"EUR\",\"USD\",\"USD\",\"USD\",\"USD\",\"USD\",\"USD\",\"USD\",\"USD\",\"USD\",\"USD\",\"USD\",\"USD\",\"USD\",\"USD\",\"USD\",\"USD\",\"EUR\",\"USD\",\"USD\",\"USD\",\"USD\",\"USD\",\"USD\",\"USD\",\"USD\",\"USD\",\"USD\",\"USD\",\"USD\",\"USD\",\"USD\",\"USD\",\"USD\",\"GBP\",\"GBP\",\"USD\",\"USD\",\"USD\",\"USD\",\"USD\",\"USD\",\"USD\",\"USD\",\"USD\",\"USD\",\"USD\",\"USD\",\"USD\",\"USD\",\"USD\",\"USD\",\"USD\",\"USD\",\"USD\",\"USD\",\"USD\",\"USD\",\"USD\",\"USD\",\"EUR\",\"EUR\",\"USD\",\"USD\",\"USD\",\"USD\",\"USD\",\"USD\",\"USD\",\"USD\",\"USD\",\"USD\",\"USD\",\"USD\",\"USD\",\"USD\",\"USD\",\"USD\",\"USD\",\"USD\",\"USD\",\"USD\",\"USD\",\"USD\",\"USD\",\"USD\",\"USD\",\"USD\",\"USD\",\"GBP\",\"GBP\",\"USD\",\"USD\",\"USD\",\"USD\",\"USD\",\"USD\",\"USD\",\"USD\",\"USD\",\"CHF\",\"USD\",\"EUR\",\"USD\",\"USD\",\"USD\",\"USD\",\"USD\",\"USD\",\"USD\",\"USD\",\"USD\",\"USD\",\"USD\",\"USD\",\"USD\",\"USD\",\"USD\",\"USD\",\"USD\",\"USD\",\"USD\",\"USD\",\"USD\",\"USD\",\"USD\",\"USD\",\"USD\",\"USD\",\"USD\",\"USD\",\"USD\",\"USD\",\"USD\",\"USD\",\"USD\",\"USD\",\"EUR\",\"USD\",\"USD\",\"USD\",\"USD\",\"USD\",\"USD\",\"USD\",\"USD\",\"USD\",\"USD\",\"EUR\",\"USD\",\"USD\",\"USD\",\"USD\",\"USD\",\"USD\",\"USD\",\"USD\",\"USD\",\"USD\",\"USD\",\"USD\",\"USD\",\"USD\",\"USD\",\"USD\",\"EUR\",\"EUR\",\"USD\",\"USD\",\"USD\",\"USD\",\"GBP\",\"GBP\",\"USD\",\"USD\",\"USD\",\"USD\",\"USD\",\"USD\",\"USD\",\"USD\",\"USD\",\"USD\",\"USD\",\"USD\",\"USD\",\"USD\",\"USD\",\"USD\",\"USD\",\"USD\",\"GBP\",\"USD\",\"EUR\",\"USD\",\"USD\",\"USD\",\"USD\",\"USD\",\"USD\",\"USD\",\"USD\",\"USD\",\"USD\",\"USD\",\"USD\",\"USD\",\"GBP\",\"GBP\",\"USD\",\"USD\",\"USD\",\"USD\",\"USD\",\"USD\",\"USD\",\"USD\",\"USD\",\"USD\",\"USD\",\"USD\",\"USD\",\"USD\",\"USD\",\"USD\",\"USD\",\"USD\",\"USD\",\"USD\",\"USD\",\"USD\",\"USD\",\"USD\",\"USD\",\"USD\",\"USD\",\"USD\",\"USD\",\"USD\",\"USD\",\"USD\",\"USD\",\"USD\",\"USD\",\"USD\",\"USD\",\"USD\",\"USD\",\"USD\",\"USD\",\"USD\",\"USD\",\"USD\",\"USD\",\"USD\",\"USD\",\"USD\",\"USD\",\"USD\",\"EUR\",\"EUR\",\"USD\",\"USD\",\"USD\",\"USD\",\"USD\",\"USD\",\"USD\",\"USD\",\"USD\",\"USD\",\"USD\",\"USD\",\"USD\",\"USD\",\"USD\",\"USD\",\"USD\",\"USD\",\"USD\",\"USD\",\"USD\",\"USD\",\"USD\",\"USD\",\"USD\",\"USD\",\"USD\",\"USD\",\"USD\",\"USD\",\"USD\",\"CAD\",\"USD\",\"GBP\",\"USD\",\"USD\",\"USD\",\"USD\",\"AUD\",\"USD\",\"USD\",\"USD\",\"USD\",\"USD\",\"USD\",\"USD\",\"USD\",\"USD\",\"USD\",\"USD\",\"USD\",\"USD\",\"USD\",\"USD\",\"USD\",\"GBP\",\"GBP\",\"USD\",\"USD\",\"USD\",\"USD\",\"USD\",\"USD\",\"USD\",\"USD\",\"USD\",\"USD\",\"USD\",\"USD\",\"USD\",\"USD\",\"USD\",\"USD\",\"USD\",\"USD\",\"USD\",\"USD\",\"USD\",\"USD\",\"USD\",\"USD\",\"USD\",\"USD\",\"USD\",\"USD\",\"USD\",\"USD\",\"USD\",\"USD\",\"USD\",\"USD\",\"USD\",\"USD\",\"USD\",\"USD\",\"USD\",\"USD\",\"USD\",\"USD\",\"USD\",\"USD\",\"USD\",\"USD\",\"EUR\",\"EUR\",\"USD\",\"USD\",\"USD\",\"USD\",\"USD\",\"CAD\",\"USD\",\"USD\",\"EUR\",\"EUR\",\"USD\",\"USD\",\"USD\",\"USD\",\"USD\",\"USD\",\"USD\",\"CAD\",\"USD\",\"USD\",\"USD\",\"USD\",\"USD\",\"USD\",\"USD\",\"USD\",\"USD\",\"USD\",\"EUR\",\"EUR\",\"EUR\",\"USD\",\"USD\",\"USD\",\"USD\",\"EUR\",\"USD\",\"EUR\",\"EUR\",\"USD\",\"USD\",\"USD\",\"USD\",\"USD\",\"USD\",\"USD\",\"USD\",\"USD\",\"USD\",\"AUD\",\"USD\",\"USD\",\"USD\",\"USD\",\"USD\",\"USD\",\"USD\",\"USD\",\"USD\",\"USD\",\"USD\",\"USD\",\"USD\",\"USD\",\"USD\",\"USD\",\"USD\",\"USD\",\"USD\",\"USD\",\"USD\",\"USD\",\"USD\",\"USD\",\"USD\",\"USD\",\"USD\",\"USD\",\"USD\",\"USD\",\"USD\",\"USD\",\"USD\",\"USD\",\"USD\",\"USD\",\"USD\",\"USD\",\"USD\",\"USD\",\"USD\",\"USD\",\"USD\",\"USD\",\"USD\",\"USD\",\"USD\",\"USD\",\"USD\",\"USD\",\"USD\",\"USD\",\"USD\",\"USD\",\"USD\",\"USD\",\"USD\",\"USD\",\"USD\",\"USD\",\"USD\",\"USD\",\"USD\",\"USD\",\"USD\",\"USD\",\"USD\",\"USD\",\"USD\",\"USD\",\"USD\",\"USD\",\"USD\",\"USD\",\"USD\",\"USD\",\"USD\",\"USD\",\"GBP\",\"GBP\",\"USD\",\"USD\",\"EUR\",\"EUR\",\"USD\",\"GBP\",\"USD\",\"USD\",\"EUR\",\"USD\",\"USD\",\"USD\",\"USD\",\"USD\",\"USD\",\"USD\",\"USD\",\"USD\",\"USD\",\"USD\",\"USD\",\"USD\",\"USD\",\"USD\",\"EUR\",\"USD\",\"USD\",\"USD\",\"GBP\",\"GBP\",\"USD\",\"USD\",\"USD\",\"USD\",\"USD\",\"USD\",\"USD\",\"USD\",\"USD\",\"USD\",\"USD\",\"USD\",\"USD\",\"USD\",\"USD\",\"USD\",\"USD\",\"USD\",\"USD\",\"USD\",\"USD\",\"USD\",\"USD\",\"USD\",\"USD\",\"USD\",\"USD\",\"USD\",\"USD\",\"USD\",\"USD\",\"USD\",\"USD\",\"USD\",\"USD\",\"USD\",\"EUR\",\"USD\",\"USD\",\"USD\",\"USD\",\"USD\",\"USD\",\"USD\",\"USD\",\"USD\",\"USD\",\"USD\",\"USD\",\"GBP\",\"USD\",\"USD\",\"USD\",\"USD\",\"USD\",\"USD\",\"USD\",\"EUR\",\"USD\",\"USD\",\"USD\",\"USD\",\"USD\",\"USD\",\"USD\",\"USD\",\"USD\",\"USD\",\"USD\",\"USD\",\"USD\",\"USD\",\"USD\",\"USD\",\"EUR\",\"EUR\",\"GBP\",\"GBP\",\"EUR\",\"EUR\",\"USD\",\"USD\",\"USD\",\"USD\",\"GBP\",\"GBP\",\"USD\",\"USD\",\"GBP\",\"GBP\",\"USD\",\"USD\",\"USD\",\"USD\",\"USD\",\"EUR\",\"USD\",\"USD\",\"USD\",\"USD\",\"USD\",\"USD\",\"USD\",\"USD\",\"USD\",\"USD\",\"USD\",\"GBP\",\"GBP\",\"USD\",\"USD\",\"USD\",\"USD\",\"USD\",\"USD\",\"USD\",\"USD\",\"USD\",\"USD\",\"USD\",\"USD\",\"USD\",\"USD\",\"USD\",\"USD\",\"USD\",\"USD\",\"EUR\",\"USD\",\"USD\",\"USD\",\"USD\",\"USD\",\"USD\",\"USD\",\"USD\",\"USD\",\"USD\",\"USD\",\"EUR\",\"USD\",\"USD\",\"USD\",\"USD\",\"USD\",\"USD\",\"USD\",\"USD\",\"USD\",\"USD\",\"GBP\",\"USD\",\"USD\",\"USD\",\"USD\",\"USD\",\"USD\",\"USD\",\"USD\",\"USD\",\"USD\",\"USD\",\"USD\",\"USD\",\"USD\",\"USD\",\"EUR\",\"EUR\",\"USD\",\"USD\",\"USD\",\"USD\",\"USD\",\"USD\",\"USD\",\"USD\",\"USD\",\"USD\",\"USD\",\"USD\",\"USD\",\"USD\",\"USD\",\"USD\",\"USD\",\"USD\",\"USD\",\"USD\",\"GBP\",\"GBP\",\"USD\",\"USD\",\"USD\",\"USD\",\"USD\",\"USD\",\"GBP\",\"GBP\",\"GBP\",\"USD\",\"USD\",\"USD\",\"USD\",\"USD\",\"USD\",\"USD\",\"USD\",\"EUR\",\"USD\",\"USD\",\"USD\",\"USD\",\"USD\",\"USD\",\"USD\",\"EUR\",\"GBP\",\"USD\",\"USD\",\"USD\",\"USD\",\"USD\",\"USD\",\"USD\",\"USD\",\"USD\",\"USD\",\"USD\",\"USD\",\"USD\",\"USD\",\"USD\",\"USD\",\"USD\",\"USD\",\"USD\",\"USD\",\"USD\",\"USD\",\"USD\",\"USD\",\"USD\",\"USD\",\"EUR\",\"GBP\",\"USD\",\"USD\",\"USD\",\"USD\",\"USD\",\"USD\",\"USD\",\"EUR\",\"EUR\",\"USD\",\"USD\",\"USD\",\"USD\",\"USD\",\"USD\",\"USD\",\"USD\",\"USD\",\"USD\",\"USD\",\"USD\",\"USD\",\"USD\",\"USD\",\"USD\",\"USD\",\"USD\",\"EUR\",\"GBP\",\"GBP\",\"EUR\",\"USD\",\"USD\",\"USD\",\"USD\",\"GBP\",\"USD\",\"USD\",\"USD\",\"USD\",\"USD\",\"USD\",\"USD\",\"USD\",\"USD\",\"USD\",\"GBP\",\"GBP\",\"USD\",\"USD\",\"USD\",\"USD\",\"USD\",\"USD\",\"USD\",\"USD\",\"USD\",\"USD\",\"USD\",\"USD\",\"USD\",\"USD\",\"USD\",\"USD\",\"USD\",\"USD\",\"USD\",\"USD\",\"EUR\",\"USD\",\"USD\",\"USD\",\"USD\",\"GBP\",\"GBP\",\"USD\",\"USD\",\"USD\",\"USD\",\"USD\",\"USD\",\"USD\",\"USD\",\"EUR\",\"USD\",\"GBP\",\"GBP\",\"USD\",\"USD\",\"USD\",\"USD\",\"USD\",\"EUR\",\"GBP\",\"GBP\",\"USD\",\"USD\",\"USD\",\"USD\",\"USD\",\"USD\",\"USD\",\"USD\",\"EUR\",\"USD\",\"USD\",\"USD\",\"USD\",\"USD\",\"USD\",\"EUR\",\"EUR\",\"CAD\",\"USD\",\"USD\",\"USD\",\"USD\",\"USD\",\"USD\",\"USD\",\"USD\",\"GBP\",\"USD\",\"USD\",\"GBP\",\"GBP\",\"EUR\",\"EUR\",\"EUR\",\"EUR\",\"GBP\",\"GBP\",\"EUR\",\"EUR\",\"USD\",\"USD\",\"EUR\",\"EUR\",\"GBP\",\"GBP\",\"USD\",\"USD\",\"EUR\",\"EUR\",\"USD\",\"USD\",\"GBP\",\"GBP\",\"EUR\",\"EUR\",\"GBP\",\"GBP\",\"EUR\",\"USD\",\"USD\",\"USD\",\"USD\",\"USD\",\"USD\",\"USD\",\"USD\",\"USD\",\"USD\",\"USD\",\"USD\",\"USD\",\"USD\",\"USD\",\"GBP\",\"GBP\",\"GBP\",\"GBP\",\"USD\",\"USD\",\"USD\",\"USD\",\"USD\",\"USD\",\"USD\",\"USD\",\"USD\",\"USD\",\"USD\",\"USD\",\"USD\",\"USD\",\"USD\",\"USD\",\"USD\",\"USD\",\"USD\",\"USD\",\"USD\",\"USD\",\"USD\",\"USD\",\"GBP\",\"GBP\",\"USD\",\"USD\",\"GBP\",\"GBP\",\"USD\",\"USD\",\"USD\",\"USD\",\"USD\",\"USD\",\"USD\",\"USD\",\"GBP\",\"GBP\",\"USD\",\"USD\",\"USD\",\"USD\",\"USD\",\"USD\",\"USD\",\"USD\",\"USD\",\"USD\",\"USD\",\"USD\",\"USD\",\"USD\",\"USD\",\"USD\",\"USD\",\"USD\",\"USD\",\"USD\",\"USD\",\"USD\",\"USD\",\"USD\",\"USD\",\"USD\",\"USD\",\"USD\",\"USD\",\"USD\",\"USD\",\"USD\",\"USD\",\"USD\",\"USD\",\"USD\",\"USD\",\"USD\",\"USD\",\"USD\",\"USD\",\"USD\",\"USD\",\"USD\",\"USD\",\"USD\",\"USD\",\"USD\",\"USD\",\"USD\",\"USD\",\"USD\",\"USD\",\"USD\",\"USD\",\"USD\",\"USD\",\"USD\",\"USD\",\"USD\",\"USD\",\"USD\",\"USD\",\"USD\",\"USD\",\"USD\",\"USD\",\"USD\",\"USD\",\"USD\",\"GBP\",\"GBP\",\"USD\",\"USD\",\"USD\",\"USD\",\"USD\",\"USD\",\"USD\",\"USD\",\"USD\",\"USD\",\"USD\",\"USD\",\"USD\",\"USD\",\"USD\",\"USD\",\"USD\",\"USD\",\"USD\",\"USD\",\"USD\",\"USD\",\"USD\",\"USD\",\"USD\",\"USD\",\"USD\",\"USD\",\"USD\",\"USD\",\"USD\",\"USD\",\"USD\",\"USD\",\"USD\",\"USD\",\"USD\",\"USD\",\"USD\",\"USD\",\"USD\",\"USD\",\"USD\",\"USD\",\"USD\",\"USD\",\"GBP\",\"GBP\",\"USD\",\"USD\",\"USD\",\"USD\",\"USD\",\"USD\",\"USD\",\"USD\",\"USD\",\"USD\",\"USD\",\"USD\",\"USD\",\"USD\",\"CAD\",\"CAD\",\"CAD\",\"USD\",\"EUR\",\"EUR\",\"USD\",\"USD\",\"CAD\",\"USD\",\"EUR\",\"USD\",\"CAD\",\"USD\",\"USD\",\"EUR\",\"USD\",\"CAD\",\"USD\",\"USD\",\"USD\",\"USD\",\"EUR\",\"EUR\",\"EUR\",\"EUR\",\"USD\",\"USD\",\"USD\",\"CAD\",\"USD\",\"USD\",\"EUR\",\"USD\",\"EUR\",\"EUR\",\"USD\",\"USD\",\"USD\",\"USD\",\"USD\",\"USD\",\"USD\",\"USD\",\"USD\",\"CHF\",\"USD\",\"EUR\",\"USD\",\"USD\",\"USD\",\"USD\",\"USD\",\"USD\",\"USD\",\"USD\",\"USD\",\"EUR\",\"USD\",\"USD\",\"USD\",\"USD\",\"EUR\",\"USD\",\"EUR\",\"USD\",\"USD\",\"USD\",\"EUR\",\"GBP\",\"EUR\",\"USD\",\"USD\",\"USD\",\"USD\",\"USD\",\"USD\",\"EUR\",\"EUR\",\"EUR\",\"GBP\",\"USD\",\"USD\",\"USD\",\"USD\",\"USD\",\"USD\",\"EUR\",\"EUR\",\"EUR\",\"USD\",\"USD\",\"USD\",\"USD\",\"USD\",\"EUR\",\"EUR\",\"CAD\",\"USD\",\"USD\",\"CAD\",\"USD\",\"USD\",\"USD\",\"USD\",\"USD\",\"USD\",\"USD\",\"USD\",\"USD\",\"CAD\",\"EUR\",\"EUR\",\"USD\",\"GBP\",\"USD\",\"EUR\",\"USD\",\"USD\",\"USD\",\"USD\",\"EUR\",\"USD\",\"USD\",\"USD\",\"USD\",\"EUR\",\"USD\",\"USD\",\"EUR\",\"USD\",\"EUR\",\"EUR\",\"EUR\",\"GBP\",\"GBP\",\"EUR\",\"USD\",\"USD\",\"CAD\",\"GBP\",\"USD\",\"GBP\",\"USD\",\"EUR\",\"EUR\",\"USD\",\"GBP\",\"SGD\",\"USD\",\"USD\",\"USD\",\"USD\",\"USD\",\"USD\",\"USD\",\"EUR\",\"USD\",\"EUR\",\"USD\",\"GBP\",\"EUR\",\"GBP\",\"USD\",\"CAD\",\"USD\",\"USD\",\"CAD\",\"USD\",\"USD\",\"CAD\",\"USD\",\"USD\",\"USD\",\"USD\",\"GBP\",\"USD\",\"USD\",\"USD\",\"EUR\",\"USD\",\"USD\",\"EUR\",\"USD\",\"USD\",\"USD\",\"USD\",\"USD\",\"USD\",\"EUR\",\"USD\",\"EUR\",\"USD\",\"USD\",\"EUR\",\"USD\",\"USD\",\"USD\",\"EUR\",\"EUR\",\"USD\",\"EUR\",\"CAD\",\"USD\",\"EUR\",\"USD\",\"USD\",\"CAD\",\"USD\",\"USD\",\"USD\",\"USD\",\"EUR\",\"EUR\",\"USD\",\"EUR\",\"USD\",\"EUR\",\"EUR\",\"USD\",\"USD\",\"EUR\",\"USD\",\"EUR\",\"USD\",\"USD\",\"USD\",\"GBP\",\"GBP\",\"USD\",\"EUR\",\"EUR\",\"USD\",\"EUR\",\"EUR\",\"USD\",\"GBP\",\"EUR\",\"EUR\",\"USD\",\"USD\",\"USD\",\"USD\",\"USD\",\"USD\",\"EUR\",\"USD\",\"EUR\",\"USD\",\"EUR\",\"EUR\",\"EUR\",\"USD\",\"USD\",\"USD\",\"CAD\",\"GBP\",\"USD\",\"EUR\",\"USD\",\"USD\",\"USD\",\"USD\",\"USD\",\"EUR\",\"EUR\",\"EUR\",\"EUR\",\"EUR\",\"EUR\",\"EUR\",\"USD\",\"USD\",\"USD\",\"USD\",\"USD\",\"USD\",\"EUR\",\"USD\",\"USD\",\"USD\",\"USD\",\"EUR\",\"USD\",\"SGD\",\"USD\",\"EUR\",\"USD\",\"USD\",\"USD\",\"USD\",\"USD\"],\"x0\":\" \",\"xaxis\":\"x\",\"y\":[0.9318904562768646,1.0,1.0,1.0,1.0,1.0,1.0,1.0,1.0,1.0,1.0,1.0,1.0,1.0,1.0,1.0,1.0,1.0,1.0,1.0,1.0,1.0,1.0,1.0,1.0,1.0,1.0,1.0,1.0,1.0,1.0,1.0,1.0,1.0,1.0,1.0,1.0,1.0,1.0,1.0,1.0,1.0,1.0,1.0,1.0,1.0,1.0,1.0,1.0,1.0,1.0,1.0,1.0,1.0,1.0,1.0,1.0,1.0,1.0,1.0,1.0,1.0,1.0,1.0,1.0,1.0,1.0,1.0,1.0,1.0,1.0,1.0,1.0,1.0,1.0,1.0,1.0,1.0,1.0,1.0,0.9318862812002695,1.0,0.9318892501397834,1.0,1.0,1.0,1.0,1.0,1.0,0.9318892501397834,0.9318940747068416,1.0,1.0,1.0,1.0,1.0,1.0,1.0,1.0,1.0,1.0,1.0,1.0,1.0,1.0,1.0,1.0,1.0,1.0,1.0,1.0,1.0,0.9551436253006934,1.0,1.0,1.0,1.0,1.0,1.0,1.0,1.0,1.0,1.0,1.0,1.0,1.0,1.0,1.0,1.0,1.0,1.0,1.0,1.0,1.0,1.0,1.0,1.0,1.0,1.0,1.0,1.0,1.0,1.0,1.0,1.0,1.0,1.0,1.0,1.0,1.0,1.0,1.0,1.0,1.0,0.8229026809303132,0.8228904615239931,1.0,1.0,1.0,1.0,1.0,1.0,1.0,1.0,1.0,1.0,1.0,1.0,1.0,1.0,1.0,1.0,0.8228947609033556,0.8228904615239931,1.0,1.0,1.0,1.0,0.8228974968954321,0.8228947609033556,1.0,0.8228904615239931,0.8228955528991909,1.0,1.0,1.0,1.0,1.0,1.0,1.0,1.0,1.0,1.0,1.0,1.0,1.0,1.0,1.0,1.0,0.9318969694710553,1.0,1.0,1.0,1.0,1.0,1.0,1.0,1.0,1.0,1.0,1.0,1.0,1.0,1.0,1.3329778725673154,1.0,1.0,1.0,1.0,1.0,1.0,1.0,1.0,1.0,1.0,1.0,1.0,1.0,1.0,1.0,1.0,1.0,1.0,1.0,1.0,1.0,1.0,1.0,1.0,1.0,1.0,1.0,1.0,1.0,0.9517766497461929,1.0,1.0,1.0,1.0,1.0,1.0,1.0,1.0,1.0,1.0,1.0,1.0,1.0,1.0,0.9318892501397834,0.9318940747068416,1.0,1.0,1.0,1.0,1.0,1.0,1.0,1.0,1.0,1.0,1.0,1.0,1.0,1.0,1.0,1.0,1.0,1.0,1.0,1.0,1.0,1.0,1.0,1.0,1.0,1.0,1.0,1.0,1.0,1.0,1.0,1.0,1.0,1.0,1.0,1.0,1.0,1.0,1.0,1.0,1.0,1.0,1.0,1.0,1.0,1.0,1.0,1.0,1.0,1.0,1.0,1.0,1.0,1.0,1.0,1.0,1.3525809704153653,1.0,1.0,1.0,1.0,1.3525785944776147,1.0,1.0,1.0,1.0,1.0,1.0,1.0,1.0,1.0,1.0,1.0,1.0,1.0,1.0,1.0,1.0,1.0,1.0,1.0,1.0,1.0,1.0,1.0,1.0,1.0,1.0,1.0,1.0,1.0,1.0,1.0,1.0,0.9318892501397834,1.0,1.0,1.0,1.0,1.0,1.0,0.8228898134204549,0.8228895029774647,1.0,1.0,1.0,1.0,1.0,1.0,1.0,1.0,1.0,1.0,1.0,1.0,1.0,1.0,1.0,1.0,1.0,1.0,1.0,1.0,1.0,1.0,1.0,1.0,0.9318892501397834,0.9318940747068416,1.0,1.0,1.0,1.0,1.0,1.0,1.0,1.0,1.0,1.0,1.0,1.0,1.0,1.0,1.0,1.0,1.0,1.0,1.0,1.0,1.0,1.0,1.0,1.0,1.0,1.0,1.0,1.0,1.0,1.0,1.0,1.0,1.0,1.0,1.0,1.0,1.0,1.0,1.0,1.0,1.0,1.0,1.0,1.0,1.0,1.0,1.0,1.0,1.0,1.0,1.0,1.0,1.0,1.0,1.0,1.0,1.0,1.0,0.8228872370189538,0.8228947609033556,1.0,1.0,1.0,1.0,1.0,1.0,1.0,1.0,1.0,1.0,1.0,1.0,1.0,1.0,1.0,1.0,0.9517766497461929,1.0,1.0,1.0,1.0,1.0,1.0,1.0,1.0,1.0,1.0,1.0,1.0,1.0,1.0,1.0,1.0,1.0,1.0,1.0,1.0,0.9319230231582871,1.0,1.0,1.0,1.0,1.0,1.0,1.0,1.0,1.0,1.0,1.0,1.0,1.0,1.0,1.0,1.0,1.0,1.0,1.0,1.0,1.0,1.0,1.0,1.0,1.0,1.0,1.0,1.0,1.0,1.0,1.0,1.0,1.0,1.0,1.0,1.0,1.0,1.0,1.0,1.0,1.0,1.0,1.0,1.0,1.0,1.0,1.0,1.0,1.0,1.0,1.0,1.0,1.0,1.0,1.0,1.0,1.0,1.0,1.0,1.0,1.0,1.0,1.0,1.0,1.0,0.9318892501397834,0.9318969694710553,1.0,1.0,1.0,1.0,1.0,1.0,1.0,1.0,1.0,1.0,1.0,1.0,1.0,0.9319013116510961,1.0,1.0,1.0,1.0,0.8228889732877579,0.8229001351907365,1.0,1.0,0.8228904615239931,0.8229001351907365,0.8228872370189538,0.8228872370189538,1.0,1.0,1.0,1.0,0.9249089542748136,0.9517852772414543,1.0,1.0,1.0,1.0,1.0,1.0,1.0,1.0,1.0,1.0,0.9517784909668097,0.9318889055297622,1.0,1.0,1.0,1.0,1.0,1.0,1.0,1.0,1.0,1.0,1.0,1.0,1.0,1.0,1.0,1.0,1.0,1.0,1.0,1.0,1.0,1.0,1.0,1.0,1.0,1.0,1.0,1.0,1.0,1.0,1.0,1.0,1.0,1.0,1.0,1.0,1.0,1.0,1.0,1.0,1.0,1.0,1.0,1.0,1.0,1.0,1.0,1.0,1.0,1.0,1.0,1.0,1.0,1.0,1.0,1.0,1.0,1.0,1.0,1.0,1.0,1.0,1.0,1.0,1.0,1.0,1.0,1.0,1.0,1.0,1.0,1.0,1.0,1.0,1.0,1.0,1.0,1.0,1.0,1.0,1.0,1.0,1.0,1.0,1.0,1.0,1.0,1.0,1.0,1.0,1.0,1.0,1.0,1.0,1.0,1.0,1.0,1.0,1.0,1.0,0.8228904615239931,0.8228955528991909,1.0,1.0,1.0,1.0,1.0,1.0,1.0,1.0,1.0,1.0,1.0,1.0,1.0,1.0,1.0,1.0,1.0,1.0,1.0,1.0,1.0,1.0,1.0,1.0,1.0,1.3329778725673154,1.0,1.0,1.0,1.0,1.0,1.0,1.0,1.0,1.0,1.0,1.0,1.0,1.0,1.0,1.0,1.0,1.0,1.0,1.0,1.0,1.0,1.0,1.0,1.0,1.0,1.0,1.0,1.0,1.0,1.0,0.9318874957641478,0.9318892501397834,0.9318920070291283,0.9318892501397834,0.8228896203463292,0.8228948512269333,0.8228920237156458,0.8228948512269333,1.0,1.0,1.0,1.0,1.0,1.0,1.0,1.0,1.0,1.0,1.0,1.0,1.0,1.0,1.0,1.0,1.0,1.0,1.0,1.0,1.0,1.0,1.0,1.0,1.0,1.0,1.0,1.0,1.0,1.0,1.0,1.0,0.9318909282443986,1.0,1.0,1.0,1.0,1.0,1.0,1.0,1.0,1.0,1.0,1.0,1.0,1.0,1.0,1.0,1.0,1.0,1.0,1.0,1.0,1.0,1.0,1.0,1.0,1.0,1.0,1.0,1.0,1.0,1.0,0.9318882852323663,1.0,1.0,1.0,1.0,1.0,1.0,1.0,1.0,1.0,1.0,1.0,1.0,1.0,1.0,0.9318940747068416,1.0,1.0,1.0,1.0,1.0,1.0,1.0,1.0,1.0,1.0,1.0,1.0,1.0,1.0,1.0,1.0,1.0,1.0,1.0,1.0,1.0,1.0,1.0,1.0,0.8228928799193564,0.8228928799193564,1.0,1.0,1.0,1.0,1.0,1.0,1.0,1.0,1.0,1.0,1.0,1.0,1.0,1.0,1.0,1.0,1.0,1.0,1.0,1.0,1.0,1.0,1.0,1.0,1.0,1.0,1.0,1.0,1.0,1.0,1.0,1.0,1.0,1.0,1.0,1.0,1.0,1.0,0.8228889732877579,0.822890273688055,1.0,1.0,1.0,1.0,1.0,1.0,1.0,1.0,1.0,1.0,1.0,1.0,1.0,1.0,0.8228904615239931,0.8228938757333436,1.0,1.0,1.0,1.0,1.0,1.0,1.0,1.0,1.0,1.0,1.0,1.0,1.0,1.0,1.0,1.0,1.0,1.0,1.0,1.0,1.0,1.0,1.0,1.0,1.0,1.0,1.0,1.0,1.0,1.0,0.9318892501397834,0.9318940747068416,1.0,1.0,1.0,1.0,1.0,1.0,0.9318920070291283,1.0,1.0,1.0,1.0,1.0,1.0,1.0,1.0,1.0,1.0,0.9318886740754134,0.9318940747068416,1.0,1.0,1.0,1.0,1.0,1.0,1.0,1.0,1.0,1.0,1.0,1.0,1.0,1.0,1.0,1.0,1.0,1.0,1.0,1.0,1.0,1.0,1.0,1.0,1.0,1.0,1.0,1.0,1.0,1.0,1.0,1.0,1.0,1.0,0.9318882852323663,0.9318904562768646,1.0,1.0,1.0,1.0,1.0,1.0,1.0,1.0,0.8228963891097524,0.8229007633587786,0.8228875524056698,0.822887492449026,1.0,1.0,1.0,1.0,1.0,1.0,1.0,1.0,1.0,1.0,1.0,1.0,0.8229001351907365,0.8228904615239931,1.0,1.0,1.0,1.0,1.0,1.0,1.0,1.0,1.0,1.0,1.0,1.0,1.0,1.0,1.0,1.0,1.0,1.0,1.0,1.0,0.9318940747068416,1.0,1.0,1.0,1.0,1.0,1.0,1.0,1.0,1.0,1.0,1.0,1.0,1.0,1.0,1.0,1.0,1.0,1.0,1.0,1.0,1.0,1.0,1.0,1.0,1.0,1.0,1.0,1.0,1.0,1.0,1.0,1.0,1.0,1.0,1.0,1.0,0.8228884249915546,1.0,1.0,1.0,1.0,1.0,1.0,1.0,1.0,1.0,1.0,1.0,1.0,1.0,1.0,1.0,1.0,1.0,1.0,1.0,1.0,1.0,1.0,1.0,1.0,1.0,1.0,1.0,1.0,1.0,1.0,1.0,1.0,1.0,1.0,1.0,1.0,1.0,1.0,1.0,1.0,1.0,1.0,1.0,1.0,1.0,1.0,1.0,1.0,1.0,1.0,1.0,1.0,1.0,1.0,1.0,0.8228872370189538,0.8228872370189538,1.0,1.0,1.0,1.0,1.0,1.0,1.0,1.0,0.9318882852323663,0.9318920070291283,1.0,1.0,1.0,1.0,1.0,1.0,1.0,1.0,1.0,1.0,1.0,1.0,1.0,1.0,0.8228872370189538,0.8228962656967462,1.0,1.0,1.0,1.0,1.0,1.0,1.0,1.0,1.0,1.0,1.0,1.0,1.0,0.8228928799193564,1.0,1.0,1.0,1.0,1.0,1.0,1.0,1.0,1.0,1.0,1.0,1.0,1.0,1.0,0.931899641577061,0.9318940747068416,1.0,1.0,1.0,1.0,1.0,1.0,0.8228923911469237,1.0,1.0,1.0,1.0,1.0,1.0,1.0,1.0,1.0,1.0,1.0,1.0,1.0,1.0,1.0,1.0,1.0,1.0,1.0,1.0,1.0,1.0,1.0,1.0,1.0,1.0,1.0,1.0,0.9318933129297745,1.0,1.0,1.0,1.0,1.0,1.0,1.0,1.0,1.0,1.0,1.0,1.0,1.0,1.0,1.0,1.0,0.8228872370189538,0.8228904615239931,1.0,1.0,1.0,1.0,1.0,1.0,1.0,1.0,1.0,1.0,1.0,1.0,1.0,1.0,1.0,1.0,1.0,1.0,1.0,1.0,1.0,1.0,1.0,1.0,1.0,1.0,1.0,1.0,1.0,1.0,1.0,1.0,1.0,1.0,1.0,1.0,0.8228894941698279,0.8228928799193564,1.0,1.0,0.8228872370189538,0.8228894941698279,0.9318969694710553,1.0,1.0,1.0,0.8228974968954321,0.8228889732877579,0.8228962656967462,0.8228947609033556,1.0,1.0,1.0,1.0,1.0,1.0,1.0,1.0,0.9318964091927071,0.9318874957641478,1.352577057110577,1.0,1.0,1.0,1.0,1.0,0.9318969694710553,1.0,1.0,1.0,1.0,1.0,1.0,1.0,1.0,1.0,1.0,1.0,1.0,1.0,1.0,1.0,1.0,1.0,1.0,1.0,1.0,1.0,1.0,1.0,1.0,1.0,1.0,1.0,1.0,1.0,1.0,1.0,1.0,1.0,1.0,1.0,1.0,1.0,1.0,1.0,1.0,1.0,1.0,1.0,1.0,1.0,1.0,1.0,1.0,1.0,1.0,1.0,1.0,1.0,1.0,1.0,1.0,1.0,1.0,1.0,1.0,1.0,1.0,1.0,1.0,1.0,1.0,1.0,1.0,1.0,1.0,1.0,1.0,1.0,1.0,1.0,1.0,1.0,1.0,1.0,1.0,1.0,1.0,1.0,1.0,1.0,1.0,1.0,1.0,1.0,1.0,1.0,1.0,1.0,1.0,1.0,1.0,1.0,1.3438853217858742,0.9318928481172606,1.0,1.0,1.0,1.0,1.0,1.0,1.0,1.0,1.0,1.0,1.0,1.0,1.0,1.0,1.0,1.0,1.0,1.0,1.0,1.0,1.0,1.0,1.0,1.0,1.0,1.0,1.0,1.0,1.0,1.0,1.0,1.0,1.0,1.0,1.0,1.0,1.0,0.9517804242561241,1.0,1.0,1.0,1.0,1.0,1.0,1.0,1.0,1.0,1.0,1.0,1.0,1.0,1.0,1.0,1.0,1.0,1.0,1.0,1.0,1.0,1.0,1.0,1.0,1.0,1.0,1.0,1.0,1.0,1.0,1.0,1.0,1.0,1.0,1.0,1.0,1.0,1.0,1.0,1.0,1.0,1.0,1.0,1.0,1.0,1.0,1.0,1.0,1.0,1.0,1.0,1.0,1.0,1.0,1.0,1.0,1.0,1.0,1.0,1.0,1.0,0.9318940747068416,0.9517766497461929,1.0,1.0,0.9318940747068416,0.9318940747068416,1.0,1.0,1.0,1.0,1.0,1.0,1.0,1.0,0.9318969694710553,0.9318940747068416,0.931897883610859,0.9318940747068416,0.931897883610859,1.0,1.0,1.0,1.0,1.0,1.0,1.0,1.0,1.0,1.0,1.0,1.0,1.0,1.0,1.0,1.0,1.0,1.0,1.0,1.0,1.0,1.0,1.0,1.0,1.0,1.0,1.0,1.0,1.0,1.0,1.0,1.0,1.0,1.0,0.9318940747068416,0.9318940747068416,1.0,1.0,1.0,1.0,1.0,1.0,1.0,1.0,1.0,1.0,1.0,0.8228889732877579,0.822890273688055,1.0,1.0,1.0,1.0,1.0,1.0,1.0,1.0,1.0,1.0,1.0,1.0,1.0,1.0,1.0,1.0,1.0,1.0,1.0,1.0,1.0,1.0,1.0,1.0,1.0,1.0,1.0,1.0,1.0,1.0,1.0,1.0,1.0,1.0,1.0,1.0,1.0,1.0,1.0,1.0,1.0,1.0,1.0,1.0,1.0,1.0,1.0,1.0,1.0,1.0,1.0,1.0,1.0,1.0,1.0,1.0,1.0,1.0,1.0,1.0,1.0,1.0,1.0,1.0,1.0,1.0,1.0,1.0,1.0,1.0,1.0,1.0,1.0,1.0,1.0,1.0,1.0,1.0,1.0,1.0,1.0,1.0,1.0,1.0,1.0,1.0,0.8228872370189538,0.9517766497461929,1.0,1.0,1.0,1.0,0.8228904830926738,0.8228951013538672,1.0,1.0,1.0,1.0,1.0,1.0,1.0,1.0,1.0,1.0,1.0,1.0,1.0,1.0,0.9318862812002695,0.9318920070291283,1.0,1.0,1.0,1.0,1.0,1.0,1.0,1.0,1.0,1.0,1.0,1.0,1.0,1.0,1.0,1.0,1.0,1.0,1.0,1.0,1.0,1.0,1.0,1.0,1.0,1.0,1.0,1.0,1.0,1.0,1.0,1.0,1.0,1.0,1.0,1.0,1.0,1.0,1.0,1.0,1.0,1.0,1.0,1.0,1.0,1.0,1.0,1.0,1.0,1.0,1.0,1.0,1.0,1.0,1.0,1.0,1.0,1.0,1.0,1.0,1.0,1.0,1.0,1.0,1.0,1.0,0.8228923338288384,0.8228889732877579,1.0,1.0,0.8228900584594813,0.8229026809303132,1.0,1.0,1.0,1.0,1.0,1.0,1.0,1.0,1.0,1.0,1.0,1.0,1.0,1.0,1.0,1.0,1.0,1.0,1.0,1.0,1.0,1.0,1.0,1.0,1.0,1.0,1.0,1.0,1.0,1.0,1.0,1.0,1.0,1.0,1.0,1.0,1.0,1.0,1.0,1.0,1.0,1.0,1.0,1.0,1.0,1.0,1.0,1.0,1.0,1.0,1.0,1.0,1.0,0.9517766497461929,0.9517826889764529,1.0,1.0,1.0,1.0,1.0,1.0,1.0,1.0,1.0,1.0,1.0,1.0,1.0,0.951789778605421,1.0,1.0,1.0,1.0,1.0,1.0,1.0,1.0,1.0,1.0,1.0,1.0,1.0,1.0,1.0,1.0,1.0,1.0,1.0,1.0,1.0,0.8121277747698972,0.8121317720715266,1.0,1.0,1.0,1.0,1.0,1.0,1.0,1.0,1.0,1.0,1.0,1.0,1.0,1.0,1.0,1.0,1.0,1.0,1.0,1.0,1.0,1.0,1.0,1.0,1.0,1.0,1.0,0.8121277747698972,0.8121277747698972,1.0,1.0,1.0,1.0,1.0,1.0,1.0,1.0,1.0,1.0,1.0,1.0,0.9517852772414543,0.9517852772414543,1.0,1.0,1.0,1.0,1.0,1.0,1.0,1.0,1.0,0.9517766497461929,0.9517766497461929,1.0,1.0,1.0,1.0,1.0,1.0,1.0,1.0,1.0,1.0,1.0,1.0,1.0,1.0,1.0,1.0,0.951782041912402,1.0,1.0,1.0,1.0,1.0,1.0,1.0,1.0,1.0,1.0,1.0,1.0,1.0,1.0,1.0,1.0,1.0,1.0,1.0,1.0,1.0,1.0,1.0,1.0,1.0,1.0,1.0,1.0,1.0,1.0,1.0,1.0,1.0,1.0,1.0,1.0,1.0,1.0,1.0,1.0,0.8121271466260758,0.8121277747698972,0.9517766497461929,0.9517845961177207,1.0,1.0,0.951787062260002,1.0,1.0,1.0,1.0,1.0,1.0,1.0,1.0,1.0,1.0,1.0,1.0,1.0,1.0,1.0,1.0,1.0,1.0,0.951781295301129,0.9517852772414543,1.0,1.0,1.0,1.0,1.0,1.0,1.0,0.9517766497461929,0.9517766497461929,1.0,1.0,1.0,1.0,1.0,1.0,1.0,1.0,1.0,1.0,1.0,1.0,1.0,1.0,1.0,1.0,1.0,1.0,1.0,1.0,1.0,1.0,1.0,1.0,1.0,1.0,1.0,1.0,1.0,1.0,1.0,1.0,1.0,1.0,1.0,1.0,1.0,1.0,1.0,1.0,1.0,1.0,1.0,1.0,1.0,0.9517766497461929,0.9517826889764529,1.0,1.0,1.0,1.0,1.0,1.0,1.0,1.0,1.0,1.0,1.0,1.0,1.0,1.0,1.0,1.0,1.0,0.9517773391521649,0.9517795347192402,0.8121277747698972,0.8121277747698972,1.0,1.0,1.0,1.0,1.0,1.0,1.0,1.0,1.0,1.0,1.0,1.0,1.0,1.0,1.0,1.0,1.0,1.0,1.0,1.0,1.0,1.0,1.0,0.9517766497461929,0.9517766497461929,1.0,1.0,1.0,1.0,1.0,1.0,1.0,1.0,1.0,0.9517865501638321,0.951787062260002,1.0,1.0,1.0,1.0,1.0,1.0,1.0,1.0,1.0,1.0,1.0,1.0,1.0,1.0,1.0,1.0,0.8121277747698972,0.8121277747698972,1.0,1.0,1.301835873655403,1.0,1.0,1.0,1.0,1.0,1.0,1.0,1.0,1.0,1.0,1.0,1.0,1.0,1.0,1.0,1.0,1.0,1.0,0.9517793948413557,0.9517852772414543,1.0,1.0,1.0,1.0,1.0,1.0,0.951781295301129,0.9517917479655451,1.0,1.0,1.0,1.0,0.9517766497461929,1.0,1.0,1.0,1.0,1.0,1.0,1.0,1.0,1.0,1.0,1.0,1.0,1.0,1.0,1.0,1.0,1.0,1.0,1.0,1.0,1.0,1.0,1.0,1.0,1.0,1.0,1.0,1.0,0.9517882637185635,1.0,1.0,0.951781295301129,0.9517852772414543,1.0,1.0,1.0,1.0,1.0,1.0,0.8121309155035792,0.8121332710697825,1.0,1.0,0.9517766497461929,0.9517766497461929,1.0,1.0,1.0,0.9517826889764529,1.0,1.0,0.8121303612546936,0.8121277747698972,1.0,1.0,1.0,1.0,1.0,1.0,1.0,1.0,1.0,1.0,1.0,1.0,1.0,1.0,1.0,1.0,1.0,1.0,0.9517766497461929,0.9517852772414543,1.0,1.0,1.0,1.0,1.0,1.0,1.0,1.0,1.0,1.0,1.0,1.0,1.0,1.0,1.0,1.0,0.951781295301129,1.0,1.0,1.0,1.0,1.0,1.0,1.0,1.0,1.0,1.0,1.0,1.0,1.0,1.0,1.0,1.0,0.8121365688854237,0.8121403378503805,1.0,1.0,1.0,1.0,1.0,1.0,1.0,1.0,1.0,1.0,1.0,1.0,1.0,1.0,1.0,1.0,1.0,1.0,1.0,1.0,1.0,1.0,1.0,1.0,0.9517766497461929,0.9517766497461929,1.0,1.0,1.0,1.0,1.0,1.0,1.0,1.0,1.0,1.0,1.0,1.0,1.0,1.0,1.0,1.0,1.0,1.0,1.0,1.0,1.0,1.0,1.0,1.0,1.0,1.0,1.0,0.8121303612546936,0.8121345394572442,1.0,1.0,1.0,1.0,1.0,1.0,1.0,1.0,1.0,0.9551372054595643,1.0,0.9517766497461929,1.0,1.0,1.0,1.0,1.0,1.0,1.0,1.0,1.0,1.0,1.0,1.0,1.0,1.0,1.0,1.0,1.0,1.0,1.0,1.0,1.0,1.0,1.0,1.0,1.0,1.0,1.0,1.0,1.0,1.0,1.0,1.0,1.0,1.0,0.9517837547309251,1.0,1.0,1.0,1.0,1.0,1.0,1.0,1.0,1.0,1.0,0.9517766497461929,1.0,1.0,1.0,1.0,1.0,1.0,1.0,1.0,1.0,1.0,1.0,1.0,1.0,1.0,1.0,1.0,0.9517766497461929,0.9517766497461929,1.0,1.0,1.0,1.0,0.8121365688854237,0.8121332710697825,1.0,1.0,1.0,1.0,1.0,1.0,1.0,1.0,1.0,1.0,1.0,1.0,1.0,1.0,1.0,1.0,1.0,1.0,0.812137130218413,1.0,0.9517845961177207,1.0,1.0,1.0,1.0,1.0,1.0,1.0,1.0,1.0,1.0,1.0,1.0,1.0,0.8121277747698972,0.8121277747698972,1.0,1.0,1.0,1.0,1.0,1.0,1.0,1.0,1.0,1.0,1.0,1.0,1.0,1.0,1.0,1.0,1.0,1.0,1.0,1.0,1.0,1.0,1.0,1.0,1.0,1.0,1.0,1.0,1.0,1.0,1.0,1.0,1.0,1.0,1.0,1.0,1.0,1.0,1.0,1.0,1.0,1.0,1.0,1.0,1.0,1.0,1.0,1.0,1.0,1.0,0.9517766497461929,0.9517852772414543,1.0,1.0,1.0,1.0,1.0,1.0,1.0,1.0,1.0,1.0,1.0,1.0,1.0,1.0,1.0,1.0,1.0,1.0,1.0,1.0,1.0,1.0,1.0,1.0,1.0,1.0,1.0,1.0,1.0,1.0,1.0,1.3018361313769629,1.0,0.8121277747698972,1.0,1.0,1.0,1.0,1.3324450366422385,1.0,1.0,1.0,1.0,1.0,1.0,1.0,1.0,1.0,1.0,1.0,1.0,1.0,1.0,1.0,1.0,0.8121277747698972,0.8121277747698972,1.0,1.0,1.0,1.0,1.0,1.0,1.0,1.0,1.0,1.0,1.0,1.0,1.0,1.0,1.0,1.0,1.0,1.0,1.0,1.0,1.0,1.0,1.0,1.0,1.0,1.0,1.0,1.0,1.0,1.0,1.0,1.0,1.0,1.0,1.0,1.0,1.0,1.0,1.0,1.0,1.0,1.0,1.0,1.0,1.0,1.0,0.9517766497461929,0.9517766497461929,1.0,1.0,1.0,1.0,1.0,1.3018331049959395,1.0,1.0,0.9517852772414543,0.9517917479655451,1.0,1.0,1.0,1.0,1.0,1.0,1.0,1.3018352702101987,1.0,1.0,1.0,1.0,1.0,1.0,1.0,1.0,1.0,1.0,0.9517766497461929,0.9517852772414543,0.9517766497461929,1.0,1.0,1.0,1.0,0.9517766497461929,1.0,0.9517766497461929,0.9517804242561241,1.0,1.0,1.0,1.0,1.0,1.0,1.0,1.0,1.0,1.0,1.3324450366422385,1.0,1.0,1.0,1.0,1.0,1.0,1.0,1.0,1.0,1.0,1.0,1.0,1.0,1.0,1.0,1.0,1.0,1.0,1.0,1.0,1.0,1.0,1.0,1.0,1.0,1.0,1.0,1.0,1.0,1.0,1.0,1.0,1.0,1.0,1.0,1.0,1.0,1.0,1.0,1.0,1.0,1.0,1.0,1.0,1.0,1.0,1.0,1.0,1.0,1.0,1.0,1.0,1.0,1.0,1.0,1.0,1.0,1.0,1.0,1.0,1.0,1.0,1.0,1.0,1.0,1.0,1.0,1.0,1.0,1.0,1.0,1.0,1.0,1.0,1.0,1.0,1.0,1.0,0.8121345394572442,0.8121317720715266,1.0,1.0,0.9517766497461929,0.9517852772414543,1.0,0.812133072407045,1.0,1.0,0.9517766497461929,1.0,1.0,1.0,1.0,1.0,1.0,1.0,1.0,1.0,1.0,1.0,1.0,1.0,1.0,1.0,0.9517766497461929,1.0,1.0,1.0,0.8121345394572442,0.8121317720715266,1.0,1.0,1.0,1.0,1.0,1.0,1.0,1.0,1.0,1.0,1.0,1.0,1.0,1.0,1.0,1.0,1.0,1.0,1.0,1.0,1.0,1.0,1.0,1.0,1.0,1.0,1.0,1.0,1.0,1.0,1.0,1.0,1.0,1.0,1.0,1.0,0.9517876302218531,1.0,1.0,1.0,1.0,1.0,1.0,1.0,1.0,1.0,1.0,1.0,1.0,0.7270323859881032,1.0,1.0,1.0,1.0,1.0,1.0,1.0,0.9517852772414543,1.0,1.0,1.0,1.0,1.0,1.0,1.0,1.0,1.0,1.0,1.0,1.0,1.0,1.0,1.0,1.0,0.9517804242561241,0.9517852772414543,0.8121332710697825,0.8121309155035792,0.9517804242561241,0.9517852772414543,1.0,1.0,1.0,1.0,0.812132900850355,0.8121337814370135,1.0,1.0,0.8121325673208363,0.8121293145357317,1.0,1.0,1.0,1.0,1.0,0.9517766497461929,1.0,1.0,1.0,1.0,1.0,1.0,1.0,1.0,1.0,1.0,1.0,0.8121277747698972,0.8121277747698972,1.0,1.0,1.0,1.0,1.0,1.0,1.0,1.0,1.0,1.0,1.0,1.0,1.0,1.0,1.0,1.0,1.0,1.0,0.9517766497461929,1.0,1.0,1.0,1.0,1.0,1.0,1.0,1.0,1.0,1.0,1.0,0.9517882637185635,1.0,1.0,1.0,1.0,1.0,1.0,1.0,1.0,1.0,1.0,0.8121320026862828,1.0,1.0,1.0,1.0,1.0,1.0,1.0,1.0,1.0,1.0,1.0,1.0,1.0,1.0,1.0,0.9517793948413557,0.9517837547309251,1.0,1.0,1.0,1.0,1.0,1.0,1.0,1.0,1.0,1.0,1.0,1.0,1.0,1.0,1.0,1.0,1.0,1.0,1.0,1.0,0.8121332710697825,0.8121277747698972,1.0,1.0,1.0,1.0,1.0,1.0,0.8121277747698972,0.8121309155035792,0.8121365688854237,1.0,1.0,1.0,1.0,1.0,1.0,1.0,1.0,0.9517766497461929,1.0,1.0,1.0,1.0,1.0,1.0,1.0,0.9517804242561241,0.8121365688854237,1.0,1.0,1.0,1.0,1.0,1.0,1.0,1.0,1.0,1.0,1.0,1.0,1.0,1.0,1.0,1.0,1.0,1.0,1.0,1.0,1.0,1.0,1.0,1.0,1.0,1.0,0.9517804242561241,0.8121318841459713,1.0,1.0,1.0,1.0,1.0,1.0,1.0,0.9517758269687107,0.9517766497461929,1.0,1.0,1.0,1.0,1.0,1.0,1.0,1.0,1.0,1.0,1.0,1.0,1.0,1.0,1.0,1.0,1.0,1.0,0.9517766497461929,0.8121337167189798,0.8121365688854237,0.951787062260002,1.0,1.0,1.0,1.0,0.8121345394572442,1.0,1.0,1.0,1.0,1.0,1.0,1.0,1.0,1.0,1.0,0.8121317720715266,0.8121303612546936,1.0,1.0,1.0,1.0,1.0,1.0,1.0,1.0,1.0,1.0,1.0,1.0,1.0,1.0,1.0,1.0,1.0,1.0,1.0,1.0,0.8768468586961288,1.0,1.0,1.0,1.0,0.8121277747698972,0.8121317720715266,1.0,1.0,1.0,1.0,1.0,1.0,1.0,1.0,0.9517863125513965,1.0,0.8121324032280126,0.8121277747698972,1.0,1.0,1.0,1.0,1.0,0.8768368921003491,0.8121277747698972,0.8121277747698972,1.0,1.0,1.0,1.0,1.0,1.0,1.0,1.0,0.9517804242561241,1.0,1.0,1.0,1.0,1.0,1.0,0.9517826889764529,0.9517826889764529,1.3018347190640676,1.0,1.0,1.0,1.0,1.0,1.0,1.0,1.0,0.8121277747698972,1.0,1.0,0.8121332710697825,0.8121277747698972,0.9517917479655451,0.9517766497461929,0.9517804242561241,0.9517852772414543,0.8121332710697825,0.8121309155035792,0.9517804242561241,0.9517852772414543,1.0,1.0,0.9517917479655451,0.9517766497461929,0.8121277747698972,0.8121277747698972,1.0,1.0,0.9517766497461929,0.9517766497461929,1.0,1.0,0.8121317720715266,0.8121403378503805,0.9517766497461929,0.9517766497461929,0.8121277747698972,0.8121277747698972,0.8459971800093999,1.0,1.0,1.0,1.0,1.0,1.0,1.0,1.0,1.0,1.0,1.0,1.0,1.0,1.0,1.0,0.8121365688854237,0.8121277747698972,0.8121277747698972,0.8121332710697825,1.0,1.0,1.0,1.0,1.0,1.0,1.0,1.0,1.0,1.0,1.0,1.0,1.0,1.0,1.0,1.0,1.0,1.0,1.0,1.0,1.0,1.0,1.0,1.0,0.8121277747698972,0.8121332710697825,1.0,1.0,0.8121332710697825,0.8121403378503805,1.0,1.0,1.0,1.0,1.0,1.0,1.0,1.0,0.8121277747698972,0.8121365688854237,1.0,1.0,1.0,1.0,1.0,1.0,1.0,1.0,1.0,1.0,1.0,1.0,1.0,1.0,1.0,1.0,1.0,1.0,1.0,1.0,1.0,1.0,1.0,1.0,1.0,1.0,1.0,1.0,1.0,1.0,1.0,1.0,1.0,1.0,1.0,1.0,1.0,1.0,1.0,1.0,1.0,1.0,1.0,1.0,1.0,1.0,1.0,1.0,1.0,1.0,1.0,1.0,1.0,1.0,1.0,1.0,1.0,1.0,1.0,1.0,1.0,1.0,1.0,1.0,1.0,1.0,1.0,1.0,1.0,1.0,0.8121365688854237,0.8121403378503805,1.0,1.0,1.0,1.0,1.0,1.0,1.0,1.0,1.0,1.0,1.0,1.0,1.0,1.0,1.0,1.0,1.0,1.0,1.0,1.0,1.0,1.0,1.0,1.0,1.0,1.0,1.0,1.0,1.0,1.0,1.0,1.0,1.0,1.0,1.0,1.0,1.0,1.0,1.0,1.0,1.0,1.0,1.0,1.0,1.0,1.0,0.8121309155035792,0.8121309155035792,1.0,1.0,1.0,1.0,1.0,1.0,1.0,1.0,1.0,1.0,1.0,1.0,1.0,1.0,1.301846017653032,1.3406886186637519,1.301832459369809,1.0,0.9517823471311844,0.9517826889764529,1.0,1.0,1.301838485238598,1.0,0.951781295301129,1.0,1.30183292157936,1.0,1.0,0.8459825552562744,1.0,1.3018539182866429,1.0,1.0,1.0,1.0,0.9517766497461929,0.9517766497461929,0.8768404515728325,0.9517837547309251,1.0,1.0,1.0,1.301846017653032,1.0,1.0,0.951787062260002,1.0,0.9517800811176206,0.9517817677329848,1.0,1.0,1.0,1.0,1.0,1.0,1.0,1.0,1.0,0.9551336356538928,1.0,0.9517815200871955,1.0,1.0,1.0,1.0,1.0,1.0,1.0,1.0,1.0,0.9517746094830192,1.0,1.0,1.0,1.0,0.8459896064134069,1.0,0.9517804242561241,1.0,1.0,1.0,0.8460498358122465,0.7270281814298827,0.9517917479655451,1.0,1.0,1.0,1.0,1.0,1.0,0.8459827902929518,0.8768359104935669,0.8459831761081581,0.7270259790616518,1.0,1.0,1.0,1.0,1.0,1.0,0.8459846492240014,0.8459839263054002,0.8768340445431695,1.0,1.0,1.0,1.0,1.0,0.8768365448362883,0.8768379873195737,1.2537238349014708,1.0,1.0,1.2537281917280334,1.0,1.0,1.0,1.0,1.0,1.0,1.0,1.0,1.0,1.253733544747225,0.845987902372996,0.8459851497068336,1.0,0.7270259790616518,1.0,0.8459950593888532,1.0,1.0,1.0,1.0,0.8459916410975163,1.0,1.0,1.0,1.0,0.8459918784779666,1.0,1.0,0.8768303834254005,1.0,0.8459906550570718,0.8768433638899961,0.8459855167279536,0.7270259790616518,0.7270259790616518,0.845987902372996,1.0,1.0,1.2537211510760662,0.7270327452007997,1.0,0.779644198738394,1.0,0.8768633345859952,0.8459883441605915,1.0,0.7796460406975233,1.343875288373239,1.0,1.0,1.0,1.0,1.0,1.0,1.0,0.8459930542982702,1.0,0.8768302941302272,1.0,0.7270310130657859,0.8460006003875229,0.7270259790616518,1.0,1.2537235589701414,1.0,1.0,1.2537250098851396,1.0,1.0,1.2537219871493497,1.0,1.0,1.0,1.0,0.7796448488406222,1.0,1.0,1.0,0.8768303834254005,1.0,1.0,0.8459872958517946,1.0,1.0,1.0,1.0,1.0,1.0,0.8459914525513619,1.0,0.8459906550570718,1.0,1.0,0.8459846492240014,1.0,1.0,1.0,0.8459971800093999,0.8459839263054002,1.0,0.845987902372996,1.253726353327947,1.0,0.8459896064134069,1.0,1.0,1.2537325856023638,1.0,1.0,1.0,1.0,0.8768340445431695,0.8459872958517946,1.0,0.8768413668704279,1.0,0.8459911555470102,0.8459893755372848,1.0,1.0,0.8459823970585842,1.0,0.8460013218770654,1.0,1.0,1.0,0.7270335608646189,0.7270301247070496,1.0,0.876831481757521,0.8459855167279536,1.0,0.8459855167279536,0.8768450280799182,1.0,0.7270303838114568,0.8459938665444675,0.8459896064134069,1.0,1.0,1.0,1.0,1.0,1.0,0.8460026375376347,1.0,0.8768395857525416,1.0,0.8768293849440424,0.8459893755372848,0.8768286492223915,1.0,1.0,1.0,1.2537327041874673,0.7270259790616518,1.0,0.8459906550570718,1.0,1.0,1.0,1.0,1.0,0.8459950593888532,0.8459847377447313,0.8768320731682641,0.8768310295027852,0.8459911555470102,0.876837248046297,0.8768293849440424,1.0,1.0,1.0,1.0,1.0,1.0,0.8459826837919411,1.0,1.0,1.0,1.0,0.8768468586961288,1.0,1.3438715258821257,1.0,0.8459938665444675,1.0,1.0,1.0,1.0,1.0],\"y0\":\" \",\"yaxis\":\"y\",\"type\":\"box\"}],                        {\"template\":{\"data\":{\"histogram2dcontour\":[{\"type\":\"histogram2dcontour\",\"colorbar\":{\"outlinewidth\":0,\"ticks\":\"\"},\"colorscale\":[[0.0,\"#0d0887\"],[0.1111111111111111,\"#46039f\"],[0.2222222222222222,\"#7201a8\"],[0.3333333333333333,\"#9c179e\"],[0.4444444444444444,\"#bd3786\"],[0.5555555555555556,\"#d8576b\"],[0.6666666666666666,\"#ed7953\"],[0.7777777777777778,\"#fb9f3a\"],[0.8888888888888888,\"#fdca26\"],[1.0,\"#f0f921\"]]}],\"choropleth\":[{\"type\":\"choropleth\",\"colorbar\":{\"outlinewidth\":0,\"ticks\":\"\"}}],\"histogram2d\":[{\"type\":\"histogram2d\",\"colorbar\":{\"outlinewidth\":0,\"ticks\":\"\"},\"colorscale\":[[0.0,\"#0d0887\"],[0.1111111111111111,\"#46039f\"],[0.2222222222222222,\"#7201a8\"],[0.3333333333333333,\"#9c179e\"],[0.4444444444444444,\"#bd3786\"],[0.5555555555555556,\"#d8576b\"],[0.6666666666666666,\"#ed7953\"],[0.7777777777777778,\"#fb9f3a\"],[0.8888888888888888,\"#fdca26\"],[1.0,\"#f0f921\"]]}],\"heatmap\":[{\"type\":\"heatmap\",\"colorbar\":{\"outlinewidth\":0,\"ticks\":\"\"},\"colorscale\":[[0.0,\"#0d0887\"],[0.1111111111111111,\"#46039f\"],[0.2222222222222222,\"#7201a8\"],[0.3333333333333333,\"#9c179e\"],[0.4444444444444444,\"#bd3786\"],[0.5555555555555556,\"#d8576b\"],[0.6666666666666666,\"#ed7953\"],[0.7777777777777778,\"#fb9f3a\"],[0.8888888888888888,\"#fdca26\"],[1.0,\"#f0f921\"]]}],\"heatmapgl\":[{\"type\":\"heatmapgl\",\"colorbar\":{\"outlinewidth\":0,\"ticks\":\"\"},\"colorscale\":[[0.0,\"#0d0887\"],[0.1111111111111111,\"#46039f\"],[0.2222222222222222,\"#7201a8\"],[0.3333333333333333,\"#9c179e\"],[0.4444444444444444,\"#bd3786\"],[0.5555555555555556,\"#d8576b\"],[0.6666666666666666,\"#ed7953\"],[0.7777777777777778,\"#fb9f3a\"],[0.8888888888888888,\"#fdca26\"],[1.0,\"#f0f921\"]]}],\"contourcarpet\":[{\"type\":\"contourcarpet\",\"colorbar\":{\"outlinewidth\":0,\"ticks\":\"\"}}],\"contour\":[{\"type\":\"contour\",\"colorbar\":{\"outlinewidth\":0,\"ticks\":\"\"},\"colorscale\":[[0.0,\"#0d0887\"],[0.1111111111111111,\"#46039f\"],[0.2222222222222222,\"#7201a8\"],[0.3333333333333333,\"#9c179e\"],[0.4444444444444444,\"#bd3786\"],[0.5555555555555556,\"#d8576b\"],[0.6666666666666666,\"#ed7953\"],[0.7777777777777778,\"#fb9f3a\"],[0.8888888888888888,\"#fdca26\"],[1.0,\"#f0f921\"]]}],\"surface\":[{\"type\":\"surface\",\"colorbar\":{\"outlinewidth\":0,\"ticks\":\"\"},\"colorscale\":[[0.0,\"#0d0887\"],[0.1111111111111111,\"#46039f\"],[0.2222222222222222,\"#7201a8\"],[0.3333333333333333,\"#9c179e\"],[0.4444444444444444,\"#bd3786\"],[0.5555555555555556,\"#d8576b\"],[0.6666666666666666,\"#ed7953\"],[0.7777777777777778,\"#fb9f3a\"],[0.8888888888888888,\"#fdca26\"],[1.0,\"#f0f921\"]]}],\"mesh3d\":[{\"type\":\"mesh3d\",\"colorbar\":{\"outlinewidth\":0,\"ticks\":\"\"}}],\"scatter\":[{\"fillpattern\":{\"fillmode\":\"overlay\",\"size\":10,\"solidity\":0.2},\"type\":\"scatter\"}],\"parcoords\":[{\"type\":\"parcoords\",\"line\":{\"colorbar\":{\"outlinewidth\":0,\"ticks\":\"\"}}}],\"scatterpolargl\":[{\"type\":\"scatterpolargl\",\"marker\":{\"colorbar\":{\"outlinewidth\":0,\"ticks\":\"\"}}}],\"bar\":[{\"error_x\":{\"color\":\"#2a3f5f\"},\"error_y\":{\"color\":\"#2a3f5f\"},\"marker\":{\"line\":{\"color\":\"#E5ECF6\",\"width\":0.5},\"pattern\":{\"fillmode\":\"overlay\",\"size\":10,\"solidity\":0.2}},\"type\":\"bar\"}],\"scattergeo\":[{\"type\":\"scattergeo\",\"marker\":{\"colorbar\":{\"outlinewidth\":0,\"ticks\":\"\"}}}],\"scatterpolar\":[{\"type\":\"scatterpolar\",\"marker\":{\"colorbar\":{\"outlinewidth\":0,\"ticks\":\"\"}}}],\"histogram\":[{\"marker\":{\"pattern\":{\"fillmode\":\"overlay\",\"size\":10,\"solidity\":0.2}},\"type\":\"histogram\"}],\"scattergl\":[{\"type\":\"scattergl\",\"marker\":{\"colorbar\":{\"outlinewidth\":0,\"ticks\":\"\"}}}],\"scatter3d\":[{\"type\":\"scatter3d\",\"line\":{\"colorbar\":{\"outlinewidth\":0,\"ticks\":\"\"}},\"marker\":{\"colorbar\":{\"outlinewidth\":0,\"ticks\":\"\"}}}],\"scattermapbox\":[{\"type\":\"scattermapbox\",\"marker\":{\"colorbar\":{\"outlinewidth\":0,\"ticks\":\"\"}}}],\"scatterternary\":[{\"type\":\"scatterternary\",\"marker\":{\"colorbar\":{\"outlinewidth\":0,\"ticks\":\"\"}}}],\"scattercarpet\":[{\"type\":\"scattercarpet\",\"marker\":{\"colorbar\":{\"outlinewidth\":0,\"ticks\":\"\"}}}],\"carpet\":[{\"aaxis\":{\"endlinecolor\":\"#2a3f5f\",\"gridcolor\":\"white\",\"linecolor\":\"white\",\"minorgridcolor\":\"white\",\"startlinecolor\":\"#2a3f5f\"},\"baxis\":{\"endlinecolor\":\"#2a3f5f\",\"gridcolor\":\"white\",\"linecolor\":\"white\",\"minorgridcolor\":\"white\",\"startlinecolor\":\"#2a3f5f\"},\"type\":\"carpet\"}],\"table\":[{\"cells\":{\"fill\":{\"color\":\"#EBF0F8\"},\"line\":{\"color\":\"white\"}},\"header\":{\"fill\":{\"color\":\"#C8D4E3\"},\"line\":{\"color\":\"white\"}},\"type\":\"table\"}],\"barpolar\":[{\"marker\":{\"line\":{\"color\":\"#E5ECF6\",\"width\":0.5},\"pattern\":{\"fillmode\":\"overlay\",\"size\":10,\"solidity\":0.2}},\"type\":\"barpolar\"}],\"pie\":[{\"automargin\":true,\"type\":\"pie\"}]},\"layout\":{\"autotypenumbers\":\"strict\",\"colorway\":[\"#636efa\",\"#EF553B\",\"#00cc96\",\"#ab63fa\",\"#FFA15A\",\"#19d3f3\",\"#FF6692\",\"#B6E880\",\"#FF97FF\",\"#FECB52\"],\"font\":{\"color\":\"#2a3f5f\"},\"hovermode\":\"closest\",\"hoverlabel\":{\"align\":\"left\"},\"paper_bgcolor\":\"white\",\"plot_bgcolor\":\"#E5ECF6\",\"polar\":{\"bgcolor\":\"#E5ECF6\",\"angularaxis\":{\"gridcolor\":\"white\",\"linecolor\":\"white\",\"ticks\":\"\"},\"radialaxis\":{\"gridcolor\":\"white\",\"linecolor\":\"white\",\"ticks\":\"\"}},\"ternary\":{\"bgcolor\":\"#E5ECF6\",\"aaxis\":{\"gridcolor\":\"white\",\"linecolor\":\"white\",\"ticks\":\"\"},\"baxis\":{\"gridcolor\":\"white\",\"linecolor\":\"white\",\"ticks\":\"\"},\"caxis\":{\"gridcolor\":\"white\",\"linecolor\":\"white\",\"ticks\":\"\"}},\"coloraxis\":{\"colorbar\":{\"outlinewidth\":0,\"ticks\":\"\"}},\"colorscale\":{\"sequential\":[[0.0,\"#0d0887\"],[0.1111111111111111,\"#46039f\"],[0.2222222222222222,\"#7201a8\"],[0.3333333333333333,\"#9c179e\"],[0.4444444444444444,\"#bd3786\"],[0.5555555555555556,\"#d8576b\"],[0.6666666666666666,\"#ed7953\"],[0.7777777777777778,\"#fb9f3a\"],[0.8888888888888888,\"#fdca26\"],[1.0,\"#f0f921\"]],\"sequentialminus\":[[0.0,\"#0d0887\"],[0.1111111111111111,\"#46039f\"],[0.2222222222222222,\"#7201a8\"],[0.3333333333333333,\"#9c179e\"],[0.4444444444444444,\"#bd3786\"],[0.5555555555555556,\"#d8576b\"],[0.6666666666666666,\"#ed7953\"],[0.7777777777777778,\"#fb9f3a\"],[0.8888888888888888,\"#fdca26\"],[1.0,\"#f0f921\"]],\"diverging\":[[0,\"#8e0152\"],[0.1,\"#c51b7d\"],[0.2,\"#de77ae\"],[0.3,\"#f1b6da\"],[0.4,\"#fde0ef\"],[0.5,\"#f7f7f7\"],[0.6,\"#e6f5d0\"],[0.7,\"#b8e186\"],[0.8,\"#7fbc41\"],[0.9,\"#4d9221\"],[1,\"#276419\"]]},\"xaxis\":{\"gridcolor\":\"white\",\"linecolor\":\"white\",\"ticks\":\"\",\"title\":{\"standoff\":15},\"zerolinecolor\":\"white\",\"automargin\":true,\"zerolinewidth\":2},\"yaxis\":{\"gridcolor\":\"white\",\"linecolor\":\"white\",\"ticks\":\"\",\"title\":{\"standoff\":15},\"zerolinecolor\":\"white\",\"automargin\":true,\"zerolinewidth\":2},\"scene\":{\"xaxis\":{\"backgroundcolor\":\"#E5ECF6\",\"gridcolor\":\"white\",\"linecolor\":\"white\",\"showbackground\":true,\"ticks\":\"\",\"zerolinecolor\":\"white\",\"gridwidth\":2},\"yaxis\":{\"backgroundcolor\":\"#E5ECF6\",\"gridcolor\":\"white\",\"linecolor\":\"white\",\"showbackground\":true,\"ticks\":\"\",\"zerolinecolor\":\"white\",\"gridwidth\":2},\"zaxis\":{\"backgroundcolor\":\"#E5ECF6\",\"gridcolor\":\"white\",\"linecolor\":\"white\",\"showbackground\":true,\"ticks\":\"\",\"zerolinecolor\":\"white\",\"gridwidth\":2}},\"shapedefaults\":{\"line\":{\"color\":\"#2a3f5f\"}},\"annotationdefaults\":{\"arrowcolor\":\"#2a3f5f\",\"arrowhead\":0,\"arrowwidth\":1},\"geo\":{\"bgcolor\":\"white\",\"landcolor\":\"#E5ECF6\",\"subunitcolor\":\"white\",\"showland\":true,\"showlakes\":true,\"lakecolor\":\"white\"},\"title\":{\"x\":0.05},\"mapbox\":{\"style\":\"light\"}}},\"xaxis\":{\"anchor\":\"y\",\"domain\":[0.0,1.0],\"title\":{\"text\":\"salary_currency\"}},\"yaxis\":{\"anchor\":\"x\",\"domain\":[0.0,1.0],\"title\":{\"text\":\"conversion_rates\"}},\"legend\":{\"tracegroupgap\":0},\"margin\":{\"t\":60},\"boxmode\":\"group\"},                        {\"responsive\": true}                    ).then(function(){\n",
              "                            \n",
              "var gd = document.getElementById('cdf8f602-5d5e-46f7-8636-8df7e9a84a03');\n",
              "var x = new MutationObserver(function (mutations, observer) {{\n",
              "        var display = window.getComputedStyle(gd).display;\n",
              "        if (!display || display === 'none') {{\n",
              "            console.log([gd, 'removed!']);\n",
              "            Plotly.purge(gd);\n",
              "            observer.disconnect();\n",
              "        }}\n",
              "}});\n",
              "\n",
              "// Listen for the removal of the full notebook cells\n",
              "var notebookContainer = gd.closest('#notebook-container');\n",
              "if (notebookContainer) {{\n",
              "    x.observe(notebookContainer, {childList: true});\n",
              "}}\n",
              "\n",
              "// Listen for the clearing of the current output cell\n",
              "var outputEl = gd.closest('.output');\n",
              "if (outputEl) {{\n",
              "    x.observe(outputEl, {childList: true});\n",
              "}}\n",
              "\n",
              "                        })                };                            </script>        </div>\n",
              "</body>\n",
              "</html>"
            ]
          },
          "metadata": {}
        }
      ]
    },
    {
      "cell_type": "markdown",
      "source": [
        "12) What is the number of peole working in the field of data science in each country?"
      ],
      "metadata": {
        "id": "RUv4rs96QMIN"
      }
    },
    {
      "cell_type": "markdown",
      "source": [
        "Since we have taken USD as the standard currency it doesn't show any variation. On the other hand EUR and CAD show much variation. And GBP continues to be storngest currency throughout."
      ],
      "metadata": {
        "id": "IT9nsS62NXCG"
      }
    },
    {
      "cell_type": "code",
      "source": [
        "# Top 5 Weakest Currencies\n",
        "curr_stgh.sort_values(ascending=False).head(5)"
      ],
      "metadata": {
        "id": "lu67mmGGNZv9",
        "colab": {
          "base_uri": "https://localhost:8080/"
        },
        "outputId": "8078636c-4405-41e7-e62b-682c99c093e5"
      },
      "execution_count": null,
      "outputs": [
        {
          "output_type": "execute_result",
          "data": {
            "text/plain": [
              "salary_currency\n",
              "CLP    759.278685\n",
              "HUF    307.821464\n",
              "JPY    109.870224\n",
              "INR     78.627701\n",
              "THB     33.952756\n",
              "Name: conversion_rates, dtype: float64"
            ]
          },
          "metadata": {},
          "execution_count": 230
        }
      ]
    },
    {
      "cell_type": "code",
      "source": [
        "xdf=df[df.conversion_rates<1.36]\n",
        "px.box(xdf, x='salary_currency',y='conversion_rates')"
      ],
      "metadata": {
        "id": "F1naFyqbOU_B",
        "colab": {
          "base_uri": "https://localhost:8080/",
          "height": 542
        },
        "outputId": "853711e0-c09b-4982-f265-d258966978c6"
      },
      "execution_count": null,
      "outputs": [
        {
          "output_type": "display_data",
          "data": {
            "text/html": [
              "<html>\n",
              "<head><meta charset=\"utf-8\" /></head>\n",
              "<body>\n",
              "    <div>            <script src=\"https://cdnjs.cloudflare.com/ajax/libs/mathjax/2.7.5/MathJax.js?config=TeX-AMS-MML_SVG\"></script><script type=\"text/javascript\">if (window.MathJax && window.MathJax.Hub && window.MathJax.Hub.Config) {window.MathJax.Hub.Config({SVG: {font: \"STIX-Web\"}});}</script>                <script type=\"text/javascript\">window.PlotlyConfig = {MathJaxConfig: 'local'};</script>\n",
              "        <script src=\"https://cdn.plot.ly/plotly-2.18.2.min.js\"></script>                <div id=\"81b7f75e-9572-4736-b0d8-32190b6f9675\" class=\"plotly-graph-div\" style=\"height:525px; width:100%;\"></div>            <script type=\"text/javascript\">                                    window.PLOTLYENV=window.PLOTLYENV || {};                                    if (document.getElementById(\"81b7f75e-9572-4736-b0d8-32190b6f9675\")) {                    Plotly.newPlot(                        \"81b7f75e-9572-4736-b0d8-32190b6f9675\",                        [{\"alignmentgroup\":\"True\",\"hovertemplate\":\"salary_currency=%{x}<br>conversion_rates=%{y}<extra></extra>\",\"legendgroup\":\"\",\"marker\":{\"color\":\"#636efa\"},\"name\":\"\",\"notched\":false,\"offsetgroup\":\"\",\"orientation\":\"v\",\"showlegend\":false,\"x\":[\"EUR\",\"USD\",\"USD\",\"USD\",\"USD\",\"USD\",\"USD\",\"USD\",\"USD\",\"USD\",\"USD\",\"USD\",\"USD\",\"USD\",\"USD\",\"USD\",\"USD\",\"USD\",\"USD\",\"USD\",\"USD\",\"USD\",\"USD\",\"USD\",\"USD\",\"USD\",\"USD\",\"USD\",\"USD\",\"USD\",\"USD\",\"USD\",\"USD\",\"USD\",\"USD\",\"USD\",\"USD\",\"USD\",\"USD\",\"USD\",\"USD\",\"USD\",\"USD\",\"USD\",\"USD\",\"USD\",\"USD\",\"USD\",\"USD\",\"USD\",\"USD\",\"USD\",\"USD\",\"USD\",\"USD\",\"USD\",\"USD\",\"USD\",\"USD\",\"USD\",\"USD\",\"USD\",\"USD\",\"USD\",\"USD\",\"USD\",\"USD\",\"USD\",\"USD\",\"USD\",\"USD\",\"USD\",\"USD\",\"USD\",\"USD\",\"USD\",\"USD\",\"USD\",\"USD\",\"USD\",\"EUR\",\"USD\",\"EUR\",\"USD\",\"USD\",\"USD\",\"USD\",\"USD\",\"USD\",\"EUR\",\"EUR\",\"USD\",\"USD\",\"USD\",\"USD\",\"USD\",\"USD\",\"USD\",\"USD\",\"USD\",\"USD\",\"USD\",\"USD\",\"USD\",\"USD\",\"USD\",\"USD\",\"USD\",\"USD\",\"USD\",\"USD\",\"USD\",\"CHF\",\"USD\",\"USD\",\"USD\",\"USD\",\"USD\",\"USD\",\"USD\",\"USD\",\"USD\",\"USD\",\"USD\",\"USD\",\"USD\",\"USD\",\"USD\",\"USD\",\"USD\",\"USD\",\"USD\",\"USD\",\"USD\",\"USD\",\"USD\",\"USD\",\"USD\",\"USD\",\"USD\",\"USD\",\"USD\",\"USD\",\"USD\",\"USD\",\"USD\",\"USD\",\"USD\",\"USD\",\"USD\",\"USD\",\"USD\",\"USD\",\"USD\",\"GBP\",\"GBP\",\"USD\",\"USD\",\"USD\",\"USD\",\"USD\",\"USD\",\"USD\",\"USD\",\"USD\",\"USD\",\"USD\",\"USD\",\"USD\",\"USD\",\"USD\",\"USD\",\"GBP\",\"GBP\",\"USD\",\"USD\",\"USD\",\"USD\",\"GBP\",\"GBP\",\"USD\",\"GBP\",\"GBP\",\"USD\",\"USD\",\"USD\",\"USD\",\"USD\",\"USD\",\"USD\",\"USD\",\"USD\",\"USD\",\"USD\",\"USD\",\"USD\",\"USD\",\"USD\",\"USD\",\"EUR\",\"USD\",\"USD\",\"USD\",\"USD\",\"USD\",\"USD\",\"USD\",\"USD\",\"USD\",\"USD\",\"USD\",\"USD\",\"USD\",\"USD\",\"SGD\",\"USD\",\"USD\",\"USD\",\"USD\",\"USD\",\"USD\",\"USD\",\"USD\",\"USD\",\"USD\",\"USD\",\"USD\",\"USD\",\"USD\",\"USD\",\"USD\",\"USD\",\"USD\",\"USD\",\"USD\",\"USD\",\"USD\",\"USD\",\"USD\",\"USD\",\"USD\",\"USD\",\"USD\",\"USD\",\"EUR\",\"USD\",\"USD\",\"USD\",\"USD\",\"USD\",\"USD\",\"USD\",\"USD\",\"USD\",\"USD\",\"USD\",\"USD\",\"USD\",\"USD\",\"EUR\",\"EUR\",\"USD\",\"USD\",\"USD\",\"USD\",\"USD\",\"USD\",\"USD\",\"USD\",\"USD\",\"USD\",\"USD\",\"USD\",\"USD\",\"USD\",\"USD\",\"USD\",\"USD\",\"USD\",\"USD\",\"USD\",\"USD\",\"USD\",\"USD\",\"USD\",\"USD\",\"USD\",\"USD\",\"USD\",\"USD\",\"USD\",\"USD\",\"USD\",\"USD\",\"USD\",\"USD\",\"USD\",\"USD\",\"USD\",\"USD\",\"USD\",\"USD\",\"USD\",\"USD\",\"USD\",\"USD\",\"USD\",\"USD\",\"USD\",\"USD\",\"USD\",\"USD\",\"USD\",\"USD\",\"USD\",\"USD\",\"USD\",\"CAD\",\"USD\",\"USD\",\"USD\",\"USD\",\"CAD\",\"USD\",\"USD\",\"USD\",\"USD\",\"USD\",\"USD\",\"USD\",\"USD\",\"USD\",\"USD\",\"USD\",\"USD\",\"USD\",\"USD\",\"USD\",\"USD\",\"USD\",\"USD\",\"USD\",\"USD\",\"USD\",\"USD\",\"USD\",\"USD\",\"USD\",\"USD\",\"USD\",\"USD\",\"USD\",\"USD\",\"USD\",\"USD\",\"EUR\",\"USD\",\"USD\",\"USD\",\"USD\",\"USD\",\"USD\",\"GBP\",\"GBP\",\"USD\",\"USD\",\"USD\",\"USD\",\"USD\",\"USD\",\"USD\",\"USD\",\"USD\",\"USD\",\"USD\",\"USD\",\"USD\",\"USD\",\"USD\",\"USD\",\"USD\",\"USD\",\"USD\",\"USD\",\"USD\",\"USD\",\"USD\",\"USD\",\"EUR\",\"EUR\",\"USD\",\"USD\",\"USD\",\"USD\",\"USD\",\"USD\",\"USD\",\"USD\",\"USD\",\"USD\",\"USD\",\"USD\",\"USD\",\"USD\",\"USD\",\"USD\",\"USD\",\"USD\",\"USD\",\"USD\",\"USD\",\"USD\",\"USD\",\"USD\",\"USD\",\"USD\",\"USD\",\"USD\",\"USD\",\"USD\",\"USD\",\"USD\",\"USD\",\"USD\",\"USD\",\"USD\",\"USD\",\"USD\",\"USD\",\"USD\",\"USD\",\"USD\",\"USD\",\"USD\",\"USD\",\"USD\",\"USD\",\"USD\",\"USD\",\"USD\",\"USD\",\"USD\",\"USD\",\"USD\",\"USD\",\"USD\",\"USD\",\"USD\",\"GBP\",\"GBP\",\"USD\",\"USD\",\"USD\",\"USD\",\"USD\",\"USD\",\"USD\",\"USD\",\"USD\",\"USD\",\"USD\",\"USD\",\"USD\",\"USD\",\"USD\",\"USD\",\"EUR\",\"USD\",\"USD\",\"USD\",\"USD\",\"USD\",\"USD\",\"USD\",\"USD\",\"USD\",\"USD\",\"USD\",\"USD\",\"USD\",\"USD\",\"USD\",\"USD\",\"USD\",\"USD\",\"USD\",\"USD\",\"EUR\",\"USD\",\"USD\",\"USD\",\"USD\",\"USD\",\"USD\",\"USD\",\"USD\",\"USD\",\"USD\",\"USD\",\"USD\",\"USD\",\"USD\",\"USD\",\"USD\",\"USD\",\"USD\",\"USD\",\"USD\",\"USD\",\"USD\",\"USD\",\"USD\",\"USD\",\"USD\",\"USD\",\"USD\",\"USD\",\"USD\",\"USD\",\"USD\",\"USD\",\"USD\",\"USD\",\"USD\",\"USD\",\"USD\",\"USD\",\"USD\",\"USD\",\"USD\",\"USD\",\"USD\",\"USD\",\"USD\",\"USD\",\"USD\",\"USD\",\"USD\",\"USD\",\"USD\",\"USD\",\"USD\",\"USD\",\"USD\",\"USD\",\"USD\",\"USD\",\"USD\",\"USD\",\"USD\",\"USD\",\"USD\",\"USD\",\"EUR\",\"EUR\",\"USD\",\"USD\",\"USD\",\"USD\",\"USD\",\"USD\",\"USD\",\"USD\",\"USD\",\"USD\",\"USD\",\"USD\",\"USD\",\"EUR\",\"USD\",\"USD\",\"USD\",\"USD\",\"GBP\",\"GBP\",\"USD\",\"USD\",\"GBP\",\"GBP\",\"GBP\",\"GBP\",\"USD\",\"USD\",\"USD\",\"USD\",\"CHF\",\"EUR\",\"USD\",\"USD\",\"USD\",\"USD\",\"USD\",\"USD\",\"USD\",\"USD\",\"USD\",\"USD\",\"EUR\",\"EUR\",\"USD\",\"USD\",\"USD\",\"USD\",\"USD\",\"USD\",\"USD\",\"USD\",\"USD\",\"USD\",\"USD\",\"USD\",\"USD\",\"USD\",\"USD\",\"USD\",\"USD\",\"USD\",\"USD\",\"USD\",\"USD\",\"USD\",\"USD\",\"USD\",\"USD\",\"USD\",\"USD\",\"USD\",\"USD\",\"USD\",\"USD\",\"USD\",\"USD\",\"USD\",\"USD\",\"USD\",\"USD\",\"USD\",\"USD\",\"USD\",\"USD\",\"USD\",\"USD\",\"USD\",\"USD\",\"USD\",\"USD\",\"USD\",\"USD\",\"USD\",\"USD\",\"USD\",\"USD\",\"USD\",\"USD\",\"USD\",\"USD\",\"USD\",\"USD\",\"USD\",\"USD\",\"USD\",\"USD\",\"USD\",\"USD\",\"USD\",\"USD\",\"USD\",\"USD\",\"USD\",\"USD\",\"USD\",\"USD\",\"USD\",\"USD\",\"USD\",\"USD\",\"USD\",\"USD\",\"USD\",\"USD\",\"USD\",\"USD\",\"USD\",\"USD\",\"USD\",\"USD\",\"USD\",\"USD\",\"USD\",\"USD\",\"USD\",\"USD\",\"USD\",\"USD\",\"USD\",\"USD\",\"USD\",\"USD\",\"USD\",\"GBP\",\"GBP\",\"USD\",\"USD\",\"USD\",\"USD\",\"USD\",\"USD\",\"USD\",\"USD\",\"USD\",\"USD\",\"USD\",\"USD\",\"USD\",\"USD\",\"USD\",\"USD\",\"USD\",\"USD\",\"USD\",\"USD\",\"USD\",\"USD\",\"USD\",\"USD\",\"USD\",\"SGD\",\"USD\",\"USD\",\"USD\",\"USD\",\"USD\",\"USD\",\"USD\",\"USD\",\"USD\",\"USD\",\"USD\",\"USD\",\"USD\",\"USD\",\"USD\",\"USD\",\"USD\",\"USD\",\"USD\",\"USD\",\"USD\",\"USD\",\"USD\",\"USD\",\"USD\",\"USD\",\"USD\",\"USD\",\"USD\",\"USD\",\"EUR\",\"EUR\",\"EUR\",\"EUR\",\"GBP\",\"GBP\",\"GBP\",\"GBP\",\"USD\",\"USD\",\"USD\",\"USD\",\"USD\",\"USD\",\"USD\",\"USD\",\"USD\",\"USD\",\"USD\",\"USD\",\"USD\",\"USD\",\"USD\",\"USD\",\"USD\",\"USD\",\"USD\",\"USD\",\"USD\",\"USD\",\"USD\",\"USD\",\"USD\",\"USD\",\"USD\",\"USD\",\"USD\",\"USD\",\"USD\",\"USD\",\"EUR\",\"USD\",\"USD\",\"USD\",\"USD\",\"USD\",\"USD\",\"USD\",\"USD\",\"USD\",\"USD\",\"USD\",\"USD\",\"USD\",\"USD\",\"USD\",\"USD\",\"USD\",\"USD\",\"USD\",\"USD\",\"USD\",\"USD\",\"USD\",\"USD\",\"USD\",\"USD\",\"USD\",\"USD\",\"USD\",\"USD\",\"EUR\",\"USD\",\"USD\",\"USD\",\"USD\",\"USD\",\"USD\",\"USD\",\"USD\",\"USD\",\"USD\",\"USD\",\"USD\",\"USD\",\"USD\",\"EUR\",\"USD\",\"USD\",\"USD\",\"USD\",\"USD\",\"USD\",\"USD\",\"USD\",\"USD\",\"USD\",\"USD\",\"USD\",\"USD\",\"USD\",\"USD\",\"USD\",\"USD\",\"USD\",\"USD\",\"USD\",\"USD\",\"USD\",\"USD\",\"USD\",\"GBP\",\"GBP\",\"USD\",\"USD\",\"USD\",\"USD\",\"USD\",\"USD\",\"USD\",\"USD\",\"USD\",\"USD\",\"USD\",\"USD\",\"USD\",\"USD\",\"USD\",\"USD\",\"USD\",\"USD\",\"USD\",\"USD\",\"USD\",\"USD\",\"USD\",\"USD\",\"USD\",\"USD\",\"USD\",\"USD\",\"USD\",\"USD\",\"USD\",\"USD\",\"USD\",\"USD\",\"USD\",\"USD\",\"USD\",\"USD\",\"GBP\",\"GBP\",\"USD\",\"USD\",\"USD\",\"USD\",\"USD\",\"USD\",\"USD\",\"USD\",\"USD\",\"USD\",\"USD\",\"USD\",\"USD\",\"USD\",\"GBP\",\"GBP\",\"USD\",\"USD\",\"USD\",\"USD\",\"USD\",\"USD\",\"USD\",\"USD\",\"USD\",\"USD\",\"USD\",\"USD\",\"USD\",\"USD\",\"USD\",\"USD\",\"USD\",\"USD\",\"USD\",\"USD\",\"USD\",\"USD\",\"USD\",\"USD\",\"USD\",\"USD\",\"USD\",\"USD\",\"USD\",\"USD\",\"EUR\",\"EUR\",\"USD\",\"USD\",\"USD\",\"USD\",\"USD\",\"USD\",\"EUR\",\"USD\",\"USD\",\"USD\",\"USD\",\"USD\",\"USD\",\"USD\",\"USD\",\"USD\",\"USD\",\"EUR\",\"EUR\",\"USD\",\"USD\",\"USD\",\"USD\",\"USD\",\"USD\",\"USD\",\"USD\",\"USD\",\"USD\",\"USD\",\"USD\",\"USD\",\"USD\",\"USD\",\"USD\",\"USD\",\"USD\",\"USD\",\"USD\",\"USD\",\"USD\",\"USD\",\"USD\",\"USD\",\"USD\",\"USD\",\"USD\",\"USD\",\"USD\",\"USD\",\"USD\",\"USD\",\"USD\",\"EUR\",\"EUR\",\"USD\",\"USD\",\"USD\",\"USD\",\"USD\",\"USD\",\"USD\",\"USD\",\"GBP\",\"GBP\",\"GBP\",\"GBP\",\"USD\",\"USD\",\"USD\",\"USD\",\"USD\",\"USD\",\"USD\",\"USD\",\"USD\",\"USD\",\"USD\",\"USD\",\"GBP\",\"GBP\",\"USD\",\"USD\",\"USD\",\"USD\",\"USD\",\"USD\",\"USD\",\"USD\",\"USD\",\"USD\",\"USD\",\"USD\",\"USD\",\"USD\",\"USD\",\"USD\",\"USD\",\"USD\",\"USD\",\"USD\",\"EUR\",\"USD\",\"USD\",\"USD\",\"USD\",\"USD\",\"USD\",\"USD\",\"USD\",\"USD\",\"USD\",\"USD\",\"USD\",\"USD\",\"USD\",\"USD\",\"USD\",\"USD\",\"USD\",\"USD\",\"USD\",\"USD\",\"USD\",\"USD\",\"USD\",\"USD\",\"USD\",\"USD\",\"USD\",\"USD\",\"USD\",\"USD\",\"USD\",\"USD\",\"USD\",\"USD\",\"USD\",\"GBP\",\"USD\",\"USD\",\"USD\",\"USD\",\"USD\",\"USD\",\"USD\",\"USD\",\"USD\",\"USD\",\"USD\",\"USD\",\"USD\",\"USD\",\"USD\",\"USD\",\"USD\",\"USD\",\"USD\",\"USD\",\"USD\",\"USD\",\"USD\",\"USD\",\"USD\",\"USD\",\"USD\",\"USD\",\"USD\",\"USD\",\"USD\",\"USD\",\"USD\",\"USD\",\"USD\",\"USD\",\"USD\",\"USD\",\"USD\",\"USD\",\"USD\",\"USD\",\"USD\",\"USD\",\"USD\",\"USD\",\"USD\",\"USD\",\"USD\",\"USD\",\"USD\",\"USD\",\"USD\",\"USD\",\"USD\",\"GBP\",\"GBP\",\"USD\",\"USD\",\"USD\",\"USD\",\"USD\",\"USD\",\"USD\",\"USD\",\"EUR\",\"EUR\",\"USD\",\"USD\",\"USD\",\"USD\",\"USD\",\"USD\",\"USD\",\"USD\",\"USD\",\"USD\",\"USD\",\"USD\",\"USD\",\"USD\",\"GBP\",\"GBP\",\"USD\",\"USD\",\"USD\",\"USD\",\"USD\",\"USD\",\"USD\",\"USD\",\"USD\",\"USD\",\"USD\",\"USD\",\"USD\",\"GBP\",\"USD\",\"USD\",\"USD\",\"USD\",\"USD\",\"USD\",\"USD\",\"USD\",\"USD\",\"USD\",\"USD\",\"USD\",\"USD\",\"USD\",\"EUR\",\"EUR\",\"USD\",\"USD\",\"USD\",\"USD\",\"USD\",\"USD\",\"GBP\",\"USD\",\"USD\",\"USD\",\"USD\",\"USD\",\"USD\",\"USD\",\"USD\",\"USD\",\"USD\",\"USD\",\"USD\",\"USD\",\"USD\",\"USD\",\"USD\",\"USD\",\"USD\",\"USD\",\"USD\",\"USD\",\"USD\",\"USD\",\"USD\",\"USD\",\"USD\",\"USD\",\"USD\",\"EUR\",\"USD\",\"USD\",\"USD\",\"USD\",\"USD\",\"USD\",\"USD\",\"USD\",\"USD\",\"USD\",\"USD\",\"USD\",\"USD\",\"USD\",\"USD\",\"USD\",\"GBP\",\"GBP\",\"USD\",\"USD\",\"USD\",\"USD\",\"USD\",\"USD\",\"USD\",\"USD\",\"USD\",\"USD\",\"USD\",\"USD\",\"USD\",\"USD\",\"USD\",\"USD\",\"USD\",\"USD\",\"USD\",\"USD\",\"USD\",\"USD\",\"USD\",\"USD\",\"USD\",\"USD\",\"USD\",\"USD\",\"USD\",\"USD\",\"USD\",\"USD\",\"USD\",\"USD\",\"USD\",\"USD\",\"GBP\",\"GBP\",\"USD\",\"USD\",\"GBP\",\"GBP\",\"EUR\",\"USD\",\"USD\",\"USD\",\"GBP\",\"GBP\",\"GBP\",\"GBP\",\"USD\",\"USD\",\"USD\",\"USD\",\"USD\",\"USD\",\"USD\",\"USD\",\"EUR\",\"EUR\",\"CAD\",\"USD\",\"USD\",\"USD\",\"USD\",\"USD\",\"EUR\",\"USD\",\"USD\",\"USD\",\"USD\",\"USD\",\"USD\",\"USD\",\"USD\",\"USD\",\"USD\",\"USD\",\"USD\",\"USD\",\"USD\",\"USD\",\"USD\",\"USD\",\"USD\",\"USD\",\"USD\",\"USD\",\"USD\",\"USD\",\"USD\",\"USD\",\"USD\",\"USD\",\"USD\",\"USD\",\"USD\",\"USD\",\"USD\",\"USD\",\"USD\",\"USD\",\"USD\",\"USD\",\"USD\",\"USD\",\"USD\",\"USD\",\"USD\",\"USD\",\"USD\",\"USD\",\"USD\",\"USD\",\"USD\",\"USD\",\"USD\",\"USD\",\"USD\",\"USD\",\"USD\",\"USD\",\"USD\",\"USD\",\"USD\",\"USD\",\"USD\",\"USD\",\"USD\",\"USD\",\"USD\",\"USD\",\"USD\",\"USD\",\"USD\",\"USD\",\"USD\",\"USD\",\"USD\",\"USD\",\"USD\",\"USD\",\"USD\",\"USD\",\"USD\",\"USD\",\"USD\",\"USD\",\"USD\",\"USD\",\"USD\",\"USD\",\"USD\",\"USD\",\"USD\",\"USD\",\"USD\",\"USD\",\"USD\",\"USD\",\"USD\",\"USD\",\"USD\",\"USD\",\"SGD\",\"EUR\",\"USD\",\"USD\",\"USD\",\"USD\",\"USD\",\"USD\",\"USD\",\"USD\",\"USD\",\"USD\",\"USD\",\"USD\",\"USD\",\"USD\",\"USD\",\"USD\",\"USD\",\"USD\",\"USD\",\"USD\",\"USD\",\"USD\",\"USD\",\"USD\",\"USD\",\"USD\",\"USD\",\"USD\",\"USD\",\"USD\",\"USD\",\"USD\",\"USD\",\"USD\",\"USD\",\"USD\",\"USD\",\"EUR\",\"USD\",\"USD\",\"USD\",\"USD\",\"USD\",\"USD\",\"USD\",\"USD\",\"USD\",\"USD\",\"USD\",\"USD\",\"USD\",\"USD\",\"USD\",\"USD\",\"USD\",\"USD\",\"USD\",\"USD\",\"USD\",\"USD\",\"USD\",\"USD\",\"USD\",\"USD\",\"USD\",\"USD\",\"USD\",\"USD\",\"USD\",\"USD\",\"USD\",\"USD\",\"USD\",\"USD\",\"USD\",\"USD\",\"USD\",\"USD\",\"USD\",\"USD\",\"USD\",\"USD\",\"USD\",\"USD\",\"USD\",\"USD\",\"USD\",\"USD\",\"USD\",\"USD\",\"USD\",\"USD\",\"USD\",\"USD\",\"USD\",\"USD\",\"USD\",\"USD\",\"USD\",\"EUR\",\"EUR\",\"USD\",\"USD\",\"EUR\",\"EUR\",\"USD\",\"USD\",\"USD\",\"USD\",\"USD\",\"USD\",\"USD\",\"USD\",\"EUR\",\"EUR\",\"EUR\",\"EUR\",\"EUR\",\"USD\",\"USD\",\"USD\",\"USD\",\"USD\",\"USD\",\"USD\",\"USD\",\"USD\",\"USD\",\"USD\",\"USD\",\"USD\",\"USD\",\"USD\",\"USD\",\"USD\",\"USD\",\"USD\",\"USD\",\"USD\",\"USD\",\"USD\",\"USD\",\"USD\",\"USD\",\"USD\",\"USD\",\"USD\",\"USD\",\"USD\",\"USD\",\"USD\",\"USD\",\"EUR\",\"EUR\",\"USD\",\"USD\",\"USD\",\"USD\",\"USD\",\"USD\",\"USD\",\"USD\",\"USD\",\"USD\",\"USD\",\"GBP\",\"GBP\",\"USD\",\"USD\",\"USD\",\"USD\",\"USD\",\"USD\",\"USD\",\"USD\",\"USD\",\"USD\",\"USD\",\"USD\",\"USD\",\"USD\",\"USD\",\"USD\",\"USD\",\"USD\",\"USD\",\"USD\",\"USD\",\"USD\",\"USD\",\"USD\",\"USD\",\"USD\",\"USD\",\"USD\",\"USD\",\"USD\",\"USD\",\"USD\",\"USD\",\"USD\",\"USD\",\"USD\",\"USD\",\"USD\",\"USD\",\"USD\",\"USD\",\"USD\",\"USD\",\"USD\",\"USD\",\"USD\",\"USD\",\"USD\",\"USD\",\"USD\",\"USD\",\"USD\",\"USD\",\"USD\",\"USD\",\"USD\",\"USD\",\"USD\",\"USD\",\"USD\",\"USD\",\"USD\",\"USD\",\"USD\",\"USD\",\"USD\",\"USD\",\"USD\",\"USD\",\"USD\",\"USD\",\"USD\",\"USD\",\"USD\",\"USD\",\"USD\",\"USD\",\"USD\",\"USD\",\"USD\",\"USD\",\"USD\",\"USD\",\"USD\",\"USD\",\"USD\",\"GBP\",\"EUR\",\"USD\",\"USD\",\"USD\",\"USD\",\"GBP\",\"GBP\",\"USD\",\"USD\",\"USD\",\"USD\",\"USD\",\"USD\",\"USD\",\"USD\",\"USD\",\"USD\",\"USD\",\"USD\",\"USD\",\"USD\",\"EUR\",\"EUR\",\"USD\",\"USD\",\"USD\",\"USD\",\"USD\",\"USD\",\"USD\",\"USD\",\"USD\",\"USD\",\"USD\",\"USD\",\"USD\",\"USD\",\"USD\",\"USD\",\"USD\",\"USD\",\"USD\",\"USD\",\"USD\",\"USD\",\"USD\",\"USD\",\"USD\",\"USD\",\"USD\",\"USD\",\"USD\",\"USD\",\"USD\",\"USD\",\"USD\",\"USD\",\"USD\",\"USD\",\"USD\",\"USD\",\"USD\",\"USD\",\"USD\",\"USD\",\"USD\",\"USD\",\"USD\",\"USD\",\"USD\",\"USD\",\"USD\",\"USD\",\"USD\",\"USD\",\"USD\",\"USD\",\"USD\",\"USD\",\"USD\",\"USD\",\"USD\",\"USD\",\"USD\",\"USD\",\"USD\",\"USD\",\"USD\",\"USD\",\"GBP\",\"GBP\",\"USD\",\"USD\",\"GBP\",\"GBP\",\"USD\",\"USD\",\"USD\",\"USD\",\"USD\",\"USD\",\"USD\",\"USD\",\"USD\",\"USD\",\"USD\",\"USD\",\"USD\",\"USD\",\"USD\",\"USD\",\"USD\",\"USD\",\"USD\",\"USD\",\"USD\",\"USD\",\"USD\",\"USD\",\"USD\",\"USD\",\"USD\",\"USD\",\"USD\",\"USD\",\"USD\",\"USD\",\"USD\",\"USD\",\"USD\",\"USD\",\"USD\",\"USD\",\"USD\",\"USD\",\"USD\",\"USD\",\"USD\",\"USD\",\"USD\",\"USD\",\"USD\",\"USD\",\"USD\",\"USD\",\"USD\",\"USD\",\"USD\",\"EUR\",\"EUR\",\"USD\",\"USD\",\"USD\",\"USD\",\"USD\",\"USD\",\"USD\",\"USD\",\"USD\",\"USD\",\"USD\",\"USD\",\"USD\",\"EUR\",\"USD\",\"USD\",\"USD\",\"USD\",\"USD\",\"USD\",\"USD\",\"USD\",\"USD\",\"USD\",\"USD\",\"USD\",\"USD\",\"USD\",\"USD\",\"USD\",\"USD\",\"USD\",\"USD\",\"USD\",\"USD\",\"GBP\",\"GBP\",\"USD\",\"USD\",\"USD\",\"USD\",\"USD\",\"USD\",\"USD\",\"USD\",\"USD\",\"USD\",\"USD\",\"USD\",\"USD\",\"USD\",\"USD\",\"USD\",\"USD\",\"USD\",\"USD\",\"USD\",\"USD\",\"USD\",\"USD\",\"USD\",\"USD\",\"USD\",\"USD\",\"GBP\",\"GBP\",\"USD\",\"USD\",\"USD\",\"USD\",\"USD\",\"USD\",\"USD\",\"USD\",\"USD\",\"USD\",\"USD\",\"USD\",\"EUR\",\"EUR\",\"USD\",\"USD\",\"USD\",\"USD\",\"USD\",\"USD\",\"USD\",\"USD\",\"USD\",\"EUR\",\"EUR\",\"USD\",\"USD\",\"USD\",\"USD\",\"USD\",\"USD\",\"USD\",\"USD\",\"USD\",\"USD\",\"USD\",\"USD\",\"USD\",\"USD\",\"USD\",\"USD\",\"EUR\",\"USD\",\"USD\",\"USD\",\"USD\",\"USD\",\"USD\",\"USD\",\"USD\",\"USD\",\"USD\",\"USD\",\"USD\",\"USD\",\"USD\",\"USD\",\"USD\",\"USD\",\"USD\",\"USD\",\"USD\",\"USD\",\"USD\",\"USD\",\"USD\",\"USD\",\"USD\",\"USD\",\"USD\",\"USD\",\"USD\",\"USD\",\"USD\",\"USD\",\"USD\",\"USD\",\"USD\",\"USD\",\"USD\",\"USD\",\"USD\",\"GBP\",\"GBP\",\"EUR\",\"EUR\",\"USD\",\"USD\",\"EUR\",\"USD\",\"USD\",\"USD\",\"USD\",\"USD\",\"USD\",\"USD\",\"USD\",\"USD\",\"USD\",\"USD\",\"USD\",\"USD\",\"USD\",\"USD\",\"USD\",\"USD\",\"USD\",\"EUR\",\"EUR\",\"USD\",\"USD\",\"USD\",\"USD\",\"USD\",\"USD\",\"USD\",\"EUR\",\"EUR\",\"USD\",\"USD\",\"USD\",\"USD\",\"USD\",\"USD\",\"USD\",\"USD\",\"USD\",\"USD\",\"USD\",\"USD\",\"USD\",\"USD\",\"USD\",\"USD\",\"USD\",\"USD\",\"USD\",\"USD\",\"USD\",\"USD\",\"USD\",\"USD\",\"USD\",\"USD\",\"USD\",\"USD\",\"USD\",\"USD\",\"USD\",\"USD\",\"USD\",\"USD\",\"USD\",\"USD\",\"USD\",\"USD\",\"USD\",\"USD\",\"USD\",\"USD\",\"USD\",\"USD\",\"USD\",\"EUR\",\"EUR\",\"USD\",\"USD\",\"USD\",\"USD\",\"USD\",\"USD\",\"USD\",\"USD\",\"USD\",\"USD\",\"USD\",\"USD\",\"USD\",\"USD\",\"USD\",\"USD\",\"USD\",\"EUR\",\"EUR\",\"GBP\",\"GBP\",\"USD\",\"USD\",\"USD\",\"USD\",\"USD\",\"USD\",\"USD\",\"USD\",\"USD\",\"USD\",\"USD\",\"USD\",\"USD\",\"USD\",\"USD\",\"USD\",\"USD\",\"USD\",\"USD\",\"USD\",\"USD\",\"USD\",\"USD\",\"EUR\",\"EUR\",\"USD\",\"USD\",\"USD\",\"USD\",\"USD\",\"USD\",\"USD\",\"USD\",\"USD\",\"EUR\",\"EUR\",\"USD\",\"USD\",\"USD\",\"USD\",\"USD\",\"USD\",\"USD\",\"USD\",\"USD\",\"USD\",\"USD\",\"USD\",\"USD\",\"USD\",\"USD\",\"USD\",\"GBP\",\"GBP\",\"USD\",\"USD\",\"CAD\",\"USD\",\"USD\",\"USD\",\"USD\",\"USD\",\"USD\",\"USD\",\"USD\",\"USD\",\"USD\",\"USD\",\"USD\",\"USD\",\"USD\",\"USD\",\"USD\",\"USD\",\"USD\",\"EUR\",\"EUR\",\"USD\",\"USD\",\"USD\",\"USD\",\"USD\",\"USD\",\"EUR\",\"EUR\",\"USD\",\"USD\",\"USD\",\"USD\",\"EUR\",\"USD\",\"USD\",\"USD\",\"USD\",\"USD\",\"USD\",\"USD\",\"USD\",\"USD\",\"USD\",\"USD\",\"USD\",\"USD\",\"USD\",\"USD\",\"USD\",\"USD\",\"USD\",\"USD\",\"USD\",\"USD\",\"USD\",\"USD\",\"USD\",\"USD\",\"USD\",\"USD\",\"USD\",\"EUR\",\"USD\",\"USD\",\"EUR\",\"EUR\",\"USD\",\"USD\",\"USD\",\"USD\",\"USD\",\"USD\",\"GBP\",\"GBP\",\"USD\",\"USD\",\"EUR\",\"EUR\",\"USD\",\"USD\",\"USD\",\"EUR\",\"USD\",\"USD\",\"GBP\",\"GBP\",\"USD\",\"USD\",\"USD\",\"USD\",\"USD\",\"USD\",\"USD\",\"USD\",\"USD\",\"USD\",\"USD\",\"USD\",\"USD\",\"USD\",\"USD\",\"USD\",\"USD\",\"USD\",\"EUR\",\"EUR\",\"USD\",\"USD\",\"USD\",\"USD\",\"USD\",\"USD\",\"USD\",\"USD\",\"USD\",\"USD\",\"USD\",\"USD\",\"USD\",\"USD\",\"USD\",\"USD\",\"EUR\",\"USD\",\"USD\",\"USD\",\"USD\",\"USD\",\"USD\",\"USD\",\"USD\",\"USD\",\"USD\",\"USD\",\"USD\",\"USD\",\"USD\",\"USD\",\"USD\",\"GBP\",\"GBP\",\"USD\",\"USD\",\"USD\",\"USD\",\"USD\",\"USD\",\"USD\",\"USD\",\"USD\",\"USD\",\"USD\",\"USD\",\"USD\",\"USD\",\"USD\",\"USD\",\"USD\",\"USD\",\"USD\",\"USD\",\"USD\",\"USD\",\"USD\",\"USD\",\"EUR\",\"EUR\",\"USD\",\"USD\",\"USD\",\"USD\",\"USD\",\"USD\",\"USD\",\"USD\",\"USD\",\"USD\",\"USD\",\"USD\",\"USD\",\"USD\",\"USD\",\"USD\",\"USD\",\"USD\",\"USD\",\"USD\",\"USD\",\"USD\",\"USD\",\"USD\",\"USD\",\"USD\",\"USD\",\"GBP\",\"GBP\",\"USD\",\"USD\",\"USD\",\"USD\",\"USD\",\"USD\",\"USD\",\"USD\",\"USD\",\"CHF\",\"USD\",\"EUR\",\"USD\",\"USD\",\"USD\",\"USD\",\"USD\",\"USD\",\"USD\",\"USD\",\"USD\",\"USD\",\"USD\",\"USD\",\"USD\",\"USD\",\"USD\",\"USD\",\"USD\",\"USD\",\"USD\",\"USD\",\"USD\",\"USD\",\"USD\",\"USD\",\"USD\",\"USD\",\"USD\",\"USD\",\"USD\",\"USD\",\"USD\",\"USD\",\"USD\",\"USD\",\"EUR\",\"USD\",\"USD\",\"USD\",\"USD\",\"USD\",\"USD\",\"USD\",\"USD\",\"USD\",\"USD\",\"EUR\",\"USD\",\"USD\",\"USD\",\"USD\",\"USD\",\"USD\",\"USD\",\"USD\",\"USD\",\"USD\",\"USD\",\"USD\",\"USD\",\"USD\",\"USD\",\"USD\",\"EUR\",\"EUR\",\"USD\",\"USD\",\"USD\",\"USD\",\"GBP\",\"GBP\",\"USD\",\"USD\",\"USD\",\"USD\",\"USD\",\"USD\",\"USD\",\"USD\",\"USD\",\"USD\",\"USD\",\"USD\",\"USD\",\"USD\",\"USD\",\"USD\",\"USD\",\"USD\",\"GBP\",\"USD\",\"EUR\",\"USD\",\"USD\",\"USD\",\"USD\",\"USD\",\"USD\",\"USD\",\"USD\",\"USD\",\"USD\",\"USD\",\"USD\",\"USD\",\"GBP\",\"GBP\",\"USD\",\"USD\",\"USD\",\"USD\",\"USD\",\"USD\",\"USD\",\"USD\",\"USD\",\"USD\",\"USD\",\"USD\",\"USD\",\"USD\",\"USD\",\"USD\",\"USD\",\"USD\",\"USD\",\"USD\",\"USD\",\"USD\",\"USD\",\"USD\",\"USD\",\"USD\",\"USD\",\"USD\",\"USD\",\"USD\",\"USD\",\"USD\",\"USD\",\"USD\",\"USD\",\"USD\",\"USD\",\"USD\",\"USD\",\"USD\",\"USD\",\"USD\",\"USD\",\"USD\",\"USD\",\"USD\",\"USD\",\"USD\",\"USD\",\"USD\",\"EUR\",\"EUR\",\"USD\",\"USD\",\"USD\",\"USD\",\"USD\",\"USD\",\"USD\",\"USD\",\"USD\",\"USD\",\"USD\",\"USD\",\"USD\",\"USD\",\"USD\",\"USD\",\"USD\",\"USD\",\"USD\",\"USD\",\"USD\",\"USD\",\"USD\",\"USD\",\"USD\",\"USD\",\"USD\",\"USD\",\"USD\",\"USD\",\"USD\",\"CAD\",\"USD\",\"GBP\",\"USD\",\"USD\",\"USD\",\"USD\",\"AUD\",\"USD\",\"USD\",\"USD\",\"USD\",\"USD\",\"USD\",\"USD\",\"USD\",\"USD\",\"USD\",\"USD\",\"USD\",\"USD\",\"USD\",\"USD\",\"USD\",\"GBP\",\"GBP\",\"USD\",\"USD\",\"USD\",\"USD\",\"USD\",\"USD\",\"USD\",\"USD\",\"USD\",\"USD\",\"USD\",\"USD\",\"USD\",\"USD\",\"USD\",\"USD\",\"USD\",\"USD\",\"USD\",\"USD\",\"USD\",\"USD\",\"USD\",\"USD\",\"USD\",\"USD\",\"USD\",\"USD\",\"USD\",\"USD\",\"USD\",\"USD\",\"USD\",\"USD\",\"USD\",\"USD\",\"USD\",\"USD\",\"USD\",\"USD\",\"USD\",\"USD\",\"USD\",\"USD\",\"USD\",\"USD\",\"EUR\",\"EUR\",\"USD\",\"USD\",\"USD\",\"USD\",\"USD\",\"CAD\",\"USD\",\"USD\",\"EUR\",\"EUR\",\"USD\",\"USD\",\"USD\",\"USD\",\"USD\",\"USD\",\"USD\",\"CAD\",\"USD\",\"USD\",\"USD\",\"USD\",\"USD\",\"USD\",\"USD\",\"USD\",\"USD\",\"USD\",\"EUR\",\"EUR\",\"EUR\",\"USD\",\"USD\",\"USD\",\"USD\",\"EUR\",\"USD\",\"EUR\",\"EUR\",\"USD\",\"USD\",\"USD\",\"USD\",\"USD\",\"USD\",\"USD\",\"USD\",\"USD\",\"USD\",\"AUD\",\"USD\",\"USD\",\"USD\",\"USD\",\"USD\",\"USD\",\"USD\",\"USD\",\"USD\",\"USD\",\"USD\",\"USD\",\"USD\",\"USD\",\"USD\",\"USD\",\"USD\",\"USD\",\"USD\",\"USD\",\"USD\",\"USD\",\"USD\",\"USD\",\"USD\",\"USD\",\"USD\",\"USD\",\"USD\",\"USD\",\"USD\",\"USD\",\"USD\",\"USD\",\"USD\",\"USD\",\"USD\",\"USD\",\"USD\",\"USD\",\"USD\",\"USD\",\"USD\",\"USD\",\"USD\",\"USD\",\"USD\",\"USD\",\"USD\",\"USD\",\"USD\",\"USD\",\"USD\",\"USD\",\"USD\",\"USD\",\"USD\",\"USD\",\"USD\",\"USD\",\"USD\",\"USD\",\"USD\",\"USD\",\"USD\",\"USD\",\"USD\",\"USD\",\"USD\",\"USD\",\"USD\",\"USD\",\"USD\",\"USD\",\"USD\",\"USD\",\"USD\",\"USD\",\"GBP\",\"GBP\",\"USD\",\"USD\",\"EUR\",\"EUR\",\"USD\",\"GBP\",\"USD\",\"USD\",\"EUR\",\"USD\",\"USD\",\"USD\",\"USD\",\"USD\",\"USD\",\"USD\",\"USD\",\"USD\",\"USD\",\"USD\",\"USD\",\"USD\",\"USD\",\"USD\",\"EUR\",\"USD\",\"USD\",\"USD\",\"GBP\",\"GBP\",\"USD\",\"USD\",\"USD\",\"USD\",\"USD\",\"USD\",\"USD\",\"USD\",\"USD\",\"USD\",\"USD\",\"USD\",\"USD\",\"USD\",\"USD\",\"USD\",\"USD\",\"USD\",\"USD\",\"USD\",\"USD\",\"USD\",\"USD\",\"USD\",\"USD\",\"USD\",\"USD\",\"USD\",\"USD\",\"USD\",\"USD\",\"USD\",\"USD\",\"USD\",\"USD\",\"USD\",\"EUR\",\"USD\",\"USD\",\"USD\",\"USD\",\"USD\",\"USD\",\"USD\",\"USD\",\"USD\",\"USD\",\"USD\",\"USD\",\"GBP\",\"USD\",\"USD\",\"USD\",\"USD\",\"USD\",\"USD\",\"USD\",\"EUR\",\"USD\",\"USD\",\"USD\",\"USD\",\"USD\",\"USD\",\"USD\",\"USD\",\"USD\",\"USD\",\"USD\",\"USD\",\"USD\",\"USD\",\"USD\",\"USD\",\"EUR\",\"EUR\",\"GBP\",\"GBP\",\"EUR\",\"EUR\",\"USD\",\"USD\",\"USD\",\"USD\",\"GBP\",\"GBP\",\"USD\",\"USD\",\"GBP\",\"GBP\",\"USD\",\"USD\",\"USD\",\"USD\",\"USD\",\"EUR\",\"USD\",\"USD\",\"USD\",\"USD\",\"USD\",\"USD\",\"USD\",\"USD\",\"USD\",\"USD\",\"USD\",\"GBP\",\"GBP\",\"USD\",\"USD\",\"USD\",\"USD\",\"USD\",\"USD\",\"USD\",\"USD\",\"USD\",\"USD\",\"USD\",\"USD\",\"USD\",\"USD\",\"USD\",\"USD\",\"USD\",\"USD\",\"EUR\",\"USD\",\"USD\",\"USD\",\"USD\",\"USD\",\"USD\",\"USD\",\"USD\",\"USD\",\"USD\",\"USD\",\"EUR\",\"USD\",\"USD\",\"USD\",\"USD\",\"USD\",\"USD\",\"USD\",\"USD\",\"USD\",\"USD\",\"GBP\",\"USD\",\"USD\",\"USD\",\"USD\",\"USD\",\"USD\",\"USD\",\"USD\",\"USD\",\"USD\",\"USD\",\"USD\",\"USD\",\"USD\",\"USD\",\"EUR\",\"EUR\",\"USD\",\"USD\",\"USD\",\"USD\",\"USD\",\"USD\",\"USD\",\"USD\",\"USD\",\"USD\",\"USD\",\"USD\",\"USD\",\"USD\",\"USD\",\"USD\",\"USD\",\"USD\",\"USD\",\"USD\",\"GBP\",\"GBP\",\"USD\",\"USD\",\"USD\",\"USD\",\"USD\",\"USD\",\"GBP\",\"GBP\",\"GBP\",\"USD\",\"USD\",\"USD\",\"USD\",\"USD\",\"USD\",\"USD\",\"USD\",\"EUR\",\"USD\",\"USD\",\"USD\",\"USD\",\"USD\",\"USD\",\"USD\",\"EUR\",\"GBP\",\"USD\",\"USD\",\"USD\",\"USD\",\"USD\",\"USD\",\"USD\",\"USD\",\"USD\",\"USD\",\"USD\",\"USD\",\"USD\",\"USD\",\"USD\",\"USD\",\"USD\",\"USD\",\"USD\",\"USD\",\"USD\",\"USD\",\"USD\",\"USD\",\"USD\",\"USD\",\"EUR\",\"GBP\",\"USD\",\"USD\",\"USD\",\"USD\",\"USD\",\"USD\",\"USD\",\"EUR\",\"EUR\",\"USD\",\"USD\",\"USD\",\"USD\",\"USD\",\"USD\",\"USD\",\"USD\",\"USD\",\"USD\",\"USD\",\"USD\",\"USD\",\"USD\",\"USD\",\"USD\",\"USD\",\"USD\",\"EUR\",\"GBP\",\"GBP\",\"EUR\",\"USD\",\"USD\",\"USD\",\"USD\",\"GBP\",\"USD\",\"USD\",\"USD\",\"USD\",\"USD\",\"USD\",\"USD\",\"USD\",\"USD\",\"USD\",\"GBP\",\"GBP\",\"USD\",\"USD\",\"USD\",\"USD\",\"USD\",\"USD\",\"USD\",\"USD\",\"USD\",\"USD\",\"USD\",\"USD\",\"USD\",\"USD\",\"USD\",\"USD\",\"USD\",\"USD\",\"USD\",\"USD\",\"EUR\",\"USD\",\"USD\",\"USD\",\"USD\",\"GBP\",\"GBP\",\"USD\",\"USD\",\"USD\",\"USD\",\"USD\",\"USD\",\"USD\",\"USD\",\"EUR\",\"USD\",\"GBP\",\"GBP\",\"USD\",\"USD\",\"USD\",\"USD\",\"USD\",\"EUR\",\"GBP\",\"GBP\",\"USD\",\"USD\",\"USD\",\"USD\",\"USD\",\"USD\",\"USD\",\"USD\",\"EUR\",\"USD\",\"USD\",\"USD\",\"USD\",\"USD\",\"USD\",\"EUR\",\"EUR\",\"CAD\",\"USD\",\"USD\",\"USD\",\"USD\",\"USD\",\"USD\",\"USD\",\"USD\",\"GBP\",\"USD\",\"USD\",\"GBP\",\"GBP\",\"EUR\",\"EUR\",\"EUR\",\"EUR\",\"GBP\",\"GBP\",\"EUR\",\"EUR\",\"USD\",\"USD\",\"EUR\",\"EUR\",\"GBP\",\"GBP\",\"USD\",\"USD\",\"EUR\",\"EUR\",\"USD\",\"USD\",\"GBP\",\"GBP\",\"EUR\",\"EUR\",\"GBP\",\"GBP\",\"EUR\",\"USD\",\"USD\",\"USD\",\"USD\",\"USD\",\"USD\",\"USD\",\"USD\",\"USD\",\"USD\",\"USD\",\"USD\",\"USD\",\"USD\",\"USD\",\"GBP\",\"GBP\",\"GBP\",\"GBP\",\"USD\",\"USD\",\"USD\",\"USD\",\"USD\",\"USD\",\"USD\",\"USD\",\"USD\",\"USD\",\"USD\",\"USD\",\"USD\",\"USD\",\"USD\",\"USD\",\"USD\",\"USD\",\"USD\",\"USD\",\"USD\",\"USD\",\"USD\",\"USD\",\"GBP\",\"GBP\",\"USD\",\"USD\",\"GBP\",\"GBP\",\"USD\",\"USD\",\"USD\",\"USD\",\"USD\",\"USD\",\"USD\",\"USD\",\"GBP\",\"GBP\",\"USD\",\"USD\",\"USD\",\"USD\",\"USD\",\"USD\",\"USD\",\"USD\",\"USD\",\"USD\",\"USD\",\"USD\",\"USD\",\"USD\",\"USD\",\"USD\",\"USD\",\"USD\",\"USD\",\"USD\",\"USD\",\"USD\",\"USD\",\"USD\",\"USD\",\"USD\",\"USD\",\"USD\",\"USD\",\"USD\",\"USD\",\"USD\",\"USD\",\"USD\",\"USD\",\"USD\",\"USD\",\"USD\",\"USD\",\"USD\",\"USD\",\"USD\",\"USD\",\"USD\",\"USD\",\"USD\",\"USD\",\"USD\",\"USD\",\"USD\",\"USD\",\"USD\",\"USD\",\"USD\",\"USD\",\"USD\",\"USD\",\"USD\",\"USD\",\"USD\",\"USD\",\"USD\",\"USD\",\"USD\",\"USD\",\"USD\",\"USD\",\"USD\",\"USD\",\"USD\",\"GBP\",\"GBP\",\"USD\",\"USD\",\"USD\",\"USD\",\"USD\",\"USD\",\"USD\",\"USD\",\"USD\",\"USD\",\"USD\",\"USD\",\"USD\",\"USD\",\"USD\",\"USD\",\"USD\",\"USD\",\"USD\",\"USD\",\"USD\",\"USD\",\"USD\",\"USD\",\"USD\",\"USD\",\"USD\",\"USD\",\"USD\",\"USD\",\"USD\",\"USD\",\"USD\",\"USD\",\"USD\",\"USD\",\"USD\",\"USD\",\"USD\",\"USD\",\"USD\",\"USD\",\"USD\",\"USD\",\"USD\",\"USD\",\"GBP\",\"GBP\",\"USD\",\"USD\",\"USD\",\"USD\",\"USD\",\"USD\",\"USD\",\"USD\",\"USD\",\"USD\",\"USD\",\"USD\",\"USD\",\"USD\",\"CAD\",\"CAD\",\"CAD\",\"USD\",\"EUR\",\"EUR\",\"USD\",\"USD\",\"CAD\",\"USD\",\"EUR\",\"USD\",\"CAD\",\"USD\",\"USD\",\"EUR\",\"USD\",\"CAD\",\"USD\",\"USD\",\"USD\",\"USD\",\"EUR\",\"EUR\",\"EUR\",\"EUR\",\"USD\",\"USD\",\"USD\",\"CAD\",\"USD\",\"USD\",\"EUR\",\"USD\",\"EUR\",\"EUR\",\"USD\",\"USD\",\"USD\",\"USD\",\"USD\",\"USD\",\"USD\",\"USD\",\"USD\",\"CHF\",\"USD\",\"EUR\",\"USD\",\"USD\",\"USD\",\"USD\",\"USD\",\"USD\",\"USD\",\"USD\",\"USD\",\"EUR\",\"USD\",\"USD\",\"USD\",\"USD\",\"EUR\",\"USD\",\"EUR\",\"USD\",\"USD\",\"USD\",\"EUR\",\"GBP\",\"EUR\",\"USD\",\"USD\",\"USD\",\"USD\",\"USD\",\"USD\",\"EUR\",\"EUR\",\"EUR\",\"GBP\",\"USD\",\"USD\",\"USD\",\"USD\",\"USD\",\"USD\",\"EUR\",\"EUR\",\"EUR\",\"USD\",\"USD\",\"USD\",\"USD\",\"USD\",\"EUR\",\"EUR\",\"CAD\",\"USD\",\"USD\",\"CAD\",\"USD\",\"USD\",\"USD\",\"USD\",\"USD\",\"USD\",\"USD\",\"USD\",\"USD\",\"CAD\",\"EUR\",\"EUR\",\"USD\",\"GBP\",\"USD\",\"EUR\",\"USD\",\"USD\",\"USD\",\"USD\",\"EUR\",\"USD\",\"USD\",\"USD\",\"USD\",\"EUR\",\"USD\",\"USD\",\"EUR\",\"USD\",\"EUR\",\"EUR\",\"EUR\",\"GBP\",\"GBP\",\"EUR\",\"USD\",\"USD\",\"CAD\",\"GBP\",\"USD\",\"GBP\",\"USD\",\"EUR\",\"EUR\",\"USD\",\"GBP\",\"SGD\",\"USD\",\"USD\",\"USD\",\"USD\",\"USD\",\"USD\",\"USD\",\"EUR\",\"USD\",\"EUR\",\"USD\",\"GBP\",\"EUR\",\"GBP\",\"USD\",\"CAD\",\"USD\",\"USD\",\"CAD\",\"USD\",\"USD\",\"CAD\",\"USD\",\"USD\",\"USD\",\"USD\",\"GBP\",\"USD\",\"USD\",\"USD\",\"EUR\",\"USD\",\"USD\",\"EUR\",\"USD\",\"USD\",\"USD\",\"USD\",\"USD\",\"USD\",\"EUR\",\"USD\",\"EUR\",\"USD\",\"USD\",\"EUR\",\"USD\",\"USD\",\"USD\",\"EUR\",\"EUR\",\"USD\",\"EUR\",\"CAD\",\"USD\",\"EUR\",\"USD\",\"USD\",\"CAD\",\"USD\",\"USD\",\"USD\",\"USD\",\"EUR\",\"EUR\",\"USD\",\"EUR\",\"USD\",\"EUR\",\"EUR\",\"USD\",\"USD\",\"EUR\",\"USD\",\"EUR\",\"USD\",\"USD\",\"USD\",\"GBP\",\"GBP\",\"USD\",\"EUR\",\"EUR\",\"USD\",\"EUR\",\"EUR\",\"USD\",\"GBP\",\"EUR\",\"EUR\",\"USD\",\"USD\",\"USD\",\"USD\",\"USD\",\"USD\",\"EUR\",\"USD\",\"EUR\",\"USD\",\"EUR\",\"EUR\",\"EUR\",\"USD\",\"USD\",\"USD\",\"CAD\",\"GBP\",\"USD\",\"EUR\",\"USD\",\"USD\",\"USD\",\"USD\",\"USD\",\"EUR\",\"EUR\",\"EUR\",\"EUR\",\"EUR\",\"EUR\",\"EUR\",\"USD\",\"USD\",\"USD\",\"USD\",\"USD\",\"USD\",\"EUR\",\"USD\",\"USD\",\"USD\",\"USD\",\"EUR\",\"USD\",\"SGD\",\"USD\",\"EUR\",\"USD\",\"USD\",\"USD\",\"USD\",\"USD\"],\"x0\":\" \",\"xaxis\":\"x\",\"y\":[0.9318904562768646,1.0,1.0,1.0,1.0,1.0,1.0,1.0,1.0,1.0,1.0,1.0,1.0,1.0,1.0,1.0,1.0,1.0,1.0,1.0,1.0,1.0,1.0,1.0,1.0,1.0,1.0,1.0,1.0,1.0,1.0,1.0,1.0,1.0,1.0,1.0,1.0,1.0,1.0,1.0,1.0,1.0,1.0,1.0,1.0,1.0,1.0,1.0,1.0,1.0,1.0,1.0,1.0,1.0,1.0,1.0,1.0,1.0,1.0,1.0,1.0,1.0,1.0,1.0,1.0,1.0,1.0,1.0,1.0,1.0,1.0,1.0,1.0,1.0,1.0,1.0,1.0,1.0,1.0,1.0,0.9318862812002695,1.0,0.9318892501397834,1.0,1.0,1.0,1.0,1.0,1.0,0.9318892501397834,0.9318940747068416,1.0,1.0,1.0,1.0,1.0,1.0,1.0,1.0,1.0,1.0,1.0,1.0,1.0,1.0,1.0,1.0,1.0,1.0,1.0,1.0,1.0,0.9551436253006934,1.0,1.0,1.0,1.0,1.0,1.0,1.0,1.0,1.0,1.0,1.0,1.0,1.0,1.0,1.0,1.0,1.0,1.0,1.0,1.0,1.0,1.0,1.0,1.0,1.0,1.0,1.0,1.0,1.0,1.0,1.0,1.0,1.0,1.0,1.0,1.0,1.0,1.0,1.0,1.0,1.0,0.8229026809303132,0.8228904615239931,1.0,1.0,1.0,1.0,1.0,1.0,1.0,1.0,1.0,1.0,1.0,1.0,1.0,1.0,1.0,1.0,0.8228947609033556,0.8228904615239931,1.0,1.0,1.0,1.0,0.8228974968954321,0.8228947609033556,1.0,0.8228904615239931,0.8228955528991909,1.0,1.0,1.0,1.0,1.0,1.0,1.0,1.0,1.0,1.0,1.0,1.0,1.0,1.0,1.0,1.0,0.9318969694710553,1.0,1.0,1.0,1.0,1.0,1.0,1.0,1.0,1.0,1.0,1.0,1.0,1.0,1.0,1.3329778725673154,1.0,1.0,1.0,1.0,1.0,1.0,1.0,1.0,1.0,1.0,1.0,1.0,1.0,1.0,1.0,1.0,1.0,1.0,1.0,1.0,1.0,1.0,1.0,1.0,1.0,1.0,1.0,1.0,1.0,0.9517766497461929,1.0,1.0,1.0,1.0,1.0,1.0,1.0,1.0,1.0,1.0,1.0,1.0,1.0,1.0,0.9318892501397834,0.9318940747068416,1.0,1.0,1.0,1.0,1.0,1.0,1.0,1.0,1.0,1.0,1.0,1.0,1.0,1.0,1.0,1.0,1.0,1.0,1.0,1.0,1.0,1.0,1.0,1.0,1.0,1.0,1.0,1.0,1.0,1.0,1.0,1.0,1.0,1.0,1.0,1.0,1.0,1.0,1.0,1.0,1.0,1.0,1.0,1.0,1.0,1.0,1.0,1.0,1.0,1.0,1.0,1.0,1.0,1.0,1.0,1.0,1.3525809704153653,1.0,1.0,1.0,1.0,1.3525785944776147,1.0,1.0,1.0,1.0,1.0,1.0,1.0,1.0,1.0,1.0,1.0,1.0,1.0,1.0,1.0,1.0,1.0,1.0,1.0,1.0,1.0,1.0,1.0,1.0,1.0,1.0,1.0,1.0,1.0,1.0,1.0,1.0,0.9318892501397834,1.0,1.0,1.0,1.0,1.0,1.0,0.8228898134204549,0.8228895029774647,1.0,1.0,1.0,1.0,1.0,1.0,1.0,1.0,1.0,1.0,1.0,1.0,1.0,1.0,1.0,1.0,1.0,1.0,1.0,1.0,1.0,1.0,1.0,1.0,0.9318892501397834,0.9318940747068416,1.0,1.0,1.0,1.0,1.0,1.0,1.0,1.0,1.0,1.0,1.0,1.0,1.0,1.0,1.0,1.0,1.0,1.0,1.0,1.0,1.0,1.0,1.0,1.0,1.0,1.0,1.0,1.0,1.0,1.0,1.0,1.0,1.0,1.0,1.0,1.0,1.0,1.0,1.0,1.0,1.0,1.0,1.0,1.0,1.0,1.0,1.0,1.0,1.0,1.0,1.0,1.0,1.0,1.0,1.0,1.0,1.0,1.0,0.8228872370189538,0.8228947609033556,1.0,1.0,1.0,1.0,1.0,1.0,1.0,1.0,1.0,1.0,1.0,1.0,1.0,1.0,1.0,1.0,0.9517766497461929,1.0,1.0,1.0,1.0,1.0,1.0,1.0,1.0,1.0,1.0,1.0,1.0,1.0,1.0,1.0,1.0,1.0,1.0,1.0,1.0,0.9319230231582871,1.0,1.0,1.0,1.0,1.0,1.0,1.0,1.0,1.0,1.0,1.0,1.0,1.0,1.0,1.0,1.0,1.0,1.0,1.0,1.0,1.0,1.0,1.0,1.0,1.0,1.0,1.0,1.0,1.0,1.0,1.0,1.0,1.0,1.0,1.0,1.0,1.0,1.0,1.0,1.0,1.0,1.0,1.0,1.0,1.0,1.0,1.0,1.0,1.0,1.0,1.0,1.0,1.0,1.0,1.0,1.0,1.0,1.0,1.0,1.0,1.0,1.0,1.0,1.0,1.0,0.9318892501397834,0.9318969694710553,1.0,1.0,1.0,1.0,1.0,1.0,1.0,1.0,1.0,1.0,1.0,1.0,1.0,0.9319013116510961,1.0,1.0,1.0,1.0,0.8228889732877579,0.8229001351907365,1.0,1.0,0.8228904615239931,0.8229001351907365,0.8228872370189538,0.8228872370189538,1.0,1.0,1.0,1.0,0.9249089542748136,0.9517852772414543,1.0,1.0,1.0,1.0,1.0,1.0,1.0,1.0,1.0,1.0,0.9517784909668097,0.9318889055297622,1.0,1.0,1.0,1.0,1.0,1.0,1.0,1.0,1.0,1.0,1.0,1.0,1.0,1.0,1.0,1.0,1.0,1.0,1.0,1.0,1.0,1.0,1.0,1.0,1.0,1.0,1.0,1.0,1.0,1.0,1.0,1.0,1.0,1.0,1.0,1.0,1.0,1.0,1.0,1.0,1.0,1.0,1.0,1.0,1.0,1.0,1.0,1.0,1.0,1.0,1.0,1.0,1.0,1.0,1.0,1.0,1.0,1.0,1.0,1.0,1.0,1.0,1.0,1.0,1.0,1.0,1.0,1.0,1.0,1.0,1.0,1.0,1.0,1.0,1.0,1.0,1.0,1.0,1.0,1.0,1.0,1.0,1.0,1.0,1.0,1.0,1.0,1.0,1.0,1.0,1.0,1.0,1.0,1.0,1.0,1.0,1.0,1.0,1.0,1.0,0.8228904615239931,0.8228955528991909,1.0,1.0,1.0,1.0,1.0,1.0,1.0,1.0,1.0,1.0,1.0,1.0,1.0,1.0,1.0,1.0,1.0,1.0,1.0,1.0,1.0,1.0,1.0,1.0,1.0,1.3329778725673154,1.0,1.0,1.0,1.0,1.0,1.0,1.0,1.0,1.0,1.0,1.0,1.0,1.0,1.0,1.0,1.0,1.0,1.0,1.0,1.0,1.0,1.0,1.0,1.0,1.0,1.0,1.0,1.0,1.0,1.0,0.9318874957641478,0.9318892501397834,0.9318920070291283,0.9318892501397834,0.8228896203463292,0.8228948512269333,0.8228920237156458,0.8228948512269333,1.0,1.0,1.0,1.0,1.0,1.0,1.0,1.0,1.0,1.0,1.0,1.0,1.0,1.0,1.0,1.0,1.0,1.0,1.0,1.0,1.0,1.0,1.0,1.0,1.0,1.0,1.0,1.0,1.0,1.0,1.0,1.0,0.9318909282443986,1.0,1.0,1.0,1.0,1.0,1.0,1.0,1.0,1.0,1.0,1.0,1.0,1.0,1.0,1.0,1.0,1.0,1.0,1.0,1.0,1.0,1.0,1.0,1.0,1.0,1.0,1.0,1.0,1.0,1.0,0.9318882852323663,1.0,1.0,1.0,1.0,1.0,1.0,1.0,1.0,1.0,1.0,1.0,1.0,1.0,1.0,0.9318940747068416,1.0,1.0,1.0,1.0,1.0,1.0,1.0,1.0,1.0,1.0,1.0,1.0,1.0,1.0,1.0,1.0,1.0,1.0,1.0,1.0,1.0,1.0,1.0,1.0,0.8228928799193564,0.8228928799193564,1.0,1.0,1.0,1.0,1.0,1.0,1.0,1.0,1.0,1.0,1.0,1.0,1.0,1.0,1.0,1.0,1.0,1.0,1.0,1.0,1.0,1.0,1.0,1.0,1.0,1.0,1.0,1.0,1.0,1.0,1.0,1.0,1.0,1.0,1.0,1.0,1.0,1.0,0.8228889732877579,0.822890273688055,1.0,1.0,1.0,1.0,1.0,1.0,1.0,1.0,1.0,1.0,1.0,1.0,1.0,1.0,0.8228904615239931,0.8228938757333436,1.0,1.0,1.0,1.0,1.0,1.0,1.0,1.0,1.0,1.0,1.0,1.0,1.0,1.0,1.0,1.0,1.0,1.0,1.0,1.0,1.0,1.0,1.0,1.0,1.0,1.0,1.0,1.0,1.0,1.0,0.9318892501397834,0.9318940747068416,1.0,1.0,1.0,1.0,1.0,1.0,0.9318920070291283,1.0,1.0,1.0,1.0,1.0,1.0,1.0,1.0,1.0,1.0,0.9318886740754134,0.9318940747068416,1.0,1.0,1.0,1.0,1.0,1.0,1.0,1.0,1.0,1.0,1.0,1.0,1.0,1.0,1.0,1.0,1.0,1.0,1.0,1.0,1.0,1.0,1.0,1.0,1.0,1.0,1.0,1.0,1.0,1.0,1.0,1.0,1.0,1.0,0.9318882852323663,0.9318904562768646,1.0,1.0,1.0,1.0,1.0,1.0,1.0,1.0,0.8228963891097524,0.8229007633587786,0.8228875524056698,0.822887492449026,1.0,1.0,1.0,1.0,1.0,1.0,1.0,1.0,1.0,1.0,1.0,1.0,0.8229001351907365,0.8228904615239931,1.0,1.0,1.0,1.0,1.0,1.0,1.0,1.0,1.0,1.0,1.0,1.0,1.0,1.0,1.0,1.0,1.0,1.0,1.0,1.0,0.9318940747068416,1.0,1.0,1.0,1.0,1.0,1.0,1.0,1.0,1.0,1.0,1.0,1.0,1.0,1.0,1.0,1.0,1.0,1.0,1.0,1.0,1.0,1.0,1.0,1.0,1.0,1.0,1.0,1.0,1.0,1.0,1.0,1.0,1.0,1.0,1.0,1.0,0.8228884249915546,1.0,1.0,1.0,1.0,1.0,1.0,1.0,1.0,1.0,1.0,1.0,1.0,1.0,1.0,1.0,1.0,1.0,1.0,1.0,1.0,1.0,1.0,1.0,1.0,1.0,1.0,1.0,1.0,1.0,1.0,1.0,1.0,1.0,1.0,1.0,1.0,1.0,1.0,1.0,1.0,1.0,1.0,1.0,1.0,1.0,1.0,1.0,1.0,1.0,1.0,1.0,1.0,1.0,1.0,1.0,0.8228872370189538,0.8228872370189538,1.0,1.0,1.0,1.0,1.0,1.0,1.0,1.0,0.9318882852323663,0.9318920070291283,1.0,1.0,1.0,1.0,1.0,1.0,1.0,1.0,1.0,1.0,1.0,1.0,1.0,1.0,0.8228872370189538,0.8228962656967462,1.0,1.0,1.0,1.0,1.0,1.0,1.0,1.0,1.0,1.0,1.0,1.0,1.0,0.8228928799193564,1.0,1.0,1.0,1.0,1.0,1.0,1.0,1.0,1.0,1.0,1.0,1.0,1.0,1.0,0.931899641577061,0.9318940747068416,1.0,1.0,1.0,1.0,1.0,1.0,0.8228923911469237,1.0,1.0,1.0,1.0,1.0,1.0,1.0,1.0,1.0,1.0,1.0,1.0,1.0,1.0,1.0,1.0,1.0,1.0,1.0,1.0,1.0,1.0,1.0,1.0,1.0,1.0,1.0,1.0,0.9318933129297745,1.0,1.0,1.0,1.0,1.0,1.0,1.0,1.0,1.0,1.0,1.0,1.0,1.0,1.0,1.0,1.0,0.8228872370189538,0.8228904615239931,1.0,1.0,1.0,1.0,1.0,1.0,1.0,1.0,1.0,1.0,1.0,1.0,1.0,1.0,1.0,1.0,1.0,1.0,1.0,1.0,1.0,1.0,1.0,1.0,1.0,1.0,1.0,1.0,1.0,1.0,1.0,1.0,1.0,1.0,1.0,1.0,0.8228894941698279,0.8228928799193564,1.0,1.0,0.8228872370189538,0.8228894941698279,0.9318969694710553,1.0,1.0,1.0,0.8228974968954321,0.8228889732877579,0.8228962656967462,0.8228947609033556,1.0,1.0,1.0,1.0,1.0,1.0,1.0,1.0,0.9318964091927071,0.9318874957641478,1.352577057110577,1.0,1.0,1.0,1.0,1.0,0.9318969694710553,1.0,1.0,1.0,1.0,1.0,1.0,1.0,1.0,1.0,1.0,1.0,1.0,1.0,1.0,1.0,1.0,1.0,1.0,1.0,1.0,1.0,1.0,1.0,1.0,1.0,1.0,1.0,1.0,1.0,1.0,1.0,1.0,1.0,1.0,1.0,1.0,1.0,1.0,1.0,1.0,1.0,1.0,1.0,1.0,1.0,1.0,1.0,1.0,1.0,1.0,1.0,1.0,1.0,1.0,1.0,1.0,1.0,1.0,1.0,1.0,1.0,1.0,1.0,1.0,1.0,1.0,1.0,1.0,1.0,1.0,1.0,1.0,1.0,1.0,1.0,1.0,1.0,1.0,1.0,1.0,1.0,1.0,1.0,1.0,1.0,1.0,1.0,1.0,1.0,1.0,1.0,1.0,1.0,1.0,1.0,1.0,1.0,1.3438853217858742,0.9318928481172606,1.0,1.0,1.0,1.0,1.0,1.0,1.0,1.0,1.0,1.0,1.0,1.0,1.0,1.0,1.0,1.0,1.0,1.0,1.0,1.0,1.0,1.0,1.0,1.0,1.0,1.0,1.0,1.0,1.0,1.0,1.0,1.0,1.0,1.0,1.0,1.0,1.0,0.9517804242561241,1.0,1.0,1.0,1.0,1.0,1.0,1.0,1.0,1.0,1.0,1.0,1.0,1.0,1.0,1.0,1.0,1.0,1.0,1.0,1.0,1.0,1.0,1.0,1.0,1.0,1.0,1.0,1.0,1.0,1.0,1.0,1.0,1.0,1.0,1.0,1.0,1.0,1.0,1.0,1.0,1.0,1.0,1.0,1.0,1.0,1.0,1.0,1.0,1.0,1.0,1.0,1.0,1.0,1.0,1.0,1.0,1.0,1.0,1.0,1.0,1.0,0.9318940747068416,0.9517766497461929,1.0,1.0,0.9318940747068416,0.9318940747068416,1.0,1.0,1.0,1.0,1.0,1.0,1.0,1.0,0.9318969694710553,0.9318940747068416,0.931897883610859,0.9318940747068416,0.931897883610859,1.0,1.0,1.0,1.0,1.0,1.0,1.0,1.0,1.0,1.0,1.0,1.0,1.0,1.0,1.0,1.0,1.0,1.0,1.0,1.0,1.0,1.0,1.0,1.0,1.0,1.0,1.0,1.0,1.0,1.0,1.0,1.0,1.0,1.0,0.9318940747068416,0.9318940747068416,1.0,1.0,1.0,1.0,1.0,1.0,1.0,1.0,1.0,1.0,1.0,0.8228889732877579,0.822890273688055,1.0,1.0,1.0,1.0,1.0,1.0,1.0,1.0,1.0,1.0,1.0,1.0,1.0,1.0,1.0,1.0,1.0,1.0,1.0,1.0,1.0,1.0,1.0,1.0,1.0,1.0,1.0,1.0,1.0,1.0,1.0,1.0,1.0,1.0,1.0,1.0,1.0,1.0,1.0,1.0,1.0,1.0,1.0,1.0,1.0,1.0,1.0,1.0,1.0,1.0,1.0,1.0,1.0,1.0,1.0,1.0,1.0,1.0,1.0,1.0,1.0,1.0,1.0,1.0,1.0,1.0,1.0,1.0,1.0,1.0,1.0,1.0,1.0,1.0,1.0,1.0,1.0,1.0,1.0,1.0,1.0,1.0,1.0,1.0,1.0,1.0,0.8228872370189538,0.9517766497461929,1.0,1.0,1.0,1.0,0.8228904830926738,0.8228951013538672,1.0,1.0,1.0,1.0,1.0,1.0,1.0,1.0,1.0,1.0,1.0,1.0,1.0,1.0,0.9318862812002695,0.9318920070291283,1.0,1.0,1.0,1.0,1.0,1.0,1.0,1.0,1.0,1.0,1.0,1.0,1.0,1.0,1.0,1.0,1.0,1.0,1.0,1.0,1.0,1.0,1.0,1.0,1.0,1.0,1.0,1.0,1.0,1.0,1.0,1.0,1.0,1.0,1.0,1.0,1.0,1.0,1.0,1.0,1.0,1.0,1.0,1.0,1.0,1.0,1.0,1.0,1.0,1.0,1.0,1.0,1.0,1.0,1.0,1.0,1.0,1.0,1.0,1.0,1.0,1.0,1.0,1.0,1.0,1.0,0.8228923338288384,0.8228889732877579,1.0,1.0,0.8228900584594813,0.8229026809303132,1.0,1.0,1.0,1.0,1.0,1.0,1.0,1.0,1.0,1.0,1.0,1.0,1.0,1.0,1.0,1.0,1.0,1.0,1.0,1.0,1.0,1.0,1.0,1.0,1.0,1.0,1.0,1.0,1.0,1.0,1.0,1.0,1.0,1.0,1.0,1.0,1.0,1.0,1.0,1.0,1.0,1.0,1.0,1.0,1.0,1.0,1.0,1.0,1.0,1.0,1.0,1.0,1.0,0.9517766497461929,0.9517826889764529,1.0,1.0,1.0,1.0,1.0,1.0,1.0,1.0,1.0,1.0,1.0,1.0,1.0,0.951789778605421,1.0,1.0,1.0,1.0,1.0,1.0,1.0,1.0,1.0,1.0,1.0,1.0,1.0,1.0,1.0,1.0,1.0,1.0,1.0,1.0,1.0,0.8121277747698972,0.8121317720715266,1.0,1.0,1.0,1.0,1.0,1.0,1.0,1.0,1.0,1.0,1.0,1.0,1.0,1.0,1.0,1.0,1.0,1.0,1.0,1.0,1.0,1.0,1.0,1.0,1.0,1.0,1.0,0.8121277747698972,0.8121277747698972,1.0,1.0,1.0,1.0,1.0,1.0,1.0,1.0,1.0,1.0,1.0,1.0,0.9517852772414543,0.9517852772414543,1.0,1.0,1.0,1.0,1.0,1.0,1.0,1.0,1.0,0.9517766497461929,0.9517766497461929,1.0,1.0,1.0,1.0,1.0,1.0,1.0,1.0,1.0,1.0,1.0,1.0,1.0,1.0,1.0,1.0,0.951782041912402,1.0,1.0,1.0,1.0,1.0,1.0,1.0,1.0,1.0,1.0,1.0,1.0,1.0,1.0,1.0,1.0,1.0,1.0,1.0,1.0,1.0,1.0,1.0,1.0,1.0,1.0,1.0,1.0,1.0,1.0,1.0,1.0,1.0,1.0,1.0,1.0,1.0,1.0,1.0,1.0,0.8121271466260758,0.8121277747698972,0.9517766497461929,0.9517845961177207,1.0,1.0,0.951787062260002,1.0,1.0,1.0,1.0,1.0,1.0,1.0,1.0,1.0,1.0,1.0,1.0,1.0,1.0,1.0,1.0,1.0,1.0,0.951781295301129,0.9517852772414543,1.0,1.0,1.0,1.0,1.0,1.0,1.0,0.9517766497461929,0.9517766497461929,1.0,1.0,1.0,1.0,1.0,1.0,1.0,1.0,1.0,1.0,1.0,1.0,1.0,1.0,1.0,1.0,1.0,1.0,1.0,1.0,1.0,1.0,1.0,1.0,1.0,1.0,1.0,1.0,1.0,1.0,1.0,1.0,1.0,1.0,1.0,1.0,1.0,1.0,1.0,1.0,1.0,1.0,1.0,1.0,1.0,0.9517766497461929,0.9517826889764529,1.0,1.0,1.0,1.0,1.0,1.0,1.0,1.0,1.0,1.0,1.0,1.0,1.0,1.0,1.0,1.0,1.0,0.9517773391521649,0.9517795347192402,0.8121277747698972,0.8121277747698972,1.0,1.0,1.0,1.0,1.0,1.0,1.0,1.0,1.0,1.0,1.0,1.0,1.0,1.0,1.0,1.0,1.0,1.0,1.0,1.0,1.0,1.0,1.0,0.9517766497461929,0.9517766497461929,1.0,1.0,1.0,1.0,1.0,1.0,1.0,1.0,1.0,0.9517865501638321,0.951787062260002,1.0,1.0,1.0,1.0,1.0,1.0,1.0,1.0,1.0,1.0,1.0,1.0,1.0,1.0,1.0,1.0,0.8121277747698972,0.8121277747698972,1.0,1.0,1.301835873655403,1.0,1.0,1.0,1.0,1.0,1.0,1.0,1.0,1.0,1.0,1.0,1.0,1.0,1.0,1.0,1.0,1.0,1.0,0.9517793948413557,0.9517852772414543,1.0,1.0,1.0,1.0,1.0,1.0,0.951781295301129,0.9517917479655451,1.0,1.0,1.0,1.0,0.9517766497461929,1.0,1.0,1.0,1.0,1.0,1.0,1.0,1.0,1.0,1.0,1.0,1.0,1.0,1.0,1.0,1.0,1.0,1.0,1.0,1.0,1.0,1.0,1.0,1.0,1.0,1.0,1.0,1.0,0.9517882637185635,1.0,1.0,0.951781295301129,0.9517852772414543,1.0,1.0,1.0,1.0,1.0,1.0,0.8121309155035792,0.8121332710697825,1.0,1.0,0.9517766497461929,0.9517766497461929,1.0,1.0,1.0,0.9517826889764529,1.0,1.0,0.8121303612546936,0.8121277747698972,1.0,1.0,1.0,1.0,1.0,1.0,1.0,1.0,1.0,1.0,1.0,1.0,1.0,1.0,1.0,1.0,1.0,1.0,0.9517766497461929,0.9517852772414543,1.0,1.0,1.0,1.0,1.0,1.0,1.0,1.0,1.0,1.0,1.0,1.0,1.0,1.0,1.0,1.0,0.951781295301129,1.0,1.0,1.0,1.0,1.0,1.0,1.0,1.0,1.0,1.0,1.0,1.0,1.0,1.0,1.0,1.0,0.8121365688854237,0.8121403378503805,1.0,1.0,1.0,1.0,1.0,1.0,1.0,1.0,1.0,1.0,1.0,1.0,1.0,1.0,1.0,1.0,1.0,1.0,1.0,1.0,1.0,1.0,1.0,1.0,0.9517766497461929,0.9517766497461929,1.0,1.0,1.0,1.0,1.0,1.0,1.0,1.0,1.0,1.0,1.0,1.0,1.0,1.0,1.0,1.0,1.0,1.0,1.0,1.0,1.0,1.0,1.0,1.0,1.0,1.0,1.0,0.8121303612546936,0.8121345394572442,1.0,1.0,1.0,1.0,1.0,1.0,1.0,1.0,1.0,0.9551372054595643,1.0,0.9517766497461929,1.0,1.0,1.0,1.0,1.0,1.0,1.0,1.0,1.0,1.0,1.0,1.0,1.0,1.0,1.0,1.0,1.0,1.0,1.0,1.0,1.0,1.0,1.0,1.0,1.0,1.0,1.0,1.0,1.0,1.0,1.0,1.0,1.0,1.0,0.9517837547309251,1.0,1.0,1.0,1.0,1.0,1.0,1.0,1.0,1.0,1.0,0.9517766497461929,1.0,1.0,1.0,1.0,1.0,1.0,1.0,1.0,1.0,1.0,1.0,1.0,1.0,1.0,1.0,1.0,0.9517766497461929,0.9517766497461929,1.0,1.0,1.0,1.0,0.8121365688854237,0.8121332710697825,1.0,1.0,1.0,1.0,1.0,1.0,1.0,1.0,1.0,1.0,1.0,1.0,1.0,1.0,1.0,1.0,1.0,1.0,0.812137130218413,1.0,0.9517845961177207,1.0,1.0,1.0,1.0,1.0,1.0,1.0,1.0,1.0,1.0,1.0,1.0,1.0,0.8121277747698972,0.8121277747698972,1.0,1.0,1.0,1.0,1.0,1.0,1.0,1.0,1.0,1.0,1.0,1.0,1.0,1.0,1.0,1.0,1.0,1.0,1.0,1.0,1.0,1.0,1.0,1.0,1.0,1.0,1.0,1.0,1.0,1.0,1.0,1.0,1.0,1.0,1.0,1.0,1.0,1.0,1.0,1.0,1.0,1.0,1.0,1.0,1.0,1.0,1.0,1.0,1.0,1.0,0.9517766497461929,0.9517852772414543,1.0,1.0,1.0,1.0,1.0,1.0,1.0,1.0,1.0,1.0,1.0,1.0,1.0,1.0,1.0,1.0,1.0,1.0,1.0,1.0,1.0,1.0,1.0,1.0,1.0,1.0,1.0,1.0,1.0,1.0,1.0,1.3018361313769629,1.0,0.8121277747698972,1.0,1.0,1.0,1.0,1.3324450366422385,1.0,1.0,1.0,1.0,1.0,1.0,1.0,1.0,1.0,1.0,1.0,1.0,1.0,1.0,1.0,1.0,0.8121277747698972,0.8121277747698972,1.0,1.0,1.0,1.0,1.0,1.0,1.0,1.0,1.0,1.0,1.0,1.0,1.0,1.0,1.0,1.0,1.0,1.0,1.0,1.0,1.0,1.0,1.0,1.0,1.0,1.0,1.0,1.0,1.0,1.0,1.0,1.0,1.0,1.0,1.0,1.0,1.0,1.0,1.0,1.0,1.0,1.0,1.0,1.0,1.0,1.0,0.9517766497461929,0.9517766497461929,1.0,1.0,1.0,1.0,1.0,1.3018331049959395,1.0,1.0,0.9517852772414543,0.9517917479655451,1.0,1.0,1.0,1.0,1.0,1.0,1.0,1.3018352702101987,1.0,1.0,1.0,1.0,1.0,1.0,1.0,1.0,1.0,1.0,0.9517766497461929,0.9517852772414543,0.9517766497461929,1.0,1.0,1.0,1.0,0.9517766497461929,1.0,0.9517766497461929,0.9517804242561241,1.0,1.0,1.0,1.0,1.0,1.0,1.0,1.0,1.0,1.0,1.3324450366422385,1.0,1.0,1.0,1.0,1.0,1.0,1.0,1.0,1.0,1.0,1.0,1.0,1.0,1.0,1.0,1.0,1.0,1.0,1.0,1.0,1.0,1.0,1.0,1.0,1.0,1.0,1.0,1.0,1.0,1.0,1.0,1.0,1.0,1.0,1.0,1.0,1.0,1.0,1.0,1.0,1.0,1.0,1.0,1.0,1.0,1.0,1.0,1.0,1.0,1.0,1.0,1.0,1.0,1.0,1.0,1.0,1.0,1.0,1.0,1.0,1.0,1.0,1.0,1.0,1.0,1.0,1.0,1.0,1.0,1.0,1.0,1.0,1.0,1.0,1.0,1.0,1.0,1.0,0.8121345394572442,0.8121317720715266,1.0,1.0,0.9517766497461929,0.9517852772414543,1.0,0.812133072407045,1.0,1.0,0.9517766497461929,1.0,1.0,1.0,1.0,1.0,1.0,1.0,1.0,1.0,1.0,1.0,1.0,1.0,1.0,1.0,0.9517766497461929,1.0,1.0,1.0,0.8121345394572442,0.8121317720715266,1.0,1.0,1.0,1.0,1.0,1.0,1.0,1.0,1.0,1.0,1.0,1.0,1.0,1.0,1.0,1.0,1.0,1.0,1.0,1.0,1.0,1.0,1.0,1.0,1.0,1.0,1.0,1.0,1.0,1.0,1.0,1.0,1.0,1.0,1.0,1.0,0.9517876302218531,1.0,1.0,1.0,1.0,1.0,1.0,1.0,1.0,1.0,1.0,1.0,1.0,0.7270323859881032,1.0,1.0,1.0,1.0,1.0,1.0,1.0,0.9517852772414543,1.0,1.0,1.0,1.0,1.0,1.0,1.0,1.0,1.0,1.0,1.0,1.0,1.0,1.0,1.0,1.0,0.9517804242561241,0.9517852772414543,0.8121332710697825,0.8121309155035792,0.9517804242561241,0.9517852772414543,1.0,1.0,1.0,1.0,0.812132900850355,0.8121337814370135,1.0,1.0,0.8121325673208363,0.8121293145357317,1.0,1.0,1.0,1.0,1.0,0.9517766497461929,1.0,1.0,1.0,1.0,1.0,1.0,1.0,1.0,1.0,1.0,1.0,0.8121277747698972,0.8121277747698972,1.0,1.0,1.0,1.0,1.0,1.0,1.0,1.0,1.0,1.0,1.0,1.0,1.0,1.0,1.0,1.0,1.0,1.0,0.9517766497461929,1.0,1.0,1.0,1.0,1.0,1.0,1.0,1.0,1.0,1.0,1.0,0.9517882637185635,1.0,1.0,1.0,1.0,1.0,1.0,1.0,1.0,1.0,1.0,0.8121320026862828,1.0,1.0,1.0,1.0,1.0,1.0,1.0,1.0,1.0,1.0,1.0,1.0,1.0,1.0,1.0,0.9517793948413557,0.9517837547309251,1.0,1.0,1.0,1.0,1.0,1.0,1.0,1.0,1.0,1.0,1.0,1.0,1.0,1.0,1.0,1.0,1.0,1.0,1.0,1.0,0.8121332710697825,0.8121277747698972,1.0,1.0,1.0,1.0,1.0,1.0,0.8121277747698972,0.8121309155035792,0.8121365688854237,1.0,1.0,1.0,1.0,1.0,1.0,1.0,1.0,0.9517766497461929,1.0,1.0,1.0,1.0,1.0,1.0,1.0,0.9517804242561241,0.8121365688854237,1.0,1.0,1.0,1.0,1.0,1.0,1.0,1.0,1.0,1.0,1.0,1.0,1.0,1.0,1.0,1.0,1.0,1.0,1.0,1.0,1.0,1.0,1.0,1.0,1.0,1.0,0.9517804242561241,0.8121318841459713,1.0,1.0,1.0,1.0,1.0,1.0,1.0,0.9517758269687107,0.9517766497461929,1.0,1.0,1.0,1.0,1.0,1.0,1.0,1.0,1.0,1.0,1.0,1.0,1.0,1.0,1.0,1.0,1.0,1.0,0.9517766497461929,0.8121337167189798,0.8121365688854237,0.951787062260002,1.0,1.0,1.0,1.0,0.8121345394572442,1.0,1.0,1.0,1.0,1.0,1.0,1.0,1.0,1.0,1.0,0.8121317720715266,0.8121303612546936,1.0,1.0,1.0,1.0,1.0,1.0,1.0,1.0,1.0,1.0,1.0,1.0,1.0,1.0,1.0,1.0,1.0,1.0,1.0,1.0,0.8768468586961288,1.0,1.0,1.0,1.0,0.8121277747698972,0.8121317720715266,1.0,1.0,1.0,1.0,1.0,1.0,1.0,1.0,0.9517863125513965,1.0,0.8121324032280126,0.8121277747698972,1.0,1.0,1.0,1.0,1.0,0.8768368921003491,0.8121277747698972,0.8121277747698972,1.0,1.0,1.0,1.0,1.0,1.0,1.0,1.0,0.9517804242561241,1.0,1.0,1.0,1.0,1.0,1.0,0.9517826889764529,0.9517826889764529,1.3018347190640676,1.0,1.0,1.0,1.0,1.0,1.0,1.0,1.0,0.8121277747698972,1.0,1.0,0.8121332710697825,0.8121277747698972,0.9517917479655451,0.9517766497461929,0.9517804242561241,0.9517852772414543,0.8121332710697825,0.8121309155035792,0.9517804242561241,0.9517852772414543,1.0,1.0,0.9517917479655451,0.9517766497461929,0.8121277747698972,0.8121277747698972,1.0,1.0,0.9517766497461929,0.9517766497461929,1.0,1.0,0.8121317720715266,0.8121403378503805,0.9517766497461929,0.9517766497461929,0.8121277747698972,0.8121277747698972,0.8459971800093999,1.0,1.0,1.0,1.0,1.0,1.0,1.0,1.0,1.0,1.0,1.0,1.0,1.0,1.0,1.0,0.8121365688854237,0.8121277747698972,0.8121277747698972,0.8121332710697825,1.0,1.0,1.0,1.0,1.0,1.0,1.0,1.0,1.0,1.0,1.0,1.0,1.0,1.0,1.0,1.0,1.0,1.0,1.0,1.0,1.0,1.0,1.0,1.0,0.8121277747698972,0.8121332710697825,1.0,1.0,0.8121332710697825,0.8121403378503805,1.0,1.0,1.0,1.0,1.0,1.0,1.0,1.0,0.8121277747698972,0.8121365688854237,1.0,1.0,1.0,1.0,1.0,1.0,1.0,1.0,1.0,1.0,1.0,1.0,1.0,1.0,1.0,1.0,1.0,1.0,1.0,1.0,1.0,1.0,1.0,1.0,1.0,1.0,1.0,1.0,1.0,1.0,1.0,1.0,1.0,1.0,1.0,1.0,1.0,1.0,1.0,1.0,1.0,1.0,1.0,1.0,1.0,1.0,1.0,1.0,1.0,1.0,1.0,1.0,1.0,1.0,1.0,1.0,1.0,1.0,1.0,1.0,1.0,1.0,1.0,1.0,1.0,1.0,1.0,1.0,1.0,1.0,0.8121365688854237,0.8121403378503805,1.0,1.0,1.0,1.0,1.0,1.0,1.0,1.0,1.0,1.0,1.0,1.0,1.0,1.0,1.0,1.0,1.0,1.0,1.0,1.0,1.0,1.0,1.0,1.0,1.0,1.0,1.0,1.0,1.0,1.0,1.0,1.0,1.0,1.0,1.0,1.0,1.0,1.0,1.0,1.0,1.0,1.0,1.0,1.0,1.0,1.0,0.8121309155035792,0.8121309155035792,1.0,1.0,1.0,1.0,1.0,1.0,1.0,1.0,1.0,1.0,1.0,1.0,1.0,1.0,1.301846017653032,1.3406886186637519,1.301832459369809,1.0,0.9517823471311844,0.9517826889764529,1.0,1.0,1.301838485238598,1.0,0.951781295301129,1.0,1.30183292157936,1.0,1.0,0.8459825552562744,1.0,1.3018539182866429,1.0,1.0,1.0,1.0,0.9517766497461929,0.9517766497461929,0.8768404515728325,0.9517837547309251,1.0,1.0,1.0,1.301846017653032,1.0,1.0,0.951787062260002,1.0,0.9517800811176206,0.9517817677329848,1.0,1.0,1.0,1.0,1.0,1.0,1.0,1.0,1.0,0.9551336356538928,1.0,0.9517815200871955,1.0,1.0,1.0,1.0,1.0,1.0,1.0,1.0,1.0,0.9517746094830192,1.0,1.0,1.0,1.0,0.8459896064134069,1.0,0.9517804242561241,1.0,1.0,1.0,0.8460498358122465,0.7270281814298827,0.9517917479655451,1.0,1.0,1.0,1.0,1.0,1.0,0.8459827902929518,0.8768359104935669,0.8459831761081581,0.7270259790616518,1.0,1.0,1.0,1.0,1.0,1.0,0.8459846492240014,0.8459839263054002,0.8768340445431695,1.0,1.0,1.0,1.0,1.0,0.8768365448362883,0.8768379873195737,1.2537238349014708,1.0,1.0,1.2537281917280334,1.0,1.0,1.0,1.0,1.0,1.0,1.0,1.0,1.0,1.253733544747225,0.845987902372996,0.8459851497068336,1.0,0.7270259790616518,1.0,0.8459950593888532,1.0,1.0,1.0,1.0,0.8459916410975163,1.0,1.0,1.0,1.0,0.8459918784779666,1.0,1.0,0.8768303834254005,1.0,0.8459906550570718,0.8768433638899961,0.8459855167279536,0.7270259790616518,0.7270259790616518,0.845987902372996,1.0,1.0,1.2537211510760662,0.7270327452007997,1.0,0.779644198738394,1.0,0.8768633345859952,0.8459883441605915,1.0,0.7796460406975233,1.343875288373239,1.0,1.0,1.0,1.0,1.0,1.0,1.0,0.8459930542982702,1.0,0.8768302941302272,1.0,0.7270310130657859,0.8460006003875229,0.7270259790616518,1.0,1.2537235589701414,1.0,1.0,1.2537250098851396,1.0,1.0,1.2537219871493497,1.0,1.0,1.0,1.0,0.7796448488406222,1.0,1.0,1.0,0.8768303834254005,1.0,1.0,0.8459872958517946,1.0,1.0,1.0,1.0,1.0,1.0,0.8459914525513619,1.0,0.8459906550570718,1.0,1.0,0.8459846492240014,1.0,1.0,1.0,0.8459971800093999,0.8459839263054002,1.0,0.845987902372996,1.253726353327947,1.0,0.8459896064134069,1.0,1.0,1.2537325856023638,1.0,1.0,1.0,1.0,0.8768340445431695,0.8459872958517946,1.0,0.8768413668704279,1.0,0.8459911555470102,0.8459893755372848,1.0,1.0,0.8459823970585842,1.0,0.8460013218770654,1.0,1.0,1.0,0.7270335608646189,0.7270301247070496,1.0,0.876831481757521,0.8459855167279536,1.0,0.8459855167279536,0.8768450280799182,1.0,0.7270303838114568,0.8459938665444675,0.8459896064134069,1.0,1.0,1.0,1.0,1.0,1.0,0.8460026375376347,1.0,0.8768395857525416,1.0,0.8768293849440424,0.8459893755372848,0.8768286492223915,1.0,1.0,1.0,1.2537327041874673,0.7270259790616518,1.0,0.8459906550570718,1.0,1.0,1.0,1.0,1.0,0.8459950593888532,0.8459847377447313,0.8768320731682641,0.8768310295027852,0.8459911555470102,0.876837248046297,0.8768293849440424,1.0,1.0,1.0,1.0,1.0,1.0,0.8459826837919411,1.0,1.0,1.0,1.0,0.8768468586961288,1.0,1.3438715258821257,1.0,0.8459938665444675,1.0,1.0,1.0,1.0,1.0],\"y0\":\" \",\"yaxis\":\"y\",\"type\":\"box\"}],                        {\"template\":{\"data\":{\"histogram2dcontour\":[{\"type\":\"histogram2dcontour\",\"colorbar\":{\"outlinewidth\":0,\"ticks\":\"\"},\"colorscale\":[[0.0,\"#0d0887\"],[0.1111111111111111,\"#46039f\"],[0.2222222222222222,\"#7201a8\"],[0.3333333333333333,\"#9c179e\"],[0.4444444444444444,\"#bd3786\"],[0.5555555555555556,\"#d8576b\"],[0.6666666666666666,\"#ed7953\"],[0.7777777777777778,\"#fb9f3a\"],[0.8888888888888888,\"#fdca26\"],[1.0,\"#f0f921\"]]}],\"choropleth\":[{\"type\":\"choropleth\",\"colorbar\":{\"outlinewidth\":0,\"ticks\":\"\"}}],\"histogram2d\":[{\"type\":\"histogram2d\",\"colorbar\":{\"outlinewidth\":0,\"ticks\":\"\"},\"colorscale\":[[0.0,\"#0d0887\"],[0.1111111111111111,\"#46039f\"],[0.2222222222222222,\"#7201a8\"],[0.3333333333333333,\"#9c179e\"],[0.4444444444444444,\"#bd3786\"],[0.5555555555555556,\"#d8576b\"],[0.6666666666666666,\"#ed7953\"],[0.7777777777777778,\"#fb9f3a\"],[0.8888888888888888,\"#fdca26\"],[1.0,\"#f0f921\"]]}],\"heatmap\":[{\"type\":\"heatmap\",\"colorbar\":{\"outlinewidth\":0,\"ticks\":\"\"},\"colorscale\":[[0.0,\"#0d0887\"],[0.1111111111111111,\"#46039f\"],[0.2222222222222222,\"#7201a8\"],[0.3333333333333333,\"#9c179e\"],[0.4444444444444444,\"#bd3786\"],[0.5555555555555556,\"#d8576b\"],[0.6666666666666666,\"#ed7953\"],[0.7777777777777778,\"#fb9f3a\"],[0.8888888888888888,\"#fdca26\"],[1.0,\"#f0f921\"]]}],\"heatmapgl\":[{\"type\":\"heatmapgl\",\"colorbar\":{\"outlinewidth\":0,\"ticks\":\"\"},\"colorscale\":[[0.0,\"#0d0887\"],[0.1111111111111111,\"#46039f\"],[0.2222222222222222,\"#7201a8\"],[0.3333333333333333,\"#9c179e\"],[0.4444444444444444,\"#bd3786\"],[0.5555555555555556,\"#d8576b\"],[0.6666666666666666,\"#ed7953\"],[0.7777777777777778,\"#fb9f3a\"],[0.8888888888888888,\"#fdca26\"],[1.0,\"#f0f921\"]]}],\"contourcarpet\":[{\"type\":\"contourcarpet\",\"colorbar\":{\"outlinewidth\":0,\"ticks\":\"\"}}],\"contour\":[{\"type\":\"contour\",\"colorbar\":{\"outlinewidth\":0,\"ticks\":\"\"},\"colorscale\":[[0.0,\"#0d0887\"],[0.1111111111111111,\"#46039f\"],[0.2222222222222222,\"#7201a8\"],[0.3333333333333333,\"#9c179e\"],[0.4444444444444444,\"#bd3786\"],[0.5555555555555556,\"#d8576b\"],[0.6666666666666666,\"#ed7953\"],[0.7777777777777778,\"#fb9f3a\"],[0.8888888888888888,\"#fdca26\"],[1.0,\"#f0f921\"]]}],\"surface\":[{\"type\":\"surface\",\"colorbar\":{\"outlinewidth\":0,\"ticks\":\"\"},\"colorscale\":[[0.0,\"#0d0887\"],[0.1111111111111111,\"#46039f\"],[0.2222222222222222,\"#7201a8\"],[0.3333333333333333,\"#9c179e\"],[0.4444444444444444,\"#bd3786\"],[0.5555555555555556,\"#d8576b\"],[0.6666666666666666,\"#ed7953\"],[0.7777777777777778,\"#fb9f3a\"],[0.8888888888888888,\"#fdca26\"],[1.0,\"#f0f921\"]]}],\"mesh3d\":[{\"type\":\"mesh3d\",\"colorbar\":{\"outlinewidth\":0,\"ticks\":\"\"}}],\"scatter\":[{\"fillpattern\":{\"fillmode\":\"overlay\",\"size\":10,\"solidity\":0.2},\"type\":\"scatter\"}],\"parcoords\":[{\"type\":\"parcoords\",\"line\":{\"colorbar\":{\"outlinewidth\":0,\"ticks\":\"\"}}}],\"scatterpolargl\":[{\"type\":\"scatterpolargl\",\"marker\":{\"colorbar\":{\"outlinewidth\":0,\"ticks\":\"\"}}}],\"bar\":[{\"error_x\":{\"color\":\"#2a3f5f\"},\"error_y\":{\"color\":\"#2a3f5f\"},\"marker\":{\"line\":{\"color\":\"#E5ECF6\",\"width\":0.5},\"pattern\":{\"fillmode\":\"overlay\",\"size\":10,\"solidity\":0.2}},\"type\":\"bar\"}],\"scattergeo\":[{\"type\":\"scattergeo\",\"marker\":{\"colorbar\":{\"outlinewidth\":0,\"ticks\":\"\"}}}],\"scatterpolar\":[{\"type\":\"scatterpolar\",\"marker\":{\"colorbar\":{\"outlinewidth\":0,\"ticks\":\"\"}}}],\"histogram\":[{\"marker\":{\"pattern\":{\"fillmode\":\"overlay\",\"size\":10,\"solidity\":0.2}},\"type\":\"histogram\"}],\"scattergl\":[{\"type\":\"scattergl\",\"marker\":{\"colorbar\":{\"outlinewidth\":0,\"ticks\":\"\"}}}],\"scatter3d\":[{\"type\":\"scatter3d\",\"line\":{\"colorbar\":{\"outlinewidth\":0,\"ticks\":\"\"}},\"marker\":{\"colorbar\":{\"outlinewidth\":0,\"ticks\":\"\"}}}],\"scattermapbox\":[{\"type\":\"scattermapbox\",\"marker\":{\"colorbar\":{\"outlinewidth\":0,\"ticks\":\"\"}}}],\"scatterternary\":[{\"type\":\"scatterternary\",\"marker\":{\"colorbar\":{\"outlinewidth\":0,\"ticks\":\"\"}}}],\"scattercarpet\":[{\"type\":\"scattercarpet\",\"marker\":{\"colorbar\":{\"outlinewidth\":0,\"ticks\":\"\"}}}],\"carpet\":[{\"aaxis\":{\"endlinecolor\":\"#2a3f5f\",\"gridcolor\":\"white\",\"linecolor\":\"white\",\"minorgridcolor\":\"white\",\"startlinecolor\":\"#2a3f5f\"},\"baxis\":{\"endlinecolor\":\"#2a3f5f\",\"gridcolor\":\"white\",\"linecolor\":\"white\",\"minorgridcolor\":\"white\",\"startlinecolor\":\"#2a3f5f\"},\"type\":\"carpet\"}],\"table\":[{\"cells\":{\"fill\":{\"color\":\"#EBF0F8\"},\"line\":{\"color\":\"white\"}},\"header\":{\"fill\":{\"color\":\"#C8D4E3\"},\"line\":{\"color\":\"white\"}},\"type\":\"table\"}],\"barpolar\":[{\"marker\":{\"line\":{\"color\":\"#E5ECF6\",\"width\":0.5},\"pattern\":{\"fillmode\":\"overlay\",\"size\":10,\"solidity\":0.2}},\"type\":\"barpolar\"}],\"pie\":[{\"automargin\":true,\"type\":\"pie\"}]},\"layout\":{\"autotypenumbers\":\"strict\",\"colorway\":[\"#636efa\",\"#EF553B\",\"#00cc96\",\"#ab63fa\",\"#FFA15A\",\"#19d3f3\",\"#FF6692\",\"#B6E880\",\"#FF97FF\",\"#FECB52\"],\"font\":{\"color\":\"#2a3f5f\"},\"hovermode\":\"closest\",\"hoverlabel\":{\"align\":\"left\"},\"paper_bgcolor\":\"white\",\"plot_bgcolor\":\"#E5ECF6\",\"polar\":{\"bgcolor\":\"#E5ECF6\",\"angularaxis\":{\"gridcolor\":\"white\",\"linecolor\":\"white\",\"ticks\":\"\"},\"radialaxis\":{\"gridcolor\":\"white\",\"linecolor\":\"white\",\"ticks\":\"\"}},\"ternary\":{\"bgcolor\":\"#E5ECF6\",\"aaxis\":{\"gridcolor\":\"white\",\"linecolor\":\"white\",\"ticks\":\"\"},\"baxis\":{\"gridcolor\":\"white\",\"linecolor\":\"white\",\"ticks\":\"\"},\"caxis\":{\"gridcolor\":\"white\",\"linecolor\":\"white\",\"ticks\":\"\"}},\"coloraxis\":{\"colorbar\":{\"outlinewidth\":0,\"ticks\":\"\"}},\"colorscale\":{\"sequential\":[[0.0,\"#0d0887\"],[0.1111111111111111,\"#46039f\"],[0.2222222222222222,\"#7201a8\"],[0.3333333333333333,\"#9c179e\"],[0.4444444444444444,\"#bd3786\"],[0.5555555555555556,\"#d8576b\"],[0.6666666666666666,\"#ed7953\"],[0.7777777777777778,\"#fb9f3a\"],[0.8888888888888888,\"#fdca26\"],[1.0,\"#f0f921\"]],\"sequentialminus\":[[0.0,\"#0d0887\"],[0.1111111111111111,\"#46039f\"],[0.2222222222222222,\"#7201a8\"],[0.3333333333333333,\"#9c179e\"],[0.4444444444444444,\"#bd3786\"],[0.5555555555555556,\"#d8576b\"],[0.6666666666666666,\"#ed7953\"],[0.7777777777777778,\"#fb9f3a\"],[0.8888888888888888,\"#fdca26\"],[1.0,\"#f0f921\"]],\"diverging\":[[0,\"#8e0152\"],[0.1,\"#c51b7d\"],[0.2,\"#de77ae\"],[0.3,\"#f1b6da\"],[0.4,\"#fde0ef\"],[0.5,\"#f7f7f7\"],[0.6,\"#e6f5d0\"],[0.7,\"#b8e186\"],[0.8,\"#7fbc41\"],[0.9,\"#4d9221\"],[1,\"#276419\"]]},\"xaxis\":{\"gridcolor\":\"white\",\"linecolor\":\"white\",\"ticks\":\"\",\"title\":{\"standoff\":15},\"zerolinecolor\":\"white\",\"automargin\":true,\"zerolinewidth\":2},\"yaxis\":{\"gridcolor\":\"white\",\"linecolor\":\"white\",\"ticks\":\"\",\"title\":{\"standoff\":15},\"zerolinecolor\":\"white\",\"automargin\":true,\"zerolinewidth\":2},\"scene\":{\"xaxis\":{\"backgroundcolor\":\"#E5ECF6\",\"gridcolor\":\"white\",\"linecolor\":\"white\",\"showbackground\":true,\"ticks\":\"\",\"zerolinecolor\":\"white\",\"gridwidth\":2},\"yaxis\":{\"backgroundcolor\":\"#E5ECF6\",\"gridcolor\":\"white\",\"linecolor\":\"white\",\"showbackground\":true,\"ticks\":\"\",\"zerolinecolor\":\"white\",\"gridwidth\":2},\"zaxis\":{\"backgroundcolor\":\"#E5ECF6\",\"gridcolor\":\"white\",\"linecolor\":\"white\",\"showbackground\":true,\"ticks\":\"\",\"zerolinecolor\":\"white\",\"gridwidth\":2}},\"shapedefaults\":{\"line\":{\"color\":\"#2a3f5f\"}},\"annotationdefaults\":{\"arrowcolor\":\"#2a3f5f\",\"arrowhead\":0,\"arrowwidth\":1},\"geo\":{\"bgcolor\":\"white\",\"landcolor\":\"#E5ECF6\",\"subunitcolor\":\"white\",\"showland\":true,\"showlakes\":true,\"lakecolor\":\"white\"},\"title\":{\"x\":0.05},\"mapbox\":{\"style\":\"light\"}}},\"xaxis\":{\"anchor\":\"y\",\"domain\":[0.0,1.0],\"title\":{\"text\":\"salary_currency\"}},\"yaxis\":{\"anchor\":\"x\",\"domain\":[0.0,1.0],\"title\":{\"text\":\"conversion_rates\"}},\"legend\":{\"tracegroupgap\":0},\"margin\":{\"t\":60},\"boxmode\":\"group\"},                        {\"responsive\": true}                    ).then(function(){\n",
              "                            \n",
              "var gd = document.getElementById('81b7f75e-9572-4736-b0d8-32190b6f9675');\n",
              "var x = new MutationObserver(function (mutations, observer) {{\n",
              "        var display = window.getComputedStyle(gd).display;\n",
              "        if (!display || display === 'none') {{\n",
              "            console.log([gd, 'removed!']);\n",
              "            Plotly.purge(gd);\n",
              "            observer.disconnect();\n",
              "        }}\n",
              "}});\n",
              "\n",
              "// Listen for the removal of the full notebook cells\n",
              "var notebookContainer = gd.closest('#notebook-container');\n",
              "if (notebookContainer) {{\n",
              "    x.observe(notebookContainer, {childList: true});\n",
              "}}\n",
              "\n",
              "// Listen for the clearing of the current output cell\n",
              "var outputEl = gd.closest('.output');\n",
              "if (outputEl) {{\n",
              "    x.observe(outputEl, {childList: true});\n",
              "}}\n",
              "\n",
              "                        })                };                            </script>        </div>\n",
              "</body>\n",
              "</html>"
            ]
          },
          "metadata": {}
        }
      ]
    },
    {
      "cell_type": "markdown",
      "source": [
        "CLP stands for Chilean Peso, which remains the weakest currency with minimal fluctuations. On the other hand, HUF represents the Hungarian Forint, which exhibits significant variations in its strength.\n"
      ],
      "metadata": {
        "id": "4nyJtJzdPZxK"
      }
    },
    {
      "cell_type": "markdown",
      "source": [
        "12. What is the count of individuals working in the field of data science in each country?"
      ],
      "metadata": {
        "id": "-mwEjoAEeoEk"
      }
    },
    {
      "cell_type": "code",
      "source": [
        "xdf = df['employee_residence'].value_counts().sort_values(ascending=False)\n",
        "xdf.head(10)"
      ],
      "metadata": {
        "colab": {
          "base_uri": "https://localhost:8080/"
        },
        "id": "8ohJUfuYfP_Q",
        "outputId": "6b52b00a-4965-4fec-c15b-0c12a13ac7a1"
      },
      "execution_count": null,
      "outputs": [
        {
          "output_type": "execute_result",
          "data": {
            "text/plain": [
              "USA    3004\n",
              "GBR     167\n",
              "CAN      85\n",
              "ESP      80\n",
              "IND      71\n",
              "DEU      48\n",
              "FRA      38\n",
              "PRT      18\n",
              "BRA      18\n",
              "GRC      16\n",
              "Name: employee_residence, dtype: int64"
            ]
          },
          "metadata": {},
          "execution_count": 232
        }
      ]
    },
    {
      "cell_type": "code",
      "source": [
        "fig = px.choropleth(locations = xdf.index, color = xdf, title = 'No. of People working in the Field of Data Science')\n",
        "fig.show()"
      ],
      "metadata": {
        "colab": {
          "base_uri": "https://localhost:8080/",
          "height": 542
        },
        "id": "yafoLZV_fWwF",
        "outputId": "62c633fa-33a4-4e6e-ecb5-771c8a6b920b"
      },
      "execution_count": null,
      "outputs": [
        {
          "output_type": "display_data",
          "data": {
            "text/html": [
              "<html>\n",
              "<head><meta charset=\"utf-8\" /></head>\n",
              "<body>\n",
              "    <div>            <script src=\"https://cdnjs.cloudflare.com/ajax/libs/mathjax/2.7.5/MathJax.js?config=TeX-AMS-MML_SVG\"></script><script type=\"text/javascript\">if (window.MathJax && window.MathJax.Hub && window.MathJax.Hub.Config) {window.MathJax.Hub.Config({SVG: {font: \"STIX-Web\"}});}</script>                <script type=\"text/javascript\">window.PlotlyConfig = {MathJaxConfig: 'local'};</script>\n",
              "        <script src=\"https://cdn.plot.ly/plotly-2.18.2.min.js\"></script>                <div id=\"55b22805-e36a-4e5f-ac89-8a4e3591dcb9\" class=\"plotly-graph-div\" style=\"height:525px; width:100%;\"></div>            <script type=\"text/javascript\">                                    window.PLOTLYENV=window.PLOTLYENV || {};                                    if (document.getElementById(\"55b22805-e36a-4e5f-ac89-8a4e3591dcb9\")) {                    Plotly.newPlot(                        \"55b22805-e36a-4e5f-ac89-8a4e3591dcb9\",                        [{\"coloraxis\":\"coloraxis\",\"geo\":\"geo\",\"hovertemplate\":\"locations=%{location}<br>color=%{z}<extra></extra>\",\"locations\":[\"USA\",\"GBR\",\"CAN\",\"ESP\",\"IND\",\"DEU\",\"FRA\",\"PRT\",\"BRA\",\"GRC\",\"NLD\",\"AUS\",\"MEX\",\"ITA\",\"PAK\",\"JPN\",\"IRL\",\"NGA\",\"AUT\",\"ARG\",\"POL\",\"BEL\",\"SGP\",\"TUR\",\"PRI\",\"LVA\",\"UKR\",\"COL\",\"CHE\",\"SVN\",\"RUS\",\"HUN\",\"THA\",\"VNM\",\"ARE\",\"DNK\",\"ROU\",\"HRV\",\"BOL\",\"LTU\",\"ASM\",\"CZE\",\"GHA\",\"KEN\",\"SWE\",\"HKG\",\"FIN\",\"CAF\",\"PHL\",\"UZB\",\"CHL\",\"MAR\",\"DOM\",\"CHN\",\"SVK\",\"IRN\",\"MKD\",\"ISR\",\"IDN\",\"BIH\",\"ARM\",\"CYP\",\"KWT\",\"EGY\",\"TUN\",\"CRI\",\"EST\",\"HND\",\"SRB\",\"LUX\",\"BGR\",\"IRQ\",\"MDA\",\"MYS\",\"JEY\",\"NZL\",\"DZA\",\"MLT\"],\"name\":\"\",\"z\":[3004,167,85,80,71,48,38,18,18,16,15,11,10,8,8,7,7,7,6,6,6,5,5,5,5,4,4,4,4,4,4,3,3,3,3,3,3,3,3,2,2,2,2,2,2,2,2,2,2,2,2,1,1,1,1,1,1,1,1,1,1,1,1,1,1,1,1,1,1,1,1,1,1,1,1,1,1,1],\"type\":\"choropleth\"}],                        {\"template\":{\"data\":{\"histogram2dcontour\":[{\"type\":\"histogram2dcontour\",\"colorbar\":{\"outlinewidth\":0,\"ticks\":\"\"},\"colorscale\":[[0.0,\"#0d0887\"],[0.1111111111111111,\"#46039f\"],[0.2222222222222222,\"#7201a8\"],[0.3333333333333333,\"#9c179e\"],[0.4444444444444444,\"#bd3786\"],[0.5555555555555556,\"#d8576b\"],[0.6666666666666666,\"#ed7953\"],[0.7777777777777778,\"#fb9f3a\"],[0.8888888888888888,\"#fdca26\"],[1.0,\"#f0f921\"]]}],\"choropleth\":[{\"type\":\"choropleth\",\"colorbar\":{\"outlinewidth\":0,\"ticks\":\"\"}}],\"histogram2d\":[{\"type\":\"histogram2d\",\"colorbar\":{\"outlinewidth\":0,\"ticks\":\"\"},\"colorscale\":[[0.0,\"#0d0887\"],[0.1111111111111111,\"#46039f\"],[0.2222222222222222,\"#7201a8\"],[0.3333333333333333,\"#9c179e\"],[0.4444444444444444,\"#bd3786\"],[0.5555555555555556,\"#d8576b\"],[0.6666666666666666,\"#ed7953\"],[0.7777777777777778,\"#fb9f3a\"],[0.8888888888888888,\"#fdca26\"],[1.0,\"#f0f921\"]]}],\"heatmap\":[{\"type\":\"heatmap\",\"colorbar\":{\"outlinewidth\":0,\"ticks\":\"\"},\"colorscale\":[[0.0,\"#0d0887\"],[0.1111111111111111,\"#46039f\"],[0.2222222222222222,\"#7201a8\"],[0.3333333333333333,\"#9c179e\"],[0.4444444444444444,\"#bd3786\"],[0.5555555555555556,\"#d8576b\"],[0.6666666666666666,\"#ed7953\"],[0.7777777777777778,\"#fb9f3a\"],[0.8888888888888888,\"#fdca26\"],[1.0,\"#f0f921\"]]}],\"heatmapgl\":[{\"type\":\"heatmapgl\",\"colorbar\":{\"outlinewidth\":0,\"ticks\":\"\"},\"colorscale\":[[0.0,\"#0d0887\"],[0.1111111111111111,\"#46039f\"],[0.2222222222222222,\"#7201a8\"],[0.3333333333333333,\"#9c179e\"],[0.4444444444444444,\"#bd3786\"],[0.5555555555555556,\"#d8576b\"],[0.6666666666666666,\"#ed7953\"],[0.7777777777777778,\"#fb9f3a\"],[0.8888888888888888,\"#fdca26\"],[1.0,\"#f0f921\"]]}],\"contourcarpet\":[{\"type\":\"contourcarpet\",\"colorbar\":{\"outlinewidth\":0,\"ticks\":\"\"}}],\"contour\":[{\"type\":\"contour\",\"colorbar\":{\"outlinewidth\":0,\"ticks\":\"\"},\"colorscale\":[[0.0,\"#0d0887\"],[0.1111111111111111,\"#46039f\"],[0.2222222222222222,\"#7201a8\"],[0.3333333333333333,\"#9c179e\"],[0.4444444444444444,\"#bd3786\"],[0.5555555555555556,\"#d8576b\"],[0.6666666666666666,\"#ed7953\"],[0.7777777777777778,\"#fb9f3a\"],[0.8888888888888888,\"#fdca26\"],[1.0,\"#f0f921\"]]}],\"surface\":[{\"type\":\"surface\",\"colorbar\":{\"outlinewidth\":0,\"ticks\":\"\"},\"colorscale\":[[0.0,\"#0d0887\"],[0.1111111111111111,\"#46039f\"],[0.2222222222222222,\"#7201a8\"],[0.3333333333333333,\"#9c179e\"],[0.4444444444444444,\"#bd3786\"],[0.5555555555555556,\"#d8576b\"],[0.6666666666666666,\"#ed7953\"],[0.7777777777777778,\"#fb9f3a\"],[0.8888888888888888,\"#fdca26\"],[1.0,\"#f0f921\"]]}],\"mesh3d\":[{\"type\":\"mesh3d\",\"colorbar\":{\"outlinewidth\":0,\"ticks\":\"\"}}],\"scatter\":[{\"fillpattern\":{\"fillmode\":\"overlay\",\"size\":10,\"solidity\":0.2},\"type\":\"scatter\"}],\"parcoords\":[{\"type\":\"parcoords\",\"line\":{\"colorbar\":{\"outlinewidth\":0,\"ticks\":\"\"}}}],\"scatterpolargl\":[{\"type\":\"scatterpolargl\",\"marker\":{\"colorbar\":{\"outlinewidth\":0,\"ticks\":\"\"}}}],\"bar\":[{\"error_x\":{\"color\":\"#2a3f5f\"},\"error_y\":{\"color\":\"#2a3f5f\"},\"marker\":{\"line\":{\"color\":\"#E5ECF6\",\"width\":0.5},\"pattern\":{\"fillmode\":\"overlay\",\"size\":10,\"solidity\":0.2}},\"type\":\"bar\"}],\"scattergeo\":[{\"type\":\"scattergeo\",\"marker\":{\"colorbar\":{\"outlinewidth\":0,\"ticks\":\"\"}}}],\"scatterpolar\":[{\"type\":\"scatterpolar\",\"marker\":{\"colorbar\":{\"outlinewidth\":0,\"ticks\":\"\"}}}],\"histogram\":[{\"marker\":{\"pattern\":{\"fillmode\":\"overlay\",\"size\":10,\"solidity\":0.2}},\"type\":\"histogram\"}],\"scattergl\":[{\"type\":\"scattergl\",\"marker\":{\"colorbar\":{\"outlinewidth\":0,\"ticks\":\"\"}}}],\"scatter3d\":[{\"type\":\"scatter3d\",\"line\":{\"colorbar\":{\"outlinewidth\":0,\"ticks\":\"\"}},\"marker\":{\"colorbar\":{\"outlinewidth\":0,\"ticks\":\"\"}}}],\"scattermapbox\":[{\"type\":\"scattermapbox\",\"marker\":{\"colorbar\":{\"outlinewidth\":0,\"ticks\":\"\"}}}],\"scatterternary\":[{\"type\":\"scatterternary\",\"marker\":{\"colorbar\":{\"outlinewidth\":0,\"ticks\":\"\"}}}],\"scattercarpet\":[{\"type\":\"scattercarpet\",\"marker\":{\"colorbar\":{\"outlinewidth\":0,\"ticks\":\"\"}}}],\"carpet\":[{\"aaxis\":{\"endlinecolor\":\"#2a3f5f\",\"gridcolor\":\"white\",\"linecolor\":\"white\",\"minorgridcolor\":\"white\",\"startlinecolor\":\"#2a3f5f\"},\"baxis\":{\"endlinecolor\":\"#2a3f5f\",\"gridcolor\":\"white\",\"linecolor\":\"white\",\"minorgridcolor\":\"white\",\"startlinecolor\":\"#2a3f5f\"},\"type\":\"carpet\"}],\"table\":[{\"cells\":{\"fill\":{\"color\":\"#EBF0F8\"},\"line\":{\"color\":\"white\"}},\"header\":{\"fill\":{\"color\":\"#C8D4E3\"},\"line\":{\"color\":\"white\"}},\"type\":\"table\"}],\"barpolar\":[{\"marker\":{\"line\":{\"color\":\"#E5ECF6\",\"width\":0.5},\"pattern\":{\"fillmode\":\"overlay\",\"size\":10,\"solidity\":0.2}},\"type\":\"barpolar\"}],\"pie\":[{\"automargin\":true,\"type\":\"pie\"}]},\"layout\":{\"autotypenumbers\":\"strict\",\"colorway\":[\"#636efa\",\"#EF553B\",\"#00cc96\",\"#ab63fa\",\"#FFA15A\",\"#19d3f3\",\"#FF6692\",\"#B6E880\",\"#FF97FF\",\"#FECB52\"],\"font\":{\"color\":\"#2a3f5f\"},\"hovermode\":\"closest\",\"hoverlabel\":{\"align\":\"left\"},\"paper_bgcolor\":\"white\",\"plot_bgcolor\":\"#E5ECF6\",\"polar\":{\"bgcolor\":\"#E5ECF6\",\"angularaxis\":{\"gridcolor\":\"white\",\"linecolor\":\"white\",\"ticks\":\"\"},\"radialaxis\":{\"gridcolor\":\"white\",\"linecolor\":\"white\",\"ticks\":\"\"}},\"ternary\":{\"bgcolor\":\"#E5ECF6\",\"aaxis\":{\"gridcolor\":\"white\",\"linecolor\":\"white\",\"ticks\":\"\"},\"baxis\":{\"gridcolor\":\"white\",\"linecolor\":\"white\",\"ticks\":\"\"},\"caxis\":{\"gridcolor\":\"white\",\"linecolor\":\"white\",\"ticks\":\"\"}},\"coloraxis\":{\"colorbar\":{\"outlinewidth\":0,\"ticks\":\"\"}},\"colorscale\":{\"sequential\":[[0.0,\"#0d0887\"],[0.1111111111111111,\"#46039f\"],[0.2222222222222222,\"#7201a8\"],[0.3333333333333333,\"#9c179e\"],[0.4444444444444444,\"#bd3786\"],[0.5555555555555556,\"#d8576b\"],[0.6666666666666666,\"#ed7953\"],[0.7777777777777778,\"#fb9f3a\"],[0.8888888888888888,\"#fdca26\"],[1.0,\"#f0f921\"]],\"sequentialminus\":[[0.0,\"#0d0887\"],[0.1111111111111111,\"#46039f\"],[0.2222222222222222,\"#7201a8\"],[0.3333333333333333,\"#9c179e\"],[0.4444444444444444,\"#bd3786\"],[0.5555555555555556,\"#d8576b\"],[0.6666666666666666,\"#ed7953\"],[0.7777777777777778,\"#fb9f3a\"],[0.8888888888888888,\"#fdca26\"],[1.0,\"#f0f921\"]],\"diverging\":[[0,\"#8e0152\"],[0.1,\"#c51b7d\"],[0.2,\"#de77ae\"],[0.3,\"#f1b6da\"],[0.4,\"#fde0ef\"],[0.5,\"#f7f7f7\"],[0.6,\"#e6f5d0\"],[0.7,\"#b8e186\"],[0.8,\"#7fbc41\"],[0.9,\"#4d9221\"],[1,\"#276419\"]]},\"xaxis\":{\"gridcolor\":\"white\",\"linecolor\":\"white\",\"ticks\":\"\",\"title\":{\"standoff\":15},\"zerolinecolor\":\"white\",\"automargin\":true,\"zerolinewidth\":2},\"yaxis\":{\"gridcolor\":\"white\",\"linecolor\":\"white\",\"ticks\":\"\",\"title\":{\"standoff\":15},\"zerolinecolor\":\"white\",\"automargin\":true,\"zerolinewidth\":2},\"scene\":{\"xaxis\":{\"backgroundcolor\":\"#E5ECF6\",\"gridcolor\":\"white\",\"linecolor\":\"white\",\"showbackground\":true,\"ticks\":\"\",\"zerolinecolor\":\"white\",\"gridwidth\":2},\"yaxis\":{\"backgroundcolor\":\"#E5ECF6\",\"gridcolor\":\"white\",\"linecolor\":\"white\",\"showbackground\":true,\"ticks\":\"\",\"zerolinecolor\":\"white\",\"gridwidth\":2},\"zaxis\":{\"backgroundcolor\":\"#E5ECF6\",\"gridcolor\":\"white\",\"linecolor\":\"white\",\"showbackground\":true,\"ticks\":\"\",\"zerolinecolor\":\"white\",\"gridwidth\":2}},\"shapedefaults\":{\"line\":{\"color\":\"#2a3f5f\"}},\"annotationdefaults\":{\"arrowcolor\":\"#2a3f5f\",\"arrowhead\":0,\"arrowwidth\":1},\"geo\":{\"bgcolor\":\"white\",\"landcolor\":\"#E5ECF6\",\"subunitcolor\":\"white\",\"showland\":true,\"showlakes\":true,\"lakecolor\":\"white\"},\"title\":{\"x\":0.05},\"mapbox\":{\"style\":\"light\"}}},\"geo\":{\"domain\":{\"x\":[0.0,1.0],\"y\":[0.0,1.0]},\"center\":{}},\"coloraxis\":{\"colorbar\":{\"title\":{\"text\":\"color\"}},\"colorscale\":[[0.0,\"#0d0887\"],[0.1111111111111111,\"#46039f\"],[0.2222222222222222,\"#7201a8\"],[0.3333333333333333,\"#9c179e\"],[0.4444444444444444,\"#bd3786\"],[0.5555555555555556,\"#d8576b\"],[0.6666666666666666,\"#ed7953\"],[0.7777777777777778,\"#fb9f3a\"],[0.8888888888888888,\"#fdca26\"],[1.0,\"#f0f921\"]]},\"legend\":{\"tracegroupgap\":0},\"title\":{\"text\":\"No. of People working in the Field of Data Science\"}},                        {\"responsive\": true}                    ).then(function(){\n",
              "                            \n",
              "var gd = document.getElementById('55b22805-e36a-4e5f-ac89-8a4e3591dcb9');\n",
              "var x = new MutationObserver(function (mutations, observer) {{\n",
              "        var display = window.getComputedStyle(gd).display;\n",
              "        if (!display || display === 'none') {{\n",
              "            console.log([gd, 'removed!']);\n",
              "            Plotly.purge(gd);\n",
              "            observer.disconnect();\n",
              "        }}\n",
              "}});\n",
              "\n",
              "// Listen for the removal of the full notebook cells\n",
              "var notebookContainer = gd.closest('#notebook-container');\n",
              "if (notebookContainer) {{\n",
              "    x.observe(notebookContainer, {childList: true});\n",
              "}}\n",
              "\n",
              "// Listen for the clearing of the current output cell\n",
              "var outputEl = gd.closest('.output');\n",
              "if (outputEl) {{\n",
              "    x.observe(outputEl, {childList: true});\n",
              "}}\n",
              "\n",
              "                        })                };                            </script>        </div>\n",
              "</body>\n",
              "</html>"
            ]
          },
          "metadata": {}
        }
      ]
    },
    {
      "cell_type": "markdown",
      "source": [
        "The United States has the highest number of individuals working in the field of data science.\n",
        "\n",
        "13. I would like to compare the salaries based on the levels of experience and years of work."
      ],
      "metadata": {
        "id": "ItZnn8PRfr_A"
      }
    },
    {
      "cell_type": "code",
      "source": [
        "table = df.pivot_table(values='salary_in_usd',columns='work_year',index='experience_level')\n",
        "table"
      ],
      "metadata": {
        "colab": {
          "base_uri": "https://localhost:8080/",
          "height": 206
        },
        "id": "fVOK53Q-f_ln",
        "outputId": "d7deb8dd-720e-4e27-d47c-77608377a025"
      },
      "execution_count": null,
      "outputs": [
        {
          "output_type": "execute_result",
          "data": {
            "text/plain": [
              "work_year                  2020           2021           2022           2023\n",
              "experience_level                                                            \n",
              "Entry-level        57511.608696   54905.254545   77006.024194   95283.966102\n",
              "Executive-level   139944.333333  186128.000000  188260.292683  203705.683333\n",
              "Mid-level          87564.718750   82116.934783  101305.598338  116297.596875\n",
              "Senior-level      137240.500000  126085.356164  147659.688049  159568.928516"
            ],
            "text/html": [
              "\n",
              "  <div id=\"df-3e4e8ab8-b186-446c-aabf-c63cbc71b063\">\n",
              "    <div class=\"colab-df-container\">\n",
              "      <div>\n",
              "<style scoped>\n",
              "    .dataframe tbody tr th:only-of-type {\n",
              "        vertical-align: middle;\n",
              "    }\n",
              "\n",
              "    .dataframe tbody tr th {\n",
              "        vertical-align: top;\n",
              "    }\n",
              "\n",
              "    .dataframe thead th {\n",
              "        text-align: right;\n",
              "    }\n",
              "</style>\n",
              "<table border=\"1\" class=\"dataframe\">\n",
              "  <thead>\n",
              "    <tr style=\"text-align: right;\">\n",
              "      <th>work_year</th>\n",
              "      <th>2020</th>\n",
              "      <th>2021</th>\n",
              "      <th>2022</th>\n",
              "      <th>2023</th>\n",
              "    </tr>\n",
              "    <tr>\n",
              "      <th>experience_level</th>\n",
              "      <th></th>\n",
              "      <th></th>\n",
              "      <th></th>\n",
              "      <th></th>\n",
              "    </tr>\n",
              "  </thead>\n",
              "  <tbody>\n",
              "    <tr>\n",
              "      <th>Entry-level</th>\n",
              "      <td>57511.608696</td>\n",
              "      <td>54905.254545</td>\n",
              "      <td>77006.024194</td>\n",
              "      <td>95283.966102</td>\n",
              "    </tr>\n",
              "    <tr>\n",
              "      <th>Executive-level</th>\n",
              "      <td>139944.333333</td>\n",
              "      <td>186128.000000</td>\n",
              "      <td>188260.292683</td>\n",
              "      <td>203705.683333</td>\n",
              "    </tr>\n",
              "    <tr>\n",
              "      <th>Mid-level</th>\n",
              "      <td>87564.718750</td>\n",
              "      <td>82116.934783</td>\n",
              "      <td>101305.598338</td>\n",
              "      <td>116297.596875</td>\n",
              "    </tr>\n",
              "    <tr>\n",
              "      <th>Senior-level</th>\n",
              "      <td>137240.500000</td>\n",
              "      <td>126085.356164</td>\n",
              "      <td>147659.688049</td>\n",
              "      <td>159568.928516</td>\n",
              "    </tr>\n",
              "  </tbody>\n",
              "</table>\n",
              "</div>\n",
              "      <button class=\"colab-df-convert\" onclick=\"convertToInteractive('df-3e4e8ab8-b186-446c-aabf-c63cbc71b063')\"\n",
              "              title=\"Convert this dataframe to an interactive table.\"\n",
              "              style=\"display:none;\">\n",
              "        \n",
              "  <svg xmlns=\"http://www.w3.org/2000/svg\" height=\"24px\"viewBox=\"0 0 24 24\"\n",
              "       width=\"24px\">\n",
              "    <path d=\"M0 0h24v24H0V0z\" fill=\"none\"/>\n",
              "    <path d=\"M18.56 5.44l.94 2.06.94-2.06 2.06-.94-2.06-.94-.94-2.06-.94 2.06-2.06.94zm-11 1L8.5 8.5l.94-2.06 2.06-.94-2.06-.94L8.5 2.5l-.94 2.06-2.06.94zm10 10l.94 2.06.94-2.06 2.06-.94-2.06-.94-.94-2.06-.94 2.06-2.06.94z\"/><path d=\"M17.41 7.96l-1.37-1.37c-.4-.4-.92-.59-1.43-.59-.52 0-1.04.2-1.43.59L10.3 9.45l-7.72 7.72c-.78.78-.78 2.05 0 2.83L4 21.41c.39.39.9.59 1.41.59.51 0 1.02-.2 1.41-.59l7.78-7.78 2.81-2.81c.8-.78.8-2.07 0-2.86zM5.41 20L4 18.59l7.72-7.72 1.47 1.35L5.41 20z\"/>\n",
              "  </svg>\n",
              "      </button>\n",
              "      \n",
              "  <style>\n",
              "    .colab-df-container {\n",
              "      display:flex;\n",
              "      flex-wrap:wrap;\n",
              "      gap: 12px;\n",
              "    }\n",
              "\n",
              "    .colab-df-convert {\n",
              "      background-color: #E8F0FE;\n",
              "      border: none;\n",
              "      border-radius: 50%;\n",
              "      cursor: pointer;\n",
              "      display: none;\n",
              "      fill: #1967D2;\n",
              "      height: 32px;\n",
              "      padding: 0 0 0 0;\n",
              "      width: 32px;\n",
              "    }\n",
              "\n",
              "    .colab-df-convert:hover {\n",
              "      background-color: #E2EBFA;\n",
              "      box-shadow: 0px 1px 2px rgba(60, 64, 67, 0.3), 0px 1px 3px 1px rgba(60, 64, 67, 0.15);\n",
              "      fill: #174EA6;\n",
              "    }\n",
              "\n",
              "    [theme=dark] .colab-df-convert {\n",
              "      background-color: #3B4455;\n",
              "      fill: #D2E3FC;\n",
              "    }\n",
              "\n",
              "    [theme=dark] .colab-df-convert:hover {\n",
              "      background-color: #434B5C;\n",
              "      box-shadow: 0px 1px 3px 1px rgba(0, 0, 0, 0.15);\n",
              "      filter: drop-shadow(0px 1px 2px rgba(0, 0, 0, 0.3));\n",
              "      fill: #FFFFFF;\n",
              "    }\n",
              "  </style>\n",
              "\n",
              "      <script>\n",
              "        const buttonEl =\n",
              "          document.querySelector('#df-3e4e8ab8-b186-446c-aabf-c63cbc71b063 button.colab-df-convert');\n",
              "        buttonEl.style.display =\n",
              "          google.colab.kernel.accessAllowed ? 'block' : 'none';\n",
              "\n",
              "        async function convertToInteractive(key) {\n",
              "          const element = document.querySelector('#df-3e4e8ab8-b186-446c-aabf-c63cbc71b063');\n",
              "          const dataTable =\n",
              "            await google.colab.kernel.invokeFunction('convertToInteractive',\n",
              "                                                     [key], {});\n",
              "          if (!dataTable) return;\n",
              "\n",
              "          const docLinkHtml = 'Like what you see? Visit the ' +\n",
              "            '<a target=\"_blank\" href=https://colab.research.google.com/notebooks/data_table.ipynb>data table notebook</a>'\n",
              "            + ' to learn more about interactive tables.';\n",
              "          element.innerHTML = '';\n",
              "          dataTable['output_type'] = 'display_data';\n",
              "          await google.colab.output.renderOutput(dataTable, element);\n",
              "          const docLink = document.createElement('div');\n",
              "          docLink.innerHTML = docLinkHtml;\n",
              "          element.appendChild(docLink);\n",
              "        }\n",
              "      </script>\n",
              "    </div>\n",
              "  </div>\n",
              "  "
            ]
          },
          "metadata": {},
          "execution_count": 234
        }
      ]
    },
    {
      "cell_type": "code",
      "source": [
        "px.box(df,x='experience_level',y='salary_in_usd', color='work_year',\n",
        "       category_orders={\"work_year\":[2020, 2021, 2022, 2023],\n",
        "                       \"experience_level\":[\"Entry-level\",\"Mid-level\",\"Senior-level\", \"Executive-level\"]},\n",
        "       title='Experience Level vs Salary')"
      ],
      "metadata": {
        "colab": {
          "base_uri": "https://localhost:8080/",
          "height": 542
        },
        "id": "fXryn2p_gLgW",
        "outputId": "bf19df1a-e2e2-408e-f237-d3f47eaba595"
      },
      "execution_count": null,
      "outputs": [
        {
          "output_type": "display_data",
          "data": {
            "text/html": [
              "<html>\n",
              "<head><meta charset=\"utf-8\" /></head>\n",
              "<body>\n",
              "    <div>            <script src=\"https://cdnjs.cloudflare.com/ajax/libs/mathjax/2.7.5/MathJax.js?config=TeX-AMS-MML_SVG\"></script><script type=\"text/javascript\">if (window.MathJax && window.MathJax.Hub && window.MathJax.Hub.Config) {window.MathJax.Hub.Config({SVG: {font: \"STIX-Web\"}});}</script>                <script type=\"text/javascript\">window.PlotlyConfig = {MathJaxConfig: 'local'};</script>\n",
              "        <script src=\"https://cdn.plot.ly/plotly-2.18.2.min.js\"></script>                <div id=\"5d328d44-4c52-4bc3-b264-f8c52bf11e00\" class=\"plotly-graph-div\" style=\"height:525px; width:100%;\"></div>            <script type=\"text/javascript\">                                    window.PLOTLYENV=window.PLOTLYENV || {};                                    if (document.getElementById(\"5d328d44-4c52-4bc3-b264-f8c52bf11e00\")) {                    Plotly.newPlot(                        \"5d328d44-4c52-4bc3-b264-f8c52bf11e00\",                        [{\"alignmentgroup\":\"True\",\"hovertemplate\":\"work_year=2020<br>experience_level=%{x}<br>salary_in_usd=%{y}<extra></extra>\",\"legendgroup\":\"2020\",\"marker\":{\"color\":\"#636efa\"},\"name\":\"2020\",\"notched\":false,\"offsetgroup\":\"2020\",\"orientation\":\"v\",\"showlegend\":true,\"x\":[\"Executive-level\",\"Mid-level\",\"Entry-level\",\"Entry-level\",\"Entry-level\",\"Entry-level\",\"Senior-level\",\"Entry-level\",\"Mid-level\",\"Mid-level\",\"Entry-level\",\"Senior-level\",\"Mid-level\",\"Mid-level\",\"Mid-level\",\"Mid-level\",\"Entry-level\",\"Entry-level\",\"Entry-level\",\"Mid-level\",\"Executive-level\",\"Mid-level\",\"Mid-level\",\"Mid-level\",\"Entry-level\",\"Mid-level\",\"Senior-level\",\"Mid-level\",\"Mid-level\",\"Entry-level\",\"Senior-level\",\"Entry-level\",\"Entry-level\",\"Mid-level\",\"Senior-level\",\"Senior-level\",\"Mid-level\",\"Senior-level\",\"Entry-level\",\"Senior-level\",\"Mid-level\",\"Mid-level\",\"Senior-level\",\"Entry-level\",\"Mid-level\",\"Entry-level\",\"Mid-level\",\"Mid-level\",\"Mid-level\",\"Entry-level\",\"Senior-level\",\"Entry-level\",\"Mid-level\",\"Mid-level\",\"Senior-level\",\"Mid-level\",\"Executive-level\",\"Entry-level\",\"Mid-level\",\"Entry-level\",\"Entry-level\",\"Mid-level\",\"Senior-level\",\"Senior-level\",\"Senior-level\",\"Mid-level\",\"Senior-level\",\"Mid-level\",\"Senior-level\",\"Mid-level\",\"Mid-level\",\"Mid-level\",\"Senior-level\",\"Senior-level\",\"Entry-level\",\"Entry-level\"],\"x0\":\" \",\"xaxis\":\"x\",\"y\":[15000,95000,13493,13493,22809,49268,117104,54742,20000,59303,70000,68428,450000,46759,74130,103000,250000,10000,138000,45760,79833,50180,106000,112872,15966,76958,188000,105000,70139,6072,33511,91000,42000,115000,260000,109024,79833,150000,72000,190000,35735,135000,125000,51321,40481,39916,87000,85000,8000,41689,114047,5707,56000,6072,47899,98000,325000,45896,42197,62726,21669,110000,120000,60000,148261,38776,91237,62726,190200,118000,138350,130800,45618,412000,105000,100000],\"y0\":\" \",\"yaxis\":\"y\",\"type\":\"box\"},{\"alignmentgroup\":\"True\",\"hovertemplate\":\"work_year=2021<br>experience_level=%{x}<br>salary_in_usd=%{y}<extra></extra>\",\"legendgroup\":\"2021\",\"marker\":{\"color\":\"#EF553B\"},\"name\":\"2021\",\"notched\":false,\"offsetgroup\":\"2021\",\"orientation\":\"v\",\"showlegend\":true,\"x\":[\"Mid-level\",\"Mid-level\",\"Entry-level\",\"Senior-level\",\"Mid-level\",\"Senior-level\",\"Entry-level\",\"Mid-level\",\"Entry-level\",\"Mid-level\",\"Entry-level\",\"Entry-level\",\"Entry-level\",\"Entry-level\",\"Entry-level\",\"Senior-level\",\"Entry-level\",\"Senior-level\",\"Mid-level\",\"Mid-level\",\"Senior-level\",\"Mid-level\",\"Senior-level\",\"Senior-level\",\"Mid-level\",\"Entry-level\",\"Senior-level\",\"Mid-level\",\"Mid-level\",\"Mid-level\",\"Entry-level\",\"Senior-level\",\"Mid-level\",\"Mid-level\",\"Entry-level\",\"Senior-level\",\"Entry-level\",\"Mid-level\",\"Senior-level\",\"Entry-level\",\"Entry-level\",\"Entry-level\",\"Senior-level\",\"Mid-level\",\"Mid-level\",\"Entry-level\",\"Mid-level\",\"Senior-level\",\"Mid-level\",\"Mid-level\",\"Mid-level\",\"Mid-level\",\"Entry-level\",\"Executive-level\",\"Entry-level\",\"Executive-level\",\"Entry-level\",\"Executive-level\",\"Executive-level\",\"Entry-level\",\"Senior-level\",\"Senior-level\",\"Senior-level\",\"Entry-level\",\"Mid-level\",\"Mid-level\",\"Senior-level\",\"Mid-level\",\"Entry-level\",\"Entry-level\",\"Mid-level\",\"Entry-level\",\"Mid-level\",\"Mid-level\",\"Mid-level\",\"Mid-level\",\"Executive-level\",\"Mid-level\",\"Mid-level\",\"Entry-level\",\"Entry-level\",\"Senior-level\",\"Mid-level\",\"Senior-level\",\"Senior-level\",\"Entry-level\",\"Mid-level\",\"Senior-level\",\"Executive-level\",\"Executive-level\",\"Entry-level\",\"Entry-level\",\"Senior-level\",\"Senior-level\",\"Senior-level\",\"Senior-level\",\"Entry-level\",\"Senior-level\",\"Senior-level\",\"Mid-level\",\"Mid-level\",\"Mid-level\",\"Senior-level\",\"Mid-level\",\"Entry-level\",\"Mid-level\",\"Entry-level\",\"Senior-level\",\"Senior-level\",\"Mid-level\",\"Senior-level\",\"Mid-level\",\"Entry-level\",\"Senior-level\",\"Entry-level\",\"Senior-level\",\"Senior-level\",\"Mid-level\",\"Entry-level\",\"Mid-level\",\"Senior-level\",\"Senior-level\",\"Mid-level\",\"Senior-level\",\"Entry-level\",\"Mid-level\",\"Mid-level\",\"Mid-level\",\"Senior-level\",\"Senior-level\",\"Senior-level\",\"Mid-level\",\"Entry-level\",\"Senior-level\",\"Mid-level\",\"Entry-level\",\"Mid-level\",\"Senior-level\",\"Senior-level\",\"Entry-level\",\"Entry-level\",\"Senior-level\",\"Entry-level\",\"Entry-level\",\"Senior-level\",\"Entry-level\",\"Mid-level\",\"Mid-level\",\"Mid-level\",\"Senior-level\",\"Mid-level\",\"Senior-level\",\"Mid-level\",\"Senior-level\",\"Executive-level\",\"Entry-level\",\"Senior-level\",\"Senior-level\",\"Entry-level\",\"Senior-level\",\"Senior-level\",\"Entry-level\",\"Mid-level\",\"Senior-level\",\"Senior-level\",\"Entry-level\",\"Executive-level\",\"Senior-level\",\"Mid-level\",\"Mid-level\",\"Mid-level\",\"Mid-level\",\"Entry-level\",\"Mid-level\",\"Entry-level\",\"Mid-level\",\"Senior-level\",\"Mid-level\",\"Executive-level\",\"Senior-level\",\"Mid-level\",\"Mid-level\",\"Mid-level\",\"Mid-level\",\"Mid-level\",\"Entry-level\",\"Mid-level\",\"Mid-level\",\"Mid-level\",\"Mid-level\",\"Senior-level\",\"Mid-level\",\"Senior-level\",\"Mid-level\",\"Senior-level\",\"Mid-level\",\"Mid-level\",\"Senior-level\",\"Entry-level\",\"Senior-level\",\"Mid-level\",\"Senior-level\",\"Senior-level\",\"Senior-level\",\"Mid-level\",\"Senior-level\",\"Mid-level\",\"Senior-level\",\"Mid-level\",\"Mid-level\",\"Senior-level\",\"Entry-level\",\"Senior-level\",\"Mid-level\",\"Entry-level\",\"Mid-level\",\"Senior-level\",\"Mid-level\",\"Entry-level\",\"Mid-level\",\"Mid-level\",\"Mid-level\",\"Mid-level\",\"Senior-level\",\"Mid-level\",\"Mid-level\",\"Mid-level\",\"Senior-level\",\"Mid-level\",\"Senior-level\"],\"x0\":\" \",\"xaxis\":\"x\",\"y\":[150000,30000,66970,54094,16904,115000,20000,45555,5409,75050,42028,20000,15000,45390,19073,50000,12171,250000,51064,109000,102839,69999,150000,240000,135000,80000,220000,77364,63711,90000,100000,24000,38400,82500,49646,40570,20000,9466,120000,10354,110037,50000,200000,60000,200000,100000,100000,82744,62649,82528,170000,150000,55000,250000,80000,130026,63831,85000,230000,125000,120000,127221,144000,13400,75774,150000,153000,90000,90000,60000,50000,12000,5409,270000,54238,47282,153667,28476,110000,82528,59102,80000,140000,79197,170000,80000,100000,53192,235000,150000,225000,76833,88654,103160,113476,94564,30428,150000,115000,187442,51519,36259,150000,95746,70000,89294,29751,276000,160000,200000,174000,93000,28399,60757,90000,170000,96282,12103,36643,72212,99703,165000,80000,103691,21637,63810,110000,180000,200000,200000,256000,110000,72500,185000,69741,100000,112000,20171,55000,58000,100000,77684,85000,76833,105000,65013,28016,111775,93150,160000,25532,66265,16904,63831,141846,16228,71786,135000,24823,54094,24342,9272,147000,96113,174000,21844,69741,50000,26005,90734,22611,5679,81000,40038,90000,61467,195000,37825,416000,225000,56256,33808,116914,46597,88654,28609,88654,66022,56738,24823,120000,20000,200000,160000,50000,40189,12901,165000,5882,185000,90734,140000,87738,61896,12000,76833,74000,152000,18000,130000,18907,59102,173762,46809,18053,115000,235000,19609,12000,75000,62000,73000,45391,168000,119059,423000,28369,165000,151000,94665],\"y0\":\" \",\"yaxis\":\"y\",\"type\":\"box\"},{\"alignmentgroup\":\"True\",\"hovertemplate\":\"work_year=2022<br>experience_level=%{x}<br>salary_in_usd=%{y}<extra></extra>\",\"legendgroup\":\"2022\",\"marker\":{\"color\":\"#00cc96\"},\"name\":\"2022\",\"notched\":false,\"offsetgroup\":\"2022\",\"orientation\":\"v\",\"showlegend\":true,\"x\":[\"Mid-level\",\"Entry-level\",\"Entry-level\",\"Senior-level\",\"Senior-level\",\"Entry-level\",\"Mid-level\",\"Senior-level\",\"Senior-level\",\"Entry-level\",\"Mid-level\",\"Executive-level\",\"Senior-level\",\"Entry-level\",\"Entry-level\",\"Senior-level\",\"Entry-level\",\"Mid-level\",\"Mid-level\",\"Senior-level\",\"Entry-level\",\"Entry-level\",\"Mid-level\",\"Mid-level\",\"Entry-level\",\"Mid-level\",\"Entry-level\",\"Senior-level\",\"Mid-level\",\"Entry-level\",\"Mid-level\",\"Senior-level\",\"Senior-level\",\"Senior-level\",\"Senior-level\",\"Senior-level\",\"Senior-level\",\"Senior-level\",\"Senior-level\",\"Senior-level\",\"Senior-level\",\"Senior-level\",\"Senior-level\",\"Senior-level\",\"Senior-level\",\"Senior-level\",\"Senior-level\",\"Senior-level\",\"Senior-level\",\"Senior-level\",\"Senior-level\",\"Mid-level\",\"Mid-level\",\"Mid-level\",\"Mid-level\",\"Senior-level\",\"Senior-level\",\"Mid-level\",\"Mid-level\",\"Entry-level\",\"Entry-level\",\"Senior-level\",\"Senior-level\",\"Senior-level\",\"Senior-level\",\"Senior-level\",\"Senior-level\",\"Mid-level\",\"Mid-level\",\"Senior-level\",\"Senior-level\",\"Mid-level\",\"Mid-level\",\"Senior-level\",\"Senior-level\",\"Mid-level\",\"Mid-level\",\"Entry-level\",\"Senior-level\",\"Mid-level\",\"Mid-level\",\"Entry-level\",\"Entry-level\",\"Entry-level\",\"Senior-level\",\"Senior-level\",\"Entry-level\",\"Entry-level\",\"Senior-level\",\"Senior-level\",\"Senior-level\",\"Senior-level\",\"Mid-level\",\"Mid-level\",\"Senior-level\",\"Senior-level\",\"Senior-level\",\"Senior-level\",\"Senior-level\",\"Senior-level\",\"Senior-level\",\"Senior-level\",\"Entry-level\",\"Mid-level\",\"Mid-level\",\"Mid-level\",\"Mid-level\",\"Mid-level\",\"Mid-level\",\"Senior-level\",\"Senior-level\",\"Senior-level\",\"Senior-level\",\"Senior-level\",\"Senior-level\",\"Senior-level\",\"Senior-level\",\"Senior-level\",\"Senior-level\",\"Senior-level\",\"Senior-level\",\"Mid-level\",\"Mid-level\",\"Senior-level\",\"Senior-level\",\"Mid-level\",\"Mid-level\",\"Entry-level\",\"Mid-level\",\"Mid-level\",\"Senior-level\",\"Senior-level\",\"Senior-level\",\"Senior-level\",\"Executive-level\",\"Executive-level\",\"Mid-level\",\"Mid-level\",\"Senior-level\",\"Senior-level\",\"Senior-level\",\"Senior-level\",\"Executive-level\",\"Executive-level\",\"Senior-level\",\"Senior-level\",\"Senior-level\",\"Senior-level\",\"Senior-level\",\"Senior-level\",\"Senior-level\",\"Senior-level\",\"Mid-level\",\"Mid-level\",\"Senior-level\",\"Senior-level\",\"Mid-level\",\"Senior-level\",\"Senior-level\",\"Senior-level\",\"Mid-level\",\"Mid-level\",\"Senior-level\",\"Senior-level\",\"Senior-level\",\"Senior-level\",\"Senior-level\",\"Senior-level\",\"Senior-level\",\"Senior-level\",\"Senior-level\",\"Senior-level\",\"Mid-level\",\"Mid-level\",\"Senior-level\",\"Senior-level\",\"Entry-level\",\"Entry-level\",\"Senior-level\",\"Senior-level\",\"Mid-level\",\"Senior-level\",\"Senior-level\",\"Senior-level\",\"Senior-level\",\"Senior-level\",\"Senior-level\",\"Senior-level\",\"Senior-level\",\"Senior-level\",\"Senior-level\",\"Senior-level\",\"Senior-level\",\"Mid-level\",\"Mid-level\",\"Senior-level\",\"Senior-level\",\"Senior-level\",\"Senior-level\",\"Mid-level\",\"Mid-level\",\"Senior-level\",\"Senior-level\",\"Senior-level\",\"Senior-level\",\"Entry-level\",\"Entry-level\",\"Senior-level\",\"Senior-level\",\"Executive-level\",\"Executive-level\",\"Senior-level\",\"Senior-level\",\"Senior-level\",\"Senior-level\",\"Senior-level\",\"Senior-level\",\"Mid-level\",\"Mid-level\",\"Senior-level\",\"Senior-level\",\"Mid-level\",\"Mid-level\",\"Senior-level\",\"Senior-level\",\"Senior-level\",\"Senior-level\",\"Entry-level\",\"Senior-level\",\"Senior-level\",\"Mid-level\",\"Mid-level\",\"Senior-level\",\"Entry-level\",\"Mid-level\",\"Mid-level\",\"Senior-level\",\"Senior-level\",\"Entry-level\",\"Entry-level\",\"Mid-level\",\"Mid-level\",\"Entry-level\",\"Entry-level\",\"Senior-level\",\"Senior-level\",\"Senior-level\",\"Senior-level\",\"Senior-level\",\"Senior-level\",\"Entry-level\",\"Senior-level\",\"Senior-level\",\"Mid-level\",\"Mid-level\",\"Senior-level\",\"Senior-level\",\"Senior-level\",\"Senior-level\",\"Senior-level\",\"Senior-level\",\"Senior-level\",\"Senior-level\",\"Senior-level\",\"Senior-level\",\"Senior-level\",\"Senior-level\",\"Senior-level\",\"Senior-level\",\"Senior-level\",\"Senior-level\",\"Senior-level\",\"Senior-level\",\"Senior-level\",\"Senior-level\",\"Senior-level\",\"Senior-level\",\"Senior-level\",\"Mid-level\",\"Mid-level\",\"Mid-level\",\"Mid-level\",\"Mid-level\",\"Mid-level\",\"Senior-level\",\"Senior-level\",\"Mid-level\",\"Mid-level\",\"Senior-level\",\"Senior-level\",\"Mid-level\",\"Mid-level\",\"Entry-level\",\"Entry-level\",\"Senior-level\",\"Senior-level\",\"Senior-level\",\"Senior-level\",\"Senior-level\",\"Senior-level\",\"Senior-level\",\"Senior-level\",\"Mid-level\",\"Mid-level\",\"Mid-level\",\"Mid-level\",\"Senior-level\",\"Senior-level\",\"Senior-level\",\"Senior-level\",\"Senior-level\",\"Senior-level\",\"Senior-level\",\"Senior-level\",\"Senior-level\",\"Senior-level\",\"Mid-level\",\"Senior-level\",\"Senior-level\",\"Senior-level\",\"Senior-level\",\"Mid-level\",\"Mid-level\",\"Mid-level\",\"Mid-level\",\"Senior-level\",\"Senior-level\",\"Senior-level\",\"Entry-level\",\"Senior-level\",\"Senior-level\",\"Senior-level\",\"Senior-level\",\"Senior-level\",\"Senior-level\",\"Entry-level\",\"Senior-level\",\"Senior-level\",\"Mid-level\",\"Mid-level\",\"Senior-level\",\"Senior-level\",\"Senior-level\",\"Senior-level\",\"Mid-level\",\"Mid-level\",\"Senior-level\",\"Senior-level\",\"Senior-level\",\"Senior-level\",\"Senior-level\",\"Senior-level\",\"Senior-level\",\"Senior-level\",\"Senior-level\",\"Senior-level\",\"Mid-level\",\"Mid-level\",\"Senior-level\",\"Senior-level\",\"Senior-level\",\"Senior-level\",\"Mid-level\",\"Mid-level\",\"Mid-level\",\"Mid-level\",\"Senior-level\",\"Senior-level\",\"Senior-level\",\"Senior-level\",\"Senior-level\",\"Senior-level\",\"Senior-level\",\"Senior-level\",\"Senior-level\",\"Senior-level\",\"Senior-level\",\"Senior-level\",\"Mid-level\",\"Senior-level\",\"Senior-level\",\"Senior-level\",\"Senior-level\",\"Senior-level\",\"Senior-level\",\"Entry-level\",\"Entry-level\",\"Senior-level\",\"Senior-level\",\"Mid-level\",\"Mid-level\",\"Senior-level\",\"Senior-level\",\"Mid-level\",\"Mid-level\",\"Senior-level\",\"Senior-level\",\"Senior-level\",\"Senior-level\",\"Entry-level\",\"Entry-level\",\"Mid-level\",\"Mid-level\",\"Mid-level\",\"Mid-level\",\"Senior-level\",\"Senior-level\",\"Senior-level\",\"Senior-level\",\"Senior-level\",\"Senior-level\",\"Entry-level\",\"Entry-level\",\"Senior-level\",\"Senior-level\",\"Senior-level\",\"Senior-level\",\"Senior-level\",\"Senior-level\",\"Senior-level\",\"Senior-level\",\"Mid-level\",\"Senior-level\",\"Senior-level\",\"Senior-level\",\"Senior-level\",\"Mid-level\",\"Mid-level\",\"Senior-level\",\"Senior-level\",\"Senior-level\",\"Senior-level\",\"Mid-level\",\"Mid-level\",\"Senior-level\",\"Senior-level\",\"Senior-level\",\"Senior-level\",\"Senior-level\",\"Senior-level\",\"Entry-level\",\"Mid-level\",\"Mid-level\",\"Senior-level\",\"Senior-level\",\"Senior-level\",\"Senior-level\",\"Mid-level\",\"Mid-level\",\"Senior-level\",\"Senior-level\",\"Mid-level\",\"Mid-level\",\"Senior-level\",\"Senior-level\",\"Senior-level\",\"Senior-level\",\"Senior-level\",\"Senior-level\",\"Entry-level\",\"Mid-level\",\"Senior-level\",\"Senior-level\",\"Mid-level\",\"Mid-level\",\"Senior-level\",\"Senior-level\",\"Mid-level\",\"Mid-level\",\"Senior-level\",\"Senior-level\",\"Mid-level\",\"Mid-level\",\"Entry-level\",\"Entry-level\",\"Mid-level\",\"Mid-level\",\"Senior-level\",\"Senior-level\",\"Mid-level\",\"Mid-level\",\"Mid-level\",\"Mid-level\",\"Senior-level\",\"Senior-level\",\"Executive-level\",\"Executive-level\",\"Senior-level\",\"Senior-level\",\"Senior-level\",\"Senior-level\",\"Senior-level\",\"Senior-level\",\"Mid-level\",\"Mid-level\",\"Senior-level\",\"Senior-level\",\"Senior-level\",\"Senior-level\",\"Senior-level\",\"Senior-level\",\"Senior-level\",\"Senior-level\",\"Senior-level\",\"Senior-level\",\"Senior-level\",\"Senior-level\",\"Senior-level\",\"Senior-level\",\"Senior-level\",\"Senior-level\",\"Senior-level\",\"Senior-level\",\"Senior-level\",\"Mid-level\",\"Mid-level\",\"Senior-level\",\"Senior-level\",\"Senior-level\",\"Senior-level\",\"Mid-level\",\"Mid-level\",\"Entry-level\",\"Senior-level\",\"Senior-level\",\"Senior-level\",\"Senior-level\",\"Senior-level\",\"Senior-level\",\"Senior-level\",\"Senior-level\",\"Senior-level\",\"Senior-level\",\"Senior-level\",\"Senior-level\",\"Senior-level\",\"Senior-level\",\"Senior-level\",\"Senior-level\",\"Senior-level\",\"Senior-level\",\"Senior-level\",\"Senior-level\",\"Senior-level\",\"Senior-level\",\"Senior-level\",\"Senior-level\",\"Senior-level\",\"Senior-level\",\"Senior-level\",\"Senior-level\",\"Senior-level\",\"Senior-level\",\"Entry-level\",\"Entry-level\",\"Mid-level\",\"Mid-level\",\"Senior-level\",\"Senior-level\",\"Senior-level\",\"Senior-level\",\"Senior-level\",\"Senior-level\",\"Entry-level\",\"Senior-level\",\"Senior-level\",\"Senior-level\",\"Senior-level\",\"Senior-level\",\"Senior-level\",\"Senior-level\",\"Senior-level\",\"Senior-level\",\"Mid-level\",\"Mid-level\",\"Senior-level\",\"Senior-level\",\"Senior-level\",\"Senior-level\",\"Senior-level\",\"Senior-level\",\"Senior-level\",\"Senior-level\",\"Entry-level\",\"Mid-level\",\"Entry-level\",\"Entry-level\",\"Senior-level\",\"Senior-level\",\"Senior-level\",\"Senior-level\",\"Senior-level\",\"Senior-level\",\"Senior-level\",\"Senior-level\",\"Mid-level\",\"Mid-level\",\"Senior-level\",\"Senior-level\",\"Senior-level\",\"Senior-level\",\"Senior-level\",\"Senior-level\",\"Senior-level\",\"Senior-level\",\"Senior-level\",\"Senior-level\",\"Senior-level\",\"Senior-level\",\"Senior-level\",\"Senior-level\",\"Senior-level\",\"Senior-level\",\"Senior-level\",\"Senior-level\",\"Mid-level\",\"Mid-level\",\"Mid-level\",\"Mid-level\",\"Mid-level\",\"Mid-level\",\"Mid-level\",\"Senior-level\",\"Senior-level\",\"Mid-level\",\"Mid-level\",\"Entry-level\",\"Entry-level\",\"Senior-level\",\"Senior-level\",\"Senior-level\",\"Senior-level\",\"Senior-level\",\"Senior-level\",\"Senior-level\",\"Senior-level\",\"Senior-level\",\"Senior-level\",\"Senior-level\",\"Mid-level\",\"Mid-level\",\"Mid-level\",\"Mid-level\",\"Mid-level\",\"Mid-level\",\"Senior-level\",\"Senior-level\",\"Senior-level\",\"Senior-level\",\"Senior-level\",\"Senior-level\",\"Executive-level\",\"Executive-level\",\"Senior-level\",\"Senior-level\",\"Entry-level\",\"Entry-level\",\"Senior-level\",\"Senior-level\",\"Senior-level\",\"Senior-level\",\"Senior-level\",\"Senior-level\",\"Senior-level\",\"Senior-level\",\"Senior-level\",\"Senior-level\",\"Senior-level\",\"Senior-level\",\"Senior-level\",\"Senior-level\",\"Mid-level\",\"Mid-level\",\"Senior-level\",\"Senior-level\",\"Mid-level\",\"Entry-level\",\"Entry-level\",\"Senior-level\",\"Senior-level\",\"Senior-level\",\"Senior-level\",\"Senior-level\",\"Senior-level\",\"Senior-level\",\"Senior-level\",\"Entry-level\",\"Senior-level\",\"Senior-level\",\"Senior-level\",\"Senior-level\",\"Senior-level\",\"Senior-level\",\"Senior-level\",\"Senior-level\",\"Senior-level\",\"Senior-level\",\"Senior-level\",\"Senior-level\",\"Senior-level\",\"Senior-level\",\"Senior-level\",\"Senior-level\",\"Senior-level\",\"Senior-level\",\"Mid-level\",\"Entry-level\",\"Senior-level\",\"Senior-level\",\"Senior-level\",\"Senior-level\",\"Senior-level\",\"Senior-level\",\"Senior-level\",\"Senior-level\",\"Senior-level\",\"Senior-level\",\"Mid-level\",\"Mid-level\",\"Senior-level\",\"Senior-level\",\"Senior-level\",\"Senior-level\",\"Senior-level\",\"Senior-level\",\"Senior-level\",\"Senior-level\",\"Executive-level\",\"Executive-level\",\"Entry-level\",\"Entry-level\",\"Mid-level\",\"Mid-level\",\"Senior-level\",\"Senior-level\",\"Senior-level\",\"Senior-level\",\"Senior-level\",\"Senior-level\",\"Senior-level\",\"Senior-level\",\"Senior-level\",\"Senior-level\",\"Senior-level\",\"Senior-level\",\"Senior-level\",\"Senior-level\",\"Senior-level\",\"Senior-level\",\"Senior-level\",\"Senior-level\",\"Mid-level\",\"Mid-level\",\"Mid-level\",\"Senior-level\",\"Senior-level\",\"Senior-level\",\"Senior-level\",\"Mid-level\",\"Mid-level\",\"Senior-level\",\"Senior-level\",\"Senior-level\",\"Senior-level\",\"Mid-level\",\"Mid-level\",\"Senior-level\",\"Senior-level\",\"Senior-level\",\"Senior-level\",\"Senior-level\",\"Senior-level\",\"Mid-level\",\"Mid-level\",\"Entry-level\",\"Senior-level\",\"Entry-level\",\"Senior-level\",\"Entry-level\",\"Senior-level\",\"Senior-level\",\"Senior-level\",\"Senior-level\",\"Senior-level\",\"Senior-level\",\"Senior-level\",\"Senior-level\",\"Senior-level\",\"Senior-level\",\"Senior-level\",\"Senior-level\",\"Entry-level\",\"Senior-level\",\"Senior-level\",\"Senior-level\",\"Mid-level\",\"Mid-level\",\"Senior-level\",\"Senior-level\",\"Mid-level\",\"Mid-level\",\"Senior-level\",\"Senior-level\",\"Senior-level\",\"Senior-level\",\"Senior-level\",\"Senior-level\",\"Senior-level\",\"Senior-level\",\"Senior-level\",\"Senior-level\",\"Senior-level\",\"Senior-level\",\"Senior-level\",\"Senior-level\",\"Senior-level\",\"Senior-level\",\"Senior-level\",\"Senior-level\",\"Senior-level\",\"Senior-level\",\"Senior-level\",\"Senior-level\",\"Senior-level\",\"Senior-level\",\"Senior-level\",\"Senior-level\",\"Senior-level\",\"Senior-level\",\"Senior-level\",\"Senior-level\",\"Senior-level\",\"Senior-level\",\"Senior-level\",\"Senior-level\",\"Senior-level\",\"Senior-level\",\"Senior-level\",\"Senior-level\",\"Mid-level\",\"Mid-level\",\"Senior-level\",\"Senior-level\",\"Senior-level\",\"Senior-level\",\"Senior-level\",\"Senior-level\",\"Senior-level\",\"Senior-level\",\"Mid-level\",\"Mid-level\",\"Mid-level\",\"Mid-level\",\"Entry-level\",\"Senior-level\",\"Mid-level\",\"Mid-level\",\"Mid-level\",\"Senior-level\",\"Senior-level\",\"Senior-level\",\"Senior-level\",\"Senior-level\",\"Senior-level\",\"Senior-level\",\"Mid-level\",\"Senior-level\",\"Senior-level\",\"Executive-level\",\"Senior-level\",\"Senior-level\",\"Senior-level\",\"Senior-level\",\"Senior-level\",\"Senior-level\",\"Senior-level\",\"Senior-level\",\"Senior-level\",\"Senior-level\",\"Senior-level\",\"Senior-level\",\"Mid-level\",\"Senior-level\",\"Senior-level\",\"Senior-level\",\"Senior-level\",\"Senior-level\",\"Mid-level\",\"Senior-level\",\"Mid-level\",\"Mid-level\",\"Senior-level\",\"Senior-level\",\"Mid-level\",\"Mid-level\",\"Senior-level\",\"Senior-level\",\"Senior-level\",\"Senior-level\",\"Senior-level\",\"Senior-level\",\"Mid-level\",\"Mid-level\",\"Senior-level\",\"Senior-level\",\"Entry-level\",\"Senior-level\",\"Senior-level\",\"Senior-level\",\"Senior-level\",\"Senior-level\",\"Senior-level\",\"Executive-level\",\"Executive-level\",\"Mid-level\",\"Senior-level\",\"Senior-level\",\"Senior-level\",\"Senior-level\",\"Senior-level\",\"Senior-level\",\"Senior-level\",\"Senior-level\",\"Entry-level\",\"Senior-level\",\"Senior-level\",\"Senior-level\",\"Senior-level\",\"Senior-level\",\"Senior-level\",\"Senior-level\",\"Senior-level\",\"Senior-level\",\"Senior-level\",\"Senior-level\",\"Senior-level\",\"Senior-level\",\"Senior-level\",\"Senior-level\",\"Senior-level\",\"Senior-level\",\"Senior-level\",\"Senior-level\",\"Senior-level\",\"Senior-level\",\"Senior-level\",\"Senior-level\",\"Senior-level\",\"Senior-level\",\"Entry-level\",\"Senior-level\",\"Senior-level\",\"Senior-level\",\"Senior-level\",\"Senior-level\",\"Senior-level\",\"Senior-level\",\"Senior-level\",\"Senior-level\",\"Senior-level\",\"Senior-level\",\"Senior-level\",\"Senior-level\",\"Senior-level\",\"Senior-level\",\"Senior-level\",\"Senior-level\",\"Senior-level\",\"Senior-level\",\"Senior-level\",\"Senior-level\",\"Senior-level\",\"Senior-level\",\"Senior-level\",\"Senior-level\",\"Senior-level\",\"Senior-level\",\"Senior-level\",\"Mid-level\",\"Mid-level\",\"Mid-level\",\"Mid-level\",\"Senior-level\",\"Senior-level\",\"Senior-level\",\"Senior-level\",\"Mid-level\",\"Mid-level\",\"Entry-level\",\"Senior-level\",\"Senior-level\",\"Entry-level\",\"Senior-level\",\"Senior-level\",\"Senior-level\",\"Senior-level\",\"Senior-level\",\"Senior-level\",\"Senior-level\",\"Senior-level\",\"Senior-level\",\"Senior-level\",\"Entry-level\",\"Senior-level\",\"Senior-level\",\"Senior-level\",\"Senior-level\",\"Mid-level\",\"Senior-level\",\"Entry-level\",\"Senior-level\",\"Senior-level\",\"Mid-level\",\"Mid-level\",\"Senior-level\",\"Senior-level\",\"Mid-level\",\"Mid-level\",\"Senior-level\",\"Senior-level\",\"Senior-level\",\"Senior-level\",\"Senior-level\",\"Senior-level\",\"Senior-level\",\"Senior-level\",\"Senior-level\",\"Executive-level\",\"Executive-level\",\"Mid-level\",\"Mid-level\",\"Senior-level\",\"Senior-level\",\"Executive-level\",\"Executive-level\",\"Senior-level\",\"Entry-level\",\"Entry-level\",\"Mid-level\",\"Mid-level\",\"Entry-level\",\"Senior-level\",\"Senior-level\",\"Senior-level\",\"Senior-level\",\"Mid-level\",\"Mid-level\",\"Senior-level\",\"Senior-level\",\"Senior-level\",\"Mid-level\",\"Mid-level\",\"Senior-level\",\"Senior-level\",\"Senior-level\",\"Senior-level\",\"Senior-level\",\"Senior-level\",\"Senior-level\",\"Senior-level\",\"Senior-level\",\"Senior-level\",\"Senior-level\",\"Senior-level\",\"Senior-level\",\"Senior-level\",\"Mid-level\",\"Senior-level\",\"Senior-level\",\"Mid-level\",\"Entry-level\",\"Entry-level\",\"Senior-level\",\"Senior-level\",\"Senior-level\",\"Senior-level\",\"Senior-level\",\"Senior-level\",\"Senior-level\",\"Senior-level\",\"Senior-level\",\"Senior-level\",\"Senior-level\",\"Senior-level\",\"Senior-level\",\"Senior-level\",\"Mid-level\",\"Mid-level\",\"Mid-level\",\"Mid-level\",\"Mid-level\",\"Mid-level\",\"Mid-level\",\"Senior-level\",\"Senior-level\",\"Senior-level\",\"Senior-level\",\"Senior-level\",\"Senior-level\",\"Senior-level\",\"Senior-level\",\"Senior-level\",\"Senior-level\",\"Senior-level\",\"Senior-level\",\"Senior-level\",\"Senior-level\",\"Senior-level\",\"Entry-level\",\"Senior-level\",\"Senior-level\",\"Entry-level\",\"Entry-level\",\"Executive-level\",\"Executive-level\",\"Executive-level\",\"Senior-level\",\"Senior-level\",\"Senior-level\",\"Senior-level\",\"Mid-level\",\"Mid-level\",\"Senior-level\",\"Senior-level\",\"Senior-level\",\"Senior-level\",\"Senior-level\",\"Senior-level\",\"Senior-level\",\"Senior-level\",\"Mid-level\",\"Mid-level\",\"Mid-level\",\"Senior-level\",\"Senior-level\",\"Mid-level\",\"Mid-level\",\"Mid-level\",\"Senior-level\",\"Senior-level\",\"Senior-level\",\"Senior-level\",\"Senior-level\",\"Senior-level\",\"Senior-level\",\"Mid-level\",\"Senior-level\",\"Senior-level\",\"Senior-level\",\"Senior-level\",\"Mid-level\",\"Mid-level\",\"Mid-level\",\"Senior-level\",\"Senior-level\",\"Senior-level\",\"Senior-level\",\"Senior-level\",\"Senior-level\",\"Senior-level\",\"Senior-level\",\"Senior-level\",\"Senior-level\",\"Senior-level\",\"Mid-level\",\"Entry-level\",\"Entry-level\",\"Mid-level\",\"Senior-level\",\"Senior-level\",\"Senior-level\",\"Senior-level\",\"Entry-level\",\"Mid-level\",\"Mid-level\",\"Senior-level\",\"Senior-level\",\"Executive-level\",\"Executive-level\",\"Senior-level\",\"Senior-level\",\"Mid-level\",\"Mid-level\",\"Senior-level\",\"Senior-level\",\"Senior-level\",\"Senior-level\",\"Senior-level\",\"Senior-level\",\"Senior-level\",\"Senior-level\",\"Senior-level\",\"Senior-level\",\"Senior-level\",\"Senior-level\",\"Senior-level\",\"Senior-level\",\"Senior-level\",\"Senior-level\",\"Senior-level\",\"Senior-level\",\"Senior-level\",\"Senior-level\",\"Mid-level\",\"Mid-level\",\"Senior-level\",\"Senior-level\",\"Senior-level\",\"Senior-level\",\"Senior-level\",\"Senior-level\",\"Entry-level\",\"Senior-level\",\"Senior-level\",\"Senior-level\",\"Senior-level\",\"Senior-level\",\"Senior-level\",\"Senior-level\",\"Senior-level\",\"Mid-level\",\"Senior-level\",\"Senior-level\",\"Mid-level\",\"Senior-level\",\"Senior-level\",\"Senior-level\",\"Senior-level\",\"Senior-level\",\"Senior-level\",\"Entry-level\",\"Entry-level\",\"Mid-level\",\"Senior-level\",\"Senior-level\",\"Senior-level\",\"Senior-level\",\"Senior-level\",\"Senior-level\",\"Mid-level\",\"Mid-level\",\"Senior-level\",\"Senior-level\",\"Senior-level\",\"Senior-level\",\"Senior-level\",\"Senior-level\",\"Entry-level\",\"Mid-level\",\"Mid-level\",\"Senior-level\",\"Senior-level\",\"Mid-level\",\"Mid-level\",\"Senior-level\",\"Senior-level\",\"Entry-level\",\"Mid-level\",\"Entry-level\",\"Executive-level\",\"Mid-level\",\"Senior-level\",\"Executive-level\",\"Executive-level\",\"Senior-level\",\"Senior-level\",\"Entry-level\",\"Mid-level\",\"Senior-level\",\"Entry-level\",\"Mid-level\",\"Senior-level\",\"Senior-level\",\"Mid-level\",\"Mid-level\",\"Senior-level\",\"Senior-level\",\"Senior-level\",\"Senior-level\",\"Senior-level\",\"Senior-level\",\"Entry-level\",\"Senior-level\",\"Senior-level\",\"Senior-level\",\"Senior-level\",\"Senior-level\",\"Senior-level\",\"Entry-level\",\"Entry-level\",\"Mid-level\",\"Mid-level\",\"Mid-level\",\"Senior-level\",\"Senior-level\",\"Senior-level\",\"Senior-level\",\"Mid-level\",\"Senior-level\",\"Senior-level\",\"Senior-level\",\"Senior-level\",\"Senior-level\",\"Senior-level\",\"Senior-level\",\"Senior-level\",\"Senior-level\",\"Senior-level\",\"Mid-level\",\"Mid-level\",\"Senior-level\",\"Senior-level\",\"Entry-level\",\"Entry-level\",\"Senior-level\",\"Senior-level\",\"Senior-level\",\"Mid-level\",\"Mid-level\",\"Mid-level\",\"Entry-level\",\"Mid-level\",\"Senior-level\",\"Senior-level\",\"Senior-level\",\"Senior-level\",\"Mid-level\",\"Senior-level\",\"Senior-level\",\"Senior-level\",\"Senior-level\",\"Entry-level\",\"Senior-level\",\"Senior-level\",\"Senior-level\",\"Entry-level\",\"Mid-level\",\"Mid-level\",\"Senior-level\",\"Senior-level\",\"Senior-level\",\"Senior-level\",\"Senior-level\",\"Senior-level\",\"Senior-level\",\"Senior-level\",\"Mid-level\",\"Mid-level\",\"Mid-level\",\"Mid-level\",\"Mid-level\",\"Senior-level\",\"Senior-level\",\"Senior-level\",\"Senior-level\",\"Mid-level\",\"Mid-level\",\"Senior-level\",\"Senior-level\",\"Senior-level\",\"Senior-level\",\"Senior-level\",\"Senior-level\",\"Senior-level\",\"Senior-level\",\"Mid-level\",\"Senior-level\",\"Senior-level\",\"Senior-level\",\"Senior-level\",\"Senior-level\",\"Senior-level\",\"Mid-level\",\"Mid-level\",\"Executive-level\",\"Senior-level\",\"Senior-level\",\"Senior-level\",\"Senior-level\",\"Senior-level\",\"Senior-level\",\"Senior-level\",\"Senior-level\",\"Executive-level\",\"Entry-level\",\"Senior-level\",\"Senior-level\",\"Mid-level\",\"Mid-level\",\"Mid-level\",\"Mid-level\",\"Mid-level\",\"Mid-level\",\"Mid-level\",\"Mid-level\",\"Mid-level\",\"Mid-level\",\"Senior-level\",\"Senior-level\",\"Mid-level\",\"Mid-level\",\"Mid-level\",\"Mid-level\",\"Senior-level\",\"Senior-level\",\"Mid-level\",\"Mid-level\",\"Senior-level\",\"Senior-level\",\"Mid-level\",\"Mid-level\",\"Mid-level\",\"Mid-level\",\"Mid-level\",\"Mid-level\",\"Senior-level\",\"Mid-level\",\"Mid-level\",\"Mid-level\",\"Mid-level\",\"Mid-level\",\"Mid-level\",\"Senior-level\",\"Senior-level\",\"Mid-level\",\"Mid-level\",\"Senior-level\",\"Senior-level\",\"Executive-level\",\"Executive-level\",\"Mid-level\",\"Mid-level\",\"Mid-level\",\"Mid-level\",\"Senior-level\",\"Senior-level\",\"Senior-level\",\"Senior-level\",\"Senior-level\",\"Senior-level\",\"Senior-level\",\"Senior-level\",\"Senior-level\",\"Senior-level\",\"Mid-level\",\"Mid-level\",\"Senior-level\",\"Senior-level\",\"Senior-level\",\"Senior-level\",\"Mid-level\",\"Mid-level\",\"Mid-level\",\"Mid-level\",\"Senior-level\",\"Senior-level\",\"Senior-level\",\"Senior-level\",\"Senior-level\",\"Senior-level\",\"Senior-level\",\"Senior-level\",\"Entry-level\",\"Entry-level\",\"Executive-level\",\"Executive-level\",\"Senior-level\",\"Senior-level\",\"Senior-level\",\"Senior-level\",\"Senior-level\",\"Senior-level\",\"Senior-level\",\"Senior-level\",\"Senior-level\",\"Senior-level\",\"Senior-level\",\"Senior-level\",\"Senior-level\",\"Senior-level\",\"Senior-level\",\"Senior-level\",\"Senior-level\",\"Senior-level\",\"Senior-level\",\"Senior-level\",\"Mid-level\",\"Mid-level\",\"Senior-level\",\"Senior-level\",\"Senior-level\",\"Senior-level\",\"Senior-level\",\"Senior-level\",\"Senior-level\",\"Senior-level\",\"Senior-level\",\"Senior-level\",\"Senior-level\",\"Senior-level\",\"Executive-level\",\"Executive-level\",\"Executive-level\",\"Executive-level\",\"Senior-level\",\"Senior-level\",\"Senior-level\",\"Senior-level\",\"Senior-level\",\"Senior-level\",\"Senior-level\",\"Senior-level\",\"Senior-level\",\"Senior-level\",\"Senior-level\",\"Senior-level\",\"Senior-level\",\"Senior-level\",\"Senior-level\",\"Senior-level\",\"Senior-level\",\"Senior-level\",\"Senior-level\",\"Senior-level\",\"Senior-level\",\"Senior-level\",\"Senior-level\",\"Senior-level\",\"Mid-level\",\"Mid-level\",\"Senior-level\",\"Senior-level\",\"Senior-level\",\"Senior-level\",\"Senior-level\",\"Senior-level\",\"Mid-level\",\"Mid-level\",\"Senior-level\",\"Senior-level\",\"Mid-level\",\"Mid-level\",\"Senior-level\",\"Senior-level\",\"Mid-level\",\"Mid-level\",\"Senior-level\",\"Senior-level\",\"Senior-level\",\"Senior-level\",\"Senior-level\",\"Senior-level\",\"Senior-level\",\"Senior-level\",\"Senior-level\",\"Senior-level\",\"Mid-level\",\"Mid-level\",\"Entry-level\",\"Entry-level\",\"Senior-level\",\"Senior-level\",\"Senior-level\",\"Senior-level\",\"Senior-level\",\"Senior-level\",\"Senior-level\",\"Senior-level\",\"Senior-level\",\"Senior-level\",\"Senior-level\",\"Senior-level\",\"Senior-level\",\"Senior-level\",\"Senior-level\",\"Senior-level\",\"Senior-level\",\"Senior-level\",\"Senior-level\",\"Senior-level\",\"Senior-level\",\"Senior-level\",\"Senior-level\",\"Senior-level\",\"Senior-level\",\"Senior-level\",\"Senior-level\",\"Senior-level\",\"Mid-level\",\"Mid-level\",\"Senior-level\",\"Senior-level\",\"Mid-level\",\"Mid-level\",\"Senior-level\",\"Senior-level\",\"Mid-level\",\"Mid-level\",\"Senior-level\",\"Senior-level\",\"Executive-level\",\"Executive-level\",\"Senior-level\",\"Senior-level\",\"Senior-level\",\"Senior-level\",\"Senior-level\",\"Senior-level\",\"Mid-level\",\"Executive-level\",\"Mid-level\",\"Mid-level\",\"Mid-level\",\"Mid-level\",\"Mid-level\",\"Entry-level\",\"Mid-level\",\"Mid-level\",\"Mid-level\",\"Entry-level\",\"Senior-level\",\"Mid-level\",\"Entry-level\",\"Mid-level\",\"Senior-level\",\"Entry-level\",\"Mid-level\",\"Senior-level\",\"Senior-level\",\"Mid-level\",\"Entry-level\",\"Mid-level\",\"Senior-level\",\"Senior-level\",\"Entry-level\",\"Senior-level\",\"Mid-level\",\"Senior-level\",\"Senior-level\",\"Mid-level\",\"Mid-level\",\"Entry-level\",\"Entry-level\",\"Mid-level\",\"Senior-level\",\"Entry-level\",\"Mid-level\",\"Senior-level\",\"Senior-level\",\"Mid-level\",\"Senior-level\",\"Mid-level\",\"Mid-level\",\"Entry-level\",\"Entry-level\",\"Mid-level\",\"Entry-level\",\"Senior-level\",\"Senior-level\",\"Entry-level\",\"Entry-level\",\"Senior-level\",\"Entry-level\",\"Entry-level\"],\"x0\":\" \",\"xaxis\":\"x\",\"y\":[20984,300000,56536,88256,275000,59888,73546,172309,130000,34320,9289,106000,192000,168000,85000,375000,180000,23000,155000,84053,48000,6304,15897,110000,25216,18314,100000,133000,14307,130000,13989,125000,175000,155000,153600,106800,150000,140000,122000,94500,170000,130000,145000,128000,145000,100000,175000,120000,145000,115000,150000,150000,100000,150000,127500,126500,51000,260000,175000,40000,40000,250000,63000,210000,160000,272550,198200,94560,52533,220000,146000,150000,100000,248400,183600,150000,150000,40000,56723,120000,95000,160000,135000,24165,216000,144000,85000,65000,149000,119000,140000,120000,150000,110000,246000,201000,190000,155000,235000,185000,190000,160000,100000,130000,115000,92350,67723,105000,70000,204500,142200,192000,164000,185900,129300,130000,75000,175000,120000,167500,106500,75000,60000,184000,142000,145000,100000,10000,31795,44365,175000,120000,175000,120000,200000,145000,92350,73880,145000,100000,192000,164000,310000,239000,120000,95000,145000,135000,100000,78000,73546,36773,160000,120000,190000,150000,35610,125000,120000,95000,150000,100000,47280,37824,115934,81666,175000,140000,120000,95000,249500,149850,122500,100000,249500,149850,55000,48000,249500,149850,58837,190000,120000,127000,104000,210000,150000,210000,150000,210000,130000,182750,161500,102640,66100,210000,150000,198800,122600,130000,80000,136000,104000,150000,100000,160000,135000,216000,144000,159000,130000,115934,81666,215000,150000,246000,201000,187000,153000,255000,185000,430967,55410,50432,39925,169000,110600,60938,140000,120000,75000,60000,10000,50000,134000,124000,166700,119000,124234,74540,100000,65000,200000,12000,220000,146000,68293,36773,110000,70000,50000,120000,95000,150000,100000,47280,37824,190000,135000,128000,81500,173000,110000,192000,120000,115934,81666,120000,95000,190000,194000,129400,201000,89200,165000,125000,230000,196000,130000,90000,150000,100000,230000,150000,153600,106800,130000,100000,216000,144000,180000,120000,160000,135000,192500,140000,152500,130000,65000,55000,178750,160000,63040,52533,165000,135000,170000,125000,105000,70000,130000,95000,203500,152000,197430,134760,120000,197000,99000,220000,162000,110446,79178,70186,51716,149040,113900,171000,13000,100000,78000,120000,95000,110000,70000,50000,185900,129300,150000,100000,230000,154600,204500,142200,160000,75000,47280,37824,213000,152000,140000,120000,110000,70000,227200,168000,64090,60938,243000,183000,175000,150000,130000,90000,165000,124000,178000,132000,300000,130000,169000,110600,116000,96000,92350,70186,105000,70000,105236,194000,129400,190000,135000,100000,70000,189750,140250,130000,100000,160000,109000,250000,150000,206000,160000,135000,120000,115573,73546,160000,135000,150000,100000,120000,95000,68293,42026,191200,130000,191200,130000,66192,50000,230000,154600,120000,95000,140000,120000,169000,110600,80000,185900,129300,135000,110000,155000,140000,205000,150000,179500,134000,180000,120000,185900,129300,175000,145000,235000,175000,27317,160000,90000,68293,36773,145000,115000,165000,135000,168400,105200,86193,49253,200000,160000,47280,37824,198800,122600,100000,105066,130000,100000,104663,73880,125000,110000,165000,124000,148000,107000,150000,100000,160000,135000,120000,95000,153600,106800,100000,65000,120000,95000,63040,36773,310000,239000,299500,245100,168000,130000,136000,104000,161000,118000,205000,184000,185900,129300,247500,172200,68293,177000,131000,205000,184000,146000,102000,169000,110600,230000,196000,135000,100000,80000,65000,135000,100000,61566,43096,175000,135000,80000,231250,138750,193750,116250,231250,138750,231250,138750,231250,138750,193750,116250,208000,127000,300000,196000,204500,142200,185900,129300,47280,37824,204500,142200,205000,185000,185900,129300,247500,172200,160000,135000,150000,100000,110000,95000,185900,129300,205000,184000,17684,375000,191200,130000,225000,156400,169000,110600,204500,142200,104663,80036,185900,129300,140700,93800,350000,135000,115934,81666,12000,104697,33000,34672,201000,119000,175000,150000,154560,123648,130000,100000,170000,145000,135000,100000,247500,172200,177500,134000,185900,129300,192564,144854,130000,105000,179305,142127,315000,225000,243900,156600,206000,160000,109000,79000,160000,109000,89306,182500,128500,160000,90000,77300,45600,127000,110000,210000,136000,12608,170000,140000,247500,172200,225000,184100,130000,90000,120000,100000,85000,78000,161000,110000,136000,104000,47280,37824,205000,160000,169000,110600,61566,49253,160000,130000,245000,180000,135000,100000,220000,150000,198440,144000,240000,170000,198440,144000,150000,100000,120000,95000,57872,64000,39925,187200,116100,150000,127000,275000,166000,159699,138938,76000,166700,119000,130000,100000,103432,92350,80000,52500,236000,182000,180000,140000,225000,156400,135000,100000,204500,142200,240000,125404,300000,130000,195000,175000,155000,110000,123000,92250,170000,150000,180000,100000,97000,90000,200000,160000,210000,180000,260000,180000,210000,157000,180000,100000,80000,52500,128000,81500,105000,70000,175000,122500,171000,117000,202800,104300,50432,36773,197000,99000,160000,110000,185900,129300,30000,78000,48000,170000,130000,150000,95000,78000,42000,345600,230400,145000,115000,78000,48000,175950,130050,205600,105700,236600,89200,84000,54000,80000,200000,73742,165000,33246,185900,129300,169000,110600,225000,184100,185900,129300,225000,156400,185900,129300,108000,8000,155000,38000,85000,65000,155000,38000,110820,92350,153600,106800,185000,50000,185900,129300,155000,38000,168000,130000,123400,88100,120000,55000,185900,129300,191200,130000,169000,110600,150000,120000,139000,122000,185900,129300,139600,85700,185000,50000,185900,129300,225000,156400,200000,175000,185900,129300,148500,98200,115000,95000,225000,66000,185000,50000,47280,37824,134000,98000,105000,62000,57000,161311,144200,115360,83171,38154,73546,42026,170000,150000,180000,160000,108000,200000,150000,125976,188700,160395,115934,81666,300000,225000,198440,144000,191475,141525,50432,36773,75648,156868,200000,198440,144000,69344,5132,90000,126080,84053,200000,180000,108000,85000,210000,180000,165000,132000,130000,110000,45050,135000,178800,132100,20000,140000,110000,160000,85000,250000,63000,187200,116100,10000,200000,145000,229998,154545,215000,159000,229998,154545,50000,183000,99750,68400,236900,159200,243225,179775,175000,150000,210000,180000,148000,128000,190000,135000,130000,110000,191475,141525,160000,85000,218000,145300,195400,131300,105000,191475,141525,207000,153000,191475,141525,110000,99000,191475,141525,191475,141525,191475,141525,200000,135000,207000,153000,191475,141525,191475,141525,191475,141525,195700,130500,130000,84000,100000,60000,80036,67723,141300,102100,50432,36773,150000,102200,22892,144000,113000,31520,195400,131300,195400,131300,195400,131300,190000,135000,135000,80000,8050,160000,85000,178800,132100,60000,63040,50000,140000,105000,80036,67723,190000,140000,100000,60000,180000,165000,108000,190000,135000,179400,154000,193900,129300,222640,182160,150000,100000,122500,100000,297500,260000,193000,93000,73000,100000,60000,7799,136994,101570,250000,63000,134000,98000,191475,141525,57786,136000,112000,172000,140000,215000,164000,300000,130000,250000,63000,180000,150000,250000,63000,191475,141525,97500,212800,142800,73546,50000,6359,151800,130240,165000,140250,135000,115000,179400,154000,191475,141525,191475,141525,191475,141525,75000,84053,73546,98506,86193,84053,73546,191475,141525,191475,141525,102663,80041,191475,141525,104611,82280,191475,141525,191475,141525,115000,31520,81000,66000,46000,80000,200000,180000,200000,204100,136100,250000,63000,118208,110820,191475,141525,191475,141525,191475,141525,95000,70000,75000,7500,113000,170000,130000,113000,140000,53368,175000,140000,29944,250000,63000,160000,119300,145000,105000,90000,146200,124270,225000,160000,54634,185800,137400,245000,180000,203500,152000,250000,63000,186000,148800,95386,128058,82000,110000,173000,203500,152000,186000,148800,6270,158000,134000,170000,120000,200000,150000,216200,144100,115573,89306,250000,63000,135000,85000,135000,85000,206000,175100,189650,164996,149040,113900,154000,126000,200000,150000,195700,130500,170000,135000,98506,73880,117000,99450,200000,135000,193900,129300,55410,86193,61566,175000,130000,188100,139860,248700,167100,5723,123400,88100,50432,245000,205000,141300,102100,141300,102100,50000,84053,61566,250000,63000,189500,140100,177600,131300,24000,24000,250000,63000,202900,131300,145000,115000,115000,193900,129300,180000,140000,216200,144100,216000,144000,150000,53416,50000,84053,131752,48000,260500,175100,210000,100000,55000,130000,77119,52008,30523,206699,99100,200000,54000,250000,63000,250000,63000,250000,63000,130000,100000,80000,160000,100000,221300,148700,30000,28368,91118,61566,60938,249260,185400,170000,130000,80036,128875,93700,180000,100000,136260,109280,160000,92000,200000,160000,135446,104663,117000,99450,129000,86000,160000,119300,100000,25000,65257,200000,180000,153000,210000,100000,150075,110925,22800,160000,92000,202900,131300,15000,175000,135000,133766,83000,92350,67723,186000,148800,112900,90320,240000,160000,300000,200000,65666,200000,116976,92350,120000,112900,90320,145000,105400,110820,92350,215300,158200,209100,154600,115934,81666,175000,155000,84053,164000,132000,170000,123000,189650,164996,52533,52533,115222,165400,132320,208775,147800,136994,101570,128875,93700,76309,35093,183600,100800,49253,36940,42026,31520,84053,73546,98506,86193,84053,73546,189650,164996,42026,31520,92350,73880,215300,140400,63040,47280,260000,180000,67723,43096,63040,47280,73880,55410,60000,82900,63900,160000,112300,241000,159000,180000,80000,58000,58000,136000,108800,242000,200000,61566,36940,73880,49253,165220,120160,124190,90320,181940,132320,220110,160080,180000,120000,126500,106260,116000,99000,155000,120600,130000,90000,170000,150000,102100,84900,136620,99360,110820,98506,146000,123000,49253,43096,130000,110000,170000,135000,161342,137141,167000,123000,73880,61566,211500,138600,192400,90700,130000,61300,130000,61300,160000,113000,150000,95550,167000,115500,112900,90320,112900,90320,165400,132320,243900,156600,136600,109280,128875,93700,224000,167875,175000,135000,209100,154600,180000,160000,205300,140400,176000,144000,200100,160000,70500,54000,205300,140400,205300,184700,175100,140250,116150,99050,145000,130000,112900,90320,85000,75000,214000,192600,266400,213120,155000,115000,141300,102100,115934,81666,206699,99100,130000,110500,61566,43096,80000,60000,192564,144854,230000,150000,150260,109280,170000,150000,160000,130000,67000,52000,154000,126000,129000,99000,210000,140000,210000,140000,210000,140000,100000,69000,210000,140000,150075,110925,100000,25000,126500,106260,220110,160080,105000,100000,170000,135000,230000,140000,135000,50000,220000,140000,172386,86193,220000,120000,200000,120000,120000,65000,324000,216000,210000,100000,185100,104890,105000,80000,76814,192037,120000,17805,30523,55685,52533,17805,75000,157000,69133,65000,68293,67597,10000,20000,200000,51081,78000,135000,115000,83864,40000,31520,59888,89306,83171,165000,153000,100000,76814,33609,75000,30469,55475,61989,152500,120000,135000,405000,380000,120402,177000,65141,48000,20000,150000,100000,100000,144000,155499,100000,120000,84053,125000,21013],\"y0\":\" \",\"yaxis\":\"y\",\"type\":\"box\"},{\"alignmentgroup\":\"True\",\"hovertemplate\":\"work_year=2023<br>experience_level=%{x}<br>salary_in_usd=%{y}<extra></extra>\",\"legendgroup\":\"2023\",\"marker\":{\"color\":\"#ab63fa\"},\"name\":\"2023\",\"notched\":false,\"offsetgroup\":\"2023\",\"orientation\":\"v\",\"showlegend\":true,\"x\":[\"Senior-level\",\"Mid-level\",\"Mid-level\",\"Senior-level\",\"Senior-level\",\"Senior-level\",\"Senior-level\",\"Senior-level\",\"Senior-level\",\"Senior-level\",\"Senior-level\",\"Senior-level\",\"Senior-level\",\"Entry-level\",\"Entry-level\",\"Senior-level\",\"Senior-level\",\"Senior-level\",\"Senior-level\",\"Mid-level\",\"Mid-level\",\"Senior-level\",\"Senior-level\",\"Senior-level\",\"Senior-level\",\"Senior-level\",\"Senior-level\",\"Senior-level\",\"Senior-level\",\"Senior-level\",\"Senior-level\",\"Senior-level\",\"Senior-level\",\"Senior-level\",\"Senior-level\",\"Mid-level\",\"Mid-level\",\"Mid-level\",\"Mid-level\",\"Entry-level\",\"Entry-level\",\"Entry-level\",\"Entry-level\",\"Senior-level\",\"Senior-level\",\"Senior-level\",\"Senior-level\",\"Senior-level\",\"Senior-level\",\"Senior-level\",\"Senior-level\",\"Senior-level\",\"Senior-level\",\"Senior-level\",\"Senior-level\",\"Senior-level\",\"Senior-level\",\"Executive-level\",\"Executive-level\",\"Senior-level\",\"Senior-level\",\"Senior-level\",\"Senior-level\",\"Senior-level\",\"Senior-level\",\"Senior-level\",\"Senior-level\",\"Senior-level\",\"Senior-level\",\"Senior-level\",\"Senior-level\",\"Senior-level\",\"Senior-level\",\"Senior-level\",\"Senior-level\",\"Senior-level\",\"Senior-level\",\"Senior-level\",\"Senior-level\",\"Mid-level\",\"Senior-level\",\"Mid-level\",\"Mid-level\",\"Senior-level\",\"Senior-level\",\"Senior-level\",\"Senior-level\",\"Senior-level\",\"Senior-level\",\"Senior-level\",\"Senior-level\",\"Senior-level\",\"Senior-level\",\"Entry-level\",\"Entry-level\",\"Senior-level\",\"Senior-level\",\"Senior-level\",\"Senior-level\",\"Senior-level\",\"Senior-level\",\"Senior-level\",\"Senior-level\",\"Senior-level\",\"Senior-level\",\"Senior-level\",\"Senior-level\",\"Senior-level\",\"Senior-level\",\"Senior-level\",\"Senior-level\",\"Entry-level\",\"Senior-level\",\"Senior-level\",\"Senior-level\",\"Senior-level\",\"Senior-level\",\"Senior-level\",\"Senior-level\",\"Senior-level\",\"Senior-level\",\"Senior-level\",\"Senior-level\",\"Senior-level\",\"Senior-level\",\"Senior-level\",\"Mid-level\",\"Mid-level\",\"Senior-level\",\"Senior-level\",\"Senior-level\",\"Senior-level\",\"Mid-level\",\"Mid-level\",\"Entry-level\",\"Entry-level\",\"Senior-level\",\"Senior-level\",\"Entry-level\",\"Entry-level\",\"Senior-level\",\"Senior-level\",\"Senior-level\",\"Senior-level\",\"Senior-level\",\"Senior-level\",\"Senior-level\",\"Senior-level\",\"Senior-level\",\"Senior-level\",\"Mid-level\",\"Mid-level\",\"Mid-level\",\"Mid-level\",\"Mid-level\",\"Mid-level\",\"Senior-level\",\"Senior-level\",\"Senior-level\",\"Senior-level\",\"Senior-level\",\"Senior-level\",\"Senior-level\",\"Senior-level\",\"Mid-level\",\"Mid-level\",\"Senior-level\",\"Senior-level\",\"Senior-level\",\"Senior-level\",\"Senior-level\",\"Senior-level\",\"Senior-level\",\"Senior-level\",\"Senior-level\",\"Senior-level\",\"Senior-level\",\"Senior-level\",\"Mid-level\",\"Mid-level\",\"Mid-level\",\"Mid-level\",\"Entry-level\",\"Entry-level\",\"Senior-level\",\"Senior-level\",\"Mid-level\",\"Mid-level\",\"Senior-level\",\"Senior-level\",\"Senior-level\",\"Senior-level\",\"Mid-level\",\"Mid-level\",\"Senior-level\",\"Senior-level\",\"Senior-level\",\"Senior-level\",\"Senior-level\",\"Executive-level\",\"Executive-level\",\"Mid-level\",\"Mid-level\",\"Senior-level\",\"Senior-level\",\"Senior-level\",\"Senior-level\",\"Senior-level\",\"Senior-level\",\"Senior-level\",\"Senior-level\",\"Senior-level\",\"Senior-level\",\"Entry-level\",\"Senior-level\",\"Mid-level\",\"Senior-level\",\"Senior-level\",\"Senior-level\",\"Senior-level\",\"Senior-level\",\"Senior-level\",\"Senior-level\",\"Senior-level\",\"Executive-level\",\"Executive-level\",\"Senior-level\",\"Senior-level\",\"Senior-level\",\"Senior-level\",\"Mid-level\",\"Senior-level\",\"Senior-level\",\"Executive-level\",\"Executive-level\",\"Senior-level\",\"Senior-level\",\"Senior-level\",\"Senior-level\",\"Senior-level\",\"Senior-level\",\"Senior-level\",\"Senior-level\",\"Senior-level\",\"Senior-level\",\"Entry-level\",\"Entry-level\",\"Senior-level\",\"Senior-level\",\"Senior-level\",\"Senior-level\",\"Senior-level\",\"Senior-level\",\"Senior-level\",\"Senior-level\",\"Senior-level\",\"Senior-level\",\"Senior-level\",\"Senior-level\",\"Senior-level\",\"Senior-level\",\"Senior-level\",\"Senior-level\",\"Senior-level\",\"Senior-level\",\"Senior-level\",\"Senior-level\",\"Senior-level\",\"Senior-level\",\"Executive-level\",\"Executive-level\",\"Senior-level\",\"Senior-level\",\"Senior-level\",\"Senior-level\",\"Senior-level\",\"Senior-level\",\"Senior-level\",\"Senior-level\",\"Senior-level\",\"Senior-level\",\"Senior-level\",\"Senior-level\",\"Senior-level\",\"Senior-level\",\"Senior-level\",\"Senior-level\",\"Senior-level\",\"Senior-level\",\"Senior-level\",\"Senior-level\",\"Executive-level\",\"Executive-level\",\"Senior-level\",\"Senior-level\",\"Senior-level\",\"Senior-level\",\"Senior-level\",\"Senior-level\",\"Senior-level\",\"Senior-level\",\"Senior-level\",\"Senior-level\",\"Senior-level\",\"Senior-level\",\"Senior-level\",\"Senior-level\",\"Senior-level\",\"Senior-level\",\"Senior-level\",\"Senior-level\",\"Senior-level\",\"Senior-level\",\"Senior-level\",\"Senior-level\",\"Senior-level\",\"Senior-level\",\"Entry-level\",\"Senior-level\",\"Mid-level\",\"Mid-level\",\"Entry-level\",\"Senior-level\",\"Senior-level\",\"Senior-level\",\"Senior-level\",\"Senior-level\",\"Senior-level\",\"Entry-level\",\"Entry-level\",\"Mid-level\",\"Mid-level\",\"Senior-level\",\"Senior-level\",\"Entry-level\",\"Entry-level\",\"Senior-level\",\"Senior-level\",\"Senior-level\",\"Senior-level\",\"Senior-level\",\"Senior-level\",\"Entry-level\",\"Entry-level\",\"Senior-level\",\"Senior-level\",\"Senior-level\",\"Senior-level\",\"Senior-level\",\"Senior-level\",\"Senior-level\",\"Senior-level\",\"Senior-level\",\"Senior-level\",\"Mid-level\",\"Senior-level\",\"Senior-level\",\"Senior-level\",\"Senior-level\",\"Mid-level\",\"Mid-level\",\"Mid-level\",\"Mid-level\",\"Senior-level\",\"Senior-level\",\"Mid-level\",\"Mid-level\",\"Senior-level\",\"Senior-level\",\"Senior-level\",\"Senior-level\",\"Senior-level\",\"Senior-level\",\"Senior-level\",\"Senior-level\",\"Senior-level\",\"Senior-level\",\"Senior-level\",\"Senior-level\",\"Senior-level\",\"Senior-level\",\"Mid-level\",\"Mid-level\",\"Executive-level\",\"Executive-level\",\"Mid-level\",\"Entry-level\",\"Senior-level\",\"Senior-level\",\"Entry-level\",\"Entry-level\",\"Mid-level\",\"Mid-level\",\"Senior-level\",\"Senior-level\",\"Senior-level\",\"Senior-level\",\"Senior-level\",\"Senior-level\",\"Entry-level\",\"Entry-level\",\"Senior-level\",\"Senior-level\",\"Senior-level\",\"Senior-level\",\"Executive-level\",\"Executive-level\",\"Senior-level\",\"Senior-level\",\"Senior-level\",\"Senior-level\",\"Senior-level\",\"Senior-level\",\"Entry-level\",\"Entry-level\",\"Senior-level\",\"Senior-level\",\"Senior-level\",\"Senior-level\",\"Entry-level\",\"Entry-level\",\"Senior-level\",\"Senior-level\",\"Senior-level\",\"Senior-level\",\"Senior-level\",\"Senior-level\",\"Mid-level\",\"Mid-level\",\"Senior-level\",\"Senior-level\",\"Senior-level\",\"Senior-level\",\"Senior-level\",\"Senior-level\",\"Senior-level\",\"Senior-level\",\"Senior-level\",\"Senior-level\",\"Senior-level\",\"Senior-level\",\"Senior-level\",\"Senior-level\",\"Mid-level\",\"Mid-level\",\"Senior-level\",\"Senior-level\",\"Mid-level\",\"Mid-level\",\"Senior-level\",\"Senior-level\",\"Entry-level\",\"Entry-level\",\"Senior-level\",\"Senior-level\",\"Senior-level\",\"Senior-level\",\"Senior-level\",\"Senior-level\",\"Mid-level\",\"Mid-level\",\"Senior-level\",\"Senior-level\",\"Mid-level\",\"Mid-level\",\"Executive-level\",\"Executive-level\",\"Senior-level\",\"Senior-level\",\"Senior-level\",\"Senior-level\",\"Executive-level\",\"Executive-level\",\"Mid-level\",\"Mid-level\",\"Senior-level\",\"Senior-level\",\"Mid-level\",\"Mid-level\",\"Senior-level\",\"Senior-level\",\"Senior-level\",\"Senior-level\",\"Senior-level\",\"Senior-level\",\"Entry-level\",\"Senior-level\",\"Senior-level\",\"Mid-level\",\"Mid-level\",\"Senior-level\",\"Senior-level\",\"Senior-level\",\"Senior-level\",\"Senior-level\",\"Senior-level\",\"Senior-level\",\"Senior-level\",\"Senior-level\",\"Senior-level\",\"Senior-level\",\"Senior-level\",\"Senior-level\",\"Senior-level\",\"Senior-level\",\"Senior-level\",\"Senior-level\",\"Senior-level\",\"Entry-level\",\"Entry-level\",\"Senior-level\",\"Senior-level\",\"Senior-level\",\"Senior-level\",\"Senior-level\",\"Senior-level\",\"Mid-level\",\"Mid-level\",\"Senior-level\",\"Senior-level\",\"Mid-level\",\"Senior-level\",\"Senior-level\",\"Senior-level\",\"Senior-level\",\"Senior-level\",\"Senior-level\",\"Senior-level\",\"Senior-level\",\"Senior-level\",\"Mid-level\",\"Mid-level\",\"Mid-level\",\"Mid-level\",\"Senior-level\",\"Senior-level\",\"Senior-level\",\"Senior-level\",\"Senior-level\",\"Senior-level\",\"Senior-level\",\"Senior-level\",\"Senior-level\",\"Senior-level\",\"Mid-level\",\"Mid-level\",\"Executive-level\",\"Executive-level\",\"Senior-level\",\"Senior-level\",\"Senior-level\",\"Senior-level\",\"Mid-level\",\"Mid-level\",\"Mid-level\",\"Mid-level\",\"Mid-level\",\"Mid-level\",\"Senior-level\",\"Senior-level\",\"Senior-level\",\"Senior-level\",\"Senior-level\",\"Senior-level\",\"Senior-level\",\"Senior-level\",\"Entry-level\",\"Entry-level\",\"Senior-level\",\"Senior-level\",\"Mid-level\",\"Mid-level\",\"Mid-level\",\"Mid-level\",\"Entry-level\",\"Entry-level\",\"Mid-level\",\"Mid-level\",\"Mid-level\",\"Mid-level\",\"Senior-level\",\"Senior-level\",\"Executive-level\",\"Executive-level\",\"Entry-level\",\"Senior-level\",\"Senior-level\",\"Mid-level\",\"Mid-level\",\"Entry-level\",\"Entry-level\",\"Senior-level\",\"Senior-level\",\"Entry-level\",\"Entry-level\",\"Mid-level\",\"Mid-level\",\"Mid-level\",\"Senior-level\",\"Senior-level\",\"Senior-level\",\"Senior-level\",\"Entry-level\",\"Entry-level\",\"Senior-level\",\"Senior-level\",\"Entry-level\",\"Entry-level\",\"Senior-level\",\"Senior-level\",\"Senior-level\",\"Senior-level\",\"Mid-level\",\"Mid-level\",\"Senior-level\",\"Senior-level\",\"Senior-level\",\"Senior-level\",\"Mid-level\",\"Mid-level\",\"Senior-level\",\"Senior-level\",\"Senior-level\",\"Senior-level\",\"Senior-level\",\"Senior-level\",\"Senior-level\",\"Senior-level\",\"Senior-level\",\"Senior-level\",\"Senior-level\",\"Senior-level\",\"Senior-level\",\"Senior-level\",\"Senior-level\",\"Senior-level\",\"Senior-level\",\"Senior-level\",\"Senior-level\",\"Senior-level\",\"Senior-level\",\"Senior-level\",\"Senior-level\",\"Senior-level\",\"Senior-level\",\"Senior-level\",\"Senior-level\",\"Senior-level\",\"Executive-level\",\"Executive-level\",\"Senior-level\",\"Senior-level\",\"Entry-level\",\"Entry-level\",\"Senior-level\",\"Senior-level\",\"Senior-level\",\"Senior-level\",\"Senior-level\",\"Senior-level\",\"Senior-level\",\"Senior-level\",\"Senior-level\",\"Senior-level\",\"Mid-level\",\"Mid-level\",\"Senior-level\",\"Senior-level\",\"Senior-level\",\"Senior-level\",\"Senior-level\",\"Senior-level\",\"Senior-level\",\"Senior-level\",\"Mid-level\",\"Mid-level\",\"Mid-level\",\"Mid-level\",\"Senior-level\",\"Senior-level\",\"Mid-level\",\"Mid-level\",\"Senior-level\",\"Senior-level\",\"Entry-level\",\"Entry-level\",\"Senior-level\",\"Senior-level\",\"Senior-level\",\"Senior-level\",\"Mid-level\",\"Mid-level\",\"Senior-level\",\"Senior-level\",\"Mid-level\",\"Mid-level\",\"Mid-level\",\"Mid-level\",\"Executive-level\",\"Executive-level\",\"Mid-level\",\"Mid-level\",\"Senior-level\",\"Senior-level\",\"Mid-level\",\"Senior-level\",\"Senior-level\",\"Senior-level\",\"Senior-level\",\"Senior-level\",\"Senior-level\",\"Senior-level\",\"Senior-level\",\"Senior-level\",\"Senior-level\",\"Senior-level\",\"Senior-level\",\"Mid-level\",\"Mid-level\",\"Mid-level\",\"Mid-level\",\"Senior-level\",\"Senior-level\",\"Mid-level\",\"Senior-level\",\"Senior-level\",\"Mid-level\",\"Entry-level\",\"Entry-level\",\"Mid-level\",\"Mid-level\",\"Mid-level\",\"Senior-level\",\"Senior-level\",\"Senior-level\",\"Senior-level\",\"Executive-level\",\"Executive-level\",\"Entry-level\",\"Entry-level\",\"Senior-level\",\"Senior-level\",\"Entry-level\",\"Entry-level\",\"Mid-level\",\"Mid-level\",\"Senior-level\",\"Senior-level\",\"Senior-level\",\"Senior-level\",\"Senior-level\",\"Senior-level\",\"Senior-level\",\"Senior-level\",\"Senior-level\",\"Senior-level\",\"Mid-level\",\"Mid-level\",\"Mid-level\",\"Mid-level\",\"Senior-level\",\"Senior-level\",\"Senior-level\",\"Senior-level\",\"Senior-level\",\"Senior-level\",\"Senior-level\",\"Senior-level\",\"Senior-level\",\"Senior-level\",\"Senior-level\",\"Senior-level\",\"Senior-level\",\"Senior-level\",\"Senior-level\",\"Senior-level\",\"Senior-level\",\"Senior-level\",\"Mid-level\",\"Mid-level\",\"Senior-level\",\"Senior-level\",\"Senior-level\",\"Senior-level\",\"Mid-level\",\"Mid-level\",\"Executive-level\",\"Executive-level\",\"Senior-level\",\"Senior-level\",\"Senior-level\",\"Senior-level\",\"Mid-level\",\"Mid-level\",\"Senior-level\",\"Senior-level\",\"Senior-level\",\"Senior-level\",\"Senior-level\",\"Mid-level\",\"Mid-level\",\"Mid-level\",\"Mid-level\",\"Senior-level\",\"Senior-level\",\"Entry-level\",\"Entry-level\",\"Mid-level\",\"Mid-level\",\"Senior-level\",\"Senior-level\",\"Senior-level\",\"Senior-level\",\"Mid-level\",\"Mid-level\",\"Senior-level\",\"Senior-level\",\"Senior-level\",\"Senior-level\",\"Senior-level\",\"Senior-level\",\"Senior-level\",\"Senior-level\",\"Senior-level\",\"Senior-level\",\"Entry-level\",\"Mid-level\",\"Mid-level\",\"Senior-level\",\"Senior-level\",\"Mid-level\",\"Mid-level\",\"Senior-level\",\"Senior-level\",\"Mid-level\",\"Mid-level\",\"Senior-level\",\"Senior-level\",\"Mid-level\",\"Mid-level\",\"Mid-level\",\"Senior-level\",\"Senior-level\",\"Senior-level\",\"Senior-level\",\"Senior-level\",\"Entry-level\",\"Senior-level\",\"Senior-level\",\"Executive-level\",\"Executive-level\",\"Senior-level\",\"Senior-level\",\"Entry-level\",\"Entry-level\",\"Senior-level\",\"Senior-level\",\"Mid-level\",\"Mid-level\",\"Senior-level\",\"Senior-level\",\"Senior-level\",\"Senior-level\",\"Mid-level\",\"Mid-level\",\"Mid-level\",\"Mid-level\",\"Senior-level\",\"Senior-level\",\"Senior-level\",\"Senior-level\",\"Senior-level\",\"Senior-level\",\"Entry-level\",\"Entry-level\",\"Mid-level\",\"Mid-level\",\"Mid-level\",\"Mid-level\",\"Senior-level\",\"Senior-level\",\"Senior-level\",\"Senior-level\",\"Senior-level\",\"Senior-level\",\"Mid-level\",\"Mid-level\",\"Senior-level\",\"Senior-level\",\"Mid-level\",\"Mid-level\",\"Senior-level\",\"Senior-level\",\"Senior-level\",\"Senior-level\",\"Senior-level\",\"Senior-level\",\"Mid-level\",\"Mid-level\",\"Senior-level\",\"Senior-level\",\"Mid-level\",\"Mid-level\",\"Senior-level\",\"Senior-level\",\"Mid-level\",\"Mid-level\",\"Senior-level\",\"Senior-level\",\"Senior-level\",\"Senior-level\",\"Senior-level\",\"Senior-level\",\"Senior-level\",\"Senior-level\",\"Senior-level\",\"Senior-level\",\"Mid-level\",\"Mid-level\",\"Senior-level\",\"Senior-level\",\"Mid-level\",\"Mid-level\",\"Senior-level\",\"Senior-level\",\"Entry-level\",\"Entry-level\",\"Senior-level\",\"Senior-level\",\"Senior-level\",\"Senior-level\",\"Senior-level\",\"Senior-level\",\"Senior-level\",\"Senior-level\",\"Senior-level\",\"Senior-level\",\"Senior-level\",\"Senior-level\",\"Senior-level\",\"Senior-level\",\"Senior-level\",\"Senior-level\",\"Mid-level\",\"Mid-level\",\"Senior-level\",\"Senior-level\",\"Senior-level\",\"Senior-level\",\"Senior-level\",\"Senior-level\",\"Senior-level\",\"Senior-level\",\"Senior-level\",\"Senior-level\",\"Senior-level\",\"Senior-level\",\"Entry-level\",\"Mid-level\",\"Mid-level\",\"Senior-level\",\"Senior-level\",\"Senior-level\",\"Senior-level\",\"Senior-level\",\"Senior-level\",\"Senior-level\",\"Senior-level\",\"Senior-level\",\"Entry-level\",\"Senior-level\",\"Entry-level\",\"Senior-level\",\"Senior-level\",\"Senior-level\",\"Mid-level\",\"Mid-level\",\"Senior-level\",\"Senior-level\",\"Senior-level\",\"Senior-level\",\"Senior-level\",\"Senior-level\",\"Mid-level\",\"Senior-level\",\"Senior-level\",\"Senior-level\",\"Senior-level\",\"Senior-level\",\"Senior-level\",\"Senior-level\",\"Senior-level\",\"Senior-level\",\"Executive-level\",\"Executive-level\",\"Senior-level\",\"Senior-level\",\"Senior-level\",\"Senior-level\",\"Senior-level\",\"Senior-level\",\"Senior-level\",\"Senior-level\",\"Senior-level\",\"Senior-level\",\"Mid-level\",\"Mid-level\",\"Senior-level\",\"Senior-level\",\"Senior-level\",\"Senior-level\",\"Senior-level\",\"Senior-level\",\"Senior-level\",\"Senior-level\",\"Senior-level\",\"Senior-level\",\"Senior-level\",\"Senior-level\",\"Executive-level\",\"Executive-level\",\"Senior-level\",\"Senior-level\",\"Senior-level\",\"Senior-level\",\"Senior-level\",\"Senior-level\",\"Senior-level\",\"Senior-level\",\"Senior-level\",\"Senior-level\",\"Senior-level\",\"Senior-level\",\"Mid-level\",\"Mid-level\",\"Senior-level\",\"Senior-level\",\"Senior-level\",\"Senior-level\",\"Senior-level\",\"Senior-level\",\"Senior-level\",\"Senior-level\",\"Senior-level\",\"Senior-level\",\"Senior-level\",\"Senior-level\",\"Senior-level\",\"Senior-level\",\"Senior-level\",\"Senior-level\",\"Senior-level\",\"Senior-level\",\"Mid-level\",\"Mid-level\",\"Senior-level\",\"Senior-level\",\"Senior-level\",\"Senior-level\",\"Senior-level\",\"Senior-level\",\"Senior-level\",\"Senior-level\",\"Senior-level\",\"Senior-level\",\"Senior-level\",\"Senior-level\",\"Senior-level\",\"Senior-level\",\"Senior-level\",\"Senior-level\",\"Senior-level\",\"Senior-level\",\"Senior-level\",\"Senior-level\",\"Mid-level\",\"Mid-level\",\"Senior-level\",\"Senior-level\",\"Senior-level\",\"Senior-level\",\"Senior-level\",\"Senior-level\",\"Senior-level\",\"Senior-level\",\"Senior-level\",\"Senior-level\",\"Senior-level\",\"Senior-level\",\"Senior-level\",\"Senior-level\",\"Mid-level\",\"Senior-level\",\"Senior-level\",\"Entry-level\",\"Entry-level\",\"Senior-level\",\"Senior-level\",\"Senior-level\",\"Senior-level\",\"Senior-level\",\"Senior-level\",\"Senior-level\",\"Senior-level\",\"Mid-level\",\"Mid-level\",\"Senior-level\",\"Senior-level\",\"Mid-level\",\"Mid-level\",\"Senior-level\",\"Senior-level\",\"Senior-level\",\"Senior-level\",\"Senior-level\",\"Senior-level\",\"Senior-level\",\"Senior-level\",\"Mid-level\",\"Mid-level\",\"Senior-level\",\"Senior-level\",\"Senior-level\",\"Senior-level\",\"Senior-level\",\"Senior-level\",\"Senior-level\",\"Senior-level\",\"Senior-level\",\"Senior-level\",\"Mid-level\",\"Mid-level\",\"Senior-level\",\"Senior-level\",\"Senior-level\",\"Senior-level\",\"Executive-level\",\"Executive-level\",\"Senior-level\",\"Senior-level\",\"Senior-level\",\"Senior-level\",\"Mid-level\",\"Mid-level\",\"Senior-level\",\"Senior-level\",\"Mid-level\",\"Mid-level\",\"Entry-level\",\"Entry-level\",\"Senior-level\",\"Senior-level\",\"Senior-level\",\"Senior-level\",\"Senior-level\",\"Senior-level\",\"Mid-level\",\"Mid-level\",\"Senior-level\",\"Senior-level\",\"Senior-level\",\"Senior-level\",\"Senior-level\",\"Senior-level\",\"Senior-level\",\"Senior-level\",\"Senior-level\",\"Senior-level\",\"Senior-level\",\"Senior-level\",\"Senior-level\",\"Senior-level\",\"Mid-level\",\"Mid-level\",\"Mid-level\",\"Mid-level\",\"Senior-level\",\"Senior-level\",\"Senior-level\",\"Senior-level\",\"Entry-level\",\"Entry-level\",\"Senior-level\",\"Senior-level\",\"Senior-level\",\"Senior-level\",\"Senior-level\",\"Senior-level\",\"Mid-level\",\"Entry-level\",\"Entry-level\",\"Senior-level\",\"Senior-level\",\"Senior-level\",\"Senior-level\",\"Senior-level\",\"Senior-level\",\"Senior-level\",\"Senior-level\",\"Senior-level\",\"Senior-level\",\"Senior-level\",\"Senior-level\",\"Senior-level\",\"Senior-level\",\"Entry-level\",\"Entry-level\",\"Senior-level\",\"Senior-level\",\"Senior-level\",\"Senior-level\",\"Senior-level\",\"Entry-level\",\"Senior-level\",\"Senior-level\",\"Senior-level\",\"Senior-level\",\"Entry-level\",\"Entry-level\",\"Senior-level\",\"Senior-level\",\"Mid-level\",\"Mid-level\",\"Senior-level\",\"Senior-level\",\"Senior-level\",\"Senior-level\",\"Senior-level\",\"Senior-level\",\"Senior-level\",\"Senior-level\",\"Senior-level\",\"Senior-level\",\"Mid-level\",\"Mid-level\",\"Senior-level\",\"Senior-level\",\"Senior-level\",\"Senior-level\",\"Entry-level\",\"Senior-level\",\"Mid-level\",\"Senior-level\",\"Senior-level\",\"Executive-level\",\"Executive-level\",\"Senior-level\",\"Senior-level\",\"Senior-level\",\"Senior-level\",\"Senior-level\",\"Senior-level\",\"Senior-level\",\"Senior-level\",\"Senior-level\",\"Senior-level\",\"Mid-level\",\"Mid-level\",\"Mid-level\",\"Mid-level\",\"Entry-level\",\"Entry-level\",\"Entry-level\",\"Senior-level\",\"Senior-level\",\"Senior-level\",\"Senior-level\",\"Senior-level\",\"Senior-level\",\"Senior-level\",\"Senior-level\",\"Mid-level\",\"Mid-level\",\"Senior-level\",\"Senior-level\",\"Senior-level\",\"Senior-level\",\"Senior-level\",\"Senior-level\",\"Senior-level\",\"Senior-level\",\"Senior-level\",\"Senior-level\",\"Executive-level\",\"Executive-level\",\"Senior-level\",\"Senior-level\",\"Senior-level\",\"Senior-level\",\"Mid-level\",\"Senior-level\",\"Senior-level\",\"Senior-level\",\"Senior-level\",\"Senior-level\",\"Senior-level\",\"Mid-level\",\"Mid-level\",\"Senior-level\",\"Senior-level\",\"Mid-level\",\"Mid-level\",\"Senior-level\",\"Entry-level\",\"Senior-level\",\"Senior-level\",\"Mid-level\",\"Mid-level\",\"Mid-level\",\"Mid-level\",\"Executive-level\",\"Executive-level\",\"Senior-level\",\"Senior-level\",\"Senior-level\",\"Senior-level\",\"Mid-level\",\"Mid-level\",\"Mid-level\",\"Mid-level\",\"Senior-level\",\"Senior-level\",\"Entry-level\",\"Senior-level\",\"Senior-level\",\"Senior-level\",\"Senior-level\",\"Entry-level\",\"Mid-level\",\"Mid-level\",\"Senior-level\",\"Senior-level\",\"Executive-level\",\"Executive-level\",\"Senior-level\",\"Senior-level\",\"Senior-level\",\"Senior-level\",\"Senior-level\",\"Senior-level\",\"Senior-level\",\"Senior-level\",\"Senior-level\",\"Senior-level\",\"Senior-level\",\"Senior-level\",\"Senior-level\",\"Senior-level\",\"Senior-level\",\"Senior-level\",\"Mid-level\",\"Mid-level\",\"Senior-level\",\"Senior-level\",\"Executive-level\",\"Executive-level\",\"Senior-level\",\"Senior-level\",\"Senior-level\",\"Senior-level\",\"Senior-level\",\"Senior-level\",\"Senior-level\",\"Senior-level\",\"Senior-level\",\"Senior-level\",\"Mid-level\",\"Senior-level\",\"Senior-level\",\"Mid-level\",\"Mid-level\",\"Senior-level\",\"Senior-level\",\"Senior-level\",\"Senior-level\",\"Executive-level\",\"Executive-level\",\"Senior-level\",\"Senior-level\",\"Senior-level\",\"Senior-level\",\"Entry-level\",\"Entry-level\",\"Executive-level\",\"Executive-level\",\"Mid-level\",\"Mid-level\",\"Senior-level\",\"Senior-level\",\"Senior-level\",\"Senior-level\",\"Entry-level\",\"Senior-level\",\"Senior-level\",\"Entry-level\",\"Entry-level\",\"Senior-level\",\"Senior-level\",\"Senior-level\",\"Senior-level\",\"Senior-level\",\"Senior-level\",\"Senior-level\",\"Senior-level\",\"Senior-level\",\"Senior-level\",\"Executive-level\",\"Executive-level\",\"Senior-level\",\"Senior-level\",\"Mid-level\",\"Mid-level\",\"Senior-level\",\"Senior-level\",\"Senior-level\",\"Senior-level\",\"Senior-level\",\"Senior-level\",\"Senior-level\",\"Senior-level\",\"Mid-level\",\"Mid-level\",\"Senior-level\",\"Senior-level\",\"Senior-level\",\"Senior-level\",\"Senior-level\",\"Senior-level\",\"Senior-level\",\"Senior-level\",\"Senior-level\",\"Senior-level\",\"Senior-level\",\"Senior-level\",\"Senior-level\",\"Senior-level\",\"Senior-level\",\"Senior-level\",\"Senior-level\",\"Mid-level\",\"Entry-level\",\"Mid-level\",\"Mid-level\",\"Senior-level\",\"Senior-level\",\"Mid-level\",\"Mid-level\",\"Senior-level\",\"Senior-level\",\"Senior-level\",\"Senior-level\",\"Senior-level\",\"Senior-level\",\"Senior-level\",\"Senior-level\",\"Senior-level\",\"Senior-level\",\"Entry-level\",\"Entry-level\",\"Mid-level\",\"Mid-level\",\"Mid-level\",\"Senior-level\",\"Senior-level\",\"Senior-level\",\"Senior-level\",\"Senior-level\",\"Senior-level\",\"Senior-level\",\"Senior-level\",\"Senior-level\",\"Senior-level\",\"Senior-level\",\"Senior-level\",\"Senior-level\",\"Senior-level\",\"Senior-level\",\"Senior-level\",\"Senior-level\",\"Senior-level\",\"Senior-level\",\"Senior-level\",\"Mid-level\",\"Mid-level\",\"Senior-level\",\"Senior-level\",\"Senior-level\",\"Senior-level\",\"Entry-level\",\"Mid-level\",\"Mid-level\",\"Senior-level\",\"Senior-level\",\"Mid-level\",\"Mid-level\",\"Senior-level\",\"Senior-level\",\"Senior-level\",\"Senior-level\",\"Mid-level\",\"Mid-level\",\"Senior-level\",\"Senior-level\",\"Entry-level\",\"Senior-level\",\"Senior-level\",\"Senior-level\",\"Senior-level\",\"Mid-level\",\"Mid-level\",\"Senior-level\",\"Senior-level\",\"Senior-level\",\"Senior-level\",\"Senior-level\",\"Senior-level\",\"Mid-level\",\"Mid-level\",\"Senior-level\",\"Senior-level\",\"Senior-level\",\"Mid-level\",\"Entry-level\",\"Mid-level\",\"Senior-level\",\"Senior-level\",\"Senior-level\",\"Senior-level\",\"Senior-level\",\"Senior-level\",\"Senior-level\",\"Senior-level\",\"Senior-level\",\"Senior-level\",\"Senior-level\",\"Senior-level\",\"Mid-level\",\"Senior-level\",\"Senior-level\",\"Senior-level\",\"Senior-level\",\"Entry-level\",\"Entry-level\",\"Mid-level\",\"Mid-level\",\"Senior-level\",\"Senior-level\",\"Senior-level\",\"Senior-level\",\"Senior-level\",\"Senior-level\",\"Mid-level\",\"Mid-level\",\"Senior-level\",\"Senior-level\",\"Mid-level\",\"Mid-level\",\"Senior-level\",\"Senior-level\",\"Senior-level\",\"Senior-level\",\"Senior-level\",\"Senior-level\",\"Senior-level\",\"Senior-level\",\"Senior-level\",\"Senior-level\",\"Senior-level\",\"Senior-level\",\"Mid-level\",\"Senior-level\",\"Senior-level\",\"Senior-level\",\"Senior-level\",\"Senior-level\",\"Senior-level\",\"Senior-level\",\"Senior-level\",\"Executive-level\",\"Executive-level\",\"Mid-level\",\"Mid-level\",\"Senior-level\",\"Senior-level\",\"Senior-level\",\"Senior-level\",\"Senior-level\",\"Senior-level\",\"Mid-level\",\"Mid-level\",\"Mid-level\",\"Mid-level\",\"Senior-level\",\"Senior-level\",\"Senior-level\",\"Senior-level\",\"Senior-level\",\"Senior-level\",\"Senior-level\",\"Senior-level\",\"Mid-level\",\"Mid-level\",\"Entry-level\",\"Senior-level\",\"Senior-level\",\"Senior-level\",\"Senior-level\",\"Senior-level\",\"Senior-level\",\"Senior-level\",\"Senior-level\",\"Senior-level\",\"Senior-level\",\"Senior-level\",\"Senior-level\",\"Senior-level\",\"Senior-level\",\"Senior-level\",\"Senior-level\",\"Senior-level\",\"Senior-level\",\"Executive-level\",\"Executive-level\",\"Senior-level\",\"Senior-level\",\"Mid-level\",\"Mid-level\",\"Mid-level\",\"Mid-level\",\"Senior-level\",\"Senior-level\",\"Senior-level\",\"Senior-level\",\"Mid-level\",\"Mid-level\",\"Senior-level\",\"Senior-level\",\"Senior-level\",\"Senior-level\",\"Mid-level\",\"Mid-level\",\"Senior-level\",\"Senior-level\",\"Senior-level\",\"Senior-level\",\"Senior-level\",\"Senior-level\",\"Senior-level\",\"Senior-level\",\"Senior-level\",\"Senior-level\",\"Senior-level\",\"Senior-level\",\"Senior-level\",\"Senior-level\",\"Mid-level\",\"Senior-level\",\"Senior-level\",\"Senior-level\",\"Senior-level\",\"Mid-level\",\"Mid-level\",\"Senior-level\",\"Senior-level\",\"Senior-level\",\"Senior-level\",\"Senior-level\",\"Senior-level\",\"Senior-level\",\"Senior-level\",\"Mid-level\",\"Mid-level\",\"Senior-level\",\"Senior-level\",\"Mid-level\",\"Mid-level\",\"Mid-level\",\"Senior-level\",\"Senior-level\",\"Senior-level\",\"Senior-level\",\"Mid-level\",\"Mid-level\",\"Senior-level\",\"Senior-level\",\"Senior-level\",\"Senior-level\",\"Senior-level\",\"Senior-level\",\"Senior-level\",\"Senior-level\",\"Senior-level\",\"Senior-level\",\"Senior-level\",\"Senior-level\",\"Senior-level\",\"Senior-level\",\"Senior-level\",\"Senior-level\",\"Mid-level\",\"Mid-level\",\"Senior-level\",\"Senior-level\",\"Senior-level\",\"Senior-level\",\"Senior-level\",\"Senior-level\",\"Mid-level\",\"Mid-level\",\"Senior-level\",\"Senior-level\",\"Senior-level\",\"Senior-level\",\"Entry-level\",\"Entry-level\",\"Senior-level\",\"Senior-level\",\"Entry-level\",\"Entry-level\",\"Senior-level\",\"Senior-level\",\"Entry-level\",\"Entry-level\",\"Senior-level\",\"Senior-level\",\"Senior-level\",\"Senior-level\",\"Senior-level\",\"Senior-level\",\"Senior-level\",\"Senior-level\",\"Senior-level\",\"Senior-level\",\"Mid-level\",\"Mid-level\",\"Senior-level\",\"Senior-level\",\"Senior-level\",\"Senior-level\",\"Senior-level\",\"Senior-level\",\"Senior-level\",\"Senior-level\",\"Senior-level\",\"Senior-level\",\"Senior-level\",\"Senior-level\",\"Senior-level\",\"Senior-level\",\"Senior-level\",\"Senior-level\",\"Senior-level\",\"Senior-level\",\"Senior-level\",\"Senior-level\",\"Senior-level\",\"Senior-level\",\"Senior-level\",\"Senior-level\",\"Senior-level\",\"Senior-level\",\"Senior-level\",\"Senior-level\",\"Mid-level\",\"Mid-level\",\"Senior-level\",\"Senior-level\",\"Mid-level\",\"Mid-level\",\"Senior-level\",\"Senior-level\",\"Senior-level\",\"Senior-level\",\"Senior-level\",\"Senior-level\",\"Senior-level\",\"Senior-level\",\"Mid-level\",\"Mid-level\",\"Senior-level\",\"Senior-level\",\"Mid-level\",\"Mid-level\",\"Entry-level\",\"Entry-level\"],\"x0\":\" \",\"xaxis\":\"x\",\"y\":[85847,30000,25500,175000,120000,222200,136000,219000,141000,147100,90700,130000,100000,213660,130760,147100,90700,170000,150000,150000,110000,275000,174000,230000,143200,225000,156400,200000,130000,90000,72000,253200,90700,342810,184590,162500,130000,105380,64500,100000,30000,204620,110680,270703,221484,212750,185000,262000,245000,275300,183500,218500,199098,203300,123600,189110,139000,258750,185000,231500,166000,172500,110500,238000,176000,237000,201450,309400,159100,115000,81500,237000,201450,280000,210000,280100,168100,193500,139000,65062,150000,69751,96578,185900,129300,225000,175000,185000,140000,48289,38631,105000,70000,163196,145885,217000,185000,202800,104300,145000,65000,165000,132300,179170,94300,152500,116450,247300,133800,203000,133000,220000,150000,120000,289800,214000,179820,143860,283200,188800,289800,214200,185900,129300,252000,129000,155000,140000,161800,141600,342300,176100,100000,70000,85000,65000,138784,83270,75000,70000,204500,138900,318300,212200,95000,75000,195000,160000,230000,143200,100000,70000,105000,20670,46178,42533,145000,115000,168400,105200,309400,159100,190000,150000,162500,130000,150000,120000,145000,120000,222200,136000,54685,42533,241000,155000,220000,190000,66837,54685,85066,57723,85000,75000,160000,140000,300000,250000,228000,186000,190000,170000,230000,200000,180000,115000,200000,115000,53654,220000,205000,180000,130000,200000,150000,215000,170000,247500,172200,224000,176000,120000,75000,17022,68318,75020,140000,120000,128000,81500,145000,115000,185000,140000,329500,269600,100000,80000,250000,162500,200000,145000,100000,145000,115000,203500,152000,239000,122900,237000,145000,191765,134236,190000,112000,85000,65000,135000,105500,293000,185000,80000,70000,220000,160000,175000,145000,200000,148500,48289,38631,240500,123700,152900,117100,173000,113000,260000,136000,175000,110000,260000,136000,130000,110000,205000,184000,149500,127075,195000,160000,219535,146115,170000,135000,175000,145000,199000,162000,222200,136000,221000,153000,187000,128000,210000,136000,175000,100000,179000,109000,245000,180000,142000,75000,198800,105200,125000,112000,210000,155000,115000,86000,165000,140000,139000,106000,40663,50000,280700,150450,51753,250500,159500,145000,115000,140000,120000,130001,71907,93918,51962,175000,135000,85000,65000,257000,147000,222000,175000,203000,133200,213660,130760,221000,147000,100000,80000,185900,129300,238000,156000,304000,199000,48289,150000,130000,140000,110000,90000,75000,195895,102772,240000,183600,130000,80000,250000,150000,160000,120000,289076,202353,145000,120000,155000,106000,200000,160000,157750,104650,180000,140000,200000,145000,68000,60000,48289,38631,85000,65000,125000,90000,105000,90000,179820,143860,135000,105500,155000,125000,241000,181000,252000,154000,180000,155000,191765,134236,175000,145000,237000,145000,155000,125000,80000,70000,146000,75000,64200,56100,170000,130000,208450,170550,125000,100000,135000,120000,200000,170000,171250,113750,222200,136000,260000,136000,153600,100500,205000,184000,115000,95000,182500,121500,203100,114500,72914,54685,252000,129000,92700,61800,160000,130000,258000,190000,170000,135000,167500,106500,195000,160000,146000,75000,286000,207000,100000,80000,223250,178600,353200,249300,230000,220000,297300,198200,210000,151800,200000,170000,317070,170730,128000,81500,21461,108000,60000,134000,124000,171250,113750,165000,132300,225000,175000,230000,124500,247500,172200,175000,145000,148700,125600,145000,115000,200000,150000,160000,120000,185000,120250,275300,183000,170000,125000,167500,106500,250000,200000,135000,423834,216000,184000,180000,165000,185900,129300,145000,120000,143865,115092,130000,90000,173000,132000,208049,128500,179820,143860,167500,106500,275300,183500,149600,102000,145000,100000,190000,95000,153600,106800,96578,80481,128000,85000,151000,140000,275300,183500,220000,170000,135000,105500,100000,80000,7000,42923,160000,145000,154000,143000,78990,51039,190000,120000,85066,51039,109371,72914,150000,111000,265000,235000,121093,160000,130000,75000,60400,85000,75000,252000,129000,92700,61800,60093,83500,52500,201036,134024,165000,140000,62000,58000,172000,115000,125000,90000,163800,126000,237000,145000,90000,90000,139500,109400,258000,190000,145000,120000,205600,105700,252000,129000,239748,159832,186300,102500,165000,132300,190000,126000,149040,113900,153600,106800,172600,107900,180180,106020,376080,213120,153600,100500,206500,121600,260000,225000,194500,115500,170000,90000,95000,70000,275000,160000,115934,81666,175000,120000,150000,120000,200000,175000,206000,130000,138000,92000,65000,48000,110000,75000,130000,87000,160000,112000,162500,130000,299500,245100,145000,100000,147100,90700,115100,73900,168400,105200,210000,160000,145000,100000,222200,136000,100000,85000,85066,57723,200000,145000,140000,95000,185000,120250,130000,205000,140000,297300,198200,141288,94192,184000,143000,70000,55000,275300,183500,75000,65000,160000,147000,149040,113900,75020,180180,106020,17022,70000,80000,18238,250000,150000,139500,109400,105000,70000,210914,116704,150000,100000,146000,75000,75000,60000,185700,165000,160000,130000,169000,110600,193000,136850,139500,109400,276000,178500,59020,48289,75116,48289,195652,101228,136956,101228,252000,129000,163800,126000,260000,110000,170000,130000,247500,172200,239748,159832,163800,126000,128750,106250,252000,129000,299500,245100,155000,140000,167500,106500,188500,117000,250000,138000,130000,100000,123405,140000,120000,160000,135000,104500,70000,90000,70000,153600,106800,125000,90000,185000,125000,127000,94000,210550,153300,200000,150000,161500,119500,175000,145000,175000,148750,105000,85000,215000,146300,214618,72000,60000,153400,122700,260000,175000,186300,123900,340000,150000,153400,122700,250000,175000,64385,185900,121700,153600,106800,50000,100000,247500,172200,310000,239000,125000,110000,150000,100000,149076,82365,146000,75000,139500,109400,139500,109400,149600,102000,97218,48609,252000,129000,95000,85500,185900,121700,150000,100000,145000,125000,150000,97750,201000,122000,252000,129000,120000,75000,116990,82920,185900,129300,200000,125000,201000,122000,204500,142200,155000,140000,205920,171600,121500,78000,154000,116000,190000,136000,78990,43809,180000,110000,275300,183000,170000,140000,154000,116000,160000,130000,200000,120000,175000,160000,127599,103294,153600,106800,85000,75000,225000,156400,150000,120000,163800,126000,145000,90000,204500,142200,95000,85500,167500,106500,163800,126000,155000,140000,250000,200000,260000,186000,160000,130000,200000,150000,48289,38631,150000,120000,30000,185000,125000,75116,175000,130000,122000,93800,150000,90000,165000,112000,220000,71897,64385,204500,142200,15806,200000,175000,185900,129300,185900,121700,204500,142200,40000,29453,180180,106020,136000,104000,125000,110000,153400,122700,310000,239000,152380,121904,185900,129300,247500,172200,168400,105200,128280,106900,140000,100000,107309,85847,275000,174000,139500,109400,139500,109400,170500,85000,72946,54365,160288,127467,80000,65000,124740,65488,72200,64980,153600,106800,179975,86466,120000,90000,51039,42533,149076,82365,169000,110600,175000,120000,230000,180000,153600,106800,140000,120000,205920,171600,165000,125000,265000,185000,130000,38631,95000,85500,147100,90700,167580,87980,202000,135000,163800,126000,163800,126000,104000,65000,230000,148000,269000,158000,197000,106000,150000,100000,290000,210000,192000,172800,300240,200160,300240,200160,175000,140000,169000,100000,370000,245000,115447,110000,80000,55000,48000,95000,85000,137500,81500,323300,184700,186000,153088,190000,160000,200000,150000,190000,183310,240000,180000,200000,150000,299500,245100,144000,66000,148500,126277,228000,120000,180000,90000,126500,78000,180000,160000,272000,170000,80000,60000,259000,146000,200000,160000,310000,239000,142000,95000,155000,139500,140000,120000,259000,146000,109371,72914,17779,19522,247500,172200,225000,156400,139500,109400,125000,90000,107309,75116,185900,129300,139500,109400,120000,75000,169000,110600,288000,140000,288000,140000,120000,90000,72914,60761,215050,156400,198000,114000,75000,60000,204500,142200,209300,182200,140000,120000,48609,120000,60000,147100,90700,230000,170000,227000,108000,180000,160000,180000,160000,180000,130000,55800,51508,60000,50000,226700,133300,252000,129000,151902,9727,80000,52500,250000,162500,85000,75000,153600,106800,165000,124000,115934,81666,167580,87980,250000,63000,253750,169200,253750,169200,170000,120000,124740,65488,213580,163625,12000,101943,16414,220000,170000,235000,210000,180000,115000,200000,115000,231250,138750,284310,153090,160000,75000,125000,105000,109371,85066,55000,48000,100000,225900,156400,250000,162500,318300,188800,385000,60000,110000,95000,145000,135000,180180,106020,93919,51962,241871,133832,170000,90000,210914,116704,192500,140000,149076,82365,36000,175000,148750,370000,200000,235000,185000,121523,97218,216100,140800,145828,121523,53654,110000,128000,81500,66837,63192,60761,54685,284000,236000,248100,145900,155850,102544,151410,115360,66531,59020,125686,100000,12767,250000,162500,185000,120250,26827,85000,70000,135000,100000,155000,140000,204500,142200,226700,133300,225000,156400,163800,126000,163800,126000,220000,150000,145000,115000,204500,138900,162500,130000,150000,107000,175000,110000,226700,133300,252000,129000,150000,125000,252000,129000,225000,156400,110000,265000,182750,130000,100000,153600,106800,137500,81500,314100,195800,205000,180000,165000,144000,160000,100000,200000,145000,150000,100000,199000,112000,105000,70000,130000,180180,106020,160000,135000,183000,134000,220000,150000,350000,262500,122000,94000,276000,184000,310000,239000,225000,156400,180000,150000,228000,152000,209450,158677,175000,145000,240000,170000,103200,61200,63312,237000,145000,240000,139000,174500,113000,130000,87000,160000,108000,165000,107250,300000,119000,285800,154600,60795,30000,220000,195000,168400,105200,206000,160000,200000,175000,231250,138750,153000,94000,240500,123700,160000,90000,124234,74540,109000,79000,50000,275300,183500,275300,183500,160000,125600,170000,120000,225000,140000,141290,74178,150000,120000,85000,75000,220000,160000,205600,107500,120000,95000,185900,129300,160000,130000,12888,250000,175000,136000,104000,80000,52500,110000,84000,125000,110000,90000,80000,200000,135000,120000,130000,75000,252000,129000,150000,100000,226700,133300,190000,165000,170000,150000,150000,130000,225000,156400,200000,80000,12877,17509,257000,134000,77262,38631,205600,105700,140000,110000,299500,245100,210000,151800,53654,51508,40777,51508,40777,160000,135000,120000,95000,250000,63000,237000,145000,130000,90000,120000,100000,174500,113000,183310,183310,145000,102500,210000,185000,174500,113000,122000,94000,220000,146000,300000,130000,24740,145000,128000,182000,140000,122000,94000,77262,38631,300000,200000,135000,105500,252000,129000,136000,104000,168000,130000,78990,43809,120000,95000,153400,122700,185000,160000,205000,185000,204500,142200,145000,87000,50000,234100,203500,223800,172100,180000,150000,232200,167200,197000,106000,180000,145000,225000,200000,170000,114000,291500,180000,196200,150900,168400,105200,95000,80000,116000,72000,207000,167000,145000,135000,105000,70000,180000,115000,133800,96100,120000,80000,140000,100000,150000,120000,140000,115000,297300,198200,297300,198200,202000,135000,110000,84000,219000,230000,196000,140000,110000,150000,100000,160000,110000,185900,129300,126100,72000,170000,150000,175000,140000,240500,137500,187500,165000,72914,210000,165750,225000,165750,109006,67141,135000,115000,275000,175000,170000,140000,175308,100706,235000,135000,310000,229000,289076,202353,69751,37558,120000,100000,226700,133300,125000,85000,130000,80000,120000,100000,231250,138750,199000,162000,160000,135000,200000,150000,160000,120000,250000,200000,150000,120000,150000,100000,272550,198200,182000,140000,200000,160000,204500,142200,120000,105000,187500,175000,204500,142200,155000,64000,235000,185000,174500,113000,143100,113000,184000,142000,140000,120000,174500,113000,180560,115440,140000,120000,248100,145900,120000,110000,291500,180000,75344,63192,161800,141600,58331,46178,166000,128000,170000,110000,160000,75000,236000,182000,150000,100000,261500,134500,130000,90000,160000,135000],\"y0\":\" \",\"yaxis\":\"y\",\"type\":\"box\"}],                        {\"template\":{\"data\":{\"histogram2dcontour\":[{\"type\":\"histogram2dcontour\",\"colorbar\":{\"outlinewidth\":0,\"ticks\":\"\"},\"colorscale\":[[0.0,\"#0d0887\"],[0.1111111111111111,\"#46039f\"],[0.2222222222222222,\"#7201a8\"],[0.3333333333333333,\"#9c179e\"],[0.4444444444444444,\"#bd3786\"],[0.5555555555555556,\"#d8576b\"],[0.6666666666666666,\"#ed7953\"],[0.7777777777777778,\"#fb9f3a\"],[0.8888888888888888,\"#fdca26\"],[1.0,\"#f0f921\"]]}],\"choropleth\":[{\"type\":\"choropleth\",\"colorbar\":{\"outlinewidth\":0,\"ticks\":\"\"}}],\"histogram2d\":[{\"type\":\"histogram2d\",\"colorbar\":{\"outlinewidth\":0,\"ticks\":\"\"},\"colorscale\":[[0.0,\"#0d0887\"],[0.1111111111111111,\"#46039f\"],[0.2222222222222222,\"#7201a8\"],[0.3333333333333333,\"#9c179e\"],[0.4444444444444444,\"#bd3786\"],[0.5555555555555556,\"#d8576b\"],[0.6666666666666666,\"#ed7953\"],[0.7777777777777778,\"#fb9f3a\"],[0.8888888888888888,\"#fdca26\"],[1.0,\"#f0f921\"]]}],\"heatmap\":[{\"type\":\"heatmap\",\"colorbar\":{\"outlinewidth\":0,\"ticks\":\"\"},\"colorscale\":[[0.0,\"#0d0887\"],[0.1111111111111111,\"#46039f\"],[0.2222222222222222,\"#7201a8\"],[0.3333333333333333,\"#9c179e\"],[0.4444444444444444,\"#bd3786\"],[0.5555555555555556,\"#d8576b\"],[0.6666666666666666,\"#ed7953\"],[0.7777777777777778,\"#fb9f3a\"],[0.8888888888888888,\"#fdca26\"],[1.0,\"#f0f921\"]]}],\"heatmapgl\":[{\"type\":\"heatmapgl\",\"colorbar\":{\"outlinewidth\":0,\"ticks\":\"\"},\"colorscale\":[[0.0,\"#0d0887\"],[0.1111111111111111,\"#46039f\"],[0.2222222222222222,\"#7201a8\"],[0.3333333333333333,\"#9c179e\"],[0.4444444444444444,\"#bd3786\"],[0.5555555555555556,\"#d8576b\"],[0.6666666666666666,\"#ed7953\"],[0.7777777777777778,\"#fb9f3a\"],[0.8888888888888888,\"#fdca26\"],[1.0,\"#f0f921\"]]}],\"contourcarpet\":[{\"type\":\"contourcarpet\",\"colorbar\":{\"outlinewidth\":0,\"ticks\":\"\"}}],\"contour\":[{\"type\":\"contour\",\"colorbar\":{\"outlinewidth\":0,\"ticks\":\"\"},\"colorscale\":[[0.0,\"#0d0887\"],[0.1111111111111111,\"#46039f\"],[0.2222222222222222,\"#7201a8\"],[0.3333333333333333,\"#9c179e\"],[0.4444444444444444,\"#bd3786\"],[0.5555555555555556,\"#d8576b\"],[0.6666666666666666,\"#ed7953\"],[0.7777777777777778,\"#fb9f3a\"],[0.8888888888888888,\"#fdca26\"],[1.0,\"#f0f921\"]]}],\"surface\":[{\"type\":\"surface\",\"colorbar\":{\"outlinewidth\":0,\"ticks\":\"\"},\"colorscale\":[[0.0,\"#0d0887\"],[0.1111111111111111,\"#46039f\"],[0.2222222222222222,\"#7201a8\"],[0.3333333333333333,\"#9c179e\"],[0.4444444444444444,\"#bd3786\"],[0.5555555555555556,\"#d8576b\"],[0.6666666666666666,\"#ed7953\"],[0.7777777777777778,\"#fb9f3a\"],[0.8888888888888888,\"#fdca26\"],[1.0,\"#f0f921\"]]}],\"mesh3d\":[{\"type\":\"mesh3d\",\"colorbar\":{\"outlinewidth\":0,\"ticks\":\"\"}}],\"scatter\":[{\"fillpattern\":{\"fillmode\":\"overlay\",\"size\":10,\"solidity\":0.2},\"type\":\"scatter\"}],\"parcoords\":[{\"type\":\"parcoords\",\"line\":{\"colorbar\":{\"outlinewidth\":0,\"ticks\":\"\"}}}],\"scatterpolargl\":[{\"type\":\"scatterpolargl\",\"marker\":{\"colorbar\":{\"outlinewidth\":0,\"ticks\":\"\"}}}],\"bar\":[{\"error_x\":{\"color\":\"#2a3f5f\"},\"error_y\":{\"color\":\"#2a3f5f\"},\"marker\":{\"line\":{\"color\":\"#E5ECF6\",\"width\":0.5},\"pattern\":{\"fillmode\":\"overlay\",\"size\":10,\"solidity\":0.2}},\"type\":\"bar\"}],\"scattergeo\":[{\"type\":\"scattergeo\",\"marker\":{\"colorbar\":{\"outlinewidth\":0,\"ticks\":\"\"}}}],\"scatterpolar\":[{\"type\":\"scatterpolar\",\"marker\":{\"colorbar\":{\"outlinewidth\":0,\"ticks\":\"\"}}}],\"histogram\":[{\"marker\":{\"pattern\":{\"fillmode\":\"overlay\",\"size\":10,\"solidity\":0.2}},\"type\":\"histogram\"}],\"scattergl\":[{\"type\":\"scattergl\",\"marker\":{\"colorbar\":{\"outlinewidth\":0,\"ticks\":\"\"}}}],\"scatter3d\":[{\"type\":\"scatter3d\",\"line\":{\"colorbar\":{\"outlinewidth\":0,\"ticks\":\"\"}},\"marker\":{\"colorbar\":{\"outlinewidth\":0,\"ticks\":\"\"}}}],\"scattermapbox\":[{\"type\":\"scattermapbox\",\"marker\":{\"colorbar\":{\"outlinewidth\":0,\"ticks\":\"\"}}}],\"scatterternary\":[{\"type\":\"scatterternary\",\"marker\":{\"colorbar\":{\"outlinewidth\":0,\"ticks\":\"\"}}}],\"scattercarpet\":[{\"type\":\"scattercarpet\",\"marker\":{\"colorbar\":{\"outlinewidth\":0,\"ticks\":\"\"}}}],\"carpet\":[{\"aaxis\":{\"endlinecolor\":\"#2a3f5f\",\"gridcolor\":\"white\",\"linecolor\":\"white\",\"minorgridcolor\":\"white\",\"startlinecolor\":\"#2a3f5f\"},\"baxis\":{\"endlinecolor\":\"#2a3f5f\",\"gridcolor\":\"white\",\"linecolor\":\"white\",\"minorgridcolor\":\"white\",\"startlinecolor\":\"#2a3f5f\"},\"type\":\"carpet\"}],\"table\":[{\"cells\":{\"fill\":{\"color\":\"#EBF0F8\"},\"line\":{\"color\":\"white\"}},\"header\":{\"fill\":{\"color\":\"#C8D4E3\"},\"line\":{\"color\":\"white\"}},\"type\":\"table\"}],\"barpolar\":[{\"marker\":{\"line\":{\"color\":\"#E5ECF6\",\"width\":0.5},\"pattern\":{\"fillmode\":\"overlay\",\"size\":10,\"solidity\":0.2}},\"type\":\"barpolar\"}],\"pie\":[{\"automargin\":true,\"type\":\"pie\"}]},\"layout\":{\"autotypenumbers\":\"strict\",\"colorway\":[\"#636efa\",\"#EF553B\",\"#00cc96\",\"#ab63fa\",\"#FFA15A\",\"#19d3f3\",\"#FF6692\",\"#B6E880\",\"#FF97FF\",\"#FECB52\"],\"font\":{\"color\":\"#2a3f5f\"},\"hovermode\":\"closest\",\"hoverlabel\":{\"align\":\"left\"},\"paper_bgcolor\":\"white\",\"plot_bgcolor\":\"#E5ECF6\",\"polar\":{\"bgcolor\":\"#E5ECF6\",\"angularaxis\":{\"gridcolor\":\"white\",\"linecolor\":\"white\",\"ticks\":\"\"},\"radialaxis\":{\"gridcolor\":\"white\",\"linecolor\":\"white\",\"ticks\":\"\"}},\"ternary\":{\"bgcolor\":\"#E5ECF6\",\"aaxis\":{\"gridcolor\":\"white\",\"linecolor\":\"white\",\"ticks\":\"\"},\"baxis\":{\"gridcolor\":\"white\",\"linecolor\":\"white\",\"ticks\":\"\"},\"caxis\":{\"gridcolor\":\"white\",\"linecolor\":\"white\",\"ticks\":\"\"}},\"coloraxis\":{\"colorbar\":{\"outlinewidth\":0,\"ticks\":\"\"}},\"colorscale\":{\"sequential\":[[0.0,\"#0d0887\"],[0.1111111111111111,\"#46039f\"],[0.2222222222222222,\"#7201a8\"],[0.3333333333333333,\"#9c179e\"],[0.4444444444444444,\"#bd3786\"],[0.5555555555555556,\"#d8576b\"],[0.6666666666666666,\"#ed7953\"],[0.7777777777777778,\"#fb9f3a\"],[0.8888888888888888,\"#fdca26\"],[1.0,\"#f0f921\"]],\"sequentialminus\":[[0.0,\"#0d0887\"],[0.1111111111111111,\"#46039f\"],[0.2222222222222222,\"#7201a8\"],[0.3333333333333333,\"#9c179e\"],[0.4444444444444444,\"#bd3786\"],[0.5555555555555556,\"#d8576b\"],[0.6666666666666666,\"#ed7953\"],[0.7777777777777778,\"#fb9f3a\"],[0.8888888888888888,\"#fdca26\"],[1.0,\"#f0f921\"]],\"diverging\":[[0,\"#8e0152\"],[0.1,\"#c51b7d\"],[0.2,\"#de77ae\"],[0.3,\"#f1b6da\"],[0.4,\"#fde0ef\"],[0.5,\"#f7f7f7\"],[0.6,\"#e6f5d0\"],[0.7,\"#b8e186\"],[0.8,\"#7fbc41\"],[0.9,\"#4d9221\"],[1,\"#276419\"]]},\"xaxis\":{\"gridcolor\":\"white\",\"linecolor\":\"white\",\"ticks\":\"\",\"title\":{\"standoff\":15},\"zerolinecolor\":\"white\",\"automargin\":true,\"zerolinewidth\":2},\"yaxis\":{\"gridcolor\":\"white\",\"linecolor\":\"white\",\"ticks\":\"\",\"title\":{\"standoff\":15},\"zerolinecolor\":\"white\",\"automargin\":true,\"zerolinewidth\":2},\"scene\":{\"xaxis\":{\"backgroundcolor\":\"#E5ECF6\",\"gridcolor\":\"white\",\"linecolor\":\"white\",\"showbackground\":true,\"ticks\":\"\",\"zerolinecolor\":\"white\",\"gridwidth\":2},\"yaxis\":{\"backgroundcolor\":\"#E5ECF6\",\"gridcolor\":\"white\",\"linecolor\":\"white\",\"showbackground\":true,\"ticks\":\"\",\"zerolinecolor\":\"white\",\"gridwidth\":2},\"zaxis\":{\"backgroundcolor\":\"#E5ECF6\",\"gridcolor\":\"white\",\"linecolor\":\"white\",\"showbackground\":true,\"ticks\":\"\",\"zerolinecolor\":\"white\",\"gridwidth\":2}},\"shapedefaults\":{\"line\":{\"color\":\"#2a3f5f\"}},\"annotationdefaults\":{\"arrowcolor\":\"#2a3f5f\",\"arrowhead\":0,\"arrowwidth\":1},\"geo\":{\"bgcolor\":\"white\",\"landcolor\":\"#E5ECF6\",\"subunitcolor\":\"white\",\"showland\":true,\"showlakes\":true,\"lakecolor\":\"white\"},\"title\":{\"x\":0.05},\"mapbox\":{\"style\":\"light\"}}},\"xaxis\":{\"anchor\":\"y\",\"domain\":[0.0,1.0],\"title\":{\"text\":\"experience_level\"},\"categoryorder\":\"array\",\"categoryarray\":[\"Entry-level\",\"Mid-level\",\"Senior-level\",\"Executive-level\"]},\"yaxis\":{\"anchor\":\"x\",\"domain\":[0.0,1.0],\"title\":{\"text\":\"salary_in_usd\"}},\"legend\":{\"title\":{\"text\":\"work_year\"},\"tracegroupgap\":0},\"title\":{\"text\":\"Experience Level vs Salary\"},\"boxmode\":\"group\"},                        {\"responsive\": true}                    ).then(function(){\n",
              "                            \n",
              "var gd = document.getElementById('5d328d44-4c52-4bc3-b264-f8c52bf11e00');\n",
              "var x = new MutationObserver(function (mutations, observer) {{\n",
              "        var display = window.getComputedStyle(gd).display;\n",
              "        if (!display || display === 'none') {{\n",
              "            console.log([gd, 'removed!']);\n",
              "            Plotly.purge(gd);\n",
              "            observer.disconnect();\n",
              "        }}\n",
              "}});\n",
              "\n",
              "// Listen for the removal of the full notebook cells\n",
              "var notebookContainer = gd.closest('#notebook-container');\n",
              "if (notebookContainer) {{\n",
              "    x.observe(notebookContainer, {childList: true});\n",
              "}}\n",
              "\n",
              "// Listen for the clearing of the current output cell\n",
              "var outputEl = gd.closest('.output');\n",
              "if (outputEl) {{\n",
              "    x.observe(outputEl, {childList: true});\n",
              "}}\n",
              "\n",
              "                        })                };                            </script>        </div>\n",
              "</body>\n",
              "</html>"
            ]
          },
          "metadata": {}
        }
      ]
    },
    {
      "cell_type": "markdown",
      "source": [
        "Over the years, there is a consistent increase in the median salary across all levels of experience. Furthermore, senior-level and executive-level professionals tend to receive higher median salaries compared to individuals at other experience levels.\n",
        "\n",
        "14. I would like to compare the relationship between employment type and salary.\n",
        ""
      ],
      "metadata": {
        "id": "G-NZwPEqgZUR"
      }
    },
    {
      "cell_type": "code",
      "source": [
        "xdf = df.groupby('employment_type', as_index=False)['salary_in_usd'].median()\n",
        "xdf"
      ],
      "metadata": {
        "colab": {
          "base_uri": "https://localhost:8080/",
          "height": 175
        },
        "id": "iCR5PZhwgl6L",
        "outputId": "26b38625-2e8c-481e-fc70-0138acd8a297"
      },
      "execution_count": null,
      "outputs": [
        {
          "output_type": "execute_result",
          "data": {
            "text/plain": [
              "  employment_type  salary_in_usd\n",
              "0        Contract        75000.0\n",
              "1      Freelancer        50000.0\n",
              "2       Full-time       135000.0\n",
              "3       Part-time        21669.0"
            ],
            "text/html": [
              "\n",
              "  <div id=\"df-6ea8608d-df2b-475a-851e-ed0a1992b610\">\n",
              "    <div class=\"colab-df-container\">\n",
              "      <div>\n",
              "<style scoped>\n",
              "    .dataframe tbody tr th:only-of-type {\n",
              "        vertical-align: middle;\n",
              "    }\n",
              "\n",
              "    .dataframe tbody tr th {\n",
              "        vertical-align: top;\n",
              "    }\n",
              "\n",
              "    .dataframe thead th {\n",
              "        text-align: right;\n",
              "    }\n",
              "</style>\n",
              "<table border=\"1\" class=\"dataframe\">\n",
              "  <thead>\n",
              "    <tr style=\"text-align: right;\">\n",
              "      <th></th>\n",
              "      <th>employment_type</th>\n",
              "      <th>salary_in_usd</th>\n",
              "    </tr>\n",
              "  </thead>\n",
              "  <tbody>\n",
              "    <tr>\n",
              "      <th>0</th>\n",
              "      <td>Contract</td>\n",
              "      <td>75000.0</td>\n",
              "    </tr>\n",
              "    <tr>\n",
              "      <th>1</th>\n",
              "      <td>Freelancer</td>\n",
              "      <td>50000.0</td>\n",
              "    </tr>\n",
              "    <tr>\n",
              "      <th>2</th>\n",
              "      <td>Full-time</td>\n",
              "      <td>135000.0</td>\n",
              "    </tr>\n",
              "    <tr>\n",
              "      <th>3</th>\n",
              "      <td>Part-time</td>\n",
              "      <td>21669.0</td>\n",
              "    </tr>\n",
              "  </tbody>\n",
              "</table>\n",
              "</div>\n",
              "      <button class=\"colab-df-convert\" onclick=\"convertToInteractive('df-6ea8608d-df2b-475a-851e-ed0a1992b610')\"\n",
              "              title=\"Convert this dataframe to an interactive table.\"\n",
              "              style=\"display:none;\">\n",
              "        \n",
              "  <svg xmlns=\"http://www.w3.org/2000/svg\" height=\"24px\"viewBox=\"0 0 24 24\"\n",
              "       width=\"24px\">\n",
              "    <path d=\"M0 0h24v24H0V0z\" fill=\"none\"/>\n",
              "    <path d=\"M18.56 5.44l.94 2.06.94-2.06 2.06-.94-2.06-.94-.94-2.06-.94 2.06-2.06.94zm-11 1L8.5 8.5l.94-2.06 2.06-.94-2.06-.94L8.5 2.5l-.94 2.06-2.06.94zm10 10l.94 2.06.94-2.06 2.06-.94-2.06-.94-.94-2.06-.94 2.06-2.06.94z\"/><path d=\"M17.41 7.96l-1.37-1.37c-.4-.4-.92-.59-1.43-.59-.52 0-1.04.2-1.43.59L10.3 9.45l-7.72 7.72c-.78.78-.78 2.05 0 2.83L4 21.41c.39.39.9.59 1.41.59.51 0 1.02-.2 1.41-.59l7.78-7.78 2.81-2.81c.8-.78.8-2.07 0-2.86zM5.41 20L4 18.59l7.72-7.72 1.47 1.35L5.41 20z\"/>\n",
              "  </svg>\n",
              "      </button>\n",
              "      \n",
              "  <style>\n",
              "    .colab-df-container {\n",
              "      display:flex;\n",
              "      flex-wrap:wrap;\n",
              "      gap: 12px;\n",
              "    }\n",
              "\n",
              "    .colab-df-convert {\n",
              "      background-color: #E8F0FE;\n",
              "      border: none;\n",
              "      border-radius: 50%;\n",
              "      cursor: pointer;\n",
              "      display: none;\n",
              "      fill: #1967D2;\n",
              "      height: 32px;\n",
              "      padding: 0 0 0 0;\n",
              "      width: 32px;\n",
              "    }\n",
              "\n",
              "    .colab-df-convert:hover {\n",
              "      background-color: #E2EBFA;\n",
              "      box-shadow: 0px 1px 2px rgba(60, 64, 67, 0.3), 0px 1px 3px 1px rgba(60, 64, 67, 0.15);\n",
              "      fill: #174EA6;\n",
              "    }\n",
              "\n",
              "    [theme=dark] .colab-df-convert {\n",
              "      background-color: #3B4455;\n",
              "      fill: #D2E3FC;\n",
              "    }\n",
              "\n",
              "    [theme=dark] .colab-df-convert:hover {\n",
              "      background-color: #434B5C;\n",
              "      box-shadow: 0px 1px 3px 1px rgba(0, 0, 0, 0.15);\n",
              "      filter: drop-shadow(0px 1px 2px rgba(0, 0, 0, 0.3));\n",
              "      fill: #FFFFFF;\n",
              "    }\n",
              "  </style>\n",
              "\n",
              "      <script>\n",
              "        const buttonEl =\n",
              "          document.querySelector('#df-6ea8608d-df2b-475a-851e-ed0a1992b610 button.colab-df-convert');\n",
              "        buttonEl.style.display =\n",
              "          google.colab.kernel.accessAllowed ? 'block' : 'none';\n",
              "\n",
              "        async function convertToInteractive(key) {\n",
              "          const element = document.querySelector('#df-6ea8608d-df2b-475a-851e-ed0a1992b610');\n",
              "          const dataTable =\n",
              "            await google.colab.kernel.invokeFunction('convertToInteractive',\n",
              "                                                     [key], {});\n",
              "          if (!dataTable) return;\n",
              "\n",
              "          const docLinkHtml = 'Like what you see? Visit the ' +\n",
              "            '<a target=\"_blank\" href=https://colab.research.google.com/notebooks/data_table.ipynb>data table notebook</a>'\n",
              "            + ' to learn more about interactive tables.';\n",
              "          element.innerHTML = '';\n",
              "          dataTable['output_type'] = 'display_data';\n",
              "          await google.colab.output.renderOutput(dataTable, element);\n",
              "          const docLink = document.createElement('div');\n",
              "          docLink.innerHTML = docLinkHtml;\n",
              "          element.appendChild(docLink);\n",
              "        }\n",
              "      </script>\n",
              "    </div>\n",
              "  </div>\n",
              "  "
            ]
          },
          "metadata": {},
          "execution_count": 236
        }
      ]
    },
    {
      "cell_type": "code",
      "source": [
        "px.bar(xdf,x='employment_type',y='salary_in_usd')"
      ],
      "metadata": {
        "colab": {
          "base_uri": "https://localhost:8080/",
          "height": 542
        },
        "id": "swhEFZs_hWl5",
        "outputId": "fca92895-8044-42c9-f698-8a1a3b0faadb"
      },
      "execution_count": null,
      "outputs": [
        {
          "output_type": "display_data",
          "data": {
            "text/html": [
              "<html>\n",
              "<head><meta charset=\"utf-8\" /></head>\n",
              "<body>\n",
              "    <div>            <script src=\"https://cdnjs.cloudflare.com/ajax/libs/mathjax/2.7.5/MathJax.js?config=TeX-AMS-MML_SVG\"></script><script type=\"text/javascript\">if (window.MathJax && window.MathJax.Hub && window.MathJax.Hub.Config) {window.MathJax.Hub.Config({SVG: {font: \"STIX-Web\"}});}</script>                <script type=\"text/javascript\">window.PlotlyConfig = {MathJaxConfig: 'local'};</script>\n",
              "        <script src=\"https://cdn.plot.ly/plotly-2.18.2.min.js\"></script>                <div id=\"3aa745c5-6ae4-41d6-b788-cffecac44aa3\" class=\"plotly-graph-div\" style=\"height:525px; width:100%;\"></div>            <script type=\"text/javascript\">                                    window.PLOTLYENV=window.PLOTLYENV || {};                                    if (document.getElementById(\"3aa745c5-6ae4-41d6-b788-cffecac44aa3\")) {                    Plotly.newPlot(                        \"3aa745c5-6ae4-41d6-b788-cffecac44aa3\",                        [{\"alignmentgroup\":\"True\",\"hovertemplate\":\"employment_type=%{x}<br>salary_in_usd=%{y}<extra></extra>\",\"legendgroup\":\"\",\"marker\":{\"color\":\"#636efa\",\"pattern\":{\"shape\":\"\"}},\"name\":\"\",\"offsetgroup\":\"\",\"orientation\":\"v\",\"showlegend\":false,\"textposition\":\"auto\",\"x\":[\"Contract\",\"Freelancer\",\"Full-time\",\"Part-time\"],\"xaxis\":\"x\",\"y\":[75000.0,50000.0,135000.0,21669.0],\"yaxis\":\"y\",\"type\":\"bar\"}],                        {\"template\":{\"data\":{\"histogram2dcontour\":[{\"type\":\"histogram2dcontour\",\"colorbar\":{\"outlinewidth\":0,\"ticks\":\"\"},\"colorscale\":[[0.0,\"#0d0887\"],[0.1111111111111111,\"#46039f\"],[0.2222222222222222,\"#7201a8\"],[0.3333333333333333,\"#9c179e\"],[0.4444444444444444,\"#bd3786\"],[0.5555555555555556,\"#d8576b\"],[0.6666666666666666,\"#ed7953\"],[0.7777777777777778,\"#fb9f3a\"],[0.8888888888888888,\"#fdca26\"],[1.0,\"#f0f921\"]]}],\"choropleth\":[{\"type\":\"choropleth\",\"colorbar\":{\"outlinewidth\":0,\"ticks\":\"\"}}],\"histogram2d\":[{\"type\":\"histogram2d\",\"colorbar\":{\"outlinewidth\":0,\"ticks\":\"\"},\"colorscale\":[[0.0,\"#0d0887\"],[0.1111111111111111,\"#46039f\"],[0.2222222222222222,\"#7201a8\"],[0.3333333333333333,\"#9c179e\"],[0.4444444444444444,\"#bd3786\"],[0.5555555555555556,\"#d8576b\"],[0.6666666666666666,\"#ed7953\"],[0.7777777777777778,\"#fb9f3a\"],[0.8888888888888888,\"#fdca26\"],[1.0,\"#f0f921\"]]}],\"heatmap\":[{\"type\":\"heatmap\",\"colorbar\":{\"outlinewidth\":0,\"ticks\":\"\"},\"colorscale\":[[0.0,\"#0d0887\"],[0.1111111111111111,\"#46039f\"],[0.2222222222222222,\"#7201a8\"],[0.3333333333333333,\"#9c179e\"],[0.4444444444444444,\"#bd3786\"],[0.5555555555555556,\"#d8576b\"],[0.6666666666666666,\"#ed7953\"],[0.7777777777777778,\"#fb9f3a\"],[0.8888888888888888,\"#fdca26\"],[1.0,\"#f0f921\"]]}],\"heatmapgl\":[{\"type\":\"heatmapgl\",\"colorbar\":{\"outlinewidth\":0,\"ticks\":\"\"},\"colorscale\":[[0.0,\"#0d0887\"],[0.1111111111111111,\"#46039f\"],[0.2222222222222222,\"#7201a8\"],[0.3333333333333333,\"#9c179e\"],[0.4444444444444444,\"#bd3786\"],[0.5555555555555556,\"#d8576b\"],[0.6666666666666666,\"#ed7953\"],[0.7777777777777778,\"#fb9f3a\"],[0.8888888888888888,\"#fdca26\"],[1.0,\"#f0f921\"]]}],\"contourcarpet\":[{\"type\":\"contourcarpet\",\"colorbar\":{\"outlinewidth\":0,\"ticks\":\"\"}}],\"contour\":[{\"type\":\"contour\",\"colorbar\":{\"outlinewidth\":0,\"ticks\":\"\"},\"colorscale\":[[0.0,\"#0d0887\"],[0.1111111111111111,\"#46039f\"],[0.2222222222222222,\"#7201a8\"],[0.3333333333333333,\"#9c179e\"],[0.4444444444444444,\"#bd3786\"],[0.5555555555555556,\"#d8576b\"],[0.6666666666666666,\"#ed7953\"],[0.7777777777777778,\"#fb9f3a\"],[0.8888888888888888,\"#fdca26\"],[1.0,\"#f0f921\"]]}],\"surface\":[{\"type\":\"surface\",\"colorbar\":{\"outlinewidth\":0,\"ticks\":\"\"},\"colorscale\":[[0.0,\"#0d0887\"],[0.1111111111111111,\"#46039f\"],[0.2222222222222222,\"#7201a8\"],[0.3333333333333333,\"#9c179e\"],[0.4444444444444444,\"#bd3786\"],[0.5555555555555556,\"#d8576b\"],[0.6666666666666666,\"#ed7953\"],[0.7777777777777778,\"#fb9f3a\"],[0.8888888888888888,\"#fdca26\"],[1.0,\"#f0f921\"]]}],\"mesh3d\":[{\"type\":\"mesh3d\",\"colorbar\":{\"outlinewidth\":0,\"ticks\":\"\"}}],\"scatter\":[{\"fillpattern\":{\"fillmode\":\"overlay\",\"size\":10,\"solidity\":0.2},\"type\":\"scatter\"}],\"parcoords\":[{\"type\":\"parcoords\",\"line\":{\"colorbar\":{\"outlinewidth\":0,\"ticks\":\"\"}}}],\"scatterpolargl\":[{\"type\":\"scatterpolargl\",\"marker\":{\"colorbar\":{\"outlinewidth\":0,\"ticks\":\"\"}}}],\"bar\":[{\"error_x\":{\"color\":\"#2a3f5f\"},\"error_y\":{\"color\":\"#2a3f5f\"},\"marker\":{\"line\":{\"color\":\"#E5ECF6\",\"width\":0.5},\"pattern\":{\"fillmode\":\"overlay\",\"size\":10,\"solidity\":0.2}},\"type\":\"bar\"}],\"scattergeo\":[{\"type\":\"scattergeo\",\"marker\":{\"colorbar\":{\"outlinewidth\":0,\"ticks\":\"\"}}}],\"scatterpolar\":[{\"type\":\"scatterpolar\",\"marker\":{\"colorbar\":{\"outlinewidth\":0,\"ticks\":\"\"}}}],\"histogram\":[{\"marker\":{\"pattern\":{\"fillmode\":\"overlay\",\"size\":10,\"solidity\":0.2}},\"type\":\"histogram\"}],\"scattergl\":[{\"type\":\"scattergl\",\"marker\":{\"colorbar\":{\"outlinewidth\":0,\"ticks\":\"\"}}}],\"scatter3d\":[{\"type\":\"scatter3d\",\"line\":{\"colorbar\":{\"outlinewidth\":0,\"ticks\":\"\"}},\"marker\":{\"colorbar\":{\"outlinewidth\":0,\"ticks\":\"\"}}}],\"scattermapbox\":[{\"type\":\"scattermapbox\",\"marker\":{\"colorbar\":{\"outlinewidth\":0,\"ticks\":\"\"}}}],\"scatterternary\":[{\"type\":\"scatterternary\",\"marker\":{\"colorbar\":{\"outlinewidth\":0,\"ticks\":\"\"}}}],\"scattercarpet\":[{\"type\":\"scattercarpet\",\"marker\":{\"colorbar\":{\"outlinewidth\":0,\"ticks\":\"\"}}}],\"carpet\":[{\"aaxis\":{\"endlinecolor\":\"#2a3f5f\",\"gridcolor\":\"white\",\"linecolor\":\"white\",\"minorgridcolor\":\"white\",\"startlinecolor\":\"#2a3f5f\"},\"baxis\":{\"endlinecolor\":\"#2a3f5f\",\"gridcolor\":\"white\",\"linecolor\":\"white\",\"minorgridcolor\":\"white\",\"startlinecolor\":\"#2a3f5f\"},\"type\":\"carpet\"}],\"table\":[{\"cells\":{\"fill\":{\"color\":\"#EBF0F8\"},\"line\":{\"color\":\"white\"}},\"header\":{\"fill\":{\"color\":\"#C8D4E3\"},\"line\":{\"color\":\"white\"}},\"type\":\"table\"}],\"barpolar\":[{\"marker\":{\"line\":{\"color\":\"#E5ECF6\",\"width\":0.5},\"pattern\":{\"fillmode\":\"overlay\",\"size\":10,\"solidity\":0.2}},\"type\":\"barpolar\"}],\"pie\":[{\"automargin\":true,\"type\":\"pie\"}]},\"layout\":{\"autotypenumbers\":\"strict\",\"colorway\":[\"#636efa\",\"#EF553B\",\"#00cc96\",\"#ab63fa\",\"#FFA15A\",\"#19d3f3\",\"#FF6692\",\"#B6E880\",\"#FF97FF\",\"#FECB52\"],\"font\":{\"color\":\"#2a3f5f\"},\"hovermode\":\"closest\",\"hoverlabel\":{\"align\":\"left\"},\"paper_bgcolor\":\"white\",\"plot_bgcolor\":\"#E5ECF6\",\"polar\":{\"bgcolor\":\"#E5ECF6\",\"angularaxis\":{\"gridcolor\":\"white\",\"linecolor\":\"white\",\"ticks\":\"\"},\"radialaxis\":{\"gridcolor\":\"white\",\"linecolor\":\"white\",\"ticks\":\"\"}},\"ternary\":{\"bgcolor\":\"#E5ECF6\",\"aaxis\":{\"gridcolor\":\"white\",\"linecolor\":\"white\",\"ticks\":\"\"},\"baxis\":{\"gridcolor\":\"white\",\"linecolor\":\"white\",\"ticks\":\"\"},\"caxis\":{\"gridcolor\":\"white\",\"linecolor\":\"white\",\"ticks\":\"\"}},\"coloraxis\":{\"colorbar\":{\"outlinewidth\":0,\"ticks\":\"\"}},\"colorscale\":{\"sequential\":[[0.0,\"#0d0887\"],[0.1111111111111111,\"#46039f\"],[0.2222222222222222,\"#7201a8\"],[0.3333333333333333,\"#9c179e\"],[0.4444444444444444,\"#bd3786\"],[0.5555555555555556,\"#d8576b\"],[0.6666666666666666,\"#ed7953\"],[0.7777777777777778,\"#fb9f3a\"],[0.8888888888888888,\"#fdca26\"],[1.0,\"#f0f921\"]],\"sequentialminus\":[[0.0,\"#0d0887\"],[0.1111111111111111,\"#46039f\"],[0.2222222222222222,\"#7201a8\"],[0.3333333333333333,\"#9c179e\"],[0.4444444444444444,\"#bd3786\"],[0.5555555555555556,\"#d8576b\"],[0.6666666666666666,\"#ed7953\"],[0.7777777777777778,\"#fb9f3a\"],[0.8888888888888888,\"#fdca26\"],[1.0,\"#f0f921\"]],\"diverging\":[[0,\"#8e0152\"],[0.1,\"#c51b7d\"],[0.2,\"#de77ae\"],[0.3,\"#f1b6da\"],[0.4,\"#fde0ef\"],[0.5,\"#f7f7f7\"],[0.6,\"#e6f5d0\"],[0.7,\"#b8e186\"],[0.8,\"#7fbc41\"],[0.9,\"#4d9221\"],[1,\"#276419\"]]},\"xaxis\":{\"gridcolor\":\"white\",\"linecolor\":\"white\",\"ticks\":\"\",\"title\":{\"standoff\":15},\"zerolinecolor\":\"white\",\"automargin\":true,\"zerolinewidth\":2},\"yaxis\":{\"gridcolor\":\"white\",\"linecolor\":\"white\",\"ticks\":\"\",\"title\":{\"standoff\":15},\"zerolinecolor\":\"white\",\"automargin\":true,\"zerolinewidth\":2},\"scene\":{\"xaxis\":{\"backgroundcolor\":\"#E5ECF6\",\"gridcolor\":\"white\",\"linecolor\":\"white\",\"showbackground\":true,\"ticks\":\"\",\"zerolinecolor\":\"white\",\"gridwidth\":2},\"yaxis\":{\"backgroundcolor\":\"#E5ECF6\",\"gridcolor\":\"white\",\"linecolor\":\"white\",\"showbackground\":true,\"ticks\":\"\",\"zerolinecolor\":\"white\",\"gridwidth\":2},\"zaxis\":{\"backgroundcolor\":\"#E5ECF6\",\"gridcolor\":\"white\",\"linecolor\":\"white\",\"showbackground\":true,\"ticks\":\"\",\"zerolinecolor\":\"white\",\"gridwidth\":2}},\"shapedefaults\":{\"line\":{\"color\":\"#2a3f5f\"}},\"annotationdefaults\":{\"arrowcolor\":\"#2a3f5f\",\"arrowhead\":0,\"arrowwidth\":1},\"geo\":{\"bgcolor\":\"white\",\"landcolor\":\"#E5ECF6\",\"subunitcolor\":\"white\",\"showland\":true,\"showlakes\":true,\"lakecolor\":\"white\"},\"title\":{\"x\":0.05},\"mapbox\":{\"style\":\"light\"}}},\"xaxis\":{\"anchor\":\"y\",\"domain\":[0.0,1.0],\"title\":{\"text\":\"employment_type\"}},\"yaxis\":{\"anchor\":\"x\",\"domain\":[0.0,1.0],\"title\":{\"text\":\"salary_in_usd\"}},\"legend\":{\"tracegroupgap\":0},\"margin\":{\"t\":60},\"barmode\":\"relative\"},                        {\"responsive\": true}                    ).then(function(){\n",
              "                            \n",
              "var gd = document.getElementById('3aa745c5-6ae4-41d6-b788-cffecac44aa3');\n",
              "var x = new MutationObserver(function (mutations, observer) {{\n",
              "        var display = window.getComputedStyle(gd).display;\n",
              "        if (!display || display === 'none') {{\n",
              "            console.log([gd, 'removed!']);\n",
              "            Plotly.purge(gd);\n",
              "            observer.disconnect();\n",
              "        }}\n",
              "}});\n",
              "\n",
              "// Listen for the removal of the full notebook cells\n",
              "var notebookContainer = gd.closest('#notebook-container');\n",
              "if (notebookContainer) {{\n",
              "    x.observe(notebookContainer, {childList: true});\n",
              "}}\n",
              "\n",
              "// Listen for the clearing of the current output cell\n",
              "var outputEl = gd.closest('.output');\n",
              "if (outputEl) {{\n",
              "    x.observe(outputEl, {childList: true});\n",
              "}}\n",
              "\n",
              "                        })                };                            </script>        </div>\n",
              "</body>\n",
              "</html>"
            ]
          },
          "metadata": {}
        }
      ]
    },
    {
      "cell_type": "markdown",
      "source": [
        "Full-time employees earn higher salaries compared to any other employment type.\n",
        "\n",
        "15. What is the median salary offered to employees from each country?"
      ],
      "metadata": {
        "id": "dw0OTjvfhipr"
      }
    },
    {
      "cell_type": "code",
      "source": [
        "xdf = df.groupby('employee_residence')['salary_in_usd'].median().sort_values(ascending=False)\n",
        "xdf.head()"
      ],
      "metadata": {
        "colab": {
          "base_uri": "https://localhost:8080/"
        },
        "id": "yt9-7pnrh5VC",
        "outputId": "8519228f-e215-4395-a035-211df96d9a5a"
      },
      "execution_count": null,
      "outputs": [
        {
          "output_type": "execute_result",
          "data": {
            "text/plain": [
              "employee_residence\n",
              "ISR    423834.0\n",
              "MYS    200000.0\n",
              "PRI    160000.0\n",
              "USA    145000.0\n",
              "CHN    125404.0\n",
              "Name: salary_in_usd, dtype: float64"
            ]
          },
          "metadata": {},
          "execution_count": 238
        }
      ]
    },
    {
      "cell_type": "code",
      "source": [
        "fig = px.choropleth(locations = xdf.index, color = xdf, title = 'Salary offered by Each Country to an Employee')\n",
        "fig.show()"
      ],
      "metadata": {
        "colab": {
          "base_uri": "https://localhost:8080/",
          "height": 542
        },
        "id": "9yk3_aMmiC3u",
        "outputId": "df53760a-0dcd-4a03-a7b0-5478c43b5cee"
      },
      "execution_count": null,
      "outputs": [
        {
          "output_type": "display_data",
          "data": {
            "text/html": [
              "<html>\n",
              "<head><meta charset=\"utf-8\" /></head>\n",
              "<body>\n",
              "    <div>            <script src=\"https://cdnjs.cloudflare.com/ajax/libs/mathjax/2.7.5/MathJax.js?config=TeX-AMS-MML_SVG\"></script><script type=\"text/javascript\">if (window.MathJax && window.MathJax.Hub && window.MathJax.Hub.Config) {window.MathJax.Hub.Config({SVG: {font: \"STIX-Web\"}});}</script>                <script type=\"text/javascript\">window.PlotlyConfig = {MathJaxConfig: 'local'};</script>\n",
              "        <script src=\"https://cdn.plot.ly/plotly-2.18.2.min.js\"></script>                <div id=\"bd77fe84-f76e-4d2e-b426-0fd21db3060a\" class=\"plotly-graph-div\" style=\"height:525px; width:100%;\"></div>            <script type=\"text/javascript\">                                    window.PLOTLYENV=window.PLOTLYENV || {};                                    if (document.getElementById(\"bd77fe84-f76e-4d2e-b426-0fd21db3060a\")) {                    Plotly.newPlot(                        \"bd77fe84-f76e-4d2e-b426-0fd21db3060a\",                        [{\"coloraxis\":\"coloraxis\",\"geo\":\"geo\",\"hovertemplate\":\"locations=%{location}<br>color=%{z}<extra></extra>\",\"locations\":[\"ISR\",\"MYS\",\"PRI\",\"USA\",\"CHN\",\"NZL\",\"BIH\",\"CAN\",\"ARE\",\"CHE\",\"DOM\",\"SWE\",\"UZB\",\"IRL\",\"JEY\",\"IRQ\",\"DZA\",\"IRN\",\"LTU\",\"BEL\",\"GBR\",\"BGR\",\"DEU\",\"AUS\",\"SGP\",\"BOL\",\"JPN\",\"NLD\",\"HRV\",\"CHL\",\"RUS\",\"FIN\",\"AUT\",\"MEX\",\"HKG\",\"CYP\",\"SVN\",\"LUX\",\"FRA\",\"LVA\",\"COL\",\"UKR\",\"ROU\",\"PRT\",\"GRC\",\"ARM\",\"KWT\",\"NGA\",\"CAF\",\"PHL\",\"ESP\",\"BRA\",\"KEN\",\"ARG\",\"POL\",\"VNM\",\"CZE\",\"HUN\",\"ITA\",\"ASM\",\"EST\",\"TUN\",\"PAK\",\"DNK\",\"MLT\",\"SRB\",\"THA\",\"EGY\",\"IND\",\"TUR\",\"HND\",\"CRI\",\"GHA\",\"MDA\",\"IDN\",\"SVK\",\"MAR\",\"MKD\"],\"name\":\"\",\"z\":[423834.0,200000.0,160000.0,145000.0,125404.0,125000.0,120000.0,120000.0,115000.0,112549.5,110000.0,105000.0,103000.0,101943.0,100000.0,100000.0,100000.0,100000.0,94812.0,82744.0,80036.0,80000.0,76833.0,75050.0,75020.0,75000.0,74000.0,73546.0,72914.0,72519.0,72500.0,69030.0,68059.5,66000.0,65542.0,63312.0,61702.5,59102.0,58969.5,57946.5,56500.0,55000.0,53654.0,52932.5,52533.0,50000.0,50000.0,50000.0,48609.0,47880.0,47281.0,45000.0,44636.0,39000.0,38987.0,38400.0,37565.5,35735.0,33836.0,32777.5,31520.0,30469.0,30000.0,28609.0,28369.0,25532.0,24740.0,22800.0,20670.0,20171.0,20000.0,20000.0,18500.0,18000.0,15000.0,12608.0,10000.0,6304.0],\"type\":\"choropleth\"}],                        {\"template\":{\"data\":{\"histogram2dcontour\":[{\"type\":\"histogram2dcontour\",\"colorbar\":{\"outlinewidth\":0,\"ticks\":\"\"},\"colorscale\":[[0.0,\"#0d0887\"],[0.1111111111111111,\"#46039f\"],[0.2222222222222222,\"#7201a8\"],[0.3333333333333333,\"#9c179e\"],[0.4444444444444444,\"#bd3786\"],[0.5555555555555556,\"#d8576b\"],[0.6666666666666666,\"#ed7953\"],[0.7777777777777778,\"#fb9f3a\"],[0.8888888888888888,\"#fdca26\"],[1.0,\"#f0f921\"]]}],\"choropleth\":[{\"type\":\"choropleth\",\"colorbar\":{\"outlinewidth\":0,\"ticks\":\"\"}}],\"histogram2d\":[{\"type\":\"histogram2d\",\"colorbar\":{\"outlinewidth\":0,\"ticks\":\"\"},\"colorscale\":[[0.0,\"#0d0887\"],[0.1111111111111111,\"#46039f\"],[0.2222222222222222,\"#7201a8\"],[0.3333333333333333,\"#9c179e\"],[0.4444444444444444,\"#bd3786\"],[0.5555555555555556,\"#d8576b\"],[0.6666666666666666,\"#ed7953\"],[0.7777777777777778,\"#fb9f3a\"],[0.8888888888888888,\"#fdca26\"],[1.0,\"#f0f921\"]]}],\"heatmap\":[{\"type\":\"heatmap\",\"colorbar\":{\"outlinewidth\":0,\"ticks\":\"\"},\"colorscale\":[[0.0,\"#0d0887\"],[0.1111111111111111,\"#46039f\"],[0.2222222222222222,\"#7201a8\"],[0.3333333333333333,\"#9c179e\"],[0.4444444444444444,\"#bd3786\"],[0.5555555555555556,\"#d8576b\"],[0.6666666666666666,\"#ed7953\"],[0.7777777777777778,\"#fb9f3a\"],[0.8888888888888888,\"#fdca26\"],[1.0,\"#f0f921\"]]}],\"heatmapgl\":[{\"type\":\"heatmapgl\",\"colorbar\":{\"outlinewidth\":0,\"ticks\":\"\"},\"colorscale\":[[0.0,\"#0d0887\"],[0.1111111111111111,\"#46039f\"],[0.2222222222222222,\"#7201a8\"],[0.3333333333333333,\"#9c179e\"],[0.4444444444444444,\"#bd3786\"],[0.5555555555555556,\"#d8576b\"],[0.6666666666666666,\"#ed7953\"],[0.7777777777777778,\"#fb9f3a\"],[0.8888888888888888,\"#fdca26\"],[1.0,\"#f0f921\"]]}],\"contourcarpet\":[{\"type\":\"contourcarpet\",\"colorbar\":{\"outlinewidth\":0,\"ticks\":\"\"}}],\"contour\":[{\"type\":\"contour\",\"colorbar\":{\"outlinewidth\":0,\"ticks\":\"\"},\"colorscale\":[[0.0,\"#0d0887\"],[0.1111111111111111,\"#46039f\"],[0.2222222222222222,\"#7201a8\"],[0.3333333333333333,\"#9c179e\"],[0.4444444444444444,\"#bd3786\"],[0.5555555555555556,\"#d8576b\"],[0.6666666666666666,\"#ed7953\"],[0.7777777777777778,\"#fb9f3a\"],[0.8888888888888888,\"#fdca26\"],[1.0,\"#f0f921\"]]}],\"surface\":[{\"type\":\"surface\",\"colorbar\":{\"outlinewidth\":0,\"ticks\":\"\"},\"colorscale\":[[0.0,\"#0d0887\"],[0.1111111111111111,\"#46039f\"],[0.2222222222222222,\"#7201a8\"],[0.3333333333333333,\"#9c179e\"],[0.4444444444444444,\"#bd3786\"],[0.5555555555555556,\"#d8576b\"],[0.6666666666666666,\"#ed7953\"],[0.7777777777777778,\"#fb9f3a\"],[0.8888888888888888,\"#fdca26\"],[1.0,\"#f0f921\"]]}],\"mesh3d\":[{\"type\":\"mesh3d\",\"colorbar\":{\"outlinewidth\":0,\"ticks\":\"\"}}],\"scatter\":[{\"fillpattern\":{\"fillmode\":\"overlay\",\"size\":10,\"solidity\":0.2},\"type\":\"scatter\"}],\"parcoords\":[{\"type\":\"parcoords\",\"line\":{\"colorbar\":{\"outlinewidth\":0,\"ticks\":\"\"}}}],\"scatterpolargl\":[{\"type\":\"scatterpolargl\",\"marker\":{\"colorbar\":{\"outlinewidth\":0,\"ticks\":\"\"}}}],\"bar\":[{\"error_x\":{\"color\":\"#2a3f5f\"},\"error_y\":{\"color\":\"#2a3f5f\"},\"marker\":{\"line\":{\"color\":\"#E5ECF6\",\"width\":0.5},\"pattern\":{\"fillmode\":\"overlay\",\"size\":10,\"solidity\":0.2}},\"type\":\"bar\"}],\"scattergeo\":[{\"type\":\"scattergeo\",\"marker\":{\"colorbar\":{\"outlinewidth\":0,\"ticks\":\"\"}}}],\"scatterpolar\":[{\"type\":\"scatterpolar\",\"marker\":{\"colorbar\":{\"outlinewidth\":0,\"ticks\":\"\"}}}],\"histogram\":[{\"marker\":{\"pattern\":{\"fillmode\":\"overlay\",\"size\":10,\"solidity\":0.2}},\"type\":\"histogram\"}],\"scattergl\":[{\"type\":\"scattergl\",\"marker\":{\"colorbar\":{\"outlinewidth\":0,\"ticks\":\"\"}}}],\"scatter3d\":[{\"type\":\"scatter3d\",\"line\":{\"colorbar\":{\"outlinewidth\":0,\"ticks\":\"\"}},\"marker\":{\"colorbar\":{\"outlinewidth\":0,\"ticks\":\"\"}}}],\"scattermapbox\":[{\"type\":\"scattermapbox\",\"marker\":{\"colorbar\":{\"outlinewidth\":0,\"ticks\":\"\"}}}],\"scatterternary\":[{\"type\":\"scatterternary\",\"marker\":{\"colorbar\":{\"outlinewidth\":0,\"ticks\":\"\"}}}],\"scattercarpet\":[{\"type\":\"scattercarpet\",\"marker\":{\"colorbar\":{\"outlinewidth\":0,\"ticks\":\"\"}}}],\"carpet\":[{\"aaxis\":{\"endlinecolor\":\"#2a3f5f\",\"gridcolor\":\"white\",\"linecolor\":\"white\",\"minorgridcolor\":\"white\",\"startlinecolor\":\"#2a3f5f\"},\"baxis\":{\"endlinecolor\":\"#2a3f5f\",\"gridcolor\":\"white\",\"linecolor\":\"white\",\"minorgridcolor\":\"white\",\"startlinecolor\":\"#2a3f5f\"},\"type\":\"carpet\"}],\"table\":[{\"cells\":{\"fill\":{\"color\":\"#EBF0F8\"},\"line\":{\"color\":\"white\"}},\"header\":{\"fill\":{\"color\":\"#C8D4E3\"},\"line\":{\"color\":\"white\"}},\"type\":\"table\"}],\"barpolar\":[{\"marker\":{\"line\":{\"color\":\"#E5ECF6\",\"width\":0.5},\"pattern\":{\"fillmode\":\"overlay\",\"size\":10,\"solidity\":0.2}},\"type\":\"barpolar\"}],\"pie\":[{\"automargin\":true,\"type\":\"pie\"}]},\"layout\":{\"autotypenumbers\":\"strict\",\"colorway\":[\"#636efa\",\"#EF553B\",\"#00cc96\",\"#ab63fa\",\"#FFA15A\",\"#19d3f3\",\"#FF6692\",\"#B6E880\",\"#FF97FF\",\"#FECB52\"],\"font\":{\"color\":\"#2a3f5f\"},\"hovermode\":\"closest\",\"hoverlabel\":{\"align\":\"left\"},\"paper_bgcolor\":\"white\",\"plot_bgcolor\":\"#E5ECF6\",\"polar\":{\"bgcolor\":\"#E5ECF6\",\"angularaxis\":{\"gridcolor\":\"white\",\"linecolor\":\"white\",\"ticks\":\"\"},\"radialaxis\":{\"gridcolor\":\"white\",\"linecolor\":\"white\",\"ticks\":\"\"}},\"ternary\":{\"bgcolor\":\"#E5ECF6\",\"aaxis\":{\"gridcolor\":\"white\",\"linecolor\":\"white\",\"ticks\":\"\"},\"baxis\":{\"gridcolor\":\"white\",\"linecolor\":\"white\",\"ticks\":\"\"},\"caxis\":{\"gridcolor\":\"white\",\"linecolor\":\"white\",\"ticks\":\"\"}},\"coloraxis\":{\"colorbar\":{\"outlinewidth\":0,\"ticks\":\"\"}},\"colorscale\":{\"sequential\":[[0.0,\"#0d0887\"],[0.1111111111111111,\"#46039f\"],[0.2222222222222222,\"#7201a8\"],[0.3333333333333333,\"#9c179e\"],[0.4444444444444444,\"#bd3786\"],[0.5555555555555556,\"#d8576b\"],[0.6666666666666666,\"#ed7953\"],[0.7777777777777778,\"#fb9f3a\"],[0.8888888888888888,\"#fdca26\"],[1.0,\"#f0f921\"]],\"sequentialminus\":[[0.0,\"#0d0887\"],[0.1111111111111111,\"#46039f\"],[0.2222222222222222,\"#7201a8\"],[0.3333333333333333,\"#9c179e\"],[0.4444444444444444,\"#bd3786\"],[0.5555555555555556,\"#d8576b\"],[0.6666666666666666,\"#ed7953\"],[0.7777777777777778,\"#fb9f3a\"],[0.8888888888888888,\"#fdca26\"],[1.0,\"#f0f921\"]],\"diverging\":[[0,\"#8e0152\"],[0.1,\"#c51b7d\"],[0.2,\"#de77ae\"],[0.3,\"#f1b6da\"],[0.4,\"#fde0ef\"],[0.5,\"#f7f7f7\"],[0.6,\"#e6f5d0\"],[0.7,\"#b8e186\"],[0.8,\"#7fbc41\"],[0.9,\"#4d9221\"],[1,\"#276419\"]]},\"xaxis\":{\"gridcolor\":\"white\",\"linecolor\":\"white\",\"ticks\":\"\",\"title\":{\"standoff\":15},\"zerolinecolor\":\"white\",\"automargin\":true,\"zerolinewidth\":2},\"yaxis\":{\"gridcolor\":\"white\",\"linecolor\":\"white\",\"ticks\":\"\",\"title\":{\"standoff\":15},\"zerolinecolor\":\"white\",\"automargin\":true,\"zerolinewidth\":2},\"scene\":{\"xaxis\":{\"backgroundcolor\":\"#E5ECF6\",\"gridcolor\":\"white\",\"linecolor\":\"white\",\"showbackground\":true,\"ticks\":\"\",\"zerolinecolor\":\"white\",\"gridwidth\":2},\"yaxis\":{\"backgroundcolor\":\"#E5ECF6\",\"gridcolor\":\"white\",\"linecolor\":\"white\",\"showbackground\":true,\"ticks\":\"\",\"zerolinecolor\":\"white\",\"gridwidth\":2},\"zaxis\":{\"backgroundcolor\":\"#E5ECF6\",\"gridcolor\":\"white\",\"linecolor\":\"white\",\"showbackground\":true,\"ticks\":\"\",\"zerolinecolor\":\"white\",\"gridwidth\":2}},\"shapedefaults\":{\"line\":{\"color\":\"#2a3f5f\"}},\"annotationdefaults\":{\"arrowcolor\":\"#2a3f5f\",\"arrowhead\":0,\"arrowwidth\":1},\"geo\":{\"bgcolor\":\"white\",\"landcolor\":\"#E5ECF6\",\"subunitcolor\":\"white\",\"showland\":true,\"showlakes\":true,\"lakecolor\":\"white\"},\"title\":{\"x\":0.05},\"mapbox\":{\"style\":\"light\"}}},\"geo\":{\"domain\":{\"x\":[0.0,1.0],\"y\":[0.0,1.0]},\"center\":{}},\"coloraxis\":{\"colorbar\":{\"title\":{\"text\":\"color\"}},\"colorscale\":[[0.0,\"#0d0887\"],[0.1111111111111111,\"#46039f\"],[0.2222222222222222,\"#7201a8\"],[0.3333333333333333,\"#9c179e\"],[0.4444444444444444,\"#bd3786\"],[0.5555555555555556,\"#d8576b\"],[0.6666666666666666,\"#ed7953\"],[0.7777777777777778,\"#fb9f3a\"],[0.8888888888888888,\"#fdca26\"],[1.0,\"#f0f921\"]]},\"legend\":{\"tracegroupgap\":0},\"title\":{\"text\":\"Salary offered by Each Country to an Employee\"}},                        {\"responsive\": true}                    ).then(function(){\n",
              "                            \n",
              "var gd = document.getElementById('bd77fe84-f76e-4d2e-b426-0fd21db3060a');\n",
              "var x = new MutationObserver(function (mutations, observer) {{\n",
              "        var display = window.getComputedStyle(gd).display;\n",
              "        if (!display || display === 'none') {{\n",
              "            console.log([gd, 'removed!']);\n",
              "            Plotly.purge(gd);\n",
              "            observer.disconnect();\n",
              "        }}\n",
              "}});\n",
              "\n",
              "// Listen for the removal of the full notebook cells\n",
              "var notebookContainer = gd.closest('#notebook-container');\n",
              "if (notebookContainer) {{\n",
              "    x.observe(notebookContainer, {childList: true});\n",
              "}}\n",
              "\n",
              "// Listen for the clearing of the current output cell\n",
              "var outputEl = gd.closest('.output');\n",
              "if (outputEl) {{\n",
              "    x.observe(outputEl, {childList: true});\n",
              "}}\n",
              "\n",
              "                        })                };                            </script>        </div>\n",
              "</body>\n",
              "</html>"
            ]
          },
          "metadata": {}
        }
      ]
    },
    {
      "cell_type": "markdown",
      "source": [
        "What is the median salary offered by each company based on their location?"
      ],
      "metadata": {
        "id": "ETgKRmZkiLwt"
      }
    },
    {
      "cell_type": "code",
      "source": [
        "xdf = df.groupby('company_location')['salary_in_usd'].median().sort_values(ascending=False)\n",
        "xdf.head()"
      ],
      "metadata": {
        "colab": {
          "base_uri": "https://localhost:8080/"
        },
        "id": "ZK7EciTRiQdr",
        "outputId": "e9106484-048e-4986-f516-4218bc3354b0"
      },
      "execution_count": null,
      "outputs": [
        {
          "output_type": "execute_result",
          "data": {
            "text/plain": [
              "company_location\n",
              "ISR    271446.5\n",
              "PRI    167500.0\n",
              "USA    145000.0\n",
              "NZL    125000.0\n",
              "BIH    120000.0\n",
              "Name: salary_in_usd, dtype: float64"
            ]
          },
          "metadata": {},
          "execution_count": 240
        }
      ]
    },
    {
      "cell_type": "code",
      "source": [
        "fig = px.choropleth(locations = xdf.index, color = xdf, title = 'Salary offered by Each Company')\n",
        "fig.show()"
      ],
      "metadata": {
        "colab": {
          "base_uri": "https://localhost:8080/",
          "height": 542
        },
        "id": "qvru7e5niX_K",
        "outputId": "7238804c-b4d0-4983-c2d5-5bd2d2a4661c"
      },
      "execution_count": null,
      "outputs": [
        {
          "output_type": "display_data",
          "data": {
            "text/html": [
              "<html>\n",
              "<head><meta charset=\"utf-8\" /></head>\n",
              "<body>\n",
              "    <div>            <script src=\"https://cdnjs.cloudflare.com/ajax/libs/mathjax/2.7.5/MathJax.js?config=TeX-AMS-MML_SVG\"></script><script type=\"text/javascript\">if (window.MathJax && window.MathJax.Hub && window.MathJax.Hub.Config) {window.MathJax.Hub.Config({SVG: {font: \"STIX-Web\"}});}</script>                <script type=\"text/javascript\">window.PlotlyConfig = {MathJaxConfig: 'local'};</script>\n",
              "        <script src=\"https://cdn.plot.ly/plotly-2.18.2.min.js\"></script>                <div id=\"1a76fd88-8f3b-42c8-8165-e133c407b046\" class=\"plotly-graph-div\" style=\"height:525px; width:100%;\"></div>            <script type=\"text/javascript\">                                    window.PLOTLYENV=window.PLOTLYENV || {};                                    if (document.getElementById(\"1a76fd88-8f3b-42c8-8165-e133c407b046\")) {                    Plotly.newPlot(                        \"1a76fd88-8f3b-42c8-8165-e133c407b046\",                        [{\"coloraxis\":\"coloraxis\",\"geo\":\"geo\",\"hovertemplate\":\"locations=%{location}<br>color=%{z}<extra></extra>\",\"locations\":[\"ISR\",\"PRI\",\"USA\",\"NZL\",\"BIH\",\"CAN\",\"ARE\",\"RUS\",\"SWE\",\"CHE\",\"IRL\",\"DZA\",\"IRQ\",\"IRN\",\"CHN\",\"LTU\",\"BEL\",\"GBR\",\"JPN\",\"NLD\",\"HRV\",\"DEU\",\"AUS\",\"FIN\",\"AUT\",\"SGP\",\"MEX\",\"HKG\",\"SVN\",\"LUX\",\"FRA\",\"LVA\",\"ROU\",\"COL\",\"UKR\",\"PRT\",\"GRC\",\"CRI\",\"PHL\",\"ARM\",\"NGA\",\"CAF\",\"EST\",\"ESP\",\"BHS\",\"KEN\",\"POL\",\"BRA\",\"CHL\",\"MYS\",\"ITA\",\"DNK\",\"IDN\",\"CZE\",\"MLT\",\"HUN\",\"THA\",\"EGY\",\"TUR\",\"ASM\",\"HND\",\"GHA\",\"IND\",\"MDA\",\"PAK\",\"ARG\",\"SVK\",\"VNM\",\"MAR\",\"ALB\",\"BOL\",\"MKD\"],\"name\":\"\",\"z\":[271446.5,167500.0,145000.0,125000.0,120000.0,120000.0,115000.0,106000.0,105000.0,104697.0,101943.0,100000.0,100000.0,100000.0,100000.0,94812.0,83398.5,79513.0,75682.0,73546.0,72914.0,72721.5,72525.0,68318.0,68059.5,66113.5,66000.0,65062.0,61702.5,59102.0,58969.5,57946.5,56827.0,56500.0,55000.0,52932.5,50216.0,50000.0,50000.0,50000.0,50000.0,48609.0,47416.0,47280.0,45555.0,44636.0,44365.0,42000.0,40038.0,40000.0,37614.5,37252.5,34208.0,30469.0,28369.0,26709.5,24740.0,22800.0,20171.0,20000.0,20000.0,18500.0,18276.0,18000.0,16000.0,13000.0,12608.0,12000.0,10000.0,10000.0,7500.0,6304.0],\"type\":\"choropleth\"}],                        {\"template\":{\"data\":{\"histogram2dcontour\":[{\"type\":\"histogram2dcontour\",\"colorbar\":{\"outlinewidth\":0,\"ticks\":\"\"},\"colorscale\":[[0.0,\"#0d0887\"],[0.1111111111111111,\"#46039f\"],[0.2222222222222222,\"#7201a8\"],[0.3333333333333333,\"#9c179e\"],[0.4444444444444444,\"#bd3786\"],[0.5555555555555556,\"#d8576b\"],[0.6666666666666666,\"#ed7953\"],[0.7777777777777778,\"#fb9f3a\"],[0.8888888888888888,\"#fdca26\"],[1.0,\"#f0f921\"]]}],\"choropleth\":[{\"type\":\"choropleth\",\"colorbar\":{\"outlinewidth\":0,\"ticks\":\"\"}}],\"histogram2d\":[{\"type\":\"histogram2d\",\"colorbar\":{\"outlinewidth\":0,\"ticks\":\"\"},\"colorscale\":[[0.0,\"#0d0887\"],[0.1111111111111111,\"#46039f\"],[0.2222222222222222,\"#7201a8\"],[0.3333333333333333,\"#9c179e\"],[0.4444444444444444,\"#bd3786\"],[0.5555555555555556,\"#d8576b\"],[0.6666666666666666,\"#ed7953\"],[0.7777777777777778,\"#fb9f3a\"],[0.8888888888888888,\"#fdca26\"],[1.0,\"#f0f921\"]]}],\"heatmap\":[{\"type\":\"heatmap\",\"colorbar\":{\"outlinewidth\":0,\"ticks\":\"\"},\"colorscale\":[[0.0,\"#0d0887\"],[0.1111111111111111,\"#46039f\"],[0.2222222222222222,\"#7201a8\"],[0.3333333333333333,\"#9c179e\"],[0.4444444444444444,\"#bd3786\"],[0.5555555555555556,\"#d8576b\"],[0.6666666666666666,\"#ed7953\"],[0.7777777777777778,\"#fb9f3a\"],[0.8888888888888888,\"#fdca26\"],[1.0,\"#f0f921\"]]}],\"heatmapgl\":[{\"type\":\"heatmapgl\",\"colorbar\":{\"outlinewidth\":0,\"ticks\":\"\"},\"colorscale\":[[0.0,\"#0d0887\"],[0.1111111111111111,\"#46039f\"],[0.2222222222222222,\"#7201a8\"],[0.3333333333333333,\"#9c179e\"],[0.4444444444444444,\"#bd3786\"],[0.5555555555555556,\"#d8576b\"],[0.6666666666666666,\"#ed7953\"],[0.7777777777777778,\"#fb9f3a\"],[0.8888888888888888,\"#fdca26\"],[1.0,\"#f0f921\"]]}],\"contourcarpet\":[{\"type\":\"contourcarpet\",\"colorbar\":{\"outlinewidth\":0,\"ticks\":\"\"}}],\"contour\":[{\"type\":\"contour\",\"colorbar\":{\"outlinewidth\":0,\"ticks\":\"\"},\"colorscale\":[[0.0,\"#0d0887\"],[0.1111111111111111,\"#46039f\"],[0.2222222222222222,\"#7201a8\"],[0.3333333333333333,\"#9c179e\"],[0.4444444444444444,\"#bd3786\"],[0.5555555555555556,\"#d8576b\"],[0.6666666666666666,\"#ed7953\"],[0.7777777777777778,\"#fb9f3a\"],[0.8888888888888888,\"#fdca26\"],[1.0,\"#f0f921\"]]}],\"surface\":[{\"type\":\"surface\",\"colorbar\":{\"outlinewidth\":0,\"ticks\":\"\"},\"colorscale\":[[0.0,\"#0d0887\"],[0.1111111111111111,\"#46039f\"],[0.2222222222222222,\"#7201a8\"],[0.3333333333333333,\"#9c179e\"],[0.4444444444444444,\"#bd3786\"],[0.5555555555555556,\"#d8576b\"],[0.6666666666666666,\"#ed7953\"],[0.7777777777777778,\"#fb9f3a\"],[0.8888888888888888,\"#fdca26\"],[1.0,\"#f0f921\"]]}],\"mesh3d\":[{\"type\":\"mesh3d\",\"colorbar\":{\"outlinewidth\":0,\"ticks\":\"\"}}],\"scatter\":[{\"fillpattern\":{\"fillmode\":\"overlay\",\"size\":10,\"solidity\":0.2},\"type\":\"scatter\"}],\"parcoords\":[{\"type\":\"parcoords\",\"line\":{\"colorbar\":{\"outlinewidth\":0,\"ticks\":\"\"}}}],\"scatterpolargl\":[{\"type\":\"scatterpolargl\",\"marker\":{\"colorbar\":{\"outlinewidth\":0,\"ticks\":\"\"}}}],\"bar\":[{\"error_x\":{\"color\":\"#2a3f5f\"},\"error_y\":{\"color\":\"#2a3f5f\"},\"marker\":{\"line\":{\"color\":\"#E5ECF6\",\"width\":0.5},\"pattern\":{\"fillmode\":\"overlay\",\"size\":10,\"solidity\":0.2}},\"type\":\"bar\"}],\"scattergeo\":[{\"type\":\"scattergeo\",\"marker\":{\"colorbar\":{\"outlinewidth\":0,\"ticks\":\"\"}}}],\"scatterpolar\":[{\"type\":\"scatterpolar\",\"marker\":{\"colorbar\":{\"outlinewidth\":0,\"ticks\":\"\"}}}],\"histogram\":[{\"marker\":{\"pattern\":{\"fillmode\":\"overlay\",\"size\":10,\"solidity\":0.2}},\"type\":\"histogram\"}],\"scattergl\":[{\"type\":\"scattergl\",\"marker\":{\"colorbar\":{\"outlinewidth\":0,\"ticks\":\"\"}}}],\"scatter3d\":[{\"type\":\"scatter3d\",\"line\":{\"colorbar\":{\"outlinewidth\":0,\"ticks\":\"\"}},\"marker\":{\"colorbar\":{\"outlinewidth\":0,\"ticks\":\"\"}}}],\"scattermapbox\":[{\"type\":\"scattermapbox\",\"marker\":{\"colorbar\":{\"outlinewidth\":0,\"ticks\":\"\"}}}],\"scatterternary\":[{\"type\":\"scatterternary\",\"marker\":{\"colorbar\":{\"outlinewidth\":0,\"ticks\":\"\"}}}],\"scattercarpet\":[{\"type\":\"scattercarpet\",\"marker\":{\"colorbar\":{\"outlinewidth\":0,\"ticks\":\"\"}}}],\"carpet\":[{\"aaxis\":{\"endlinecolor\":\"#2a3f5f\",\"gridcolor\":\"white\",\"linecolor\":\"white\",\"minorgridcolor\":\"white\",\"startlinecolor\":\"#2a3f5f\"},\"baxis\":{\"endlinecolor\":\"#2a3f5f\",\"gridcolor\":\"white\",\"linecolor\":\"white\",\"minorgridcolor\":\"white\",\"startlinecolor\":\"#2a3f5f\"},\"type\":\"carpet\"}],\"table\":[{\"cells\":{\"fill\":{\"color\":\"#EBF0F8\"},\"line\":{\"color\":\"white\"}},\"header\":{\"fill\":{\"color\":\"#C8D4E3\"},\"line\":{\"color\":\"white\"}},\"type\":\"table\"}],\"barpolar\":[{\"marker\":{\"line\":{\"color\":\"#E5ECF6\",\"width\":0.5},\"pattern\":{\"fillmode\":\"overlay\",\"size\":10,\"solidity\":0.2}},\"type\":\"barpolar\"}],\"pie\":[{\"automargin\":true,\"type\":\"pie\"}]},\"layout\":{\"autotypenumbers\":\"strict\",\"colorway\":[\"#636efa\",\"#EF553B\",\"#00cc96\",\"#ab63fa\",\"#FFA15A\",\"#19d3f3\",\"#FF6692\",\"#B6E880\",\"#FF97FF\",\"#FECB52\"],\"font\":{\"color\":\"#2a3f5f\"},\"hovermode\":\"closest\",\"hoverlabel\":{\"align\":\"left\"},\"paper_bgcolor\":\"white\",\"plot_bgcolor\":\"#E5ECF6\",\"polar\":{\"bgcolor\":\"#E5ECF6\",\"angularaxis\":{\"gridcolor\":\"white\",\"linecolor\":\"white\",\"ticks\":\"\"},\"radialaxis\":{\"gridcolor\":\"white\",\"linecolor\":\"white\",\"ticks\":\"\"}},\"ternary\":{\"bgcolor\":\"#E5ECF6\",\"aaxis\":{\"gridcolor\":\"white\",\"linecolor\":\"white\",\"ticks\":\"\"},\"baxis\":{\"gridcolor\":\"white\",\"linecolor\":\"white\",\"ticks\":\"\"},\"caxis\":{\"gridcolor\":\"white\",\"linecolor\":\"white\",\"ticks\":\"\"}},\"coloraxis\":{\"colorbar\":{\"outlinewidth\":0,\"ticks\":\"\"}},\"colorscale\":{\"sequential\":[[0.0,\"#0d0887\"],[0.1111111111111111,\"#46039f\"],[0.2222222222222222,\"#7201a8\"],[0.3333333333333333,\"#9c179e\"],[0.4444444444444444,\"#bd3786\"],[0.5555555555555556,\"#d8576b\"],[0.6666666666666666,\"#ed7953\"],[0.7777777777777778,\"#fb9f3a\"],[0.8888888888888888,\"#fdca26\"],[1.0,\"#f0f921\"]],\"sequentialminus\":[[0.0,\"#0d0887\"],[0.1111111111111111,\"#46039f\"],[0.2222222222222222,\"#7201a8\"],[0.3333333333333333,\"#9c179e\"],[0.4444444444444444,\"#bd3786\"],[0.5555555555555556,\"#d8576b\"],[0.6666666666666666,\"#ed7953\"],[0.7777777777777778,\"#fb9f3a\"],[0.8888888888888888,\"#fdca26\"],[1.0,\"#f0f921\"]],\"diverging\":[[0,\"#8e0152\"],[0.1,\"#c51b7d\"],[0.2,\"#de77ae\"],[0.3,\"#f1b6da\"],[0.4,\"#fde0ef\"],[0.5,\"#f7f7f7\"],[0.6,\"#e6f5d0\"],[0.7,\"#b8e186\"],[0.8,\"#7fbc41\"],[0.9,\"#4d9221\"],[1,\"#276419\"]]},\"xaxis\":{\"gridcolor\":\"white\",\"linecolor\":\"white\",\"ticks\":\"\",\"title\":{\"standoff\":15},\"zerolinecolor\":\"white\",\"automargin\":true,\"zerolinewidth\":2},\"yaxis\":{\"gridcolor\":\"white\",\"linecolor\":\"white\",\"ticks\":\"\",\"title\":{\"standoff\":15},\"zerolinecolor\":\"white\",\"automargin\":true,\"zerolinewidth\":2},\"scene\":{\"xaxis\":{\"backgroundcolor\":\"#E5ECF6\",\"gridcolor\":\"white\",\"linecolor\":\"white\",\"showbackground\":true,\"ticks\":\"\",\"zerolinecolor\":\"white\",\"gridwidth\":2},\"yaxis\":{\"backgroundcolor\":\"#E5ECF6\",\"gridcolor\":\"white\",\"linecolor\":\"white\",\"showbackground\":true,\"ticks\":\"\",\"zerolinecolor\":\"white\",\"gridwidth\":2},\"zaxis\":{\"backgroundcolor\":\"#E5ECF6\",\"gridcolor\":\"white\",\"linecolor\":\"white\",\"showbackground\":true,\"ticks\":\"\",\"zerolinecolor\":\"white\",\"gridwidth\":2}},\"shapedefaults\":{\"line\":{\"color\":\"#2a3f5f\"}},\"annotationdefaults\":{\"arrowcolor\":\"#2a3f5f\",\"arrowhead\":0,\"arrowwidth\":1},\"geo\":{\"bgcolor\":\"white\",\"landcolor\":\"#E5ECF6\",\"subunitcolor\":\"white\",\"showland\":true,\"showlakes\":true,\"lakecolor\":\"white\"},\"title\":{\"x\":0.05},\"mapbox\":{\"style\":\"light\"}}},\"geo\":{\"domain\":{\"x\":[0.0,1.0],\"y\":[0.0,1.0]},\"center\":{}},\"coloraxis\":{\"colorbar\":{\"title\":{\"text\":\"color\"}},\"colorscale\":[[0.0,\"#0d0887\"],[0.1111111111111111,\"#46039f\"],[0.2222222222222222,\"#7201a8\"],[0.3333333333333333,\"#9c179e\"],[0.4444444444444444,\"#bd3786\"],[0.5555555555555556,\"#d8576b\"],[0.6666666666666666,\"#ed7953\"],[0.7777777777777778,\"#fb9f3a\"],[0.8888888888888888,\"#fdca26\"],[1.0,\"#f0f921\"]]},\"legend\":{\"tracegroupgap\":0},\"title\":{\"text\":\"Salary offered by Each Company\"}},                        {\"responsive\": true}                    ).then(function(){\n",
              "                            \n",
              "var gd = document.getElementById('1a76fd88-8f3b-42c8-8165-e133c407b046');\n",
              "var x = new MutationObserver(function (mutations, observer) {{\n",
              "        var display = window.getComputedStyle(gd).display;\n",
              "        if (!display || display === 'none') {{\n",
              "            console.log([gd, 'removed!']);\n",
              "            Plotly.purge(gd);\n",
              "            observer.disconnect();\n",
              "        }}\n",
              "}});\n",
              "\n",
              "// Listen for the removal of the full notebook cells\n",
              "var notebookContainer = gd.closest('#notebook-container');\n",
              "if (notebookContainer) {{\n",
              "    x.observe(notebookContainer, {childList: true});\n",
              "}}\n",
              "\n",
              "// Listen for the clearing of the current output cell\n",
              "var outputEl = gd.closest('.output');\n",
              "if (outputEl) {{\n",
              "    x.observe(outputEl, {childList: true});\n",
              "}}\n",
              "\n",
              "                        })                };                            </script>        </div>\n",
              "</body>\n",
              "</html>"
            ]
          },
          "metadata": {}
        }
      ]
    },
    {
      "cell_type": "markdown",
      "source": [
        "17. I would like to visualize the distribution of salaries across different years."
      ],
      "metadata": {
        "id": "w8klshr6isn0"
      }
    },
    {
      "cell_type": "code",
      "source": [
        "px.histogram(x=df['salary_in_usd'], color=df['work_year'], barmode='overlay',\n",
        "            labels={'x':'Salary'}, title='Distribution of Salaries over the Years')"
      ],
      "metadata": {
        "colab": {
          "base_uri": "https://localhost:8080/",
          "height": 542
        },
        "id": "56uPCOcei4JN",
        "outputId": "7ebbdfeb-d346-4c82-ab45-a7db659f70ed"
      },
      "execution_count": null,
      "outputs": [
        {
          "output_type": "display_data",
          "data": {
            "text/html": [
              "<html>\n",
              "<head><meta charset=\"utf-8\" /></head>\n",
              "<body>\n",
              "    <div>            <script src=\"https://cdnjs.cloudflare.com/ajax/libs/mathjax/2.7.5/MathJax.js?config=TeX-AMS-MML_SVG\"></script><script type=\"text/javascript\">if (window.MathJax && window.MathJax.Hub && window.MathJax.Hub.Config) {window.MathJax.Hub.Config({SVG: {font: \"STIX-Web\"}});}</script>                <script type=\"text/javascript\">window.PlotlyConfig = {MathJaxConfig: 'local'};</script>\n",
              "        <script src=\"https://cdn.plot.ly/plotly-2.18.2.min.js\"></script>                <div id=\"75e2874b-dc17-4144-96b8-310c8a5dd085\" class=\"plotly-graph-div\" style=\"height:525px; width:100%;\"></div>            <script type=\"text/javascript\">                                    window.PLOTLYENV=window.PLOTLYENV || {};                                    if (document.getElementById(\"75e2874b-dc17-4144-96b8-310c8a5dd085\")) {                    Plotly.newPlot(                        \"75e2874b-dc17-4144-96b8-310c8a5dd085\",                        [{\"alignmentgroup\":\"True\",\"bingroup\":\"x\",\"hovertemplate\":\"color=2023<br>Salary=%{x}<br>count=%{y}<extra></extra>\",\"legendgroup\":\"2023\",\"marker\":{\"color\":\"#636efa\",\"opacity\":0.5,\"pattern\":{\"shape\":\"\"}},\"name\":\"2023\",\"offsetgroup\":\"2023\",\"orientation\":\"v\",\"showlegend\":true,\"x\":[85847,30000,25500,175000,120000,222200,136000,219000,141000,147100,90700,130000,100000,213660,130760,147100,90700,170000,150000,150000,110000,275000,174000,230000,143200,225000,156400,200000,130000,90000,72000,253200,90700,342810,184590,162500,130000,105380,64500,100000,30000,204620,110680,270703,221484,212750,185000,262000,245000,275300,183500,218500,199098,203300,123600,189110,139000,258750,185000,231500,166000,172500,110500,238000,176000,237000,201450,309400,159100,115000,81500,237000,201450,280000,210000,280100,168100,193500,139000,65062,150000,69751,96578,185900,129300,225000,175000,185000,140000,48289,38631,105000,70000,163196,145885,217000,185000,202800,104300,145000,65000,165000,132300,179170,94300,152500,116450,247300,133800,203000,133000,220000,150000,120000,289800,214000,179820,143860,283200,188800,289800,214200,185900,129300,252000,129000,155000,140000,161800,141600,342300,176100,100000,70000,85000,65000,138784,83270,75000,70000,204500,138900,318300,212200,95000,75000,195000,160000,230000,143200,100000,70000,105000,20670,46178,42533,145000,115000,168400,105200,309400,159100,190000,150000,162500,130000,150000,120000,145000,120000,222200,136000,54685,42533,241000,155000,220000,190000,66837,54685,85066,57723,85000,75000,160000,140000,300000,250000,228000,186000,190000,170000,230000,200000,180000,115000,200000,115000,53654,220000,205000,180000,130000,200000,150000,215000,170000,247500,172200,224000,176000,120000,75000,17022,68318,75020,140000,120000,128000,81500,145000,115000,185000,140000,329500,269600,100000,80000,250000,162500,200000,145000,100000,145000,115000,203500,152000,239000,122900,237000,145000,191765,134236,190000,112000,85000,65000,135000,105500,293000,185000,80000,70000,220000,160000,175000,145000,200000,148500,48289,38631,240500,123700,152900,117100,173000,113000,260000,136000,175000,110000,260000,136000,130000,110000,205000,184000,149500,127075,195000,160000,219535,146115,170000,135000,175000,145000,199000,162000,222200,136000,221000,153000,187000,128000,210000,136000,175000,100000,179000,109000,245000,180000,142000,75000,198800,105200,125000,112000,210000,155000,115000,86000,165000,140000,139000,106000,40663,50000,280700,150450,51753,250500,159500,145000,115000,140000,120000,130001,71907,93918,51962,175000,135000,85000,65000,257000,147000,222000,175000,203000,133200,213660,130760,221000,147000,100000,80000,185900,129300,238000,156000,304000,199000,48289,150000,130000,140000,110000,90000,75000,195895,102772,240000,183600,130000,80000,250000,150000,160000,120000,289076,202353,145000,120000,155000,106000,200000,160000,157750,104650,180000,140000,200000,145000,68000,60000,48289,38631,85000,65000,125000,90000,105000,90000,179820,143860,135000,105500,155000,125000,241000,181000,252000,154000,180000,155000,191765,134236,175000,145000,237000,145000,155000,125000,80000,70000,146000,75000,64200,56100,170000,130000,208450,170550,125000,100000,135000,120000,200000,170000,171250,113750,222200,136000,260000,136000,153600,100500,205000,184000,115000,95000,182500,121500,203100,114500,72914,54685,252000,129000,92700,61800,160000,130000,258000,190000,170000,135000,167500,106500,195000,160000,146000,75000,286000,207000,100000,80000,223250,178600,353200,249300,230000,220000,297300,198200,210000,151800,200000,170000,317070,170730,128000,81500,21461,108000,60000,134000,124000,171250,113750,165000,132300,225000,175000,230000,124500,247500,172200,175000,145000,148700,125600,145000,115000,200000,150000,160000,120000,185000,120250,275300,183000,170000,125000,167500,106500,250000,200000,135000,423834,216000,184000,180000,165000,185900,129300,145000,120000,143865,115092,130000,90000,173000,132000,208049,128500,179820,143860,167500,106500,275300,183500,149600,102000,145000,100000,190000,95000,153600,106800,96578,80481,128000,85000,151000,140000,275300,183500,220000,170000,135000,105500,100000,80000,7000,42923,160000,145000,154000,143000,78990,51039,190000,120000,85066,51039,109371,72914,150000,111000,265000,235000,121093,160000,130000,75000,60400,85000,75000,252000,129000,92700,61800,60093,83500,52500,201036,134024,165000,140000,62000,58000,172000,115000,125000,90000,163800,126000,237000,145000,90000,90000,139500,109400,258000,190000,145000,120000,205600,105700,252000,129000,239748,159832,186300,102500,165000,132300,190000,126000,149040,113900,153600,106800,172600,107900,180180,106020,376080,213120,153600,100500,206500,121600,260000,225000,194500,115500,170000,90000,95000,70000,275000,160000,115934,81666,175000,120000,150000,120000,200000,175000,206000,130000,138000,92000,65000,48000,110000,75000,130000,87000,160000,112000,162500,130000,299500,245100,145000,100000,147100,90700,115100,73900,168400,105200,210000,160000,145000,100000,222200,136000,100000,85000,85066,57723,200000,145000,140000,95000,185000,120250,130000,205000,140000,297300,198200,141288,94192,184000,143000,70000,55000,275300,183500,75000,65000,160000,147000,149040,113900,75020,180180,106020,17022,70000,80000,18238,250000,150000,139500,109400,105000,70000,210914,116704,150000,100000,146000,75000,75000,60000,185700,165000,160000,130000,169000,110600,193000,136850,139500,109400,276000,178500,59020,48289,75116,48289,195652,101228,136956,101228,252000,129000,163800,126000,260000,110000,170000,130000,247500,172200,239748,159832,163800,126000,128750,106250,252000,129000,299500,245100,155000,140000,167500,106500,188500,117000,250000,138000,130000,100000,123405,140000,120000,160000,135000,104500,70000,90000,70000,153600,106800,125000,90000,185000,125000,127000,94000,210550,153300,200000,150000,161500,119500,175000,145000,175000,148750,105000,85000,215000,146300,214618,72000,60000,153400,122700,260000,175000,186300,123900,340000,150000,153400,122700,250000,175000,64385,185900,121700,153600,106800,50000,100000,247500,172200,310000,239000,125000,110000,150000,100000,149076,82365,146000,75000,139500,109400,139500,109400,149600,102000,97218,48609,252000,129000,95000,85500,185900,121700,150000,100000,145000,125000,150000,97750,201000,122000,252000,129000,120000,75000,116990,82920,185900,129300,200000,125000,201000,122000,204500,142200,155000,140000,205920,171600,121500,78000,154000,116000,190000,136000,78990,43809,180000,110000,275300,183000,170000,140000,154000,116000,160000,130000,200000,120000,175000,160000,127599,103294,153600,106800,85000,75000,225000,156400,150000,120000,163800,126000,145000,90000,204500,142200,95000,85500,167500,106500,163800,126000,155000,140000,250000,200000,260000,186000,160000,130000,200000,150000,48289,38631,150000,120000,30000,185000,125000,75116,175000,130000,122000,93800,150000,90000,165000,112000,220000,71897,64385,204500,142200,15806,200000,175000,185900,129300,185900,121700,204500,142200,40000,29453,180180,106020,136000,104000,125000,110000,153400,122700,310000,239000,152380,121904,185900,129300,247500,172200,168400,105200,128280,106900,140000,100000,107309,85847,275000,174000,139500,109400,139500,109400,170500,85000,72946,54365,160288,127467,80000,65000,124740,65488,72200,64980,153600,106800,179975,86466,120000,90000,51039,42533,149076,82365,169000,110600,175000,120000,230000,180000,153600,106800,140000,120000,205920,171600,165000,125000,265000,185000,130000,38631,95000,85500,147100,90700,167580,87980,202000,135000,163800,126000,163800,126000,104000,65000,230000,148000,269000,158000,197000,106000,150000,100000,290000,210000,192000,172800,300240,200160,300240,200160,175000,140000,169000,100000,370000,245000,115447,110000,80000,55000,48000,95000,85000,137500,81500,323300,184700,186000,153088,190000,160000,200000,150000,190000,183310,240000,180000,200000,150000,299500,245100,144000,66000,148500,126277,228000,120000,180000,90000,126500,78000,180000,160000,272000,170000,80000,60000,259000,146000,200000,160000,310000,239000,142000,95000,155000,139500,140000,120000,259000,146000,109371,72914,17779,19522,247500,172200,225000,156400,139500,109400,125000,90000,107309,75116,185900,129300,139500,109400,120000,75000,169000,110600,288000,140000,288000,140000,120000,90000,72914,60761,215050,156400,198000,114000,75000,60000,204500,142200,209300,182200,140000,120000,48609,120000,60000,147100,90700,230000,170000,227000,108000,180000,160000,180000,160000,180000,130000,55800,51508,60000,50000,226700,133300,252000,129000,151902,9727,80000,52500,250000,162500,85000,75000,153600,106800,165000,124000,115934,81666,167580,87980,250000,63000,253750,169200,253750,169200,170000,120000,124740,65488,213580,163625,12000,101943,16414,220000,170000,235000,210000,180000,115000,200000,115000,231250,138750,284310,153090,160000,75000,125000,105000,109371,85066,55000,48000,100000,225900,156400,250000,162500,318300,188800,385000,60000,110000,95000,145000,135000,180180,106020,93919,51962,241871,133832,170000,90000,210914,116704,192500,140000,149076,82365,36000,175000,148750,370000,200000,235000,185000,121523,97218,216100,140800,145828,121523,53654,110000,128000,81500,66837,63192,60761,54685,284000,236000,248100,145900,155850,102544,151410,115360,66531,59020,125686,100000,12767,250000,162500,185000,120250,26827,85000,70000,135000,100000,155000,140000,204500,142200,226700,133300,225000,156400,163800,126000,163800,126000,220000,150000,145000,115000,204500,138900,162500,130000,150000,107000,175000,110000,226700,133300,252000,129000,150000,125000,252000,129000,225000,156400,110000,265000,182750,130000,100000,153600,106800,137500,81500,314100,195800,205000,180000,165000,144000,160000,100000,200000,145000,150000,100000,199000,112000,105000,70000,130000,180180,106020,160000,135000,183000,134000,220000,150000,350000,262500,122000,94000,276000,184000,310000,239000,225000,156400,180000,150000,228000,152000,209450,158677,175000,145000,240000,170000,103200,61200,63312,237000,145000,240000,139000,174500,113000,130000,87000,160000,108000,165000,107250,300000,119000,285800,154600,60795,30000,220000,195000,168400,105200,206000,160000,200000,175000,231250,138750,153000,94000,240500,123700,160000,90000,124234,74540,109000,79000,50000,275300,183500,275300,183500,160000,125600,170000,120000,225000,140000,141290,74178,150000,120000,85000,75000,220000,160000,205600,107500,120000,95000,185900,129300,160000,130000,12888,250000,175000,136000,104000,80000,52500,110000,84000,125000,110000,90000,80000,200000,135000,120000,130000,75000,252000,129000,150000,100000,226700,133300,190000,165000,170000,150000,150000,130000,225000,156400,200000,80000,12877,17509,257000,134000,77262,38631,205600,105700,140000,110000,299500,245100,210000,151800,53654,51508,40777,51508,40777,160000,135000,120000,95000,250000,63000,237000,145000,130000,90000,120000,100000,174500,113000,183310,183310,145000,102500,210000,185000,174500,113000,122000,94000,220000,146000,300000,130000,24740,145000,128000,182000,140000,122000,94000,77262,38631,300000,200000,135000,105500,252000,129000,136000,104000,168000,130000,78990,43809,120000,95000,153400,122700,185000,160000,205000,185000,204500,142200,145000,87000,50000,234100,203500,223800,172100,180000,150000,232200,167200,197000,106000,180000,145000,225000,200000,170000,114000,291500,180000,196200,150900,168400,105200,95000,80000,116000,72000,207000,167000,145000,135000,105000,70000,180000,115000,133800,96100,120000,80000,140000,100000,150000,120000,140000,115000,297300,198200,297300,198200,202000,135000,110000,84000,219000,230000,196000,140000,110000,150000,100000,160000,110000,185900,129300,126100,72000,170000,150000,175000,140000,240500,137500,187500,165000,72914,210000,165750,225000,165750,109006,67141,135000,115000,275000,175000,170000,140000,175308,100706,235000,135000,310000,229000,289076,202353,69751,37558,120000,100000,226700,133300,125000,85000,130000,80000,120000,100000,231250,138750,199000,162000,160000,135000,200000,150000,160000,120000,250000,200000,150000,120000,150000,100000,272550,198200,182000,140000,200000,160000,204500,142200,120000,105000,187500,175000,204500,142200,155000,64000,235000,185000,174500,113000,143100,113000,184000,142000,140000,120000,174500,113000,180560,115440,140000,120000,248100,145900,120000,110000,291500,180000,75344,63192,161800,141600,58331,46178,166000,128000,170000,110000,160000,75000,236000,182000,150000,100000,261500,134500,130000,90000,160000,135000],\"xaxis\":\"x\",\"yaxis\":\"y\",\"type\":\"histogram\"},{\"alignmentgroup\":\"True\",\"bingroup\":\"x\",\"hovertemplate\":\"color=2022<br>Salary=%{x}<br>count=%{y}<extra></extra>\",\"legendgroup\":\"2022\",\"marker\":{\"color\":\"#EF553B\",\"opacity\":0.5,\"pattern\":{\"shape\":\"\"}},\"name\":\"2022\",\"offsetgroup\":\"2022\",\"orientation\":\"v\",\"showlegend\":true,\"x\":[20984,300000,56536,88256,275000,59888,73546,172309,130000,34320,9289,106000,192000,168000,85000,375000,180000,23000,155000,84053,48000,6304,15897,110000,25216,18314,100000,133000,14307,130000,13989,125000,175000,155000,153600,106800,150000,140000,122000,94500,170000,130000,145000,128000,145000,100000,175000,120000,145000,115000,150000,150000,100000,150000,127500,126500,51000,260000,175000,40000,40000,250000,63000,210000,160000,272550,198200,94560,52533,220000,146000,150000,100000,248400,183600,150000,150000,40000,56723,120000,95000,160000,135000,24165,216000,144000,85000,65000,149000,119000,140000,120000,150000,110000,246000,201000,190000,155000,235000,185000,190000,160000,100000,130000,115000,92350,67723,105000,70000,204500,142200,192000,164000,185900,129300,130000,75000,175000,120000,167500,106500,75000,60000,184000,142000,145000,100000,10000,31795,44365,175000,120000,175000,120000,200000,145000,92350,73880,145000,100000,192000,164000,310000,239000,120000,95000,145000,135000,100000,78000,73546,36773,160000,120000,190000,150000,35610,125000,120000,95000,150000,100000,47280,37824,115934,81666,175000,140000,120000,95000,249500,149850,122500,100000,249500,149850,55000,48000,249500,149850,58837,190000,120000,127000,104000,210000,150000,210000,150000,210000,130000,182750,161500,102640,66100,210000,150000,198800,122600,130000,80000,136000,104000,150000,100000,160000,135000,216000,144000,159000,130000,115934,81666,215000,150000,246000,201000,187000,153000,255000,185000,430967,55410,50432,39925,169000,110600,60938,140000,120000,75000,60000,10000,50000,134000,124000,166700,119000,124234,74540,100000,65000,200000,12000,220000,146000,68293,36773,110000,70000,50000,120000,95000,150000,100000,47280,37824,190000,135000,128000,81500,173000,110000,192000,120000,115934,81666,120000,95000,190000,194000,129400,201000,89200,165000,125000,230000,196000,130000,90000,150000,100000,230000,150000,153600,106800,130000,100000,216000,144000,180000,120000,160000,135000,192500,140000,152500,130000,65000,55000,178750,160000,63040,52533,165000,135000,170000,125000,105000,70000,130000,95000,203500,152000,197430,134760,120000,197000,99000,220000,162000,110446,79178,70186,51716,149040,113900,171000,13000,100000,78000,120000,95000,110000,70000,50000,185900,129300,150000,100000,230000,154600,204500,142200,160000,75000,47280,37824,213000,152000,140000,120000,110000,70000,227200,168000,64090,60938,243000,183000,175000,150000,130000,90000,165000,124000,178000,132000,300000,130000,169000,110600,116000,96000,92350,70186,105000,70000,105236,194000,129400,190000,135000,100000,70000,189750,140250,130000,100000,160000,109000,250000,150000,206000,160000,135000,120000,115573,73546,160000,135000,150000,100000,120000,95000,68293,42026,191200,130000,191200,130000,66192,50000,230000,154600,120000,95000,140000,120000,169000,110600,80000,185900,129300,135000,110000,155000,140000,205000,150000,179500,134000,180000,120000,185900,129300,175000,145000,235000,175000,27317,160000,90000,68293,36773,145000,115000,165000,135000,168400,105200,86193,49253,200000,160000,47280,37824,198800,122600,100000,105066,130000,100000,104663,73880,125000,110000,165000,124000,148000,107000,150000,100000,160000,135000,120000,95000,153600,106800,100000,65000,120000,95000,63040,36773,310000,239000,299500,245100,168000,130000,136000,104000,161000,118000,205000,184000,185900,129300,247500,172200,68293,177000,131000,205000,184000,146000,102000,169000,110600,230000,196000,135000,100000,80000,65000,135000,100000,61566,43096,175000,135000,80000,231250,138750,193750,116250,231250,138750,231250,138750,231250,138750,193750,116250,208000,127000,300000,196000,204500,142200,185900,129300,47280,37824,204500,142200,205000,185000,185900,129300,247500,172200,160000,135000,150000,100000,110000,95000,185900,129300,205000,184000,17684,375000,191200,130000,225000,156400,169000,110600,204500,142200,104663,80036,185900,129300,140700,93800,350000,135000,115934,81666,12000,104697,33000,34672,201000,119000,175000,150000,154560,123648,130000,100000,170000,145000,135000,100000,247500,172200,177500,134000,185900,129300,192564,144854,130000,105000,179305,142127,315000,225000,243900,156600,206000,160000,109000,79000,160000,109000,89306,182500,128500,160000,90000,77300,45600,127000,110000,210000,136000,12608,170000,140000,247500,172200,225000,184100,130000,90000,120000,100000,85000,78000,161000,110000,136000,104000,47280,37824,205000,160000,169000,110600,61566,49253,160000,130000,245000,180000,135000,100000,220000,150000,198440,144000,240000,170000,198440,144000,150000,100000,120000,95000,57872,64000,39925,187200,116100,150000,127000,275000,166000,159699,138938,76000,166700,119000,130000,100000,103432,92350,80000,52500,236000,182000,180000,140000,225000,156400,135000,100000,204500,142200,240000,125404,300000,130000,195000,175000,155000,110000,123000,92250,170000,150000,180000,100000,97000,90000,200000,160000,210000,180000,260000,180000,210000,157000,180000,100000,80000,52500,128000,81500,105000,70000,175000,122500,171000,117000,202800,104300,50432,36773,197000,99000,160000,110000,185900,129300,30000,78000,48000,170000,130000,150000,95000,78000,42000,345600,230400,145000,115000,78000,48000,175950,130050,205600,105700,236600,89200,84000,54000,80000,200000,73742,165000,33246,185900,129300,169000,110600,225000,184100,185900,129300,225000,156400,185900,129300,108000,8000,155000,38000,85000,65000,155000,38000,110820,92350,153600,106800,185000,50000,185900,129300,155000,38000,168000,130000,123400,88100,120000,55000,185900,129300,191200,130000,169000,110600,150000,120000,139000,122000,185900,129300,139600,85700,185000,50000,185900,129300,225000,156400,200000,175000,185900,129300,148500,98200,115000,95000,225000,66000,185000,50000,47280,37824,134000,98000,105000,62000,57000,161311,144200,115360,83171,38154,73546,42026,170000,150000,180000,160000,108000,200000,150000,125976,188700,160395,115934,81666,300000,225000,198440,144000,191475,141525,50432,36773,75648,156868,200000,198440,144000,69344,5132,90000,126080,84053,200000,180000,108000,85000,210000,180000,165000,132000,130000,110000,45050,135000,178800,132100,20000,140000,110000,160000,85000,250000,63000,187200,116100,10000,200000,145000,229998,154545,215000,159000,229998,154545,50000,183000,99750,68400,236900,159200,243225,179775,175000,150000,210000,180000,148000,128000,190000,135000,130000,110000,191475,141525,160000,85000,218000,145300,195400,131300,105000,191475,141525,207000,153000,191475,141525,110000,99000,191475,141525,191475,141525,191475,141525,200000,135000,207000,153000,191475,141525,191475,141525,191475,141525,195700,130500,130000,84000,100000,60000,80036,67723,141300,102100,50432,36773,150000,102200,22892,144000,113000,31520,195400,131300,195400,131300,195400,131300,190000,135000,135000,80000,8050,160000,85000,178800,132100,60000,63040,50000,140000,105000,80036,67723,190000,140000,100000,60000,180000,165000,108000,190000,135000,179400,154000,193900,129300,222640,182160,150000,100000,122500,100000,297500,260000,193000,93000,73000,100000,60000,7799,136994,101570,250000,63000,134000,98000,191475,141525,57786,136000,112000,172000,140000,215000,164000,300000,130000,250000,63000,180000,150000,250000,63000,191475,141525,97500,212800,142800,73546,50000,6359,151800,130240,165000,140250,135000,115000,179400,154000,191475,141525,191475,141525,191475,141525,75000,84053,73546,98506,86193,84053,73546,191475,141525,191475,141525,102663,80041,191475,141525,104611,82280,191475,141525,191475,141525,115000,31520,81000,66000,46000,80000,200000,180000,200000,204100,136100,250000,63000,118208,110820,191475,141525,191475,141525,191475,141525,95000,70000,75000,7500,113000,170000,130000,113000,140000,53368,175000,140000,29944,250000,63000,160000,119300,145000,105000,90000,146200,124270,225000,160000,54634,185800,137400,245000,180000,203500,152000,250000,63000,186000,148800,95386,128058,82000,110000,173000,203500,152000,186000,148800,6270,158000,134000,170000,120000,200000,150000,216200,144100,115573,89306,250000,63000,135000,85000,135000,85000,206000,175100,189650,164996,149040,113900,154000,126000,200000,150000,195700,130500,170000,135000,98506,73880,117000,99450,200000,135000,193900,129300,55410,86193,61566,175000,130000,188100,139860,248700,167100,5723,123400,88100,50432,245000,205000,141300,102100,141300,102100,50000,84053,61566,250000,63000,189500,140100,177600,131300,24000,24000,250000,63000,202900,131300,145000,115000,115000,193900,129300,180000,140000,216200,144100,216000,144000,150000,53416,50000,84053,131752,48000,260500,175100,210000,100000,55000,130000,77119,52008,30523,206699,99100,200000,54000,250000,63000,250000,63000,250000,63000,130000,100000,80000,160000,100000,221300,148700,30000,28368,91118,61566,60938,249260,185400,170000,130000,80036,128875,93700,180000,100000,136260,109280,160000,92000,200000,160000,135446,104663,117000,99450,129000,86000,160000,119300,100000,25000,65257,200000,180000,153000,210000,100000,150075,110925,22800,160000,92000,202900,131300,15000,175000,135000,133766,83000,92350,67723,186000,148800,112900,90320,240000,160000,300000,200000,65666,200000,116976,92350,120000,112900,90320,145000,105400,110820,92350,215300,158200,209100,154600,115934,81666,175000,155000,84053,164000,132000,170000,123000,189650,164996,52533,52533,115222,165400,132320,208775,147800,136994,101570,128875,93700,76309,35093,183600,100800,49253,36940,42026,31520,84053,73546,98506,86193,84053,73546,189650,164996,42026,31520,92350,73880,215300,140400,63040,47280,260000,180000,67723,43096,63040,47280,73880,55410,60000,82900,63900,160000,112300,241000,159000,180000,80000,58000,58000,136000,108800,242000,200000,61566,36940,73880,49253,165220,120160,124190,90320,181940,132320,220110,160080,180000,120000,126500,106260,116000,99000,155000,120600,130000,90000,170000,150000,102100,84900,136620,99360,110820,98506,146000,123000,49253,43096,130000,110000,170000,135000,161342,137141,167000,123000,73880,61566,211500,138600,192400,90700,130000,61300,130000,61300,160000,113000,150000,95550,167000,115500,112900,90320,112900,90320,165400,132320,243900,156600,136600,109280,128875,93700,224000,167875,175000,135000,209100,154600,180000,160000,205300,140400,176000,144000,200100,160000,70500,54000,205300,140400,205300,184700,175100,140250,116150,99050,145000,130000,112900,90320,85000,75000,214000,192600,266400,213120,155000,115000,141300,102100,115934,81666,206699,99100,130000,110500,61566,43096,80000,60000,192564,144854,230000,150000,150260,109280,170000,150000,160000,130000,67000,52000,154000,126000,129000,99000,210000,140000,210000,140000,210000,140000,100000,69000,210000,140000,150075,110925,100000,25000,126500,106260,220110,160080,105000,100000,170000,135000,230000,140000,135000,50000,220000,140000,172386,86193,220000,120000,200000,120000,120000,65000,324000,216000,210000,100000,185100,104890,105000,80000,76814,192037,120000,17805,30523,55685,52533,17805,75000,157000,69133,65000,68293,67597,10000,20000,200000,51081,78000,135000,115000,83864,40000,31520,59888,89306,83171,165000,153000,100000,76814,33609,75000,30469,55475,61989,152500,120000,135000,405000,380000,120402,177000,65141,48000,20000,150000,100000,100000,144000,155499,100000,120000,84053,125000,21013],\"xaxis\":\"x\",\"yaxis\":\"y\",\"type\":\"histogram\"},{\"alignmentgroup\":\"True\",\"bingroup\":\"x\",\"hovertemplate\":\"color=2020<br>Salary=%{x}<br>count=%{y}<extra></extra>\",\"legendgroup\":\"2020\",\"marker\":{\"color\":\"#00cc96\",\"opacity\":0.5,\"pattern\":{\"shape\":\"\"}},\"name\":\"2020\",\"offsetgroup\":\"2020\",\"orientation\":\"v\",\"showlegend\":true,\"x\":[15000,95000,13493,13493,22809,49268,117104,54742,20000,59303,70000,68428,450000,46759,74130,103000,250000,10000,138000,45760,79833,50180,106000,112872,15966,76958,188000,105000,70139,6072,33511,91000,42000,115000,260000,109024,79833,150000,72000,190000,35735,135000,125000,51321,40481,39916,87000,85000,8000,41689,114047,5707,56000,6072,47899,98000,325000,45896,42197,62726,21669,110000,120000,60000,148261,38776,91237,62726,190200,118000,138350,130800,45618,412000,105000,100000],\"xaxis\":\"x\",\"yaxis\":\"y\",\"type\":\"histogram\"},{\"alignmentgroup\":\"True\",\"bingroup\":\"x\",\"hovertemplate\":\"color=2021<br>Salary=%{x}<br>count=%{y}<extra></extra>\",\"legendgroup\":\"2021\",\"marker\":{\"color\":\"#ab63fa\",\"opacity\":0.5,\"pattern\":{\"shape\":\"\"}},\"name\":\"2021\",\"offsetgroup\":\"2021\",\"orientation\":\"v\",\"showlegend\":true,\"x\":[150000,30000,66970,54094,16904,115000,20000,45555,5409,75050,42028,20000,15000,45390,19073,50000,12171,250000,51064,109000,102839,69999,150000,240000,135000,80000,220000,77364,63711,90000,100000,24000,38400,82500,49646,40570,20000,9466,120000,10354,110037,50000,200000,60000,200000,100000,100000,82744,62649,82528,170000,150000,55000,250000,80000,130026,63831,85000,230000,125000,120000,127221,144000,13400,75774,150000,153000,90000,90000,60000,50000,12000,5409,270000,54238,47282,153667,28476,110000,82528,59102,80000,140000,79197,170000,80000,100000,53192,235000,150000,225000,76833,88654,103160,113476,94564,30428,150000,115000,187442,51519,36259,150000,95746,70000,89294,29751,276000,160000,200000,174000,93000,28399,60757,90000,170000,96282,12103,36643,72212,99703,165000,80000,103691,21637,63810,110000,180000,200000,200000,256000,110000,72500,185000,69741,100000,112000,20171,55000,58000,100000,77684,85000,76833,105000,65013,28016,111775,93150,160000,25532,66265,16904,63831,141846,16228,71786,135000,24823,54094,24342,9272,147000,96113,174000,21844,69741,50000,26005,90734,22611,5679,81000,40038,90000,61467,195000,37825,416000,225000,56256,33808,116914,46597,88654,28609,88654,66022,56738,24823,120000,20000,200000,160000,50000,40189,12901,165000,5882,185000,90734,140000,87738,61896,12000,76833,74000,152000,18000,130000,18907,59102,173762,46809,18053,115000,235000,19609,12000,75000,62000,73000,45391,168000,119059,423000,28369,165000,151000,94665],\"xaxis\":\"x\",\"yaxis\":\"y\",\"type\":\"histogram\"}],                        {\"template\":{\"data\":{\"histogram2dcontour\":[{\"type\":\"histogram2dcontour\",\"colorbar\":{\"outlinewidth\":0,\"ticks\":\"\"},\"colorscale\":[[0.0,\"#0d0887\"],[0.1111111111111111,\"#46039f\"],[0.2222222222222222,\"#7201a8\"],[0.3333333333333333,\"#9c179e\"],[0.4444444444444444,\"#bd3786\"],[0.5555555555555556,\"#d8576b\"],[0.6666666666666666,\"#ed7953\"],[0.7777777777777778,\"#fb9f3a\"],[0.8888888888888888,\"#fdca26\"],[1.0,\"#f0f921\"]]}],\"choropleth\":[{\"type\":\"choropleth\",\"colorbar\":{\"outlinewidth\":0,\"ticks\":\"\"}}],\"histogram2d\":[{\"type\":\"histogram2d\",\"colorbar\":{\"outlinewidth\":0,\"ticks\":\"\"},\"colorscale\":[[0.0,\"#0d0887\"],[0.1111111111111111,\"#46039f\"],[0.2222222222222222,\"#7201a8\"],[0.3333333333333333,\"#9c179e\"],[0.4444444444444444,\"#bd3786\"],[0.5555555555555556,\"#d8576b\"],[0.6666666666666666,\"#ed7953\"],[0.7777777777777778,\"#fb9f3a\"],[0.8888888888888888,\"#fdca26\"],[1.0,\"#f0f921\"]]}],\"heatmap\":[{\"type\":\"heatmap\",\"colorbar\":{\"outlinewidth\":0,\"ticks\":\"\"},\"colorscale\":[[0.0,\"#0d0887\"],[0.1111111111111111,\"#46039f\"],[0.2222222222222222,\"#7201a8\"],[0.3333333333333333,\"#9c179e\"],[0.4444444444444444,\"#bd3786\"],[0.5555555555555556,\"#d8576b\"],[0.6666666666666666,\"#ed7953\"],[0.7777777777777778,\"#fb9f3a\"],[0.8888888888888888,\"#fdca26\"],[1.0,\"#f0f921\"]]}],\"heatmapgl\":[{\"type\":\"heatmapgl\",\"colorbar\":{\"outlinewidth\":0,\"ticks\":\"\"},\"colorscale\":[[0.0,\"#0d0887\"],[0.1111111111111111,\"#46039f\"],[0.2222222222222222,\"#7201a8\"],[0.3333333333333333,\"#9c179e\"],[0.4444444444444444,\"#bd3786\"],[0.5555555555555556,\"#d8576b\"],[0.6666666666666666,\"#ed7953\"],[0.7777777777777778,\"#fb9f3a\"],[0.8888888888888888,\"#fdca26\"],[1.0,\"#f0f921\"]]}],\"contourcarpet\":[{\"type\":\"contourcarpet\",\"colorbar\":{\"outlinewidth\":0,\"ticks\":\"\"}}],\"contour\":[{\"type\":\"contour\",\"colorbar\":{\"outlinewidth\":0,\"ticks\":\"\"},\"colorscale\":[[0.0,\"#0d0887\"],[0.1111111111111111,\"#46039f\"],[0.2222222222222222,\"#7201a8\"],[0.3333333333333333,\"#9c179e\"],[0.4444444444444444,\"#bd3786\"],[0.5555555555555556,\"#d8576b\"],[0.6666666666666666,\"#ed7953\"],[0.7777777777777778,\"#fb9f3a\"],[0.8888888888888888,\"#fdca26\"],[1.0,\"#f0f921\"]]}],\"surface\":[{\"type\":\"surface\",\"colorbar\":{\"outlinewidth\":0,\"ticks\":\"\"},\"colorscale\":[[0.0,\"#0d0887\"],[0.1111111111111111,\"#46039f\"],[0.2222222222222222,\"#7201a8\"],[0.3333333333333333,\"#9c179e\"],[0.4444444444444444,\"#bd3786\"],[0.5555555555555556,\"#d8576b\"],[0.6666666666666666,\"#ed7953\"],[0.7777777777777778,\"#fb9f3a\"],[0.8888888888888888,\"#fdca26\"],[1.0,\"#f0f921\"]]}],\"mesh3d\":[{\"type\":\"mesh3d\",\"colorbar\":{\"outlinewidth\":0,\"ticks\":\"\"}}],\"scatter\":[{\"fillpattern\":{\"fillmode\":\"overlay\",\"size\":10,\"solidity\":0.2},\"type\":\"scatter\"}],\"parcoords\":[{\"type\":\"parcoords\",\"line\":{\"colorbar\":{\"outlinewidth\":0,\"ticks\":\"\"}}}],\"scatterpolargl\":[{\"type\":\"scatterpolargl\",\"marker\":{\"colorbar\":{\"outlinewidth\":0,\"ticks\":\"\"}}}],\"bar\":[{\"error_x\":{\"color\":\"#2a3f5f\"},\"error_y\":{\"color\":\"#2a3f5f\"},\"marker\":{\"line\":{\"color\":\"#E5ECF6\",\"width\":0.5},\"pattern\":{\"fillmode\":\"overlay\",\"size\":10,\"solidity\":0.2}},\"type\":\"bar\"}],\"scattergeo\":[{\"type\":\"scattergeo\",\"marker\":{\"colorbar\":{\"outlinewidth\":0,\"ticks\":\"\"}}}],\"scatterpolar\":[{\"type\":\"scatterpolar\",\"marker\":{\"colorbar\":{\"outlinewidth\":0,\"ticks\":\"\"}}}],\"histogram\":[{\"marker\":{\"pattern\":{\"fillmode\":\"overlay\",\"size\":10,\"solidity\":0.2}},\"type\":\"histogram\"}],\"scattergl\":[{\"type\":\"scattergl\",\"marker\":{\"colorbar\":{\"outlinewidth\":0,\"ticks\":\"\"}}}],\"scatter3d\":[{\"type\":\"scatter3d\",\"line\":{\"colorbar\":{\"outlinewidth\":0,\"ticks\":\"\"}},\"marker\":{\"colorbar\":{\"outlinewidth\":0,\"ticks\":\"\"}}}],\"scattermapbox\":[{\"type\":\"scattermapbox\",\"marker\":{\"colorbar\":{\"outlinewidth\":0,\"ticks\":\"\"}}}],\"scatterternary\":[{\"type\":\"scatterternary\",\"marker\":{\"colorbar\":{\"outlinewidth\":0,\"ticks\":\"\"}}}],\"scattercarpet\":[{\"type\":\"scattercarpet\",\"marker\":{\"colorbar\":{\"outlinewidth\":0,\"ticks\":\"\"}}}],\"carpet\":[{\"aaxis\":{\"endlinecolor\":\"#2a3f5f\",\"gridcolor\":\"white\",\"linecolor\":\"white\",\"minorgridcolor\":\"white\",\"startlinecolor\":\"#2a3f5f\"},\"baxis\":{\"endlinecolor\":\"#2a3f5f\",\"gridcolor\":\"white\",\"linecolor\":\"white\",\"minorgridcolor\":\"white\",\"startlinecolor\":\"#2a3f5f\"},\"type\":\"carpet\"}],\"table\":[{\"cells\":{\"fill\":{\"color\":\"#EBF0F8\"},\"line\":{\"color\":\"white\"}},\"header\":{\"fill\":{\"color\":\"#C8D4E3\"},\"line\":{\"color\":\"white\"}},\"type\":\"table\"}],\"barpolar\":[{\"marker\":{\"line\":{\"color\":\"#E5ECF6\",\"width\":0.5},\"pattern\":{\"fillmode\":\"overlay\",\"size\":10,\"solidity\":0.2}},\"type\":\"barpolar\"}],\"pie\":[{\"automargin\":true,\"type\":\"pie\"}]},\"layout\":{\"autotypenumbers\":\"strict\",\"colorway\":[\"#636efa\",\"#EF553B\",\"#00cc96\",\"#ab63fa\",\"#FFA15A\",\"#19d3f3\",\"#FF6692\",\"#B6E880\",\"#FF97FF\",\"#FECB52\"],\"font\":{\"color\":\"#2a3f5f\"},\"hovermode\":\"closest\",\"hoverlabel\":{\"align\":\"left\"},\"paper_bgcolor\":\"white\",\"plot_bgcolor\":\"#E5ECF6\",\"polar\":{\"bgcolor\":\"#E5ECF6\",\"angularaxis\":{\"gridcolor\":\"white\",\"linecolor\":\"white\",\"ticks\":\"\"},\"radialaxis\":{\"gridcolor\":\"white\",\"linecolor\":\"white\",\"ticks\":\"\"}},\"ternary\":{\"bgcolor\":\"#E5ECF6\",\"aaxis\":{\"gridcolor\":\"white\",\"linecolor\":\"white\",\"ticks\":\"\"},\"baxis\":{\"gridcolor\":\"white\",\"linecolor\":\"white\",\"ticks\":\"\"},\"caxis\":{\"gridcolor\":\"white\",\"linecolor\":\"white\",\"ticks\":\"\"}},\"coloraxis\":{\"colorbar\":{\"outlinewidth\":0,\"ticks\":\"\"}},\"colorscale\":{\"sequential\":[[0.0,\"#0d0887\"],[0.1111111111111111,\"#46039f\"],[0.2222222222222222,\"#7201a8\"],[0.3333333333333333,\"#9c179e\"],[0.4444444444444444,\"#bd3786\"],[0.5555555555555556,\"#d8576b\"],[0.6666666666666666,\"#ed7953\"],[0.7777777777777778,\"#fb9f3a\"],[0.8888888888888888,\"#fdca26\"],[1.0,\"#f0f921\"]],\"sequentialminus\":[[0.0,\"#0d0887\"],[0.1111111111111111,\"#46039f\"],[0.2222222222222222,\"#7201a8\"],[0.3333333333333333,\"#9c179e\"],[0.4444444444444444,\"#bd3786\"],[0.5555555555555556,\"#d8576b\"],[0.6666666666666666,\"#ed7953\"],[0.7777777777777778,\"#fb9f3a\"],[0.8888888888888888,\"#fdca26\"],[1.0,\"#f0f921\"]],\"diverging\":[[0,\"#8e0152\"],[0.1,\"#c51b7d\"],[0.2,\"#de77ae\"],[0.3,\"#f1b6da\"],[0.4,\"#fde0ef\"],[0.5,\"#f7f7f7\"],[0.6,\"#e6f5d0\"],[0.7,\"#b8e186\"],[0.8,\"#7fbc41\"],[0.9,\"#4d9221\"],[1,\"#276419\"]]},\"xaxis\":{\"gridcolor\":\"white\",\"linecolor\":\"white\",\"ticks\":\"\",\"title\":{\"standoff\":15},\"zerolinecolor\":\"white\",\"automargin\":true,\"zerolinewidth\":2},\"yaxis\":{\"gridcolor\":\"white\",\"linecolor\":\"white\",\"ticks\":\"\",\"title\":{\"standoff\":15},\"zerolinecolor\":\"white\",\"automargin\":true,\"zerolinewidth\":2},\"scene\":{\"xaxis\":{\"backgroundcolor\":\"#E5ECF6\",\"gridcolor\":\"white\",\"linecolor\":\"white\",\"showbackground\":true,\"ticks\":\"\",\"zerolinecolor\":\"white\",\"gridwidth\":2},\"yaxis\":{\"backgroundcolor\":\"#E5ECF6\",\"gridcolor\":\"white\",\"linecolor\":\"white\",\"showbackground\":true,\"ticks\":\"\",\"zerolinecolor\":\"white\",\"gridwidth\":2},\"zaxis\":{\"backgroundcolor\":\"#E5ECF6\",\"gridcolor\":\"white\",\"linecolor\":\"white\",\"showbackground\":true,\"ticks\":\"\",\"zerolinecolor\":\"white\",\"gridwidth\":2}},\"shapedefaults\":{\"line\":{\"color\":\"#2a3f5f\"}},\"annotationdefaults\":{\"arrowcolor\":\"#2a3f5f\",\"arrowhead\":0,\"arrowwidth\":1},\"geo\":{\"bgcolor\":\"white\",\"landcolor\":\"#E5ECF6\",\"subunitcolor\":\"white\",\"showland\":true,\"showlakes\":true,\"lakecolor\":\"white\"},\"title\":{\"x\":0.05},\"mapbox\":{\"style\":\"light\"}}},\"xaxis\":{\"anchor\":\"y\",\"domain\":[0.0,1.0],\"title\":{\"text\":\"Salary\"}},\"yaxis\":{\"anchor\":\"x\",\"domain\":[0.0,1.0],\"title\":{\"text\":\"count\"}},\"legend\":{\"title\":{\"text\":\"color\"},\"tracegroupgap\":0},\"title\":{\"text\":\"Distribution of Salaries over the Years\"},\"barmode\":\"overlay\"},                        {\"responsive\": true}                    ).then(function(){\n",
              "                            \n",
              "var gd = document.getElementById('75e2874b-dc17-4144-96b8-310c8a5dd085');\n",
              "var x = new MutationObserver(function (mutations, observer) {{\n",
              "        var display = window.getComputedStyle(gd).display;\n",
              "        if (!display || display === 'none') {{\n",
              "            console.log([gd, 'removed!']);\n",
              "            Plotly.purge(gd);\n",
              "            observer.disconnect();\n",
              "        }}\n",
              "}});\n",
              "\n",
              "// Listen for the removal of the full notebook cells\n",
              "var notebookContainer = gd.closest('#notebook-container');\n",
              "if (notebookContainer) {{\n",
              "    x.observe(notebookContainer, {childList: true});\n",
              "}}\n",
              "\n",
              "// Listen for the clearing of the current output cell\n",
              "var outputEl = gd.closest('.output');\n",
              "if (outputEl) {{\n",
              "    x.observe(outputEl, {childList: true});\n",
              "}}\n",
              "\n",
              "                        })                };                            </script>        </div>\n",
              "</body>\n",
              "</html>"
            ]
          },
          "metadata": {}
        }
      ]
    },
    {
      "cell_type": "markdown",
      "source": [
        "The distribution of salaries is right-skewed, meaning that there are fewer values with higher magnitudes."
      ],
      "metadata": {
        "id": "vgSXU9XgjQWo"
      }
    },
    {
      "cell_type": "markdown",
      "source": [
        "18. I would like to analyze the number of job posts over the years."
      ],
      "metadata": {
        "id": "WXdKxSBGjbWc"
      }
    },
    {
      "cell_type": "code",
      "source": [
        "xdf=df['work_year'].value_counts()\n",
        "xdf\n"
      ],
      "metadata": {
        "colab": {
          "base_uri": "https://localhost:8080/"
        },
        "id": "0mBFjAhSjfhO",
        "outputId": "e8b42e43-8fb1-41d6-f03d-31fa6f24902e"
      },
      "execution_count": null,
      "outputs": [
        {
          "output_type": "execute_result",
          "data": {
            "text/plain": [
              "2023    1785\n",
              "2022    1664\n",
              "2021     230\n",
              "2020      76\n",
              "Name: work_year, dtype: int64"
            ]
          },
          "metadata": {},
          "execution_count": 243
        }
      ]
    },
    {
      "cell_type": "code",
      "source": [
        "px.pie(values=xdf, names=xdf.index, title='Proportion of No. of Posts')"
      ],
      "metadata": {
        "colab": {
          "base_uri": "https://localhost:8080/",
          "height": 542
        },
        "id": "5f8HMM3-juL_",
        "outputId": "4a736335-d2d4-4789-b6f2-15ff110b8285"
      },
      "execution_count": null,
      "outputs": [
        {
          "output_type": "display_data",
          "data": {
            "text/html": [
              "<html>\n",
              "<head><meta charset=\"utf-8\" /></head>\n",
              "<body>\n",
              "    <div>            <script src=\"https://cdnjs.cloudflare.com/ajax/libs/mathjax/2.7.5/MathJax.js?config=TeX-AMS-MML_SVG\"></script><script type=\"text/javascript\">if (window.MathJax && window.MathJax.Hub && window.MathJax.Hub.Config) {window.MathJax.Hub.Config({SVG: {font: \"STIX-Web\"}});}</script>                <script type=\"text/javascript\">window.PlotlyConfig = {MathJaxConfig: 'local'};</script>\n",
              "        <script src=\"https://cdn.plot.ly/plotly-2.18.2.min.js\"></script>                <div id=\"789539e8-2c98-4654-a337-68d7fe33fd2f\" class=\"plotly-graph-div\" style=\"height:525px; width:100%;\"></div>            <script type=\"text/javascript\">                                    window.PLOTLYENV=window.PLOTLYENV || {};                                    if (document.getElementById(\"789539e8-2c98-4654-a337-68d7fe33fd2f\")) {                    Plotly.newPlot(                        \"789539e8-2c98-4654-a337-68d7fe33fd2f\",                        [{\"domain\":{\"x\":[0.0,1.0],\"y\":[0.0,1.0]},\"hovertemplate\":\"label=%{label}<br>value=%{value}<extra></extra>\",\"labels\":[2023,2022,2021,2020],\"legendgroup\":\"\",\"name\":\"\",\"showlegend\":true,\"values\":[1785,1664,230,76],\"type\":\"pie\"}],                        {\"template\":{\"data\":{\"histogram2dcontour\":[{\"type\":\"histogram2dcontour\",\"colorbar\":{\"outlinewidth\":0,\"ticks\":\"\"},\"colorscale\":[[0.0,\"#0d0887\"],[0.1111111111111111,\"#46039f\"],[0.2222222222222222,\"#7201a8\"],[0.3333333333333333,\"#9c179e\"],[0.4444444444444444,\"#bd3786\"],[0.5555555555555556,\"#d8576b\"],[0.6666666666666666,\"#ed7953\"],[0.7777777777777778,\"#fb9f3a\"],[0.8888888888888888,\"#fdca26\"],[1.0,\"#f0f921\"]]}],\"choropleth\":[{\"type\":\"choropleth\",\"colorbar\":{\"outlinewidth\":0,\"ticks\":\"\"}}],\"histogram2d\":[{\"type\":\"histogram2d\",\"colorbar\":{\"outlinewidth\":0,\"ticks\":\"\"},\"colorscale\":[[0.0,\"#0d0887\"],[0.1111111111111111,\"#46039f\"],[0.2222222222222222,\"#7201a8\"],[0.3333333333333333,\"#9c179e\"],[0.4444444444444444,\"#bd3786\"],[0.5555555555555556,\"#d8576b\"],[0.6666666666666666,\"#ed7953\"],[0.7777777777777778,\"#fb9f3a\"],[0.8888888888888888,\"#fdca26\"],[1.0,\"#f0f921\"]]}],\"heatmap\":[{\"type\":\"heatmap\",\"colorbar\":{\"outlinewidth\":0,\"ticks\":\"\"},\"colorscale\":[[0.0,\"#0d0887\"],[0.1111111111111111,\"#46039f\"],[0.2222222222222222,\"#7201a8\"],[0.3333333333333333,\"#9c179e\"],[0.4444444444444444,\"#bd3786\"],[0.5555555555555556,\"#d8576b\"],[0.6666666666666666,\"#ed7953\"],[0.7777777777777778,\"#fb9f3a\"],[0.8888888888888888,\"#fdca26\"],[1.0,\"#f0f921\"]]}],\"heatmapgl\":[{\"type\":\"heatmapgl\",\"colorbar\":{\"outlinewidth\":0,\"ticks\":\"\"},\"colorscale\":[[0.0,\"#0d0887\"],[0.1111111111111111,\"#46039f\"],[0.2222222222222222,\"#7201a8\"],[0.3333333333333333,\"#9c179e\"],[0.4444444444444444,\"#bd3786\"],[0.5555555555555556,\"#d8576b\"],[0.6666666666666666,\"#ed7953\"],[0.7777777777777778,\"#fb9f3a\"],[0.8888888888888888,\"#fdca26\"],[1.0,\"#f0f921\"]]}],\"contourcarpet\":[{\"type\":\"contourcarpet\",\"colorbar\":{\"outlinewidth\":0,\"ticks\":\"\"}}],\"contour\":[{\"type\":\"contour\",\"colorbar\":{\"outlinewidth\":0,\"ticks\":\"\"},\"colorscale\":[[0.0,\"#0d0887\"],[0.1111111111111111,\"#46039f\"],[0.2222222222222222,\"#7201a8\"],[0.3333333333333333,\"#9c179e\"],[0.4444444444444444,\"#bd3786\"],[0.5555555555555556,\"#d8576b\"],[0.6666666666666666,\"#ed7953\"],[0.7777777777777778,\"#fb9f3a\"],[0.8888888888888888,\"#fdca26\"],[1.0,\"#f0f921\"]]}],\"surface\":[{\"type\":\"surface\",\"colorbar\":{\"outlinewidth\":0,\"ticks\":\"\"},\"colorscale\":[[0.0,\"#0d0887\"],[0.1111111111111111,\"#46039f\"],[0.2222222222222222,\"#7201a8\"],[0.3333333333333333,\"#9c179e\"],[0.4444444444444444,\"#bd3786\"],[0.5555555555555556,\"#d8576b\"],[0.6666666666666666,\"#ed7953\"],[0.7777777777777778,\"#fb9f3a\"],[0.8888888888888888,\"#fdca26\"],[1.0,\"#f0f921\"]]}],\"mesh3d\":[{\"type\":\"mesh3d\",\"colorbar\":{\"outlinewidth\":0,\"ticks\":\"\"}}],\"scatter\":[{\"fillpattern\":{\"fillmode\":\"overlay\",\"size\":10,\"solidity\":0.2},\"type\":\"scatter\"}],\"parcoords\":[{\"type\":\"parcoords\",\"line\":{\"colorbar\":{\"outlinewidth\":0,\"ticks\":\"\"}}}],\"scatterpolargl\":[{\"type\":\"scatterpolargl\",\"marker\":{\"colorbar\":{\"outlinewidth\":0,\"ticks\":\"\"}}}],\"bar\":[{\"error_x\":{\"color\":\"#2a3f5f\"},\"error_y\":{\"color\":\"#2a3f5f\"},\"marker\":{\"line\":{\"color\":\"#E5ECF6\",\"width\":0.5},\"pattern\":{\"fillmode\":\"overlay\",\"size\":10,\"solidity\":0.2}},\"type\":\"bar\"}],\"scattergeo\":[{\"type\":\"scattergeo\",\"marker\":{\"colorbar\":{\"outlinewidth\":0,\"ticks\":\"\"}}}],\"scatterpolar\":[{\"type\":\"scatterpolar\",\"marker\":{\"colorbar\":{\"outlinewidth\":0,\"ticks\":\"\"}}}],\"histogram\":[{\"marker\":{\"pattern\":{\"fillmode\":\"overlay\",\"size\":10,\"solidity\":0.2}},\"type\":\"histogram\"}],\"scattergl\":[{\"type\":\"scattergl\",\"marker\":{\"colorbar\":{\"outlinewidth\":0,\"ticks\":\"\"}}}],\"scatter3d\":[{\"type\":\"scatter3d\",\"line\":{\"colorbar\":{\"outlinewidth\":0,\"ticks\":\"\"}},\"marker\":{\"colorbar\":{\"outlinewidth\":0,\"ticks\":\"\"}}}],\"scattermapbox\":[{\"type\":\"scattermapbox\",\"marker\":{\"colorbar\":{\"outlinewidth\":0,\"ticks\":\"\"}}}],\"scatterternary\":[{\"type\":\"scatterternary\",\"marker\":{\"colorbar\":{\"outlinewidth\":0,\"ticks\":\"\"}}}],\"scattercarpet\":[{\"type\":\"scattercarpet\",\"marker\":{\"colorbar\":{\"outlinewidth\":0,\"ticks\":\"\"}}}],\"carpet\":[{\"aaxis\":{\"endlinecolor\":\"#2a3f5f\",\"gridcolor\":\"white\",\"linecolor\":\"white\",\"minorgridcolor\":\"white\",\"startlinecolor\":\"#2a3f5f\"},\"baxis\":{\"endlinecolor\":\"#2a3f5f\",\"gridcolor\":\"white\",\"linecolor\":\"white\",\"minorgridcolor\":\"white\",\"startlinecolor\":\"#2a3f5f\"},\"type\":\"carpet\"}],\"table\":[{\"cells\":{\"fill\":{\"color\":\"#EBF0F8\"},\"line\":{\"color\":\"white\"}},\"header\":{\"fill\":{\"color\":\"#C8D4E3\"},\"line\":{\"color\":\"white\"}},\"type\":\"table\"}],\"barpolar\":[{\"marker\":{\"line\":{\"color\":\"#E5ECF6\",\"width\":0.5},\"pattern\":{\"fillmode\":\"overlay\",\"size\":10,\"solidity\":0.2}},\"type\":\"barpolar\"}],\"pie\":[{\"automargin\":true,\"type\":\"pie\"}]},\"layout\":{\"autotypenumbers\":\"strict\",\"colorway\":[\"#636efa\",\"#EF553B\",\"#00cc96\",\"#ab63fa\",\"#FFA15A\",\"#19d3f3\",\"#FF6692\",\"#B6E880\",\"#FF97FF\",\"#FECB52\"],\"font\":{\"color\":\"#2a3f5f\"},\"hovermode\":\"closest\",\"hoverlabel\":{\"align\":\"left\"},\"paper_bgcolor\":\"white\",\"plot_bgcolor\":\"#E5ECF6\",\"polar\":{\"bgcolor\":\"#E5ECF6\",\"angularaxis\":{\"gridcolor\":\"white\",\"linecolor\":\"white\",\"ticks\":\"\"},\"radialaxis\":{\"gridcolor\":\"white\",\"linecolor\":\"white\",\"ticks\":\"\"}},\"ternary\":{\"bgcolor\":\"#E5ECF6\",\"aaxis\":{\"gridcolor\":\"white\",\"linecolor\":\"white\",\"ticks\":\"\"},\"baxis\":{\"gridcolor\":\"white\",\"linecolor\":\"white\",\"ticks\":\"\"},\"caxis\":{\"gridcolor\":\"white\",\"linecolor\":\"white\",\"ticks\":\"\"}},\"coloraxis\":{\"colorbar\":{\"outlinewidth\":0,\"ticks\":\"\"}},\"colorscale\":{\"sequential\":[[0.0,\"#0d0887\"],[0.1111111111111111,\"#46039f\"],[0.2222222222222222,\"#7201a8\"],[0.3333333333333333,\"#9c179e\"],[0.4444444444444444,\"#bd3786\"],[0.5555555555555556,\"#d8576b\"],[0.6666666666666666,\"#ed7953\"],[0.7777777777777778,\"#fb9f3a\"],[0.8888888888888888,\"#fdca26\"],[1.0,\"#f0f921\"]],\"sequentialminus\":[[0.0,\"#0d0887\"],[0.1111111111111111,\"#46039f\"],[0.2222222222222222,\"#7201a8\"],[0.3333333333333333,\"#9c179e\"],[0.4444444444444444,\"#bd3786\"],[0.5555555555555556,\"#d8576b\"],[0.6666666666666666,\"#ed7953\"],[0.7777777777777778,\"#fb9f3a\"],[0.8888888888888888,\"#fdca26\"],[1.0,\"#f0f921\"]],\"diverging\":[[0,\"#8e0152\"],[0.1,\"#c51b7d\"],[0.2,\"#de77ae\"],[0.3,\"#f1b6da\"],[0.4,\"#fde0ef\"],[0.5,\"#f7f7f7\"],[0.6,\"#e6f5d0\"],[0.7,\"#b8e186\"],[0.8,\"#7fbc41\"],[0.9,\"#4d9221\"],[1,\"#276419\"]]},\"xaxis\":{\"gridcolor\":\"white\",\"linecolor\":\"white\",\"ticks\":\"\",\"title\":{\"standoff\":15},\"zerolinecolor\":\"white\",\"automargin\":true,\"zerolinewidth\":2},\"yaxis\":{\"gridcolor\":\"white\",\"linecolor\":\"white\",\"ticks\":\"\",\"title\":{\"standoff\":15},\"zerolinecolor\":\"white\",\"automargin\":true,\"zerolinewidth\":2},\"scene\":{\"xaxis\":{\"backgroundcolor\":\"#E5ECF6\",\"gridcolor\":\"white\",\"linecolor\":\"white\",\"showbackground\":true,\"ticks\":\"\",\"zerolinecolor\":\"white\",\"gridwidth\":2},\"yaxis\":{\"backgroundcolor\":\"#E5ECF6\",\"gridcolor\":\"white\",\"linecolor\":\"white\",\"showbackground\":true,\"ticks\":\"\",\"zerolinecolor\":\"white\",\"gridwidth\":2},\"zaxis\":{\"backgroundcolor\":\"#E5ECF6\",\"gridcolor\":\"white\",\"linecolor\":\"white\",\"showbackground\":true,\"ticks\":\"\",\"zerolinecolor\":\"white\",\"gridwidth\":2}},\"shapedefaults\":{\"line\":{\"color\":\"#2a3f5f\"}},\"annotationdefaults\":{\"arrowcolor\":\"#2a3f5f\",\"arrowhead\":0,\"arrowwidth\":1},\"geo\":{\"bgcolor\":\"white\",\"landcolor\":\"#E5ECF6\",\"subunitcolor\":\"white\",\"showland\":true,\"showlakes\":true,\"lakecolor\":\"white\"},\"title\":{\"x\":0.05},\"mapbox\":{\"style\":\"light\"}}},\"legend\":{\"tracegroupgap\":0},\"title\":{\"text\":\"Proportion of No. of Posts\"}},                        {\"responsive\": true}                    ).then(function(){\n",
              "                            \n",
              "var gd = document.getElementById('789539e8-2c98-4654-a337-68d7fe33fd2f');\n",
              "var x = new MutationObserver(function (mutations, observer) {{\n",
              "        var display = window.getComputedStyle(gd).display;\n",
              "        if (!display || display === 'none') {{\n",
              "            console.log([gd, 'removed!']);\n",
              "            Plotly.purge(gd);\n",
              "            observer.disconnect();\n",
              "        }}\n",
              "}});\n",
              "\n",
              "// Listen for the removal of the full notebook cells\n",
              "var notebookContainer = gd.closest('#notebook-container');\n",
              "if (notebookContainer) {{\n",
              "    x.observe(notebookContainer, {childList: true});\n",
              "}}\n",
              "\n",
              "// Listen for the clearing of the current output cell\n",
              "var outputEl = gd.closest('.output');\n",
              "if (outputEl) {{\n",
              "    x.observe(outputEl, {childList: true});\n",
              "}}\n",
              "\n",
              "                        })                };                            </script>        </div>\n",
              "</body>\n",
              "</html>"
            ]
          },
          "metadata": {}
        }
      ]
    },
    {
      "cell_type": "markdown",
      "source": [
        "# The year 2023 has the highest number of job posts, followed by the year 2022. This indicates significant growth in the field, and it is expected to continue expanding. If you found this notebook helpful, please consider upvoting it. For any suggestions or inquiries, please feel free to reach out. Let's progress together. Thank you.\n",
        "\n",
        " *This concludes our discussion. If you have any further questions, feel free to ask.*"
      ],
      "metadata": {
        "id": "HACdRVgdkYj0"
      }
    },
    {
      "cell_type": "markdown",
      "source": [
        "Since we have taken USD as the standard currency it doesn't show any variation. On the other hand EUR and CAD show much variation. And GBP continues to be storngest currency throughout."
      ],
      "metadata": {
        "id": "dM0gmxJbOrSr"
      }
    },
    {
      "cell_type": "markdown",
      "source": [
        "There is always an increment over the years in median salary for all the experience levels. Seniors and Executives get higher median salary than the others."
      ],
      "metadata": {
        "id": "3l9-DlZWP6JY"
      }
    },
    {
      "cell_type": "markdown",
      "source": [
        "# 14) Compare the employment type with salary."
      ],
      "metadata": {
        "id": "TZGnPh0aP73p"
      }
    },
    {
      "cell_type": "code",
      "source": [
        "xdf = df.groupby('employment_type', as_index=False)['salary_in_usd'].median()\n",
        "xdf"
      ],
      "metadata": {
        "id": "704r-Q-zP_vt",
        "colab": {
          "base_uri": "https://localhost:8080/",
          "height": 175
        },
        "outputId": "a6986368-925f-434b-9d18-178d7f349b79"
      },
      "execution_count": null,
      "outputs": [
        {
          "output_type": "execute_result",
          "data": {
            "text/plain": [
              "  employment_type  salary_in_usd\n",
              "0        Contract        75000.0\n",
              "1      Freelancer        50000.0\n",
              "2       Full-time       135000.0\n",
              "3       Part-time        21669.0"
            ],
            "text/html": [
              "\n",
              "  <div id=\"df-a10c8558-b4e1-4685-b694-5271a98af586\">\n",
              "    <div class=\"colab-df-container\">\n",
              "      <div>\n",
              "<style scoped>\n",
              "    .dataframe tbody tr th:only-of-type {\n",
              "        vertical-align: middle;\n",
              "    }\n",
              "\n",
              "    .dataframe tbody tr th {\n",
              "        vertical-align: top;\n",
              "    }\n",
              "\n",
              "    .dataframe thead th {\n",
              "        text-align: right;\n",
              "    }\n",
              "</style>\n",
              "<table border=\"1\" class=\"dataframe\">\n",
              "  <thead>\n",
              "    <tr style=\"text-align: right;\">\n",
              "      <th></th>\n",
              "      <th>employment_type</th>\n",
              "      <th>salary_in_usd</th>\n",
              "    </tr>\n",
              "  </thead>\n",
              "  <tbody>\n",
              "    <tr>\n",
              "      <th>0</th>\n",
              "      <td>Contract</td>\n",
              "      <td>75000.0</td>\n",
              "    </tr>\n",
              "    <tr>\n",
              "      <th>1</th>\n",
              "      <td>Freelancer</td>\n",
              "      <td>50000.0</td>\n",
              "    </tr>\n",
              "    <tr>\n",
              "      <th>2</th>\n",
              "      <td>Full-time</td>\n",
              "      <td>135000.0</td>\n",
              "    </tr>\n",
              "    <tr>\n",
              "      <th>3</th>\n",
              "      <td>Part-time</td>\n",
              "      <td>21669.0</td>\n",
              "    </tr>\n",
              "  </tbody>\n",
              "</table>\n",
              "</div>\n",
              "      <button class=\"colab-df-convert\" onclick=\"convertToInteractive('df-a10c8558-b4e1-4685-b694-5271a98af586')\"\n",
              "              title=\"Convert this dataframe to an interactive table.\"\n",
              "              style=\"display:none;\">\n",
              "        \n",
              "  <svg xmlns=\"http://www.w3.org/2000/svg\" height=\"24px\"viewBox=\"0 0 24 24\"\n",
              "       width=\"24px\">\n",
              "    <path d=\"M0 0h24v24H0V0z\" fill=\"none\"/>\n",
              "    <path d=\"M18.56 5.44l.94 2.06.94-2.06 2.06-.94-2.06-.94-.94-2.06-.94 2.06-2.06.94zm-11 1L8.5 8.5l.94-2.06 2.06-.94-2.06-.94L8.5 2.5l-.94 2.06-2.06.94zm10 10l.94 2.06.94-2.06 2.06-.94-2.06-.94-.94-2.06-.94 2.06-2.06.94z\"/><path d=\"M17.41 7.96l-1.37-1.37c-.4-.4-.92-.59-1.43-.59-.52 0-1.04.2-1.43.59L10.3 9.45l-7.72 7.72c-.78.78-.78 2.05 0 2.83L4 21.41c.39.39.9.59 1.41.59.51 0 1.02-.2 1.41-.59l7.78-7.78 2.81-2.81c.8-.78.8-2.07 0-2.86zM5.41 20L4 18.59l7.72-7.72 1.47 1.35L5.41 20z\"/>\n",
              "  </svg>\n",
              "      </button>\n",
              "      \n",
              "  <style>\n",
              "    .colab-df-container {\n",
              "      display:flex;\n",
              "      flex-wrap:wrap;\n",
              "      gap: 12px;\n",
              "    }\n",
              "\n",
              "    .colab-df-convert {\n",
              "      background-color: #E8F0FE;\n",
              "      border: none;\n",
              "      border-radius: 50%;\n",
              "      cursor: pointer;\n",
              "      display: none;\n",
              "      fill: #1967D2;\n",
              "      height: 32px;\n",
              "      padding: 0 0 0 0;\n",
              "      width: 32px;\n",
              "    }\n",
              "\n",
              "    .colab-df-convert:hover {\n",
              "      background-color: #E2EBFA;\n",
              "      box-shadow: 0px 1px 2px rgba(60, 64, 67, 0.3), 0px 1px 3px 1px rgba(60, 64, 67, 0.15);\n",
              "      fill: #174EA6;\n",
              "    }\n",
              "\n",
              "    [theme=dark] .colab-df-convert {\n",
              "      background-color: #3B4455;\n",
              "      fill: #D2E3FC;\n",
              "    }\n",
              "\n",
              "    [theme=dark] .colab-df-convert:hover {\n",
              "      background-color: #434B5C;\n",
              "      box-shadow: 0px 1px 3px 1px rgba(0, 0, 0, 0.15);\n",
              "      filter: drop-shadow(0px 1px 2px rgba(0, 0, 0, 0.3));\n",
              "      fill: #FFFFFF;\n",
              "    }\n",
              "  </style>\n",
              "\n",
              "      <script>\n",
              "        const buttonEl =\n",
              "          document.querySelector('#df-a10c8558-b4e1-4685-b694-5271a98af586 button.colab-df-convert');\n",
              "        buttonEl.style.display =\n",
              "          google.colab.kernel.accessAllowed ? 'block' : 'none';\n",
              "\n",
              "        async function convertToInteractive(key) {\n",
              "          const element = document.querySelector('#df-a10c8558-b4e1-4685-b694-5271a98af586');\n",
              "          const dataTable =\n",
              "            await google.colab.kernel.invokeFunction('convertToInteractive',\n",
              "                                                     [key], {});\n",
              "          if (!dataTable) return;\n",
              "\n",
              "          const docLinkHtml = 'Like what you see? Visit the ' +\n",
              "            '<a target=\"_blank\" href=https://colab.research.google.com/notebooks/data_table.ipynb>data table notebook</a>'\n",
              "            + ' to learn more about interactive tables.';\n",
              "          element.innerHTML = '';\n",
              "          dataTable['output_type'] = 'display_data';\n",
              "          await google.colab.output.renderOutput(dataTable, element);\n",
              "          const docLink = document.createElement('div');\n",
              "          docLink.innerHTML = docLinkHtml;\n",
              "          element.appendChild(docLink);\n",
              "        }\n",
              "      </script>\n",
              "    </div>\n",
              "  </div>\n",
              "  "
            ]
          },
          "metadata": {},
          "execution_count": 245
        }
      ]
    },
    {
      "cell_type": "code",
      "source": [
        "px.bar(xdf,x='employment_type',y='salary_in_usd')"
      ],
      "metadata": {
        "id": "d1E_gheyQCws",
        "colab": {
          "base_uri": "https://localhost:8080/",
          "height": 542
        },
        "outputId": "26f4c051-4554-44b5-bef6-0cd6596b5852"
      },
      "execution_count": null,
      "outputs": [
        {
          "output_type": "display_data",
          "data": {
            "text/html": [
              "<html>\n",
              "<head><meta charset=\"utf-8\" /></head>\n",
              "<body>\n",
              "    <div>            <script src=\"https://cdnjs.cloudflare.com/ajax/libs/mathjax/2.7.5/MathJax.js?config=TeX-AMS-MML_SVG\"></script><script type=\"text/javascript\">if (window.MathJax && window.MathJax.Hub && window.MathJax.Hub.Config) {window.MathJax.Hub.Config({SVG: {font: \"STIX-Web\"}});}</script>                <script type=\"text/javascript\">window.PlotlyConfig = {MathJaxConfig: 'local'};</script>\n",
              "        <script src=\"https://cdn.plot.ly/plotly-2.18.2.min.js\"></script>                <div id=\"3d36409b-1455-4be8-9178-2fdbffc7a79d\" class=\"plotly-graph-div\" style=\"height:525px; width:100%;\"></div>            <script type=\"text/javascript\">                                    window.PLOTLYENV=window.PLOTLYENV || {};                                    if (document.getElementById(\"3d36409b-1455-4be8-9178-2fdbffc7a79d\")) {                    Plotly.newPlot(                        \"3d36409b-1455-4be8-9178-2fdbffc7a79d\",                        [{\"alignmentgroup\":\"True\",\"hovertemplate\":\"employment_type=%{x}<br>salary_in_usd=%{y}<extra></extra>\",\"legendgroup\":\"\",\"marker\":{\"color\":\"#636efa\",\"pattern\":{\"shape\":\"\"}},\"name\":\"\",\"offsetgroup\":\"\",\"orientation\":\"v\",\"showlegend\":false,\"textposition\":\"auto\",\"x\":[\"Contract\",\"Freelancer\",\"Full-time\",\"Part-time\"],\"xaxis\":\"x\",\"y\":[75000.0,50000.0,135000.0,21669.0],\"yaxis\":\"y\",\"type\":\"bar\"}],                        {\"template\":{\"data\":{\"histogram2dcontour\":[{\"type\":\"histogram2dcontour\",\"colorbar\":{\"outlinewidth\":0,\"ticks\":\"\"},\"colorscale\":[[0.0,\"#0d0887\"],[0.1111111111111111,\"#46039f\"],[0.2222222222222222,\"#7201a8\"],[0.3333333333333333,\"#9c179e\"],[0.4444444444444444,\"#bd3786\"],[0.5555555555555556,\"#d8576b\"],[0.6666666666666666,\"#ed7953\"],[0.7777777777777778,\"#fb9f3a\"],[0.8888888888888888,\"#fdca26\"],[1.0,\"#f0f921\"]]}],\"choropleth\":[{\"type\":\"choropleth\",\"colorbar\":{\"outlinewidth\":0,\"ticks\":\"\"}}],\"histogram2d\":[{\"type\":\"histogram2d\",\"colorbar\":{\"outlinewidth\":0,\"ticks\":\"\"},\"colorscale\":[[0.0,\"#0d0887\"],[0.1111111111111111,\"#46039f\"],[0.2222222222222222,\"#7201a8\"],[0.3333333333333333,\"#9c179e\"],[0.4444444444444444,\"#bd3786\"],[0.5555555555555556,\"#d8576b\"],[0.6666666666666666,\"#ed7953\"],[0.7777777777777778,\"#fb9f3a\"],[0.8888888888888888,\"#fdca26\"],[1.0,\"#f0f921\"]]}],\"heatmap\":[{\"type\":\"heatmap\",\"colorbar\":{\"outlinewidth\":0,\"ticks\":\"\"},\"colorscale\":[[0.0,\"#0d0887\"],[0.1111111111111111,\"#46039f\"],[0.2222222222222222,\"#7201a8\"],[0.3333333333333333,\"#9c179e\"],[0.4444444444444444,\"#bd3786\"],[0.5555555555555556,\"#d8576b\"],[0.6666666666666666,\"#ed7953\"],[0.7777777777777778,\"#fb9f3a\"],[0.8888888888888888,\"#fdca26\"],[1.0,\"#f0f921\"]]}],\"heatmapgl\":[{\"type\":\"heatmapgl\",\"colorbar\":{\"outlinewidth\":0,\"ticks\":\"\"},\"colorscale\":[[0.0,\"#0d0887\"],[0.1111111111111111,\"#46039f\"],[0.2222222222222222,\"#7201a8\"],[0.3333333333333333,\"#9c179e\"],[0.4444444444444444,\"#bd3786\"],[0.5555555555555556,\"#d8576b\"],[0.6666666666666666,\"#ed7953\"],[0.7777777777777778,\"#fb9f3a\"],[0.8888888888888888,\"#fdca26\"],[1.0,\"#f0f921\"]]}],\"contourcarpet\":[{\"type\":\"contourcarpet\",\"colorbar\":{\"outlinewidth\":0,\"ticks\":\"\"}}],\"contour\":[{\"type\":\"contour\",\"colorbar\":{\"outlinewidth\":0,\"ticks\":\"\"},\"colorscale\":[[0.0,\"#0d0887\"],[0.1111111111111111,\"#46039f\"],[0.2222222222222222,\"#7201a8\"],[0.3333333333333333,\"#9c179e\"],[0.4444444444444444,\"#bd3786\"],[0.5555555555555556,\"#d8576b\"],[0.6666666666666666,\"#ed7953\"],[0.7777777777777778,\"#fb9f3a\"],[0.8888888888888888,\"#fdca26\"],[1.0,\"#f0f921\"]]}],\"surface\":[{\"type\":\"surface\",\"colorbar\":{\"outlinewidth\":0,\"ticks\":\"\"},\"colorscale\":[[0.0,\"#0d0887\"],[0.1111111111111111,\"#46039f\"],[0.2222222222222222,\"#7201a8\"],[0.3333333333333333,\"#9c179e\"],[0.4444444444444444,\"#bd3786\"],[0.5555555555555556,\"#d8576b\"],[0.6666666666666666,\"#ed7953\"],[0.7777777777777778,\"#fb9f3a\"],[0.8888888888888888,\"#fdca26\"],[1.0,\"#f0f921\"]]}],\"mesh3d\":[{\"type\":\"mesh3d\",\"colorbar\":{\"outlinewidth\":0,\"ticks\":\"\"}}],\"scatter\":[{\"fillpattern\":{\"fillmode\":\"overlay\",\"size\":10,\"solidity\":0.2},\"type\":\"scatter\"}],\"parcoords\":[{\"type\":\"parcoords\",\"line\":{\"colorbar\":{\"outlinewidth\":0,\"ticks\":\"\"}}}],\"scatterpolargl\":[{\"type\":\"scatterpolargl\",\"marker\":{\"colorbar\":{\"outlinewidth\":0,\"ticks\":\"\"}}}],\"bar\":[{\"error_x\":{\"color\":\"#2a3f5f\"},\"error_y\":{\"color\":\"#2a3f5f\"},\"marker\":{\"line\":{\"color\":\"#E5ECF6\",\"width\":0.5},\"pattern\":{\"fillmode\":\"overlay\",\"size\":10,\"solidity\":0.2}},\"type\":\"bar\"}],\"scattergeo\":[{\"type\":\"scattergeo\",\"marker\":{\"colorbar\":{\"outlinewidth\":0,\"ticks\":\"\"}}}],\"scatterpolar\":[{\"type\":\"scatterpolar\",\"marker\":{\"colorbar\":{\"outlinewidth\":0,\"ticks\":\"\"}}}],\"histogram\":[{\"marker\":{\"pattern\":{\"fillmode\":\"overlay\",\"size\":10,\"solidity\":0.2}},\"type\":\"histogram\"}],\"scattergl\":[{\"type\":\"scattergl\",\"marker\":{\"colorbar\":{\"outlinewidth\":0,\"ticks\":\"\"}}}],\"scatter3d\":[{\"type\":\"scatter3d\",\"line\":{\"colorbar\":{\"outlinewidth\":0,\"ticks\":\"\"}},\"marker\":{\"colorbar\":{\"outlinewidth\":0,\"ticks\":\"\"}}}],\"scattermapbox\":[{\"type\":\"scattermapbox\",\"marker\":{\"colorbar\":{\"outlinewidth\":0,\"ticks\":\"\"}}}],\"scatterternary\":[{\"type\":\"scatterternary\",\"marker\":{\"colorbar\":{\"outlinewidth\":0,\"ticks\":\"\"}}}],\"scattercarpet\":[{\"type\":\"scattercarpet\",\"marker\":{\"colorbar\":{\"outlinewidth\":0,\"ticks\":\"\"}}}],\"carpet\":[{\"aaxis\":{\"endlinecolor\":\"#2a3f5f\",\"gridcolor\":\"white\",\"linecolor\":\"white\",\"minorgridcolor\":\"white\",\"startlinecolor\":\"#2a3f5f\"},\"baxis\":{\"endlinecolor\":\"#2a3f5f\",\"gridcolor\":\"white\",\"linecolor\":\"white\",\"minorgridcolor\":\"white\",\"startlinecolor\":\"#2a3f5f\"},\"type\":\"carpet\"}],\"table\":[{\"cells\":{\"fill\":{\"color\":\"#EBF0F8\"},\"line\":{\"color\":\"white\"}},\"header\":{\"fill\":{\"color\":\"#C8D4E3\"},\"line\":{\"color\":\"white\"}},\"type\":\"table\"}],\"barpolar\":[{\"marker\":{\"line\":{\"color\":\"#E5ECF6\",\"width\":0.5},\"pattern\":{\"fillmode\":\"overlay\",\"size\":10,\"solidity\":0.2}},\"type\":\"barpolar\"}],\"pie\":[{\"automargin\":true,\"type\":\"pie\"}]},\"layout\":{\"autotypenumbers\":\"strict\",\"colorway\":[\"#636efa\",\"#EF553B\",\"#00cc96\",\"#ab63fa\",\"#FFA15A\",\"#19d3f3\",\"#FF6692\",\"#B6E880\",\"#FF97FF\",\"#FECB52\"],\"font\":{\"color\":\"#2a3f5f\"},\"hovermode\":\"closest\",\"hoverlabel\":{\"align\":\"left\"},\"paper_bgcolor\":\"white\",\"plot_bgcolor\":\"#E5ECF6\",\"polar\":{\"bgcolor\":\"#E5ECF6\",\"angularaxis\":{\"gridcolor\":\"white\",\"linecolor\":\"white\",\"ticks\":\"\"},\"radialaxis\":{\"gridcolor\":\"white\",\"linecolor\":\"white\",\"ticks\":\"\"}},\"ternary\":{\"bgcolor\":\"#E5ECF6\",\"aaxis\":{\"gridcolor\":\"white\",\"linecolor\":\"white\",\"ticks\":\"\"},\"baxis\":{\"gridcolor\":\"white\",\"linecolor\":\"white\",\"ticks\":\"\"},\"caxis\":{\"gridcolor\":\"white\",\"linecolor\":\"white\",\"ticks\":\"\"}},\"coloraxis\":{\"colorbar\":{\"outlinewidth\":0,\"ticks\":\"\"}},\"colorscale\":{\"sequential\":[[0.0,\"#0d0887\"],[0.1111111111111111,\"#46039f\"],[0.2222222222222222,\"#7201a8\"],[0.3333333333333333,\"#9c179e\"],[0.4444444444444444,\"#bd3786\"],[0.5555555555555556,\"#d8576b\"],[0.6666666666666666,\"#ed7953\"],[0.7777777777777778,\"#fb9f3a\"],[0.8888888888888888,\"#fdca26\"],[1.0,\"#f0f921\"]],\"sequentialminus\":[[0.0,\"#0d0887\"],[0.1111111111111111,\"#46039f\"],[0.2222222222222222,\"#7201a8\"],[0.3333333333333333,\"#9c179e\"],[0.4444444444444444,\"#bd3786\"],[0.5555555555555556,\"#d8576b\"],[0.6666666666666666,\"#ed7953\"],[0.7777777777777778,\"#fb9f3a\"],[0.8888888888888888,\"#fdca26\"],[1.0,\"#f0f921\"]],\"diverging\":[[0,\"#8e0152\"],[0.1,\"#c51b7d\"],[0.2,\"#de77ae\"],[0.3,\"#f1b6da\"],[0.4,\"#fde0ef\"],[0.5,\"#f7f7f7\"],[0.6,\"#e6f5d0\"],[0.7,\"#b8e186\"],[0.8,\"#7fbc41\"],[0.9,\"#4d9221\"],[1,\"#276419\"]]},\"xaxis\":{\"gridcolor\":\"white\",\"linecolor\":\"white\",\"ticks\":\"\",\"title\":{\"standoff\":15},\"zerolinecolor\":\"white\",\"automargin\":true,\"zerolinewidth\":2},\"yaxis\":{\"gridcolor\":\"white\",\"linecolor\":\"white\",\"ticks\":\"\",\"title\":{\"standoff\":15},\"zerolinecolor\":\"white\",\"automargin\":true,\"zerolinewidth\":2},\"scene\":{\"xaxis\":{\"backgroundcolor\":\"#E5ECF6\",\"gridcolor\":\"white\",\"linecolor\":\"white\",\"showbackground\":true,\"ticks\":\"\",\"zerolinecolor\":\"white\",\"gridwidth\":2},\"yaxis\":{\"backgroundcolor\":\"#E5ECF6\",\"gridcolor\":\"white\",\"linecolor\":\"white\",\"showbackground\":true,\"ticks\":\"\",\"zerolinecolor\":\"white\",\"gridwidth\":2},\"zaxis\":{\"backgroundcolor\":\"#E5ECF6\",\"gridcolor\":\"white\",\"linecolor\":\"white\",\"showbackground\":true,\"ticks\":\"\",\"zerolinecolor\":\"white\",\"gridwidth\":2}},\"shapedefaults\":{\"line\":{\"color\":\"#2a3f5f\"}},\"annotationdefaults\":{\"arrowcolor\":\"#2a3f5f\",\"arrowhead\":0,\"arrowwidth\":1},\"geo\":{\"bgcolor\":\"white\",\"landcolor\":\"#E5ECF6\",\"subunitcolor\":\"white\",\"showland\":true,\"showlakes\":true,\"lakecolor\":\"white\"},\"title\":{\"x\":0.05},\"mapbox\":{\"style\":\"light\"}}},\"xaxis\":{\"anchor\":\"y\",\"domain\":[0.0,1.0],\"title\":{\"text\":\"employment_type\"}},\"yaxis\":{\"anchor\":\"x\",\"domain\":[0.0,1.0],\"title\":{\"text\":\"salary_in_usd\"}},\"legend\":{\"tracegroupgap\":0},\"margin\":{\"t\":60},\"barmode\":\"relative\"},                        {\"responsive\": true}                    ).then(function(){\n",
              "                            \n",
              "var gd = document.getElementById('3d36409b-1455-4be8-9178-2fdbffc7a79d');\n",
              "var x = new MutationObserver(function (mutations, observer) {{\n",
              "        var display = window.getComputedStyle(gd).display;\n",
              "        if (!display || display === 'none') {{\n",
              "            console.log([gd, 'removed!']);\n",
              "            Plotly.purge(gd);\n",
              "            observer.disconnect();\n",
              "        }}\n",
              "}});\n",
              "\n",
              "// Listen for the removal of the full notebook cells\n",
              "var notebookContainer = gd.closest('#notebook-container');\n",
              "if (notebookContainer) {{\n",
              "    x.observe(notebookContainer, {childList: true});\n",
              "}}\n",
              "\n",
              "// Listen for the clearing of the current output cell\n",
              "var outputEl = gd.closest('.output');\n",
              "if (outputEl) {{\n",
              "    x.observe(outputEl, {childList: true});\n",
              "}}\n",
              "\n",
              "                        })                };                            </script>        </div>\n",
              "</body>\n",
              "</html>"
            ]
          },
          "metadata": {}
        }
      ]
    },
    {
      "cell_type": "markdown",
      "source": [
        "# 15) What is the median salary offered to an employee from each country?"
      ],
      "metadata": {
        "id": "e8mtD1yhPaqv"
      }
    },
    {
      "cell_type": "code",
      "source": [
        "xdf = df.groupby('employee_residence')['salary_in_usd'].median().sort_values(ascending=False)\n",
        "xdf.head()"
      ],
      "metadata": {
        "id": "UXX5GdMZQ6YT",
        "colab": {
          "base_uri": "https://localhost:8080/"
        },
        "outputId": "8aa9639c-bc40-4acc-e7f2-4697669809e4"
      },
      "execution_count": null,
      "outputs": [
        {
          "output_type": "execute_result",
          "data": {
            "text/plain": [
              "employee_residence\n",
              "ISR    423834.0\n",
              "MYS    200000.0\n",
              "PRI    160000.0\n",
              "USA    145000.0\n",
              "CHN    125404.0\n",
              "Name: salary_in_usd, dtype: float64"
            ]
          },
          "metadata": {},
          "execution_count": 247
        }
      ]
    },
    {
      "cell_type": "code",
      "source": [
        "fig = px.choropleth(locations = xdf.index, color = xdf, title = 'Salary offered by Each Country to an Employee')\n",
        "fig.show()"
      ],
      "metadata": {
        "id": "hfuoVKS9Q9MB",
        "colab": {
          "base_uri": "https://localhost:8080/",
          "height": 542
        },
        "outputId": "94c7594a-7918-4fd7-93be-473c0af58f2f"
      },
      "execution_count": null,
      "outputs": [
        {
          "output_type": "display_data",
          "data": {
            "text/html": [
              "<html>\n",
              "<head><meta charset=\"utf-8\" /></head>\n",
              "<body>\n",
              "    <div>            <script src=\"https://cdnjs.cloudflare.com/ajax/libs/mathjax/2.7.5/MathJax.js?config=TeX-AMS-MML_SVG\"></script><script type=\"text/javascript\">if (window.MathJax && window.MathJax.Hub && window.MathJax.Hub.Config) {window.MathJax.Hub.Config({SVG: {font: \"STIX-Web\"}});}</script>                <script type=\"text/javascript\">window.PlotlyConfig = {MathJaxConfig: 'local'};</script>\n",
              "        <script src=\"https://cdn.plot.ly/plotly-2.18.2.min.js\"></script>                <div id=\"aec0179a-b836-4aaa-bdb3-8683f721c3b9\" class=\"plotly-graph-div\" style=\"height:525px; width:100%;\"></div>            <script type=\"text/javascript\">                                    window.PLOTLYENV=window.PLOTLYENV || {};                                    if (document.getElementById(\"aec0179a-b836-4aaa-bdb3-8683f721c3b9\")) {                    Plotly.newPlot(                        \"aec0179a-b836-4aaa-bdb3-8683f721c3b9\",                        [{\"coloraxis\":\"coloraxis\",\"geo\":\"geo\",\"hovertemplate\":\"locations=%{location}<br>color=%{z}<extra></extra>\",\"locations\":[\"ISR\",\"MYS\",\"PRI\",\"USA\",\"CHN\",\"NZL\",\"BIH\",\"CAN\",\"ARE\",\"CHE\",\"DOM\",\"SWE\",\"UZB\",\"IRL\",\"JEY\",\"IRQ\",\"DZA\",\"IRN\",\"LTU\",\"BEL\",\"GBR\",\"BGR\",\"DEU\",\"AUS\",\"SGP\",\"BOL\",\"JPN\",\"NLD\",\"HRV\",\"CHL\",\"RUS\",\"FIN\",\"AUT\",\"MEX\",\"HKG\",\"CYP\",\"SVN\",\"LUX\",\"FRA\",\"LVA\",\"COL\",\"UKR\",\"ROU\",\"PRT\",\"GRC\",\"ARM\",\"KWT\",\"NGA\",\"CAF\",\"PHL\",\"ESP\",\"BRA\",\"KEN\",\"ARG\",\"POL\",\"VNM\",\"CZE\",\"HUN\",\"ITA\",\"ASM\",\"EST\",\"TUN\",\"PAK\",\"DNK\",\"MLT\",\"SRB\",\"THA\",\"EGY\",\"IND\",\"TUR\",\"HND\",\"CRI\",\"GHA\",\"MDA\",\"IDN\",\"SVK\",\"MAR\",\"MKD\"],\"name\":\"\",\"z\":[423834.0,200000.0,160000.0,145000.0,125404.0,125000.0,120000.0,120000.0,115000.0,112549.5,110000.0,105000.0,103000.0,101943.0,100000.0,100000.0,100000.0,100000.0,94812.0,82744.0,80036.0,80000.0,76833.0,75050.0,75020.0,75000.0,74000.0,73546.0,72914.0,72519.0,72500.0,69030.0,68059.5,66000.0,65542.0,63312.0,61702.5,59102.0,58969.5,57946.5,56500.0,55000.0,53654.0,52932.5,52533.0,50000.0,50000.0,50000.0,48609.0,47880.0,47281.0,45000.0,44636.0,39000.0,38987.0,38400.0,37565.5,35735.0,33836.0,32777.5,31520.0,30469.0,30000.0,28609.0,28369.0,25532.0,24740.0,22800.0,20670.0,20171.0,20000.0,20000.0,18500.0,18000.0,15000.0,12608.0,10000.0,6304.0],\"type\":\"choropleth\"}],                        {\"template\":{\"data\":{\"histogram2dcontour\":[{\"type\":\"histogram2dcontour\",\"colorbar\":{\"outlinewidth\":0,\"ticks\":\"\"},\"colorscale\":[[0.0,\"#0d0887\"],[0.1111111111111111,\"#46039f\"],[0.2222222222222222,\"#7201a8\"],[0.3333333333333333,\"#9c179e\"],[0.4444444444444444,\"#bd3786\"],[0.5555555555555556,\"#d8576b\"],[0.6666666666666666,\"#ed7953\"],[0.7777777777777778,\"#fb9f3a\"],[0.8888888888888888,\"#fdca26\"],[1.0,\"#f0f921\"]]}],\"choropleth\":[{\"type\":\"choropleth\",\"colorbar\":{\"outlinewidth\":0,\"ticks\":\"\"}}],\"histogram2d\":[{\"type\":\"histogram2d\",\"colorbar\":{\"outlinewidth\":0,\"ticks\":\"\"},\"colorscale\":[[0.0,\"#0d0887\"],[0.1111111111111111,\"#46039f\"],[0.2222222222222222,\"#7201a8\"],[0.3333333333333333,\"#9c179e\"],[0.4444444444444444,\"#bd3786\"],[0.5555555555555556,\"#d8576b\"],[0.6666666666666666,\"#ed7953\"],[0.7777777777777778,\"#fb9f3a\"],[0.8888888888888888,\"#fdca26\"],[1.0,\"#f0f921\"]]}],\"heatmap\":[{\"type\":\"heatmap\",\"colorbar\":{\"outlinewidth\":0,\"ticks\":\"\"},\"colorscale\":[[0.0,\"#0d0887\"],[0.1111111111111111,\"#46039f\"],[0.2222222222222222,\"#7201a8\"],[0.3333333333333333,\"#9c179e\"],[0.4444444444444444,\"#bd3786\"],[0.5555555555555556,\"#d8576b\"],[0.6666666666666666,\"#ed7953\"],[0.7777777777777778,\"#fb9f3a\"],[0.8888888888888888,\"#fdca26\"],[1.0,\"#f0f921\"]]}],\"heatmapgl\":[{\"type\":\"heatmapgl\",\"colorbar\":{\"outlinewidth\":0,\"ticks\":\"\"},\"colorscale\":[[0.0,\"#0d0887\"],[0.1111111111111111,\"#46039f\"],[0.2222222222222222,\"#7201a8\"],[0.3333333333333333,\"#9c179e\"],[0.4444444444444444,\"#bd3786\"],[0.5555555555555556,\"#d8576b\"],[0.6666666666666666,\"#ed7953\"],[0.7777777777777778,\"#fb9f3a\"],[0.8888888888888888,\"#fdca26\"],[1.0,\"#f0f921\"]]}],\"contourcarpet\":[{\"type\":\"contourcarpet\",\"colorbar\":{\"outlinewidth\":0,\"ticks\":\"\"}}],\"contour\":[{\"type\":\"contour\",\"colorbar\":{\"outlinewidth\":0,\"ticks\":\"\"},\"colorscale\":[[0.0,\"#0d0887\"],[0.1111111111111111,\"#46039f\"],[0.2222222222222222,\"#7201a8\"],[0.3333333333333333,\"#9c179e\"],[0.4444444444444444,\"#bd3786\"],[0.5555555555555556,\"#d8576b\"],[0.6666666666666666,\"#ed7953\"],[0.7777777777777778,\"#fb9f3a\"],[0.8888888888888888,\"#fdca26\"],[1.0,\"#f0f921\"]]}],\"surface\":[{\"type\":\"surface\",\"colorbar\":{\"outlinewidth\":0,\"ticks\":\"\"},\"colorscale\":[[0.0,\"#0d0887\"],[0.1111111111111111,\"#46039f\"],[0.2222222222222222,\"#7201a8\"],[0.3333333333333333,\"#9c179e\"],[0.4444444444444444,\"#bd3786\"],[0.5555555555555556,\"#d8576b\"],[0.6666666666666666,\"#ed7953\"],[0.7777777777777778,\"#fb9f3a\"],[0.8888888888888888,\"#fdca26\"],[1.0,\"#f0f921\"]]}],\"mesh3d\":[{\"type\":\"mesh3d\",\"colorbar\":{\"outlinewidth\":0,\"ticks\":\"\"}}],\"scatter\":[{\"fillpattern\":{\"fillmode\":\"overlay\",\"size\":10,\"solidity\":0.2},\"type\":\"scatter\"}],\"parcoords\":[{\"type\":\"parcoords\",\"line\":{\"colorbar\":{\"outlinewidth\":0,\"ticks\":\"\"}}}],\"scatterpolargl\":[{\"type\":\"scatterpolargl\",\"marker\":{\"colorbar\":{\"outlinewidth\":0,\"ticks\":\"\"}}}],\"bar\":[{\"error_x\":{\"color\":\"#2a3f5f\"},\"error_y\":{\"color\":\"#2a3f5f\"},\"marker\":{\"line\":{\"color\":\"#E5ECF6\",\"width\":0.5},\"pattern\":{\"fillmode\":\"overlay\",\"size\":10,\"solidity\":0.2}},\"type\":\"bar\"}],\"scattergeo\":[{\"type\":\"scattergeo\",\"marker\":{\"colorbar\":{\"outlinewidth\":0,\"ticks\":\"\"}}}],\"scatterpolar\":[{\"type\":\"scatterpolar\",\"marker\":{\"colorbar\":{\"outlinewidth\":0,\"ticks\":\"\"}}}],\"histogram\":[{\"marker\":{\"pattern\":{\"fillmode\":\"overlay\",\"size\":10,\"solidity\":0.2}},\"type\":\"histogram\"}],\"scattergl\":[{\"type\":\"scattergl\",\"marker\":{\"colorbar\":{\"outlinewidth\":0,\"ticks\":\"\"}}}],\"scatter3d\":[{\"type\":\"scatter3d\",\"line\":{\"colorbar\":{\"outlinewidth\":0,\"ticks\":\"\"}},\"marker\":{\"colorbar\":{\"outlinewidth\":0,\"ticks\":\"\"}}}],\"scattermapbox\":[{\"type\":\"scattermapbox\",\"marker\":{\"colorbar\":{\"outlinewidth\":0,\"ticks\":\"\"}}}],\"scatterternary\":[{\"type\":\"scatterternary\",\"marker\":{\"colorbar\":{\"outlinewidth\":0,\"ticks\":\"\"}}}],\"scattercarpet\":[{\"type\":\"scattercarpet\",\"marker\":{\"colorbar\":{\"outlinewidth\":0,\"ticks\":\"\"}}}],\"carpet\":[{\"aaxis\":{\"endlinecolor\":\"#2a3f5f\",\"gridcolor\":\"white\",\"linecolor\":\"white\",\"minorgridcolor\":\"white\",\"startlinecolor\":\"#2a3f5f\"},\"baxis\":{\"endlinecolor\":\"#2a3f5f\",\"gridcolor\":\"white\",\"linecolor\":\"white\",\"minorgridcolor\":\"white\",\"startlinecolor\":\"#2a3f5f\"},\"type\":\"carpet\"}],\"table\":[{\"cells\":{\"fill\":{\"color\":\"#EBF0F8\"},\"line\":{\"color\":\"white\"}},\"header\":{\"fill\":{\"color\":\"#C8D4E3\"},\"line\":{\"color\":\"white\"}},\"type\":\"table\"}],\"barpolar\":[{\"marker\":{\"line\":{\"color\":\"#E5ECF6\",\"width\":0.5},\"pattern\":{\"fillmode\":\"overlay\",\"size\":10,\"solidity\":0.2}},\"type\":\"barpolar\"}],\"pie\":[{\"automargin\":true,\"type\":\"pie\"}]},\"layout\":{\"autotypenumbers\":\"strict\",\"colorway\":[\"#636efa\",\"#EF553B\",\"#00cc96\",\"#ab63fa\",\"#FFA15A\",\"#19d3f3\",\"#FF6692\",\"#B6E880\",\"#FF97FF\",\"#FECB52\"],\"font\":{\"color\":\"#2a3f5f\"},\"hovermode\":\"closest\",\"hoverlabel\":{\"align\":\"left\"},\"paper_bgcolor\":\"white\",\"plot_bgcolor\":\"#E5ECF6\",\"polar\":{\"bgcolor\":\"#E5ECF6\",\"angularaxis\":{\"gridcolor\":\"white\",\"linecolor\":\"white\",\"ticks\":\"\"},\"radialaxis\":{\"gridcolor\":\"white\",\"linecolor\":\"white\",\"ticks\":\"\"}},\"ternary\":{\"bgcolor\":\"#E5ECF6\",\"aaxis\":{\"gridcolor\":\"white\",\"linecolor\":\"white\",\"ticks\":\"\"},\"baxis\":{\"gridcolor\":\"white\",\"linecolor\":\"white\",\"ticks\":\"\"},\"caxis\":{\"gridcolor\":\"white\",\"linecolor\":\"white\",\"ticks\":\"\"}},\"coloraxis\":{\"colorbar\":{\"outlinewidth\":0,\"ticks\":\"\"}},\"colorscale\":{\"sequential\":[[0.0,\"#0d0887\"],[0.1111111111111111,\"#46039f\"],[0.2222222222222222,\"#7201a8\"],[0.3333333333333333,\"#9c179e\"],[0.4444444444444444,\"#bd3786\"],[0.5555555555555556,\"#d8576b\"],[0.6666666666666666,\"#ed7953\"],[0.7777777777777778,\"#fb9f3a\"],[0.8888888888888888,\"#fdca26\"],[1.0,\"#f0f921\"]],\"sequentialminus\":[[0.0,\"#0d0887\"],[0.1111111111111111,\"#46039f\"],[0.2222222222222222,\"#7201a8\"],[0.3333333333333333,\"#9c179e\"],[0.4444444444444444,\"#bd3786\"],[0.5555555555555556,\"#d8576b\"],[0.6666666666666666,\"#ed7953\"],[0.7777777777777778,\"#fb9f3a\"],[0.8888888888888888,\"#fdca26\"],[1.0,\"#f0f921\"]],\"diverging\":[[0,\"#8e0152\"],[0.1,\"#c51b7d\"],[0.2,\"#de77ae\"],[0.3,\"#f1b6da\"],[0.4,\"#fde0ef\"],[0.5,\"#f7f7f7\"],[0.6,\"#e6f5d0\"],[0.7,\"#b8e186\"],[0.8,\"#7fbc41\"],[0.9,\"#4d9221\"],[1,\"#276419\"]]},\"xaxis\":{\"gridcolor\":\"white\",\"linecolor\":\"white\",\"ticks\":\"\",\"title\":{\"standoff\":15},\"zerolinecolor\":\"white\",\"automargin\":true,\"zerolinewidth\":2},\"yaxis\":{\"gridcolor\":\"white\",\"linecolor\":\"white\",\"ticks\":\"\",\"title\":{\"standoff\":15},\"zerolinecolor\":\"white\",\"automargin\":true,\"zerolinewidth\":2},\"scene\":{\"xaxis\":{\"backgroundcolor\":\"#E5ECF6\",\"gridcolor\":\"white\",\"linecolor\":\"white\",\"showbackground\":true,\"ticks\":\"\",\"zerolinecolor\":\"white\",\"gridwidth\":2},\"yaxis\":{\"backgroundcolor\":\"#E5ECF6\",\"gridcolor\":\"white\",\"linecolor\":\"white\",\"showbackground\":true,\"ticks\":\"\",\"zerolinecolor\":\"white\",\"gridwidth\":2},\"zaxis\":{\"backgroundcolor\":\"#E5ECF6\",\"gridcolor\":\"white\",\"linecolor\":\"white\",\"showbackground\":true,\"ticks\":\"\",\"zerolinecolor\":\"white\",\"gridwidth\":2}},\"shapedefaults\":{\"line\":{\"color\":\"#2a3f5f\"}},\"annotationdefaults\":{\"arrowcolor\":\"#2a3f5f\",\"arrowhead\":0,\"arrowwidth\":1},\"geo\":{\"bgcolor\":\"white\",\"landcolor\":\"#E5ECF6\",\"subunitcolor\":\"white\",\"showland\":true,\"showlakes\":true,\"lakecolor\":\"white\"},\"title\":{\"x\":0.05},\"mapbox\":{\"style\":\"light\"}}},\"geo\":{\"domain\":{\"x\":[0.0,1.0],\"y\":[0.0,1.0]},\"center\":{}},\"coloraxis\":{\"colorbar\":{\"title\":{\"text\":\"color\"}},\"colorscale\":[[0.0,\"#0d0887\"],[0.1111111111111111,\"#46039f\"],[0.2222222222222222,\"#7201a8\"],[0.3333333333333333,\"#9c179e\"],[0.4444444444444444,\"#bd3786\"],[0.5555555555555556,\"#d8576b\"],[0.6666666666666666,\"#ed7953\"],[0.7777777777777778,\"#fb9f3a\"],[0.8888888888888888,\"#fdca26\"],[1.0,\"#f0f921\"]]},\"legend\":{\"tracegroupgap\":0},\"title\":{\"text\":\"Salary offered by Each Country to an Employee\"}},                        {\"responsive\": true}                    ).then(function(){\n",
              "                            \n",
              "var gd = document.getElementById('aec0179a-b836-4aaa-bdb3-8683f721c3b9');\n",
              "var x = new MutationObserver(function (mutations, observer) {{\n",
              "        var display = window.getComputedStyle(gd).display;\n",
              "        if (!display || display === 'none') {{\n",
              "            console.log([gd, 'removed!']);\n",
              "            Plotly.purge(gd);\n",
              "            observer.disconnect();\n",
              "        }}\n",
              "}});\n",
              "\n",
              "// Listen for the removal of the full notebook cells\n",
              "var notebookContainer = gd.closest('#notebook-container');\n",
              "if (notebookContainer) {{\n",
              "    x.observe(notebookContainer, {childList: true});\n",
              "}}\n",
              "\n",
              "// Listen for the clearing of the current output cell\n",
              "var outputEl = gd.closest('.output');\n",
              "if (outputEl) {{\n",
              "    x.observe(outputEl, {childList: true});\n",
              "}}\n",
              "\n",
              "                        })                };                            </script>        </div>\n",
              "</body>\n",
              "</html>"
            ]
          },
          "metadata": {}
        }
      ]
    },
    {
      "cell_type": "markdown",
      "source": [
        "16) What is the median salary offered by each company depending on the company location?"
      ],
      "metadata": {
        "id": "EDey-YYiRARP"
      }
    },
    {
      "cell_type": "code",
      "source": [
        "xdf = df.groupby('company_location')['salary_in_usd'].median().sort_values(ascending=False)\n",
        "xdf.head()"
      ],
      "metadata": {
        "id": "_19Bh0d6RC8y",
        "colab": {
          "base_uri": "https://localhost:8080/"
        },
        "outputId": "013f29f3-329b-4c4e-86c8-ae67bf658393"
      },
      "execution_count": null,
      "outputs": [
        {
          "output_type": "execute_result",
          "data": {
            "text/plain": [
              "company_location\n",
              "ISR    271446.5\n",
              "PRI    167500.0\n",
              "USA    145000.0\n",
              "NZL    125000.0\n",
              "BIH    120000.0\n",
              "Name: salary_in_usd, dtype: float64"
            ]
          },
          "metadata": {},
          "execution_count": 249
        }
      ]
    },
    {
      "cell_type": "code",
      "source": [
        "fig = px.choropleth(locations = xdf.index, color = xdf, title = 'Salary offered by Each Company')\n",
        "fig.show()"
      ],
      "metadata": {
        "id": "jf9SE6tBRMEO",
        "colab": {
          "base_uri": "https://localhost:8080/",
          "height": 542
        },
        "outputId": "02f2ac92-fec1-42eb-c0c0-6c7be3b2948a"
      },
      "execution_count": null,
      "outputs": [
        {
          "output_type": "display_data",
          "data": {
            "text/html": [
              "<html>\n",
              "<head><meta charset=\"utf-8\" /></head>\n",
              "<body>\n",
              "    <div>            <script src=\"https://cdnjs.cloudflare.com/ajax/libs/mathjax/2.7.5/MathJax.js?config=TeX-AMS-MML_SVG\"></script><script type=\"text/javascript\">if (window.MathJax && window.MathJax.Hub && window.MathJax.Hub.Config) {window.MathJax.Hub.Config({SVG: {font: \"STIX-Web\"}});}</script>                <script type=\"text/javascript\">window.PlotlyConfig = {MathJaxConfig: 'local'};</script>\n",
              "        <script src=\"https://cdn.plot.ly/plotly-2.18.2.min.js\"></script>                <div id=\"1383179a-e799-471f-a2b1-c5aa1c071ada\" class=\"plotly-graph-div\" style=\"height:525px; width:100%;\"></div>            <script type=\"text/javascript\">                                    window.PLOTLYENV=window.PLOTLYENV || {};                                    if (document.getElementById(\"1383179a-e799-471f-a2b1-c5aa1c071ada\")) {                    Plotly.newPlot(                        \"1383179a-e799-471f-a2b1-c5aa1c071ada\",                        [{\"coloraxis\":\"coloraxis\",\"geo\":\"geo\",\"hovertemplate\":\"locations=%{location}<br>color=%{z}<extra></extra>\",\"locations\":[\"ISR\",\"PRI\",\"USA\",\"NZL\",\"BIH\",\"CAN\",\"ARE\",\"RUS\",\"SWE\",\"CHE\",\"IRL\",\"DZA\",\"IRQ\",\"IRN\",\"CHN\",\"LTU\",\"BEL\",\"GBR\",\"JPN\",\"NLD\",\"HRV\",\"DEU\",\"AUS\",\"FIN\",\"AUT\",\"SGP\",\"MEX\",\"HKG\",\"SVN\",\"LUX\",\"FRA\",\"LVA\",\"ROU\",\"COL\",\"UKR\",\"PRT\",\"GRC\",\"CRI\",\"PHL\",\"ARM\",\"NGA\",\"CAF\",\"EST\",\"ESP\",\"BHS\",\"KEN\",\"POL\",\"BRA\",\"CHL\",\"MYS\",\"ITA\",\"DNK\",\"IDN\",\"CZE\",\"MLT\",\"HUN\",\"THA\",\"EGY\",\"TUR\",\"ASM\",\"HND\",\"GHA\",\"IND\",\"MDA\",\"PAK\",\"ARG\",\"SVK\",\"VNM\",\"MAR\",\"ALB\",\"BOL\",\"MKD\"],\"name\":\"\",\"z\":[271446.5,167500.0,145000.0,125000.0,120000.0,120000.0,115000.0,106000.0,105000.0,104697.0,101943.0,100000.0,100000.0,100000.0,100000.0,94812.0,83398.5,79513.0,75682.0,73546.0,72914.0,72721.5,72525.0,68318.0,68059.5,66113.5,66000.0,65062.0,61702.5,59102.0,58969.5,57946.5,56827.0,56500.0,55000.0,52932.5,50216.0,50000.0,50000.0,50000.0,50000.0,48609.0,47416.0,47280.0,45555.0,44636.0,44365.0,42000.0,40038.0,40000.0,37614.5,37252.5,34208.0,30469.0,28369.0,26709.5,24740.0,22800.0,20171.0,20000.0,20000.0,18500.0,18276.0,18000.0,16000.0,13000.0,12608.0,12000.0,10000.0,10000.0,7500.0,6304.0],\"type\":\"choropleth\"}],                        {\"template\":{\"data\":{\"histogram2dcontour\":[{\"type\":\"histogram2dcontour\",\"colorbar\":{\"outlinewidth\":0,\"ticks\":\"\"},\"colorscale\":[[0.0,\"#0d0887\"],[0.1111111111111111,\"#46039f\"],[0.2222222222222222,\"#7201a8\"],[0.3333333333333333,\"#9c179e\"],[0.4444444444444444,\"#bd3786\"],[0.5555555555555556,\"#d8576b\"],[0.6666666666666666,\"#ed7953\"],[0.7777777777777778,\"#fb9f3a\"],[0.8888888888888888,\"#fdca26\"],[1.0,\"#f0f921\"]]}],\"choropleth\":[{\"type\":\"choropleth\",\"colorbar\":{\"outlinewidth\":0,\"ticks\":\"\"}}],\"histogram2d\":[{\"type\":\"histogram2d\",\"colorbar\":{\"outlinewidth\":0,\"ticks\":\"\"},\"colorscale\":[[0.0,\"#0d0887\"],[0.1111111111111111,\"#46039f\"],[0.2222222222222222,\"#7201a8\"],[0.3333333333333333,\"#9c179e\"],[0.4444444444444444,\"#bd3786\"],[0.5555555555555556,\"#d8576b\"],[0.6666666666666666,\"#ed7953\"],[0.7777777777777778,\"#fb9f3a\"],[0.8888888888888888,\"#fdca26\"],[1.0,\"#f0f921\"]]}],\"heatmap\":[{\"type\":\"heatmap\",\"colorbar\":{\"outlinewidth\":0,\"ticks\":\"\"},\"colorscale\":[[0.0,\"#0d0887\"],[0.1111111111111111,\"#46039f\"],[0.2222222222222222,\"#7201a8\"],[0.3333333333333333,\"#9c179e\"],[0.4444444444444444,\"#bd3786\"],[0.5555555555555556,\"#d8576b\"],[0.6666666666666666,\"#ed7953\"],[0.7777777777777778,\"#fb9f3a\"],[0.8888888888888888,\"#fdca26\"],[1.0,\"#f0f921\"]]}],\"heatmapgl\":[{\"type\":\"heatmapgl\",\"colorbar\":{\"outlinewidth\":0,\"ticks\":\"\"},\"colorscale\":[[0.0,\"#0d0887\"],[0.1111111111111111,\"#46039f\"],[0.2222222222222222,\"#7201a8\"],[0.3333333333333333,\"#9c179e\"],[0.4444444444444444,\"#bd3786\"],[0.5555555555555556,\"#d8576b\"],[0.6666666666666666,\"#ed7953\"],[0.7777777777777778,\"#fb9f3a\"],[0.8888888888888888,\"#fdca26\"],[1.0,\"#f0f921\"]]}],\"contourcarpet\":[{\"type\":\"contourcarpet\",\"colorbar\":{\"outlinewidth\":0,\"ticks\":\"\"}}],\"contour\":[{\"type\":\"contour\",\"colorbar\":{\"outlinewidth\":0,\"ticks\":\"\"},\"colorscale\":[[0.0,\"#0d0887\"],[0.1111111111111111,\"#46039f\"],[0.2222222222222222,\"#7201a8\"],[0.3333333333333333,\"#9c179e\"],[0.4444444444444444,\"#bd3786\"],[0.5555555555555556,\"#d8576b\"],[0.6666666666666666,\"#ed7953\"],[0.7777777777777778,\"#fb9f3a\"],[0.8888888888888888,\"#fdca26\"],[1.0,\"#f0f921\"]]}],\"surface\":[{\"type\":\"surface\",\"colorbar\":{\"outlinewidth\":0,\"ticks\":\"\"},\"colorscale\":[[0.0,\"#0d0887\"],[0.1111111111111111,\"#46039f\"],[0.2222222222222222,\"#7201a8\"],[0.3333333333333333,\"#9c179e\"],[0.4444444444444444,\"#bd3786\"],[0.5555555555555556,\"#d8576b\"],[0.6666666666666666,\"#ed7953\"],[0.7777777777777778,\"#fb9f3a\"],[0.8888888888888888,\"#fdca26\"],[1.0,\"#f0f921\"]]}],\"mesh3d\":[{\"type\":\"mesh3d\",\"colorbar\":{\"outlinewidth\":0,\"ticks\":\"\"}}],\"scatter\":[{\"fillpattern\":{\"fillmode\":\"overlay\",\"size\":10,\"solidity\":0.2},\"type\":\"scatter\"}],\"parcoords\":[{\"type\":\"parcoords\",\"line\":{\"colorbar\":{\"outlinewidth\":0,\"ticks\":\"\"}}}],\"scatterpolargl\":[{\"type\":\"scatterpolargl\",\"marker\":{\"colorbar\":{\"outlinewidth\":0,\"ticks\":\"\"}}}],\"bar\":[{\"error_x\":{\"color\":\"#2a3f5f\"},\"error_y\":{\"color\":\"#2a3f5f\"},\"marker\":{\"line\":{\"color\":\"#E5ECF6\",\"width\":0.5},\"pattern\":{\"fillmode\":\"overlay\",\"size\":10,\"solidity\":0.2}},\"type\":\"bar\"}],\"scattergeo\":[{\"type\":\"scattergeo\",\"marker\":{\"colorbar\":{\"outlinewidth\":0,\"ticks\":\"\"}}}],\"scatterpolar\":[{\"type\":\"scatterpolar\",\"marker\":{\"colorbar\":{\"outlinewidth\":0,\"ticks\":\"\"}}}],\"histogram\":[{\"marker\":{\"pattern\":{\"fillmode\":\"overlay\",\"size\":10,\"solidity\":0.2}},\"type\":\"histogram\"}],\"scattergl\":[{\"type\":\"scattergl\",\"marker\":{\"colorbar\":{\"outlinewidth\":0,\"ticks\":\"\"}}}],\"scatter3d\":[{\"type\":\"scatter3d\",\"line\":{\"colorbar\":{\"outlinewidth\":0,\"ticks\":\"\"}},\"marker\":{\"colorbar\":{\"outlinewidth\":0,\"ticks\":\"\"}}}],\"scattermapbox\":[{\"type\":\"scattermapbox\",\"marker\":{\"colorbar\":{\"outlinewidth\":0,\"ticks\":\"\"}}}],\"scatterternary\":[{\"type\":\"scatterternary\",\"marker\":{\"colorbar\":{\"outlinewidth\":0,\"ticks\":\"\"}}}],\"scattercarpet\":[{\"type\":\"scattercarpet\",\"marker\":{\"colorbar\":{\"outlinewidth\":0,\"ticks\":\"\"}}}],\"carpet\":[{\"aaxis\":{\"endlinecolor\":\"#2a3f5f\",\"gridcolor\":\"white\",\"linecolor\":\"white\",\"minorgridcolor\":\"white\",\"startlinecolor\":\"#2a3f5f\"},\"baxis\":{\"endlinecolor\":\"#2a3f5f\",\"gridcolor\":\"white\",\"linecolor\":\"white\",\"minorgridcolor\":\"white\",\"startlinecolor\":\"#2a3f5f\"},\"type\":\"carpet\"}],\"table\":[{\"cells\":{\"fill\":{\"color\":\"#EBF0F8\"},\"line\":{\"color\":\"white\"}},\"header\":{\"fill\":{\"color\":\"#C8D4E3\"},\"line\":{\"color\":\"white\"}},\"type\":\"table\"}],\"barpolar\":[{\"marker\":{\"line\":{\"color\":\"#E5ECF6\",\"width\":0.5},\"pattern\":{\"fillmode\":\"overlay\",\"size\":10,\"solidity\":0.2}},\"type\":\"barpolar\"}],\"pie\":[{\"automargin\":true,\"type\":\"pie\"}]},\"layout\":{\"autotypenumbers\":\"strict\",\"colorway\":[\"#636efa\",\"#EF553B\",\"#00cc96\",\"#ab63fa\",\"#FFA15A\",\"#19d3f3\",\"#FF6692\",\"#B6E880\",\"#FF97FF\",\"#FECB52\"],\"font\":{\"color\":\"#2a3f5f\"},\"hovermode\":\"closest\",\"hoverlabel\":{\"align\":\"left\"},\"paper_bgcolor\":\"white\",\"plot_bgcolor\":\"#E5ECF6\",\"polar\":{\"bgcolor\":\"#E5ECF6\",\"angularaxis\":{\"gridcolor\":\"white\",\"linecolor\":\"white\",\"ticks\":\"\"},\"radialaxis\":{\"gridcolor\":\"white\",\"linecolor\":\"white\",\"ticks\":\"\"}},\"ternary\":{\"bgcolor\":\"#E5ECF6\",\"aaxis\":{\"gridcolor\":\"white\",\"linecolor\":\"white\",\"ticks\":\"\"},\"baxis\":{\"gridcolor\":\"white\",\"linecolor\":\"white\",\"ticks\":\"\"},\"caxis\":{\"gridcolor\":\"white\",\"linecolor\":\"white\",\"ticks\":\"\"}},\"coloraxis\":{\"colorbar\":{\"outlinewidth\":0,\"ticks\":\"\"}},\"colorscale\":{\"sequential\":[[0.0,\"#0d0887\"],[0.1111111111111111,\"#46039f\"],[0.2222222222222222,\"#7201a8\"],[0.3333333333333333,\"#9c179e\"],[0.4444444444444444,\"#bd3786\"],[0.5555555555555556,\"#d8576b\"],[0.6666666666666666,\"#ed7953\"],[0.7777777777777778,\"#fb9f3a\"],[0.8888888888888888,\"#fdca26\"],[1.0,\"#f0f921\"]],\"sequentialminus\":[[0.0,\"#0d0887\"],[0.1111111111111111,\"#46039f\"],[0.2222222222222222,\"#7201a8\"],[0.3333333333333333,\"#9c179e\"],[0.4444444444444444,\"#bd3786\"],[0.5555555555555556,\"#d8576b\"],[0.6666666666666666,\"#ed7953\"],[0.7777777777777778,\"#fb9f3a\"],[0.8888888888888888,\"#fdca26\"],[1.0,\"#f0f921\"]],\"diverging\":[[0,\"#8e0152\"],[0.1,\"#c51b7d\"],[0.2,\"#de77ae\"],[0.3,\"#f1b6da\"],[0.4,\"#fde0ef\"],[0.5,\"#f7f7f7\"],[0.6,\"#e6f5d0\"],[0.7,\"#b8e186\"],[0.8,\"#7fbc41\"],[0.9,\"#4d9221\"],[1,\"#276419\"]]},\"xaxis\":{\"gridcolor\":\"white\",\"linecolor\":\"white\",\"ticks\":\"\",\"title\":{\"standoff\":15},\"zerolinecolor\":\"white\",\"automargin\":true,\"zerolinewidth\":2},\"yaxis\":{\"gridcolor\":\"white\",\"linecolor\":\"white\",\"ticks\":\"\",\"title\":{\"standoff\":15},\"zerolinecolor\":\"white\",\"automargin\":true,\"zerolinewidth\":2},\"scene\":{\"xaxis\":{\"backgroundcolor\":\"#E5ECF6\",\"gridcolor\":\"white\",\"linecolor\":\"white\",\"showbackground\":true,\"ticks\":\"\",\"zerolinecolor\":\"white\",\"gridwidth\":2},\"yaxis\":{\"backgroundcolor\":\"#E5ECF6\",\"gridcolor\":\"white\",\"linecolor\":\"white\",\"showbackground\":true,\"ticks\":\"\",\"zerolinecolor\":\"white\",\"gridwidth\":2},\"zaxis\":{\"backgroundcolor\":\"#E5ECF6\",\"gridcolor\":\"white\",\"linecolor\":\"white\",\"showbackground\":true,\"ticks\":\"\",\"zerolinecolor\":\"white\",\"gridwidth\":2}},\"shapedefaults\":{\"line\":{\"color\":\"#2a3f5f\"}},\"annotationdefaults\":{\"arrowcolor\":\"#2a3f5f\",\"arrowhead\":0,\"arrowwidth\":1},\"geo\":{\"bgcolor\":\"white\",\"landcolor\":\"#E5ECF6\",\"subunitcolor\":\"white\",\"showland\":true,\"showlakes\":true,\"lakecolor\":\"white\"},\"title\":{\"x\":0.05},\"mapbox\":{\"style\":\"light\"}}},\"geo\":{\"domain\":{\"x\":[0.0,1.0],\"y\":[0.0,1.0]},\"center\":{}},\"coloraxis\":{\"colorbar\":{\"title\":{\"text\":\"color\"}},\"colorscale\":[[0.0,\"#0d0887\"],[0.1111111111111111,\"#46039f\"],[0.2222222222222222,\"#7201a8\"],[0.3333333333333333,\"#9c179e\"],[0.4444444444444444,\"#bd3786\"],[0.5555555555555556,\"#d8576b\"],[0.6666666666666666,\"#ed7953\"],[0.7777777777777778,\"#fb9f3a\"],[0.8888888888888888,\"#fdca26\"],[1.0,\"#f0f921\"]]},\"legend\":{\"tracegroupgap\":0},\"title\":{\"text\":\"Salary offered by Each Company\"}},                        {\"responsive\": true}                    ).then(function(){\n",
              "                            \n",
              "var gd = document.getElementById('1383179a-e799-471f-a2b1-c5aa1c071ada');\n",
              "var x = new MutationObserver(function (mutations, observer) {{\n",
              "        var display = window.getComputedStyle(gd).display;\n",
              "        if (!display || display === 'none') {{\n",
              "            console.log([gd, 'removed!']);\n",
              "            Plotly.purge(gd);\n",
              "            observer.disconnect();\n",
              "        }}\n",
              "}});\n",
              "\n",
              "// Listen for the removal of the full notebook cells\n",
              "var notebookContainer = gd.closest('#notebook-container');\n",
              "if (notebookContainer) {{\n",
              "    x.observe(notebookContainer, {childList: true});\n",
              "}}\n",
              "\n",
              "// Listen for the clearing of the current output cell\n",
              "var outputEl = gd.closest('.output');\n",
              "if (outputEl) {{\n",
              "    x.observe(outputEl, {childList: true});\n",
              "}}\n",
              "\n",
              "                        })                };                            </script>        </div>\n",
              "</body>\n",
              "</html>"
            ]
          },
          "metadata": {}
        }
      ]
    },
    {
      "cell_type": "markdown",
      "source": [
        "17) Show the distribution of salaries over the years"
      ],
      "metadata": {
        "id": "9-DTjDVSRQQl"
      }
    },
    {
      "cell_type": "code",
      "source": [
        "px.histogram(x=df['salary_in_usd'], color=df['work_year'], barmode='overlay',\n",
        "            labels={'x':'Salary'}, title='Distribution of Salaries over the Years')"
      ],
      "metadata": {
        "id": "jptEH5rURSzN",
        "colab": {
          "base_uri": "https://localhost:8080/",
          "height": 542
        },
        "outputId": "b1361431-a8fd-4f09-b3b5-65fff2248e2f"
      },
      "execution_count": null,
      "outputs": [
        {
          "output_type": "display_data",
          "data": {
            "text/html": [
              "<html>\n",
              "<head><meta charset=\"utf-8\" /></head>\n",
              "<body>\n",
              "    <div>            <script src=\"https://cdnjs.cloudflare.com/ajax/libs/mathjax/2.7.5/MathJax.js?config=TeX-AMS-MML_SVG\"></script><script type=\"text/javascript\">if (window.MathJax && window.MathJax.Hub && window.MathJax.Hub.Config) {window.MathJax.Hub.Config({SVG: {font: \"STIX-Web\"}});}</script>                <script type=\"text/javascript\">window.PlotlyConfig = {MathJaxConfig: 'local'};</script>\n",
              "        <script src=\"https://cdn.plot.ly/plotly-2.18.2.min.js\"></script>                <div id=\"280f2647-0e30-491c-af54-4728a13b7b0a\" class=\"plotly-graph-div\" style=\"height:525px; width:100%;\"></div>            <script type=\"text/javascript\">                                    window.PLOTLYENV=window.PLOTLYENV || {};                                    if (document.getElementById(\"280f2647-0e30-491c-af54-4728a13b7b0a\")) {                    Plotly.newPlot(                        \"280f2647-0e30-491c-af54-4728a13b7b0a\",                        [{\"alignmentgroup\":\"True\",\"bingroup\":\"x\",\"hovertemplate\":\"color=2023<br>Salary=%{x}<br>count=%{y}<extra></extra>\",\"legendgroup\":\"2023\",\"marker\":{\"color\":\"#636efa\",\"opacity\":0.5,\"pattern\":{\"shape\":\"\"}},\"name\":\"2023\",\"offsetgroup\":\"2023\",\"orientation\":\"v\",\"showlegend\":true,\"x\":[85847,30000,25500,175000,120000,222200,136000,219000,141000,147100,90700,130000,100000,213660,130760,147100,90700,170000,150000,150000,110000,275000,174000,230000,143200,225000,156400,200000,130000,90000,72000,253200,90700,342810,184590,162500,130000,105380,64500,100000,30000,204620,110680,270703,221484,212750,185000,262000,245000,275300,183500,218500,199098,203300,123600,189110,139000,258750,185000,231500,166000,172500,110500,238000,176000,237000,201450,309400,159100,115000,81500,237000,201450,280000,210000,280100,168100,193500,139000,65062,150000,69751,96578,185900,129300,225000,175000,185000,140000,48289,38631,105000,70000,163196,145885,217000,185000,202800,104300,145000,65000,165000,132300,179170,94300,152500,116450,247300,133800,203000,133000,220000,150000,120000,289800,214000,179820,143860,283200,188800,289800,214200,185900,129300,252000,129000,155000,140000,161800,141600,342300,176100,100000,70000,85000,65000,138784,83270,75000,70000,204500,138900,318300,212200,95000,75000,195000,160000,230000,143200,100000,70000,105000,20670,46178,42533,145000,115000,168400,105200,309400,159100,190000,150000,162500,130000,150000,120000,145000,120000,222200,136000,54685,42533,241000,155000,220000,190000,66837,54685,85066,57723,85000,75000,160000,140000,300000,250000,228000,186000,190000,170000,230000,200000,180000,115000,200000,115000,53654,220000,205000,180000,130000,200000,150000,215000,170000,247500,172200,224000,176000,120000,75000,17022,68318,75020,140000,120000,128000,81500,145000,115000,185000,140000,329500,269600,100000,80000,250000,162500,200000,145000,100000,145000,115000,203500,152000,239000,122900,237000,145000,191765,134236,190000,112000,85000,65000,135000,105500,293000,185000,80000,70000,220000,160000,175000,145000,200000,148500,48289,38631,240500,123700,152900,117100,173000,113000,260000,136000,175000,110000,260000,136000,130000,110000,205000,184000,149500,127075,195000,160000,219535,146115,170000,135000,175000,145000,199000,162000,222200,136000,221000,153000,187000,128000,210000,136000,175000,100000,179000,109000,245000,180000,142000,75000,198800,105200,125000,112000,210000,155000,115000,86000,165000,140000,139000,106000,40663,50000,280700,150450,51753,250500,159500,145000,115000,140000,120000,130001,71907,93918,51962,175000,135000,85000,65000,257000,147000,222000,175000,203000,133200,213660,130760,221000,147000,100000,80000,185900,129300,238000,156000,304000,199000,48289,150000,130000,140000,110000,90000,75000,195895,102772,240000,183600,130000,80000,250000,150000,160000,120000,289076,202353,145000,120000,155000,106000,200000,160000,157750,104650,180000,140000,200000,145000,68000,60000,48289,38631,85000,65000,125000,90000,105000,90000,179820,143860,135000,105500,155000,125000,241000,181000,252000,154000,180000,155000,191765,134236,175000,145000,237000,145000,155000,125000,80000,70000,146000,75000,64200,56100,170000,130000,208450,170550,125000,100000,135000,120000,200000,170000,171250,113750,222200,136000,260000,136000,153600,100500,205000,184000,115000,95000,182500,121500,203100,114500,72914,54685,252000,129000,92700,61800,160000,130000,258000,190000,170000,135000,167500,106500,195000,160000,146000,75000,286000,207000,100000,80000,223250,178600,353200,249300,230000,220000,297300,198200,210000,151800,200000,170000,317070,170730,128000,81500,21461,108000,60000,134000,124000,171250,113750,165000,132300,225000,175000,230000,124500,247500,172200,175000,145000,148700,125600,145000,115000,200000,150000,160000,120000,185000,120250,275300,183000,170000,125000,167500,106500,250000,200000,135000,423834,216000,184000,180000,165000,185900,129300,145000,120000,143865,115092,130000,90000,173000,132000,208049,128500,179820,143860,167500,106500,275300,183500,149600,102000,145000,100000,190000,95000,153600,106800,96578,80481,128000,85000,151000,140000,275300,183500,220000,170000,135000,105500,100000,80000,7000,42923,160000,145000,154000,143000,78990,51039,190000,120000,85066,51039,109371,72914,150000,111000,265000,235000,121093,160000,130000,75000,60400,85000,75000,252000,129000,92700,61800,60093,83500,52500,201036,134024,165000,140000,62000,58000,172000,115000,125000,90000,163800,126000,237000,145000,90000,90000,139500,109400,258000,190000,145000,120000,205600,105700,252000,129000,239748,159832,186300,102500,165000,132300,190000,126000,149040,113900,153600,106800,172600,107900,180180,106020,376080,213120,153600,100500,206500,121600,260000,225000,194500,115500,170000,90000,95000,70000,275000,160000,115934,81666,175000,120000,150000,120000,200000,175000,206000,130000,138000,92000,65000,48000,110000,75000,130000,87000,160000,112000,162500,130000,299500,245100,145000,100000,147100,90700,115100,73900,168400,105200,210000,160000,145000,100000,222200,136000,100000,85000,85066,57723,200000,145000,140000,95000,185000,120250,130000,205000,140000,297300,198200,141288,94192,184000,143000,70000,55000,275300,183500,75000,65000,160000,147000,149040,113900,75020,180180,106020,17022,70000,80000,18238,250000,150000,139500,109400,105000,70000,210914,116704,150000,100000,146000,75000,75000,60000,185700,165000,160000,130000,169000,110600,193000,136850,139500,109400,276000,178500,59020,48289,75116,48289,195652,101228,136956,101228,252000,129000,163800,126000,260000,110000,170000,130000,247500,172200,239748,159832,163800,126000,128750,106250,252000,129000,299500,245100,155000,140000,167500,106500,188500,117000,250000,138000,130000,100000,123405,140000,120000,160000,135000,104500,70000,90000,70000,153600,106800,125000,90000,185000,125000,127000,94000,210550,153300,200000,150000,161500,119500,175000,145000,175000,148750,105000,85000,215000,146300,214618,72000,60000,153400,122700,260000,175000,186300,123900,340000,150000,153400,122700,250000,175000,64385,185900,121700,153600,106800,50000,100000,247500,172200,310000,239000,125000,110000,150000,100000,149076,82365,146000,75000,139500,109400,139500,109400,149600,102000,97218,48609,252000,129000,95000,85500,185900,121700,150000,100000,145000,125000,150000,97750,201000,122000,252000,129000,120000,75000,116990,82920,185900,129300,200000,125000,201000,122000,204500,142200,155000,140000,205920,171600,121500,78000,154000,116000,190000,136000,78990,43809,180000,110000,275300,183000,170000,140000,154000,116000,160000,130000,200000,120000,175000,160000,127599,103294,153600,106800,85000,75000,225000,156400,150000,120000,163800,126000,145000,90000,204500,142200,95000,85500,167500,106500,163800,126000,155000,140000,250000,200000,260000,186000,160000,130000,200000,150000,48289,38631,150000,120000,30000,185000,125000,75116,175000,130000,122000,93800,150000,90000,165000,112000,220000,71897,64385,204500,142200,15806,200000,175000,185900,129300,185900,121700,204500,142200,40000,29453,180180,106020,136000,104000,125000,110000,153400,122700,310000,239000,152380,121904,185900,129300,247500,172200,168400,105200,128280,106900,140000,100000,107309,85847,275000,174000,139500,109400,139500,109400,170500,85000,72946,54365,160288,127467,80000,65000,124740,65488,72200,64980,153600,106800,179975,86466,120000,90000,51039,42533,149076,82365,169000,110600,175000,120000,230000,180000,153600,106800,140000,120000,205920,171600,165000,125000,265000,185000,130000,38631,95000,85500,147100,90700,167580,87980,202000,135000,163800,126000,163800,126000,104000,65000,230000,148000,269000,158000,197000,106000,150000,100000,290000,210000,192000,172800,300240,200160,300240,200160,175000,140000,169000,100000,370000,245000,115447,110000,80000,55000,48000,95000,85000,137500,81500,323300,184700,186000,153088,190000,160000,200000,150000,190000,183310,240000,180000,200000,150000,299500,245100,144000,66000,148500,126277,228000,120000,180000,90000,126500,78000,180000,160000,272000,170000,80000,60000,259000,146000,200000,160000,310000,239000,142000,95000,155000,139500,140000,120000,259000,146000,109371,72914,17779,19522,247500,172200,225000,156400,139500,109400,125000,90000,107309,75116,185900,129300,139500,109400,120000,75000,169000,110600,288000,140000,288000,140000,120000,90000,72914,60761,215050,156400,198000,114000,75000,60000,204500,142200,209300,182200,140000,120000,48609,120000,60000,147100,90700,230000,170000,227000,108000,180000,160000,180000,160000,180000,130000,55800,51508,60000,50000,226700,133300,252000,129000,151902,9727,80000,52500,250000,162500,85000,75000,153600,106800,165000,124000,115934,81666,167580,87980,250000,63000,253750,169200,253750,169200,170000,120000,124740,65488,213580,163625,12000,101943,16414,220000,170000,235000,210000,180000,115000,200000,115000,231250,138750,284310,153090,160000,75000,125000,105000,109371,85066,55000,48000,100000,225900,156400,250000,162500,318300,188800,385000,60000,110000,95000,145000,135000,180180,106020,93919,51962,241871,133832,170000,90000,210914,116704,192500,140000,149076,82365,36000,175000,148750,370000,200000,235000,185000,121523,97218,216100,140800,145828,121523,53654,110000,128000,81500,66837,63192,60761,54685,284000,236000,248100,145900,155850,102544,151410,115360,66531,59020,125686,100000,12767,250000,162500,185000,120250,26827,85000,70000,135000,100000,155000,140000,204500,142200,226700,133300,225000,156400,163800,126000,163800,126000,220000,150000,145000,115000,204500,138900,162500,130000,150000,107000,175000,110000,226700,133300,252000,129000,150000,125000,252000,129000,225000,156400,110000,265000,182750,130000,100000,153600,106800,137500,81500,314100,195800,205000,180000,165000,144000,160000,100000,200000,145000,150000,100000,199000,112000,105000,70000,130000,180180,106020,160000,135000,183000,134000,220000,150000,350000,262500,122000,94000,276000,184000,310000,239000,225000,156400,180000,150000,228000,152000,209450,158677,175000,145000,240000,170000,103200,61200,63312,237000,145000,240000,139000,174500,113000,130000,87000,160000,108000,165000,107250,300000,119000,285800,154600,60795,30000,220000,195000,168400,105200,206000,160000,200000,175000,231250,138750,153000,94000,240500,123700,160000,90000,124234,74540,109000,79000,50000,275300,183500,275300,183500,160000,125600,170000,120000,225000,140000,141290,74178,150000,120000,85000,75000,220000,160000,205600,107500,120000,95000,185900,129300,160000,130000,12888,250000,175000,136000,104000,80000,52500,110000,84000,125000,110000,90000,80000,200000,135000,120000,130000,75000,252000,129000,150000,100000,226700,133300,190000,165000,170000,150000,150000,130000,225000,156400,200000,80000,12877,17509,257000,134000,77262,38631,205600,105700,140000,110000,299500,245100,210000,151800,53654,51508,40777,51508,40777,160000,135000,120000,95000,250000,63000,237000,145000,130000,90000,120000,100000,174500,113000,183310,183310,145000,102500,210000,185000,174500,113000,122000,94000,220000,146000,300000,130000,24740,145000,128000,182000,140000,122000,94000,77262,38631,300000,200000,135000,105500,252000,129000,136000,104000,168000,130000,78990,43809,120000,95000,153400,122700,185000,160000,205000,185000,204500,142200,145000,87000,50000,234100,203500,223800,172100,180000,150000,232200,167200,197000,106000,180000,145000,225000,200000,170000,114000,291500,180000,196200,150900,168400,105200,95000,80000,116000,72000,207000,167000,145000,135000,105000,70000,180000,115000,133800,96100,120000,80000,140000,100000,150000,120000,140000,115000,297300,198200,297300,198200,202000,135000,110000,84000,219000,230000,196000,140000,110000,150000,100000,160000,110000,185900,129300,126100,72000,170000,150000,175000,140000,240500,137500,187500,165000,72914,210000,165750,225000,165750,109006,67141,135000,115000,275000,175000,170000,140000,175308,100706,235000,135000,310000,229000,289076,202353,69751,37558,120000,100000,226700,133300,125000,85000,130000,80000,120000,100000,231250,138750,199000,162000,160000,135000,200000,150000,160000,120000,250000,200000,150000,120000,150000,100000,272550,198200,182000,140000,200000,160000,204500,142200,120000,105000,187500,175000,204500,142200,155000,64000,235000,185000,174500,113000,143100,113000,184000,142000,140000,120000,174500,113000,180560,115440,140000,120000,248100,145900,120000,110000,291500,180000,75344,63192,161800,141600,58331,46178,166000,128000,170000,110000,160000,75000,236000,182000,150000,100000,261500,134500,130000,90000,160000,135000],\"xaxis\":\"x\",\"yaxis\":\"y\",\"type\":\"histogram\"},{\"alignmentgroup\":\"True\",\"bingroup\":\"x\",\"hovertemplate\":\"color=2022<br>Salary=%{x}<br>count=%{y}<extra></extra>\",\"legendgroup\":\"2022\",\"marker\":{\"color\":\"#EF553B\",\"opacity\":0.5,\"pattern\":{\"shape\":\"\"}},\"name\":\"2022\",\"offsetgroup\":\"2022\",\"orientation\":\"v\",\"showlegend\":true,\"x\":[20984,300000,56536,88256,275000,59888,73546,172309,130000,34320,9289,106000,192000,168000,85000,375000,180000,23000,155000,84053,48000,6304,15897,110000,25216,18314,100000,133000,14307,130000,13989,125000,175000,155000,153600,106800,150000,140000,122000,94500,170000,130000,145000,128000,145000,100000,175000,120000,145000,115000,150000,150000,100000,150000,127500,126500,51000,260000,175000,40000,40000,250000,63000,210000,160000,272550,198200,94560,52533,220000,146000,150000,100000,248400,183600,150000,150000,40000,56723,120000,95000,160000,135000,24165,216000,144000,85000,65000,149000,119000,140000,120000,150000,110000,246000,201000,190000,155000,235000,185000,190000,160000,100000,130000,115000,92350,67723,105000,70000,204500,142200,192000,164000,185900,129300,130000,75000,175000,120000,167500,106500,75000,60000,184000,142000,145000,100000,10000,31795,44365,175000,120000,175000,120000,200000,145000,92350,73880,145000,100000,192000,164000,310000,239000,120000,95000,145000,135000,100000,78000,73546,36773,160000,120000,190000,150000,35610,125000,120000,95000,150000,100000,47280,37824,115934,81666,175000,140000,120000,95000,249500,149850,122500,100000,249500,149850,55000,48000,249500,149850,58837,190000,120000,127000,104000,210000,150000,210000,150000,210000,130000,182750,161500,102640,66100,210000,150000,198800,122600,130000,80000,136000,104000,150000,100000,160000,135000,216000,144000,159000,130000,115934,81666,215000,150000,246000,201000,187000,153000,255000,185000,430967,55410,50432,39925,169000,110600,60938,140000,120000,75000,60000,10000,50000,134000,124000,166700,119000,124234,74540,100000,65000,200000,12000,220000,146000,68293,36773,110000,70000,50000,120000,95000,150000,100000,47280,37824,190000,135000,128000,81500,173000,110000,192000,120000,115934,81666,120000,95000,190000,194000,129400,201000,89200,165000,125000,230000,196000,130000,90000,150000,100000,230000,150000,153600,106800,130000,100000,216000,144000,180000,120000,160000,135000,192500,140000,152500,130000,65000,55000,178750,160000,63040,52533,165000,135000,170000,125000,105000,70000,130000,95000,203500,152000,197430,134760,120000,197000,99000,220000,162000,110446,79178,70186,51716,149040,113900,171000,13000,100000,78000,120000,95000,110000,70000,50000,185900,129300,150000,100000,230000,154600,204500,142200,160000,75000,47280,37824,213000,152000,140000,120000,110000,70000,227200,168000,64090,60938,243000,183000,175000,150000,130000,90000,165000,124000,178000,132000,300000,130000,169000,110600,116000,96000,92350,70186,105000,70000,105236,194000,129400,190000,135000,100000,70000,189750,140250,130000,100000,160000,109000,250000,150000,206000,160000,135000,120000,115573,73546,160000,135000,150000,100000,120000,95000,68293,42026,191200,130000,191200,130000,66192,50000,230000,154600,120000,95000,140000,120000,169000,110600,80000,185900,129300,135000,110000,155000,140000,205000,150000,179500,134000,180000,120000,185900,129300,175000,145000,235000,175000,27317,160000,90000,68293,36773,145000,115000,165000,135000,168400,105200,86193,49253,200000,160000,47280,37824,198800,122600,100000,105066,130000,100000,104663,73880,125000,110000,165000,124000,148000,107000,150000,100000,160000,135000,120000,95000,153600,106800,100000,65000,120000,95000,63040,36773,310000,239000,299500,245100,168000,130000,136000,104000,161000,118000,205000,184000,185900,129300,247500,172200,68293,177000,131000,205000,184000,146000,102000,169000,110600,230000,196000,135000,100000,80000,65000,135000,100000,61566,43096,175000,135000,80000,231250,138750,193750,116250,231250,138750,231250,138750,231250,138750,193750,116250,208000,127000,300000,196000,204500,142200,185900,129300,47280,37824,204500,142200,205000,185000,185900,129300,247500,172200,160000,135000,150000,100000,110000,95000,185900,129300,205000,184000,17684,375000,191200,130000,225000,156400,169000,110600,204500,142200,104663,80036,185900,129300,140700,93800,350000,135000,115934,81666,12000,104697,33000,34672,201000,119000,175000,150000,154560,123648,130000,100000,170000,145000,135000,100000,247500,172200,177500,134000,185900,129300,192564,144854,130000,105000,179305,142127,315000,225000,243900,156600,206000,160000,109000,79000,160000,109000,89306,182500,128500,160000,90000,77300,45600,127000,110000,210000,136000,12608,170000,140000,247500,172200,225000,184100,130000,90000,120000,100000,85000,78000,161000,110000,136000,104000,47280,37824,205000,160000,169000,110600,61566,49253,160000,130000,245000,180000,135000,100000,220000,150000,198440,144000,240000,170000,198440,144000,150000,100000,120000,95000,57872,64000,39925,187200,116100,150000,127000,275000,166000,159699,138938,76000,166700,119000,130000,100000,103432,92350,80000,52500,236000,182000,180000,140000,225000,156400,135000,100000,204500,142200,240000,125404,300000,130000,195000,175000,155000,110000,123000,92250,170000,150000,180000,100000,97000,90000,200000,160000,210000,180000,260000,180000,210000,157000,180000,100000,80000,52500,128000,81500,105000,70000,175000,122500,171000,117000,202800,104300,50432,36773,197000,99000,160000,110000,185900,129300,30000,78000,48000,170000,130000,150000,95000,78000,42000,345600,230400,145000,115000,78000,48000,175950,130050,205600,105700,236600,89200,84000,54000,80000,200000,73742,165000,33246,185900,129300,169000,110600,225000,184100,185900,129300,225000,156400,185900,129300,108000,8000,155000,38000,85000,65000,155000,38000,110820,92350,153600,106800,185000,50000,185900,129300,155000,38000,168000,130000,123400,88100,120000,55000,185900,129300,191200,130000,169000,110600,150000,120000,139000,122000,185900,129300,139600,85700,185000,50000,185900,129300,225000,156400,200000,175000,185900,129300,148500,98200,115000,95000,225000,66000,185000,50000,47280,37824,134000,98000,105000,62000,57000,161311,144200,115360,83171,38154,73546,42026,170000,150000,180000,160000,108000,200000,150000,125976,188700,160395,115934,81666,300000,225000,198440,144000,191475,141525,50432,36773,75648,156868,200000,198440,144000,69344,5132,90000,126080,84053,200000,180000,108000,85000,210000,180000,165000,132000,130000,110000,45050,135000,178800,132100,20000,140000,110000,160000,85000,250000,63000,187200,116100,10000,200000,145000,229998,154545,215000,159000,229998,154545,50000,183000,99750,68400,236900,159200,243225,179775,175000,150000,210000,180000,148000,128000,190000,135000,130000,110000,191475,141525,160000,85000,218000,145300,195400,131300,105000,191475,141525,207000,153000,191475,141525,110000,99000,191475,141525,191475,141525,191475,141525,200000,135000,207000,153000,191475,141525,191475,141525,191475,141525,195700,130500,130000,84000,100000,60000,80036,67723,141300,102100,50432,36773,150000,102200,22892,144000,113000,31520,195400,131300,195400,131300,195400,131300,190000,135000,135000,80000,8050,160000,85000,178800,132100,60000,63040,50000,140000,105000,80036,67723,190000,140000,100000,60000,180000,165000,108000,190000,135000,179400,154000,193900,129300,222640,182160,150000,100000,122500,100000,297500,260000,193000,93000,73000,100000,60000,7799,136994,101570,250000,63000,134000,98000,191475,141525,57786,136000,112000,172000,140000,215000,164000,300000,130000,250000,63000,180000,150000,250000,63000,191475,141525,97500,212800,142800,73546,50000,6359,151800,130240,165000,140250,135000,115000,179400,154000,191475,141525,191475,141525,191475,141525,75000,84053,73546,98506,86193,84053,73546,191475,141525,191475,141525,102663,80041,191475,141525,104611,82280,191475,141525,191475,141525,115000,31520,81000,66000,46000,80000,200000,180000,200000,204100,136100,250000,63000,118208,110820,191475,141525,191475,141525,191475,141525,95000,70000,75000,7500,113000,170000,130000,113000,140000,53368,175000,140000,29944,250000,63000,160000,119300,145000,105000,90000,146200,124270,225000,160000,54634,185800,137400,245000,180000,203500,152000,250000,63000,186000,148800,95386,128058,82000,110000,173000,203500,152000,186000,148800,6270,158000,134000,170000,120000,200000,150000,216200,144100,115573,89306,250000,63000,135000,85000,135000,85000,206000,175100,189650,164996,149040,113900,154000,126000,200000,150000,195700,130500,170000,135000,98506,73880,117000,99450,200000,135000,193900,129300,55410,86193,61566,175000,130000,188100,139860,248700,167100,5723,123400,88100,50432,245000,205000,141300,102100,141300,102100,50000,84053,61566,250000,63000,189500,140100,177600,131300,24000,24000,250000,63000,202900,131300,145000,115000,115000,193900,129300,180000,140000,216200,144100,216000,144000,150000,53416,50000,84053,131752,48000,260500,175100,210000,100000,55000,130000,77119,52008,30523,206699,99100,200000,54000,250000,63000,250000,63000,250000,63000,130000,100000,80000,160000,100000,221300,148700,30000,28368,91118,61566,60938,249260,185400,170000,130000,80036,128875,93700,180000,100000,136260,109280,160000,92000,200000,160000,135446,104663,117000,99450,129000,86000,160000,119300,100000,25000,65257,200000,180000,153000,210000,100000,150075,110925,22800,160000,92000,202900,131300,15000,175000,135000,133766,83000,92350,67723,186000,148800,112900,90320,240000,160000,300000,200000,65666,200000,116976,92350,120000,112900,90320,145000,105400,110820,92350,215300,158200,209100,154600,115934,81666,175000,155000,84053,164000,132000,170000,123000,189650,164996,52533,52533,115222,165400,132320,208775,147800,136994,101570,128875,93700,76309,35093,183600,100800,49253,36940,42026,31520,84053,73546,98506,86193,84053,73546,189650,164996,42026,31520,92350,73880,215300,140400,63040,47280,260000,180000,67723,43096,63040,47280,73880,55410,60000,82900,63900,160000,112300,241000,159000,180000,80000,58000,58000,136000,108800,242000,200000,61566,36940,73880,49253,165220,120160,124190,90320,181940,132320,220110,160080,180000,120000,126500,106260,116000,99000,155000,120600,130000,90000,170000,150000,102100,84900,136620,99360,110820,98506,146000,123000,49253,43096,130000,110000,170000,135000,161342,137141,167000,123000,73880,61566,211500,138600,192400,90700,130000,61300,130000,61300,160000,113000,150000,95550,167000,115500,112900,90320,112900,90320,165400,132320,243900,156600,136600,109280,128875,93700,224000,167875,175000,135000,209100,154600,180000,160000,205300,140400,176000,144000,200100,160000,70500,54000,205300,140400,205300,184700,175100,140250,116150,99050,145000,130000,112900,90320,85000,75000,214000,192600,266400,213120,155000,115000,141300,102100,115934,81666,206699,99100,130000,110500,61566,43096,80000,60000,192564,144854,230000,150000,150260,109280,170000,150000,160000,130000,67000,52000,154000,126000,129000,99000,210000,140000,210000,140000,210000,140000,100000,69000,210000,140000,150075,110925,100000,25000,126500,106260,220110,160080,105000,100000,170000,135000,230000,140000,135000,50000,220000,140000,172386,86193,220000,120000,200000,120000,120000,65000,324000,216000,210000,100000,185100,104890,105000,80000,76814,192037,120000,17805,30523,55685,52533,17805,75000,157000,69133,65000,68293,67597,10000,20000,200000,51081,78000,135000,115000,83864,40000,31520,59888,89306,83171,165000,153000,100000,76814,33609,75000,30469,55475,61989,152500,120000,135000,405000,380000,120402,177000,65141,48000,20000,150000,100000,100000,144000,155499,100000,120000,84053,125000,21013],\"xaxis\":\"x\",\"yaxis\":\"y\",\"type\":\"histogram\"},{\"alignmentgroup\":\"True\",\"bingroup\":\"x\",\"hovertemplate\":\"color=2020<br>Salary=%{x}<br>count=%{y}<extra></extra>\",\"legendgroup\":\"2020\",\"marker\":{\"color\":\"#00cc96\",\"opacity\":0.5,\"pattern\":{\"shape\":\"\"}},\"name\":\"2020\",\"offsetgroup\":\"2020\",\"orientation\":\"v\",\"showlegend\":true,\"x\":[15000,95000,13493,13493,22809,49268,117104,54742,20000,59303,70000,68428,450000,46759,74130,103000,250000,10000,138000,45760,79833,50180,106000,112872,15966,76958,188000,105000,70139,6072,33511,91000,42000,115000,260000,109024,79833,150000,72000,190000,35735,135000,125000,51321,40481,39916,87000,85000,8000,41689,114047,5707,56000,6072,47899,98000,325000,45896,42197,62726,21669,110000,120000,60000,148261,38776,91237,62726,190200,118000,138350,130800,45618,412000,105000,100000],\"xaxis\":\"x\",\"yaxis\":\"y\",\"type\":\"histogram\"},{\"alignmentgroup\":\"True\",\"bingroup\":\"x\",\"hovertemplate\":\"color=2021<br>Salary=%{x}<br>count=%{y}<extra></extra>\",\"legendgroup\":\"2021\",\"marker\":{\"color\":\"#ab63fa\",\"opacity\":0.5,\"pattern\":{\"shape\":\"\"}},\"name\":\"2021\",\"offsetgroup\":\"2021\",\"orientation\":\"v\",\"showlegend\":true,\"x\":[150000,30000,66970,54094,16904,115000,20000,45555,5409,75050,42028,20000,15000,45390,19073,50000,12171,250000,51064,109000,102839,69999,150000,240000,135000,80000,220000,77364,63711,90000,100000,24000,38400,82500,49646,40570,20000,9466,120000,10354,110037,50000,200000,60000,200000,100000,100000,82744,62649,82528,170000,150000,55000,250000,80000,130026,63831,85000,230000,125000,120000,127221,144000,13400,75774,150000,153000,90000,90000,60000,50000,12000,5409,270000,54238,47282,153667,28476,110000,82528,59102,80000,140000,79197,170000,80000,100000,53192,235000,150000,225000,76833,88654,103160,113476,94564,30428,150000,115000,187442,51519,36259,150000,95746,70000,89294,29751,276000,160000,200000,174000,93000,28399,60757,90000,170000,96282,12103,36643,72212,99703,165000,80000,103691,21637,63810,110000,180000,200000,200000,256000,110000,72500,185000,69741,100000,112000,20171,55000,58000,100000,77684,85000,76833,105000,65013,28016,111775,93150,160000,25532,66265,16904,63831,141846,16228,71786,135000,24823,54094,24342,9272,147000,96113,174000,21844,69741,50000,26005,90734,22611,5679,81000,40038,90000,61467,195000,37825,416000,225000,56256,33808,116914,46597,88654,28609,88654,66022,56738,24823,120000,20000,200000,160000,50000,40189,12901,165000,5882,185000,90734,140000,87738,61896,12000,76833,74000,152000,18000,130000,18907,59102,173762,46809,18053,115000,235000,19609,12000,75000,62000,73000,45391,168000,119059,423000,28369,165000,151000,94665],\"xaxis\":\"x\",\"yaxis\":\"y\",\"type\":\"histogram\"}],                        {\"template\":{\"data\":{\"histogram2dcontour\":[{\"type\":\"histogram2dcontour\",\"colorbar\":{\"outlinewidth\":0,\"ticks\":\"\"},\"colorscale\":[[0.0,\"#0d0887\"],[0.1111111111111111,\"#46039f\"],[0.2222222222222222,\"#7201a8\"],[0.3333333333333333,\"#9c179e\"],[0.4444444444444444,\"#bd3786\"],[0.5555555555555556,\"#d8576b\"],[0.6666666666666666,\"#ed7953\"],[0.7777777777777778,\"#fb9f3a\"],[0.8888888888888888,\"#fdca26\"],[1.0,\"#f0f921\"]]}],\"choropleth\":[{\"type\":\"choropleth\",\"colorbar\":{\"outlinewidth\":0,\"ticks\":\"\"}}],\"histogram2d\":[{\"type\":\"histogram2d\",\"colorbar\":{\"outlinewidth\":0,\"ticks\":\"\"},\"colorscale\":[[0.0,\"#0d0887\"],[0.1111111111111111,\"#46039f\"],[0.2222222222222222,\"#7201a8\"],[0.3333333333333333,\"#9c179e\"],[0.4444444444444444,\"#bd3786\"],[0.5555555555555556,\"#d8576b\"],[0.6666666666666666,\"#ed7953\"],[0.7777777777777778,\"#fb9f3a\"],[0.8888888888888888,\"#fdca26\"],[1.0,\"#f0f921\"]]}],\"heatmap\":[{\"type\":\"heatmap\",\"colorbar\":{\"outlinewidth\":0,\"ticks\":\"\"},\"colorscale\":[[0.0,\"#0d0887\"],[0.1111111111111111,\"#46039f\"],[0.2222222222222222,\"#7201a8\"],[0.3333333333333333,\"#9c179e\"],[0.4444444444444444,\"#bd3786\"],[0.5555555555555556,\"#d8576b\"],[0.6666666666666666,\"#ed7953\"],[0.7777777777777778,\"#fb9f3a\"],[0.8888888888888888,\"#fdca26\"],[1.0,\"#f0f921\"]]}],\"heatmapgl\":[{\"type\":\"heatmapgl\",\"colorbar\":{\"outlinewidth\":0,\"ticks\":\"\"},\"colorscale\":[[0.0,\"#0d0887\"],[0.1111111111111111,\"#46039f\"],[0.2222222222222222,\"#7201a8\"],[0.3333333333333333,\"#9c179e\"],[0.4444444444444444,\"#bd3786\"],[0.5555555555555556,\"#d8576b\"],[0.6666666666666666,\"#ed7953\"],[0.7777777777777778,\"#fb9f3a\"],[0.8888888888888888,\"#fdca26\"],[1.0,\"#f0f921\"]]}],\"contourcarpet\":[{\"type\":\"contourcarpet\",\"colorbar\":{\"outlinewidth\":0,\"ticks\":\"\"}}],\"contour\":[{\"type\":\"contour\",\"colorbar\":{\"outlinewidth\":0,\"ticks\":\"\"},\"colorscale\":[[0.0,\"#0d0887\"],[0.1111111111111111,\"#46039f\"],[0.2222222222222222,\"#7201a8\"],[0.3333333333333333,\"#9c179e\"],[0.4444444444444444,\"#bd3786\"],[0.5555555555555556,\"#d8576b\"],[0.6666666666666666,\"#ed7953\"],[0.7777777777777778,\"#fb9f3a\"],[0.8888888888888888,\"#fdca26\"],[1.0,\"#f0f921\"]]}],\"surface\":[{\"type\":\"surface\",\"colorbar\":{\"outlinewidth\":0,\"ticks\":\"\"},\"colorscale\":[[0.0,\"#0d0887\"],[0.1111111111111111,\"#46039f\"],[0.2222222222222222,\"#7201a8\"],[0.3333333333333333,\"#9c179e\"],[0.4444444444444444,\"#bd3786\"],[0.5555555555555556,\"#d8576b\"],[0.6666666666666666,\"#ed7953\"],[0.7777777777777778,\"#fb9f3a\"],[0.8888888888888888,\"#fdca26\"],[1.0,\"#f0f921\"]]}],\"mesh3d\":[{\"type\":\"mesh3d\",\"colorbar\":{\"outlinewidth\":0,\"ticks\":\"\"}}],\"scatter\":[{\"fillpattern\":{\"fillmode\":\"overlay\",\"size\":10,\"solidity\":0.2},\"type\":\"scatter\"}],\"parcoords\":[{\"type\":\"parcoords\",\"line\":{\"colorbar\":{\"outlinewidth\":0,\"ticks\":\"\"}}}],\"scatterpolargl\":[{\"type\":\"scatterpolargl\",\"marker\":{\"colorbar\":{\"outlinewidth\":0,\"ticks\":\"\"}}}],\"bar\":[{\"error_x\":{\"color\":\"#2a3f5f\"},\"error_y\":{\"color\":\"#2a3f5f\"},\"marker\":{\"line\":{\"color\":\"#E5ECF6\",\"width\":0.5},\"pattern\":{\"fillmode\":\"overlay\",\"size\":10,\"solidity\":0.2}},\"type\":\"bar\"}],\"scattergeo\":[{\"type\":\"scattergeo\",\"marker\":{\"colorbar\":{\"outlinewidth\":0,\"ticks\":\"\"}}}],\"scatterpolar\":[{\"type\":\"scatterpolar\",\"marker\":{\"colorbar\":{\"outlinewidth\":0,\"ticks\":\"\"}}}],\"histogram\":[{\"marker\":{\"pattern\":{\"fillmode\":\"overlay\",\"size\":10,\"solidity\":0.2}},\"type\":\"histogram\"}],\"scattergl\":[{\"type\":\"scattergl\",\"marker\":{\"colorbar\":{\"outlinewidth\":0,\"ticks\":\"\"}}}],\"scatter3d\":[{\"type\":\"scatter3d\",\"line\":{\"colorbar\":{\"outlinewidth\":0,\"ticks\":\"\"}},\"marker\":{\"colorbar\":{\"outlinewidth\":0,\"ticks\":\"\"}}}],\"scattermapbox\":[{\"type\":\"scattermapbox\",\"marker\":{\"colorbar\":{\"outlinewidth\":0,\"ticks\":\"\"}}}],\"scatterternary\":[{\"type\":\"scatterternary\",\"marker\":{\"colorbar\":{\"outlinewidth\":0,\"ticks\":\"\"}}}],\"scattercarpet\":[{\"type\":\"scattercarpet\",\"marker\":{\"colorbar\":{\"outlinewidth\":0,\"ticks\":\"\"}}}],\"carpet\":[{\"aaxis\":{\"endlinecolor\":\"#2a3f5f\",\"gridcolor\":\"white\",\"linecolor\":\"white\",\"minorgridcolor\":\"white\",\"startlinecolor\":\"#2a3f5f\"},\"baxis\":{\"endlinecolor\":\"#2a3f5f\",\"gridcolor\":\"white\",\"linecolor\":\"white\",\"minorgridcolor\":\"white\",\"startlinecolor\":\"#2a3f5f\"},\"type\":\"carpet\"}],\"table\":[{\"cells\":{\"fill\":{\"color\":\"#EBF0F8\"},\"line\":{\"color\":\"white\"}},\"header\":{\"fill\":{\"color\":\"#C8D4E3\"},\"line\":{\"color\":\"white\"}},\"type\":\"table\"}],\"barpolar\":[{\"marker\":{\"line\":{\"color\":\"#E5ECF6\",\"width\":0.5},\"pattern\":{\"fillmode\":\"overlay\",\"size\":10,\"solidity\":0.2}},\"type\":\"barpolar\"}],\"pie\":[{\"automargin\":true,\"type\":\"pie\"}]},\"layout\":{\"autotypenumbers\":\"strict\",\"colorway\":[\"#636efa\",\"#EF553B\",\"#00cc96\",\"#ab63fa\",\"#FFA15A\",\"#19d3f3\",\"#FF6692\",\"#B6E880\",\"#FF97FF\",\"#FECB52\"],\"font\":{\"color\":\"#2a3f5f\"},\"hovermode\":\"closest\",\"hoverlabel\":{\"align\":\"left\"},\"paper_bgcolor\":\"white\",\"plot_bgcolor\":\"#E5ECF6\",\"polar\":{\"bgcolor\":\"#E5ECF6\",\"angularaxis\":{\"gridcolor\":\"white\",\"linecolor\":\"white\",\"ticks\":\"\"},\"radialaxis\":{\"gridcolor\":\"white\",\"linecolor\":\"white\",\"ticks\":\"\"}},\"ternary\":{\"bgcolor\":\"#E5ECF6\",\"aaxis\":{\"gridcolor\":\"white\",\"linecolor\":\"white\",\"ticks\":\"\"},\"baxis\":{\"gridcolor\":\"white\",\"linecolor\":\"white\",\"ticks\":\"\"},\"caxis\":{\"gridcolor\":\"white\",\"linecolor\":\"white\",\"ticks\":\"\"}},\"coloraxis\":{\"colorbar\":{\"outlinewidth\":0,\"ticks\":\"\"}},\"colorscale\":{\"sequential\":[[0.0,\"#0d0887\"],[0.1111111111111111,\"#46039f\"],[0.2222222222222222,\"#7201a8\"],[0.3333333333333333,\"#9c179e\"],[0.4444444444444444,\"#bd3786\"],[0.5555555555555556,\"#d8576b\"],[0.6666666666666666,\"#ed7953\"],[0.7777777777777778,\"#fb9f3a\"],[0.8888888888888888,\"#fdca26\"],[1.0,\"#f0f921\"]],\"sequentialminus\":[[0.0,\"#0d0887\"],[0.1111111111111111,\"#46039f\"],[0.2222222222222222,\"#7201a8\"],[0.3333333333333333,\"#9c179e\"],[0.4444444444444444,\"#bd3786\"],[0.5555555555555556,\"#d8576b\"],[0.6666666666666666,\"#ed7953\"],[0.7777777777777778,\"#fb9f3a\"],[0.8888888888888888,\"#fdca26\"],[1.0,\"#f0f921\"]],\"diverging\":[[0,\"#8e0152\"],[0.1,\"#c51b7d\"],[0.2,\"#de77ae\"],[0.3,\"#f1b6da\"],[0.4,\"#fde0ef\"],[0.5,\"#f7f7f7\"],[0.6,\"#e6f5d0\"],[0.7,\"#b8e186\"],[0.8,\"#7fbc41\"],[0.9,\"#4d9221\"],[1,\"#276419\"]]},\"xaxis\":{\"gridcolor\":\"white\",\"linecolor\":\"white\",\"ticks\":\"\",\"title\":{\"standoff\":15},\"zerolinecolor\":\"white\",\"automargin\":true,\"zerolinewidth\":2},\"yaxis\":{\"gridcolor\":\"white\",\"linecolor\":\"white\",\"ticks\":\"\",\"title\":{\"standoff\":15},\"zerolinecolor\":\"white\",\"automargin\":true,\"zerolinewidth\":2},\"scene\":{\"xaxis\":{\"backgroundcolor\":\"#E5ECF6\",\"gridcolor\":\"white\",\"linecolor\":\"white\",\"showbackground\":true,\"ticks\":\"\",\"zerolinecolor\":\"white\",\"gridwidth\":2},\"yaxis\":{\"backgroundcolor\":\"#E5ECF6\",\"gridcolor\":\"white\",\"linecolor\":\"white\",\"showbackground\":true,\"ticks\":\"\",\"zerolinecolor\":\"white\",\"gridwidth\":2},\"zaxis\":{\"backgroundcolor\":\"#E5ECF6\",\"gridcolor\":\"white\",\"linecolor\":\"white\",\"showbackground\":true,\"ticks\":\"\",\"zerolinecolor\":\"white\",\"gridwidth\":2}},\"shapedefaults\":{\"line\":{\"color\":\"#2a3f5f\"}},\"annotationdefaults\":{\"arrowcolor\":\"#2a3f5f\",\"arrowhead\":0,\"arrowwidth\":1},\"geo\":{\"bgcolor\":\"white\",\"landcolor\":\"#E5ECF6\",\"subunitcolor\":\"white\",\"showland\":true,\"showlakes\":true,\"lakecolor\":\"white\"},\"title\":{\"x\":0.05},\"mapbox\":{\"style\":\"light\"}}},\"xaxis\":{\"anchor\":\"y\",\"domain\":[0.0,1.0],\"title\":{\"text\":\"Salary\"}},\"yaxis\":{\"anchor\":\"x\",\"domain\":[0.0,1.0],\"title\":{\"text\":\"count\"}},\"legend\":{\"title\":{\"text\":\"color\"},\"tracegroupgap\":0},\"title\":{\"text\":\"Distribution of Salaries over the Years\"},\"barmode\":\"overlay\"},                        {\"responsive\": true}                    ).then(function(){\n",
              "                            \n",
              "var gd = document.getElementById('280f2647-0e30-491c-af54-4728a13b7b0a');\n",
              "var x = new MutationObserver(function (mutations, observer) {{\n",
              "        var display = window.getComputedStyle(gd).display;\n",
              "        if (!display || display === 'none') {{\n",
              "            console.log([gd, 'removed!']);\n",
              "            Plotly.purge(gd);\n",
              "            observer.disconnect();\n",
              "        }}\n",
              "}});\n",
              "\n",
              "// Listen for the removal of the full notebook cells\n",
              "var notebookContainer = gd.closest('#notebook-container');\n",
              "if (notebookContainer) {{\n",
              "    x.observe(notebookContainer, {childList: true});\n",
              "}}\n",
              "\n",
              "// Listen for the clearing of the current output cell\n",
              "var outputEl = gd.closest('.output');\n",
              "if (outputEl) {{\n",
              "    x.observe(outputEl, {childList: true});\n",
              "}}\n",
              "\n",
              "                        })                };                            </script>        </div>\n",
              "</body>\n",
              "</html>"
            ]
          },
          "metadata": {}
        }
      ]
    },
    {
      "cell_type": "markdown",
      "source": [
        "The distribution of salaries is rightly skewed i.e. fewer number of values have higher magnitudes."
      ],
      "metadata": {
        "id": "eLVZjjgJRXJm"
      }
    },
    {
      "cell_type": "markdown",
      "source": [
        "# 18) Analyze the number of job posts over the years."
      ],
      "metadata": {
        "id": "oW1UxGL6RX-o"
      }
    },
    {
      "cell_type": "code",
      "source": [
        "xdf=df['work_year'].value_counts()\n",
        "xdf"
      ],
      "metadata": {
        "id": "iR2QlL3TRij3",
        "colab": {
          "base_uri": "https://localhost:8080/"
        },
        "outputId": "e2f6d5d7-94a9-4c0a-d443-21bdcb143098"
      },
      "execution_count": null,
      "outputs": [
        {
          "output_type": "execute_result",
          "data": {
            "text/plain": [
              "2023    1785\n",
              "2022    1664\n",
              "2021     230\n",
              "2020      76\n",
              "Name: work_year, dtype: int64"
            ]
          },
          "metadata": {},
          "execution_count": 252
        }
      ]
    },
    {
      "cell_type": "code",
      "source": [
        "px.pie(values=xdf, names=xdf.index, title='Proportion of No. of Posts')"
      ],
      "metadata": {
        "id": "SMKgtAHfRmAT",
        "colab": {
          "base_uri": "https://localhost:8080/",
          "height": 542
        },
        "outputId": "3f7cae06-24ff-4fe7-fd20-c728aa1a79b6"
      },
      "execution_count": null,
      "outputs": [
        {
          "output_type": "display_data",
          "data": {
            "text/html": [
              "<html>\n",
              "<head><meta charset=\"utf-8\" /></head>\n",
              "<body>\n",
              "    <div>            <script src=\"https://cdnjs.cloudflare.com/ajax/libs/mathjax/2.7.5/MathJax.js?config=TeX-AMS-MML_SVG\"></script><script type=\"text/javascript\">if (window.MathJax && window.MathJax.Hub && window.MathJax.Hub.Config) {window.MathJax.Hub.Config({SVG: {font: \"STIX-Web\"}});}</script>                <script type=\"text/javascript\">window.PlotlyConfig = {MathJaxConfig: 'local'};</script>\n",
              "        <script src=\"https://cdn.plot.ly/plotly-2.18.2.min.js\"></script>                <div id=\"ce41f607-59fa-420d-86f8-657efda4832e\" class=\"plotly-graph-div\" style=\"height:525px; width:100%;\"></div>            <script type=\"text/javascript\">                                    window.PLOTLYENV=window.PLOTLYENV || {};                                    if (document.getElementById(\"ce41f607-59fa-420d-86f8-657efda4832e\")) {                    Plotly.newPlot(                        \"ce41f607-59fa-420d-86f8-657efda4832e\",                        [{\"domain\":{\"x\":[0.0,1.0],\"y\":[0.0,1.0]},\"hovertemplate\":\"label=%{label}<br>value=%{value}<extra></extra>\",\"labels\":[2023,2022,2021,2020],\"legendgroup\":\"\",\"name\":\"\",\"showlegend\":true,\"values\":[1785,1664,230,76],\"type\":\"pie\"}],                        {\"template\":{\"data\":{\"histogram2dcontour\":[{\"type\":\"histogram2dcontour\",\"colorbar\":{\"outlinewidth\":0,\"ticks\":\"\"},\"colorscale\":[[0.0,\"#0d0887\"],[0.1111111111111111,\"#46039f\"],[0.2222222222222222,\"#7201a8\"],[0.3333333333333333,\"#9c179e\"],[0.4444444444444444,\"#bd3786\"],[0.5555555555555556,\"#d8576b\"],[0.6666666666666666,\"#ed7953\"],[0.7777777777777778,\"#fb9f3a\"],[0.8888888888888888,\"#fdca26\"],[1.0,\"#f0f921\"]]}],\"choropleth\":[{\"type\":\"choropleth\",\"colorbar\":{\"outlinewidth\":0,\"ticks\":\"\"}}],\"histogram2d\":[{\"type\":\"histogram2d\",\"colorbar\":{\"outlinewidth\":0,\"ticks\":\"\"},\"colorscale\":[[0.0,\"#0d0887\"],[0.1111111111111111,\"#46039f\"],[0.2222222222222222,\"#7201a8\"],[0.3333333333333333,\"#9c179e\"],[0.4444444444444444,\"#bd3786\"],[0.5555555555555556,\"#d8576b\"],[0.6666666666666666,\"#ed7953\"],[0.7777777777777778,\"#fb9f3a\"],[0.8888888888888888,\"#fdca26\"],[1.0,\"#f0f921\"]]}],\"heatmap\":[{\"type\":\"heatmap\",\"colorbar\":{\"outlinewidth\":0,\"ticks\":\"\"},\"colorscale\":[[0.0,\"#0d0887\"],[0.1111111111111111,\"#46039f\"],[0.2222222222222222,\"#7201a8\"],[0.3333333333333333,\"#9c179e\"],[0.4444444444444444,\"#bd3786\"],[0.5555555555555556,\"#d8576b\"],[0.6666666666666666,\"#ed7953\"],[0.7777777777777778,\"#fb9f3a\"],[0.8888888888888888,\"#fdca26\"],[1.0,\"#f0f921\"]]}],\"heatmapgl\":[{\"type\":\"heatmapgl\",\"colorbar\":{\"outlinewidth\":0,\"ticks\":\"\"},\"colorscale\":[[0.0,\"#0d0887\"],[0.1111111111111111,\"#46039f\"],[0.2222222222222222,\"#7201a8\"],[0.3333333333333333,\"#9c179e\"],[0.4444444444444444,\"#bd3786\"],[0.5555555555555556,\"#d8576b\"],[0.6666666666666666,\"#ed7953\"],[0.7777777777777778,\"#fb9f3a\"],[0.8888888888888888,\"#fdca26\"],[1.0,\"#f0f921\"]]}],\"contourcarpet\":[{\"type\":\"contourcarpet\",\"colorbar\":{\"outlinewidth\":0,\"ticks\":\"\"}}],\"contour\":[{\"type\":\"contour\",\"colorbar\":{\"outlinewidth\":0,\"ticks\":\"\"},\"colorscale\":[[0.0,\"#0d0887\"],[0.1111111111111111,\"#46039f\"],[0.2222222222222222,\"#7201a8\"],[0.3333333333333333,\"#9c179e\"],[0.4444444444444444,\"#bd3786\"],[0.5555555555555556,\"#d8576b\"],[0.6666666666666666,\"#ed7953\"],[0.7777777777777778,\"#fb9f3a\"],[0.8888888888888888,\"#fdca26\"],[1.0,\"#f0f921\"]]}],\"surface\":[{\"type\":\"surface\",\"colorbar\":{\"outlinewidth\":0,\"ticks\":\"\"},\"colorscale\":[[0.0,\"#0d0887\"],[0.1111111111111111,\"#46039f\"],[0.2222222222222222,\"#7201a8\"],[0.3333333333333333,\"#9c179e\"],[0.4444444444444444,\"#bd3786\"],[0.5555555555555556,\"#d8576b\"],[0.6666666666666666,\"#ed7953\"],[0.7777777777777778,\"#fb9f3a\"],[0.8888888888888888,\"#fdca26\"],[1.0,\"#f0f921\"]]}],\"mesh3d\":[{\"type\":\"mesh3d\",\"colorbar\":{\"outlinewidth\":0,\"ticks\":\"\"}}],\"scatter\":[{\"fillpattern\":{\"fillmode\":\"overlay\",\"size\":10,\"solidity\":0.2},\"type\":\"scatter\"}],\"parcoords\":[{\"type\":\"parcoords\",\"line\":{\"colorbar\":{\"outlinewidth\":0,\"ticks\":\"\"}}}],\"scatterpolargl\":[{\"type\":\"scatterpolargl\",\"marker\":{\"colorbar\":{\"outlinewidth\":0,\"ticks\":\"\"}}}],\"bar\":[{\"error_x\":{\"color\":\"#2a3f5f\"},\"error_y\":{\"color\":\"#2a3f5f\"},\"marker\":{\"line\":{\"color\":\"#E5ECF6\",\"width\":0.5},\"pattern\":{\"fillmode\":\"overlay\",\"size\":10,\"solidity\":0.2}},\"type\":\"bar\"}],\"scattergeo\":[{\"type\":\"scattergeo\",\"marker\":{\"colorbar\":{\"outlinewidth\":0,\"ticks\":\"\"}}}],\"scatterpolar\":[{\"type\":\"scatterpolar\",\"marker\":{\"colorbar\":{\"outlinewidth\":0,\"ticks\":\"\"}}}],\"histogram\":[{\"marker\":{\"pattern\":{\"fillmode\":\"overlay\",\"size\":10,\"solidity\":0.2}},\"type\":\"histogram\"}],\"scattergl\":[{\"type\":\"scattergl\",\"marker\":{\"colorbar\":{\"outlinewidth\":0,\"ticks\":\"\"}}}],\"scatter3d\":[{\"type\":\"scatter3d\",\"line\":{\"colorbar\":{\"outlinewidth\":0,\"ticks\":\"\"}},\"marker\":{\"colorbar\":{\"outlinewidth\":0,\"ticks\":\"\"}}}],\"scattermapbox\":[{\"type\":\"scattermapbox\",\"marker\":{\"colorbar\":{\"outlinewidth\":0,\"ticks\":\"\"}}}],\"scatterternary\":[{\"type\":\"scatterternary\",\"marker\":{\"colorbar\":{\"outlinewidth\":0,\"ticks\":\"\"}}}],\"scattercarpet\":[{\"type\":\"scattercarpet\",\"marker\":{\"colorbar\":{\"outlinewidth\":0,\"ticks\":\"\"}}}],\"carpet\":[{\"aaxis\":{\"endlinecolor\":\"#2a3f5f\",\"gridcolor\":\"white\",\"linecolor\":\"white\",\"minorgridcolor\":\"white\",\"startlinecolor\":\"#2a3f5f\"},\"baxis\":{\"endlinecolor\":\"#2a3f5f\",\"gridcolor\":\"white\",\"linecolor\":\"white\",\"minorgridcolor\":\"white\",\"startlinecolor\":\"#2a3f5f\"},\"type\":\"carpet\"}],\"table\":[{\"cells\":{\"fill\":{\"color\":\"#EBF0F8\"},\"line\":{\"color\":\"white\"}},\"header\":{\"fill\":{\"color\":\"#C8D4E3\"},\"line\":{\"color\":\"white\"}},\"type\":\"table\"}],\"barpolar\":[{\"marker\":{\"line\":{\"color\":\"#E5ECF6\",\"width\":0.5},\"pattern\":{\"fillmode\":\"overlay\",\"size\":10,\"solidity\":0.2}},\"type\":\"barpolar\"}],\"pie\":[{\"automargin\":true,\"type\":\"pie\"}]},\"layout\":{\"autotypenumbers\":\"strict\",\"colorway\":[\"#636efa\",\"#EF553B\",\"#00cc96\",\"#ab63fa\",\"#FFA15A\",\"#19d3f3\",\"#FF6692\",\"#B6E880\",\"#FF97FF\",\"#FECB52\"],\"font\":{\"color\":\"#2a3f5f\"},\"hovermode\":\"closest\",\"hoverlabel\":{\"align\":\"left\"},\"paper_bgcolor\":\"white\",\"plot_bgcolor\":\"#E5ECF6\",\"polar\":{\"bgcolor\":\"#E5ECF6\",\"angularaxis\":{\"gridcolor\":\"white\",\"linecolor\":\"white\",\"ticks\":\"\"},\"radialaxis\":{\"gridcolor\":\"white\",\"linecolor\":\"white\",\"ticks\":\"\"}},\"ternary\":{\"bgcolor\":\"#E5ECF6\",\"aaxis\":{\"gridcolor\":\"white\",\"linecolor\":\"white\",\"ticks\":\"\"},\"baxis\":{\"gridcolor\":\"white\",\"linecolor\":\"white\",\"ticks\":\"\"},\"caxis\":{\"gridcolor\":\"white\",\"linecolor\":\"white\",\"ticks\":\"\"}},\"coloraxis\":{\"colorbar\":{\"outlinewidth\":0,\"ticks\":\"\"}},\"colorscale\":{\"sequential\":[[0.0,\"#0d0887\"],[0.1111111111111111,\"#46039f\"],[0.2222222222222222,\"#7201a8\"],[0.3333333333333333,\"#9c179e\"],[0.4444444444444444,\"#bd3786\"],[0.5555555555555556,\"#d8576b\"],[0.6666666666666666,\"#ed7953\"],[0.7777777777777778,\"#fb9f3a\"],[0.8888888888888888,\"#fdca26\"],[1.0,\"#f0f921\"]],\"sequentialminus\":[[0.0,\"#0d0887\"],[0.1111111111111111,\"#46039f\"],[0.2222222222222222,\"#7201a8\"],[0.3333333333333333,\"#9c179e\"],[0.4444444444444444,\"#bd3786\"],[0.5555555555555556,\"#d8576b\"],[0.6666666666666666,\"#ed7953\"],[0.7777777777777778,\"#fb9f3a\"],[0.8888888888888888,\"#fdca26\"],[1.0,\"#f0f921\"]],\"diverging\":[[0,\"#8e0152\"],[0.1,\"#c51b7d\"],[0.2,\"#de77ae\"],[0.3,\"#f1b6da\"],[0.4,\"#fde0ef\"],[0.5,\"#f7f7f7\"],[0.6,\"#e6f5d0\"],[0.7,\"#b8e186\"],[0.8,\"#7fbc41\"],[0.9,\"#4d9221\"],[1,\"#276419\"]]},\"xaxis\":{\"gridcolor\":\"white\",\"linecolor\":\"white\",\"ticks\":\"\",\"title\":{\"standoff\":15},\"zerolinecolor\":\"white\",\"automargin\":true,\"zerolinewidth\":2},\"yaxis\":{\"gridcolor\":\"white\",\"linecolor\":\"white\",\"ticks\":\"\",\"title\":{\"standoff\":15},\"zerolinecolor\":\"white\",\"automargin\":true,\"zerolinewidth\":2},\"scene\":{\"xaxis\":{\"backgroundcolor\":\"#E5ECF6\",\"gridcolor\":\"white\",\"linecolor\":\"white\",\"showbackground\":true,\"ticks\":\"\",\"zerolinecolor\":\"white\",\"gridwidth\":2},\"yaxis\":{\"backgroundcolor\":\"#E5ECF6\",\"gridcolor\":\"white\",\"linecolor\":\"white\",\"showbackground\":true,\"ticks\":\"\",\"zerolinecolor\":\"white\",\"gridwidth\":2},\"zaxis\":{\"backgroundcolor\":\"#E5ECF6\",\"gridcolor\":\"white\",\"linecolor\":\"white\",\"showbackground\":true,\"ticks\":\"\",\"zerolinecolor\":\"white\",\"gridwidth\":2}},\"shapedefaults\":{\"line\":{\"color\":\"#2a3f5f\"}},\"annotationdefaults\":{\"arrowcolor\":\"#2a3f5f\",\"arrowhead\":0,\"arrowwidth\":1},\"geo\":{\"bgcolor\":\"white\",\"landcolor\":\"#E5ECF6\",\"subunitcolor\":\"white\",\"showland\":true,\"showlakes\":true,\"lakecolor\":\"white\"},\"title\":{\"x\":0.05},\"mapbox\":{\"style\":\"light\"}}},\"legend\":{\"tracegroupgap\":0},\"title\":{\"text\":\"Proportion of No. of Posts\"}},                        {\"responsive\": true}                    ).then(function(){\n",
              "                            \n",
              "var gd = document.getElementById('ce41f607-59fa-420d-86f8-657efda4832e');\n",
              "var x = new MutationObserver(function (mutations, observer) {{\n",
              "        var display = window.getComputedStyle(gd).display;\n",
              "        if (!display || display === 'none') {{\n",
              "            console.log([gd, 'removed!']);\n",
              "            Plotly.purge(gd);\n",
              "            observer.disconnect();\n",
              "        }}\n",
              "}});\n",
              "\n",
              "// Listen for the removal of the full notebook cells\n",
              "var notebookContainer = gd.closest('#notebook-container');\n",
              "if (notebookContainer) {{\n",
              "    x.observe(notebookContainer, {childList: true});\n",
              "}}\n",
              "\n",
              "// Listen for the clearing of the current output cell\n",
              "var outputEl = gd.closest('.output');\n",
              "if (outputEl) {{\n",
              "    x.observe(outputEl, {childList: true});\n",
              "}}\n",
              "\n",
              "                        })                };                            </script>        </div>\n",
              "</body>\n",
              "</html>"
            ]
          },
          "metadata": {}
        }
      ]
    },
    {
      "cell_type": "markdown",
      "source": [
        "The year 2023 contributes maximum number of posts followed by year 2022. We can see that the field is growing immensely and will continue to do.\n",
        "\n",
        "If you find this notebook useful please upvote and if you have any sugesstions or queries please feel free to contact me. Let's grow together. Thank you.\n",
        "\n",
        "The End¶"
      ],
      "metadata": {
        "id": "G-XZ72P2Rp8X"
      }
    }
  ]
}